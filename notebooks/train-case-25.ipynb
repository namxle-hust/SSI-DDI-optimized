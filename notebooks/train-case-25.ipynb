{
 "cells": [
  {
   "cell_type": "code",
   "execution_count": 1,
   "metadata": {
    "colab": {
     "base_uri": "https://localhost:8080/"
    },
    "executionInfo": {
     "elapsed": 10617,
     "status": "ok",
     "timestamp": 1729307085000,
     "user": {
      "displayName": "Nam Le",
      "userId": "10910051602335296858"
     },
     "user_tz": -420
    },
    "id": "k4UhRVN-PNYi",
    "outputId": "3a910cb5-bb67-4fa2-d833-c4790dab293c"
   },
   "outputs": [],
   "source": [
    "# !pip install torch_geometric rdkit torch"
   ]
  },
  {
   "cell_type": "code",
   "execution_count": 2,
   "metadata": {
    "id": "YKUU9J_HnRwg"
   },
   "outputs": [],
   "source": [
    "from datetime import datetime\n",
    "import time\n",
    "import argparse\n",
    "import sys\n",
    "import torch\n",
    "from torch import optim\n",
    "from torch import nn\n",
    "import torch.nn.functional as F\n",
    "from sklearn import metrics\n",
    "import pandas as pd\n",
    "import numpy as np\n",
    "from torch.nn.modules.container import ModuleList\n",
    "from torch_geometric.nn import (\n",
    "    GATConv,\n",
    "    SAGPooling,\n",
    "    LayerNorm,\n",
    "    global_mean_pool,\n",
    "    max_pool_neighbor_x,\n",
    "    global_add_pool,\n",
    ")\n"
   ]
  },
  {
   "cell_type": "code",
   "execution_count": 3,
   "metadata": {},
   "outputs": [],
   "source": [
    "# Directory configuration\n",
    "data_dir = \"data\"\n",
    "model_dir = \"models\"\n",
    "model_name = \"case25\"\n",
    "\n",
    "# sys.path.append('/content/drive/MyDrive/Colab Notebooks')"
   ]
  },
  {
   "cell_type": "code",
   "execution_count": 4,
   "metadata": {},
   "outputs": [],
   "source": [
    "####### Tunning parameters #######\n",
    "\n",
    "# Number of epochs\n",
    "n_epochs = 300\n",
    "\n",
    "# SagPooling ratio & min score. \n",
    "# Set sp_ratio to None to disable ratio in SagPooling\n",
    "sp_ratio = None\n",
    "sp_min_score = None\n",
    "\n",
    "# Enable using gpu\n",
    "use_cuda = True\n",
    "\n",
    "# Use activation function for CoAttention Layer\n",
    "use_activation_fn = False\n",
    "\n",
    "# Use ComplEx instead of RESCAL\n",
    "use_ComplEx = False\n",
    "\n",
    "# Use improved CoAttention Layer\n",
    "# Could be \"original\" || \"improved\" || \"multihead\"\n",
    "co_attention_method = \"multihead\"\n",
    "\n",
    "# Use Explicit Valence\n",
    "use_explicit_valence = False\n",
    "\n",
    "# Number of GAT layers\n",
    "num_GAT_layers = 6\n",
    "\n",
    "# Number of GAT multiheads\n",
    "num_GAT_multiheads = 2\n",
    "\n",
    "#################################"
   ]
  },
  {
   "cell_type": "code",
   "execution_count": 5,
   "metadata": {
    "colab": {
     "base_uri": "https://localhost:8080/"
    },
    "executionInfo": {
     "elapsed": 14083,
     "status": "ok",
     "timestamp": 1729307119217,
     "user": {
      "displayName": "Nam Le",
      "userId": "10910051602335296858"
     },
     "user_tz": -420
    },
    "id": "Ws9OIlmzPrsJ",
    "outputId": "f4ec9a42-5720-436e-fa2a-544d564381c4"
   },
   "outputs": [
    {
     "name": "stderr",
     "output_type": "stream",
     "text": [
      "/mnt/d/Documents/Github/glsofort/SSI-DDI-test/notebook/data_preprocessing.py:113: UserWarning: The use of `x.T` on tensors of dimension other than 2 to reverse their shape is deprecated and it will throw an error in a future release. Consider `x.mT` to transpose batches of matrices or `x.permute(*torch.arange(x.ndim - 1, -1, -1))` to reverse the dimensions of a tensor. (Triggered internally at ../aten/src/ATen/native/TensorShape.cpp:3683.)\n",
      "  return undirected_edge_list.T, features\n"
     ]
    }
   ],
   "source": [
    "# If using explicit valence feature\n",
    "if use_explicit_valence:\n",
    "    from data_preprocessing_explicit_valence import DrugDataset, DrugDataLoader, TOTAL_ATOM_FEATS\n",
    "else:\n",
    "    from data_preprocessing import DrugDataset, DrugDataLoader, TOTAL_ATOM_FEATS"
   ]
  },
  {
   "cell_type": "code",
   "execution_count": 6,
   "metadata": {},
   "outputs": [
    {
     "name": "stdout",
     "output_type": "stream",
     "text": [
      "cuda\n",
      "Epochs: 300\n",
      "Total of atom features: 55\n"
     ]
    }
   ],
   "source": [
    "mode = \"train\"\n",
    "\n",
    "n_atom_feats = TOTAL_ATOM_FEATS\n",
    "# Not use\n",
    "n_atom_hid = 64\n",
    "# Total interactions information in the Interaction_information.csv\n",
    "rel_total = 86\n",
    "lr = 1e-2\n",
    "weight_decay = 5e-4\n",
    "neg_samples = 1\n",
    "# Represents the number of samples (or graph instances) loaded in each batch during the training process.\n",
    "batch_size = 1024\n",
    "data_size_ratio = 1\n",
    "kge_dim = 64\n",
    "\n",
    "device = \"cuda\" if torch.cuda.is_available() and use_cuda else \"cpu\"\n",
    "\n",
    "print(device)\n",
    "print(f\"Epochs: {n_epochs}\")\n",
    "print(f\"Total of atom features: {TOTAL_ATOM_FEATS}\")"
   ]
  },
  {
   "cell_type": "code",
   "execution_count": 7,
   "metadata": {},
   "outputs": [],
   "source": [
    "def print_tunning_parameters():\n",
    "    print()\n",
    "    print(\"####### Tunning parameters #######\")\n",
    "    print()\n",
    "    \n",
    "    print(\"n_epochs =\", n_epochs)\n",
    "    print(\"use_cuda =\", use_cuda)\n",
    "    print()\n",
    "    print(\"num_GAT_layers = \", num_GAT_layers)\n",
    "    print(\"num_GAT_multiheads = \", num_GAT_multiheads)\n",
    "    print()\n",
    "    print(\"sp_ratio =\", sp_ratio)\n",
    "    print(\"sp_min_score =\", sp_min_score)\n",
    "    print()\n",
    "    print(\"use_explicit_valence =\", use_explicit_valence)\n",
    "    print()\n",
    "    print(\"use_activation_fn =\", use_activation_fn)\n",
    "    print()\n",
    "    print(\"use_ComplEx =\", use_ComplEx)\n",
    "    print()\n",
    "    print(\"co_attention_method =\", co_attention_method)\n",
    "    \n",
    "    print()\n",
    "    print(\"#################################\")\n",
    "    print()\n"
   ]
  },
  {
   "cell_type": "code",
   "execution_count": 8,
   "metadata": {
    "id": "qfaqIm8ZOwx9"
   },
   "outputs": [],
   "source": [
    "class CoAttentionLayer(nn.Module):\n",
    "    def __init__(self, n_features, use_activation_fn=True):\n",
    "        super().__init__()\n",
    "        self.n_features = n_features\n",
    "        self.w_q = nn.Parameter(torch.zeros(n_features, n_features // 2))\n",
    "        self.w_k = nn.Parameter(torch.zeros(n_features, n_features // 2))\n",
    "        self.bias = nn.Parameter(torch.zeros(n_features // 2))\n",
    "        self.a = nn.Parameter(torch.zeros(n_features // 2))\n",
    "        self.use_activation_fn = use_activation_fn\n",
    "\n",
    "        nn.init.xavier_uniform_(self.w_q)\n",
    "        nn.init.xavier_uniform_(self.w_k)\n",
    "        nn.init.xavier_uniform_(self.bias.view(*self.bias.shape, -1))\n",
    "        nn.init.xavier_uniform_(self.a.view(*self.a.shape, -1))\n",
    "\n",
    "    def forward(self, receiver, attendant):\n",
    "        # receiver.shape  = (1024, 4, 64)\n",
    "        # attendant.shape = (1024, 4, 64)\n",
    "        keys = receiver @ self.w_k\n",
    "        queries = attendant @ self.w_q\n",
    "        # values = receiver @ self.w_v\n",
    "        values = receiver\n",
    "\n",
    "        # queries.shape = (1024, 4, 32)\n",
    "        # keys.shape = (1024, 4, 32)\n",
    "        e_activations = queries.unsqueeze(-3) + keys.unsqueeze(-2) + self.bias\n",
    "        if self.use_activation_fn:\n",
    "            e_scores = torch.tanh(e_activations) @ self.a\n",
    "        else:\n",
    "            e_scores = e_activations @ self.a\n",
    "        attentions = e_scores\n",
    "\n",
    "        return attentions\n",
    "\n",
    "\n",
    "class MultiheadCoAttentionLayer(nn.Module):\n",
    "    def __init__(self, n_features, use_activation_fn=True, dropout=0.1, n_heads=2):\n",
    "        super().__init__()\n",
    "        self.n_features = n_features\n",
    "        self.n_heads = n_heads\n",
    "\n",
    "        \n",
    "        self.W_q = nn.ParameterList([torch.zeros(self.n_features, self.n_features // n_heads) for _ in range(n_heads)])\n",
    "        self.W_k = nn.ParameterList([torch.zeros(self.n_features, self.n_features // n_heads) for _ in range(n_heads)])\n",
    "        \n",
    "        self.a = nn.Parameter(torch.zeros(self.n_features))\n",
    "        self.bias = nn.ParameterList([torch.zeros(self.n_features // n_heads) for _ in range(n_heads)])\n",
    "        \n",
    "        self.use_activation_fn = use_activation_fn\n",
    "\n",
    "        self.dropout = nn.Dropout(dropout)\n",
    "\n",
    "        for i in range(n_heads):\n",
    "            nn.init.xavier_uniform_(self.W_q[i])\n",
    "            nn.init.xavier_uniform_(self.W_k[i])\n",
    "            nn.init.xavier_uniform_(self.bias[i].view(*self.bias[i].shape, -1))\n",
    "        \n",
    "        nn.init.xavier_uniform_(self.a.view(*self.a.shape, -1))\n",
    "\n",
    "    def forward(self, receiver, attendant):\n",
    "        # receiver.shape  = (1024, 4, 64)\n",
    "        # attendant.shape = (1024, 4, 64)\n",
    "\n",
    "        # Compute attention score for each head\n",
    "        head_outputs = []\n",
    "        for i in range(self.n_heads):\n",
    "            keys = receiver @ self.W_k[i]\n",
    "            queries = attendant @ self.W_q[i]\n",
    "            # print(\"keys.shape = \", keys.shape)\n",
    "            e_activations = queries.unsqueeze(-3) + keys.unsqueeze(-2) + self.bias[i]\n",
    "            # print(\"e_activations.shape = \", e_activations.shape)\n",
    "            head_outputs.append(e_activations)\n",
    "\n",
    "        # Average the outputs from all heads\n",
    "        # e_activations_avg.shape = (1024, 4, 4, 32)\n",
    "        e_activations_avg = torch.cat(head_outputs, dim=-1)\n",
    "        # print(\"e_activations_avg.shape = \", e_activations_avg.shape)\n",
    "        \n",
    "        if self.use_activation_fn:\n",
    "            e_scores = torch.tanh(e_activations_avg) @ self.a\n",
    "        else:\n",
    "            e_scores = e_activations_avg @ self.a\n",
    "\n",
    "        # attentions.shape = (1024, 4, 4)\n",
    "        attentions = e_scores\n",
    "\n",
    "        return attentions\n",
    "\n",
    "class CoAttentionLayerImproved(nn.Module):\n",
    "    def __init__(self, n_features, use_activation_fn=True, dropout=0.1, n_heads=2):\n",
    "        super().__init__()\n",
    "        self.n_features = n_features\n",
    "        self.n_heads = n_heads\n",
    "        self.head_dim = n_features // n_heads\n",
    "\n",
    "        # Projects for queries and keys per head\n",
    "        self.w_q = nn.Parameter(torch.zeros(self.head_dim, self.head_dim // 2))\n",
    "        self.w_k = nn.Parameter(torch.zeros(self.head_dim, self.head_dim // 2))\n",
    "        self.bias = nn.Parameter(torch.zeros(self.n_features // 2))\n",
    "        self.a = nn.Parameter(torch.zeros(self.n_features // 2))\n",
    "        self.use_activation_fn = use_activation_fn\n",
    "\n",
    "        self.dropout = nn.Dropout(dropout)\n",
    "\n",
    "        nn.init.xavier_uniform_(self.w_q)\n",
    "        nn.init.xavier_uniform_(self.w_k)\n",
    "        nn.init.xavier_uniform_(self.bias.view(*self.bias.shape, -1))\n",
    "        nn.init.xavier_uniform_(self.a.view(*self.a.shape, -1))\n",
    "\n",
    "    def forward(self, receiver, attendant):\n",
    "        # receiver.shape  = (1024, 4, 64)\n",
    "        # attendant.shape = (1024, 4, 64)\n",
    "\n",
    "        # Split reciever and attendant into multiple heads\n",
    "        batch_size, gat_size, n_features = receiver.shape\n",
    "        receiver = receiver.view(batch_size, gat_size, self.n_heads, self.head_dim)\n",
    "        attendant = attendant.view(batch_size, gat_size, self.n_heads, self.head_dim)\n",
    "        \n",
    "        # Compute keys and queries per head\n",
    "        # receiver.shape  = (1024, 4, 2, 32)\n",
    "        # attendant.shape = (1024, 4, 2, 32)\n",
    "        \n",
    "        # self.w_k.shape  = (32, 16)\n",
    "        # self.w_q.shape  = (32, 16)\n",
    "        \n",
    "        # self.keys.shape     = (1024, 4, 2, 16)\n",
    "        # self.queries.shape  = (1024, 4, 2, 16)\n",
    "        keys = receiver @ self.w_k\n",
    "        queries = attendant @ self.w_q\n",
    "\n",
    "        # self.keys.shape     = (1024, 4, 32)\n",
    "        # self.queries.shape  = (1024, 4, 32)\n",
    "        keys    = keys.view(batch_size, gat_size, self.head_dim)\n",
    "        queries = queries.view(batch_size, gat_size, self.head_dim)\n",
    "        # print(\"keys.shape\", keys.shape)\n",
    "        # print(\"queries.shape\", queries.shape)\n",
    "\n",
    "        # e_activations.shape = (1024, 4, 4, 32)\n",
    "        # self.a.shape = (32,)\n",
    "        e_activations = queries.unsqueeze(-3) + keys.unsqueeze(-2) + self.bias\n",
    "        if self.use_activation_fn:\n",
    "            e_scores = torch.tanh(e_activations) @ self.a\n",
    "        else:\n",
    "            e_scores = e_activations @ self.a\n",
    "\n",
    "        # attentions.shape = (1024, 4, 4)\n",
    "        attentions = e_scores\n",
    "\n",
    "        return attentions\n",
    "\n",
    "\n",
    "class RESCAL(nn.Module):\n",
    "    def __init__(self, n_rels, n_features):\n",
    "        \"\"\"\n",
    "        n_rels: number of relations = 86\n",
    "        n_features: kge_dim = 64\n",
    "        \"\"\"\n",
    "        super().__init__()\n",
    "        self.n_rels = n_rels\n",
    "        self.n_features = n_features\n",
    "        # Embedding layer\n",
    "        self.rel_emb = nn.Embedding(self.n_rels, n_features * n_features)\n",
    "        #  Initializes the embedding weights with the Xavier uniform distribution, which helps maintain the scale of gradients during training\n",
    "        nn.init.xavier_uniform_(self.rel_emb.weight)\n",
    "\n",
    "    def forward(self, heads, tails, rels, alpha_scores):\n",
    "        rels = self.rel_emb(rels)\n",
    "        rels = F.normalize(rels, dim=-1)\n",
    "        heads = F.normalize(heads, dim=-1)\n",
    "        tails = F.normalize(tails, dim=-1)\n",
    "        # print(rels.shape)\n",
    "        # Convert shape (1024, 4096) to (1024, 64, 64) for dot product\n",
    "        rels = rels.view(-1, self.n_features, self.n_features)\n",
    "        # print(rels.shape)\n",
    "        # (1024, 4, 64) @ (1024, 64, 64) = (1024, 4, 64) @ (1024, 64, 4) = (1024, 4, 4)\n",
    "        scores = heads @ rels @ tails.transpose(-2, -1)\n",
    "\n",
    "        # alpha_scores.shape = (1024, 4, 4)\n",
    "        # scores.shape = (1024, 4, 4)\n",
    "        if alpha_scores is not None:\n",
    "            scores = alpha_scores * scores\n",
    "        # print(scores.shape)\n",
    "        \n",
    "        # sum the last 2 dimensions\n",
    "        scores = scores.sum(dim=(-2, -1))\n",
    "        \n",
    "        # print(scores.shape)\n",
    "        # Shape(1024,)\n",
    "        return scores\n",
    "\n",
    "    def __repr__(self):\n",
    "        return f\"{self.__class__.__name__}({self.n_rels}, {self.rel_emb.weight.shape})\"\n",
    "\n",
    "\n",
    "\n",
    "class ComplEx(nn.Module):\n",
    "    def __init__(self, n_rels, n_features):\n",
    "        super().__init__()\n",
    "        self.n_rels = n_rels\n",
    "        self.n_features = n_features\n",
    "    \n",
    "        # Relation embeddings are also complex\n",
    "        self.rel_real = nn.Embedding(self.n_rels, (self.n_features // 2) * (self.n_features // 2))\n",
    "        self.rel_imag = nn.Embedding(self.n_rels, (self.n_features // 2) * (self.n_features // 2))\n",
    "        \n",
    "        # Initialize embeddings\n",
    "        nn.init.xavier_uniform_(self.rel_real.weight)\n",
    "        nn.init.xavier_uniform_(self.rel_imag.weight)\n",
    "\n",
    "    def forward(self, heads, tails, rels, alpha_scores=None):\n",
    "        # Preprocess\n",
    "        # heads = F.normalize(heads, dim=-1)\n",
    "        # tails = F.normalize(tails, dim=-1)\n",
    "        \n",
    "        r_real, r_imag = self.rel_real(rels), self.rel_imag(rels)\n",
    "        r_real = F.normalize(r_real, dim=-1)\n",
    "        r_imag = F.normalize(r_imag, dim=-1)\n",
    "        # print(r_real.shape)\n",
    "        r_real = r_real.view(-1, self.n_features // 2, self.n_features // 2)\n",
    "        r_imag = r_imag.view(-1, self.n_features // 2, self.n_features // 2)\n",
    "        # print(r_real.shape)\n",
    "        # Split heads and tails to imaginary parts\n",
    "        h_real, h_imag = heads[..., :self.n_features // 2], heads[..., self.n_features // 2:]\n",
    "        t_real, t_imag = tails[..., :self.n_features // 2], heads[..., self.n_features // 2:]\n",
    "\n",
    "        h_real, h_imag = F.normalize(h_real, dim=-1), F.normalize(h_imag, dim=-1)\n",
    "        t_real, t_imag = F.normalize(t_real, dim=-1), F.normalize(t_imag, dim=-1)\n",
    "\n",
    "        # ComplEx scoring functionn\n",
    "        first_part_score = h_real @ r_real @ t_real.transpose(-2, -1)\n",
    "        second_part_score = h_real @ r_imag @ t_imag.transpose(-2, -1)\n",
    "        third_part_score = h_imag @ r_real @ t_imag.transpose(-2, -1)\n",
    "        fourth_part_score = h_imag @ r_imag @ t_real.transpose(-2, -1)\n",
    "\n",
    "        scores = first_part_score + second_part_score + third_part_score + fourth_part_score\n",
    "        \n",
    "        # If alpha_scores is provided, apply it\n",
    "        if alpha_scores is not None:\n",
    "            scores = alpha_scores * scores\n",
    "\n",
    "        scores = scores.sum(dim=(-2, -1))\n",
    "        \n",
    "        return scores\n",
    "\n",
    "    def __repr__(self):\n",
    "        return f\"{self.__class__.__name__}({self.n_rels}, {self.rel_real.weight.shape}, {self.rel_imag.weight.shape})\"\n"
   ]
  },
  {
   "cell_type": "code",
   "execution_count": 9,
   "metadata": {
    "id": "CWV8Vy2YRXQA"
   },
   "outputs": [],
   "source": [
    "class SSI_DDI(nn.Module):\n",
    "    def __init__(\n",
    "        self,\n",
    "        in_features,\n",
    "        hidd_dim,\n",
    "        kge_dim,\n",
    "        rel_total,\n",
    "        heads_out_feat_params,\n",
    "        blocks_params,\n",
    "        sp_ratio,\n",
    "        use_activation_fn,\n",
    "        use_ComplEx,\n",
    "        sp_min_score,\n",
    "        co_attention_method,\n",
    "    ):\n",
    "        \"\"\"\n",
    "        blocks_params: list of number layers for multi-head attentions\n",
    "        \"\"\"\n",
    "        super().__init__()\n",
    "        self.in_features = in_features\n",
    "        # not using this one\n",
    "        self.hidd_dim = hidd_dim\n",
    "        self.rel_total = rel_total\n",
    "        self.kge_dim = kge_dim\n",
    "        self.n_blocks = len(blocks_params)\n",
    "\n",
    "        self.initial_norm = LayerNorm(self.in_features)\n",
    "        self.blocks = []\n",
    "        self.use_activation_fn = use_activation_fn\n",
    "        self.use_ComplEx = use_ComplEx\n",
    "        # Layer normalization list\n",
    "        self.net_norms = ModuleList()\n",
    "        for i, (head_out_feats, n_heads) in enumerate(\n",
    "            zip(heads_out_feat_params, blocks_params)\n",
    "        ):\n",
    "            block = SSI_DDI_Block(\n",
    "                n_heads, in_features, head_out_feats, final_out_feats=self.hidd_dim, sp_ratio=sp_ratio, sp_min_score=sp_min_score\n",
    "            )\n",
    "            self.add_module(f\"block{i}\", block)\n",
    "            self.blocks.append(block)\n",
    "            self.net_norms.append(LayerNorm(head_out_feats * n_heads))\n",
    "            in_features = head_out_feats * n_heads\n",
    "\n",
    "        if co_attention_method == \"multihead\":\n",
    "            self.co_attention = MultiheadCoAttentionLayer(self.kge_dim, self.use_activation_fn)\n",
    "        elif co_attention_method == \"improved\":\n",
    "            self.co_attention = CoAttentionLayerImproved(self.kge_dim, self.use_activation_fn)\n",
    "        else:\n",
    "            self.co_attention = CoAttentionLayer(self.kge_dim, self.use_activation_fn)\n",
    "            \n",
    "        if self.use_ComplEx:\n",
    "            self.KGE = ComplEx(self.rel_total, self.kge_dim)\n",
    "        else:\n",
    "            self.KGE = RESCAL(self.rel_total, self.kge_dim)\n",
    "\n",
    "    def forward(self, triples):\n",
    "        h_data, t_data, rels = triples\n",
    "\n",
    "        h_data.x = self.initial_norm(h_data.x, h_data.batch)\n",
    "        t_data.x = self.initial_norm(t_data.x, t_data.batch)\n",
    "\n",
    "        repr_h = []\n",
    "        repr_t = []\n",
    "\n",
    "        for i, block in enumerate(self.blocks):\n",
    "            out1, out2 = block(h_data), block(t_data)\n",
    "\n",
    "            h_data = out1[0]\n",
    "            t_data = out2[0]\n",
    "            r_h = out1[1]\n",
    "            r_t = out2[1]\n",
    "\n",
    "            repr_h.append(r_h)\n",
    "            repr_t.append(r_t)\n",
    "\n",
    "            h_data.x = F.elu(self.net_norms[i](h_data.x, h_data.batch))\n",
    "            t_data.x = F.elu(self.net_norms[i](t_data.x, t_data.batch))\n",
    "\n",
    "        repr_h = torch.stack(repr_h, dim=-2)\n",
    "        repr_t = torch.stack(repr_t, dim=-2)\n",
    "\n",
    "        kge_heads = repr_h\n",
    "        kge_tails = repr_t\n",
    "\n",
    "        attentions = self.co_attention(kge_heads, kge_tails)\n",
    "        # attentions = None\n",
    "        scores = self.KGE(kge_heads, kge_tails, rels, attentions)\n",
    "\n",
    "        return scores\n",
    "\n",
    "\n",
    "class SSI_DDI_Block(nn.Module):\n",
    "    def __init__(self, n_heads, in_features, head_out_feats, final_out_feats, sp_ratio, sp_min_score):\n",
    "        \"\"\"\n",
    "        n_heades: number of multi-head attentions = 2\n",
    "        in_features: number of features = 55 . For explicit valence use, number of features = 56.\n",
    "        head_out_feats: number of out features. For 4 layers: [32, 32, 32, 32]\n",
    "        sp_ratio: SAGPooling ratio\n",
    "        \"\"\"\n",
    "        super().__init__()\n",
    "        self.n_heads = n_heads\n",
    "        self.in_features = in_features\n",
    "        self.out_features = head_out_feats\n",
    "        self.conv = GATConv(in_features, head_out_feats, n_heads)\n",
    "        # SAGPooling: Ranks nodes based on self-attention scores\n",
    "\n",
    "        if sp_ratio is None and sp_min_score is None:\n",
    "            self.readout = SAGPooling(n_heads * head_out_feats, min_score=-1)\n",
    "        else:\n",
    "            if sp_ratio is not None:\n",
    "                self.readout = SAGPooling(n_heads * head_out_feats, min_score=sp_min_score, ratio=sp_ratio)\n",
    "            else:\n",
    "                self.readout = SAGPooling(n_heads * head_out_feats, min_score=sp_min_score)\n",
    "\n",
    "    def forward(self, data):\n",
    "        data.x = self.conv(data.x, data.edge_index)\n",
    "        # Call SAGPooling here\n",
    "        # If min_score = -1 so nodes will not be filtered out, basically redudant for using the SAGPooling.\n",
    "        att_x, att_edge_index, att_edge_attr, att_batch, att_perm, att_scores = (\n",
    "            self.readout(data.x, data.edge_index, batch=data.batch)\n",
    "        )\n",
    "        # Aggregates the pooled node features (att_x) across the graph to obtain a global representation\n",
    "        global_graph_emb = global_add_pool(att_x, att_batch)\n",
    "\n",
    "        # data = max_pool_neighbor_x(data)\n",
    "        return data, global_graph_emb\n"
   ]
  },
  {
   "cell_type": "code",
   "execution_count": 10,
   "metadata": {
    "id": "ZT2vnlWzR6FD"
   },
   "outputs": [],
   "source": [
    "class SigmoidLoss(nn.Module):\n",
    "    def __init__(self, adv_temperature=None):\n",
    "        super().__init__()\n",
    "        self.adv_temperature = adv_temperature\n",
    "\n",
    "    def forward(self, p_scores, n_scores):\n",
    "        if self.adv_temperature:\n",
    "            weights = F.softmax(self.adv_temperature * n_scores, dim=-1).detach()\n",
    "            n_scores = weights * n_scores\n",
    "        p_loss = -F.logsigmoid(p_scores).mean()\n",
    "        n_loss = -F.logsigmoid(-n_scores).mean()\n",
    "\n",
    "        return (p_loss + n_loss) / 2, p_loss, n_loss\n"
   ]
  },
  {
   "cell_type": "code",
   "execution_count": 11,
   "metadata": {
    "colab": {
     "base_uri": "https://localhost:8080/"
    },
    "executionInfo": {
     "elapsed": 5412,
     "status": "ok",
     "timestamp": 1729307124627,
     "user": {
      "displayName": "Nam Le",
      "userId": "10910051602335296858"
     },
     "user_tz": -420
    },
    "id": "iokMMRiStLG2",
    "outputId": "afa67e5a-4edb-4c3a-ee51-e0a261f743f6"
   },
   "outputs": [
    {
     "name": "stdout",
     "output_type": "stream",
     "text": [
      "Training with 115185 samples, validating with 38348, and testing with 38337\n"
     ]
    }
   ],
   "source": [
    "df_ddi_train = pd.read_csv(f\"{data_dir}/ddi_training.csv\")\n",
    "df_ddi_val = pd.read_csv(f\"{data_dir}/ddi_validation.csv\")\n",
    "df_ddi_test = pd.read_csv(f\"{data_dir}/ddi_test.csv\")\n",
    "\n",
    "\n",
    "train_tup = [\n",
    "    (h, t, r)\n",
    "    for h, t, r in zip(df_ddi_train[\"d1\"], df_ddi_train[\"d2\"], df_ddi_train[\"type\"])\n",
    "]\n",
    "val_tup = [\n",
    "    (h, t, r) for h, t, r in zip(df_ddi_val[\"d1\"], df_ddi_val[\"d2\"], df_ddi_val[\"type\"])\n",
    "]\n",
    "test_tup = [\n",
    "    (h, t, r)\n",
    "    for h, t, r in zip(df_ddi_test[\"d1\"], df_ddi_test[\"d2\"], df_ddi_test[\"type\"])\n",
    "]\n",
    "\n",
    "train_data = DrugDataset(train_tup, ratio=data_size_ratio, neg_ent=neg_samples)\n",
    "val_data = DrugDataset(val_tup, ratio=data_size_ratio, disjoint_split=False)\n",
    "test_data = DrugDataset(test_tup, disjoint_split=False)\n",
    "\n",
    "print(\n",
    "    f\"Training with {len(train_data)} samples, validating with {len(val_data)}, and testing with {len(test_data)}\"\n",
    ")\n",
    "\n",
    "train_data_loader = DrugDataLoader(train_data, batch_size=batch_size, shuffle=True)\n",
    "val_data_loader = DrugDataLoader(val_data, batch_size=batch_size * 3)\n",
    "test_data_loader = DrugDataLoader(test_data, batch_size=batch_size * 3)\n"
   ]
  },
  {
   "cell_type": "code",
   "execution_count": 12,
   "metadata": {
    "id": "7jJxwTGhtwRE"
   },
   "outputs": [],
   "source": [
    "def do_compute(model, batch, device, training=True):\n",
    "    \"\"\"\n",
    "    *batch: (pos_tri, neg_tri)\n",
    "    *pos/neg_tri: (batch_h, batch_t, batch_r)\n",
    "    \"\"\"\n",
    "    probas_pred, ground_truth = [], []\n",
    "    pos_tri, neg_tri = batch\n",
    "\n",
    "    pos_tri = [tensor.to(device=device) for tensor in pos_tri]\n",
    "    p_score = model(pos_tri)\n",
    "    probas_pred.append(torch.sigmoid(p_score.detach()).cpu())\n",
    "    ground_truth.append(np.ones(len(p_score)))\n",
    "\n",
    "    neg_tri = [tensor.to(device=device) for tensor in neg_tri]\n",
    "    n_score = model(neg_tri)\n",
    "    probas_pred.append(torch.sigmoid(n_score.detach()).cpu())\n",
    "    ground_truth.append(np.zeros(len(n_score)))\n",
    "\n",
    "    probas_pred = np.concatenate(probas_pred)\n",
    "    ground_truth = np.concatenate(ground_truth)\n",
    "\n",
    "    return p_score, n_score, probas_pred, ground_truth\n",
    "\n",
    "\n",
    "def do_compute_metrics(probas_pred, target):\n",
    "\n",
    "    pred = (probas_pred >= 0.5).astype(np.int64)\n",
    "\n",
    "    acc = metrics.accuracy_score(target, pred)\n",
    "    auc_roc = metrics.roc_auc_score(target, probas_pred)\n",
    "    f1_score = metrics.f1_score(target, pred)\n",
    "\n",
    "    p, r, t = metrics.precision_recall_curve(target, probas_pred)\n",
    "    auc_prc = metrics.auc(r, p)\n",
    "\n",
    "    return acc, auc_roc, auc_prc"
   ]
  },
  {
   "cell_type": "code",
   "execution_count": 13,
   "metadata": {},
   "outputs": [],
   "source": [
    "import csv\n",
    "def export_metrics(train_metrics, val_metrics, epoch):\n",
    "    train_metrics_dir = \"train_metrics\"\n",
    "    metrics_file = f\"{train_metrics_dir}/{model_name}.csv\"\n",
    "    train_loss, train_acc, train_auc_roc, train_auc_prc = train_metrics\n",
    "    val_loss, val_acc, val_auc_roc, val_auc_prc = val_metrics\n",
    "\n",
    "    data = [epoch, train_loss, train_acc, train_auc_roc, train_auc_prc, val_loss, val_acc, val_auc_roc, val_auc_prc]\n",
    "    header = [\"epoch\", \"train_loss\", \"train_acc\", \"train_auc_roc\", \"train_auc_prc\", \"val_loss\", \"val_acc\", \"val_auc_roc\", \"val_auc_prc\"]\n",
    "    \n",
    "    if epoch == 1:\n",
    "        with open(metrics_file, 'w', newline='') as file:\n",
    "            writer = csv.writer(file)\n",
    "            # Write the header\n",
    "            writer.writerow(header)\n",
    "            # Write the data rows\n",
    "            writer.writerow(data)\n",
    "    else:\n",
    "        with open(metrics_file, 'a', newline='') as file:\n",
    "            writer = csv.writer(file)\n",
    "            # Write the data to the file\n",
    "            writer.writerow(data)\n",
    "    \n",
    "    "
   ]
  },
  {
   "cell_type": "code",
   "execution_count": 14,
   "metadata": {},
   "outputs": [],
   "source": [
    "model_acc_file = f\"{model_dir}/acc/{model_name}.pth\"\n",
    "model_roc_file = f\"{model_dir}/roc/{model_name}.pth\"\n",
    "model_prc_file = f\"{model_dir}/prc/{model_name}.pth\"\n",
    "\n",
    "def save_model(best, current, met_type):\n",
    "    model_file = model_prc_file\n",
    "    if met_type == \"acc\":\n",
    "        model_file = model_acc_file\n",
    "    elif met_type == \"roc\":\n",
    "        model_file = model_roc_file\n",
    "        \n",
    "    if best < current:\n",
    "        print(f\"Saving model {met_type}\")\n",
    "        best = current\n",
    "        torch.save(model, model_file)\n",
    "    return best"
   ]
  },
  {
   "cell_type": "code",
   "execution_count": 15,
   "metadata": {
    "id": "EV5GTDPktz_h"
   },
   "outputs": [],
   "source": [
    "def train(\n",
    "    model,\n",
    "    train_data_loader,\n",
    "    val_data_loader,\n",
    "    loss_fn,\n",
    "    optimizer,\n",
    "    n_epochs,\n",
    "    device,\n",
    "    scheduler=None,\n",
    "):\n",
    "    print(\"Starting training at:\", datetime.today())\n",
    "    print(\"Device:\", device)\n",
    "    print_tunning_parameters()\n",
    "    best_val_prc = 0\n",
    "    best_val_acc = 0\n",
    "    best_val_roc = 0\n",
    "    for i in range(1, n_epochs + 1):\n",
    "        start = time.time()\n",
    "        train_loss = 0\n",
    "        train_loss_pos = 0\n",
    "        train_loss_neg = 0\n",
    "        val_loss = 0\n",
    "        val_loss_pos = 0\n",
    "        val_loss_neg = 0\n",
    "        train_probas_pred = []\n",
    "        train_ground_truth = []\n",
    "        val_probas_pred = []\n",
    "        val_ground_truth = []\n",
    "\n",
    "        for batch in train_data_loader:\n",
    "            # print(len(batch))\n",
    "            model.train()\n",
    "            p_score, n_score, probas_pred, ground_truth = do_compute(model, batch, device)\n",
    "            train_probas_pred.append(probas_pred)\n",
    "            train_ground_truth.append(ground_truth)\n",
    "            loss, loss_p, loss_n = loss_fn(p_score, n_score)\n",
    "\n",
    "            optimizer.zero_grad()\n",
    "            loss.backward()\n",
    "            optimizer.step()\n",
    "\n",
    "            train_loss += loss.item() * len(p_score)\n",
    "        train_loss /= len(train_data)\n",
    "\n",
    "        with torch.no_grad():\n",
    "            train_probas_pred = np.concatenate(train_probas_pred)\n",
    "            train_ground_truth = np.concatenate(train_ground_truth)\n",
    "\n",
    "            train_acc, train_auc_roc, train_auc_prc = do_compute_metrics(\n",
    "                train_probas_pred, train_ground_truth\n",
    "            )\n",
    "\n",
    "            for batch in val_data_loader:\n",
    "                model.eval()\n",
    "                p_score, n_score, probas_pred, ground_truth = do_compute(model, batch, device)\n",
    "                val_probas_pred.append(probas_pred)\n",
    "                val_ground_truth.append(ground_truth)\n",
    "                loss, loss_p, loss_n = loss_fn(p_score, n_score)\n",
    "                val_loss += loss.item() * len(p_score)\n",
    "\n",
    "            val_loss /= len(val_data)\n",
    "            val_probas_pred = np.concatenate(val_probas_pred)\n",
    "            val_ground_truth = np.concatenate(val_ground_truth)\n",
    "            val_acc, val_auc_roc, val_auc_prc = do_compute_metrics(\n",
    "                val_probas_pred, val_ground_truth\n",
    "            )\n",
    "            \n",
    "            # Save model if this is the best so far\n",
    "            best_val_prc = save_model(best_val_prc, val_auc_prc, \"prc\")\n",
    "            best_val_acc = save_model(best_val_acc, val_acc, \"acc\")\n",
    "            best_val_roc = save_model(best_val_roc, val_auc_roc, \"roc\")\n",
    "\n",
    "        if scheduler:\n",
    "            # print('scheduling')\n",
    "            scheduler.step()\n",
    "\n",
    "        # Exporting metrics for later plots\n",
    "        train_metrics = (train_loss, train_acc, train_auc_roc, train_auc_prc)\n",
    "        val_metrics = (val_loss, val_acc, val_auc_roc, val_auc_prc)\n",
    "        export_metrics(train_metrics, val_metrics, i)\n",
    "        \n",
    "        print(\n",
    "            f\"Epoch: {i} ({time.time() - start:.4f}s), train_loss: {train_loss:.4f}, val_loss: {val_loss:.4f},\"\n",
    "            f\" train_acc: {train_acc:.4f}, val_acc:{val_acc:.4f}\"\n",
    "        )\n",
    "        print(\n",
    "            f\"\\t\\ttrain_roc: {train_auc_roc:.4f}, val_roc: {val_auc_roc:.4f}, train_auprc: {train_auc_prc:.4f}, val_auprc: {val_auc_prc:.4f}\"\n",
    "        )\n",
    "\n",
    "    return model"
   ]
  },
  {
   "cell_type": "code",
   "execution_count": 16,
   "metadata": {
    "id": "ZwBcoUHEuAtJ"
   },
   "outputs": [],
   "source": [
    "def predict(model, test_data_loader, device):\n",
    "    print('Starting predicting at', datetime.today())\n",
    "    print('Device', device)\n",
    "\n",
    "    test_probas_pred = []\n",
    "    test_ground_truth = []\n",
    "\n",
    "    # Switch to evaluation mode\n",
    "    model.eval()\n",
    "\n",
    "    with torch.no_grad():  # No need to calculate gradients during testing\n",
    "        for batch in test_data_loader:\n",
    "            # Get predictions and ground truth for the batch\n",
    "            p_score, n_score, probas_pred, ground_truth = do_compute(model, batch, device, training=False)\n",
    "\n",
    "            # Append the predictions and ground truths\n",
    "            test_probas_pred.append(probas_pred)\n",
    "            test_ground_truth.append(ground_truth)\n",
    "\n",
    "\n",
    "    # Concatenate the results for the entire test dataset\n",
    "    test_probas_pred = np.concatenate(test_probas_pred)\n",
    "    test_ground_truth = np.concatenate(test_ground_truth)\n",
    "\n",
    "    # Calculate the metrics for the test dataset\n",
    "    test_acc, test_auc_roc, test_auc_prc = do_compute_metrics(test_probas_pred, test_ground_truth)\n",
    "\n",
    "    print(f'Test Accuracy: {test_acc:.4f}')\n",
    "    print(f'Test ROC AUC: {test_auc_roc:.4f}')\n",
    "    print(f'Test PRC AUC: {test_auc_prc:.4f}')"
   ]
  },
  {
   "cell_type": "code",
   "execution_count": 17,
   "metadata": {
    "colab": {
     "base_uri": "https://localhost:8080/"
    },
    "executionInfo": {
     "elapsed": 722,
     "status": "ok",
     "timestamp": 1729307125347,
     "user": {
      "displayName": "Nam Le",
      "userId": "10910051602335296858"
     },
     "user_tz": -420
    },
    "id": "PQ1H7udUuFMT",
    "outputId": "4519f4c7-6ad4-4d20-b66d-a5f26cdab691"
   },
   "outputs": [
    {
     "name": "stdout",
     "output_type": "stream",
     "text": [
      "SSI_DDI(\n",
      "  (initial_norm): LayerNorm(55, affine=True, mode=graph)\n",
      "  (net_norms): ModuleList(\n",
      "    (0-5): 6 x LayerNorm(64, affine=True, mode=graph)\n",
      "  )\n",
      "  (block0): SSI_DDI_Block(\n",
      "    (conv): GATConv(55, 32, heads=2)\n",
      "    (readout): SAGPooling(GraphConv, 64, min_score=-1, multiplier=1.0)\n",
      "  )\n",
      "  (block1): SSI_DDI_Block(\n",
      "    (conv): GATConv(64, 32, heads=2)\n",
      "    (readout): SAGPooling(GraphConv, 64, min_score=-1, multiplier=1.0)\n",
      "  )\n",
      "  (block2): SSI_DDI_Block(\n",
      "    (conv): GATConv(64, 32, heads=2)\n",
      "    (readout): SAGPooling(GraphConv, 64, min_score=-1, multiplier=1.0)\n",
      "  )\n",
      "  (block3): SSI_DDI_Block(\n",
      "    (conv): GATConv(64, 32, heads=2)\n",
      "    (readout): SAGPooling(GraphConv, 64, min_score=-1, multiplier=1.0)\n",
      "  )\n",
      "  (block4): SSI_DDI_Block(\n",
      "    (conv): GATConv(64, 32, heads=2)\n",
      "    (readout): SAGPooling(GraphConv, 64, min_score=-1, multiplier=1.0)\n",
      "  )\n",
      "  (block5): SSI_DDI_Block(\n",
      "    (conv): GATConv(64, 32, heads=2)\n",
      "    (readout): SAGPooling(GraphConv, 64, min_score=-1, multiplier=1.0)\n",
      "  )\n",
      "  (co_attention): MultiheadCoAttentionLayer(\n",
      "    (W_q): ParameterList(\n",
      "        (0): Parameter containing: [torch.float32 of size 64x32]\n",
      "        (1): Parameter containing: [torch.float32 of size 64x32]\n",
      "    )\n",
      "    (W_k): ParameterList(\n",
      "        (0): Parameter containing: [torch.float32 of size 64x32]\n",
      "        (1): Parameter containing: [torch.float32 of size 64x32]\n",
      "    )\n",
      "    (bias): ParameterList(\n",
      "        (0): Parameter containing: [torch.float32 of size 32]\n",
      "        (1): Parameter containing: [torch.float32 of size 32]\n",
      "    )\n",
      "    (dropout): Dropout(p=0.1, inplace=False)\n",
      "  )\n",
      "  (KGE): RESCAL(86, torch.Size([86, 4096]))\n",
      ")\n"
     ]
    }
   ],
   "source": [
    "heads_out_feat_params = []\n",
    "block_params = []\n",
    "\n",
    "for _ in range(num_GAT_layers):\n",
    "    heads_out_feat_params.append(kge_dim // 2)\n",
    "    block_params.append(num_GAT_multiheads)\n",
    "\n",
    "if mode == \"train\":\n",
    "    model = SSI_DDI(\n",
    "        n_atom_feats,\n",
    "        n_atom_hid,\n",
    "        kge_dim,\n",
    "        rel_total,\n",
    "        heads_out_feat_params=heads_out_feat_params,\n",
    "        blocks_params=block_params,\n",
    "        sp_ratio=sp_ratio,\n",
    "        use_activation_fn=use_activation_fn,\n",
    "        use_ComplEx=use_ComplEx,\n",
    "        sp_min_score=sp_min_score,\n",
    "        co_attention_method=co_attention_method,\n",
    "    )\n",
    "    loss = SigmoidLoss()\n",
    "    optimizer = optim.Adam(model.parameters(), lr=lr, weight_decay=weight_decay)\n",
    "    scheduler = optim.lr_scheduler.LambdaLR(optimizer, lambda epoch: 0.96 ** (epoch))\n",
    "    print(model)\n",
    "    model.to(device=device)"
   ]
  },
  {
   "cell_type": "code",
   "execution_count": 18,
   "metadata": {
    "colab": {
     "base_uri": "https://localhost:8080/"
    },
    "id": "JvcD5xd_uVbL",
    "outputId": "20e29f96-e964-4647-8a0e-5f46bed80a06"
   },
   "outputs": [
    {
     "name": "stdout",
     "output_type": "stream",
     "text": [
      "Starting training at: 2024-10-27 07:46:21.010866\n",
      "Device: cuda\n",
      "\n",
      "####### Tunning parameters #######\n",
      "\n",
      "n_epochs = 300\n",
      "use_cuda = True\n",
      "\n",
      "num_GAT_layers =  6\n",
      "num_GAT_multiheads =  2\n",
      "\n",
      "sp_ratio = None\n",
      "sp_min_score = None\n",
      "\n",
      "use_explicit_valence = False\n",
      "\n",
      "use_activation_fn = False\n",
      "\n",
      "use_ComplEx = False\n",
      "\n",
      "co_attention_method = multihead\n",
      "\n",
      "#################################\n",
      "\n"
     ]
    },
    {
     "name": "stderr",
     "output_type": "stream",
     "text": [
      "/home/namle/.local/lib/python3.10/site-packages/torch_geometric/warnings.py:11: UserWarning: The usage of `scatter(reduce='max')` can be accelerated via the 'torch-scatter' package, but it was not found\n",
      "  warnings.warn(message)\n"
     ]
    },
    {
     "name": "stdout",
     "output_type": "stream",
     "text": [
      "Saving model prc\n",
      "Saving model acc\n",
      "Saving model roc\n",
      "Epoch: 1 (122.2268s), train_loss: 0.7037, val_loss: 0.6557, train_acc: 0.5551, val_acc:0.6048\n",
      "\t\ttrain_roc: 0.5786, val_roc: 0.6473, train_auprc: 0.5627, val_auprc: 0.6336\n"
     ]
    },
    {
     "name": "stderr",
     "output_type": "stream",
     "text": [
      "/home/namle/.local/lib/python3.10/site-packages/torch_geometric/warnings.py:11: UserWarning: The usage of `scatter(reduce='max')` can be accelerated via the 'torch-scatter' package, but it was not found\n",
      "  warnings.warn(message)\n"
     ]
    },
    {
     "name": "stdout",
     "output_type": "stream",
     "text": [
      "Saving model prc\n",
      "Saving model acc\n",
      "Saving model roc\n",
      "Epoch: 2 (122.5854s), train_loss: 0.6238, val_loss: 0.5947, train_acc: 0.6403, val_acc:0.6705\n",
      "\t\ttrain_roc: 0.7002, val_roc: 0.7409, train_auprc: 0.6837, val_auprc: 0.7223\n"
     ]
    },
    {
     "name": "stderr",
     "output_type": "stream",
     "text": [
      "/home/namle/.local/lib/python3.10/site-packages/torch_geometric/warnings.py:11: UserWarning: The usage of `scatter(reduce='max')` can be accelerated via the 'torch-scatter' package, but it was not found\n",
      "  warnings.warn(message)\n"
     ]
    },
    {
     "name": "stdout",
     "output_type": "stream",
     "text": [
      "Saving model prc\n",
      "Saving model acc\n",
      "Saving model roc\n",
      "Epoch: 3 (118.4721s), train_loss: 0.5729, val_loss: 0.5549, train_acc: 0.6937, val_acc:0.7105\n",
      "\t\ttrain_roc: 0.7658, val_roc: 0.7852, train_auprc: 0.7451, val_auprc: 0.7650\n"
     ]
    },
    {
     "name": "stderr",
     "output_type": "stream",
     "text": [
      "/home/namle/.local/lib/python3.10/site-packages/torch_geometric/warnings.py:11: UserWarning: The usage of `scatter(reduce='max')` can be accelerated via the 'torch-scatter' package, but it was not found\n",
      "  warnings.warn(message)\n"
     ]
    },
    {
     "name": "stdout",
     "output_type": "stream",
     "text": [
      "Saving model prc\n",
      "Saving model acc\n",
      "Saving model roc\n",
      "Epoch: 4 (131.7888s), train_loss: 0.5431, val_loss: 0.5313, train_acc: 0.7209, val_acc:0.7320\n",
      "\t\ttrain_roc: 0.7961, val_roc: 0.8076, train_auprc: 0.7760, val_auprc: 0.7877\n"
     ]
    },
    {
     "name": "stderr",
     "output_type": "stream",
     "text": [
      "/home/namle/.local/lib/python3.10/site-packages/torch_geometric/warnings.py:11: UserWarning: The usage of `scatter(reduce='max')` can be accelerated via the 'torch-scatter' package, but it was not found\n",
      "  warnings.warn(message)\n"
     ]
    },
    {
     "name": "stdout",
     "output_type": "stream",
     "text": [
      "Saving model prc\n",
      "Saving model acc\n",
      "Saving model roc\n",
      "Epoch: 5 (116.8998s), train_loss: 0.5207, val_loss: 0.5090, train_acc: 0.7402, val_acc:0.7487\n",
      "\t\ttrain_roc: 0.8166, val_roc: 0.8260, train_auprc: 0.7959, val_auprc: 0.8064\n"
     ]
    },
    {
     "name": "stderr",
     "output_type": "stream",
     "text": [
      "/home/namle/.local/lib/python3.10/site-packages/torch_geometric/warnings.py:11: UserWarning: The usage of `scatter(reduce='max')` can be accelerated via the 'torch-scatter' package, but it was not found\n",
      "  warnings.warn(message)\n"
     ]
    },
    {
     "name": "stdout",
     "output_type": "stream",
     "text": [
      "Saving model prc\n",
      "Saving model acc\n",
      "Saving model roc\n",
      "Epoch: 6 (125.1346s), train_loss: 0.5008, val_loss: 0.5016, train_acc: 0.7543, val_acc:0.7574\n",
      "\t\ttrain_roc: 0.8327, val_roc: 0.8344, train_auprc: 0.8129, val_auprc: 0.8129\n"
     ]
    },
    {
     "name": "stderr",
     "output_type": "stream",
     "text": [
      "/home/namle/.local/lib/python3.10/site-packages/torch_geometric/warnings.py:11: UserWarning: The usage of `scatter(reduce='max')` can be accelerated via the 'torch-scatter' package, but it was not found\n",
      "  warnings.warn(message)\n"
     ]
    },
    {
     "name": "stdout",
     "output_type": "stream",
     "text": [
      "Saving model prc\n",
      "Saving model acc\n",
      "Saving model roc\n",
      "Epoch: 7 (129.0061s), train_loss: 0.4869, val_loss: 0.4809, train_acc: 0.7645, val_acc:0.7708\n",
      "\t\ttrain_roc: 0.8436, val_roc: 0.8502, train_auprc: 0.8247, val_auprc: 0.8309\n"
     ]
    },
    {
     "name": "stderr",
     "output_type": "stream",
     "text": [
      "/home/namle/.local/lib/python3.10/site-packages/torch_geometric/warnings.py:11: UserWarning: The usage of `scatter(reduce='max')` can be accelerated via the 'torch-scatter' package, but it was not found\n",
      "  warnings.warn(message)\n"
     ]
    },
    {
     "name": "stdout",
     "output_type": "stream",
     "text": [
      "Saving model prc\n",
      "Saving model roc\n",
      "Epoch: 8 (120.7930s), train_loss: 0.4745, val_loss: 0.4746, train_acc: 0.7747, val_acc:0.7701\n",
      "\t\ttrain_roc: 0.8524, val_roc: 0.8541, train_auprc: 0.8331, val_auprc: 0.8353\n"
     ]
    },
    {
     "name": "stderr",
     "output_type": "stream",
     "text": [
      "/home/namle/.local/lib/python3.10/site-packages/torch_geometric/warnings.py:11: UserWarning: The usage of `scatter(reduce='max')` can be accelerated via the 'torch-scatter' package, but it was not found\n",
      "  warnings.warn(message)\n"
     ]
    },
    {
     "name": "stdout",
     "output_type": "stream",
     "text": [
      "Saving model prc\n",
      "Saving model acc\n",
      "Saving model roc\n",
      "Epoch: 9 (114.9930s), train_loss: 0.4628, val_loss: 0.4595, train_acc: 0.7824, val_acc:0.7861\n",
      "\t\ttrain_roc: 0.8606, val_roc: 0.8660, train_auprc: 0.8411, val_auprc: 0.8482\n"
     ]
    },
    {
     "name": "stderr",
     "output_type": "stream",
     "text": [
      "/home/namle/.local/lib/python3.10/site-packages/torch_geometric/warnings.py:11: UserWarning: The usage of `scatter(reduce='max')` can be accelerated via the 'torch-scatter' package, but it was not found\n",
      "  warnings.warn(message)\n"
     ]
    },
    {
     "name": "stdout",
     "output_type": "stream",
     "text": [
      "Saving model prc\n",
      "Saving model acc\n",
      "Saving model roc\n",
      "Epoch: 10 (112.1057s), train_loss: 0.4516, val_loss: 0.4453, train_acc: 0.7889, val_acc:0.7951\n",
      "\t\ttrain_roc: 0.8682, val_roc: 0.8727, train_auprc: 0.8495, val_auprc: 0.8540\n"
     ]
    },
    {
     "name": "stderr",
     "output_type": "stream",
     "text": [
      "/home/namle/.local/lib/python3.10/site-packages/torch_geometric/warnings.py:11: UserWarning: The usage of `scatter(reduce='max')` can be accelerated via the 'torch-scatter' package, but it was not found\n",
      "  warnings.warn(message)\n"
     ]
    },
    {
     "name": "stdout",
     "output_type": "stream",
     "text": [
      "Saving model prc\n",
      "Saving model roc\n",
      "Epoch: 11 (111.5976s), train_loss: 0.4461, val_loss: 0.4410, train_acc: 0.7929, val_acc:0.7934\n",
      "\t\ttrain_roc: 0.8716, val_roc: 0.8749, train_auprc: 0.8524, val_auprc: 0.8585\n"
     ]
    },
    {
     "name": "stderr",
     "output_type": "stream",
     "text": [
      "/home/namle/.local/lib/python3.10/site-packages/torch_geometric/warnings.py:11: UserWarning: The usage of `scatter(reduce='max')` can be accelerated via the 'torch-scatter' package, but it was not found\n",
      "  warnings.warn(message)\n"
     ]
    },
    {
     "name": "stdout",
     "output_type": "stream",
     "text": [
      "Saving model acc\n",
      "Saving model roc\n",
      "Epoch: 12 (112.3596s), train_loss: 0.4382, val_loss: 0.4406, train_acc: 0.7984, val_acc:0.7963\n",
      "\t\ttrain_roc: 0.8764, val_roc: 0.8750, train_auprc: 0.8575, val_auprc: 0.8567\n"
     ]
    },
    {
     "name": "stderr",
     "output_type": "stream",
     "text": [
      "/home/namle/.local/lib/python3.10/site-packages/torch_geometric/warnings.py:11: UserWarning: The usage of `scatter(reduce='max')` can be accelerated via the 'torch-scatter' package, but it was not found\n",
      "  warnings.warn(message)\n"
     ]
    },
    {
     "name": "stdout",
     "output_type": "stream",
     "text": [
      "Saving model prc\n",
      "Saving model acc\n",
      "Saving model roc\n",
      "Epoch: 13 (110.5776s), train_loss: 0.4285, val_loss: 0.4323, train_acc: 0.8040, val_acc:0.8035\n",
      "\t\ttrain_roc: 0.8820, val_roc: 0.8811, train_auprc: 0.8636, val_auprc: 0.8624\n"
     ]
    },
    {
     "name": "stderr",
     "output_type": "stream",
     "text": [
      "/home/namle/.local/lib/python3.10/site-packages/torch_geometric/warnings.py:11: UserWarning: The usage of `scatter(reduce='max')` can be accelerated via the 'torch-scatter' package, but it was not found\n",
      "  warnings.warn(message)\n"
     ]
    },
    {
     "name": "stdout",
     "output_type": "stream",
     "text": [
      "Saving model prc\n",
      "Saving model acc\n",
      "Saving model roc\n",
      "Epoch: 14 (113.2391s), train_loss: 0.4234, val_loss: 0.4203, train_acc: 0.8079, val_acc:0.8096\n",
      "\t\ttrain_roc: 0.8853, val_roc: 0.8882, train_auprc: 0.8667, val_auprc: 0.8716\n"
     ]
    },
    {
     "name": "stderr",
     "output_type": "stream",
     "text": [
      "/home/namle/.local/lib/python3.10/site-packages/torch_geometric/warnings.py:11: UserWarning: The usage of `scatter(reduce='max')` can be accelerated via the 'torch-scatter' package, but it was not found\n",
      "  warnings.warn(message)\n"
     ]
    },
    {
     "name": "stdout",
     "output_type": "stream",
     "text": [
      "Epoch: 15 (112.1012s), train_loss: 0.4156, val_loss: 0.4223, train_acc: 0.8133, val_acc:0.8063\n",
      "\t\ttrain_roc: 0.8902, val_roc: 0.8863, train_auprc: 0.8729, val_auprc: 0.8696\n"
     ]
    },
    {
     "name": "stderr",
     "output_type": "stream",
     "text": [
      "/home/namle/.local/lib/python3.10/site-packages/torch_geometric/warnings.py:11: UserWarning: The usage of `scatter(reduce='max')` can be accelerated via the 'torch-scatter' package, but it was not found\n",
      "  warnings.warn(message)\n"
     ]
    },
    {
     "name": "stdout",
     "output_type": "stream",
     "text": [
      "Saving model prc\n",
      "Saving model acc\n",
      "Saving model roc\n",
      "Epoch: 16 (111.4525s), train_loss: 0.4096, val_loss: 0.4141, train_acc: 0.8160, val_acc:0.8155\n",
      "\t\ttrain_roc: 0.8929, val_roc: 0.8923, train_auprc: 0.8748, val_auprc: 0.8775\n"
     ]
    },
    {
     "name": "stderr",
     "output_type": "stream",
     "text": [
      "/home/namle/.local/lib/python3.10/site-packages/torch_geometric/warnings.py:11: UserWarning: The usage of `scatter(reduce='max')` can be accelerated via the 'torch-scatter' package, but it was not found\n",
      "  warnings.warn(message)\n"
     ]
    },
    {
     "name": "stdout",
     "output_type": "stream",
     "text": [
      "Saving model prc\n",
      "Saving model acc\n",
      "Saving model roc\n",
      "Epoch: 17 (112.6820s), train_loss: 0.4013, val_loss: 0.4085, train_acc: 0.8214, val_acc:0.8157\n",
      "\t\ttrain_roc: 0.8974, val_roc: 0.8937, train_auprc: 0.8803, val_auprc: 0.8777\n"
     ]
    },
    {
     "name": "stderr",
     "output_type": "stream",
     "text": [
      "/home/namle/.local/lib/python3.10/site-packages/torch_geometric/warnings.py:11: UserWarning: The usage of `scatter(reduce='max')` can be accelerated via the 'torch-scatter' package, but it was not found\n",
      "  warnings.warn(message)\n"
     ]
    },
    {
     "name": "stdout",
     "output_type": "stream",
     "text": [
      "Saving model acc\n",
      "Saving model roc\n",
      "Epoch: 18 (112.2459s), train_loss: 0.3970, val_loss: 0.4047, train_acc: 0.8245, val_acc:0.8231\n",
      "\t\ttrain_roc: 0.8997, val_roc: 0.8957, train_auprc: 0.8821, val_auprc: 0.8764\n"
     ]
    },
    {
     "name": "stderr",
     "output_type": "stream",
     "text": [
      "/home/namle/.local/lib/python3.10/site-packages/torch_geometric/warnings.py:11: UserWarning: The usage of `scatter(reduce='max')` can be accelerated via the 'torch-scatter' package, but it was not found\n",
      "  warnings.warn(message)\n"
     ]
    },
    {
     "name": "stdout",
     "output_type": "stream",
     "text": [
      "Saving model prc\n",
      "Saving model acc\n",
      "Saving model roc\n",
      "Epoch: 19 (112.3073s), train_loss: 0.3926, val_loss: 0.3968, train_acc: 0.8272, val_acc:0.8255\n",
      "\t\ttrain_roc: 0.9022, val_roc: 0.9001, train_auprc: 0.8855, val_auprc: 0.8827\n"
     ]
    },
    {
     "name": "stderr",
     "output_type": "stream",
     "text": [
      "/home/namle/.local/lib/python3.10/site-packages/torch_geometric/warnings.py:11: UserWarning: The usage of `scatter(reduce='max')` can be accelerated via the 'torch-scatter' package, but it was not found\n",
      "  warnings.warn(message)\n"
     ]
    },
    {
     "name": "stdout",
     "output_type": "stream",
     "text": [
      "Saving model prc\n",
      "Saving model roc\n",
      "Epoch: 20 (110.5714s), train_loss: 0.3879, val_loss: 0.3932, train_acc: 0.8290, val_acc:0.8238\n",
      "\t\ttrain_roc: 0.9045, val_roc: 0.9022, train_auprc: 0.8875, val_auprc: 0.8871\n"
     ]
    },
    {
     "name": "stderr",
     "output_type": "stream",
     "text": [
      "/home/namle/.local/lib/python3.10/site-packages/torch_geometric/warnings.py:11: UserWarning: The usage of `scatter(reduce='max')` can be accelerated via the 'torch-scatter' package, but it was not found\n",
      "  warnings.warn(message)\n"
     ]
    },
    {
     "name": "stdout",
     "output_type": "stream",
     "text": [
      "Saving model prc\n",
      "Saving model acc\n",
      "Saving model roc\n",
      "Epoch: 21 (112.2513s), train_loss: 0.3840, val_loss: 0.3880, train_acc: 0.8325, val_acc:0.8302\n",
      "\t\ttrain_roc: 0.9065, val_roc: 0.9047, train_auprc: 0.8891, val_auprc: 0.8885\n"
     ]
    },
    {
     "name": "stderr",
     "output_type": "stream",
     "text": [
      "/home/namle/.local/lib/python3.10/site-packages/torch_geometric/warnings.py:11: UserWarning: The usage of `scatter(reduce='max')` can be accelerated via the 'torch-scatter' package, but it was not found\n",
      "  warnings.warn(message)\n"
     ]
    },
    {
     "name": "stdout",
     "output_type": "stream",
     "text": [
      "Saving model prc\n",
      "Saving model acc\n",
      "Saving model roc\n",
      "Epoch: 22 (110.7709s), train_loss: 0.3771, val_loss: 0.3815, train_acc: 0.8353, val_acc:0.8348\n",
      "\t\ttrain_roc: 0.9101, val_roc: 0.9087, train_auprc: 0.8933, val_auprc: 0.8931\n"
     ]
    },
    {
     "name": "stderr",
     "output_type": "stream",
     "text": [
      "/home/namle/.local/lib/python3.10/site-packages/torch_geometric/warnings.py:11: UserWarning: The usage of `scatter(reduce='max')` can be accelerated via the 'torch-scatter' package, but it was not found\n",
      "  warnings.warn(message)\n"
     ]
    },
    {
     "name": "stdout",
     "output_type": "stream",
     "text": [
      "Saving model prc\n",
      "Epoch: 23 (110.8033s), train_loss: 0.3715, val_loss: 0.3810, train_acc: 0.8383, val_acc:0.8306\n",
      "\t\ttrain_roc: 0.9124, val_roc: 0.9086, train_auprc: 0.8969, val_auprc: 0.8944\n"
     ]
    },
    {
     "name": "stderr",
     "output_type": "stream",
     "text": [
      "/home/namle/.local/lib/python3.10/site-packages/torch_geometric/warnings.py:11: UserWarning: The usage of `scatter(reduce='max')` can be accelerated via the 'torch-scatter' package, but it was not found\n",
      "  warnings.warn(message)\n"
     ]
    },
    {
     "name": "stdout",
     "output_type": "stream",
     "text": [
      "Saving model prc\n",
      "Saving model acc\n",
      "Saving model roc\n",
      "Epoch: 24 (110.6215s), train_loss: 0.3666, val_loss: 0.3675, train_acc: 0.8412, val_acc:0.8434\n",
      "\t\ttrain_roc: 0.9147, val_roc: 0.9147, train_auprc: 0.8990, val_auprc: 0.8989\n"
     ]
    },
    {
     "name": "stderr",
     "output_type": "stream",
     "text": [
      "/home/namle/.local/lib/python3.10/site-packages/torch_geometric/warnings.py:11: UserWarning: The usage of `scatter(reduce='max')` can be accelerated via the 'torch-scatter' package, but it was not found\n",
      "  warnings.warn(message)\n"
     ]
    },
    {
     "name": "stdout",
     "output_type": "stream",
     "text": [
      "Epoch: 25 (111.5864s), train_loss: 0.3641, val_loss: 0.3741, train_acc: 0.8426, val_acc:0.8382\n",
      "\t\ttrain_roc: 0.9160, val_roc: 0.9127, train_auprc: 0.8999, val_auprc: 0.8974\n"
     ]
    },
    {
     "name": "stderr",
     "output_type": "stream",
     "text": [
      "/home/namle/.local/lib/python3.10/site-packages/torch_geometric/warnings.py:11: UserWarning: The usage of `scatter(reduce='max')` can be accelerated via the 'torch-scatter' package, but it was not found\n",
      "  warnings.warn(message)\n"
     ]
    },
    {
     "name": "stdout",
     "output_type": "stream",
     "text": [
      "Saving model prc\n",
      "Saving model roc\n",
      "Epoch: 26 (112.2543s), train_loss: 0.3580, val_loss: 0.3691, train_acc: 0.8462, val_acc:0.8378\n",
      "\t\ttrain_roc: 0.9188, val_roc: 0.9151, train_auprc: 0.9034, val_auprc: 0.9013\n"
     ]
    },
    {
     "name": "stderr",
     "output_type": "stream",
     "text": [
      "/home/namle/.local/lib/python3.10/site-packages/torch_geometric/warnings.py:11: UserWarning: The usage of `scatter(reduce='max')` can be accelerated via the 'torch-scatter' package, but it was not found\n",
      "  warnings.warn(message)\n"
     ]
    },
    {
     "name": "stdout",
     "output_type": "stream",
     "text": [
      "Saving model prc\n",
      "Saving model acc\n",
      "Saving model roc\n",
      "Epoch: 27 (111.0201s), train_loss: 0.3568, val_loss: 0.3625, train_acc: 0.8471, val_acc:0.8455\n",
      "\t\ttrain_roc: 0.9196, val_roc: 0.9168, train_auprc: 0.9034, val_auprc: 0.9015\n"
     ]
    },
    {
     "name": "stderr",
     "output_type": "stream",
     "text": [
      "/home/namle/.local/lib/python3.10/site-packages/torch_geometric/warnings.py:11: UserWarning: The usage of `scatter(reduce='max')` can be accelerated via the 'torch-scatter' package, but it was not found\n",
      "  warnings.warn(message)\n"
     ]
    },
    {
     "name": "stdout",
     "output_type": "stream",
     "text": [
      "Epoch: 28 (111.1323s), train_loss: 0.3476, val_loss: 0.3687, train_acc: 0.8511, val_acc:0.8414\n",
      "\t\ttrain_roc: 0.9233, val_roc: 0.9149, train_auprc: 0.9084, val_auprc: 0.9003\n"
     ]
    },
    {
     "name": "stderr",
     "output_type": "stream",
     "text": [
      "/home/namle/.local/lib/python3.10/site-packages/torch_geometric/warnings.py:11: UserWarning: The usage of `scatter(reduce='max')` can be accelerated via the 'torch-scatter' package, but it was not found\n",
      "  warnings.warn(message)\n"
     ]
    },
    {
     "name": "stdout",
     "output_type": "stream",
     "text": [
      "Saving model prc\n",
      "Saving model acc\n",
      "Saving model roc\n",
      "Epoch: 29 (110.5392s), train_loss: 0.3474, val_loss: 0.3556, train_acc: 0.8520, val_acc:0.8473\n",
      "\t\ttrain_roc: 0.9235, val_roc: 0.9207, train_auprc: 0.9085, val_auprc: 0.9064\n"
     ]
    },
    {
     "name": "stderr",
     "output_type": "stream",
     "text": [
      "/home/namle/.local/lib/python3.10/site-packages/torch_geometric/warnings.py:11: UserWarning: The usage of `scatter(reduce='max')` can be accelerated via the 'torch-scatter' package, but it was not found\n",
      "  warnings.warn(message)\n"
     ]
    },
    {
     "name": "stdout",
     "output_type": "stream",
     "text": [
      "Saving model acc\n",
      "Epoch: 30 (111.7972s), train_loss: 0.3427, val_loss: 0.3592, train_acc: 0.8537, val_acc:0.8487\n",
      "\t\ttrain_roc: 0.9255, val_roc: 0.9191, train_auprc: 0.9108, val_auprc: 0.9038\n"
     ]
    },
    {
     "name": "stderr",
     "output_type": "stream",
     "text": [
      "/home/namle/.local/lib/python3.10/site-packages/torch_geometric/warnings.py:11: UserWarning: The usage of `scatter(reduce='max')` can be accelerated via the 'torch-scatter' package, but it was not found\n",
      "  warnings.warn(message)\n"
     ]
    },
    {
     "name": "stdout",
     "output_type": "stream",
     "text": [
      "Saving model prc\n",
      "Saving model acc\n",
      "Saving model roc\n",
      "Epoch: 31 (112.7801s), train_loss: 0.3407, val_loss: 0.3467, train_acc: 0.8559, val_acc:0.8536\n",
      "\t\ttrain_roc: 0.9265, val_roc: 0.9238, train_auprc: 0.9112, val_auprc: 0.9101\n"
     ]
    },
    {
     "name": "stderr",
     "output_type": "stream",
     "text": [
      "/home/namle/.local/lib/python3.10/site-packages/torch_geometric/warnings.py:11: UserWarning: The usage of `scatter(reduce='max')` can be accelerated via the 'torch-scatter' package, but it was not found\n",
      "  warnings.warn(message)\n"
     ]
    },
    {
     "name": "stdout",
     "output_type": "stream",
     "text": [
      "Saving model prc\n",
      "Saving model acc\n",
      "Saving model roc\n",
      "Epoch: 32 (111.4543s), train_loss: 0.3347, val_loss: 0.3458, train_acc: 0.8592, val_acc:0.8537\n",
      "\t\ttrain_roc: 0.9290, val_roc: 0.9252, train_auprc: 0.9145, val_auprc: 0.9102\n"
     ]
    },
    {
     "name": "stderr",
     "output_type": "stream",
     "text": [
      "/home/namle/.local/lib/python3.10/site-packages/torch_geometric/warnings.py:11: UserWarning: The usage of `scatter(reduce='max')` can be accelerated via the 'torch-scatter' package, but it was not found\n",
      "  warnings.warn(message)\n"
     ]
    },
    {
     "name": "stdout",
     "output_type": "stream",
     "text": [
      "Saving model prc\n",
      "Saving model acc\n",
      "Saving model roc\n",
      "Epoch: 33 (112.8873s), train_loss: 0.3331, val_loss: 0.3456, train_acc: 0.8599, val_acc:0.8553\n",
      "\t\ttrain_roc: 0.9296, val_roc: 0.9266, train_auprc: 0.9154, val_auprc: 0.9125\n"
     ]
    },
    {
     "name": "stderr",
     "output_type": "stream",
     "text": [
      "/home/namle/.local/lib/python3.10/site-packages/torch_geometric/warnings.py:11: UserWarning: The usage of `scatter(reduce='max')` can be accelerated via the 'torch-scatter' package, but it was not found\n",
      "  warnings.warn(message)\n"
     ]
    },
    {
     "name": "stdout",
     "output_type": "stream",
     "text": [
      "Saving model prc\n",
      "Saving model acc\n",
      "Saving model roc\n",
      "Epoch: 34 (110.6848s), train_loss: 0.3276, val_loss: 0.3428, train_acc: 0.8635, val_acc:0.8571\n",
      "\t\ttrain_roc: 0.9319, val_roc: 0.9268, train_auprc: 0.9177, val_auprc: 0.9130\n"
     ]
    },
    {
     "name": "stderr",
     "output_type": "stream",
     "text": [
      "/home/namle/.local/lib/python3.10/site-packages/torch_geometric/warnings.py:11: UserWarning: The usage of `scatter(reduce='max')` can be accelerated via the 'torch-scatter' package, but it was not found\n",
      "  warnings.warn(message)\n"
     ]
    },
    {
     "name": "stdout",
     "output_type": "stream",
     "text": [
      "Saving model prc\n",
      "Saving model roc\n",
      "Epoch: 35 (112.3106s), train_loss: 0.3239, val_loss: 0.3442, train_acc: 0.8651, val_acc:0.8531\n",
      "\t\ttrain_roc: 0.9336, val_roc: 0.9276, train_auprc: 0.9194, val_auprc: 0.9145\n"
     ]
    },
    {
     "name": "stderr",
     "output_type": "stream",
     "text": [
      "/home/namle/.local/lib/python3.10/site-packages/torch_geometric/warnings.py:11: UserWarning: The usage of `scatter(reduce='max')` can be accelerated via the 'torch-scatter' package, but it was not found\n",
      "  warnings.warn(message)\n"
     ]
    },
    {
     "name": "stdout",
     "output_type": "stream",
     "text": [
      "Saving model prc\n",
      "Saving model acc\n",
      "Saving model roc\n",
      "Epoch: 36 (111.1421s), train_loss: 0.3225, val_loss: 0.3380, train_acc: 0.8652, val_acc:0.8578\n",
      "\t\ttrain_roc: 0.9339, val_roc: 0.9289, train_auprc: 0.9195, val_auprc: 0.9155\n"
     ]
    },
    {
     "name": "stderr",
     "output_type": "stream",
     "text": [
      "/home/namle/.local/lib/python3.10/site-packages/torch_geometric/warnings.py:11: UserWarning: The usage of `scatter(reduce='max')` can be accelerated via the 'torch-scatter' package, but it was not found\n",
      "  warnings.warn(message)\n"
     ]
    },
    {
     "name": "stdout",
     "output_type": "stream",
     "text": [
      "Saving model prc\n",
      "Saving model acc\n",
      "Saving model roc\n",
      "Epoch: 37 (111.7480s), train_loss: 0.3183, val_loss: 0.3320, train_acc: 0.8678, val_acc:0.8611\n",
      "\t\ttrain_roc: 0.9355, val_roc: 0.9309, train_auprc: 0.9222, val_auprc: 0.9177\n"
     ]
    },
    {
     "name": "stderr",
     "output_type": "stream",
     "text": [
      "/home/namle/.local/lib/python3.10/site-packages/torch_geometric/warnings.py:11: UserWarning: The usage of `scatter(reduce='max')` can be accelerated via the 'torch-scatter' package, but it was not found\n",
      "  warnings.warn(message)\n"
     ]
    },
    {
     "name": "stdout",
     "output_type": "stream",
     "text": [
      "Saving model prc\n",
      "Saving model acc\n",
      "Saving model roc\n",
      "Epoch: 38 (111.2274s), train_loss: 0.3142, val_loss: 0.3309, train_acc: 0.8696, val_acc:0.8623\n",
      "\t\ttrain_roc: 0.9372, val_roc: 0.9312, train_auprc: 0.9237, val_auprc: 0.9181\n"
     ]
    },
    {
     "name": "stderr",
     "output_type": "stream",
     "text": [
      "/home/namle/.local/lib/python3.10/site-packages/torch_geometric/warnings.py:11: UserWarning: The usage of `scatter(reduce='max')` can be accelerated via the 'torch-scatter' package, but it was not found\n",
      "  warnings.warn(message)\n"
     ]
    },
    {
     "name": "stdout",
     "output_type": "stream",
     "text": [
      "Saving model prc\n",
      "Saving model roc\n",
      "Epoch: 39 (113.4347s), train_loss: 0.3103, val_loss: 0.3285, train_acc: 0.8723, val_acc:0.8622\n",
      "\t\ttrain_roc: 0.9388, val_roc: 0.9325, train_auprc: 0.9257, val_auprc: 0.9205\n"
     ]
    },
    {
     "name": "stderr",
     "output_type": "stream",
     "text": [
      "/home/namle/.local/lib/python3.10/site-packages/torch_geometric/warnings.py:11: UserWarning: The usage of `scatter(reduce='max')` can be accelerated via the 'torch-scatter' package, but it was not found\n",
      "  warnings.warn(message)\n"
     ]
    },
    {
     "name": "stdout",
     "output_type": "stream",
     "text": [
      "Saving model prc\n",
      "Saving model acc\n",
      "Saving model roc\n",
      "Epoch: 40 (111.2918s), train_loss: 0.3085, val_loss: 0.3262, train_acc: 0.8729, val_acc:0.8649\n",
      "\t\ttrain_roc: 0.9393, val_roc: 0.9333, train_auprc: 0.9261, val_auprc: 0.9206\n"
     ]
    },
    {
     "name": "stderr",
     "output_type": "stream",
     "text": [
      "/home/namle/.local/lib/python3.10/site-packages/torch_geometric/warnings.py:11: UserWarning: The usage of `scatter(reduce='max')` can be accelerated via the 'torch-scatter' package, but it was not found\n",
      "  warnings.warn(message)\n"
     ]
    },
    {
     "name": "stdout",
     "output_type": "stream",
     "text": [
      "Saving model prc\n",
      "Saving model roc\n",
      "Epoch: 41 (112.3467s), train_loss: 0.3040, val_loss: 0.3272, train_acc: 0.8749, val_acc:0.8648\n",
      "\t\ttrain_roc: 0.9411, val_roc: 0.9340, train_auprc: 0.9282, val_auprc: 0.9217\n"
     ]
    },
    {
     "name": "stderr",
     "output_type": "stream",
     "text": [
      "/home/namle/.local/lib/python3.10/site-packages/torch_geometric/warnings.py:11: UserWarning: The usage of `scatter(reduce='max')` can be accelerated via the 'torch-scatter' package, but it was not found\n",
      "  warnings.warn(message)\n"
     ]
    },
    {
     "name": "stdout",
     "output_type": "stream",
     "text": [
      "Saving model prc\n",
      "Saving model acc\n",
      "Saving model roc\n",
      "Epoch: 42 (112.3722s), train_loss: 0.3038, val_loss: 0.3207, train_acc: 0.8755, val_acc:0.8675\n",
      "\t\ttrain_roc: 0.9413, val_roc: 0.9353, train_auprc: 0.9281, val_auprc: 0.9220\n"
     ]
    },
    {
     "name": "stderr",
     "output_type": "stream",
     "text": [
      "/home/namle/.local/lib/python3.10/site-packages/torch_geometric/warnings.py:11: UserWarning: The usage of `scatter(reduce='max')` can be accelerated via the 'torch-scatter' package, but it was not found\n",
      "  warnings.warn(message)\n"
     ]
    },
    {
     "name": "stdout",
     "output_type": "stream",
     "text": [
      "Saving model prc\n",
      "Epoch: 43 (112.2605s), train_loss: 0.2995, val_loss: 0.3222, train_acc: 0.8777, val_acc:0.8667\n",
      "\t\ttrain_roc: 0.9428, val_roc: 0.9351, train_auprc: 0.9299, val_auprc: 0.9221\n"
     ]
    },
    {
     "name": "stderr",
     "output_type": "stream",
     "text": [
      "/home/namle/.local/lib/python3.10/site-packages/torch_geometric/warnings.py:11: UserWarning: The usage of `scatter(reduce='max')` can be accelerated via the 'torch-scatter' package, but it was not found\n",
      "  warnings.warn(message)\n"
     ]
    },
    {
     "name": "stdout",
     "output_type": "stream",
     "text": [
      "Saving model prc\n",
      "Saving model acc\n",
      "Saving model roc\n",
      "Epoch: 44 (111.7587s), train_loss: 0.2971, val_loss: 0.3154, train_acc: 0.8791, val_acc:0.8715\n",
      "\t\ttrain_roc: 0.9438, val_roc: 0.9374, train_auprc: 0.9314, val_auprc: 0.9247\n"
     ]
    },
    {
     "name": "stderr",
     "output_type": "stream",
     "text": [
      "/home/namle/.local/lib/python3.10/site-packages/torch_geometric/warnings.py:11: UserWarning: The usage of `scatter(reduce='max')` can be accelerated via the 'torch-scatter' package, but it was not found\n",
      "  warnings.warn(message)\n"
     ]
    },
    {
     "name": "stdout",
     "output_type": "stream",
     "text": [
      "Epoch: 45 (111.8840s), train_loss: 0.2951, val_loss: 0.3187, train_acc: 0.8793, val_acc:0.8680\n",
      "\t\ttrain_roc: 0.9445, val_roc: 0.9365, train_auprc: 0.9324, val_auprc: 0.9247\n"
     ]
    },
    {
     "name": "stderr",
     "output_type": "stream",
     "text": [
      "/home/namle/.local/lib/python3.10/site-packages/torch_geometric/warnings.py:11: UserWarning: The usage of `scatter(reduce='max')` can be accelerated via the 'torch-scatter' package, but it was not found\n",
      "  warnings.warn(message)\n"
     ]
    },
    {
     "name": "stdout",
     "output_type": "stream",
     "text": [
      "Epoch: 46 (111.0958s), train_loss: 0.2927, val_loss: 0.3181, train_acc: 0.8818, val_acc:0.8698\n",
      "\t\ttrain_roc: 0.9454, val_roc: 0.9362, train_auprc: 0.9330, val_auprc: 0.9229\n"
     ]
    },
    {
     "name": "stderr",
     "output_type": "stream",
     "text": [
      "/home/namle/.local/lib/python3.10/site-packages/torch_geometric/warnings.py:11: UserWarning: The usage of `scatter(reduce='max')` can be accelerated via the 'torch-scatter' package, but it was not found\n",
      "  warnings.warn(message)\n"
     ]
    },
    {
     "name": "stdout",
     "output_type": "stream",
     "text": [
      "Saving model prc\n",
      "Saving model acc\n",
      "Saving model roc\n",
      "Epoch: 47 (112.4713s), train_loss: 0.2909, val_loss: 0.3102, train_acc: 0.8829, val_acc:0.8730\n",
      "\t\ttrain_roc: 0.9458, val_roc: 0.9396, train_auprc: 0.9329, val_auprc: 0.9278\n"
     ]
    },
    {
     "name": "stderr",
     "output_type": "stream",
     "text": [
      "/home/namle/.local/lib/python3.10/site-packages/torch_geometric/warnings.py:11: UserWarning: The usage of `scatter(reduce='max')` can be accelerated via the 'torch-scatter' package, but it was not found\n",
      "  warnings.warn(message)\n"
     ]
    },
    {
     "name": "stdout",
     "output_type": "stream",
     "text": [
      "Saving model prc\n",
      "Epoch: 48 (111.4418s), train_loss: 0.2874, val_loss: 0.3128, train_acc: 0.8847, val_acc:0.8710\n",
      "\t\ttrain_roc: 0.9470, val_roc: 0.9392, train_auprc: 0.9344, val_auprc: 0.9278\n"
     ]
    },
    {
     "name": "stderr",
     "output_type": "stream",
     "text": [
      "/home/namle/.local/lib/python3.10/site-packages/torch_geometric/warnings.py:11: UserWarning: The usage of `scatter(reduce='max')` can be accelerated via the 'torch-scatter' package, but it was not found\n",
      "  warnings.warn(message)\n"
     ]
    },
    {
     "name": "stdout",
     "output_type": "stream",
     "text": [
      "Saving model prc\n",
      "Saving model acc\n",
      "Saving model roc\n",
      "Epoch: 49 (111.6469s), train_loss: 0.2836, val_loss: 0.3081, train_acc: 0.8855, val_acc:0.8739\n",
      "\t\ttrain_roc: 0.9483, val_roc: 0.9405, train_auprc: 0.9366, val_auprc: 0.9291\n"
     ]
    },
    {
     "name": "stderr",
     "output_type": "stream",
     "text": [
      "/home/namle/.local/lib/python3.10/site-packages/torch_geometric/warnings.py:11: UserWarning: The usage of `scatter(reduce='max')` can be accelerated via the 'torch-scatter' package, but it was not found\n",
      "  warnings.warn(message)\n"
     ]
    },
    {
     "name": "stdout",
     "output_type": "stream",
     "text": [
      "Saving model prc\n",
      "Saving model acc\n",
      "Saving model roc\n",
      "Epoch: 50 (112.0352s), train_loss: 0.2823, val_loss: 0.3033, train_acc: 0.8864, val_acc:0.8761\n",
      "\t\ttrain_roc: 0.9487, val_roc: 0.9422, train_auprc: 0.9367, val_auprc: 0.9315\n"
     ]
    },
    {
     "name": "stderr",
     "output_type": "stream",
     "text": [
      "/home/namle/.local/lib/python3.10/site-packages/torch_geometric/warnings.py:11: UserWarning: The usage of `scatter(reduce='max')` can be accelerated via the 'torch-scatter' package, but it was not found\n",
      "  warnings.warn(message)\n"
     ]
    },
    {
     "name": "stdout",
     "output_type": "stream",
     "text": [
      "Saving model prc\n",
      "Saving model acc\n",
      "Saving model roc\n",
      "Epoch: 51 (112.0072s), train_loss: 0.2778, val_loss: 0.2994, train_acc: 0.8884, val_acc:0.8780\n",
      "\t\ttrain_roc: 0.9504, val_roc: 0.9438, train_auprc: 0.9390, val_auprc: 0.9336\n"
     ]
    },
    {
     "name": "stderr",
     "output_type": "stream",
     "text": [
      "/home/namle/.local/lib/python3.10/site-packages/torch_geometric/warnings.py:11: UserWarning: The usage of `scatter(reduce='max')` can be accelerated via the 'torch-scatter' package, but it was not found\n",
      "  warnings.warn(message)\n"
     ]
    },
    {
     "name": "stdout",
     "output_type": "stream",
     "text": [
      "Saving model acc\n",
      "Saving model roc\n",
      "Epoch: 52 (111.0960s), train_loss: 0.2760, val_loss: 0.3008, train_acc: 0.8889, val_acc:0.8782\n",
      "\t\ttrain_roc: 0.9508, val_roc: 0.9440, train_auprc: 0.9396, val_auprc: 0.9329\n"
     ]
    },
    {
     "name": "stderr",
     "output_type": "stream",
     "text": [
      "/home/namle/.local/lib/python3.10/site-packages/torch_geometric/warnings.py:11: UserWarning: The usage of `scatter(reduce='max')` can be accelerated via the 'torch-scatter' package, but it was not found\n",
      "  warnings.warn(message)\n"
     ]
    },
    {
     "name": "stdout",
     "output_type": "stream",
     "text": [
      "Epoch: 53 (111.7002s), train_loss: 0.2752, val_loss: 0.2992, train_acc: 0.8894, val_acc:0.8780\n",
      "\t\ttrain_roc: 0.9511, val_roc: 0.9440, train_auprc: 0.9396, val_auprc: 0.9334\n"
     ]
    },
    {
     "name": "stderr",
     "output_type": "stream",
     "text": [
      "/home/namle/.local/lib/python3.10/site-packages/torch_geometric/warnings.py:11: UserWarning: The usage of `scatter(reduce='max')` can be accelerated via the 'torch-scatter' package, but it was not found\n",
      "  warnings.warn(message)\n"
     ]
    },
    {
     "name": "stdout",
     "output_type": "stream",
     "text": [
      "Saving model prc\n",
      "Saving model acc\n",
      "Saving model roc\n",
      "Epoch: 54 (111.8270s), train_loss: 0.2720, val_loss: 0.2989, train_acc: 0.8911, val_acc:0.8789\n",
      "\t\ttrain_roc: 0.9523, val_roc: 0.9446, train_auprc: 0.9414, val_auprc: 0.9341\n"
     ]
    },
    {
     "name": "stderr",
     "output_type": "stream",
     "text": [
      "/home/namle/.local/lib/python3.10/site-packages/torch_geometric/warnings.py:11: UserWarning: The usage of `scatter(reduce='max')` can be accelerated via the 'torch-scatter' package, but it was not found\n",
      "  warnings.warn(message)\n"
     ]
    },
    {
     "name": "stdout",
     "output_type": "stream",
     "text": [
      "Saving model prc\n",
      "Saving model acc\n",
      "Saving model roc\n",
      "Epoch: 55 (110.7173s), train_loss: 0.2705, val_loss: 0.2968, train_acc: 0.8918, val_acc:0.8789\n",
      "\t\ttrain_roc: 0.9526, val_roc: 0.9455, train_auprc: 0.9413, val_auprc: 0.9357\n"
     ]
    },
    {
     "name": "stderr",
     "output_type": "stream",
     "text": [
      "/home/namle/.local/lib/python3.10/site-packages/torch_geometric/warnings.py:11: UserWarning: The usage of `scatter(reduce='max')` can be accelerated via the 'torch-scatter' package, but it was not found\n",
      "  warnings.warn(message)\n"
     ]
    },
    {
     "name": "stdout",
     "output_type": "stream",
     "text": [
      "Saving model prc\n",
      "Saving model acc\n",
      "Saving model roc\n",
      "Epoch: 56 (111.5148s), train_loss: 0.2694, val_loss: 0.2937, train_acc: 0.8934, val_acc:0.8806\n",
      "\t\ttrain_roc: 0.9532, val_roc: 0.9458, train_auprc: 0.9422, val_auprc: 0.9363\n"
     ]
    },
    {
     "name": "stderr",
     "output_type": "stream",
     "text": [
      "/home/namle/.local/lib/python3.10/site-packages/torch_geometric/warnings.py:11: UserWarning: The usage of `scatter(reduce='max')` can be accelerated via the 'torch-scatter' package, but it was not found\n",
      "  warnings.warn(message)\n"
     ]
    },
    {
     "name": "stdout",
     "output_type": "stream",
     "text": [
      "Saving model acc\n",
      "Epoch: 57 (112.3078s), train_loss: 0.2662, val_loss: 0.2944, train_acc: 0.8942, val_acc:0.8807\n",
      "\t\ttrain_roc: 0.9541, val_roc: 0.9456, train_auprc: 0.9433, val_auprc: 0.9358\n"
     ]
    },
    {
     "name": "stderr",
     "output_type": "stream",
     "text": [
      "/home/namle/.local/lib/python3.10/site-packages/torch_geometric/warnings.py:11: UserWarning: The usage of `scatter(reduce='max')` can be accelerated via the 'torch-scatter' package, but it was not found\n",
      "  warnings.warn(message)\n"
     ]
    },
    {
     "name": "stdout",
     "output_type": "stream",
     "text": [
      "Saving model prc\n",
      "Saving model acc\n",
      "Saving model roc\n",
      "Epoch: 58 (112.7414s), train_loss: 0.2642, val_loss: 0.2924, train_acc: 0.8958, val_acc:0.8830\n",
      "\t\ttrain_roc: 0.9548, val_roc: 0.9467, train_auprc: 0.9436, val_auprc: 0.9364\n"
     ]
    },
    {
     "name": "stderr",
     "output_type": "stream",
     "text": [
      "/home/namle/.local/lib/python3.10/site-packages/torch_geometric/warnings.py:11: UserWarning: The usage of `scatter(reduce='max')` can be accelerated via the 'torch-scatter' package, but it was not found\n",
      "  warnings.warn(message)\n"
     ]
    },
    {
     "name": "stdout",
     "output_type": "stream",
     "text": [
      "Saving model prc\n",
      "Epoch: 59 (112.2147s), train_loss: 0.2599, val_loss: 0.2937, train_acc: 0.8977, val_acc:0.8801\n",
      "\t\ttrain_roc: 0.9561, val_roc: 0.9466, train_auprc: 0.9456, val_auprc: 0.9368\n"
     ]
    },
    {
     "name": "stderr",
     "output_type": "stream",
     "text": [
      "/home/namle/.local/lib/python3.10/site-packages/torch_geometric/warnings.py:11: UserWarning: The usage of `scatter(reduce='max')` can be accelerated via the 'torch-scatter' package, but it was not found\n",
      "  warnings.warn(message)\n"
     ]
    },
    {
     "name": "stdout",
     "output_type": "stream",
     "text": [
      "Saving model prc\n",
      "Saving model roc\n",
      "Epoch: 60 (110.5283s), train_loss: 0.2594, val_loss: 0.2911, train_acc: 0.8977, val_acc:0.8827\n",
      "\t\ttrain_roc: 0.9561, val_roc: 0.9470, train_auprc: 0.9452, val_auprc: 0.9373\n"
     ]
    },
    {
     "name": "stderr",
     "output_type": "stream",
     "text": [
      "/home/namle/.local/lib/python3.10/site-packages/torch_geometric/warnings.py:11: UserWarning: The usage of `scatter(reduce='max')` can be accelerated via the 'torch-scatter' package, but it was not found\n",
      "  warnings.warn(message)\n"
     ]
    },
    {
     "name": "stdout",
     "output_type": "stream",
     "text": [
      "Saving model prc\n",
      "Saving model acc\n",
      "Saving model roc\n",
      "Epoch: 61 (112.6540s), train_loss: 0.2593, val_loss: 0.2882, train_acc: 0.8980, val_acc:0.8835\n",
      "\t\ttrain_roc: 0.9562, val_roc: 0.9478, train_auprc: 0.9453, val_auprc: 0.9383\n"
     ]
    },
    {
     "name": "stderr",
     "output_type": "stream",
     "text": [
      "/home/namle/.local/lib/python3.10/site-packages/torch_geometric/warnings.py:11: UserWarning: The usage of `scatter(reduce='max')` can be accelerated via the 'torch-scatter' package, but it was not found\n",
      "  warnings.warn(message)\n"
     ]
    },
    {
     "name": "stdout",
     "output_type": "stream",
     "text": [
      "Saving model acc\n",
      "Epoch: 62 (111.1737s), train_loss: 0.2556, val_loss: 0.2899, train_acc: 0.8991, val_acc:0.8837\n",
      "\t\ttrain_roc: 0.9573, val_roc: 0.9477, train_auprc: 0.9472, val_auprc: 0.9377\n"
     ]
    },
    {
     "name": "stderr",
     "output_type": "stream",
     "text": [
      "/home/namle/.local/lib/python3.10/site-packages/torch_geometric/warnings.py:11: UserWarning: The usage of `scatter(reduce='max')` can be accelerated via the 'torch-scatter' package, but it was not found\n",
      "  warnings.warn(message)\n"
     ]
    },
    {
     "name": "stdout",
     "output_type": "stream",
     "text": [
      "Saving model prc\n",
      "Saving model acc\n",
      "Saving model roc\n",
      "Epoch: 63 (112.7872s), train_loss: 0.2541, val_loss: 0.2878, train_acc: 0.9003, val_acc:0.8857\n",
      "\t\ttrain_roc: 0.9578, val_roc: 0.9488, train_auprc: 0.9477, val_auprc: 0.9391\n"
     ]
    },
    {
     "name": "stderr",
     "output_type": "stream",
     "text": [
      "/home/namle/.local/lib/python3.10/site-packages/torch_geometric/warnings.py:11: UserWarning: The usage of `scatter(reduce='max')` can be accelerated via the 'torch-scatter' package, but it was not found\n",
      "  warnings.warn(message)\n"
     ]
    },
    {
     "name": "stdout",
     "output_type": "stream",
     "text": [
      "Epoch: 64 (111.7802s), train_loss: 0.2527, val_loss: 0.2898, train_acc: 0.9011, val_acc:0.8848\n",
      "\t\ttrain_roc: 0.9584, val_roc: 0.9479, train_auprc: 0.9480, val_auprc: 0.9373\n"
     ]
    },
    {
     "name": "stderr",
     "output_type": "stream",
     "text": [
      "/home/namle/.local/lib/python3.10/site-packages/torch_geometric/warnings.py:11: UserWarning: The usage of `scatter(reduce='max')` can be accelerated via the 'torch-scatter' package, but it was not found\n",
      "  warnings.warn(message)\n"
     ]
    },
    {
     "name": "stdout",
     "output_type": "stream",
     "text": [
      "Saving model prc\n",
      "Saving model acc\n",
      "Saving model roc\n",
      "Epoch: 65 (111.5092s), train_loss: 0.2507, val_loss: 0.2825, train_acc: 0.9019, val_acc:0.8874\n",
      "\t\ttrain_roc: 0.9588, val_roc: 0.9502, train_auprc: 0.9485, val_auprc: 0.9410\n"
     ]
    },
    {
     "name": "stderr",
     "output_type": "stream",
     "text": [
      "/home/namle/.local/lib/python3.10/site-packages/torch_geometric/warnings.py:11: UserWarning: The usage of `scatter(reduce='max')` can be accelerated via the 'torch-scatter' package, but it was not found\n",
      "  warnings.warn(message)\n"
     ]
    },
    {
     "name": "stdout",
     "output_type": "stream",
     "text": [
      "Epoch: 66 (112.8885s), train_loss: 0.2488, val_loss: 0.2873, train_acc: 0.9024, val_acc:0.8865\n",
      "\t\ttrain_roc: 0.9594, val_roc: 0.9488, train_auprc: 0.9495, val_auprc: 0.9387\n"
     ]
    },
    {
     "name": "stderr",
     "output_type": "stream",
     "text": [
      "/home/namle/.local/lib/python3.10/site-packages/torch_geometric/warnings.py:11: UserWarning: The usage of `scatter(reduce='max')` can be accelerated via the 'torch-scatter' package, but it was not found\n",
      "  warnings.warn(message)\n"
     ]
    },
    {
     "name": "stdout",
     "output_type": "stream",
     "text": [
      "Saving model prc\n",
      "Saving model roc\n",
      "Epoch: 67 (111.5205s), train_loss: 0.2493, val_loss: 0.2828, train_acc: 0.9023, val_acc:0.8872\n",
      "\t\ttrain_roc: 0.9592, val_roc: 0.9504, train_auprc: 0.9494, val_auprc: 0.9414\n"
     ]
    },
    {
     "name": "stderr",
     "output_type": "stream",
     "text": [
      "/home/namle/.local/lib/python3.10/site-packages/torch_geometric/warnings.py:11: UserWarning: The usage of `scatter(reduce='max')` can be accelerated via the 'torch-scatter' package, but it was not found\n",
      "  warnings.warn(message)\n"
     ]
    },
    {
     "name": "stdout",
     "output_type": "stream",
     "text": [
      "Epoch: 68 (113.1470s), train_loss: 0.2444, val_loss: 0.2864, train_acc: 0.9044, val_acc:0.8870\n",
      "\t\ttrain_roc: 0.9608, val_roc: 0.9499, train_auprc: 0.9513, val_auprc: 0.9395\n"
     ]
    },
    {
     "name": "stderr",
     "output_type": "stream",
     "text": [
      "/home/namle/.local/lib/python3.10/site-packages/torch_geometric/warnings.py:11: UserWarning: The usage of `scatter(reduce='max')` can be accelerated via the 'torch-scatter' package, but it was not found\n",
      "  warnings.warn(message)\n"
     ]
    },
    {
     "name": "stdout",
     "output_type": "stream",
     "text": [
      "Saving model prc\n",
      "Saving model acc\n",
      "Saving model roc\n",
      "Epoch: 69 (112.6862s), train_loss: 0.2445, val_loss: 0.2796, train_acc: 0.9053, val_acc:0.8885\n",
      "\t\ttrain_roc: 0.9608, val_roc: 0.9513, train_auprc: 0.9512, val_auprc: 0.9426\n"
     ]
    },
    {
     "name": "stderr",
     "output_type": "stream",
     "text": [
      "/home/namle/.local/lib/python3.10/site-packages/torch_geometric/warnings.py:11: UserWarning: The usage of `scatter(reduce='max')` can be accelerated via the 'torch-scatter' package, but it was not found\n",
      "  warnings.warn(message)\n"
     ]
    },
    {
     "name": "stdout",
     "output_type": "stream",
     "text": [
      "Saving model roc\n",
      "Epoch: 70 (111.4074s), train_loss: 0.2413, val_loss: 0.2809, train_acc: 0.9057, val_acc:0.8872\n",
      "\t\ttrain_roc: 0.9617, val_roc: 0.9514, train_auprc: 0.9526, val_auprc: 0.9423\n"
     ]
    },
    {
     "name": "stderr",
     "output_type": "stream",
     "text": [
      "/home/namle/.local/lib/python3.10/site-packages/torch_geometric/warnings.py:11: UserWarning: The usage of `scatter(reduce='max')` can be accelerated via the 'torch-scatter' package, but it was not found\n",
      "  warnings.warn(message)\n"
     ]
    },
    {
     "name": "stdout",
     "output_type": "stream",
     "text": [
      "Epoch: 71 (110.8725s), train_loss: 0.2403, val_loss: 0.2843, train_acc: 0.9065, val_acc:0.8861\n",
      "\t\ttrain_roc: 0.9618, val_roc: 0.9504, train_auprc: 0.9523, val_auprc: 0.9414\n"
     ]
    },
    {
     "name": "stderr",
     "output_type": "stream",
     "text": [
      "/home/namle/.local/lib/python3.10/site-packages/torch_geometric/warnings.py:11: UserWarning: The usage of `scatter(reduce='max')` can be accelerated via the 'torch-scatter' package, but it was not found\n",
      "  warnings.warn(message)\n"
     ]
    },
    {
     "name": "stdout",
     "output_type": "stream",
     "text": [
      "Saving model acc\n",
      "Saving model roc\n",
      "Epoch: 72 (113.2000s), train_loss: 0.2401, val_loss: 0.2788, train_acc: 0.9076, val_acc:0.8901\n",
      "\t\ttrain_roc: 0.9617, val_roc: 0.9523, train_auprc: 0.9522, val_auprc: 0.9424\n"
     ]
    },
    {
     "name": "stderr",
     "output_type": "stream",
     "text": [
      "/home/namle/.local/lib/python3.10/site-packages/torch_geometric/warnings.py:11: UserWarning: The usage of `scatter(reduce='max')` can be accelerated via the 'torch-scatter' package, but it was not found\n",
      "  warnings.warn(message)\n"
     ]
    },
    {
     "name": "stdout",
     "output_type": "stream",
     "text": [
      "Saving model prc\n",
      "Saving model acc\n",
      "Saving model roc\n",
      "Epoch: 73 (111.4768s), train_loss: 0.2380, val_loss: 0.2746, train_acc: 0.9077, val_acc:0.8908\n",
      "\t\ttrain_roc: 0.9625, val_roc: 0.9533, train_auprc: 0.9530, val_auprc: 0.9445\n"
     ]
    },
    {
     "name": "stderr",
     "output_type": "stream",
     "text": [
      "/home/namle/.local/lib/python3.10/site-packages/torch_geometric/warnings.py:11: UserWarning: The usage of `scatter(reduce='max')` can be accelerated via the 'torch-scatter' package, but it was not found\n",
      "  warnings.warn(message)\n"
     ]
    },
    {
     "name": "stdout",
     "output_type": "stream",
     "text": [
      "Epoch: 74 (111.3727s), train_loss: 0.2383, val_loss: 0.2774, train_acc: 0.9084, val_acc:0.8894\n",
      "\t\ttrain_roc: 0.9623, val_roc: 0.9526, train_auprc: 0.9522, val_auprc: 0.9434\n"
     ]
    },
    {
     "name": "stderr",
     "output_type": "stream",
     "text": [
      "/home/namle/.local/lib/python3.10/site-packages/torch_geometric/warnings.py:11: UserWarning: The usage of `scatter(reduce='max')` can be accelerated via the 'torch-scatter' package, but it was not found\n",
      "  warnings.warn(message)\n"
     ]
    },
    {
     "name": "stdout",
     "output_type": "stream",
     "text": [
      "Saving model prc\n",
      "Saving model acc\n",
      "Saving model roc\n",
      "Epoch: 75 (110.4473s), train_loss: 0.2354, val_loss: 0.2730, train_acc: 0.9095, val_acc:0.8912\n",
      "\t\ttrain_roc: 0.9631, val_roc: 0.9540, train_auprc: 0.9538, val_auprc: 0.9458\n"
     ]
    },
    {
     "name": "stderr",
     "output_type": "stream",
     "text": [
      "/home/namle/.local/lib/python3.10/site-packages/torch_geometric/warnings.py:11: UserWarning: The usage of `scatter(reduce='max')` can be accelerated via the 'torch-scatter' package, but it was not found\n",
      "  warnings.warn(message)\n"
     ]
    },
    {
     "name": "stdout",
     "output_type": "stream",
     "text": [
      "Epoch: 76 (111.5422s), train_loss: 0.2329, val_loss: 0.2778, train_acc: 0.9101, val_acc:0.8897\n",
      "\t\ttrain_roc: 0.9639, val_roc: 0.9533, train_auprc: 0.9551, val_auprc: 0.9447\n"
     ]
    },
    {
     "name": "stderr",
     "output_type": "stream",
     "text": [
      "/home/namle/.local/lib/python3.10/site-packages/torch_geometric/warnings.py:11: UserWarning: The usage of `scatter(reduce='max')` can be accelerated via the 'torch-scatter' package, but it was not found\n",
      "  warnings.warn(message)\n"
     ]
    },
    {
     "name": "stdout",
     "output_type": "stream",
     "text": [
      "Saving model prc\n",
      "Saving model acc\n",
      "Saving model roc\n",
      "Epoch: 77 (111.4618s), train_loss: 0.2325, val_loss: 0.2744, train_acc: 0.9107, val_acc:0.8920\n",
      "\t\ttrain_roc: 0.9641, val_roc: 0.9546, train_auprc: 0.9549, val_auprc: 0.9468\n"
     ]
    },
    {
     "name": "stderr",
     "output_type": "stream",
     "text": [
      "/home/namle/.local/lib/python3.10/site-packages/torch_geometric/warnings.py:11: UserWarning: The usage of `scatter(reduce='max')` can be accelerated via the 'torch-scatter' package, but it was not found\n",
      "  warnings.warn(message)\n"
     ]
    },
    {
     "name": "stdout",
     "output_type": "stream",
     "text": [
      "Saving model acc\n",
      "Epoch: 78 (112.2534s), train_loss: 0.2308, val_loss: 0.2751, train_acc: 0.9112, val_acc:0.8924\n",
      "\t\ttrain_roc: 0.9647, val_roc: 0.9538, train_auprc: 0.9562, val_auprc: 0.9452\n"
     ]
    },
    {
     "name": "stderr",
     "output_type": "stream",
     "text": [
      "/home/namle/.local/lib/python3.10/site-packages/torch_geometric/warnings.py:11: UserWarning: The usage of `scatter(reduce='max')` can be accelerated via the 'torch-scatter' package, but it was not found\n",
      "  warnings.warn(message)\n"
     ]
    },
    {
     "name": "stdout",
     "output_type": "stream",
     "text": [
      "Epoch: 79 (111.6319s), train_loss: 0.2296, val_loss: 0.2735, train_acc: 0.9119, val_acc:0.8922\n",
      "\t\ttrain_roc: 0.9649, val_roc: 0.9540, train_auprc: 0.9560, val_auprc: 0.9457\n"
     ]
    },
    {
     "name": "stderr",
     "output_type": "stream",
     "text": [
      "/home/namle/.local/lib/python3.10/site-packages/torch_geometric/warnings.py:11: UserWarning: The usage of `scatter(reduce='max')` can be accelerated via the 'torch-scatter' package, but it was not found\n",
      "  warnings.warn(message)\n"
     ]
    },
    {
     "name": "stdout",
     "output_type": "stream",
     "text": [
      "Saving model acc\n",
      "Saving model roc\n",
      "Epoch: 80 (111.8775s), train_loss: 0.2297, val_loss: 0.2713, train_acc: 0.9117, val_acc:0.8936\n",
      "\t\ttrain_roc: 0.9649, val_roc: 0.9547, train_auprc: 0.9560, val_auprc: 0.9465\n"
     ]
    },
    {
     "name": "stderr",
     "output_type": "stream",
     "text": [
      "/home/namle/.local/lib/python3.10/site-packages/torch_geometric/warnings.py:11: UserWarning: The usage of `scatter(reduce='max')` can be accelerated via the 'torch-scatter' package, but it was not found\n",
      "  warnings.warn(message)\n"
     ]
    },
    {
     "name": "stdout",
     "output_type": "stream",
     "text": [
      "Epoch: 81 (112.1832s), train_loss: 0.2281, val_loss: 0.2740, train_acc: 0.9122, val_acc:0.8922\n",
      "\t\ttrain_roc: 0.9651, val_roc: 0.9542, train_auprc: 0.9563, val_auprc: 0.9463\n"
     ]
    },
    {
     "name": "stderr",
     "output_type": "stream",
     "text": [
      "/home/namle/.local/lib/python3.10/site-packages/torch_geometric/warnings.py:11: UserWarning: The usage of `scatter(reduce='max')` can be accelerated via the 'torch-scatter' package, but it was not found\n",
      "  warnings.warn(message)\n"
     ]
    },
    {
     "name": "stdout",
     "output_type": "stream",
     "text": [
      "Epoch: 82 (111.9915s), train_loss: 0.2276, val_loss: 0.2750, train_acc: 0.9130, val_acc:0.8919\n",
      "\t\ttrain_roc: 0.9653, val_roc: 0.9533, train_auprc: 0.9564, val_auprc: 0.9445\n"
     ]
    },
    {
     "name": "stderr",
     "output_type": "stream",
     "text": [
      "/home/namle/.local/lib/python3.10/site-packages/torch_geometric/warnings.py:11: UserWarning: The usage of `scatter(reduce='max')` can be accelerated via the 'torch-scatter' package, but it was not found\n",
      "  warnings.warn(message)\n"
     ]
    },
    {
     "name": "stdout",
     "output_type": "stream",
     "text": [
      "Epoch: 83 (112.7388s), train_loss: 0.2251, val_loss: 0.2728, train_acc: 0.9140, val_acc:0.8934\n",
      "\t\ttrain_roc: 0.9660, val_roc: 0.9542, train_auprc: 0.9575, val_auprc: 0.9460\n"
     ]
    },
    {
     "name": "stderr",
     "output_type": "stream",
     "text": [
      "/home/namle/.local/lib/python3.10/site-packages/torch_geometric/warnings.py:11: UserWarning: The usage of `scatter(reduce='max')` can be accelerated via the 'torch-scatter' package, but it was not found\n",
      "  warnings.warn(message)\n"
     ]
    },
    {
     "name": "stdout",
     "output_type": "stream",
     "text": [
      "Saving model prc\n",
      "Saving model acc\n",
      "Saving model roc\n",
      "Epoch: 84 (112.4296s), train_loss: 0.2257, val_loss: 0.2715, train_acc: 0.9144, val_acc:0.8945\n",
      "\t\ttrain_roc: 0.9660, val_roc: 0.9552, train_auprc: 0.9571, val_auprc: 0.9470\n"
     ]
    },
    {
     "name": "stderr",
     "output_type": "stream",
     "text": [
      "/home/namle/.local/lib/python3.10/site-packages/torch_geometric/warnings.py:11: UserWarning: The usage of `scatter(reduce='max')` can be accelerated via the 'torch-scatter' package, but it was not found\n",
      "  warnings.warn(message)\n"
     ]
    },
    {
     "name": "stdout",
     "output_type": "stream",
     "text": [
      "Saving model prc\n",
      "Epoch: 85 (110.6802s), train_loss: 0.2228, val_loss: 0.2715, train_acc: 0.9149, val_acc:0.8943\n",
      "\t\ttrain_roc: 0.9666, val_roc: 0.9551, train_auprc: 0.9581, val_auprc: 0.9477\n"
     ]
    },
    {
     "name": "stderr",
     "output_type": "stream",
     "text": [
      "/home/namle/.local/lib/python3.10/site-packages/torch_geometric/warnings.py:11: UserWarning: The usage of `scatter(reduce='max')` can be accelerated via the 'torch-scatter' package, but it was not found\n",
      "  warnings.warn(message)\n"
     ]
    },
    {
     "name": "stdout",
     "output_type": "stream",
     "text": [
      "Saving model roc\n",
      "Epoch: 86 (111.5426s), train_loss: 0.2220, val_loss: 0.2708, train_acc: 0.9158, val_acc:0.8945\n",
      "\t\ttrain_roc: 0.9668, val_roc: 0.9556, train_auprc: 0.9583, val_auprc: 0.9476\n"
     ]
    },
    {
     "name": "stderr",
     "output_type": "stream",
     "text": [
      "/home/namle/.local/lib/python3.10/site-packages/torch_geometric/warnings.py:11: UserWarning: The usage of `scatter(reduce='max')` can be accelerated via the 'torch-scatter' package, but it was not found\n",
      "  warnings.warn(message)\n"
     ]
    },
    {
     "name": "stdout",
     "output_type": "stream",
     "text": [
      "Epoch: 87 (111.7327s), train_loss: 0.2213, val_loss: 0.2733, train_acc: 0.9158, val_acc:0.8941\n",
      "\t\ttrain_roc: 0.9667, val_roc: 0.9553, train_auprc: 0.9580, val_auprc: 0.9472\n"
     ]
    },
    {
     "name": "stderr",
     "output_type": "stream",
     "text": [
      "/home/namle/.local/lib/python3.10/site-packages/torch_geometric/warnings.py:11: UserWarning: The usage of `scatter(reduce='max')` can be accelerated via the 'torch-scatter' package, but it was not found\n",
      "  warnings.warn(message)\n"
     ]
    },
    {
     "name": "stdout",
     "output_type": "stream",
     "text": [
      "Saving model prc\n",
      "Saving model acc\n",
      "Saving model roc\n",
      "Epoch: 88 (111.9582s), train_loss: 0.2197, val_loss: 0.2686, train_acc: 0.9165, val_acc:0.8960\n",
      "\t\ttrain_roc: 0.9674, val_roc: 0.9561, train_auprc: 0.9592, val_auprc: 0.9482\n"
     ]
    },
    {
     "name": "stderr",
     "output_type": "stream",
     "text": [
      "/home/namle/.local/lib/python3.10/site-packages/torch_geometric/warnings.py:11: UserWarning: The usage of `scatter(reduce='max')` can be accelerated via the 'torch-scatter' package, but it was not found\n",
      "  warnings.warn(message)\n"
     ]
    },
    {
     "name": "stdout",
     "output_type": "stream",
     "text": [
      "Epoch: 89 (111.8292s), train_loss: 0.2207, val_loss: 0.2738, train_acc: 0.9163, val_acc:0.8921\n",
      "\t\ttrain_roc: 0.9671, val_roc: 0.9549, train_auprc: 0.9586, val_auprc: 0.9473\n"
     ]
    },
    {
     "name": "stderr",
     "output_type": "stream",
     "text": [
      "/home/namle/.local/lib/python3.10/site-packages/torch_geometric/warnings.py:11: UserWarning: The usage of `scatter(reduce='max')` can be accelerated via the 'torch-scatter' package, but it was not found\n",
      "  warnings.warn(message)\n"
     ]
    },
    {
     "name": "stdout",
     "output_type": "stream",
     "text": [
      "Saving model prc\n",
      "Saving model roc\n",
      "Epoch: 90 (111.5872s), train_loss: 0.2191, val_loss: 0.2694, train_acc: 0.9174, val_acc:0.8955\n",
      "\t\ttrain_roc: 0.9675, val_roc: 0.9566, train_auprc: 0.9588, val_auprc: 0.9488\n"
     ]
    },
    {
     "name": "stderr",
     "output_type": "stream",
     "text": [
      "/home/namle/.local/lib/python3.10/site-packages/torch_geometric/warnings.py:11: UserWarning: The usage of `scatter(reduce='max')` can be accelerated via the 'torch-scatter' package, but it was not found\n",
      "  warnings.warn(message)\n"
     ]
    },
    {
     "name": "stdout",
     "output_type": "stream",
     "text": [
      "Saving model prc\n",
      "Epoch: 91 (110.9346s), train_loss: 0.2159, val_loss: 0.2685, train_acc: 0.9187, val_acc:0.8947\n",
      "\t\ttrain_roc: 0.9683, val_roc: 0.9561, train_auprc: 0.9601, val_auprc: 0.9489\n"
     ]
    },
    {
     "name": "stderr",
     "output_type": "stream",
     "text": [
      "/home/namle/.local/lib/python3.10/site-packages/torch_geometric/warnings.py:11: UserWarning: The usage of `scatter(reduce='max')` can be accelerated via the 'torch-scatter' package, but it was not found\n",
      "  warnings.warn(message)\n"
     ]
    },
    {
     "name": "stdout",
     "output_type": "stream",
     "text": [
      "Epoch: 92 (111.7108s), train_loss: 0.2174, val_loss: 0.2732, train_acc: 0.9175, val_acc:0.8939\n",
      "\t\ttrain_roc: 0.9679, val_roc: 0.9556, train_auprc: 0.9597, val_auprc: 0.9481\n"
     ]
    },
    {
     "name": "stderr",
     "output_type": "stream",
     "text": [
      "/home/namle/.local/lib/python3.10/site-packages/torch_geometric/warnings.py:11: UserWarning: The usage of `scatter(reduce='max')` can be accelerated via the 'torch-scatter' package, but it was not found\n",
      "  warnings.warn(message)\n"
     ]
    },
    {
     "name": "stdout",
     "output_type": "stream",
     "text": [
      "Saving model acc\n",
      "Epoch: 93 (111.8399s), train_loss: 0.2171, val_loss: 0.2690, train_acc: 0.9183, val_acc:0.8968\n",
      "\t\ttrain_roc: 0.9679, val_roc: 0.9557, train_auprc: 0.9595, val_auprc: 0.9474\n"
     ]
    },
    {
     "name": "stderr",
     "output_type": "stream",
     "text": [
      "/home/namle/.local/lib/python3.10/site-packages/torch_geometric/warnings.py:11: UserWarning: The usage of `scatter(reduce='max')` can be accelerated via the 'torch-scatter' package, but it was not found\n",
      "  warnings.warn(message)\n"
     ]
    },
    {
     "name": "stdout",
     "output_type": "stream",
     "text": [
      "Saving model prc\n",
      "Saving model roc\n",
      "Epoch: 94 (111.0054s), train_loss: 0.2163, val_loss: 0.2672, train_acc: 0.9182, val_acc:0.8967\n",
      "\t\ttrain_roc: 0.9683, val_roc: 0.9571, train_auprc: 0.9599, val_auprc: 0.9498\n"
     ]
    },
    {
     "name": "stderr",
     "output_type": "stream",
     "text": [
      "/home/namle/.local/lib/python3.10/site-packages/torch_geometric/warnings.py:11: UserWarning: The usage of `scatter(reduce='max')` can be accelerated via the 'torch-scatter' package, but it was not found\n",
      "  warnings.warn(message)\n"
     ]
    },
    {
     "name": "stdout",
     "output_type": "stream",
     "text": [
      "Saving model prc\n",
      "Saving model acc\n",
      "Saving model roc\n",
      "Epoch: 95 (112.1255s), train_loss: 0.2145, val_loss: 0.2660, train_acc: 0.9189, val_acc:0.8976\n",
      "\t\ttrain_roc: 0.9689, val_roc: 0.9576, train_auprc: 0.9608, val_auprc: 0.9508\n"
     ]
    },
    {
     "name": "stderr",
     "output_type": "stream",
     "text": [
      "/home/namle/.local/lib/python3.10/site-packages/torch_geometric/warnings.py:11: UserWarning: The usage of `scatter(reduce='max')` can be accelerated via the 'torch-scatter' package, but it was not found\n",
      "  warnings.warn(message)\n"
     ]
    },
    {
     "name": "stdout",
     "output_type": "stream",
     "text": [
      "Epoch: 96 (111.6350s), train_loss: 0.2126, val_loss: 0.2679, train_acc: 0.9193, val_acc:0.8970\n",
      "\t\ttrain_roc: 0.9694, val_roc: 0.9571, train_auprc: 0.9617, val_auprc: 0.9497\n"
     ]
    },
    {
     "name": "stderr",
     "output_type": "stream",
     "text": [
      "/home/namle/.local/lib/python3.10/site-packages/torch_geometric/warnings.py:11: UserWarning: The usage of `scatter(reduce='max')` can be accelerated via the 'torch-scatter' package, but it was not found\n",
      "  warnings.warn(message)\n"
     ]
    },
    {
     "name": "stdout",
     "output_type": "stream",
     "text": [
      "Epoch: 97 (111.8212s), train_loss: 0.2148, val_loss: 0.2726, train_acc: 0.9193, val_acc:0.8950\n",
      "\t\ttrain_roc: 0.9684, val_roc: 0.9557, train_auprc: 0.9601, val_auprc: 0.9484\n"
     ]
    },
    {
     "name": "stderr",
     "output_type": "stream",
     "text": [
      "/home/namle/.local/lib/python3.10/site-packages/torch_geometric/warnings.py:11: UserWarning: The usage of `scatter(reduce='max')` can be accelerated via the 'torch-scatter' package, but it was not found\n",
      "  warnings.warn(message)\n"
     ]
    },
    {
     "name": "stdout",
     "output_type": "stream",
     "text": [
      "Epoch: 98 (112.0428s), train_loss: 0.2140, val_loss: 0.2689, train_acc: 0.9194, val_acc:0.8976\n",
      "\t\ttrain_roc: 0.9688, val_roc: 0.9570, train_auprc: 0.9608, val_auprc: 0.9497\n"
     ]
    },
    {
     "name": "stderr",
     "output_type": "stream",
     "text": [
      "/home/namle/.local/lib/python3.10/site-packages/torch_geometric/warnings.py:11: UserWarning: The usage of `scatter(reduce='max')` can be accelerated via the 'torch-scatter' package, but it was not found\n",
      "  warnings.warn(message)\n"
     ]
    },
    {
     "name": "stdout",
     "output_type": "stream",
     "text": [
      "Saving model acc\n",
      "Epoch: 99 (111.6435s), train_loss: 0.2114, val_loss: 0.2675, train_acc: 0.9205, val_acc:0.8984\n",
      "\t\ttrain_roc: 0.9696, val_roc: 0.9571, train_auprc: 0.9617, val_auprc: 0.9497\n"
     ]
    },
    {
     "name": "stderr",
     "output_type": "stream",
     "text": [
      "/home/namle/.local/lib/python3.10/site-packages/torch_geometric/warnings.py:11: UserWarning: The usage of `scatter(reduce='max')` can be accelerated via the 'torch-scatter' package, but it was not found\n",
      "  warnings.warn(message)\n"
     ]
    },
    {
     "name": "stdout",
     "output_type": "stream",
     "text": [
      "Saving model roc\n",
      "Epoch: 100 (111.8009s), train_loss: 0.2149, val_loss: 0.2662, train_acc: 0.9196, val_acc:0.8978\n",
      "\t\ttrain_roc: 0.9683, val_roc: 0.9579, train_auprc: 0.9598, val_auprc: 0.9503\n"
     ]
    },
    {
     "name": "stderr",
     "output_type": "stream",
     "text": [
      "/home/namle/.local/lib/python3.10/site-packages/torch_geometric/warnings.py:11: UserWarning: The usage of `scatter(reduce='max')` can be accelerated via the 'torch-scatter' package, but it was not found\n",
      "  warnings.warn(message)\n"
     ]
    },
    {
     "name": "stdout",
     "output_type": "stream",
     "text": [
      "Saving model prc\n",
      "Saving model acc\n",
      "Saving model roc\n",
      "Epoch: 101 (111.1392s), train_loss: 0.2104, val_loss: 0.2644, train_acc: 0.9205, val_acc:0.8987\n",
      "\t\ttrain_roc: 0.9698, val_roc: 0.9582, train_auprc: 0.9619, val_auprc: 0.9512\n"
     ]
    },
    {
     "name": "stderr",
     "output_type": "stream",
     "text": [
      "/home/namle/.local/lib/python3.10/site-packages/torch_geometric/warnings.py:11: UserWarning: The usage of `scatter(reduce='max')` can be accelerated via the 'torch-scatter' package, but it was not found\n",
      "  warnings.warn(message)\n"
     ]
    },
    {
     "name": "stdout",
     "output_type": "stream",
     "text": [
      "Epoch: 102 (112.3526s), train_loss: 0.2112, val_loss: 0.2688, train_acc: 0.9203, val_acc:0.8970\n",
      "\t\ttrain_roc: 0.9696, val_roc: 0.9572, train_auprc: 0.9618, val_auprc: 0.9499\n"
     ]
    },
    {
     "name": "stderr",
     "output_type": "stream",
     "text": [
      "/home/namle/.local/lib/python3.10/site-packages/torch_geometric/warnings.py:11: UserWarning: The usage of `scatter(reduce='max')` can be accelerated via the 'torch-scatter' package, but it was not found\n",
      "  warnings.warn(message)\n"
     ]
    },
    {
     "name": "stdout",
     "output_type": "stream",
     "text": [
      "Saving model prc\n",
      "Saving model acc\n",
      "Saving model roc\n",
      "Epoch: 103 (110.7741s), train_loss: 0.2086, val_loss: 0.2644, train_acc: 0.9219, val_acc:0.8992\n",
      "\t\ttrain_roc: 0.9705, val_roc: 0.9587, train_auprc: 0.9627, val_auprc: 0.9522\n"
     ]
    },
    {
     "name": "stderr",
     "output_type": "stream",
     "text": [
      "/home/namle/.local/lib/python3.10/site-packages/torch_geometric/warnings.py:11: UserWarning: The usage of `scatter(reduce='max')` can be accelerated via the 'torch-scatter' package, but it was not found\n",
      "  warnings.warn(message)\n"
     ]
    },
    {
     "name": "stdout",
     "output_type": "stream",
     "text": [
      "Epoch: 104 (112.2357s), train_loss: 0.2107, val_loss: 0.2706, train_acc: 0.9206, val_acc:0.8964\n",
      "\t\ttrain_roc: 0.9696, val_roc: 0.9570, train_auprc: 0.9616, val_auprc: 0.9500\n"
     ]
    },
    {
     "name": "stderr",
     "output_type": "stream",
     "text": [
      "/home/namle/.local/lib/python3.10/site-packages/torch_geometric/warnings.py:11: UserWarning: The usage of `scatter(reduce='max')` can be accelerated via the 'torch-scatter' package, but it was not found\n",
      "  warnings.warn(message)\n"
     ]
    },
    {
     "name": "stdout",
     "output_type": "stream",
     "text": [
      "Epoch: 105 (111.3878s), train_loss: 0.2073, val_loss: 0.2677, train_acc: 0.9217, val_acc:0.8976\n",
      "\t\ttrain_roc: 0.9706, val_roc: 0.9576, train_auprc: 0.9630, val_auprc: 0.9511\n"
     ]
    },
    {
     "name": "stderr",
     "output_type": "stream",
     "text": [
      "/home/namle/.local/lib/python3.10/site-packages/torch_geometric/warnings.py:11: UserWarning: The usage of `scatter(reduce='max')` can be accelerated via the 'torch-scatter' package, but it was not found\n",
      "  warnings.warn(message)\n"
     ]
    },
    {
     "name": "stdout",
     "output_type": "stream",
     "text": [
      "Epoch: 106 (112.3291s), train_loss: 0.2076, val_loss: 0.2689, train_acc: 0.9223, val_acc:0.8971\n",
      "\t\ttrain_roc: 0.9706, val_roc: 0.9571, train_auprc: 0.9628, val_auprc: 0.9500\n"
     ]
    },
    {
     "name": "stderr",
     "output_type": "stream",
     "text": [
      "/home/namle/.local/lib/python3.10/site-packages/torch_geometric/warnings.py:11: UserWarning: The usage of `scatter(reduce='max')` can be accelerated via the 'torch-scatter' package, but it was not found\n",
      "  warnings.warn(message)\n"
     ]
    },
    {
     "name": "stdout",
     "output_type": "stream",
     "text": [
      "Saving model prc\n",
      "Epoch: 107 (111.4082s), train_loss: 0.2081, val_loss: 0.2660, train_acc: 0.9218, val_acc:0.8983\n",
      "\t\ttrain_roc: 0.9702, val_roc: 0.9584, train_auprc: 0.9623, val_auprc: 0.9522\n"
     ]
    },
    {
     "name": "stderr",
     "output_type": "stream",
     "text": [
      "/home/namle/.local/lib/python3.10/site-packages/torch_geometric/warnings.py:11: UserWarning: The usage of `scatter(reduce='max')` can be accelerated via the 'torch-scatter' package, but it was not found\n",
      "  warnings.warn(message)\n"
     ]
    },
    {
     "name": "stdout",
     "output_type": "stream",
     "text": [
      "Epoch: 108 (112.2173s), train_loss: 0.2076, val_loss: 0.2659, train_acc: 0.9221, val_acc:0.8984\n",
      "\t\ttrain_roc: 0.9703, val_roc: 0.9582, train_auprc: 0.9627, val_auprc: 0.9515\n"
     ]
    },
    {
     "name": "stderr",
     "output_type": "stream",
     "text": [
      "/home/namle/.local/lib/python3.10/site-packages/torch_geometric/warnings.py:11: UserWarning: The usage of `scatter(reduce='max')` can be accelerated via the 'torch-scatter' package, but it was not found\n",
      "  warnings.warn(message)\n"
     ]
    },
    {
     "name": "stdout",
     "output_type": "stream",
     "text": [
      "Epoch: 109 (110.7002s), train_loss: 0.2074, val_loss: 0.2678, train_acc: 0.9224, val_acc:0.8975\n",
      "\t\ttrain_roc: 0.9704, val_roc: 0.9576, train_auprc: 0.9625, val_auprc: 0.9509\n"
     ]
    },
    {
     "name": "stderr",
     "output_type": "stream",
     "text": [
      "/home/namle/.local/lib/python3.10/site-packages/torch_geometric/warnings.py:11: UserWarning: The usage of `scatter(reduce='max')` can be accelerated via the 'torch-scatter' package, but it was not found\n",
      "  warnings.warn(message)\n"
     ]
    },
    {
     "name": "stdout",
     "output_type": "stream",
     "text": [
      "Epoch: 110 (112.8072s), train_loss: 0.2081, val_loss: 0.2678, train_acc: 0.9224, val_acc:0.8987\n",
      "\t\ttrain_roc: 0.9701, val_roc: 0.9574, train_auprc: 0.9620, val_auprc: 0.9502\n"
     ]
    },
    {
     "name": "stderr",
     "output_type": "stream",
     "text": [
      "/home/namle/.local/lib/python3.10/site-packages/torch_geometric/warnings.py:11: UserWarning: The usage of `scatter(reduce='max')` can be accelerated via the 'torch-scatter' package, but it was not found\n",
      "  warnings.warn(message)\n"
     ]
    },
    {
     "name": "stdout",
     "output_type": "stream",
     "text": [
      "Epoch: 111 (112.5334s), train_loss: 0.2071, val_loss: 0.2692, train_acc: 0.9219, val_acc:0.8975\n",
      "\t\ttrain_roc: 0.9706, val_roc: 0.9577, train_auprc: 0.9628, val_auprc: 0.9507\n"
     ]
    },
    {
     "name": "stderr",
     "output_type": "stream",
     "text": [
      "/home/namle/.local/lib/python3.10/site-packages/torch_geometric/warnings.py:11: UserWarning: The usage of `scatter(reduce='max')` can be accelerated via the 'torch-scatter' package, but it was not found\n",
      "  warnings.warn(message)\n"
     ]
    },
    {
     "name": "stdout",
     "output_type": "stream",
     "text": [
      "Saving model acc\n",
      "Epoch: 112 (110.9233s), train_loss: 0.2061, val_loss: 0.2674, train_acc: 0.9225, val_acc:0.8994\n",
      "\t\ttrain_roc: 0.9710, val_roc: 0.9575, train_auprc: 0.9634, val_auprc: 0.9500\n"
     ]
    },
    {
     "name": "stderr",
     "output_type": "stream",
     "text": [
      "/home/namle/.local/lib/python3.10/site-packages/torch_geometric/warnings.py:11: UserWarning: The usage of `scatter(reduce='max')` can be accelerated via the 'torch-scatter' package, but it was not found\n",
      "  warnings.warn(message)\n"
     ]
    },
    {
     "name": "stdout",
     "output_type": "stream",
     "text": [
      "Epoch: 113 (110.7356s), train_loss: 0.2054, val_loss: 0.2703, train_acc: 0.9228, val_acc:0.8969\n",
      "\t\ttrain_roc: 0.9710, val_roc: 0.9579, train_auprc: 0.9634, val_auprc: 0.9510\n"
     ]
    },
    {
     "name": "stderr",
     "output_type": "stream",
     "text": [
      "/home/namle/.local/lib/python3.10/site-packages/torch_geometric/warnings.py:11: UserWarning: The usage of `scatter(reduce='max')` can be accelerated via the 'torch-scatter' package, but it was not found\n",
      "  warnings.warn(message)\n"
     ]
    },
    {
     "name": "stdout",
     "output_type": "stream",
     "text": [
      "Epoch: 114 (112.6533s), train_loss: 0.2037, val_loss: 0.2673, train_acc: 0.9240, val_acc:0.8978\n",
      "\t\ttrain_roc: 0.9716, val_roc: 0.9581, train_auprc: 0.9641, val_auprc: 0.9511\n"
     ]
    },
    {
     "name": "stderr",
     "output_type": "stream",
     "text": [
      "/home/namle/.local/lib/python3.10/site-packages/torch_geometric/warnings.py:11: UserWarning: The usage of `scatter(reduce='max')` can be accelerated via the 'torch-scatter' package, but it was not found\n",
      "  warnings.warn(message)\n"
     ]
    },
    {
     "name": "stdout",
     "output_type": "stream",
     "text": [
      "Epoch: 115 (111.0168s), train_loss: 0.2055, val_loss: 0.2689, train_acc: 0.9233, val_acc:0.8979\n",
      "\t\ttrain_roc: 0.9709, val_roc: 0.9579, train_auprc: 0.9630, val_auprc: 0.9507\n"
     ]
    },
    {
     "name": "stderr",
     "output_type": "stream",
     "text": [
      "/home/namle/.local/lib/python3.10/site-packages/torch_geometric/warnings.py:11: UserWarning: The usage of `scatter(reduce='max')` can be accelerated via the 'torch-scatter' package, but it was not found\n",
      "  warnings.warn(message)\n"
     ]
    },
    {
     "name": "stdout",
     "output_type": "stream",
     "text": [
      "Epoch: 116 (111.5000s), train_loss: 0.2054, val_loss: 0.2694, train_acc: 0.9233, val_acc:0.8978\n",
      "\t\ttrain_roc: 0.9709, val_roc: 0.9579, train_auprc: 0.9632, val_auprc: 0.9511\n"
     ]
    },
    {
     "name": "stderr",
     "output_type": "stream",
     "text": [
      "/home/namle/.local/lib/python3.10/site-packages/torch_geometric/warnings.py:11: UserWarning: The usage of `scatter(reduce='max')` can be accelerated via the 'torch-scatter' package, but it was not found\n",
      "  warnings.warn(message)\n"
     ]
    },
    {
     "name": "stdout",
     "output_type": "stream",
     "text": [
      "Epoch: 117 (111.8356s), train_loss: 0.2041, val_loss: 0.2666, train_acc: 0.9237, val_acc:0.8990\n",
      "\t\ttrain_roc: 0.9712, val_roc: 0.9583, train_auprc: 0.9638, val_auprc: 0.9516\n"
     ]
    },
    {
     "name": "stderr",
     "output_type": "stream",
     "text": [
      "/home/namle/.local/lib/python3.10/site-packages/torch_geometric/warnings.py:11: UserWarning: The usage of `scatter(reduce='max')` can be accelerated via the 'torch-scatter' package, but it was not found\n",
      "  warnings.warn(message)\n"
     ]
    },
    {
     "name": "stdout",
     "output_type": "stream",
     "text": [
      "Saving model prc\n",
      "Saving model roc\n",
      "Epoch: 118 (111.7058s), train_loss: 0.2037, val_loss: 0.2658, train_acc: 0.9244, val_acc:0.8981\n",
      "\t\ttrain_roc: 0.9713, val_roc: 0.9591, train_auprc: 0.9636, val_auprc: 0.9528\n"
     ]
    },
    {
     "name": "stderr",
     "output_type": "stream",
     "text": [
      "/home/namle/.local/lib/python3.10/site-packages/torch_geometric/warnings.py:11: UserWarning: The usage of `scatter(reduce='max')` can be accelerated via the 'torch-scatter' package, but it was not found\n",
      "  warnings.warn(message)\n"
     ]
    },
    {
     "name": "stdout",
     "output_type": "stream",
     "text": [
      "Saving model prc\n",
      "Epoch: 119 (112.8487s), train_loss: 0.2037, val_loss: 0.2649, train_acc: 0.9241, val_acc:0.8992\n",
      "\t\ttrain_roc: 0.9713, val_roc: 0.9591, train_auprc: 0.9636, val_auprc: 0.9528\n"
     ]
    },
    {
     "name": "stderr",
     "output_type": "stream",
     "text": [
      "/home/namle/.local/lib/python3.10/site-packages/torch_geometric/warnings.py:11: UserWarning: The usage of `scatter(reduce='max')` can be accelerated via the 'torch-scatter' package, but it was not found\n",
      "  warnings.warn(message)\n"
     ]
    },
    {
     "name": "stdout",
     "output_type": "stream",
     "text": [
      "Epoch: 120 (111.3490s), train_loss: 0.2041, val_loss: 0.2685, train_acc: 0.9243, val_acc:0.8990\n",
      "\t\ttrain_roc: 0.9712, val_roc: 0.9578, train_auprc: 0.9634, val_auprc: 0.9502\n"
     ]
    },
    {
     "name": "stderr",
     "output_type": "stream",
     "text": [
      "/home/namle/.local/lib/python3.10/site-packages/torch_geometric/warnings.py:11: UserWarning: The usage of `scatter(reduce='max')` can be accelerated via the 'torch-scatter' package, but it was not found\n",
      "  warnings.warn(message)\n"
     ]
    },
    {
     "name": "stdout",
     "output_type": "stream",
     "text": [
      "Epoch: 121 (111.2761s), train_loss: 0.2039, val_loss: 0.2696, train_acc: 0.9234, val_acc:0.8968\n",
      "\t\ttrain_roc: 0.9713, val_roc: 0.9581, train_auprc: 0.9638, val_auprc: 0.9513\n"
     ]
    },
    {
     "name": "stderr",
     "output_type": "stream",
     "text": [
      "/home/namle/.local/lib/python3.10/site-packages/torch_geometric/warnings.py:11: UserWarning: The usage of `scatter(reduce='max')` can be accelerated via the 'torch-scatter' package, but it was not found\n",
      "  warnings.warn(message)\n"
     ]
    },
    {
     "name": "stdout",
     "output_type": "stream",
     "text": [
      "Epoch: 122 (110.6780s), train_loss: 0.2022, val_loss: 0.2675, train_acc: 0.9250, val_acc:0.8986\n",
      "\t\ttrain_roc: 0.9717, val_roc: 0.9584, train_auprc: 0.9641, val_auprc: 0.9514\n"
     ]
    },
    {
     "name": "stderr",
     "output_type": "stream",
     "text": [
      "/home/namle/.local/lib/python3.10/site-packages/torch_geometric/warnings.py:11: UserWarning: The usage of `scatter(reduce='max')` can be accelerated via the 'torch-scatter' package, but it was not found\n",
      "  warnings.warn(message)\n"
     ]
    },
    {
     "name": "stdout",
     "output_type": "stream",
     "text": [
      "Saving model prc\n",
      "Saving model acc\n",
      "Saving model roc\n",
      "Epoch: 123 (110.8031s), train_loss: 0.2032, val_loss: 0.2645, train_acc: 0.9243, val_acc:0.9005\n",
      "\t\ttrain_roc: 0.9715, val_roc: 0.9595, train_auprc: 0.9636, val_auprc: 0.9529\n"
     ]
    },
    {
     "name": "stderr",
     "output_type": "stream",
     "text": [
      "/home/namle/.local/lib/python3.10/site-packages/torch_geometric/warnings.py:11: UserWarning: The usage of `scatter(reduce='max')` can be accelerated via the 'torch-scatter' package, but it was not found\n",
      "  warnings.warn(message)\n"
     ]
    },
    {
     "name": "stdout",
     "output_type": "stream",
     "text": [
      "Epoch: 124 (111.8630s), train_loss: 0.2018, val_loss: 0.2667, train_acc: 0.9250, val_acc:0.8996\n",
      "\t\ttrain_roc: 0.9718, val_roc: 0.9582, train_auprc: 0.9641, val_auprc: 0.9511\n"
     ]
    },
    {
     "name": "stderr",
     "output_type": "stream",
     "text": [
      "/home/namle/.local/lib/python3.10/site-packages/torch_geometric/warnings.py:11: UserWarning: The usage of `scatter(reduce='max')` can be accelerated via the 'torch-scatter' package, but it was not found\n",
      "  warnings.warn(message)\n"
     ]
    },
    {
     "name": "stdout",
     "output_type": "stream",
     "text": [
      "Epoch: 125 (112.4320s), train_loss: 0.2018, val_loss: 0.2684, train_acc: 0.9246, val_acc:0.8994\n",
      "\t\ttrain_roc: 0.9720, val_roc: 0.9584, train_auprc: 0.9646, val_auprc: 0.9511\n"
     ]
    },
    {
     "name": "stderr",
     "output_type": "stream",
     "text": [
      "/home/namle/.local/lib/python3.10/site-packages/torch_geometric/warnings.py:11: UserWarning: The usage of `scatter(reduce='max')` can be accelerated via the 'torch-scatter' package, but it was not found\n",
      "  warnings.warn(message)\n"
     ]
    },
    {
     "name": "stdout",
     "output_type": "stream",
     "text": [
      "Epoch: 126 (111.6546s), train_loss: 0.2019, val_loss: 0.2675, train_acc: 0.9252, val_acc:0.8983\n",
      "\t\ttrain_roc: 0.9719, val_roc: 0.9583, train_auprc: 0.9642, val_auprc: 0.9516\n"
     ]
    },
    {
     "name": "stderr",
     "output_type": "stream",
     "text": [
      "/home/namle/.local/lib/python3.10/site-packages/torch_geometric/warnings.py:11: UserWarning: The usage of `scatter(reduce='max')` can be accelerated via the 'torch-scatter' package, but it was not found\n",
      "  warnings.warn(message)\n"
     ]
    },
    {
     "name": "stdout",
     "output_type": "stream",
     "text": [
      "Epoch: 127 (112.2257s), train_loss: 0.2027, val_loss: 0.2725, train_acc: 0.9242, val_acc:0.8969\n",
      "\t\ttrain_roc: 0.9716, val_roc: 0.9573, train_auprc: 0.9641, val_auprc: 0.9499\n"
     ]
    },
    {
     "name": "stderr",
     "output_type": "stream",
     "text": [
      "/home/namle/.local/lib/python3.10/site-packages/torch_geometric/warnings.py:11: UserWarning: The usage of `scatter(reduce='max')` can be accelerated via the 'torch-scatter' package, but it was not found\n",
      "  warnings.warn(message)\n"
     ]
    },
    {
     "name": "stdout",
     "output_type": "stream",
     "text": [
      "Epoch: 128 (111.2436s), train_loss: 0.2010, val_loss: 0.2685, train_acc: 0.9256, val_acc:0.8989\n",
      "\t\ttrain_roc: 0.9720, val_roc: 0.9582, train_auprc: 0.9643, val_auprc: 0.9508\n"
     ]
    },
    {
     "name": "stderr",
     "output_type": "stream",
     "text": [
      "/home/namle/.local/lib/python3.10/site-packages/torch_geometric/warnings.py:11: UserWarning: The usage of `scatter(reduce='max')` can be accelerated via the 'torch-scatter' package, but it was not found\n",
      "  warnings.warn(message)\n"
     ]
    },
    {
     "name": "stdout",
     "output_type": "stream",
     "text": [
      "Epoch: 129 (111.6124s), train_loss: 0.2010, val_loss: 0.2685, train_acc: 0.9253, val_acc:0.8987\n",
      "\t\ttrain_roc: 0.9720, val_roc: 0.9586, train_auprc: 0.9645, val_auprc: 0.9523\n"
     ]
    },
    {
     "name": "stderr",
     "output_type": "stream",
     "text": [
      "/home/namle/.local/lib/python3.10/site-packages/torch_geometric/warnings.py:11: UserWarning: The usage of `scatter(reduce='max')` can be accelerated via the 'torch-scatter' package, but it was not found\n",
      "  warnings.warn(message)\n"
     ]
    },
    {
     "name": "stdout",
     "output_type": "stream",
     "text": [
      "Saving model prc\n",
      "Saving model roc\n",
      "Epoch: 130 (111.6649s), train_loss: 0.2025, val_loss: 0.2636, train_acc: 0.9244, val_acc:0.9001\n",
      "\t\ttrain_roc: 0.9716, val_roc: 0.9600, train_auprc: 0.9639, val_auprc: 0.9542\n"
     ]
    },
    {
     "name": "stderr",
     "output_type": "stream",
     "text": [
      "/home/namle/.local/lib/python3.10/site-packages/torch_geometric/warnings.py:11: UserWarning: The usage of `scatter(reduce='max')` can be accelerated via the 'torch-scatter' package, but it was not found\n",
      "  warnings.warn(message)\n"
     ]
    },
    {
     "name": "stdout",
     "output_type": "stream",
     "text": [
      "Epoch: 131 (112.3155s), train_loss: 0.2022, val_loss: 0.2689, train_acc: 0.9248, val_acc:0.8990\n",
      "\t\ttrain_roc: 0.9716, val_roc: 0.9583, train_auprc: 0.9639, val_auprc: 0.9514\n"
     ]
    },
    {
     "name": "stderr",
     "output_type": "stream",
     "text": [
      "/home/namle/.local/lib/python3.10/site-packages/torch_geometric/warnings.py:11: UserWarning: The usage of `scatter(reduce='max')` can be accelerated via the 'torch-scatter' package, but it was not found\n",
      "  warnings.warn(message)\n"
     ]
    },
    {
     "name": "stdout",
     "output_type": "stream",
     "text": [
      "Epoch: 132 (112.5303s), train_loss: 0.1997, val_loss: 0.2696, train_acc: 0.9256, val_acc:0.8979\n",
      "\t\ttrain_roc: 0.9723, val_roc: 0.9578, train_auprc: 0.9648, val_auprc: 0.9507\n"
     ]
    },
    {
     "name": "stderr",
     "output_type": "stream",
     "text": [
      "/home/namle/.local/lib/python3.10/site-packages/torch_geometric/warnings.py:11: UserWarning: The usage of `scatter(reduce='max')` can be accelerated via the 'torch-scatter' package, but it was not found\n",
      "  warnings.warn(message)\n"
     ]
    },
    {
     "name": "stdout",
     "output_type": "stream",
     "text": [
      "Epoch: 133 (111.6839s), train_loss: 0.2009, val_loss: 0.2677, train_acc: 0.9249, val_acc:0.8990\n",
      "\t\ttrain_roc: 0.9721, val_roc: 0.9589, train_auprc: 0.9649, val_auprc: 0.9525\n"
     ]
    },
    {
     "name": "stderr",
     "output_type": "stream",
     "text": [
      "/home/namle/.local/lib/python3.10/site-packages/torch_geometric/warnings.py:11: UserWarning: The usage of `scatter(reduce='max')` can be accelerated via the 'torch-scatter' package, but it was not found\n",
      "  warnings.warn(message)\n"
     ]
    },
    {
     "name": "stdout",
     "output_type": "stream",
     "text": [
      "Epoch: 134 (112.1758s), train_loss: 0.2009, val_loss: 0.2652, train_acc: 0.9254, val_acc:0.8994\n",
      "\t\ttrain_roc: 0.9721, val_roc: 0.9596, train_auprc: 0.9645, val_auprc: 0.9532\n"
     ]
    },
    {
     "name": "stderr",
     "output_type": "stream",
     "text": [
      "/home/namle/.local/lib/python3.10/site-packages/torch_geometric/warnings.py:11: UserWarning: The usage of `scatter(reduce='max')` can be accelerated via the 'torch-scatter' package, but it was not found\n",
      "  warnings.warn(message)\n"
     ]
    },
    {
     "name": "stdout",
     "output_type": "stream",
     "text": [
      "Epoch: 135 (111.1578s), train_loss: 0.1989, val_loss: 0.2686, train_acc: 0.9257, val_acc:0.8991\n",
      "\t\ttrain_roc: 0.9727, val_roc: 0.9584, train_auprc: 0.9656, val_auprc: 0.9515\n"
     ]
    },
    {
     "name": "stderr",
     "output_type": "stream",
     "text": [
      "/home/namle/.local/lib/python3.10/site-packages/torch_geometric/warnings.py:11: UserWarning: The usage of `scatter(reduce='max')` can be accelerated via the 'torch-scatter' package, but it was not found\n",
      "  warnings.warn(message)\n"
     ]
    },
    {
     "name": "stdout",
     "output_type": "stream",
     "text": [
      "Epoch: 136 (112.5329s), train_loss: 0.1992, val_loss: 0.2668, train_acc: 0.9262, val_acc:0.8989\n",
      "\t\ttrain_roc: 0.9725, val_roc: 0.9591, train_auprc: 0.9651, val_auprc: 0.9528\n"
     ]
    },
    {
     "name": "stderr",
     "output_type": "stream",
     "text": [
      "/home/namle/.local/lib/python3.10/site-packages/torch_geometric/warnings.py:11: UserWarning: The usage of `scatter(reduce='max')` can be accelerated via the 'torch-scatter' package, but it was not found\n",
      "  warnings.warn(message)\n"
     ]
    },
    {
     "name": "stdout",
     "output_type": "stream",
     "text": [
      "Epoch: 137 (112.1502s), train_loss: 0.1993, val_loss: 0.2668, train_acc: 0.9254, val_acc:0.8997\n",
      "\t\ttrain_roc: 0.9724, val_roc: 0.9592, train_auprc: 0.9652, val_auprc: 0.9528\n"
     ]
    },
    {
     "name": "stderr",
     "output_type": "stream",
     "text": [
      "/home/namle/.local/lib/python3.10/site-packages/torch_geometric/warnings.py:11: UserWarning: The usage of `scatter(reduce='max')` can be accelerated via the 'torch-scatter' package, but it was not found\n",
      "  warnings.warn(message)\n"
     ]
    },
    {
     "name": "stdout",
     "output_type": "stream",
     "text": [
      "Epoch: 138 (111.7053s), train_loss: 0.2018, val_loss: 0.2688, train_acc: 0.9245, val_acc:0.8985\n",
      "\t\ttrain_roc: 0.9718, val_roc: 0.9586, train_auprc: 0.9642, val_auprc: 0.9520\n"
     ]
    },
    {
     "name": "stderr",
     "output_type": "stream",
     "text": [
      "/home/namle/.local/lib/python3.10/site-packages/torch_geometric/warnings.py:11: UserWarning: The usage of `scatter(reduce='max')` can be accelerated via the 'torch-scatter' package, but it was not found\n",
      "  warnings.warn(message)\n"
     ]
    },
    {
     "name": "stdout",
     "output_type": "stream",
     "text": [
      "Epoch: 139 (111.5203s), train_loss: 0.1985, val_loss: 0.2660, train_acc: 0.9261, val_acc:0.8990\n",
      "\t\ttrain_roc: 0.9727, val_roc: 0.9595, train_auprc: 0.9656, val_auprc: 0.9535\n"
     ]
    },
    {
     "name": "stderr",
     "output_type": "stream",
     "text": [
      "/home/namle/.local/lib/python3.10/site-packages/torch_geometric/warnings.py:11: UserWarning: The usage of `scatter(reduce='max')` can be accelerated via the 'torch-scatter' package, but it was not found\n",
      "  warnings.warn(message)\n"
     ]
    },
    {
     "name": "stdout",
     "output_type": "stream",
     "text": [
      "Epoch: 140 (111.0580s), train_loss: 0.1985, val_loss: 0.2689, train_acc: 0.9258, val_acc:0.8986\n",
      "\t\ttrain_roc: 0.9727, val_roc: 0.9587, train_auprc: 0.9656, val_auprc: 0.9520\n"
     ]
    },
    {
     "name": "stderr",
     "output_type": "stream",
     "text": [
      "/home/namle/.local/lib/python3.10/site-packages/torch_geometric/warnings.py:11: UserWarning: The usage of `scatter(reduce='max')` can be accelerated via the 'torch-scatter' package, but it was not found\n",
      "  warnings.warn(message)\n"
     ]
    },
    {
     "name": "stdout",
     "output_type": "stream",
     "text": [
      "Epoch: 141 (111.0273s), train_loss: 0.1989, val_loss: 0.2697, train_acc: 0.9259, val_acc:0.8981\n",
      "\t\ttrain_roc: 0.9726, val_roc: 0.9585, train_auprc: 0.9654, val_auprc: 0.9519\n"
     ]
    },
    {
     "name": "stderr",
     "output_type": "stream",
     "text": [
      "/home/namle/.local/lib/python3.10/site-packages/torch_geometric/warnings.py:11: UserWarning: The usage of `scatter(reduce='max')` can be accelerated via the 'torch-scatter' package, but it was not found\n",
      "  warnings.warn(message)\n"
     ]
    },
    {
     "name": "stdout",
     "output_type": "stream",
     "text": [
      "Epoch: 142 (110.7677s), train_loss: 0.1992, val_loss: 0.2711, train_acc: 0.9261, val_acc:0.8974\n",
      "\t\ttrain_roc: 0.9724, val_roc: 0.9582, train_auprc: 0.9648, val_auprc: 0.9516\n"
     ]
    },
    {
     "name": "stderr",
     "output_type": "stream",
     "text": [
      "/home/namle/.local/lib/python3.10/site-packages/torch_geometric/warnings.py:11: UserWarning: The usage of `scatter(reduce='max')` can be accelerated via the 'torch-scatter' package, but it was not found\n",
      "  warnings.warn(message)\n"
     ]
    },
    {
     "name": "stdout",
     "output_type": "stream",
     "text": [
      "Saving model acc\n",
      "Epoch: 143 (111.7854s), train_loss: 0.1997, val_loss: 0.2658, train_acc: 0.9256, val_acc:0.9010\n",
      "\t\ttrain_roc: 0.9723, val_roc: 0.9592, train_auprc: 0.9648, val_auprc: 0.9522\n"
     ]
    },
    {
     "name": "stderr",
     "output_type": "stream",
     "text": [
      "/home/namle/.local/lib/python3.10/site-packages/torch_geometric/warnings.py:11: UserWarning: The usage of `scatter(reduce='max')` can be accelerated via the 'torch-scatter' package, but it was not found\n",
      "  warnings.warn(message)\n"
     ]
    },
    {
     "name": "stdout",
     "output_type": "stream",
     "text": [
      "Epoch: 144 (111.0725s), train_loss: 0.1985, val_loss: 0.2653, train_acc: 0.9264, val_acc:0.8996\n",
      "\t\ttrain_roc: 0.9728, val_roc: 0.9597, train_auprc: 0.9653, val_auprc: 0.9532\n"
     ]
    },
    {
     "name": "stderr",
     "output_type": "stream",
     "text": [
      "/home/namle/.local/lib/python3.10/site-packages/torch_geometric/warnings.py:11: UserWarning: The usage of `scatter(reduce='max')` can be accelerated via the 'torch-scatter' package, but it was not found\n",
      "  warnings.warn(message)\n"
     ]
    },
    {
     "name": "stdout",
     "output_type": "stream",
     "text": [
      "Epoch: 145 (111.6687s), train_loss: 0.1991, val_loss: 0.2689, train_acc: 0.9260, val_acc:0.8990\n",
      "\t\ttrain_roc: 0.9724, val_roc: 0.9583, train_auprc: 0.9649, val_auprc: 0.9517\n"
     ]
    },
    {
     "name": "stderr",
     "output_type": "stream",
     "text": [
      "/home/namle/.local/lib/python3.10/site-packages/torch_geometric/warnings.py:11: UserWarning: The usage of `scatter(reduce='max')` can be accelerated via the 'torch-scatter' package, but it was not found\n",
      "  warnings.warn(message)\n"
     ]
    },
    {
     "name": "stdout",
     "output_type": "stream",
     "text": [
      "Epoch: 146 (111.6820s), train_loss: 0.2000, val_loss: 0.2690, train_acc: 0.9255, val_acc:0.8983\n",
      "\t\ttrain_roc: 0.9722, val_roc: 0.9586, train_auprc: 0.9646, val_auprc: 0.9521\n"
     ]
    },
    {
     "name": "stderr",
     "output_type": "stream",
     "text": [
      "/home/namle/.local/lib/python3.10/site-packages/torch_geometric/warnings.py:11: UserWarning: The usage of `scatter(reduce='max')` can be accelerated via the 'torch-scatter' package, but it was not found\n",
      "  warnings.warn(message)\n"
     ]
    },
    {
     "name": "stdout",
     "output_type": "stream",
     "text": [
      "Epoch: 147 (111.1651s), train_loss: 0.1991, val_loss: 0.2675, train_acc: 0.9263, val_acc:0.9002\n",
      "\t\ttrain_roc: 0.9724, val_roc: 0.9594, train_auprc: 0.9649, val_auprc: 0.9529\n"
     ]
    },
    {
     "name": "stderr",
     "output_type": "stream",
     "text": [
      "/home/namle/.local/lib/python3.10/site-packages/torch_geometric/warnings.py:11: UserWarning: The usage of `scatter(reduce='max')` can be accelerated via the 'torch-scatter' package, but it was not found\n",
      "  warnings.warn(message)\n"
     ]
    },
    {
     "name": "stdout",
     "output_type": "stream",
     "text": [
      "Epoch: 148 (111.3751s), train_loss: 0.1988, val_loss: 0.2685, train_acc: 0.9263, val_acc:0.8986\n",
      "\t\ttrain_roc: 0.9725, val_roc: 0.9589, train_auprc: 0.9650, val_auprc: 0.9525\n"
     ]
    },
    {
     "name": "stderr",
     "output_type": "stream",
     "text": [
      "/home/namle/.local/lib/python3.10/site-packages/torch_geometric/warnings.py:11: UserWarning: The usage of `scatter(reduce='max')` can be accelerated via the 'torch-scatter' package, but it was not found\n",
      "  warnings.warn(message)\n"
     ]
    },
    {
     "name": "stdout",
     "output_type": "stream",
     "text": [
      "Epoch: 149 (112.4943s), train_loss: 0.1970, val_loss: 0.2667, train_acc: 0.9266, val_acc:0.9000\n",
      "\t\ttrain_roc: 0.9733, val_roc: 0.9594, train_auprc: 0.9662, val_auprc: 0.9525\n"
     ]
    },
    {
     "name": "stderr",
     "output_type": "stream",
     "text": [
      "/home/namle/.local/lib/python3.10/site-packages/torch_geometric/warnings.py:11: UserWarning: The usage of `scatter(reduce='max')` can be accelerated via the 'torch-scatter' package, but it was not found\n",
      "  warnings.warn(message)\n"
     ]
    },
    {
     "name": "stdout",
     "output_type": "stream",
     "text": [
      "Epoch: 150 (112.1001s), train_loss: 0.1981, val_loss: 0.2676, train_acc: 0.9270, val_acc:0.8998\n",
      "\t\ttrain_roc: 0.9727, val_roc: 0.9590, train_auprc: 0.9651, val_auprc: 0.9525\n"
     ]
    },
    {
     "name": "stderr",
     "output_type": "stream",
     "text": [
      "/home/namle/.local/lib/python3.10/site-packages/torch_geometric/warnings.py:11: UserWarning: The usage of `scatter(reduce='max')` can be accelerated via the 'torch-scatter' package, but it was not found\n",
      "  warnings.warn(message)\n"
     ]
    },
    {
     "name": "stdout",
     "output_type": "stream",
     "text": [
      "Epoch: 151 (111.4234s), train_loss: 0.1989, val_loss: 0.2694, train_acc: 0.9264, val_acc:0.8986\n",
      "\t\ttrain_roc: 0.9725, val_roc: 0.9584, train_auprc: 0.9649, val_auprc: 0.9515\n"
     ]
    },
    {
     "name": "stderr",
     "output_type": "stream",
     "text": [
      "/home/namle/.local/lib/python3.10/site-packages/torch_geometric/warnings.py:11: UserWarning: The usage of `scatter(reduce='max')` can be accelerated via the 'torch-scatter' package, but it was not found\n",
      "  warnings.warn(message)\n"
     ]
    },
    {
     "name": "stdout",
     "output_type": "stream",
     "text": [
      "Epoch: 152 (111.5846s), train_loss: 0.1975, val_loss: 0.2708, train_acc: 0.9267, val_acc:0.8975\n",
      "\t\ttrain_roc: 0.9729, val_roc: 0.9580, train_auprc: 0.9656, val_auprc: 0.9513\n"
     ]
    },
    {
     "name": "stderr",
     "output_type": "stream",
     "text": [
      "/home/namle/.local/lib/python3.10/site-packages/torch_geometric/warnings.py:11: UserWarning: The usage of `scatter(reduce='max')` can be accelerated via the 'torch-scatter' package, but it was not found\n",
      "  warnings.warn(message)\n"
     ]
    },
    {
     "name": "stdout",
     "output_type": "stream",
     "text": [
      "Epoch: 153 (112.8558s), train_loss: 0.1978, val_loss: 0.2694, train_acc: 0.9265, val_acc:0.8979\n",
      "\t\ttrain_roc: 0.9727, val_roc: 0.9585, train_auprc: 0.9655, val_auprc: 0.9521\n"
     ]
    },
    {
     "name": "stderr",
     "output_type": "stream",
     "text": [
      "/home/namle/.local/lib/python3.10/site-packages/torch_geometric/warnings.py:11: UserWarning: The usage of `scatter(reduce='max')` can be accelerated via the 'torch-scatter' package, but it was not found\n",
      "  warnings.warn(message)\n"
     ]
    },
    {
     "name": "stdout",
     "output_type": "stream",
     "text": [
      "Epoch: 154 (111.5179s), train_loss: 0.1989, val_loss: 0.2692, train_acc: 0.9261, val_acc:0.8993\n",
      "\t\ttrain_roc: 0.9725, val_roc: 0.9585, train_auprc: 0.9652, val_auprc: 0.9517\n"
     ]
    },
    {
     "name": "stderr",
     "output_type": "stream",
     "text": [
      "/home/namle/.local/lib/python3.10/site-packages/torch_geometric/warnings.py:11: UserWarning: The usage of `scatter(reduce='max')` can be accelerated via the 'torch-scatter' package, but it was not found\n",
      "  warnings.warn(message)\n"
     ]
    },
    {
     "name": "stdout",
     "output_type": "stream",
     "text": [
      "Epoch: 155 (110.7550s), train_loss: 0.1969, val_loss: 0.2702, train_acc: 0.9268, val_acc:0.8986\n",
      "\t\ttrain_roc: 0.9732, val_roc: 0.9584, train_auprc: 0.9661, val_auprc: 0.9516\n"
     ]
    },
    {
     "name": "stderr",
     "output_type": "stream",
     "text": [
      "/home/namle/.local/lib/python3.10/site-packages/torch_geometric/warnings.py:11: UserWarning: The usage of `scatter(reduce='max')` can be accelerated via the 'torch-scatter' package, but it was not found\n",
      "  warnings.warn(message)\n"
     ]
    },
    {
     "name": "stdout",
     "output_type": "stream",
     "text": [
      "Epoch: 156 (111.8136s), train_loss: 0.1983, val_loss: 0.2711, train_acc: 0.9263, val_acc:0.8976\n",
      "\t\ttrain_roc: 0.9727, val_roc: 0.9581, train_auprc: 0.9652, val_auprc: 0.9514\n"
     ]
    },
    {
     "name": "stderr",
     "output_type": "stream",
     "text": [
      "/home/namle/.local/lib/python3.10/site-packages/torch_geometric/warnings.py:11: UserWarning: The usage of `scatter(reduce='max')` can be accelerated via the 'torch-scatter' package, but it was not found\n",
      "  warnings.warn(message)\n"
     ]
    },
    {
     "name": "stdout",
     "output_type": "stream",
     "text": [
      "Epoch: 157 (110.9248s), train_loss: 0.1973, val_loss: 0.2700, train_acc: 0.9271, val_acc:0.8986\n",
      "\t\ttrain_roc: 0.9728, val_roc: 0.9583, train_auprc: 0.9654, val_auprc: 0.9512\n"
     ]
    },
    {
     "name": "stderr",
     "output_type": "stream",
     "text": [
      "/home/namle/.local/lib/python3.10/site-packages/torch_geometric/warnings.py:11: UserWarning: The usage of `scatter(reduce='max')` can be accelerated via the 'torch-scatter' package, but it was not found\n",
      "  warnings.warn(message)\n"
     ]
    },
    {
     "name": "stdout",
     "output_type": "stream",
     "text": [
      "Epoch: 158 (112.2334s), train_loss: 0.1981, val_loss: 0.2698, train_acc: 0.9265, val_acc:0.8981\n",
      "\t\ttrain_roc: 0.9727, val_roc: 0.9587, train_auprc: 0.9652, val_auprc: 0.9522\n"
     ]
    },
    {
     "name": "stderr",
     "output_type": "stream",
     "text": [
      "/home/namle/.local/lib/python3.10/site-packages/torch_geometric/warnings.py:11: UserWarning: The usage of `scatter(reduce='max')` can be accelerated via the 'torch-scatter' package, but it was not found\n",
      "  warnings.warn(message)\n"
     ]
    },
    {
     "name": "stdout",
     "output_type": "stream",
     "text": [
      "Epoch: 159 (112.6624s), train_loss: 0.1970, val_loss: 0.2669, train_acc: 0.9268, val_acc:0.8990\n",
      "\t\ttrain_roc: 0.9729, val_roc: 0.9596, train_auprc: 0.9655, val_auprc: 0.9536\n"
     ]
    },
    {
     "name": "stderr",
     "output_type": "stream",
     "text": [
      "/home/namle/.local/lib/python3.10/site-packages/torch_geometric/warnings.py:11: UserWarning: The usage of `scatter(reduce='max')` can be accelerated via the 'torch-scatter' package, but it was not found\n",
      "  warnings.warn(message)\n"
     ]
    },
    {
     "name": "stdout",
     "output_type": "stream",
     "text": [
      "Epoch: 160 (111.3556s), train_loss: 0.1982, val_loss: 0.2702, train_acc: 0.9268, val_acc:0.8984\n",
      "\t\ttrain_roc: 0.9727, val_roc: 0.9583, train_auprc: 0.9651, val_auprc: 0.9518\n"
     ]
    },
    {
     "name": "stderr",
     "output_type": "stream",
     "text": [
      "/home/namle/.local/lib/python3.10/site-packages/torch_geometric/warnings.py:11: UserWarning: The usage of `scatter(reduce='max')` can be accelerated via the 'torch-scatter' package, but it was not found\n",
      "  warnings.warn(message)\n"
     ]
    },
    {
     "name": "stdout",
     "output_type": "stream",
     "text": [
      "Epoch: 161 (112.4404s), train_loss: 0.1967, val_loss: 0.2702, train_acc: 0.9270, val_acc:0.8978\n",
      "\t\ttrain_roc: 0.9731, val_roc: 0.9584, train_auprc: 0.9657, val_auprc: 0.9520\n"
     ]
    },
    {
     "name": "stderr",
     "output_type": "stream",
     "text": [
      "/home/namle/.local/lib/python3.10/site-packages/torch_geometric/warnings.py:11: UserWarning: The usage of `scatter(reduce='max')` can be accelerated via the 'torch-scatter' package, but it was not found\n",
      "  warnings.warn(message)\n"
     ]
    },
    {
     "name": "stdout",
     "output_type": "stream",
     "text": [
      "Epoch: 162 (112.3276s), train_loss: 0.1986, val_loss: 0.2701, train_acc: 0.9262, val_acc:0.8985\n",
      "\t\ttrain_roc: 0.9724, val_roc: 0.9584, train_auprc: 0.9648, val_auprc: 0.9515\n"
     ]
    },
    {
     "name": "stderr",
     "output_type": "stream",
     "text": [
      "/home/namle/.local/lib/python3.10/site-packages/torch_geometric/warnings.py:11: UserWarning: The usage of `scatter(reduce='max')` can be accelerated via the 'torch-scatter' package, but it was not found\n",
      "  warnings.warn(message)\n"
     ]
    },
    {
     "name": "stdout",
     "output_type": "stream",
     "text": [
      "Epoch: 163 (110.7802s), train_loss: 0.1964, val_loss: 0.2688, train_acc: 0.9275, val_acc:0.8986\n",
      "\t\ttrain_roc: 0.9731, val_roc: 0.9589, train_auprc: 0.9658, val_auprc: 0.9525\n"
     ]
    },
    {
     "name": "stderr",
     "output_type": "stream",
     "text": [
      "/home/namle/.local/lib/python3.10/site-packages/torch_geometric/warnings.py:11: UserWarning: The usage of `scatter(reduce='max')` can be accelerated via the 'torch-scatter' package, but it was not found\n",
      "  warnings.warn(message)\n"
     ]
    },
    {
     "name": "stdout",
     "output_type": "stream",
     "text": [
      "Epoch: 164 (112.3643s), train_loss: 0.1980, val_loss: 0.2678, train_acc: 0.9265, val_acc:0.8987\n",
      "\t\ttrain_roc: 0.9726, val_roc: 0.9591, train_auprc: 0.9651, val_auprc: 0.9532\n"
     ]
    },
    {
     "name": "stderr",
     "output_type": "stream",
     "text": [
      "/home/namle/.local/lib/python3.10/site-packages/torch_geometric/warnings.py:11: UserWarning: The usage of `scatter(reduce='max')` can be accelerated via the 'torch-scatter' package, but it was not found\n",
      "  warnings.warn(message)\n"
     ]
    },
    {
     "name": "stdout",
     "output_type": "stream",
     "text": [
      "Epoch: 165 (113.2457s), train_loss: 0.1980, val_loss: 0.2702, train_acc: 0.9264, val_acc:0.8992\n",
      "\t\ttrain_roc: 0.9727, val_roc: 0.9583, train_auprc: 0.9654, val_auprc: 0.9512\n"
     ]
    },
    {
     "name": "stderr",
     "output_type": "stream",
     "text": [
      "/home/namle/.local/lib/python3.10/site-packages/torch_geometric/warnings.py:11: UserWarning: The usage of `scatter(reduce='max')` can be accelerated via the 'torch-scatter' package, but it was not found\n",
      "  warnings.warn(message)\n"
     ]
    },
    {
     "name": "stdout",
     "output_type": "stream",
     "text": [
      "Epoch: 166 (111.7511s), train_loss: 0.1979, val_loss: 0.2692, train_acc: 0.9262, val_acc:0.8983\n",
      "\t\ttrain_roc: 0.9727, val_roc: 0.9588, train_auprc: 0.9655, val_auprc: 0.9522\n"
     ]
    },
    {
     "name": "stderr",
     "output_type": "stream",
     "text": [
      "/home/namle/.local/lib/python3.10/site-packages/torch_geometric/warnings.py:11: UserWarning: The usage of `scatter(reduce='max')` can be accelerated via the 'torch-scatter' package, but it was not found\n",
      "  warnings.warn(message)\n"
     ]
    },
    {
     "name": "stdout",
     "output_type": "stream",
     "text": [
      "Epoch: 167 (112.2304s), train_loss: 0.1984, val_loss: 0.2677, train_acc: 0.9261, val_acc:0.8997\n",
      "\t\ttrain_roc: 0.9726, val_roc: 0.9593, train_auprc: 0.9653, val_auprc: 0.9529\n"
     ]
    },
    {
     "name": "stderr",
     "output_type": "stream",
     "text": [
      "/home/namle/.local/lib/python3.10/site-packages/torch_geometric/warnings.py:11: UserWarning: The usage of `scatter(reduce='max')` can be accelerated via the 'torch-scatter' package, but it was not found\n",
      "  warnings.warn(message)\n"
     ]
    },
    {
     "name": "stdout",
     "output_type": "stream",
     "text": [
      "Epoch: 168 (112.2009s), train_loss: 0.1976, val_loss: 0.2676, train_acc: 0.9264, val_acc:0.9000\n",
      "\t\ttrain_roc: 0.9729, val_roc: 0.9593, train_auprc: 0.9656, val_auprc: 0.9526\n"
     ]
    },
    {
     "name": "stderr",
     "output_type": "stream",
     "text": [
      "/home/namle/.local/lib/python3.10/site-packages/torch_geometric/warnings.py:11: UserWarning: The usage of `scatter(reduce='max')` can be accelerated via the 'torch-scatter' package, but it was not found\n",
      "  warnings.warn(message)\n"
     ]
    },
    {
     "name": "stdout",
     "output_type": "stream",
     "text": [
      "Epoch: 169 (110.7853s), train_loss: 0.1965, val_loss: 0.2696, train_acc: 0.9272, val_acc:0.8993\n",
      "\t\ttrain_roc: 0.9731, val_roc: 0.9584, train_auprc: 0.9660, val_auprc: 0.9515\n"
     ]
    },
    {
     "name": "stderr",
     "output_type": "stream",
     "text": [
      "/home/namle/.local/lib/python3.10/site-packages/torch_geometric/warnings.py:11: UserWarning: The usage of `scatter(reduce='max')` can be accelerated via the 'torch-scatter' package, but it was not found\n",
      "  warnings.warn(message)\n"
     ]
    },
    {
     "name": "stdout",
     "output_type": "stream",
     "text": [
      "Epoch: 170 (111.8293s), train_loss: 0.1972, val_loss: 0.2674, train_acc: 0.9273, val_acc:0.8999\n",
      "\t\ttrain_roc: 0.9729, val_roc: 0.9592, train_auprc: 0.9653, val_auprc: 0.9527\n"
     ]
    },
    {
     "name": "stderr",
     "output_type": "stream",
     "text": [
      "/home/namle/.local/lib/python3.10/site-packages/torch_geometric/warnings.py:11: UserWarning: The usage of `scatter(reduce='max')` can be accelerated via the 'torch-scatter' package, but it was not found\n",
      "  warnings.warn(message)\n"
     ]
    },
    {
     "name": "stdout",
     "output_type": "stream",
     "text": [
      "Epoch: 171 (110.9949s), train_loss: 0.1966, val_loss: 0.2690, train_acc: 0.9270, val_acc:0.8991\n",
      "\t\ttrain_roc: 0.9731, val_roc: 0.9589, train_auprc: 0.9660, val_auprc: 0.9526\n"
     ]
    },
    {
     "name": "stderr",
     "output_type": "stream",
     "text": [
      "/home/namle/.local/lib/python3.10/site-packages/torch_geometric/warnings.py:11: UserWarning: The usage of `scatter(reduce='max')` can be accelerated via the 'torch-scatter' package, but it was not found\n",
      "  warnings.warn(message)\n"
     ]
    },
    {
     "name": "stdout",
     "output_type": "stream",
     "text": [
      "Epoch: 172 (112.2592s), train_loss: 0.1961, val_loss: 0.2686, train_acc: 0.9275, val_acc:0.9001\n",
      "\t\ttrain_roc: 0.9731, val_roc: 0.9588, train_auprc: 0.9658, val_auprc: 0.9521\n"
     ]
    },
    {
     "name": "stderr",
     "output_type": "stream",
     "text": [
      "/home/namle/.local/lib/python3.10/site-packages/torch_geometric/warnings.py:11: UserWarning: The usage of `scatter(reduce='max')` can be accelerated via the 'torch-scatter' package, but it was not found\n",
      "  warnings.warn(message)\n"
     ]
    },
    {
     "name": "stdout",
     "output_type": "stream",
     "text": [
      "Epoch: 173 (111.4151s), train_loss: 0.1947, val_loss: 0.2667, train_acc: 0.9276, val_acc:0.9005\n",
      "\t\ttrain_roc: 0.9737, val_roc: 0.9596, train_auprc: 0.9667, val_auprc: 0.9532\n"
     ]
    },
    {
     "name": "stderr",
     "output_type": "stream",
     "text": [
      "/home/namle/.local/lib/python3.10/site-packages/torch_geometric/warnings.py:11: UserWarning: The usage of `scatter(reduce='max')` can be accelerated via the 'torch-scatter' package, but it was not found\n",
      "  warnings.warn(message)\n"
     ]
    },
    {
     "name": "stdout",
     "output_type": "stream",
     "text": [
      "Epoch: 174 (111.8457s), train_loss: 0.1978, val_loss: 0.2723, train_acc: 0.9272, val_acc:0.8975\n",
      "\t\ttrain_roc: 0.9727, val_roc: 0.9580, train_auprc: 0.9651, val_auprc: 0.9508\n"
     ]
    },
    {
     "name": "stderr",
     "output_type": "stream",
     "text": [
      "/home/namle/.local/lib/python3.10/site-packages/torch_geometric/warnings.py:11: UserWarning: The usage of `scatter(reduce='max')` can be accelerated via the 'torch-scatter' package, but it was not found\n",
      "  warnings.warn(message)\n"
     ]
    },
    {
     "name": "stdout",
     "output_type": "stream",
     "text": [
      "Epoch: 175 (112.6054s), train_loss: 0.1975, val_loss: 0.2669, train_acc: 0.9267, val_acc:0.9000\n",
      "\t\ttrain_roc: 0.9728, val_roc: 0.9596, train_auprc: 0.9654, val_auprc: 0.9532\n"
     ]
    },
    {
     "name": "stderr",
     "output_type": "stream",
     "text": [
      "/home/namle/.local/lib/python3.10/site-packages/torch_geometric/warnings.py:11: UserWarning: The usage of `scatter(reduce='max')` can be accelerated via the 'torch-scatter' package, but it was not found\n",
      "  warnings.warn(message)\n"
     ]
    },
    {
     "name": "stdout",
     "output_type": "stream",
     "text": [
      "Epoch: 176 (111.6482s), train_loss: 0.1954, val_loss: 0.2698, train_acc: 0.9276, val_acc:0.8985\n",
      "\t\ttrain_roc: 0.9735, val_roc: 0.9585, train_auprc: 0.9664, val_auprc: 0.9521\n"
     ]
    },
    {
     "name": "stderr",
     "output_type": "stream",
     "text": [
      "/home/namle/.local/lib/python3.10/site-packages/torch_geometric/warnings.py:11: UserWarning: The usage of `scatter(reduce='max')` can be accelerated via the 'torch-scatter' package, but it was not found\n",
      "  warnings.warn(message)\n"
     ]
    },
    {
     "name": "stdout",
     "output_type": "stream",
     "text": [
      "Epoch: 177 (111.4901s), train_loss: 0.1983, val_loss: 0.2698, train_acc: 0.9266, val_acc:0.8988\n",
      "\t\ttrain_roc: 0.9726, val_roc: 0.9587, train_auprc: 0.9651, val_auprc: 0.9519\n"
     ]
    },
    {
     "name": "stderr",
     "output_type": "stream",
     "text": [
      "/home/namle/.local/lib/python3.10/site-packages/torch_geometric/warnings.py:11: UserWarning: The usage of `scatter(reduce='max')` can be accelerated via the 'torch-scatter' package, but it was not found\n",
      "  warnings.warn(message)\n"
     ]
    },
    {
     "name": "stdout",
     "output_type": "stream",
     "text": [
      "Epoch: 178 (111.8195s), train_loss: 0.1953, val_loss: 0.2702, train_acc: 0.9276, val_acc:0.8982\n",
      "\t\ttrain_roc: 0.9736, val_roc: 0.9587, train_auprc: 0.9667, val_auprc: 0.9521\n"
     ]
    },
    {
     "name": "stderr",
     "output_type": "stream",
     "text": [
      "/home/namle/.local/lib/python3.10/site-packages/torch_geometric/warnings.py:11: UserWarning: The usage of `scatter(reduce='max')` can be accelerated via the 'torch-scatter' package, but it was not found\n",
      "  warnings.warn(message)\n"
     ]
    },
    {
     "name": "stdout",
     "output_type": "stream",
     "text": [
      "Epoch: 179 (112.1347s), train_loss: 0.1972, val_loss: 0.2715, train_acc: 0.9268, val_acc:0.8992\n",
      "\t\ttrain_roc: 0.9731, val_roc: 0.9580, train_auprc: 0.9657, val_auprc: 0.9508\n"
     ]
    },
    {
     "name": "stderr",
     "output_type": "stream",
     "text": [
      "/home/namle/.local/lib/python3.10/site-packages/torch_geometric/warnings.py:11: UserWarning: The usage of `scatter(reduce='max')` can be accelerated via the 'torch-scatter' package, but it was not found\n",
      "  warnings.warn(message)\n"
     ]
    },
    {
     "name": "stdout",
     "output_type": "stream",
     "text": [
      "Epoch: 180 (112.5634s), train_loss: 0.1975, val_loss: 0.2695, train_acc: 0.9268, val_acc:0.8995\n",
      "\t\ttrain_roc: 0.9729, val_roc: 0.9586, train_auprc: 0.9655, val_auprc: 0.9519\n"
     ]
    },
    {
     "name": "stderr",
     "output_type": "stream",
     "text": [
      "/home/namle/.local/lib/python3.10/site-packages/torch_geometric/warnings.py:11: UserWarning: The usage of `scatter(reduce='max')` can be accelerated via the 'torch-scatter' package, but it was not found\n",
      "  warnings.warn(message)\n"
     ]
    },
    {
     "name": "stdout",
     "output_type": "stream",
     "text": [
      "Epoch: 181 (112.1615s), train_loss: 0.1952, val_loss: 0.2712, train_acc: 0.9276, val_acc:0.8983\n",
      "\t\ttrain_roc: 0.9736, val_roc: 0.9581, train_auprc: 0.9663, val_auprc: 0.9512\n"
     ]
    },
    {
     "name": "stderr",
     "output_type": "stream",
     "text": [
      "/home/namle/.local/lib/python3.10/site-packages/torch_geometric/warnings.py:11: UserWarning: The usage of `scatter(reduce='max')` can be accelerated via the 'torch-scatter' package, but it was not found\n",
      "  warnings.warn(message)\n"
     ]
    },
    {
     "name": "stdout",
     "output_type": "stream",
     "text": [
      "Epoch: 182 (112.2050s), train_loss: 0.1980, val_loss: 0.2708, train_acc: 0.9259, val_acc:0.8983\n",
      "\t\ttrain_roc: 0.9727, val_roc: 0.9586, train_auprc: 0.9656, val_auprc: 0.9515\n"
     ]
    },
    {
     "name": "stderr",
     "output_type": "stream",
     "text": [
      "/home/namle/.local/lib/python3.10/site-packages/torch_geometric/warnings.py:11: UserWarning: The usage of `scatter(reduce='max')` can be accelerated via the 'torch-scatter' package, but it was not found\n",
      "  warnings.warn(message)\n"
     ]
    },
    {
     "name": "stdout",
     "output_type": "stream",
     "text": [
      "Epoch: 183 (111.2859s), train_loss: 0.1981, val_loss: 0.2679, train_acc: 0.9266, val_acc:0.9003\n",
      "\t\ttrain_roc: 0.9725, val_roc: 0.9594, train_auprc: 0.9648, val_auprc: 0.9527\n"
     ]
    },
    {
     "name": "stderr",
     "output_type": "stream",
     "text": [
      "/home/namle/.local/lib/python3.10/site-packages/torch_geometric/warnings.py:11: UserWarning: The usage of `scatter(reduce='max')` can be accelerated via the 'torch-scatter' package, but it was not found\n",
      "  warnings.warn(message)\n"
     ]
    },
    {
     "name": "stdout",
     "output_type": "stream",
     "text": [
      "Epoch: 184 (111.5487s), train_loss: 0.1958, val_loss: 0.2722, train_acc: 0.9272, val_acc:0.8973\n",
      "\t\ttrain_roc: 0.9734, val_roc: 0.9578, train_auprc: 0.9662, val_auprc: 0.9514\n"
     ]
    },
    {
     "name": "stderr",
     "output_type": "stream",
     "text": [
      "/home/namle/.local/lib/python3.10/site-packages/torch_geometric/warnings.py:11: UserWarning: The usage of `scatter(reduce='max')` can be accelerated via the 'torch-scatter' package, but it was not found\n",
      "  warnings.warn(message)\n"
     ]
    },
    {
     "name": "stdout",
     "output_type": "stream",
     "text": [
      "Epoch: 185 (110.9110s), train_loss: 0.1962, val_loss: 0.2693, train_acc: 0.9276, val_acc:0.9000\n",
      "\t\ttrain_roc: 0.9732, val_roc: 0.9588, train_auprc: 0.9658, val_auprc: 0.9516\n"
     ]
    },
    {
     "name": "stderr",
     "output_type": "stream",
     "text": [
      "/home/namle/.local/lib/python3.10/site-packages/torch_geometric/warnings.py:11: UserWarning: The usage of `scatter(reduce='max')` can be accelerated via the 'torch-scatter' package, but it was not found\n",
      "  warnings.warn(message)\n"
     ]
    },
    {
     "name": "stdout",
     "output_type": "stream",
     "text": [
      "Epoch: 186 (111.5632s), train_loss: 0.1958, val_loss: 0.2713, train_acc: 0.9274, val_acc:0.8981\n",
      "\t\ttrain_roc: 0.9733, val_roc: 0.9582, train_auprc: 0.9660, val_auprc: 0.9513\n"
     ]
    },
    {
     "name": "stderr",
     "output_type": "stream",
     "text": [
      "/home/namle/.local/lib/python3.10/site-packages/torch_geometric/warnings.py:11: UserWarning: The usage of `scatter(reduce='max')` can be accelerated via the 'torch-scatter' package, but it was not found\n",
      "  warnings.warn(message)\n"
     ]
    },
    {
     "name": "stdout",
     "output_type": "stream",
     "text": [
      "Epoch: 187 (112.0209s), train_loss: 0.1965, val_loss: 0.2690, train_acc: 0.9274, val_acc:0.8990\n",
      "\t\ttrain_roc: 0.9730, val_roc: 0.9590, train_auprc: 0.9655, val_auprc: 0.9528\n"
     ]
    },
    {
     "name": "stderr",
     "output_type": "stream",
     "text": [
      "/home/namle/.local/lib/python3.10/site-packages/torch_geometric/warnings.py:11: UserWarning: The usage of `scatter(reduce='max')` can be accelerated via the 'torch-scatter' package, but it was not found\n",
      "  warnings.warn(message)\n"
     ]
    },
    {
     "name": "stdout",
     "output_type": "stream",
     "text": [
      "Saving model acc\n",
      "Epoch: 188 (111.0439s), train_loss: 0.1944, val_loss: 0.2657, train_acc: 0.9283, val_acc:0.9010\n",
      "\t\ttrain_roc: 0.9737, val_roc: 0.9599, train_auprc: 0.9665, val_auprc: 0.9537\n"
     ]
    },
    {
     "name": "stderr",
     "output_type": "stream",
     "text": [
      "/home/namle/.local/lib/python3.10/site-packages/torch_geometric/warnings.py:11: UserWarning: The usage of `scatter(reduce='max')` can be accelerated via the 'torch-scatter' package, but it was not found\n",
      "  warnings.warn(message)\n"
     ]
    },
    {
     "name": "stdout",
     "output_type": "stream",
     "text": [
      "Epoch: 189 (111.8633s), train_loss: 0.1973, val_loss: 0.2697, train_acc: 0.9270, val_acc:0.8988\n",
      "\t\ttrain_roc: 0.9728, val_roc: 0.9588, train_auprc: 0.9653, val_auprc: 0.9520\n"
     ]
    },
    {
     "name": "stderr",
     "output_type": "stream",
     "text": [
      "/home/namle/.local/lib/python3.10/site-packages/torch_geometric/warnings.py:11: UserWarning: The usage of `scatter(reduce='max')` can be accelerated via the 'torch-scatter' package, but it was not found\n",
      "  warnings.warn(message)\n"
     ]
    },
    {
     "name": "stdout",
     "output_type": "stream",
     "text": [
      "Epoch: 190 (112.1388s), train_loss: 0.1968, val_loss: 0.2703, train_acc: 0.9273, val_acc:0.8986\n",
      "\t\ttrain_roc: 0.9730, val_roc: 0.9585, train_auprc: 0.9656, val_auprc: 0.9520\n"
     ]
    },
    {
     "name": "stderr",
     "output_type": "stream",
     "text": [
      "/home/namle/.local/lib/python3.10/site-packages/torch_geometric/warnings.py:11: UserWarning: The usage of `scatter(reduce='max')` can be accelerated via the 'torch-scatter' package, but it was not found\n",
      "  warnings.warn(message)\n"
     ]
    },
    {
     "name": "stdout",
     "output_type": "stream",
     "text": [
      "Epoch: 191 (110.4284s), train_loss: 0.1956, val_loss: 0.2684, train_acc: 0.9278, val_acc:0.8998\n",
      "\t\ttrain_roc: 0.9733, val_roc: 0.9594, train_auprc: 0.9662, val_auprc: 0.9527\n"
     ]
    },
    {
     "name": "stderr",
     "output_type": "stream",
     "text": [
      "/home/namle/.local/lib/python3.10/site-packages/torch_geometric/warnings.py:11: UserWarning: The usage of `scatter(reduce='max')` can be accelerated via the 'torch-scatter' package, but it was not found\n",
      "  warnings.warn(message)\n"
     ]
    },
    {
     "name": "stdout",
     "output_type": "stream",
     "text": [
      "Epoch: 192 (110.4013s), train_loss: 0.1966, val_loss: 0.2711, train_acc: 0.9273, val_acc:0.8987\n",
      "\t\ttrain_roc: 0.9731, val_roc: 0.9584, train_auprc: 0.9657, val_auprc: 0.9513\n"
     ]
    },
    {
     "name": "stderr",
     "output_type": "stream",
     "text": [
      "/home/namle/.local/lib/python3.10/site-packages/torch_geometric/warnings.py:11: UserWarning: The usage of `scatter(reduce='max')` can be accelerated via the 'torch-scatter' package, but it was not found\n",
      "  warnings.warn(message)\n"
     ]
    },
    {
     "name": "stdout",
     "output_type": "stream",
     "text": [
      "Epoch: 193 (111.0730s), train_loss: 0.1967, val_loss: 0.2696, train_acc: 0.9271, val_acc:0.8996\n",
      "\t\ttrain_roc: 0.9730, val_roc: 0.9587, train_auprc: 0.9656, val_auprc: 0.9521\n"
     ]
    },
    {
     "name": "stderr",
     "output_type": "stream",
     "text": [
      "/home/namle/.local/lib/python3.10/site-packages/torch_geometric/warnings.py:11: UserWarning: The usage of `scatter(reduce='max')` can be accelerated via the 'torch-scatter' package, but it was not found\n",
      "  warnings.warn(message)\n"
     ]
    },
    {
     "name": "stdout",
     "output_type": "stream",
     "text": [
      "Epoch: 194 (111.5257s), train_loss: 0.1969, val_loss: 0.2715, train_acc: 0.9271, val_acc:0.8986\n",
      "\t\ttrain_roc: 0.9729, val_roc: 0.9583, train_auprc: 0.9653, val_auprc: 0.9511\n"
     ]
    },
    {
     "name": "stderr",
     "output_type": "stream",
     "text": [
      "/home/namle/.local/lib/python3.10/site-packages/torch_geometric/warnings.py:11: UserWarning: The usage of `scatter(reduce='max')` can be accelerated via the 'torch-scatter' package, but it was not found\n",
      "  warnings.warn(message)\n"
     ]
    },
    {
     "name": "stdout",
     "output_type": "stream",
     "text": [
      "Epoch: 195 (111.0455s), train_loss: 0.1959, val_loss: 0.2702, train_acc: 0.9278, val_acc:0.8990\n",
      "\t\ttrain_roc: 0.9733, val_roc: 0.9586, train_auprc: 0.9662, val_auprc: 0.9518\n"
     ]
    },
    {
     "name": "stderr",
     "output_type": "stream",
     "text": [
      "/home/namle/.local/lib/python3.10/site-packages/torch_geometric/warnings.py:11: UserWarning: The usage of `scatter(reduce='max')` can be accelerated via the 'torch-scatter' package, but it was not found\n",
      "  warnings.warn(message)\n"
     ]
    },
    {
     "name": "stdout",
     "output_type": "stream",
     "text": [
      "Epoch: 196 (112.4578s), train_loss: 0.1974, val_loss: 0.2708, train_acc: 0.9271, val_acc:0.8988\n",
      "\t\ttrain_roc: 0.9728, val_roc: 0.9583, train_auprc: 0.9654, val_auprc: 0.9515\n"
     ]
    },
    {
     "name": "stderr",
     "output_type": "stream",
     "text": [
      "/home/namle/.local/lib/python3.10/site-packages/torch_geometric/warnings.py:11: UserWarning: The usage of `scatter(reduce='max')` can be accelerated via the 'torch-scatter' package, but it was not found\n",
      "  warnings.warn(message)\n"
     ]
    },
    {
     "name": "stdout",
     "output_type": "stream",
     "text": [
      "Epoch: 197 (110.9587s), train_loss: 0.1964, val_loss: 0.2675, train_acc: 0.9273, val_acc:0.8994\n",
      "\t\ttrain_roc: 0.9731, val_roc: 0.9596, train_auprc: 0.9657, val_auprc: 0.9537\n"
     ]
    },
    {
     "name": "stderr",
     "output_type": "stream",
     "text": [
      "/home/namle/.local/lib/python3.10/site-packages/torch_geometric/warnings.py:11: UserWarning: The usage of `scatter(reduce='max')` can be accelerated via the 'torch-scatter' package, but it was not found\n",
      "  warnings.warn(message)\n"
     ]
    },
    {
     "name": "stdout",
     "output_type": "stream",
     "text": [
      "Epoch: 198 (112.0211s), train_loss: 0.1949, val_loss: 0.2699, train_acc: 0.9277, val_acc:0.8986\n",
      "\t\ttrain_roc: 0.9735, val_roc: 0.9587, train_auprc: 0.9665, val_auprc: 0.9523\n"
     ]
    },
    {
     "name": "stderr",
     "output_type": "stream",
     "text": [
      "/home/namle/.local/lib/python3.10/site-packages/torch_geometric/warnings.py:11: UserWarning: The usage of `scatter(reduce='max')` can be accelerated via the 'torch-scatter' package, but it was not found\n",
      "  warnings.warn(message)\n"
     ]
    },
    {
     "name": "stdout",
     "output_type": "stream",
     "text": [
      "Epoch: 199 (111.1981s), train_loss: 0.1949, val_loss: 0.2697, train_acc: 0.9281, val_acc:0.8984\n",
      "\t\ttrain_roc: 0.9736, val_roc: 0.9587, train_auprc: 0.9666, val_auprc: 0.9522\n"
     ]
    },
    {
     "name": "stderr",
     "output_type": "stream",
     "text": [
      "/home/namle/.local/lib/python3.10/site-packages/torch_geometric/warnings.py:11: UserWarning: The usage of `scatter(reduce='max')` can be accelerated via the 'torch-scatter' package, but it was not found\n",
      "  warnings.warn(message)\n"
     ]
    },
    {
     "name": "stdout",
     "output_type": "stream",
     "text": [
      "Epoch: 200 (112.3203s), train_loss: 0.1962, val_loss: 0.2687, train_acc: 0.9270, val_acc:0.8993\n",
      "\t\ttrain_roc: 0.9731, val_roc: 0.9590, train_auprc: 0.9659, val_auprc: 0.9527\n"
     ]
    },
    {
     "name": "stderr",
     "output_type": "stream",
     "text": [
      "/home/namle/.local/lib/python3.10/site-packages/torch_geometric/warnings.py:11: UserWarning: The usage of `scatter(reduce='max')` can be accelerated via the 'torch-scatter' package, but it was not found\n",
      "  warnings.warn(message)\n"
     ]
    },
    {
     "name": "stdout",
     "output_type": "stream",
     "text": [
      "Saving model roc\n",
      "Epoch: 201 (111.0254s), train_loss: 0.1981, val_loss: 0.2665, train_acc: 0.9266, val_acc:0.8996\n",
      "\t\ttrain_roc: 0.9725, val_roc: 0.9600, train_auprc: 0.9650, val_auprc: 0.9540\n"
     ]
    },
    {
     "name": "stderr",
     "output_type": "stream",
     "text": [
      "/home/namle/.local/lib/python3.10/site-packages/torch_geometric/warnings.py:11: UserWarning: The usage of `scatter(reduce='max')` can be accelerated via the 'torch-scatter' package, but it was not found\n",
      "  warnings.warn(message)\n"
     ]
    },
    {
     "name": "stdout",
     "output_type": "stream",
     "text": [
      "Epoch: 202 (111.5724s), train_loss: 0.1964, val_loss: 0.2685, train_acc: 0.9270, val_acc:0.9000\n",
      "\t\ttrain_roc: 0.9731, val_roc: 0.9594, train_auprc: 0.9659, val_auprc: 0.9528\n"
     ]
    },
    {
     "name": "stderr",
     "output_type": "stream",
     "text": [
      "/home/namle/.local/lib/python3.10/site-packages/torch_geometric/warnings.py:11: UserWarning: The usage of `scatter(reduce='max')` can be accelerated via the 'torch-scatter' package, but it was not found\n",
      "  warnings.warn(message)\n"
     ]
    },
    {
     "name": "stdout",
     "output_type": "stream",
     "text": [
      "Epoch: 203 (112.3256s), train_loss: 0.1958, val_loss: 0.2692, train_acc: 0.9276, val_acc:0.8989\n",
      "\t\ttrain_roc: 0.9733, val_roc: 0.9588, train_auprc: 0.9661, val_auprc: 0.9527\n"
     ]
    },
    {
     "name": "stderr",
     "output_type": "stream",
     "text": [
      "/home/namle/.local/lib/python3.10/site-packages/torch_geometric/warnings.py:11: UserWarning: The usage of `scatter(reduce='max')` can be accelerated via the 'torch-scatter' package, but it was not found\n",
      "  warnings.warn(message)\n"
     ]
    },
    {
     "name": "stdout",
     "output_type": "stream",
     "text": [
      "Epoch: 204 (112.5432s), train_loss: 0.1948, val_loss: 0.2700, train_acc: 0.9277, val_acc:0.8992\n",
      "\t\ttrain_roc: 0.9737, val_roc: 0.9587, train_auprc: 0.9668, val_auprc: 0.9516\n"
     ]
    },
    {
     "name": "stderr",
     "output_type": "stream",
     "text": [
      "/home/namle/.local/lib/python3.10/site-packages/torch_geometric/warnings.py:11: UserWarning: The usage of `scatter(reduce='max')` can be accelerated via the 'torch-scatter' package, but it was not found\n",
      "  warnings.warn(message)\n"
     ]
    },
    {
     "name": "stdout",
     "output_type": "stream",
     "text": [
      "Epoch: 205 (111.8074s), train_loss: 0.1962, val_loss: 0.2702, train_acc: 0.9272, val_acc:0.8988\n",
      "\t\ttrain_roc: 0.9733, val_roc: 0.9588, train_auprc: 0.9662, val_auprc: 0.9521\n"
     ]
    },
    {
     "name": "stderr",
     "output_type": "stream",
     "text": [
      "/home/namle/.local/lib/python3.10/site-packages/torch_geometric/warnings.py:11: UserWarning: The usage of `scatter(reduce='max')` can be accelerated via the 'torch-scatter' package, but it was not found\n",
      "  warnings.warn(message)\n"
     ]
    },
    {
     "name": "stdout",
     "output_type": "stream",
     "text": [
      "Epoch: 206 (111.8646s), train_loss: 0.1959, val_loss: 0.2692, train_acc: 0.9272, val_acc:0.8991\n",
      "\t\ttrain_roc: 0.9733, val_roc: 0.9590, train_auprc: 0.9660, val_auprc: 0.9526\n"
     ]
    },
    {
     "name": "stderr",
     "output_type": "stream",
     "text": [
      "/home/namle/.local/lib/python3.10/site-packages/torch_geometric/warnings.py:11: UserWarning: The usage of `scatter(reduce='max')` can be accelerated via the 'torch-scatter' package, but it was not found\n",
      "  warnings.warn(message)\n"
     ]
    },
    {
     "name": "stdout",
     "output_type": "stream",
     "text": [
      "Epoch: 207 (111.2393s), train_loss: 0.1964, val_loss: 0.2678, train_acc: 0.9272, val_acc:0.8999\n",
      "\t\ttrain_roc: 0.9731, val_roc: 0.9595, train_auprc: 0.9657, val_auprc: 0.9535\n"
     ]
    },
    {
     "name": "stderr",
     "output_type": "stream",
     "text": [
      "/home/namle/.local/lib/python3.10/site-packages/torch_geometric/warnings.py:11: UserWarning: The usage of `scatter(reduce='max')` can be accelerated via the 'torch-scatter' package, but it was not found\n",
      "  warnings.warn(message)\n"
     ]
    },
    {
     "name": "stdout",
     "output_type": "stream",
     "text": [
      "Epoch: 208 (111.8463s), train_loss: 0.1961, val_loss: 0.2728, train_acc: 0.9268, val_acc:0.8976\n",
      "\t\ttrain_roc: 0.9733, val_roc: 0.9577, train_auprc: 0.9665, val_auprc: 0.9505\n"
     ]
    },
    {
     "name": "stderr",
     "output_type": "stream",
     "text": [
      "/home/namle/.local/lib/python3.10/site-packages/torch_geometric/warnings.py:11: UserWarning: The usage of `scatter(reduce='max')` can be accelerated via the 'torch-scatter' package, but it was not found\n",
      "  warnings.warn(message)\n"
     ]
    },
    {
     "name": "stdout",
     "output_type": "stream",
     "text": [
      "Epoch: 209 (111.3286s), train_loss: 0.1953, val_loss: 0.2700, train_acc: 0.9279, val_acc:0.8986\n",
      "\t\ttrain_roc: 0.9734, val_roc: 0.9586, train_auprc: 0.9660, val_auprc: 0.9525\n"
     ]
    },
    {
     "name": "stderr",
     "output_type": "stream",
     "text": [
      "/home/namle/.local/lib/python3.10/site-packages/torch_geometric/warnings.py:11: UserWarning: The usage of `scatter(reduce='max')` can be accelerated via the 'torch-scatter' package, but it was not found\n",
      "  warnings.warn(message)\n"
     ]
    },
    {
     "name": "stdout",
     "output_type": "stream",
     "text": [
      "Epoch: 210 (110.4992s), train_loss: 0.1958, val_loss: 0.2700, train_acc: 0.9273, val_acc:0.8985\n",
      "\t\ttrain_roc: 0.9734, val_roc: 0.9588, train_auprc: 0.9662, val_auprc: 0.9522\n"
     ]
    },
    {
     "name": "stderr",
     "output_type": "stream",
     "text": [
      "/home/namle/.local/lib/python3.10/site-packages/torch_geometric/warnings.py:11: UserWarning: The usage of `scatter(reduce='max')` can be accelerated via the 'torch-scatter' package, but it was not found\n",
      "  warnings.warn(message)\n"
     ]
    },
    {
     "name": "stdout",
     "output_type": "stream",
     "text": [
      "Epoch: 211 (111.0039s), train_loss: 0.1950, val_loss: 0.2700, train_acc: 0.9282, val_acc:0.8991\n",
      "\t\ttrain_roc: 0.9734, val_roc: 0.9587, train_auprc: 0.9663, val_auprc: 0.9523\n"
     ]
    },
    {
     "name": "stderr",
     "output_type": "stream",
     "text": [
      "/home/namle/.local/lib/python3.10/site-packages/torch_geometric/warnings.py:11: UserWarning: The usage of `scatter(reduce='max')` can be accelerated via the 'torch-scatter' package, but it was not found\n",
      "  warnings.warn(message)\n"
     ]
    },
    {
     "name": "stdout",
     "output_type": "stream",
     "text": [
      "Epoch: 212 (111.3493s), train_loss: 0.1965, val_loss: 0.2698, train_acc: 0.9278, val_acc:0.8986\n",
      "\t\ttrain_roc: 0.9729, val_roc: 0.9587, train_auprc: 0.9653, val_auprc: 0.9524\n"
     ]
    },
    {
     "name": "stderr",
     "output_type": "stream",
     "text": [
      "/home/namle/.local/lib/python3.10/site-packages/torch_geometric/warnings.py:11: UserWarning: The usage of `scatter(reduce='max')` can be accelerated via the 'torch-scatter' package, but it was not found\n",
      "  warnings.warn(message)\n"
     ]
    },
    {
     "name": "stdout",
     "output_type": "stream",
     "text": [
      "Epoch: 213 (111.3711s), train_loss: 0.1965, val_loss: 0.2693, train_acc: 0.9276, val_acc:0.8996\n",
      "\t\ttrain_roc: 0.9731, val_roc: 0.9588, train_auprc: 0.9657, val_auprc: 0.9522\n"
     ]
    },
    {
     "name": "stderr",
     "output_type": "stream",
     "text": [
      "/home/namle/.local/lib/python3.10/site-packages/torch_geometric/warnings.py:11: UserWarning: The usage of `scatter(reduce='max')` can be accelerated via the 'torch-scatter' package, but it was not found\n",
      "  warnings.warn(message)\n"
     ]
    },
    {
     "name": "stdout",
     "output_type": "stream",
     "text": [
      "Epoch: 214 (111.0319s), train_loss: 0.1961, val_loss: 0.2717, train_acc: 0.9275, val_acc:0.8983\n",
      "\t\ttrain_roc: 0.9731, val_roc: 0.9582, train_auprc: 0.9660, val_auprc: 0.9512\n"
     ]
    },
    {
     "name": "stderr",
     "output_type": "stream",
     "text": [
      "/home/namle/.local/lib/python3.10/site-packages/torch_geometric/warnings.py:11: UserWarning: The usage of `scatter(reduce='max')` can be accelerated via the 'torch-scatter' package, but it was not found\n",
      "  warnings.warn(message)\n"
     ]
    },
    {
     "name": "stdout",
     "output_type": "stream",
     "text": [
      "Epoch: 215 (111.9151s), train_loss: 0.1972, val_loss: 0.2696, train_acc: 0.9269, val_acc:0.8985\n",
      "\t\ttrain_roc: 0.9727, val_roc: 0.9589, train_auprc: 0.9654, val_auprc: 0.9526\n"
     ]
    },
    {
     "name": "stderr",
     "output_type": "stream",
     "text": [
      "/home/namle/.local/lib/python3.10/site-packages/torch_geometric/warnings.py:11: UserWarning: The usage of `scatter(reduce='max')` can be accelerated via the 'torch-scatter' package, but it was not found\n",
      "  warnings.warn(message)\n"
     ]
    },
    {
     "name": "stdout",
     "output_type": "stream",
     "text": [
      "Epoch: 216 (111.0811s), train_loss: 0.1949, val_loss: 0.2727, train_acc: 0.9276, val_acc:0.8986\n",
      "\t\ttrain_roc: 0.9736, val_roc: 0.9577, train_auprc: 0.9666, val_auprc: 0.9505\n"
     ]
    },
    {
     "name": "stderr",
     "output_type": "stream",
     "text": [
      "/home/namle/.local/lib/python3.10/site-packages/torch_geometric/warnings.py:11: UserWarning: The usage of `scatter(reduce='max')` can be accelerated via the 'torch-scatter' package, but it was not found\n",
      "  warnings.warn(message)\n"
     ]
    },
    {
     "name": "stdout",
     "output_type": "stream",
     "text": [
      "Epoch: 217 (111.0820s), train_loss: 0.1956, val_loss: 0.2690, train_acc: 0.9274, val_acc:0.8992\n",
      "\t\ttrain_roc: 0.9734, val_roc: 0.9592, train_auprc: 0.9664, val_auprc: 0.9529\n"
     ]
    },
    {
     "name": "stderr",
     "output_type": "stream",
     "text": [
      "/home/namle/.local/lib/python3.10/site-packages/torch_geometric/warnings.py:11: UserWarning: The usage of `scatter(reduce='max')` can be accelerated via the 'torch-scatter' package, but it was not found\n",
      "  warnings.warn(message)\n"
     ]
    },
    {
     "name": "stdout",
     "output_type": "stream",
     "text": [
      "Epoch: 218 (111.1477s), train_loss: 0.1975, val_loss: 0.2715, train_acc: 0.9265, val_acc:0.8988\n",
      "\t\ttrain_roc: 0.9728, val_roc: 0.9582, train_auprc: 0.9654, val_auprc: 0.9510\n"
     ]
    },
    {
     "name": "stderr",
     "output_type": "stream",
     "text": [
      "/home/namle/.local/lib/python3.10/site-packages/torch_geometric/warnings.py:11: UserWarning: The usage of `scatter(reduce='max')` can be accelerated via the 'torch-scatter' package, but it was not found\n",
      "  warnings.warn(message)\n"
     ]
    },
    {
     "name": "stdout",
     "output_type": "stream",
     "text": [
      "Epoch: 219 (111.9030s), train_loss: 0.1958, val_loss: 0.2712, train_acc: 0.9277, val_acc:0.8976\n",
      "\t\ttrain_roc: 0.9732, val_roc: 0.9583, train_auprc: 0.9660, val_auprc: 0.9520\n"
     ]
    },
    {
     "name": "stderr",
     "output_type": "stream",
     "text": [
      "/home/namle/.local/lib/python3.10/site-packages/torch_geometric/warnings.py:11: UserWarning: The usage of `scatter(reduce='max')` can be accelerated via the 'torch-scatter' package, but it was not found\n",
      "  warnings.warn(message)\n"
     ]
    },
    {
     "name": "stdout",
     "output_type": "stream",
     "text": [
      "Epoch: 220 (111.9834s), train_loss: 0.1959, val_loss: 0.2695, train_acc: 0.9276, val_acc:0.8983\n",
      "\t\ttrain_roc: 0.9732, val_roc: 0.9588, train_auprc: 0.9658, val_auprc: 0.9527\n"
     ]
    },
    {
     "name": "stderr",
     "output_type": "stream",
     "text": [
      "/home/namle/.local/lib/python3.10/site-packages/torch_geometric/warnings.py:11: UserWarning: The usage of `scatter(reduce='max')` can be accelerated via the 'torch-scatter' package, but it was not found\n",
      "  warnings.warn(message)\n"
     ]
    },
    {
     "name": "stdout",
     "output_type": "stream",
     "text": [
      "Epoch: 221 (111.9407s), train_loss: 0.1977, val_loss: 0.2711, train_acc: 0.9266, val_acc:0.8977\n",
      "\t\ttrain_roc: 0.9726, val_roc: 0.9584, train_auprc: 0.9651, val_auprc: 0.9518\n"
     ]
    },
    {
     "name": "stderr",
     "output_type": "stream",
     "text": [
      "/home/namle/.local/lib/python3.10/site-packages/torch_geometric/warnings.py:11: UserWarning: The usage of `scatter(reduce='max')` can be accelerated via the 'torch-scatter' package, but it was not found\n",
      "  warnings.warn(message)\n"
     ]
    },
    {
     "name": "stdout",
     "output_type": "stream",
     "text": [
      "Epoch: 222 (112.1571s), train_loss: 0.1957, val_loss: 0.2678, train_acc: 0.9277, val_acc:0.8996\n",
      "\t\ttrain_roc: 0.9733, val_roc: 0.9596, train_auprc: 0.9661, val_auprc: 0.9532\n"
     ]
    },
    {
     "name": "stderr",
     "output_type": "stream",
     "text": [
      "/home/namle/.local/lib/python3.10/site-packages/torch_geometric/warnings.py:11: UserWarning: The usage of `scatter(reduce='max')` can be accelerated via the 'torch-scatter' package, but it was not found\n",
      "  warnings.warn(message)\n"
     ]
    },
    {
     "name": "stdout",
     "output_type": "stream",
     "text": [
      "Epoch: 223 (111.3649s), train_loss: 0.1977, val_loss: 0.2682, train_acc: 0.9266, val_acc:0.8990\n",
      "\t\ttrain_roc: 0.9727, val_roc: 0.9594, train_auprc: 0.9652, val_auprc: 0.9534\n"
     ]
    },
    {
     "name": "stderr",
     "output_type": "stream",
     "text": [
      "/home/namle/.local/lib/python3.10/site-packages/torch_geometric/warnings.py:11: UserWarning: The usage of `scatter(reduce='max')` can be accelerated via the 'torch-scatter' package, but it was not found\n",
      "  warnings.warn(message)\n"
     ]
    },
    {
     "name": "stdout",
     "output_type": "stream",
     "text": [
      "Epoch: 224 (111.0580s), train_loss: 0.1959, val_loss: 0.2696, train_acc: 0.9275, val_acc:0.8986\n",
      "\t\ttrain_roc: 0.9732, val_roc: 0.9590, train_auprc: 0.9659, val_auprc: 0.9524\n"
     ]
    },
    {
     "name": "stderr",
     "output_type": "stream",
     "text": [
      "/home/namle/.local/lib/python3.10/site-packages/torch_geometric/warnings.py:11: UserWarning: The usage of `scatter(reduce='max')` can be accelerated via the 'torch-scatter' package, but it was not found\n",
      "  warnings.warn(message)\n"
     ]
    },
    {
     "name": "stdout",
     "output_type": "stream",
     "text": [
      "Epoch: 225 (111.7103s), train_loss: 0.1956, val_loss: 0.2692, train_acc: 0.9274, val_acc:0.8995\n",
      "\t\ttrain_roc: 0.9733, val_roc: 0.9589, train_auprc: 0.9661, val_auprc: 0.9522\n"
     ]
    },
    {
     "name": "stderr",
     "output_type": "stream",
     "text": [
      "/home/namle/.local/lib/python3.10/site-packages/torch_geometric/warnings.py:11: UserWarning: The usage of `scatter(reduce='max')` can be accelerated via the 'torch-scatter' package, but it was not found\n",
      "  warnings.warn(message)\n"
     ]
    },
    {
     "name": "stdout",
     "output_type": "stream",
     "text": [
      "Epoch: 226 (111.9623s), train_loss: 0.1960, val_loss: 0.2681, train_acc: 0.9275, val_acc:0.8991\n",
      "\t\ttrain_roc: 0.9732, val_roc: 0.9594, train_auprc: 0.9660, val_auprc: 0.9532\n"
     ]
    },
    {
     "name": "stderr",
     "output_type": "stream",
     "text": [
      "/home/namle/.local/lib/python3.10/site-packages/torch_geometric/warnings.py:11: UserWarning: The usage of `scatter(reduce='max')` can be accelerated via the 'torch-scatter' package, but it was not found\n",
      "  warnings.warn(message)\n"
     ]
    },
    {
     "name": "stdout",
     "output_type": "stream",
     "text": [
      "Epoch: 227 (112.4706s), train_loss: 0.1965, val_loss: 0.2702, train_acc: 0.9271, val_acc:0.8994\n",
      "\t\ttrain_roc: 0.9731, val_roc: 0.9585, train_auprc: 0.9657, val_auprc: 0.9516\n"
     ]
    },
    {
     "name": "stderr",
     "output_type": "stream",
     "text": [
      "/home/namle/.local/lib/python3.10/site-packages/torch_geometric/warnings.py:11: UserWarning: The usage of `scatter(reduce='max')` can be accelerated via the 'torch-scatter' package, but it was not found\n",
      "  warnings.warn(message)\n"
     ]
    },
    {
     "name": "stdout",
     "output_type": "stream",
     "text": [
      "Epoch: 228 (111.2730s), train_loss: 0.1949, val_loss: 0.2694, train_acc: 0.9277, val_acc:0.8997\n",
      "\t\ttrain_roc: 0.9737, val_roc: 0.9590, train_auprc: 0.9664, val_auprc: 0.9519\n"
     ]
    },
    {
     "name": "stderr",
     "output_type": "stream",
     "text": [
      "/home/namle/.local/lib/python3.10/site-packages/torch_geometric/warnings.py:11: UserWarning: The usage of `scatter(reduce='max')` can be accelerated via the 'torch-scatter' package, but it was not found\n",
      "  warnings.warn(message)\n"
     ]
    },
    {
     "name": "stdout",
     "output_type": "stream",
     "text": [
      "Epoch: 229 (111.4565s), train_loss: 0.1957, val_loss: 0.2717, train_acc: 0.9274, val_acc:0.8983\n",
      "\t\ttrain_roc: 0.9734, val_roc: 0.9581, train_auprc: 0.9662, val_auprc: 0.9508\n"
     ]
    },
    {
     "name": "stderr",
     "output_type": "stream",
     "text": [
      "/home/namle/.local/lib/python3.10/site-packages/torch_geometric/warnings.py:11: UserWarning: The usage of `scatter(reduce='max')` can be accelerated via the 'torch-scatter' package, but it was not found\n",
      "  warnings.warn(message)\n"
     ]
    },
    {
     "name": "stdout",
     "output_type": "stream",
     "text": [
      "Epoch: 230 (112.1706s), train_loss: 0.1962, val_loss: 0.2692, train_acc: 0.9272, val_acc:0.8990\n",
      "\t\ttrain_roc: 0.9732, val_roc: 0.9591, train_auprc: 0.9656, val_auprc: 0.9528\n"
     ]
    },
    {
     "name": "stderr",
     "output_type": "stream",
     "text": [
      "/home/namle/.local/lib/python3.10/site-packages/torch_geometric/warnings.py:11: UserWarning: The usage of `scatter(reduce='max')` can be accelerated via the 'torch-scatter' package, but it was not found\n",
      "  warnings.warn(message)\n"
     ]
    },
    {
     "name": "stdout",
     "output_type": "stream",
     "text": [
      "Epoch: 231 (112.1569s), train_loss: 0.1971, val_loss: 0.2726, train_acc: 0.9269, val_acc:0.8976\n",
      "\t\ttrain_roc: 0.9729, val_roc: 0.9578, train_auprc: 0.9653, val_auprc: 0.9504\n"
     ]
    },
    {
     "name": "stderr",
     "output_type": "stream",
     "text": [
      "/home/namle/.local/lib/python3.10/site-packages/torch_geometric/warnings.py:11: UserWarning: The usage of `scatter(reduce='max')` can be accelerated via the 'torch-scatter' package, but it was not found\n",
      "  warnings.warn(message)\n"
     ]
    },
    {
     "name": "stdout",
     "output_type": "stream",
     "text": [
      "Epoch: 232 (112.5054s), train_loss: 0.1970, val_loss: 0.2689, train_acc: 0.9277, val_acc:0.8993\n",
      "\t\ttrain_roc: 0.9728, val_roc: 0.9591, train_auprc: 0.9649, val_auprc: 0.9529\n"
     ]
    },
    {
     "name": "stderr",
     "output_type": "stream",
     "text": [
      "/home/namle/.local/lib/python3.10/site-packages/torch_geometric/warnings.py:11: UserWarning: The usage of `scatter(reduce='max')` can be accelerated via the 'torch-scatter' package, but it was not found\n",
      "  warnings.warn(message)\n"
     ]
    },
    {
     "name": "stdout",
     "output_type": "stream",
     "text": [
      "Epoch: 233 (112.0562s), train_loss: 0.1969, val_loss: 0.2689, train_acc: 0.9272, val_acc:0.8993\n",
      "\t\ttrain_roc: 0.9729, val_roc: 0.9593, train_auprc: 0.9654, val_auprc: 0.9529\n"
     ]
    },
    {
     "name": "stderr",
     "output_type": "stream",
     "text": [
      "/home/namle/.local/lib/python3.10/site-packages/torch_geometric/warnings.py:11: UserWarning: The usage of `scatter(reduce='max')` can be accelerated via the 'torch-scatter' package, but it was not found\n",
      "  warnings.warn(message)\n"
     ]
    },
    {
     "name": "stdout",
     "output_type": "stream",
     "text": [
      "Epoch: 234 (112.5886s), train_loss: 0.1966, val_loss: 0.2711, train_acc: 0.9272, val_acc:0.8978\n",
      "\t\ttrain_roc: 0.9730, val_roc: 0.9585, train_auprc: 0.9657, val_auprc: 0.9520\n"
     ]
    },
    {
     "name": "stderr",
     "output_type": "stream",
     "text": [
      "/home/namle/.local/lib/python3.10/site-packages/torch_geometric/warnings.py:11: UserWarning: The usage of `scatter(reduce='max')` can be accelerated via the 'torch-scatter' package, but it was not found\n",
      "  warnings.warn(message)\n"
     ]
    },
    {
     "name": "stdout",
     "output_type": "stream",
     "text": [
      "Epoch: 235 (111.4801s), train_loss: 0.1958, val_loss: 0.2690, train_acc: 0.9272, val_acc:0.8987\n",
      "\t\ttrain_roc: 0.9733, val_roc: 0.9591, train_auprc: 0.9665, val_auprc: 0.9526\n"
     ]
    },
    {
     "name": "stderr",
     "output_type": "stream",
     "text": [
      "/home/namle/.local/lib/python3.10/site-packages/torch_geometric/warnings.py:11: UserWarning: The usage of `scatter(reduce='max')` can be accelerated via the 'torch-scatter' package, but it was not found\n",
      "  warnings.warn(message)\n"
     ]
    },
    {
     "name": "stdout",
     "output_type": "stream",
     "text": [
      "Epoch: 236 (113.2583s), train_loss: 0.1962, val_loss: 0.2717, train_acc: 0.9273, val_acc:0.8982\n",
      "\t\ttrain_roc: 0.9733, val_roc: 0.9581, train_auprc: 0.9661, val_auprc: 0.9514\n"
     ]
    },
    {
     "name": "stderr",
     "output_type": "stream",
     "text": [
      "/home/namle/.local/lib/python3.10/site-packages/torch_geometric/warnings.py:11: UserWarning: The usage of `scatter(reduce='max')` can be accelerated via the 'torch-scatter' package, but it was not found\n",
      "  warnings.warn(message)\n"
     ]
    },
    {
     "name": "stdout",
     "output_type": "stream",
     "text": [
      "Epoch: 237 (111.4840s), train_loss: 0.1965, val_loss: 0.2671, train_acc: 0.9270, val_acc:0.8994\n",
      "\t\ttrain_roc: 0.9731, val_roc: 0.9598, train_auprc: 0.9660, val_auprc: 0.9538\n"
     ]
    },
    {
     "name": "stderr",
     "output_type": "stream",
     "text": [
      "/home/namle/.local/lib/python3.10/site-packages/torch_geometric/warnings.py:11: UserWarning: The usage of `scatter(reduce='max')` can be accelerated via the 'torch-scatter' package, but it was not found\n",
      "  warnings.warn(message)\n"
     ]
    },
    {
     "name": "stdout",
     "output_type": "stream",
     "text": [
      "Epoch: 238 (111.1725s), train_loss: 0.1952, val_loss: 0.2691, train_acc: 0.9280, val_acc:0.8993\n",
      "\t\ttrain_roc: 0.9735, val_roc: 0.9589, train_auprc: 0.9663, val_auprc: 0.9526\n"
     ]
    },
    {
     "name": "stderr",
     "output_type": "stream",
     "text": [
      "/home/namle/.local/lib/python3.10/site-packages/torch_geometric/warnings.py:11: UserWarning: The usage of `scatter(reduce='max')` can be accelerated via the 'torch-scatter' package, but it was not found\n",
      "  warnings.warn(message)\n"
     ]
    },
    {
     "name": "stdout",
     "output_type": "stream",
     "text": [
      "Epoch: 239 (111.2422s), train_loss: 0.1970, val_loss: 0.2697, train_acc: 0.9271, val_acc:0.8995\n",
      "\t\ttrain_roc: 0.9729, val_roc: 0.9588, train_auprc: 0.9655, val_auprc: 0.9523\n"
     ]
    },
    {
     "name": "stderr",
     "output_type": "stream",
     "text": [
      "/home/namle/.local/lib/python3.10/site-packages/torch_geometric/warnings.py:11: UserWarning: The usage of `scatter(reduce='max')` can be accelerated via the 'torch-scatter' package, but it was not found\n",
      "  warnings.warn(message)\n"
     ]
    },
    {
     "name": "stdout",
     "output_type": "stream",
     "text": [
      "Epoch: 240 (112.4459s), train_loss: 0.1961, val_loss: 0.2714, train_acc: 0.9272, val_acc:0.8975\n",
      "\t\ttrain_roc: 0.9732, val_roc: 0.9583, train_auprc: 0.9659, val_auprc: 0.9520\n"
     ]
    },
    {
     "name": "stderr",
     "output_type": "stream",
     "text": [
      "/home/namle/.local/lib/python3.10/site-packages/torch_geometric/warnings.py:11: UserWarning: The usage of `scatter(reduce='max')` can be accelerated via the 'torch-scatter' package, but it was not found\n",
      "  warnings.warn(message)\n"
     ]
    },
    {
     "name": "stdout",
     "output_type": "stream",
     "text": [
      "Epoch: 241 (111.1730s), train_loss: 0.1957, val_loss: 0.2686, train_acc: 0.9278, val_acc:0.8993\n",
      "\t\ttrain_roc: 0.9732, val_roc: 0.9593, train_auprc: 0.9658, val_auprc: 0.9528\n"
     ]
    },
    {
     "name": "stderr",
     "output_type": "stream",
     "text": [
      "/home/namle/.local/lib/python3.10/site-packages/torch_geometric/warnings.py:11: UserWarning: The usage of `scatter(reduce='max')` can be accelerated via the 'torch-scatter' package, but it was not found\n",
      "  warnings.warn(message)\n"
     ]
    },
    {
     "name": "stdout",
     "output_type": "stream",
     "text": [
      "Epoch: 242 (111.1665s), train_loss: 0.1965, val_loss: 0.2694, train_acc: 0.9273, val_acc:0.8993\n",
      "\t\ttrain_roc: 0.9730, val_roc: 0.9590, train_auprc: 0.9656, val_auprc: 0.9524\n"
     ]
    },
    {
     "name": "stderr",
     "output_type": "stream",
     "text": [
      "/home/namle/.local/lib/python3.10/site-packages/torch_geometric/warnings.py:11: UserWarning: The usage of `scatter(reduce='max')` can be accelerated via the 'torch-scatter' package, but it was not found\n",
      "  warnings.warn(message)\n"
     ]
    },
    {
     "name": "stdout",
     "output_type": "stream",
     "text": [
      "Epoch: 243 (110.6848s), train_loss: 0.1972, val_loss: 0.2698, train_acc: 0.9268, val_acc:0.8991\n",
      "\t\ttrain_roc: 0.9728, val_roc: 0.9588, train_auprc: 0.9654, val_auprc: 0.9522\n"
     ]
    },
    {
     "name": "stderr",
     "output_type": "stream",
     "text": [
      "/home/namle/.local/lib/python3.10/site-packages/torch_geometric/warnings.py:11: UserWarning: The usage of `scatter(reduce='max')` can be accelerated via the 'torch-scatter' package, but it was not found\n",
      "  warnings.warn(message)\n"
     ]
    },
    {
     "name": "stdout",
     "output_type": "stream",
     "text": [
      "Epoch: 244 (112.4964s), train_loss: 0.1963, val_loss: 0.2717, train_acc: 0.9270, val_acc:0.8989\n",
      "\t\ttrain_roc: 0.9731, val_roc: 0.9581, train_auprc: 0.9658, val_auprc: 0.9506\n"
     ]
    },
    {
     "name": "stderr",
     "output_type": "stream",
     "text": [
      "/home/namle/.local/lib/python3.10/site-packages/torch_geometric/warnings.py:11: UserWarning: The usage of `scatter(reduce='max')` can be accelerated via the 'torch-scatter' package, but it was not found\n",
      "  warnings.warn(message)\n"
     ]
    },
    {
     "name": "stdout",
     "output_type": "stream",
     "text": [
      "Epoch: 245 (111.1644s), train_loss: 0.1957, val_loss: 0.2687, train_acc: 0.9274, val_acc:0.9000\n",
      "\t\ttrain_roc: 0.9734, val_roc: 0.9591, train_auprc: 0.9665, val_auprc: 0.9530\n"
     ]
    },
    {
     "name": "stderr",
     "output_type": "stream",
     "text": [
      "/home/namle/.local/lib/python3.10/site-packages/torch_geometric/warnings.py:11: UserWarning: The usage of `scatter(reduce='max')` can be accelerated via the 'torch-scatter' package, but it was not found\n",
      "  warnings.warn(message)\n"
     ]
    },
    {
     "name": "stdout",
     "output_type": "stream",
     "text": [
      "Epoch: 246 (111.7278s), train_loss: 0.1960, val_loss: 0.2684, train_acc: 0.9270, val_acc:0.8995\n",
      "\t\ttrain_roc: 0.9732, val_roc: 0.9594, train_auprc: 0.9661, val_auprc: 0.9532\n"
     ]
    },
    {
     "name": "stderr",
     "output_type": "stream",
     "text": [
      "/home/namle/.local/lib/python3.10/site-packages/torch_geometric/warnings.py:11: UserWarning: The usage of `scatter(reduce='max')` can be accelerated via the 'torch-scatter' package, but it was not found\n",
      "  warnings.warn(message)\n"
     ]
    },
    {
     "name": "stdout",
     "output_type": "stream",
     "text": [
      "Epoch: 247 (111.0138s), train_loss: 0.1974, val_loss: 0.2690, train_acc: 0.9264, val_acc:0.8988\n",
      "\t\ttrain_roc: 0.9729, val_roc: 0.9593, train_auprc: 0.9656, val_auprc: 0.9530\n"
     ]
    },
    {
     "name": "stderr",
     "output_type": "stream",
     "text": [
      "/home/namle/.local/lib/python3.10/site-packages/torch_geometric/warnings.py:11: UserWarning: The usage of `scatter(reduce='max')` can be accelerated via the 'torch-scatter' package, but it was not found\n",
      "  warnings.warn(message)\n"
     ]
    },
    {
     "name": "stdout",
     "output_type": "stream",
     "text": [
      "Epoch: 248 (111.2831s), train_loss: 0.1967, val_loss: 0.2682, train_acc: 0.9271, val_acc:0.8992\n",
      "\t\ttrain_roc: 0.9731, val_roc: 0.9595, train_auprc: 0.9658, val_auprc: 0.9533\n"
     ]
    },
    {
     "name": "stderr",
     "output_type": "stream",
     "text": [
      "/home/namle/.local/lib/python3.10/site-packages/torch_geometric/warnings.py:11: UserWarning: The usage of `scatter(reduce='max')` can be accelerated via the 'torch-scatter' package, but it was not found\n",
      "  warnings.warn(message)\n"
     ]
    },
    {
     "name": "stdout",
     "output_type": "stream",
     "text": [
      "Epoch: 249 (111.3916s), train_loss: 0.1949, val_loss: 0.2699, train_acc: 0.9277, val_acc:0.8994\n",
      "\t\ttrain_roc: 0.9736, val_roc: 0.9587, train_auprc: 0.9666, val_auprc: 0.9515\n"
     ]
    },
    {
     "name": "stderr",
     "output_type": "stream",
     "text": [
      "/home/namle/.local/lib/python3.10/site-packages/torch_geometric/warnings.py:11: UserWarning: The usage of `scatter(reduce='max')` can be accelerated via the 'torch-scatter' package, but it was not found\n",
      "  warnings.warn(message)\n"
     ]
    },
    {
     "name": "stdout",
     "output_type": "stream",
     "text": [
      "Epoch: 250 (112.5279s), train_loss: 0.1970, val_loss: 0.2698, train_acc: 0.9271, val_acc:0.8996\n",
      "\t\ttrain_roc: 0.9729, val_roc: 0.9588, train_auprc: 0.9656, val_auprc: 0.9518\n"
     ]
    },
    {
     "name": "stderr",
     "output_type": "stream",
     "text": [
      "/home/namle/.local/lib/python3.10/site-packages/torch_geometric/warnings.py:11: UserWarning: The usage of `scatter(reduce='max')` can be accelerated via the 'torch-scatter' package, but it was not found\n",
      "  warnings.warn(message)\n"
     ]
    },
    {
     "name": "stdout",
     "output_type": "stream",
     "text": [
      "Epoch: 251 (110.6979s), train_loss: 0.1950, val_loss: 0.2704, train_acc: 0.9277, val_acc:0.8984\n",
      "\t\ttrain_roc: 0.9735, val_roc: 0.9585, train_auprc: 0.9665, val_auprc: 0.9517\n"
     ]
    },
    {
     "name": "stderr",
     "output_type": "stream",
     "text": [
      "/home/namle/.local/lib/python3.10/site-packages/torch_geometric/warnings.py:11: UserWarning: The usage of `scatter(reduce='max')` can be accelerated via the 'torch-scatter' package, but it was not found\n",
      "  warnings.warn(message)\n"
     ]
    },
    {
     "name": "stdout",
     "output_type": "stream",
     "text": [
      "Epoch: 252 (112.4966s), train_loss: 0.1946, val_loss: 0.2707, train_acc: 0.9280, val_acc:0.8987\n",
      "\t\ttrain_roc: 0.9738, val_roc: 0.9584, train_auprc: 0.9667, val_auprc: 0.9517\n"
     ]
    },
    {
     "name": "stderr",
     "output_type": "stream",
     "text": [
      "/home/namle/.local/lib/python3.10/site-packages/torch_geometric/warnings.py:11: UserWarning: The usage of `scatter(reduce='max')` can be accelerated via the 'torch-scatter' package, but it was not found\n",
      "  warnings.warn(message)\n"
     ]
    },
    {
     "name": "stdout",
     "output_type": "stream",
     "text": [
      "Epoch: 253 (112.3810s), train_loss: 0.1959, val_loss: 0.2720, train_acc: 0.9276, val_acc:0.8984\n",
      "\t\ttrain_roc: 0.9732, val_roc: 0.9580, train_auprc: 0.9656, val_auprc: 0.9510\n"
     ]
    },
    {
     "name": "stderr",
     "output_type": "stream",
     "text": [
      "/home/namle/.local/lib/python3.10/site-packages/torch_geometric/warnings.py:11: UserWarning: The usage of `scatter(reduce='max')` can be accelerated via the 'torch-scatter' package, but it was not found\n",
      "  warnings.warn(message)\n"
     ]
    },
    {
     "name": "stdout",
     "output_type": "stream",
     "text": [
      "Epoch: 254 (111.1220s), train_loss: 0.1959, val_loss: 0.2698, train_acc: 0.9276, val_acc:0.8986\n",
      "\t\ttrain_roc: 0.9732, val_roc: 0.9587, train_auprc: 0.9657, val_auprc: 0.9524\n"
     ]
    },
    {
     "name": "stderr",
     "output_type": "stream",
     "text": [
      "/home/namle/.local/lib/python3.10/site-packages/torch_geometric/warnings.py:11: UserWarning: The usage of `scatter(reduce='max')` can be accelerated via the 'torch-scatter' package, but it was not found\n",
      "  warnings.warn(message)\n"
     ]
    },
    {
     "name": "stdout",
     "output_type": "stream",
     "text": [
      "Epoch: 255 (111.3201s), train_loss: 0.1963, val_loss: 0.2694, train_acc: 0.9270, val_acc:0.8993\n",
      "\t\ttrain_roc: 0.9732, val_roc: 0.9589, train_auprc: 0.9660, val_auprc: 0.9524\n"
     ]
    },
    {
     "name": "stderr",
     "output_type": "stream",
     "text": [
      "/home/namle/.local/lib/python3.10/site-packages/torch_geometric/warnings.py:11: UserWarning: The usage of `scatter(reduce='max')` can be accelerated via the 'torch-scatter' package, but it was not found\n",
      "  warnings.warn(message)\n"
     ]
    },
    {
     "name": "stdout",
     "output_type": "stream",
     "text": [
      "Epoch: 256 (111.1969s), train_loss: 0.1976, val_loss: 0.2700, train_acc: 0.9270, val_acc:0.8983\n",
      "\t\ttrain_roc: 0.9727, val_roc: 0.9587, train_auprc: 0.9649, val_auprc: 0.9521\n"
     ]
    },
    {
     "name": "stderr",
     "output_type": "stream",
     "text": [
      "/home/namle/.local/lib/python3.10/site-packages/torch_geometric/warnings.py:11: UserWarning: The usage of `scatter(reduce='max')` can be accelerated via the 'torch-scatter' package, but it was not found\n",
      "  warnings.warn(message)\n"
     ]
    },
    {
     "name": "stdout",
     "output_type": "stream",
     "text": [
      "Epoch: 257 (113.0012s), train_loss: 0.1955, val_loss: 0.2712, train_acc: 0.9278, val_acc:0.8980\n",
      "\t\ttrain_roc: 0.9735, val_roc: 0.9583, train_auprc: 0.9663, val_auprc: 0.9517\n"
     ]
    },
    {
     "name": "stderr",
     "output_type": "stream",
     "text": [
      "/home/namle/.local/lib/python3.10/site-packages/torch_geometric/warnings.py:11: UserWarning: The usage of `scatter(reduce='max')` can be accelerated via the 'torch-scatter' package, but it was not found\n",
      "  warnings.warn(message)\n"
     ]
    },
    {
     "name": "stdout",
     "output_type": "stream",
     "text": [
      "Saving model prc\n",
      "Saving model acc\n",
      "Saving model roc\n",
      "Epoch: 258 (110.8558s), train_loss: 0.1968, val_loss: 0.2655, train_acc: 0.9268, val_acc:0.9011\n",
      "\t\ttrain_roc: 0.9730, val_roc: 0.9605, train_auprc: 0.9654, val_auprc: 0.9546\n"
     ]
    },
    {
     "name": "stderr",
     "output_type": "stream",
     "text": [
      "/home/namle/.local/lib/python3.10/site-packages/torch_geometric/warnings.py:11: UserWarning: The usage of `scatter(reduce='max')` can be accelerated via the 'torch-scatter' package, but it was not found\n",
      "  warnings.warn(message)\n"
     ]
    },
    {
     "name": "stdout",
     "output_type": "stream",
     "text": [
      "Epoch: 259 (112.0729s), train_loss: 0.1959, val_loss: 0.2684, train_acc: 0.9272, val_acc:0.8992\n",
      "\t\ttrain_roc: 0.9734, val_roc: 0.9593, train_auprc: 0.9662, val_auprc: 0.9529\n"
     ]
    },
    {
     "name": "stderr",
     "output_type": "stream",
     "text": [
      "/home/namle/.local/lib/python3.10/site-packages/torch_geometric/warnings.py:11: UserWarning: The usage of `scatter(reduce='max')` can be accelerated via the 'torch-scatter' package, but it was not found\n",
      "  warnings.warn(message)\n"
     ]
    },
    {
     "name": "stdout",
     "output_type": "stream",
     "text": [
      "Epoch: 260 (111.7630s), train_loss: 0.1979, val_loss: 0.2688, train_acc: 0.9262, val_acc:0.8994\n",
      "\t\ttrain_roc: 0.9726, val_roc: 0.9592, train_auprc: 0.9651, val_auprc: 0.9527\n"
     ]
    },
    {
     "name": "stderr",
     "output_type": "stream",
     "text": [
      "/home/namle/.local/lib/python3.10/site-packages/torch_geometric/warnings.py:11: UserWarning: The usage of `scatter(reduce='max')` can be accelerated via the 'torch-scatter' package, but it was not found\n",
      "  warnings.warn(message)\n"
     ]
    },
    {
     "name": "stdout",
     "output_type": "stream",
     "text": [
      "Epoch: 261 (111.4926s), train_loss: 0.1963, val_loss: 0.2698, train_acc: 0.9274, val_acc:0.8984\n",
      "\t\ttrain_roc: 0.9731, val_roc: 0.9587, train_auprc: 0.9656, val_auprc: 0.9523\n"
     ]
    },
    {
     "name": "stderr",
     "output_type": "stream",
     "text": [
      "/home/namle/.local/lib/python3.10/site-packages/torch_geometric/warnings.py:11: UserWarning: The usage of `scatter(reduce='max')` can be accelerated via the 'torch-scatter' package, but it was not found\n",
      "  warnings.warn(message)\n"
     ]
    },
    {
     "name": "stdout",
     "output_type": "stream",
     "text": [
      "Epoch: 262 (111.1827s), train_loss: 0.1945, val_loss: 0.2713, train_acc: 0.9282, val_acc:0.8987\n",
      "\t\ttrain_roc: 0.9737, val_roc: 0.9583, train_auprc: 0.9666, val_auprc: 0.9515\n"
     ]
    },
    {
     "name": "stderr",
     "output_type": "stream",
     "text": [
      "/home/namle/.local/lib/python3.10/site-packages/torch_geometric/warnings.py:11: UserWarning: The usage of `scatter(reduce='max')` can be accelerated via the 'torch-scatter' package, but it was not found\n",
      "  warnings.warn(message)\n"
     ]
    },
    {
     "name": "stdout",
     "output_type": "stream",
     "text": [
      "Epoch: 263 (111.8899s), train_loss: 0.1963, val_loss: 0.2692, train_acc: 0.9273, val_acc:0.8984\n",
      "\t\ttrain_roc: 0.9732, val_roc: 0.9589, train_auprc: 0.9660, val_auprc: 0.9526\n"
     ]
    },
    {
     "name": "stderr",
     "output_type": "stream",
     "text": [
      "/home/namle/.local/lib/python3.10/site-packages/torch_geometric/warnings.py:11: UserWarning: The usage of `scatter(reduce='max')` can be accelerated via the 'torch-scatter' package, but it was not found\n",
      "  warnings.warn(message)\n"
     ]
    },
    {
     "name": "stdout",
     "output_type": "stream",
     "text": [
      "Epoch: 264 (109.8208s), train_loss: 0.1977, val_loss: 0.2717, train_acc: 0.9269, val_acc:0.8982\n",
      "\t\ttrain_roc: 0.9727, val_roc: 0.9584, train_auprc: 0.9650, val_auprc: 0.9512\n"
     ]
    },
    {
     "name": "stderr",
     "output_type": "stream",
     "text": [
      "/home/namle/.local/lib/python3.10/site-packages/torch_geometric/warnings.py:11: UserWarning: The usage of `scatter(reduce='max')` can be accelerated via the 'torch-scatter' package, but it was not found\n",
      "  warnings.warn(message)\n"
     ]
    },
    {
     "name": "stdout",
     "output_type": "stream",
     "text": [
      "Epoch: 265 (111.6152s), train_loss: 0.1956, val_loss: 0.2686, train_acc: 0.9274, val_acc:0.8996\n",
      "\t\ttrain_roc: 0.9734, val_roc: 0.9592, train_auprc: 0.9661, val_auprc: 0.9528\n"
     ]
    },
    {
     "name": "stderr",
     "output_type": "stream",
     "text": [
      "/home/namle/.local/lib/python3.10/site-packages/torch_geometric/warnings.py:11: UserWarning: The usage of `scatter(reduce='max')` can be accelerated via the 'torch-scatter' package, but it was not found\n",
      "  warnings.warn(message)\n"
     ]
    },
    {
     "name": "stdout",
     "output_type": "stream",
     "text": [
      "Epoch: 266 (111.7416s), train_loss: 0.1966, val_loss: 0.2704, train_acc: 0.9272, val_acc:0.8990\n",
      "\t\ttrain_roc: 0.9732, val_roc: 0.9587, train_auprc: 0.9657, val_auprc: 0.9515\n"
     ]
    },
    {
     "name": "stderr",
     "output_type": "stream",
     "text": [
      "/home/namle/.local/lib/python3.10/site-packages/torch_geometric/warnings.py:11: UserWarning: The usage of `scatter(reduce='max')` can be accelerated via the 'torch-scatter' package, but it was not found\n",
      "  warnings.warn(message)\n"
     ]
    },
    {
     "name": "stdout",
     "output_type": "stream",
     "text": [
      "Epoch: 267 (110.7270s), train_loss: 0.1959, val_loss: 0.2689, train_acc: 0.9274, val_acc:0.8993\n",
      "\t\ttrain_roc: 0.9732, val_roc: 0.9591, train_auprc: 0.9659, val_auprc: 0.9527\n"
     ]
    },
    {
     "name": "stderr",
     "output_type": "stream",
     "text": [
      "/home/namle/.local/lib/python3.10/site-packages/torch_geometric/warnings.py:11: UserWarning: The usage of `scatter(reduce='max')` can be accelerated via the 'torch-scatter' package, but it was not found\n",
      "  warnings.warn(message)\n"
     ]
    },
    {
     "name": "stdout",
     "output_type": "stream",
     "text": [
      "Epoch: 268 (111.3132s), train_loss: 0.1953, val_loss: 0.2701, train_acc: 0.9277, val_acc:0.8984\n",
      "\t\ttrain_roc: 0.9734, val_roc: 0.9586, train_auprc: 0.9664, val_auprc: 0.9523\n"
     ]
    },
    {
     "name": "stderr",
     "output_type": "stream",
     "text": [
      "/home/namle/.local/lib/python3.10/site-packages/torch_geometric/warnings.py:11: UserWarning: The usage of `scatter(reduce='max')` can be accelerated via the 'torch-scatter' package, but it was not found\n",
      "  warnings.warn(message)\n"
     ]
    },
    {
     "name": "stdout",
     "output_type": "stream",
     "text": [
      "Epoch: 269 (111.9660s), train_loss: 0.1963, val_loss: 0.2706, train_acc: 0.9275, val_acc:0.8984\n",
      "\t\ttrain_roc: 0.9731, val_roc: 0.9585, train_auprc: 0.9656, val_auprc: 0.9519\n"
     ]
    },
    {
     "name": "stderr",
     "output_type": "stream",
     "text": [
      "/home/namle/.local/lib/python3.10/site-packages/torch_geometric/warnings.py:11: UserWarning: The usage of `scatter(reduce='max')` can be accelerated via the 'torch-scatter' package, but it was not found\n",
      "  warnings.warn(message)\n"
     ]
    },
    {
     "name": "stdout",
     "output_type": "stream",
     "text": [
      "Epoch: 270 (112.2794s), train_loss: 0.1983, val_loss: 0.2674, train_acc: 0.9259, val_acc:0.9004\n",
      "\t\ttrain_roc: 0.9726, val_roc: 0.9598, train_auprc: 0.9653, val_auprc: 0.9531\n"
     ]
    },
    {
     "name": "stderr",
     "output_type": "stream",
     "text": [
      "/home/namle/.local/lib/python3.10/site-packages/torch_geometric/warnings.py:11: UserWarning: The usage of `scatter(reduce='max')` can be accelerated via the 'torch-scatter' package, but it was not found\n",
      "  warnings.warn(message)\n"
     ]
    },
    {
     "name": "stdout",
     "output_type": "stream",
     "text": [
      "Epoch: 271 (111.6979s), train_loss: 0.1954, val_loss: 0.2717, train_acc: 0.9277, val_acc:0.8978\n",
      "\t\ttrain_roc: 0.9733, val_roc: 0.9580, train_auprc: 0.9658, val_auprc: 0.9511\n"
     ]
    },
    {
     "name": "stderr",
     "output_type": "stream",
     "text": [
      "/home/namle/.local/lib/python3.10/site-packages/torch_geometric/warnings.py:11: UserWarning: The usage of `scatter(reduce='max')` can be accelerated via the 'torch-scatter' package, but it was not found\n",
      "  warnings.warn(message)\n"
     ]
    },
    {
     "name": "stdout",
     "output_type": "stream",
     "text": [
      "Epoch: 272 (110.3506s), train_loss: 0.1969, val_loss: 0.2692, train_acc: 0.9267, val_acc:0.8987\n",
      "\t\ttrain_roc: 0.9730, val_roc: 0.9590, train_auprc: 0.9655, val_auprc: 0.9528\n"
     ]
    },
    {
     "name": "stderr",
     "output_type": "stream",
     "text": [
      "/home/namle/.local/lib/python3.10/site-packages/torch_geometric/warnings.py:11: UserWarning: The usage of `scatter(reduce='max')` can be accelerated via the 'torch-scatter' package, but it was not found\n",
      "  warnings.warn(message)\n"
     ]
    },
    {
     "name": "stdout",
     "output_type": "stream",
     "text": [
      "Epoch: 273 (112.4568s), train_loss: 0.1954, val_loss: 0.2694, train_acc: 0.9273, val_acc:0.8987\n",
      "\t\ttrain_roc: 0.9734, val_roc: 0.9589, train_auprc: 0.9662, val_auprc: 0.9523\n"
     ]
    },
    {
     "name": "stderr",
     "output_type": "stream",
     "text": [
      "/home/namle/.local/lib/python3.10/site-packages/torch_geometric/warnings.py:11: UserWarning: The usage of `scatter(reduce='max')` can be accelerated via the 'torch-scatter' package, but it was not found\n",
      "  warnings.warn(message)\n"
     ]
    },
    {
     "name": "stdout",
     "output_type": "stream",
     "text": [
      "Epoch: 274 (111.8513s), train_loss: 0.1954, val_loss: 0.2714, train_acc: 0.9280, val_acc:0.8985\n",
      "\t\ttrain_roc: 0.9733, val_roc: 0.9582, train_auprc: 0.9658, val_auprc: 0.9511\n"
     ]
    },
    {
     "name": "stderr",
     "output_type": "stream",
     "text": [
      "/home/namle/.local/lib/python3.10/site-packages/torch_geometric/warnings.py:11: UserWarning: The usage of `scatter(reduce='max')` can be accelerated via the 'torch-scatter' package, but it was not found\n",
      "  warnings.warn(message)\n"
     ]
    },
    {
     "name": "stdout",
     "output_type": "stream",
     "text": [
      "Epoch: 275 (112.0932s), train_loss: 0.1953, val_loss: 0.2690, train_acc: 0.9275, val_acc:0.8986\n",
      "\t\ttrain_roc: 0.9734, val_roc: 0.9592, train_auprc: 0.9662, val_auprc: 0.9528\n"
     ]
    },
    {
     "name": "stderr",
     "output_type": "stream",
     "text": [
      "/home/namle/.local/lib/python3.10/site-packages/torch_geometric/warnings.py:11: UserWarning: The usage of `scatter(reduce='max')` can be accelerated via the 'torch-scatter' package, but it was not found\n",
      "  warnings.warn(message)\n"
     ]
    },
    {
     "name": "stdout",
     "output_type": "stream",
     "text": [
      "Epoch: 276 (111.1355s), train_loss: 0.1959, val_loss: 0.2719, train_acc: 0.9274, val_acc:0.8978\n",
      "\t\ttrain_roc: 0.9733, val_roc: 0.9580, train_auprc: 0.9661, val_auprc: 0.9512\n"
     ]
    },
    {
     "name": "stderr",
     "output_type": "stream",
     "text": [
      "/home/namle/.local/lib/python3.10/site-packages/torch_geometric/warnings.py:11: UserWarning: The usage of `scatter(reduce='max')` can be accelerated via the 'torch-scatter' package, but it was not found\n",
      "  warnings.warn(message)\n"
     ]
    },
    {
     "name": "stdout",
     "output_type": "stream",
     "text": [
      "Epoch: 277 (111.3266s), train_loss: 0.1969, val_loss: 0.2670, train_acc: 0.9265, val_acc:0.9004\n",
      "\t\ttrain_roc: 0.9731, val_roc: 0.9599, train_auprc: 0.9659, val_auprc: 0.9537\n"
     ]
    },
    {
     "name": "stderr",
     "output_type": "stream",
     "text": [
      "/home/namle/.local/lib/python3.10/site-packages/torch_geometric/warnings.py:11: UserWarning: The usage of `scatter(reduce='max')` can be accelerated via the 'torch-scatter' package, but it was not found\n",
      "  warnings.warn(message)\n"
     ]
    },
    {
     "name": "stdout",
     "output_type": "stream",
     "text": [
      "Epoch: 278 (111.9435s), train_loss: 0.1966, val_loss: 0.2698, train_acc: 0.9274, val_acc:0.8990\n",
      "\t\ttrain_roc: 0.9730, val_roc: 0.9587, train_auprc: 0.9657, val_auprc: 0.9520\n"
     ]
    },
    {
     "name": "stderr",
     "output_type": "stream",
     "text": [
      "/home/namle/.local/lib/python3.10/site-packages/torch_geometric/warnings.py:11: UserWarning: The usage of `scatter(reduce='max')` can be accelerated via the 'torch-scatter' package, but it was not found\n",
      "  warnings.warn(message)\n"
     ]
    },
    {
     "name": "stdout",
     "output_type": "stream",
     "text": [
      "Epoch: 279 (111.3914s), train_loss: 0.1954, val_loss: 0.2712, train_acc: 0.9276, val_acc:0.8986\n",
      "\t\ttrain_roc: 0.9734, val_roc: 0.9584, train_auprc: 0.9662, val_auprc: 0.9514\n"
     ]
    },
    {
     "name": "stderr",
     "output_type": "stream",
     "text": [
      "/home/namle/.local/lib/python3.10/site-packages/torch_geometric/warnings.py:11: UserWarning: The usage of `scatter(reduce='max')` can be accelerated via the 'torch-scatter' package, but it was not found\n",
      "  warnings.warn(message)\n"
     ]
    },
    {
     "name": "stdout",
     "output_type": "stream",
     "text": [
      "Epoch: 280 (110.8697s), train_loss: 0.1961, val_loss: 0.2692, train_acc: 0.9271, val_acc:0.8986\n",
      "\t\ttrain_roc: 0.9733, val_roc: 0.9590, train_auprc: 0.9662, val_auprc: 0.9527\n"
     ]
    },
    {
     "name": "stderr",
     "output_type": "stream",
     "text": [
      "/home/namle/.local/lib/python3.10/site-packages/torch_geometric/warnings.py:11: UserWarning: The usage of `scatter(reduce='max')` can be accelerated via the 'torch-scatter' package, but it was not found\n",
      "  warnings.warn(message)\n"
     ]
    },
    {
     "name": "stdout",
     "output_type": "stream",
     "text": [
      "Epoch: 281 (111.8894s), train_loss: 0.1964, val_loss: 0.2702, train_acc: 0.9270, val_acc:0.8984\n",
      "\t\ttrain_roc: 0.9732, val_roc: 0.9586, train_auprc: 0.9658, val_auprc: 0.9520\n"
     ]
    },
    {
     "name": "stderr",
     "output_type": "stream",
     "text": [
      "/home/namle/.local/lib/python3.10/site-packages/torch_geometric/warnings.py:11: UserWarning: The usage of `scatter(reduce='max')` can be accelerated via the 'torch-scatter' package, but it was not found\n",
      "  warnings.warn(message)\n"
     ]
    },
    {
     "name": "stdout",
     "output_type": "stream",
     "text": [
      "Epoch: 282 (111.0700s), train_loss: 0.1956, val_loss: 0.2698, train_acc: 0.9278, val_acc:0.8987\n",
      "\t\ttrain_roc: 0.9733, val_roc: 0.9589, train_auprc: 0.9659, val_auprc: 0.9521\n"
     ]
    },
    {
     "name": "stderr",
     "output_type": "stream",
     "text": [
      "/home/namle/.local/lib/python3.10/site-packages/torch_geometric/warnings.py:11: UserWarning: The usage of `scatter(reduce='max')` can be accelerated via the 'torch-scatter' package, but it was not found\n",
      "  warnings.warn(message)\n"
     ]
    },
    {
     "name": "stdout",
     "output_type": "stream",
     "text": [
      "Epoch: 283 (112.4287s), train_loss: 0.1951, val_loss: 0.2736, train_acc: 0.9279, val_acc:0.8977\n",
      "\t\ttrain_roc: 0.9734, val_roc: 0.9575, train_auprc: 0.9660, val_auprc: 0.9504\n"
     ]
    },
    {
     "name": "stderr",
     "output_type": "stream",
     "text": [
      "/home/namle/.local/lib/python3.10/site-packages/torch_geometric/warnings.py:11: UserWarning: The usage of `scatter(reduce='max')` can be accelerated via the 'torch-scatter' package, but it was not found\n",
      "  warnings.warn(message)\n"
     ]
    },
    {
     "name": "stdout",
     "output_type": "stream",
     "text": [
      "Epoch: 284 (111.8938s), train_loss: 0.1955, val_loss: 0.2706, train_acc: 0.9277, val_acc:0.8992\n",
      "\t\ttrain_roc: 0.9734, val_roc: 0.9584, train_auprc: 0.9663, val_auprc: 0.9516\n"
     ]
    },
    {
     "name": "stderr",
     "output_type": "stream",
     "text": [
      "/home/namle/.local/lib/python3.10/site-packages/torch_geometric/warnings.py:11: UserWarning: The usage of `scatter(reduce='max')` can be accelerated via the 'torch-scatter' package, but it was not found\n",
      "  warnings.warn(message)\n"
     ]
    },
    {
     "name": "stdout",
     "output_type": "stream",
     "text": [
      "Epoch: 285 (110.7761s), train_loss: 0.1952, val_loss: 0.2677, train_acc: 0.9281, val_acc:0.9008\n",
      "\t\ttrain_roc: 0.9734, val_roc: 0.9596, train_auprc: 0.9662, val_auprc: 0.9531\n"
     ]
    },
    {
     "name": "stderr",
     "output_type": "stream",
     "text": [
      "/home/namle/.local/lib/python3.10/site-packages/torch_geometric/warnings.py:11: UserWarning: The usage of `scatter(reduce='max')` can be accelerated via the 'torch-scatter' package, but it was not found\n",
      "  warnings.warn(message)\n"
     ]
    },
    {
     "name": "stdout",
     "output_type": "stream",
     "text": [
      "Epoch: 286 (110.4826s), train_loss: 0.1967, val_loss: 0.2695, train_acc: 0.9271, val_acc:0.8995\n",
      "\t\ttrain_roc: 0.9730, val_roc: 0.9589, train_auprc: 0.9658, val_auprc: 0.9524\n"
     ]
    },
    {
     "name": "stderr",
     "output_type": "stream",
     "text": [
      "/home/namle/.local/lib/python3.10/site-packages/torch_geometric/warnings.py:11: UserWarning: The usage of `scatter(reduce='max')` can be accelerated via the 'torch-scatter' package, but it was not found\n",
      "  warnings.warn(message)\n"
     ]
    },
    {
     "name": "stdout",
     "output_type": "stream",
     "text": [
      "Epoch: 287 (110.9738s), train_loss: 0.1948, val_loss: 0.2716, train_acc: 0.9282, val_acc:0.8979\n",
      "\t\ttrain_roc: 0.9735, val_roc: 0.9581, train_auprc: 0.9664, val_auprc: 0.9514\n"
     ]
    },
    {
     "name": "stderr",
     "output_type": "stream",
     "text": [
      "/home/namle/.local/lib/python3.10/site-packages/torch_geometric/warnings.py:11: UserWarning: The usage of `scatter(reduce='max')` can be accelerated via the 'torch-scatter' package, but it was not found\n",
      "  warnings.warn(message)\n"
     ]
    },
    {
     "name": "stdout",
     "output_type": "stream",
     "text": [
      "Epoch: 288 (111.3449s), train_loss: 0.1960, val_loss: 0.2716, train_acc: 0.9271, val_acc:0.8982\n",
      "\t\ttrain_roc: 0.9733, val_roc: 0.9582, train_auprc: 0.9662, val_auprc: 0.9513\n"
     ]
    },
    {
     "name": "stderr",
     "output_type": "stream",
     "text": [
      "/home/namle/.local/lib/python3.10/site-packages/torch_geometric/warnings.py:11: UserWarning: The usage of `scatter(reduce='max')` can be accelerated via the 'torch-scatter' package, but it was not found\n",
      "  warnings.warn(message)\n"
     ]
    },
    {
     "name": "stdout",
     "output_type": "stream",
     "text": [
      "Epoch: 289 (112.9665s), train_loss: 0.1947, val_loss: 0.2699, train_acc: 0.9280, val_acc:0.8992\n",
      "\t\ttrain_roc: 0.9737, val_roc: 0.9588, train_auprc: 0.9666, val_auprc: 0.9521\n"
     ]
    },
    {
     "name": "stderr",
     "output_type": "stream",
     "text": [
      "/home/namle/.local/lib/python3.10/site-packages/torch_geometric/warnings.py:11: UserWarning: The usage of `scatter(reduce='max')` can be accelerated via the 'torch-scatter' package, but it was not found\n",
      "  warnings.warn(message)\n"
     ]
    },
    {
     "name": "stdout",
     "output_type": "stream",
     "text": [
      "Epoch: 290 (111.5208s), train_loss: 0.1946, val_loss: 0.2704, train_acc: 0.9283, val_acc:0.8984\n",
      "\t\ttrain_roc: 0.9736, val_roc: 0.9586, train_auprc: 0.9665, val_auprc: 0.9515\n"
     ]
    },
    {
     "name": "stderr",
     "output_type": "stream",
     "text": [
      "/home/namle/.local/lib/python3.10/site-packages/torch_geometric/warnings.py:11: UserWarning: The usage of `scatter(reduce='max')` can be accelerated via the 'torch-scatter' package, but it was not found\n",
      "  warnings.warn(message)\n"
     ]
    },
    {
     "name": "stdout",
     "output_type": "stream",
     "text": [
      "Epoch: 291 (111.8795s), train_loss: 0.1965, val_loss: 0.2714, train_acc: 0.9274, val_acc:0.8977\n",
      "\t\ttrain_roc: 0.9731, val_roc: 0.9583, train_auprc: 0.9657, val_auprc: 0.9518\n"
     ]
    },
    {
     "name": "stderr",
     "output_type": "stream",
     "text": [
      "/home/namle/.local/lib/python3.10/site-packages/torch_geometric/warnings.py:11: UserWarning: The usage of `scatter(reduce='max')` can be accelerated via the 'torch-scatter' package, but it was not found\n",
      "  warnings.warn(message)\n"
     ]
    },
    {
     "name": "stdout",
     "output_type": "stream",
     "text": [
      "Epoch: 292 (111.2406s), train_loss: 0.1952, val_loss: 0.2718, train_acc: 0.9274, val_acc:0.8977\n",
      "\t\ttrain_roc: 0.9735, val_roc: 0.9580, train_auprc: 0.9666, val_auprc: 0.9515\n"
     ]
    },
    {
     "name": "stderr",
     "output_type": "stream",
     "text": [
      "/home/namle/.local/lib/python3.10/site-packages/torch_geometric/warnings.py:11: UserWarning: The usage of `scatter(reduce='max')` can be accelerated via the 'torch-scatter' package, but it was not found\n",
      "  warnings.warn(message)\n"
     ]
    },
    {
     "name": "stdout",
     "output_type": "stream",
     "text": [
      "Epoch: 293 (110.7149s), train_loss: 0.1958, val_loss: 0.2701, train_acc: 0.9276, val_acc:0.8987\n",
      "\t\ttrain_roc: 0.9732, val_roc: 0.9587, train_auprc: 0.9660, val_auprc: 0.9523\n"
     ]
    },
    {
     "name": "stderr",
     "output_type": "stream",
     "text": [
      "/home/namle/.local/lib/python3.10/site-packages/torch_geometric/warnings.py:11: UserWarning: The usage of `scatter(reduce='max')` can be accelerated via the 'torch-scatter' package, but it was not found\n",
      "  warnings.warn(message)\n"
     ]
    },
    {
     "name": "stdout",
     "output_type": "stream",
     "text": [
      "Epoch: 294 (110.7271s), train_loss: 0.1953, val_loss: 0.2687, train_acc: 0.9278, val_acc:0.8998\n",
      "\t\ttrain_roc: 0.9735, val_roc: 0.9592, train_auprc: 0.9662, val_auprc: 0.9524\n"
     ]
    },
    {
     "name": "stderr",
     "output_type": "stream",
     "text": [
      "/home/namle/.local/lib/python3.10/site-packages/torch_geometric/warnings.py:11: UserWarning: The usage of `scatter(reduce='max')` can be accelerated via the 'torch-scatter' package, but it was not found\n",
      "  warnings.warn(message)\n"
     ]
    },
    {
     "name": "stdout",
     "output_type": "stream",
     "text": [
      "Epoch: 295 (112.0490s), train_loss: 0.1960, val_loss: 0.2708, train_acc: 0.9270, val_acc:0.8986\n",
      "\t\ttrain_roc: 0.9734, val_roc: 0.9585, train_auprc: 0.9664, val_auprc: 0.9518\n"
     ]
    },
    {
     "name": "stderr",
     "output_type": "stream",
     "text": [
      "/home/namle/.local/lib/python3.10/site-packages/torch_geometric/warnings.py:11: UserWarning: The usage of `scatter(reduce='max')` can be accelerated via the 'torch-scatter' package, but it was not found\n",
      "  warnings.warn(message)\n"
     ]
    },
    {
     "name": "stdout",
     "output_type": "stream",
     "text": [
      "Epoch: 296 (110.3402s), train_loss: 0.1938, val_loss: 0.2693, train_acc: 0.9280, val_acc:0.8992\n",
      "\t\ttrain_roc: 0.9739, val_roc: 0.9590, train_auprc: 0.9669, val_auprc: 0.9523\n"
     ]
    },
    {
     "name": "stderr",
     "output_type": "stream",
     "text": [
      "/home/namle/.local/lib/python3.10/site-packages/torch_geometric/warnings.py:11: UserWarning: The usage of `scatter(reduce='max')` can be accelerated via the 'torch-scatter' package, but it was not found\n",
      "  warnings.warn(message)\n"
     ]
    },
    {
     "name": "stdout",
     "output_type": "stream",
     "text": [
      "Epoch: 297 (110.3298s), train_loss: 0.1965, val_loss: 0.2684, train_acc: 0.9271, val_acc:0.8990\n",
      "\t\ttrain_roc: 0.9729, val_roc: 0.9593, train_auprc: 0.9654, val_auprc: 0.9529\n"
     ]
    },
    {
     "name": "stderr",
     "output_type": "stream",
     "text": [
      "/home/namle/.local/lib/python3.10/site-packages/torch_geometric/warnings.py:11: UserWarning: The usage of `scatter(reduce='max')` can be accelerated via the 'torch-scatter' package, but it was not found\n",
      "  warnings.warn(message)\n"
     ]
    },
    {
     "name": "stdout",
     "output_type": "stream",
     "text": [
      "Epoch: 298 (111.3804s), train_loss: 0.1980, val_loss: 0.2724, train_acc: 0.9268, val_acc:0.8973\n",
      "\t\ttrain_roc: 0.9727, val_roc: 0.9579, train_auprc: 0.9651, val_auprc: 0.9510\n"
     ]
    },
    {
     "name": "stderr",
     "output_type": "stream",
     "text": [
      "/home/namle/.local/lib/python3.10/site-packages/torch_geometric/warnings.py:11: UserWarning: The usage of `scatter(reduce='max')` can be accelerated via the 'torch-scatter' package, but it was not found\n",
      "  warnings.warn(message)\n"
     ]
    },
    {
     "name": "stdout",
     "output_type": "stream",
     "text": [
      "Epoch: 299 (111.8457s), train_loss: 0.1952, val_loss: 0.2684, train_acc: 0.9283, val_acc:0.8994\n",
      "\t\ttrain_roc: 0.9734, val_roc: 0.9594, train_auprc: 0.9659, val_auprc: 0.9532\n"
     ]
    },
    {
     "name": "stderr",
     "output_type": "stream",
     "text": [
      "/home/namle/.local/lib/python3.10/site-packages/torch_geometric/warnings.py:11: UserWarning: The usage of `scatter(reduce='max')` can be accelerated via the 'torch-scatter' package, but it was not found\n",
      "  warnings.warn(message)\n"
     ]
    },
    {
     "name": "stdout",
     "output_type": "stream",
     "text": [
      "Epoch: 300 (110.1253s), train_loss: 0.1959, val_loss: 0.2714, train_acc: 0.9282, val_acc:0.8976\n",
      "\t\ttrain_roc: 0.9731, val_roc: 0.9583, train_auprc: 0.9656, val_auprc: 0.9517\n"
     ]
    }
   ],
   "source": [
    "if mode == \"train\":\n",
    "  # Train\n",
    "  train(\n",
    "      model,\n",
    "      train_data_loader,\n",
    "      val_data_loader,\n",
    "      loss,\n",
    "      optimizer,\n",
    "      n_epochs,\n",
    "      device,\n",
    "      scheduler,\n",
    "  )\n"
   ]
  },
  {
   "cell_type": "code",
   "execution_count": 21,
   "metadata": {
    "id": "f04DujiWugRa"
   },
   "outputs": [
    {
     "name": "stderr",
     "output_type": "stream",
     "text": [
      "/tmp/ipykernel_152907/3941673271.py:2: FutureWarning: You are using `torch.load` with `weights_only=False` (the current default value), which uses the default pickle module implicitly. It is possible to construct malicious pickle data which will execute arbitrary code during unpickling (See https://github.com/pytorch/pytorch/blob/main/SECURITY.md#untrusted-models for more details). In a future release, the default value for `weights_only` will be flipped to `True`. This limits the functions that could be executed during unpickling. Arbitrary objects will no longer be allowed to be loaded via this mode unless they are explicitly allowlisted by the user via `torch.serialization.add_safe_globals`. We recommend you start setting `weights_only=True` for any use case where you don't have full control of the loaded file. Please open an issue on GitHub for any issues related to this experimental feature.\n",
      "  model = torch.load(model_roc_file)\n"
     ]
    },
    {
     "name": "stdout",
     "output_type": "stream",
     "text": [
      "SSI_DDI(\n",
      "  (initial_norm): LayerNorm(55, affine=True, mode=graph)\n",
      "  (net_norms): ModuleList(\n",
      "    (0-5): 6 x LayerNorm(64, affine=True, mode=graph)\n",
      "  )\n",
      "  (block0): SSI_DDI_Block(\n",
      "    (conv): GATConv(55, 32, heads=2)\n",
      "    (readout): SAGPooling(GraphConv, 64, min_score=-1, multiplier=1.0)\n",
      "  )\n",
      "  (block1): SSI_DDI_Block(\n",
      "    (conv): GATConv(64, 32, heads=2)\n",
      "    (readout): SAGPooling(GraphConv, 64, min_score=-1, multiplier=1.0)\n",
      "  )\n",
      "  (block2): SSI_DDI_Block(\n",
      "    (conv): GATConv(64, 32, heads=2)\n",
      "    (readout): SAGPooling(GraphConv, 64, min_score=-1, multiplier=1.0)\n",
      "  )\n",
      "  (block3): SSI_DDI_Block(\n",
      "    (conv): GATConv(64, 32, heads=2)\n",
      "    (readout): SAGPooling(GraphConv, 64, min_score=-1, multiplier=1.0)\n",
      "  )\n",
      "  (block4): SSI_DDI_Block(\n",
      "    (conv): GATConv(64, 32, heads=2)\n",
      "    (readout): SAGPooling(GraphConv, 64, min_score=-1, multiplier=1.0)\n",
      "  )\n",
      "  (block5): SSI_DDI_Block(\n",
      "    (conv): GATConv(64, 32, heads=2)\n",
      "    (readout): SAGPooling(GraphConv, 64, min_score=-1, multiplier=1.0)\n",
      "  )\n",
      "  (co_attention): MultiheadCoAttentionLayer(\n",
      "    (W_q): ParameterList(\n",
      "        (0): Parameter containing: [torch.float32 of size 64x32 (cuda:0)]\n",
      "        (1): Parameter containing: [torch.float32 of size 64x32 (cuda:0)]\n",
      "    )\n",
      "    (W_k): ParameterList(\n",
      "        (0): Parameter containing: [torch.float32 of size 64x32 (cuda:0)]\n",
      "        (1): Parameter containing: [torch.float32 of size 64x32 (cuda:0)]\n",
      "    )\n",
      "    (bias): ParameterList(\n",
      "        (0): Parameter containing: [torch.float32 of size 32 (cuda:0)]\n",
      "        (1): Parameter containing: [torch.float32 of size 32 (cuda:0)]\n",
      "    )\n",
      "    (dropout): Dropout(p=0.1, inplace=False)\n",
      "  )\n",
      "  (KGE): RESCAL(86, torch.Size([86, 4096]))\n",
      ")\n",
      "Starting predicting at 2024-10-27 17:57:32.598779\n",
      "Device cuda\n",
      "Test Accuracy: 0.9012\n",
      "Test ROC AUC: 0.9585\n",
      "Test PRC AUC: 0.9515\n"
     ]
    }
   ],
   "source": [
    "# Predict\n",
    "model = torch.load(model_roc_file)\n",
    "print(model)\n",
    "model.to(device=device)\n",
    "predict(model, test_data_loader, device)"
   ]
  },
  {
   "cell_type": "code",
   "execution_count": null,
   "metadata": {},
   "outputs": [],
   "source": []
  },
  {
   "cell_type": "code",
   "execution_count": null,
   "metadata": {},
   "outputs": [],
   "source": []
  }
 ],
 "metadata": {
  "accelerator": "GPU",
  "colab": {
   "authorship_tag": "ABX9TyPrjMB1qWDzpoQ4nNpP4AfV",
   "gpuType": "T4",
   "mount_file_id": "1SgLTMIysgeGUK6s_GjIn2Ssygt0A5LZV",
   "provenance": []
  },
  "kernelspec": {
   "display_name": "Python 3 (ipykernel)",
   "language": "python",
   "name": "python3"
  },
  "language_info": {
   "codemirror_mode": {
    "name": "ipython",
    "version": 3
   },
   "file_extension": ".py",
   "mimetype": "text/x-python",
   "name": "python",
   "nbconvert_exporter": "python",
   "pygments_lexer": "ipython3",
   "version": "3.10.12"
  }
 },
 "nbformat": 4,
 "nbformat_minor": 4
}
