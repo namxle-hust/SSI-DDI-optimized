{
 "cells": [
  {
   "cell_type": "code",
   "execution_count": 1,
   "metadata": {
    "colab": {
     "base_uri": "https://localhost:8080/"
    },
    "executionInfo": {
     "elapsed": 10617,
     "status": "ok",
     "timestamp": 1729307085000,
     "user": {
      "displayName": "Nam Le",
      "userId": "10910051602335296858"
     },
     "user_tz": -420
    },
    "id": "k4UhRVN-PNYi",
    "outputId": "3a910cb5-bb67-4fa2-d833-c4790dab293c"
   },
   "outputs": [],
   "source": [
    "# !pip install torch_geometric rdkit torch"
   ]
  },
  {
   "cell_type": "code",
   "execution_count": 2,
   "metadata": {
    "id": "YKUU9J_HnRwg"
   },
   "outputs": [],
   "source": [
    "from datetime import datetime\n",
    "import time\n",
    "import argparse\n",
    "import sys\n",
    "import torch\n",
    "from torch import optim\n",
    "from torch import nn\n",
    "import torch.nn.functional as F\n",
    "from sklearn import metrics\n",
    "import pandas as pd\n",
    "import numpy as np\n",
    "from torch.nn.modules.container import ModuleList\n",
    "from torch_geometric.nn import (\n",
    "    GATConv,\n",
    "    SAGPooling,\n",
    "    LayerNorm,\n",
    "    global_mean_pool,\n",
    "    max_pool_neighbor_x,\n",
    "    global_add_pool,\n",
    ")\n"
   ]
  },
  {
   "cell_type": "code",
   "execution_count": 3,
   "metadata": {},
   "outputs": [],
   "source": [
    "# Directory configuration\n",
    "data_dir = \"data\"\n",
    "model_dir = \"models\"\n",
    "model_name = \"case26\"\n",
    "\n",
    "# sys.path.append('/content/drive/MyDrive/Colab Notebooks')"
   ]
  },
  {
   "cell_type": "code",
   "execution_count": 4,
   "metadata": {},
   "outputs": [],
   "source": [
    "####### Tunning parameters #######\n",
    "\n",
    "# Number of epochs\n",
    "n_epochs = 300\n",
    "\n",
    "# SagPooling ratio & min score. \n",
    "# Set sp_ratio to None to disable ratio in SagPooling\n",
    "sp_ratio = None\n",
    "sp_min_score = None\n",
    "\n",
    "# Enable using gpu\n",
    "use_cuda = True\n",
    "\n",
    "# Use activation function for CoAttention Layer\n",
    "use_activation_fn = False\n",
    "\n",
    "# Use ComplEx instead of RESCAL\n",
    "use_ComplEx = True\n",
    "\n",
    "# Use improved CoAttention Layer\n",
    "# Could be \"original\" || \"improved\" || \"multihead\"\n",
    "co_attention_method = \"original\"\n",
    "\n",
    "# Use Explicit Valence\n",
    "use_explicit_valence = False\n",
    "\n",
    "# Number of GAT layers\n",
    "num_GAT_layers = 5\n",
    "\n",
    "# Number of GAT multiheads\n",
    "num_GAT_multiheads = 2\n",
    "\n",
    "#################################"
   ]
  },
  {
   "cell_type": "code",
   "execution_count": 5,
   "metadata": {
    "colab": {
     "base_uri": "https://localhost:8080/"
    },
    "executionInfo": {
     "elapsed": 14083,
     "status": "ok",
     "timestamp": 1729307119217,
     "user": {
      "displayName": "Nam Le",
      "userId": "10910051602335296858"
     },
     "user_tz": -420
    },
    "id": "Ws9OIlmzPrsJ",
    "outputId": "f4ec9a42-5720-436e-fa2a-544d564381c4"
   },
   "outputs": [
    {
     "name": "stderr",
     "output_type": "stream",
     "text": [
      "/mnt/d/Documents/Github/glsofort/SSI-DDI-test/notebook/data_preprocessing.py:113: UserWarning: The use of `x.T` on tensors of dimension other than 2 to reverse their shape is deprecated and it will throw an error in a future release. Consider `x.mT` to transpose batches of matrices or `x.permute(*torch.arange(x.ndim - 1, -1, -1))` to reverse the dimensions of a tensor. (Triggered internally at ../aten/src/ATen/native/TensorShape.cpp:3683.)\n",
      "  return undirected_edge_list.T, features\n"
     ]
    }
   ],
   "source": [
    "# If using explicit valence feature\n",
    "if use_explicit_valence:\n",
    "    from data_preprocessing_explicit_valence import DrugDataset, DrugDataLoader, TOTAL_ATOM_FEATS\n",
    "else:\n",
    "    from data_preprocessing import DrugDataset, DrugDataLoader, TOTAL_ATOM_FEATS"
   ]
  },
  {
   "cell_type": "code",
   "execution_count": 6,
   "metadata": {},
   "outputs": [
    {
     "name": "stdout",
     "output_type": "stream",
     "text": [
      "cuda\n",
      "Epochs: 300\n",
      "Total of atom features: 55\n"
     ]
    }
   ],
   "source": [
    "mode = \"train\"\n",
    "\n",
    "n_atom_feats = TOTAL_ATOM_FEATS\n",
    "# Not use\n",
    "n_atom_hid = 64\n",
    "# Total interactions information in the Interaction_information.csv\n",
    "rel_total = 86\n",
    "lr = 1e-2\n",
    "weight_decay = 5e-4\n",
    "neg_samples = 1\n",
    "# Represents the number of samples (or graph instances) loaded in each batch during the training process.\n",
    "batch_size = 1024\n",
    "data_size_ratio = 1\n",
    "kge_dim = 64\n",
    "\n",
    "device = \"cuda\" if torch.cuda.is_available() and use_cuda else \"cpu\"\n",
    "\n",
    "print(device)\n",
    "print(f\"Epochs: {n_epochs}\")\n",
    "print(f\"Total of atom features: {TOTAL_ATOM_FEATS}\")"
   ]
  },
  {
   "cell_type": "code",
   "execution_count": 7,
   "metadata": {},
   "outputs": [],
   "source": [
    "def print_tunning_parameters():\n",
    "    print()\n",
    "    print(\"####### Tunning parameters #######\")\n",
    "    print()\n",
    "    \n",
    "    print(\"n_epochs =\", n_epochs)\n",
    "    print(\"use_cuda =\", use_cuda)\n",
    "    print()\n",
    "    print(\"num_GAT_layers = \", num_GAT_layers)\n",
    "    print(\"num_GAT_multiheads = \", num_GAT_multiheads)\n",
    "    print()\n",
    "    print(\"sp_ratio =\", sp_ratio)\n",
    "    print(\"sp_min_score =\", sp_min_score)\n",
    "    print()\n",
    "    print(\"use_explicit_valence =\", use_explicit_valence)\n",
    "    print()\n",
    "    print(\"use_activation_fn =\", use_activation_fn)\n",
    "    print()\n",
    "    print(\"use_ComplEx =\", use_ComplEx)\n",
    "    print()\n",
    "    print(\"co_attention_method =\", co_attention_method)\n",
    "    \n",
    "    print()\n",
    "    print(\"#################################\")\n",
    "    print()\n"
   ]
  },
  {
   "cell_type": "code",
   "execution_count": 8,
   "metadata": {
    "id": "qfaqIm8ZOwx9"
   },
   "outputs": [],
   "source": [
    "class CoAttentionLayer(nn.Module):\n",
    "    def __init__(self, n_features, use_activation_fn=True):\n",
    "        super().__init__()\n",
    "        self.n_features = n_features\n",
    "        self.w_q = nn.Parameter(torch.zeros(n_features, n_features // 2))\n",
    "        self.w_k = nn.Parameter(torch.zeros(n_features, n_features // 2))\n",
    "        self.bias = nn.Parameter(torch.zeros(n_features // 2))\n",
    "        self.a = nn.Parameter(torch.zeros(n_features // 2))\n",
    "        self.use_activation_fn = use_activation_fn\n",
    "\n",
    "        nn.init.xavier_uniform_(self.w_q)\n",
    "        nn.init.xavier_uniform_(self.w_k)\n",
    "        nn.init.xavier_uniform_(self.bias.view(*self.bias.shape, -1))\n",
    "        nn.init.xavier_uniform_(self.a.view(*self.a.shape, -1))\n",
    "\n",
    "    def forward(self, receiver, attendant):\n",
    "        # receiver.shape  = (1024, 4, 64)\n",
    "        # attendant.shape = (1024, 4, 64)\n",
    "        keys = receiver @ self.w_k\n",
    "        queries = attendant @ self.w_q\n",
    "        # values = receiver @ self.w_v\n",
    "        values = receiver\n",
    "\n",
    "        # queries.shape = (1024, 4, 32)\n",
    "        # keys.shape = (1024, 4, 32)\n",
    "        e_activations = queries.unsqueeze(-3) + keys.unsqueeze(-2) + self.bias\n",
    "        if self.use_activation_fn:\n",
    "            e_scores = torch.tanh(e_activations) @ self.a\n",
    "        else:\n",
    "            e_scores = e_activations @ self.a\n",
    "        attentions = e_scores\n",
    "\n",
    "        return attentions\n",
    "\n",
    "\n",
    "class MultiheadCoAttentionLayer(nn.Module):\n",
    "    def __init__(self, n_features, use_activation_fn=True, dropout=0.1, n_heads=2):\n",
    "        super().__init__()\n",
    "        self.n_features = n_features\n",
    "        self.n_heads = n_heads\n",
    "\n",
    "        \n",
    "        self.W_q = nn.ParameterList([torch.zeros(self.n_features, self.n_features // n_heads) for _ in range(n_heads)])\n",
    "        self.W_k = nn.ParameterList([torch.zeros(self.n_features, self.n_features // n_heads) for _ in range(n_heads)])\n",
    "        \n",
    "        self.a = nn.Parameter(torch.zeros(self.n_features))\n",
    "        self.bias = nn.ParameterList([torch.zeros(self.n_features // n_heads) for _ in range(n_heads)])\n",
    "        \n",
    "        self.use_activation_fn = use_activation_fn\n",
    "\n",
    "        self.dropout = nn.Dropout(dropout)\n",
    "\n",
    "        for i in range(n_heads):\n",
    "            nn.init.xavier_uniform_(self.W_q[i])\n",
    "            nn.init.xavier_uniform_(self.W_k[i])\n",
    "            nn.init.xavier_uniform_(self.bias[i].view(*self.bias[i].shape, -1))\n",
    "        \n",
    "        nn.init.xavier_uniform_(self.a.view(*self.a.shape, -1))\n",
    "\n",
    "    def forward(self, receiver, attendant):\n",
    "        # receiver.shape  = (1024, 4, 64)\n",
    "        # attendant.shape = (1024, 4, 64)\n",
    "\n",
    "        # Compute attention score for each head\n",
    "        head_outputs = []\n",
    "        for i in range(self.n_heads):\n",
    "            keys = receiver @ self.W_k[i]\n",
    "            queries = attendant @ self.W_q[i]\n",
    "            # print(\"keys.shape = \", keys.shape)\n",
    "            e_activations = queries.unsqueeze(-3) + keys.unsqueeze(-2) + self.bias[i]\n",
    "            # print(\"e_activations.shape = \", e_activations.shape)\n",
    "            head_outputs.append(e_activations)\n",
    "\n",
    "        # Average the outputs from all heads\n",
    "        # e_activations_avg.shape = (1024, 4, 4, 32)\n",
    "        e_activations_avg = torch.cat(head_outputs, dim=-1)\n",
    "        # print(\"e_activations_avg.shape = \", e_activations_avg.shape)\n",
    "        \n",
    "        if self.use_activation_fn:\n",
    "            e_scores = torch.tanh(e_activations_avg) @ self.a\n",
    "        else:\n",
    "            e_scores = e_activations_avg @ self.a\n",
    "\n",
    "        # attentions.shape = (1024, 4, 4)\n",
    "        attentions = e_scores\n",
    "\n",
    "        return attentions\n",
    "\n",
    "class CoAttentionLayerImproved(nn.Module):\n",
    "    def __init__(self, n_features, use_activation_fn=True, dropout=0.1, n_heads=2):\n",
    "        super().__init__()\n",
    "        self.n_features = n_features\n",
    "        self.n_heads = n_heads\n",
    "        self.head_dim = n_features // n_heads\n",
    "\n",
    "        # Projects for queries and keys per head\n",
    "        self.w_q = nn.Parameter(torch.zeros(self.head_dim, self.head_dim // 2))\n",
    "        self.w_k = nn.Parameter(torch.zeros(self.head_dim, self.head_dim // 2))\n",
    "        self.bias = nn.Parameter(torch.zeros(self.n_features // 2))\n",
    "        self.a = nn.Parameter(torch.zeros(self.n_features // 2))\n",
    "        self.use_activation_fn = use_activation_fn\n",
    "\n",
    "        self.dropout = nn.Dropout(dropout)\n",
    "\n",
    "        nn.init.xavier_uniform_(self.w_q)\n",
    "        nn.init.xavier_uniform_(self.w_k)\n",
    "        nn.init.xavier_uniform_(self.bias.view(*self.bias.shape, -1))\n",
    "        nn.init.xavier_uniform_(self.a.view(*self.a.shape, -1))\n",
    "\n",
    "    def forward(self, receiver, attendant):\n",
    "        # receiver.shape  = (1024, 4, 64)\n",
    "        # attendant.shape = (1024, 4, 64)\n",
    "\n",
    "        # Split reciever and attendant into multiple heads\n",
    "        batch_size, gat_size, n_features = receiver.shape\n",
    "        receiver = receiver.view(batch_size, gat_size, self.n_heads, self.head_dim)\n",
    "        attendant = attendant.view(batch_size, gat_size, self.n_heads, self.head_dim)\n",
    "        \n",
    "        # Compute keys and queries per head\n",
    "        # receiver.shape  = (1024, 4, 2, 32)\n",
    "        # attendant.shape = (1024, 4, 2, 32)\n",
    "        \n",
    "        # self.w_k.shape  = (32, 16)\n",
    "        # self.w_q.shape  = (32, 16)\n",
    "        \n",
    "        # self.keys.shape     = (1024, 4, 2, 16)\n",
    "        # self.queries.shape  = (1024, 4, 2, 16)\n",
    "        keys = receiver @ self.w_k\n",
    "        queries = attendant @ self.w_q\n",
    "\n",
    "        # self.keys.shape     = (1024, 4, 32)\n",
    "        # self.queries.shape  = (1024, 4, 32)\n",
    "        keys    = keys.view(batch_size, gat_size, self.head_dim)\n",
    "        queries = queries.view(batch_size, gat_size, self.head_dim)\n",
    "        # print(\"keys.shape\", keys.shape)\n",
    "        # print(\"queries.shape\", queries.shape)\n",
    "\n",
    "        # e_activations.shape = (1024, 4, 4, 32)\n",
    "        # self.a.shape = (32,)\n",
    "        e_activations = queries.unsqueeze(-3) + keys.unsqueeze(-2) + self.bias\n",
    "        if self.use_activation_fn:\n",
    "            e_scores = torch.tanh(e_activations) @ self.a\n",
    "        else:\n",
    "            e_scores = e_activations @ self.a\n",
    "\n",
    "        # attentions.shape = (1024, 4, 4)\n",
    "        attentions = e_scores\n",
    "\n",
    "        return attentions\n",
    "\n",
    "\n",
    "class RESCAL(nn.Module):\n",
    "    def __init__(self, n_rels, n_features):\n",
    "        \"\"\"\n",
    "        n_rels: number of relations = 86\n",
    "        n_features: kge_dim = 64\n",
    "        \"\"\"\n",
    "        super().__init__()\n",
    "        self.n_rels = n_rels\n",
    "        self.n_features = n_features\n",
    "        # Embedding layer\n",
    "        self.rel_emb = nn.Embedding(self.n_rels, n_features * n_features)\n",
    "        #  Initializes the embedding weights with the Xavier uniform distribution, which helps maintain the scale of gradients during training\n",
    "        nn.init.xavier_uniform_(self.rel_emb.weight)\n",
    "\n",
    "    def forward(self, heads, tails, rels, alpha_scores):\n",
    "        rels = self.rel_emb(rels)\n",
    "        rels = F.normalize(rels, dim=-1)\n",
    "        heads = F.normalize(heads, dim=-1)\n",
    "        tails = F.normalize(tails, dim=-1)\n",
    "        # print(rels.shape)\n",
    "        # Convert shape (1024, 4096) to (1024, 64, 64) for dot product\n",
    "        rels = rels.view(-1, self.n_features, self.n_features)\n",
    "        # print(rels.shape)\n",
    "        # (1024, 4, 64) @ (1024, 64, 64) = (1024, 4, 64) @ (1024, 64, 4) = (1024, 4, 4)\n",
    "        scores = heads @ rels @ tails.transpose(-2, -1)\n",
    "\n",
    "        # alpha_scores.shape = (1024, 4, 4)\n",
    "        # scores.shape = (1024, 4, 4)\n",
    "        if alpha_scores is not None:\n",
    "            scores = alpha_scores * scores\n",
    "        # print(scores.shape)\n",
    "        \n",
    "        # sum the last 2 dimensions\n",
    "        scores = scores.sum(dim=(-2, -1))\n",
    "        \n",
    "        # print(scores.shape)\n",
    "        # Shape(1024,)\n",
    "        return scores\n",
    "\n",
    "    def __repr__(self):\n",
    "        return f\"{self.__class__.__name__}({self.n_rels}, {self.rel_emb.weight.shape})\"\n",
    "\n",
    "\n",
    "\n",
    "class ComplEx(nn.Module):\n",
    "    def __init__(self, n_rels, n_features):\n",
    "        super().__init__()\n",
    "        self.n_rels = n_rels\n",
    "        self.n_features = n_features\n",
    "    \n",
    "        # Relation embeddings are also complex\n",
    "        self.rel_real = nn.Embedding(self.n_rels, (self.n_features // 2) * (self.n_features // 2))\n",
    "        self.rel_imag = nn.Embedding(self.n_rels, (self.n_features // 2) * (self.n_features // 2))\n",
    "        \n",
    "        # Initialize embeddings\n",
    "        nn.init.xavier_uniform_(self.rel_real.weight)\n",
    "        nn.init.xavier_uniform_(self.rel_imag.weight)\n",
    "\n",
    "    def forward(self, heads, tails, rels, alpha_scores=None):\n",
    "        # Preprocess\n",
    "        # heads = F.normalize(heads, dim=-1)\n",
    "        # tails = F.normalize(tails, dim=-1)\n",
    "        \n",
    "        r_real, r_imag = self.rel_real(rels), self.rel_imag(rels)\n",
    "        r_real = F.normalize(r_real, dim=-1)\n",
    "        r_imag = F.normalize(r_imag, dim=-1)\n",
    "        # print(r_real.shape)\n",
    "        r_real = r_real.view(-1, self.n_features // 2, self.n_features // 2)\n",
    "        r_imag = r_imag.view(-1, self.n_features // 2, self.n_features // 2)\n",
    "        # print(r_real.shape)\n",
    "        # Split heads and tails to imaginary parts\n",
    "        h_real, h_imag = heads[..., :self.n_features // 2], heads[..., self.n_features // 2:]\n",
    "        t_real, t_imag = tails[..., :self.n_features // 2], heads[..., self.n_features // 2:]\n",
    "\n",
    "        h_real, h_imag = F.normalize(h_real, dim=-1), F.normalize(h_imag, dim=-1)\n",
    "        t_real, t_imag = F.normalize(t_real, dim=-1), F.normalize(t_imag, dim=-1)\n",
    "\n",
    "        # ComplEx scoring functionn\n",
    "        first_part_score = h_real @ r_real @ t_real.transpose(-2, -1)\n",
    "        second_part_score = h_real @ r_imag @ t_imag.transpose(-2, -1)\n",
    "        third_part_score = h_imag @ r_real @ t_imag.transpose(-2, -1)\n",
    "        fourth_part_score = h_imag @ r_imag @ t_real.transpose(-2, -1)\n",
    "\n",
    "        scores = first_part_score + second_part_score + third_part_score + fourth_part_score\n",
    "        \n",
    "        # If alpha_scores is provided, apply it\n",
    "        if alpha_scores is not None:\n",
    "            scores = alpha_scores * scores\n",
    "\n",
    "        scores = scores.sum(dim=(-2, -1))\n",
    "        \n",
    "        return scores\n",
    "\n",
    "    def __repr__(self):\n",
    "        return f\"{self.__class__.__name__}({self.n_rels}, {self.rel_real.weight.shape}, {self.rel_imag.weight.shape})\"\n"
   ]
  },
  {
   "cell_type": "code",
   "execution_count": 9,
   "metadata": {
    "id": "CWV8Vy2YRXQA"
   },
   "outputs": [],
   "source": [
    "class SSI_DDI(nn.Module):\n",
    "    def __init__(\n",
    "        self,\n",
    "        in_features,\n",
    "        hidd_dim,\n",
    "        kge_dim,\n",
    "        rel_total,\n",
    "        heads_out_feat_params,\n",
    "        blocks_params,\n",
    "        sp_ratio,\n",
    "        use_activation_fn,\n",
    "        use_ComplEx,\n",
    "        sp_min_score,\n",
    "        co_attention_method,\n",
    "    ):\n",
    "        \"\"\"\n",
    "        blocks_params: list of number layers for multi-head attentions\n",
    "        \"\"\"\n",
    "        super().__init__()\n",
    "        self.in_features = in_features\n",
    "        # not using this one\n",
    "        self.hidd_dim = hidd_dim\n",
    "        self.rel_total = rel_total\n",
    "        self.kge_dim = kge_dim\n",
    "        self.n_blocks = len(blocks_params)\n",
    "\n",
    "        self.initial_norm = LayerNorm(self.in_features)\n",
    "        self.blocks = []\n",
    "        self.use_activation_fn = use_activation_fn\n",
    "        self.use_ComplEx = use_ComplEx\n",
    "        # Layer normalization list\n",
    "        self.net_norms = ModuleList()\n",
    "        for i, (head_out_feats, n_heads) in enumerate(\n",
    "            zip(heads_out_feat_params, blocks_params)\n",
    "        ):\n",
    "            block = SSI_DDI_Block(\n",
    "                n_heads, in_features, head_out_feats, final_out_feats=self.hidd_dim, sp_ratio=sp_ratio, sp_min_score=sp_min_score\n",
    "            )\n",
    "            self.add_module(f\"block{i}\", block)\n",
    "            self.blocks.append(block)\n",
    "            self.net_norms.append(LayerNorm(head_out_feats * n_heads))\n",
    "            in_features = head_out_feats * n_heads\n",
    "\n",
    "        if co_attention_method == \"multihead\":\n",
    "            self.co_attention = MultiheadCoAttentionLayer(self.kge_dim, self.use_activation_fn)\n",
    "        elif co_attention_method == \"improved\":\n",
    "            self.co_attention = CoAttentionLayerImproved(self.kge_dim, self.use_activation_fn)\n",
    "        else:\n",
    "            self.co_attention = CoAttentionLayer(self.kge_dim, self.use_activation_fn)\n",
    "            \n",
    "        if self.use_ComplEx:\n",
    "            self.KGE = ComplEx(self.rel_total, self.kge_dim)\n",
    "        else:\n",
    "            self.KGE = RESCAL(self.rel_total, self.kge_dim)\n",
    "\n",
    "    def forward(self, triples):\n",
    "        h_data, t_data, rels = triples\n",
    "\n",
    "        h_data.x = self.initial_norm(h_data.x, h_data.batch)\n",
    "        t_data.x = self.initial_norm(t_data.x, t_data.batch)\n",
    "\n",
    "        repr_h = []\n",
    "        repr_t = []\n",
    "\n",
    "        for i, block in enumerate(self.blocks):\n",
    "            out1, out2 = block(h_data), block(t_data)\n",
    "\n",
    "            h_data = out1[0]\n",
    "            t_data = out2[0]\n",
    "            r_h = out1[1]\n",
    "            r_t = out2[1]\n",
    "\n",
    "            repr_h.append(r_h)\n",
    "            repr_t.append(r_t)\n",
    "\n",
    "            h_data.x = F.elu(self.net_norms[i](h_data.x, h_data.batch))\n",
    "            t_data.x = F.elu(self.net_norms[i](t_data.x, t_data.batch))\n",
    "\n",
    "        repr_h = torch.stack(repr_h, dim=-2)\n",
    "        repr_t = torch.stack(repr_t, dim=-2)\n",
    "\n",
    "        kge_heads = repr_h\n",
    "        kge_tails = repr_t\n",
    "\n",
    "        attentions = self.co_attention(kge_heads, kge_tails)\n",
    "        # attentions = None\n",
    "        scores = self.KGE(kge_heads, kge_tails, rels, attentions)\n",
    "\n",
    "        return scores\n",
    "\n",
    "\n",
    "class SSI_DDI_Block(nn.Module):\n",
    "    def __init__(self, n_heads, in_features, head_out_feats, final_out_feats, sp_ratio, sp_min_score):\n",
    "        \"\"\"\n",
    "        n_heades: number of multi-head attentions = 2\n",
    "        in_features: number of features = 55 . For explicit valence use, number of features = 56.\n",
    "        head_out_feats: number of out features. For 4 layers: [32, 32, 32, 32]\n",
    "        sp_ratio: SAGPooling ratio\n",
    "        \"\"\"\n",
    "        super().__init__()\n",
    "        self.n_heads = n_heads\n",
    "        self.in_features = in_features\n",
    "        self.out_features = head_out_feats\n",
    "        self.conv = GATConv(in_features, head_out_feats, n_heads)\n",
    "        # SAGPooling: Ranks nodes based on self-attention scores\n",
    "\n",
    "        if sp_ratio is None and sp_min_score is None:\n",
    "            self.readout = SAGPooling(n_heads * head_out_feats, min_score=-1)\n",
    "        else:\n",
    "            if sp_ratio is not None:\n",
    "                self.readout = SAGPooling(n_heads * head_out_feats, min_score=sp_min_score, ratio=sp_ratio)\n",
    "            else:\n",
    "                self.readout = SAGPooling(n_heads * head_out_feats, min_score=sp_min_score)\n",
    "\n",
    "    def forward(self, data):\n",
    "        data.x = self.conv(data.x, data.edge_index)\n",
    "        # Call SAGPooling here\n",
    "        # If min_score = -1 so nodes will not be filtered out, basically redudant for using the SAGPooling.\n",
    "        att_x, att_edge_index, att_edge_attr, att_batch, att_perm, att_scores = (\n",
    "            self.readout(data.x, data.edge_index, batch=data.batch)\n",
    "        )\n",
    "        # Aggregates the pooled node features (att_x) across the graph to obtain a global representation\n",
    "        global_graph_emb = global_add_pool(att_x, att_batch)\n",
    "\n",
    "        # data = max_pool_neighbor_x(data)\n",
    "        return data, global_graph_emb\n"
   ]
  },
  {
   "cell_type": "code",
   "execution_count": 10,
   "metadata": {
    "id": "ZT2vnlWzR6FD"
   },
   "outputs": [],
   "source": [
    "class SigmoidLoss(nn.Module):\n",
    "    def __init__(self, adv_temperature=None):\n",
    "        super().__init__()\n",
    "        self.adv_temperature = adv_temperature\n",
    "\n",
    "    def forward(self, p_scores, n_scores):\n",
    "        if self.adv_temperature:\n",
    "            weights = F.softmax(self.adv_temperature * n_scores, dim=-1).detach()\n",
    "            n_scores = weights * n_scores\n",
    "        p_loss = -F.logsigmoid(p_scores).mean()\n",
    "        n_loss = -F.logsigmoid(-n_scores).mean()\n",
    "\n",
    "        return (p_loss + n_loss) / 2, p_loss, n_loss\n"
   ]
  },
  {
   "cell_type": "code",
   "execution_count": 11,
   "metadata": {
    "colab": {
     "base_uri": "https://localhost:8080/"
    },
    "executionInfo": {
     "elapsed": 5412,
     "status": "ok",
     "timestamp": 1729307124627,
     "user": {
      "displayName": "Nam Le",
      "userId": "10910051602335296858"
     },
     "user_tz": -420
    },
    "id": "iokMMRiStLG2",
    "outputId": "afa67e5a-4edb-4c3a-ee51-e0a261f743f6"
   },
   "outputs": [
    {
     "name": "stdout",
     "output_type": "stream",
     "text": [
      "Training with 115185 samples, validating with 38348, and testing with 38337\n"
     ]
    }
   ],
   "source": [
    "df_ddi_train = pd.read_csv(f\"{data_dir}/ddi_training.csv\")\n",
    "df_ddi_val = pd.read_csv(f\"{data_dir}/ddi_validation.csv\")\n",
    "df_ddi_test = pd.read_csv(f\"{data_dir}/ddi_test.csv\")\n",
    "\n",
    "\n",
    "train_tup = [\n",
    "    (h, t, r)\n",
    "    for h, t, r in zip(df_ddi_train[\"d1\"], df_ddi_train[\"d2\"], df_ddi_train[\"type\"])\n",
    "]\n",
    "val_tup = [\n",
    "    (h, t, r) for h, t, r in zip(df_ddi_val[\"d1\"], df_ddi_val[\"d2\"], df_ddi_val[\"type\"])\n",
    "]\n",
    "test_tup = [\n",
    "    (h, t, r)\n",
    "    for h, t, r in zip(df_ddi_test[\"d1\"], df_ddi_test[\"d2\"], df_ddi_test[\"type\"])\n",
    "]\n",
    "\n",
    "train_data = DrugDataset(train_tup, ratio=data_size_ratio, neg_ent=neg_samples)\n",
    "val_data = DrugDataset(val_tup, ratio=data_size_ratio, disjoint_split=False)\n",
    "test_data = DrugDataset(test_tup, disjoint_split=False)\n",
    "\n",
    "print(\n",
    "    f\"Training with {len(train_data)} samples, validating with {len(val_data)}, and testing with {len(test_data)}\"\n",
    ")\n",
    "\n",
    "train_data_loader = DrugDataLoader(train_data, batch_size=batch_size, shuffle=True)\n",
    "val_data_loader = DrugDataLoader(val_data, batch_size=batch_size * 3)\n",
    "test_data_loader = DrugDataLoader(test_data, batch_size=batch_size * 3)\n"
   ]
  },
  {
   "cell_type": "code",
   "execution_count": 12,
   "metadata": {
    "id": "7jJxwTGhtwRE"
   },
   "outputs": [],
   "source": [
    "def do_compute(model, batch, device, training=True):\n",
    "    \"\"\"\n",
    "    *batch: (pos_tri, neg_tri)\n",
    "    *pos/neg_tri: (batch_h, batch_t, batch_r)\n",
    "    \"\"\"\n",
    "    probas_pred, ground_truth = [], []\n",
    "    pos_tri, neg_tri = batch\n",
    "\n",
    "    pos_tri = [tensor.to(device=device) for tensor in pos_tri]\n",
    "    p_score = model(pos_tri)\n",
    "    probas_pred.append(torch.sigmoid(p_score.detach()).cpu())\n",
    "    ground_truth.append(np.ones(len(p_score)))\n",
    "\n",
    "    neg_tri = [tensor.to(device=device) for tensor in neg_tri]\n",
    "    n_score = model(neg_tri)\n",
    "    probas_pred.append(torch.sigmoid(n_score.detach()).cpu())\n",
    "    ground_truth.append(np.zeros(len(n_score)))\n",
    "\n",
    "    probas_pred = np.concatenate(probas_pred)\n",
    "    ground_truth = np.concatenate(ground_truth)\n",
    "\n",
    "    return p_score, n_score, probas_pred, ground_truth\n",
    "\n",
    "\n",
    "def do_compute_metrics(probas_pred, target):\n",
    "\n",
    "    pred = (probas_pred >= 0.5).astype(np.int64)\n",
    "\n",
    "    acc = metrics.accuracy_score(target, pred)\n",
    "    auc_roc = metrics.roc_auc_score(target, probas_pred)\n",
    "    f1_score = metrics.f1_score(target, pred)\n",
    "\n",
    "    p, r, t = metrics.precision_recall_curve(target, probas_pred)\n",
    "    auc_prc = metrics.auc(r, p)\n",
    "\n",
    "    return acc, auc_roc, auc_prc"
   ]
  },
  {
   "cell_type": "code",
   "execution_count": 13,
   "metadata": {},
   "outputs": [],
   "source": [
    "import csv\n",
    "def export_metrics(train_metrics, val_metrics, epoch):\n",
    "    train_metrics_dir = \"train_metrics\"\n",
    "    metrics_file = f\"{train_metrics_dir}/{model_name}.csv\"\n",
    "    train_loss, train_acc, train_auc_roc, train_auc_prc = train_metrics\n",
    "    val_loss, val_acc, val_auc_roc, val_auc_prc = val_metrics\n",
    "\n",
    "    data = [epoch, train_loss, train_acc, train_auc_roc, train_auc_prc, val_loss, val_acc, val_auc_roc, val_auc_prc]\n",
    "    header = [\"epoch\", \"train_loss\", \"train_acc\", \"train_auc_roc\", \"train_auc_prc\", \"val_loss\", \"val_acc\", \"val_auc_roc\", \"val_auc_prc\"]\n",
    "    \n",
    "    if epoch == 1:\n",
    "        with open(metrics_file, 'w', newline='') as file:\n",
    "            writer = csv.writer(file)\n",
    "            # Write the header\n",
    "            writer.writerow(header)\n",
    "            # Write the data rows\n",
    "            writer.writerow(data)\n",
    "    else:\n",
    "        with open(metrics_file, 'a', newline='') as file:\n",
    "            writer = csv.writer(file)\n",
    "            # Write the data to the file\n",
    "            writer.writerow(data)\n",
    "    \n",
    "    "
   ]
  },
  {
   "cell_type": "code",
   "execution_count": 14,
   "metadata": {},
   "outputs": [],
   "source": [
    "model_acc_file = f\"{model_dir}/acc/{model_name}.pth\"\n",
    "model_roc_file = f\"{model_dir}/roc/{model_name}.pth\"\n",
    "model_prc_file = f\"{model_dir}/prc/{model_name}.pth\"\n",
    "\n",
    "def save_model(best, current, met_type):\n",
    "    model_file = model_prc_file\n",
    "    if met_type == \"acc\":\n",
    "        model_file = model_acc_file\n",
    "    elif met_type == \"roc\":\n",
    "        model_file = model_roc_file\n",
    "        \n",
    "    if best < current:\n",
    "        print(f\"Saving model {met_type}\")\n",
    "        best = current\n",
    "        torch.save(model, model_file)\n",
    "    return best"
   ]
  },
  {
   "cell_type": "code",
   "execution_count": 15,
   "metadata": {
    "id": "EV5GTDPktz_h"
   },
   "outputs": [],
   "source": [
    "def train(\n",
    "    model,\n",
    "    train_data_loader,\n",
    "    val_data_loader,\n",
    "    loss_fn,\n",
    "    optimizer,\n",
    "    n_epochs,\n",
    "    device,\n",
    "    scheduler=None,\n",
    "):\n",
    "    print(\"Starting training at:\", datetime.today())\n",
    "    print(\"Device:\", device)\n",
    "    print_tunning_parameters()\n",
    "    best_val_prc = 0\n",
    "    best_val_acc = 0\n",
    "    best_val_roc = 0\n",
    "    for i in range(1, n_epochs + 1):\n",
    "        start = time.time()\n",
    "        train_loss = 0\n",
    "        train_loss_pos = 0\n",
    "        train_loss_neg = 0\n",
    "        val_loss = 0\n",
    "        val_loss_pos = 0\n",
    "        val_loss_neg = 0\n",
    "        train_probas_pred = []\n",
    "        train_ground_truth = []\n",
    "        val_probas_pred = []\n",
    "        val_ground_truth = []\n",
    "\n",
    "        for batch in train_data_loader:\n",
    "            # print(len(batch))\n",
    "            model.train()\n",
    "            p_score, n_score, probas_pred, ground_truth = do_compute(model, batch, device)\n",
    "            train_probas_pred.append(probas_pred)\n",
    "            train_ground_truth.append(ground_truth)\n",
    "            loss, loss_p, loss_n = loss_fn(p_score, n_score)\n",
    "\n",
    "            optimizer.zero_grad()\n",
    "            loss.backward()\n",
    "            optimizer.step()\n",
    "\n",
    "            train_loss += loss.item() * len(p_score)\n",
    "        train_loss /= len(train_data)\n",
    "\n",
    "        with torch.no_grad():\n",
    "            train_probas_pred = np.concatenate(train_probas_pred)\n",
    "            train_ground_truth = np.concatenate(train_ground_truth)\n",
    "\n",
    "            train_acc, train_auc_roc, train_auc_prc = do_compute_metrics(\n",
    "                train_probas_pred, train_ground_truth\n",
    "            )\n",
    "\n",
    "            for batch in val_data_loader:\n",
    "                model.eval()\n",
    "                p_score, n_score, probas_pred, ground_truth = do_compute(model, batch, device)\n",
    "                val_probas_pred.append(probas_pred)\n",
    "                val_ground_truth.append(ground_truth)\n",
    "                loss, loss_p, loss_n = loss_fn(p_score, n_score)\n",
    "                val_loss += loss.item() * len(p_score)\n",
    "\n",
    "            val_loss /= len(val_data)\n",
    "            val_probas_pred = np.concatenate(val_probas_pred)\n",
    "            val_ground_truth = np.concatenate(val_ground_truth)\n",
    "            val_acc, val_auc_roc, val_auc_prc = do_compute_metrics(\n",
    "                val_probas_pred, val_ground_truth\n",
    "            )\n",
    "            \n",
    "            # Save model if this is the best so far\n",
    "            best_val_prc = save_model(best_val_prc, val_auc_prc, \"prc\")\n",
    "            best_val_acc = save_model(best_val_acc, val_acc, \"acc\")\n",
    "            best_val_roc = save_model(best_val_roc, val_auc_roc, \"roc\")\n",
    "\n",
    "        if scheduler:\n",
    "            # print('scheduling')\n",
    "            scheduler.step()\n",
    "\n",
    "        # Exporting metrics for later plots\n",
    "        train_metrics = (train_loss, train_acc, train_auc_roc, train_auc_prc)\n",
    "        val_metrics = (val_loss, val_acc, val_auc_roc, val_auc_prc)\n",
    "        export_metrics(train_metrics, val_metrics, i)\n",
    "        \n",
    "        print(\n",
    "            f\"Epoch: {i} ({time.time() - start:.4f}s), train_loss: {train_loss:.4f}, val_loss: {val_loss:.4f},\"\n",
    "            f\" train_acc: {train_acc:.4f}, val_acc:{val_acc:.4f}\"\n",
    "        )\n",
    "        print(\n",
    "            f\"\\t\\ttrain_roc: {train_auc_roc:.4f}, val_roc: {val_auc_roc:.4f}, train_auprc: {train_auc_prc:.4f}, val_auprc: {val_auc_prc:.4f}\"\n",
    "        )\n",
    "\n",
    "    return model"
   ]
  },
  {
   "cell_type": "code",
   "execution_count": 16,
   "metadata": {
    "id": "ZwBcoUHEuAtJ"
   },
   "outputs": [],
   "source": [
    "def predict(model, test_data_loader, device):\n",
    "    print('Starting predicting at', datetime.today())\n",
    "    print('Device', device)\n",
    "\n",
    "    test_probas_pred = []\n",
    "    test_ground_truth = []\n",
    "\n",
    "    # Switch to evaluation mode\n",
    "    model.eval()\n",
    "\n",
    "    with torch.no_grad():  # No need to calculate gradients during testing\n",
    "        for batch in test_data_loader:\n",
    "            # Get predictions and ground truth for the batch\n",
    "            p_score, n_score, probas_pred, ground_truth = do_compute(model, batch, device, training=False)\n",
    "\n",
    "            # Append the predictions and ground truths\n",
    "            test_probas_pred.append(probas_pred)\n",
    "            test_ground_truth.append(ground_truth)\n",
    "\n",
    "\n",
    "    # Concatenate the results for the entire test dataset\n",
    "    test_probas_pred = np.concatenate(test_probas_pred)\n",
    "    test_ground_truth = np.concatenate(test_ground_truth)\n",
    "\n",
    "    # Calculate the metrics for the test dataset\n",
    "    test_acc, test_auc_roc, test_auc_prc = do_compute_metrics(test_probas_pred, test_ground_truth)\n",
    "\n",
    "    print(f'Test Accuracy: {test_acc:.4f}')\n",
    "    print(f'Test ROC AUC: {test_auc_roc:.4f}')\n",
    "    print(f'Test PRC AUC: {test_auc_prc:.4f}')"
   ]
  },
  {
   "cell_type": "code",
   "execution_count": 17,
   "metadata": {
    "colab": {
     "base_uri": "https://localhost:8080/"
    },
    "executionInfo": {
     "elapsed": 722,
     "status": "ok",
     "timestamp": 1729307125347,
     "user": {
      "displayName": "Nam Le",
      "userId": "10910051602335296858"
     },
     "user_tz": -420
    },
    "id": "PQ1H7udUuFMT",
    "outputId": "4519f4c7-6ad4-4d20-b66d-a5f26cdab691"
   },
   "outputs": [
    {
     "name": "stdout",
     "output_type": "stream",
     "text": [
      "SSI_DDI(\n",
      "  (initial_norm): LayerNorm(55, affine=True, mode=graph)\n",
      "  (net_norms): ModuleList(\n",
      "    (0-4): 5 x LayerNorm(64, affine=True, mode=graph)\n",
      "  )\n",
      "  (block0): SSI_DDI_Block(\n",
      "    (conv): GATConv(55, 32, heads=2)\n",
      "    (readout): SAGPooling(GraphConv, 64, min_score=-1, multiplier=1.0)\n",
      "  )\n",
      "  (block1): SSI_DDI_Block(\n",
      "    (conv): GATConv(64, 32, heads=2)\n",
      "    (readout): SAGPooling(GraphConv, 64, min_score=-1, multiplier=1.0)\n",
      "  )\n",
      "  (block2): SSI_DDI_Block(\n",
      "    (conv): GATConv(64, 32, heads=2)\n",
      "    (readout): SAGPooling(GraphConv, 64, min_score=-1, multiplier=1.0)\n",
      "  )\n",
      "  (block3): SSI_DDI_Block(\n",
      "    (conv): GATConv(64, 32, heads=2)\n",
      "    (readout): SAGPooling(GraphConv, 64, min_score=-1, multiplier=1.0)\n",
      "  )\n",
      "  (block4): SSI_DDI_Block(\n",
      "    (conv): GATConv(64, 32, heads=2)\n",
      "    (readout): SAGPooling(GraphConv, 64, min_score=-1, multiplier=1.0)\n",
      "  )\n",
      "  (co_attention): CoAttentionLayer()\n",
      "  (KGE): ComplEx(86, torch.Size([86, 1024]), torch.Size([86, 1024]))\n",
      ")\n"
     ]
    }
   ],
   "source": [
    "heads_out_feat_params = []\n",
    "block_params = []\n",
    "\n",
    "for _ in range(num_GAT_layers):\n",
    "    heads_out_feat_params.append(kge_dim // 2)\n",
    "    block_params.append(num_GAT_multiheads)\n",
    "\n",
    "if mode == \"train\":\n",
    "    model = SSI_DDI(\n",
    "        n_atom_feats,\n",
    "        n_atom_hid,\n",
    "        kge_dim,\n",
    "        rel_total,\n",
    "        heads_out_feat_params=heads_out_feat_params,\n",
    "        blocks_params=block_params,\n",
    "        sp_ratio=sp_ratio,\n",
    "        use_activation_fn=use_activation_fn,\n",
    "        use_ComplEx=use_ComplEx,\n",
    "        sp_min_score=sp_min_score,\n",
    "        co_attention_method=co_attention_method,\n",
    "    )\n",
    "    loss = SigmoidLoss()\n",
    "    optimizer = optim.Adam(model.parameters(), lr=lr, weight_decay=weight_decay)\n",
    "    scheduler = optim.lr_scheduler.LambdaLR(optimizer, lambda epoch: 0.96 ** (epoch))\n",
    "    print(model)\n",
    "    model.to(device=device)"
   ]
  },
  {
   "cell_type": "code",
   "execution_count": null,
   "metadata": {
    "colab": {
     "base_uri": "https://localhost:8080/"
    },
    "id": "JvcD5xd_uVbL",
    "outputId": "20e29f96-e964-4647-8a0e-5f46bed80a06"
   },
   "outputs": [
    {
     "name": "stdout",
     "output_type": "stream",
     "text": [
      "Starting training at: 2024-10-28 02:27:03.416188\n",
      "Device: cuda\n",
      "\n",
      "####### Tunning parameters #######\n",
      "\n",
      "n_epochs = 300\n",
      "use_cuda = True\n",
      "\n",
      "num_GAT_layers =  5\n",
      "num_GAT_multiheads =  2\n",
      "\n",
      "sp_ratio = None\n",
      "sp_min_score = None\n",
      "\n",
      "use_explicit_valence = False\n",
      "\n",
      "use_activation_fn = False\n",
      "\n",
      "use_ComplEx = True\n",
      "\n",
      "co_attention_method = original\n",
      "\n",
      "#################################\n",
      "\n"
     ]
    },
    {
     "name": "stderr",
     "output_type": "stream",
     "text": [
      "/home/namle/.local/lib/python3.10/site-packages/torch_geometric/warnings.py:11: UserWarning: The usage of `scatter(reduce='max')` can be accelerated via the 'torch-scatter' package, but it was not found\n",
      "  warnings.warn(message)\n"
     ]
    },
    {
     "name": "stdout",
     "output_type": "stream",
     "text": [
      "Saving model prc\n",
      "Saving model acc\n",
      "Saving model roc\n",
      "Epoch: 1 (75.9995s), train_loss: 0.7134, val_loss: 0.6639, train_acc: 0.5525, val_acc:0.5887\n",
      "\t\ttrain_roc: 0.5750, val_roc: 0.6300, train_auprc: 0.5571, val_auprc: 0.6162\n"
     ]
    },
    {
     "name": "stderr",
     "output_type": "stream",
     "text": [
      "/home/namle/.local/lib/python3.10/site-packages/torch_geometric/warnings.py:11: UserWarning: The usage of `scatter(reduce='max')` can be accelerated via the 'torch-scatter' package, but it was not found\n",
      "  warnings.warn(message)\n"
     ]
    },
    {
     "name": "stdout",
     "output_type": "stream",
     "text": [
      "Saving model prc\n",
      "Saving model acc\n",
      "Saving model roc\n",
      "Epoch: 2 (67.5711s), train_loss: 0.6338, val_loss: 0.6007, train_acc: 0.6296, val_acc:0.6687\n",
      "\t\ttrain_roc: 0.6862, val_roc: 0.7361, train_auprc: 0.6721, val_auprc: 0.7171\n"
     ]
    },
    {
     "name": "stderr",
     "output_type": "stream",
     "text": [
      "/home/namle/.local/lib/python3.10/site-packages/torch_geometric/warnings.py:11: UserWarning: The usage of `scatter(reduce='max')` can be accelerated via the 'torch-scatter' package, but it was not found\n",
      "  warnings.warn(message)\n"
     ]
    },
    {
     "name": "stdout",
     "output_type": "stream",
     "text": [
      "Saving model prc\n",
      "Saving model acc\n",
      "Saving model roc\n",
      "Epoch: 3 (66.4761s), train_loss: 0.5810, val_loss: 0.5656, train_acc: 0.6871, val_acc:0.7053\n",
      "\t\ttrain_roc: 0.7580, val_roc: 0.7773, train_auprc: 0.7391, val_auprc: 0.7559\n"
     ]
    },
    {
     "name": "stderr",
     "output_type": "stream",
     "text": [
      "/home/namle/.local/lib/python3.10/site-packages/torch_geometric/warnings.py:11: UserWarning: The usage of `scatter(reduce='max')` can be accelerated via the 'torch-scatter' package, but it was not found\n",
      "  warnings.warn(message)\n"
     ]
    },
    {
     "name": "stdout",
     "output_type": "stream",
     "text": [
      "Saving model prc\n",
      "Saving model acc\n",
      "Saving model roc\n",
      "Epoch: 4 (66.5806s), train_loss: 0.5493, val_loss: 0.5418, train_acc: 0.7155, val_acc:0.7215\n",
      "\t\ttrain_roc: 0.7911, val_roc: 0.7988, train_auprc: 0.7709, val_auprc: 0.7807\n"
     ]
    },
    {
     "name": "stderr",
     "output_type": "stream",
     "text": [
      "/home/namle/.local/lib/python3.10/site-packages/torch_geometric/warnings.py:11: UserWarning: The usage of `scatter(reduce='max')` can be accelerated via the 'torch-scatter' package, but it was not found\n",
      "  warnings.warn(message)\n"
     ]
    },
    {
     "name": "stdout",
     "output_type": "stream",
     "text": [
      "Saving model prc\n",
      "Saving model acc\n",
      "Saving model roc\n",
      "Epoch: 5 (66.7043s), train_loss: 0.5266, val_loss: 0.5162, train_acc: 0.7332, val_acc:0.7398\n",
      "\t\ttrain_roc: 0.8112, val_roc: 0.8187, train_auprc: 0.7908, val_auprc: 0.8012\n"
     ]
    },
    {
     "name": "stderr",
     "output_type": "stream",
     "text": [
      "/home/namle/.local/lib/python3.10/site-packages/torch_geometric/warnings.py:11: UserWarning: The usage of `scatter(reduce='max')` can be accelerated via the 'torch-scatter' package, but it was not found\n",
      "  warnings.warn(message)\n"
     ]
    },
    {
     "name": "stdout",
     "output_type": "stream",
     "text": [
      "Saving model prc\n",
      "Saving model acc\n",
      "Saving model roc\n",
      "Epoch: 6 (66.5946s), train_loss: 0.5087, val_loss: 0.5049, train_acc: 0.7486, val_acc:0.7500\n",
      "\t\ttrain_roc: 0.8258, val_roc: 0.8280, train_auprc: 0.8046, val_auprc: 0.8058\n"
     ]
    },
    {
     "name": "stderr",
     "output_type": "stream",
     "text": [
      "/home/namle/.local/lib/python3.10/site-packages/torch_geometric/warnings.py:11: UserWarning: The usage of `scatter(reduce='max')` can be accelerated via the 'torch-scatter' package, but it was not found\n",
      "  warnings.warn(message)\n"
     ]
    },
    {
     "name": "stdout",
     "output_type": "stream",
     "text": [
      "Saving model prc\n",
      "Saving model acc\n",
      "Saving model roc\n",
      "Epoch: 7 (66.7925s), train_loss: 0.4956, val_loss: 0.4906, train_acc: 0.7589, val_acc:0.7631\n",
      "\t\ttrain_roc: 0.8368, val_roc: 0.8419, train_auprc: 0.8147, val_auprc: 0.8215\n"
     ]
    },
    {
     "name": "stderr",
     "output_type": "stream",
     "text": [
      "/home/namle/.local/lib/python3.10/site-packages/torch_geometric/warnings.py:11: UserWarning: The usage of `scatter(reduce='max')` can be accelerated via the 'torch-scatter' package, but it was not found\n",
      "  warnings.warn(message)\n"
     ]
    },
    {
     "name": "stdout",
     "output_type": "stream",
     "text": [
      "Saving model prc\n",
      "Saving model acc\n",
      "Saving model roc\n",
      "Epoch: 8 (66.7358s), train_loss: 0.4823, val_loss: 0.4854, train_acc: 0.7677, val_acc:0.7686\n",
      "\t\ttrain_roc: 0.8462, val_roc: 0.8444, train_auprc: 0.8250, val_auprc: 0.8230\n"
     ]
    },
    {
     "name": "stderr",
     "output_type": "stream",
     "text": [
      "/home/namle/.local/lib/python3.10/site-packages/torch_geometric/warnings.py:11: UserWarning: The usage of `scatter(reduce='max')` can be accelerated via the 'torch-scatter' package, but it was not found\n",
      "  warnings.warn(message)\n"
     ]
    },
    {
     "name": "stdout",
     "output_type": "stream",
     "text": [
      "Saving model prc\n",
      "Saving model acc\n",
      "Saving model roc\n",
      "Epoch: 9 (67.5175s), train_loss: 0.4768, val_loss: 0.4769, train_acc: 0.7715, val_acc:0.7743\n",
      "\t\ttrain_roc: 0.8507, val_roc: 0.8516, train_auprc: 0.8293, val_auprc: 0.8313\n"
     ]
    },
    {
     "name": "stderr",
     "output_type": "stream",
     "text": [
      "/home/namle/.local/lib/python3.10/site-packages/torch_geometric/warnings.py:11: UserWarning: The usage of `scatter(reduce='max')` can be accelerated via the 'torch-scatter' package, but it was not found\n",
      "  warnings.warn(message)\n"
     ]
    },
    {
     "name": "stdout",
     "output_type": "stream",
     "text": [
      "Saving model prc\n",
      "Saving model acc\n",
      "Saving model roc\n",
      "Epoch: 10 (66.0103s), train_loss: 0.4676, val_loss: 0.4723, train_acc: 0.7791, val_acc:0.7794\n",
      "\t\ttrain_roc: 0.8574, val_roc: 0.8556, train_auprc: 0.8362, val_auprc: 0.8343\n"
     ]
    },
    {
     "name": "stderr",
     "output_type": "stream",
     "text": [
      "/home/namle/.local/lib/python3.10/site-packages/torch_geometric/warnings.py:11: UserWarning: The usage of `scatter(reduce='max')` can be accelerated via the 'torch-scatter' package, but it was not found\n",
      "  warnings.warn(message)\n"
     ]
    },
    {
     "name": "stdout",
     "output_type": "stream",
     "text": [
      "Saving model prc\n",
      "Saving model acc\n",
      "Saving model roc\n",
      "Epoch: 11 (66.4601s), train_loss: 0.4576, val_loss: 0.4608, train_acc: 0.7852, val_acc:0.7812\n",
      "\t\ttrain_roc: 0.8637, val_roc: 0.8617, train_auprc: 0.8432, val_auprc: 0.8422\n"
     ]
    },
    {
     "name": "stderr",
     "output_type": "stream",
     "text": [
      "/home/namle/.local/lib/python3.10/site-packages/torch_geometric/warnings.py:11: UserWarning: The usage of `scatter(reduce='max')` can be accelerated via the 'torch-scatter' package, but it was not found\n",
      "  warnings.warn(message)\n"
     ]
    },
    {
     "name": "stdout",
     "output_type": "stream",
     "text": [
      "Saving model prc\n",
      "Saving model acc\n",
      "Saving model roc\n",
      "Epoch: 12 (66.5174s), train_loss: 0.4490, val_loss: 0.4474, train_acc: 0.7915, val_acc:0.7938\n",
      "\t\ttrain_roc: 0.8694, val_roc: 0.8719, train_auprc: 0.8494, val_auprc: 0.8515\n"
     ]
    },
    {
     "name": "stderr",
     "output_type": "stream",
     "text": [
      "/home/namle/.local/lib/python3.10/site-packages/torch_geometric/warnings.py:11: UserWarning: The usage of `scatter(reduce='max')` can be accelerated via the 'torch-scatter' package, but it was not found\n",
      "  warnings.warn(message)\n"
     ]
    },
    {
     "name": "stdout",
     "output_type": "stream",
     "text": [
      "Saving model prc\n",
      "Saving model acc\n",
      "Saving model roc\n",
      "Epoch: 13 (66.3621s), train_loss: 0.4427, val_loss: 0.4473, train_acc: 0.7951, val_acc:0.7954\n",
      "\t\ttrain_roc: 0.8738, val_roc: 0.8725, train_auprc: 0.8537, val_auprc: 0.8532\n"
     ]
    },
    {
     "name": "stderr",
     "output_type": "stream",
     "text": [
      "/home/namle/.local/lib/python3.10/site-packages/torch_geometric/warnings.py:11: UserWarning: The usage of `scatter(reduce='max')` can be accelerated via the 'torch-scatter' package, but it was not found\n",
      "  warnings.warn(message)\n"
     ]
    },
    {
     "name": "stdout",
     "output_type": "stream",
     "text": [
      "Saving model prc\n",
      "Saving model acc\n",
      "Saving model roc\n",
      "Epoch: 14 (66.1994s), train_loss: 0.4357, val_loss: 0.4405, train_acc: 0.8009, val_acc:0.7988\n",
      "\t\ttrain_roc: 0.8778, val_roc: 0.8755, train_auprc: 0.8584, val_auprc: 0.8559\n"
     ]
    },
    {
     "name": "stderr",
     "output_type": "stream",
     "text": [
      "/home/namle/.local/lib/python3.10/site-packages/torch_geometric/warnings.py:11: UserWarning: The usage of `scatter(reduce='max')` can be accelerated via the 'torch-scatter' package, but it was not found\n",
      "  warnings.warn(message)\n"
     ]
    },
    {
     "name": "stdout",
     "output_type": "stream",
     "text": [
      "Saving model prc\n",
      "Saving model acc\n",
      "Saving model roc\n",
      "Epoch: 15 (66.1799s), train_loss: 0.4285, val_loss: 0.4284, train_acc: 0.8059, val_acc:0.8073\n",
      "\t\ttrain_roc: 0.8821, val_roc: 0.8828, train_auprc: 0.8626, val_auprc: 0.8640\n"
     ]
    },
    {
     "name": "stderr",
     "output_type": "stream",
     "text": [
      "/home/namle/.local/lib/python3.10/site-packages/torch_geometric/warnings.py:11: UserWarning: The usage of `scatter(reduce='max')` can be accelerated via the 'torch-scatter' package, but it was not found\n",
      "  warnings.warn(message)\n"
     ]
    },
    {
     "name": "stdout",
     "output_type": "stream",
     "text": [
      "Saving model prc\n",
      "Saving model acc\n",
      "Saving model roc\n",
      "Epoch: 16 (66.3224s), train_loss: 0.4209, val_loss: 0.4222, train_acc: 0.8087, val_acc:0.8099\n",
      "\t\ttrain_roc: 0.8864, val_roc: 0.8865, train_auprc: 0.8678, val_auprc: 0.8684\n"
     ]
    },
    {
     "name": "stderr",
     "output_type": "stream",
     "text": [
      "/home/namle/.local/lib/python3.10/site-packages/torch_geometric/warnings.py:11: UserWarning: The usage of `scatter(reduce='max')` can be accelerated via the 'torch-scatter' package, but it was not found\n",
      "  warnings.warn(message)\n"
     ]
    },
    {
     "name": "stdout",
     "output_type": "stream",
     "text": [
      "Saving model prc\n",
      "Saving model acc\n",
      "Saving model roc\n",
      "Epoch: 17 (66.0301s), train_loss: 0.4138, val_loss: 0.4202, train_acc: 0.8141, val_acc:0.8107\n",
      "\t\ttrain_roc: 0.8907, val_roc: 0.8876, train_auprc: 0.8726, val_auprc: 0.8710\n"
     ]
    },
    {
     "name": "stderr",
     "output_type": "stream",
     "text": [
      "/home/namle/.local/lib/python3.10/site-packages/torch_geometric/warnings.py:11: UserWarning: The usage of `scatter(reduce='max')` can be accelerated via the 'torch-scatter' package, but it was not found\n",
      "  warnings.warn(message)\n"
     ]
    },
    {
     "name": "stdout",
     "output_type": "stream",
     "text": [
      "Saving model acc\n",
      "Saving model roc\n",
      "Epoch: 18 (66.1985s), train_loss: 0.4093, val_loss: 0.4207, train_acc: 0.8176, val_acc:0.8133\n",
      "\t\ttrain_roc: 0.8931, val_roc: 0.8889, train_auprc: 0.8739, val_auprc: 0.8696\n"
     ]
    },
    {
     "name": "stderr",
     "output_type": "stream",
     "text": [
      "/home/namle/.local/lib/python3.10/site-packages/torch_geometric/warnings.py:11: UserWarning: The usage of `scatter(reduce='max')` can be accelerated via the 'torch-scatter' package, but it was not found\n",
      "  warnings.warn(message)\n"
     ]
    },
    {
     "name": "stdout",
     "output_type": "stream",
     "text": [
      "Saving model prc\n",
      "Saving model acc\n",
      "Saving model roc\n",
      "Epoch: 19 (65.9911s), train_loss: 0.4041, val_loss: 0.4079, train_acc: 0.8225, val_acc:0.8196\n",
      "\t\ttrain_roc: 0.8965, val_roc: 0.8940, train_auprc: 0.8777, val_auprc: 0.8766\n"
     ]
    },
    {
     "name": "stderr",
     "output_type": "stream",
     "text": [
      "/home/namle/.local/lib/python3.10/site-packages/torch_geometric/warnings.py:11: UserWarning: The usage of `scatter(reduce='max')` can be accelerated via the 'torch-scatter' package, but it was not found\n",
      "  warnings.warn(message)\n"
     ]
    },
    {
     "name": "stdout",
     "output_type": "stream",
     "text": [
      "Saving model prc\n",
      "Saving model acc\n",
      "Saving model roc\n",
      "Epoch: 20 (66.0541s), train_loss: 0.3967, val_loss: 0.4016, train_acc: 0.8256, val_acc:0.8225\n",
      "\t\ttrain_roc: 0.8998, val_roc: 0.8971, train_auprc: 0.8817, val_auprc: 0.8813\n"
     ]
    },
    {
     "name": "stderr",
     "output_type": "stream",
     "text": [
      "/home/namle/.local/lib/python3.10/site-packages/torch_geometric/warnings.py:11: UserWarning: The usage of `scatter(reduce='max')` can be accelerated via the 'torch-scatter' package, but it was not found\n",
      "  warnings.warn(message)\n"
     ]
    },
    {
     "name": "stdout",
     "output_type": "stream",
     "text": [
      "Saving model acc\n",
      "Saving model roc\n",
      "Epoch: 21 (66.0681s), train_loss: 0.3928, val_loss: 0.3977, train_acc: 0.8264, val_acc:0.8255\n",
      "\t\ttrain_roc: 0.9016, val_roc: 0.8997, train_auprc: 0.8833, val_auprc: 0.8813\n"
     ]
    },
    {
     "name": "stderr",
     "output_type": "stream",
     "text": [
      "/home/namle/.local/lib/python3.10/site-packages/torch_geometric/warnings.py:11: UserWarning: The usage of `scatter(reduce='max')` can be accelerated via the 'torch-scatter' package, but it was not found\n",
      "  warnings.warn(message)\n"
     ]
    },
    {
     "name": "stdout",
     "output_type": "stream",
     "text": [
      "Saving model prc\n",
      "Saving model roc\n",
      "Epoch: 22 (65.9401s), train_loss: 0.3886, val_loss: 0.3973, train_acc: 0.8307, val_acc:0.8251\n",
      "\t\ttrain_roc: 0.9043, val_roc: 0.9019, train_auprc: 0.8860, val_auprc: 0.8825\n"
     ]
    },
    {
     "name": "stderr",
     "output_type": "stream",
     "text": [
      "/home/namle/.local/lib/python3.10/site-packages/torch_geometric/warnings.py:11: UserWarning: The usage of `scatter(reduce='max')` can be accelerated via the 'torch-scatter' package, but it was not found\n",
      "  warnings.warn(message)\n"
     ]
    },
    {
     "name": "stdout",
     "output_type": "stream",
     "text": [
      "Saving model prc\n",
      "Saving model acc\n",
      "Saving model roc\n",
      "Epoch: 23 (65.8925s), train_loss: 0.3822, val_loss: 0.3882, train_acc: 0.8329, val_acc:0.8297\n",
      "\t\ttrain_roc: 0.9075, val_roc: 0.9047, train_auprc: 0.8902, val_auprc: 0.8881\n"
     ]
    },
    {
     "name": "stderr",
     "output_type": "stream",
     "text": [
      "/home/namle/.local/lib/python3.10/site-packages/torch_geometric/warnings.py:11: UserWarning: The usage of `scatter(reduce='max')` can be accelerated via the 'torch-scatter' package, but it was not found\n",
      "  warnings.warn(message)\n"
     ]
    },
    {
     "name": "stdout",
     "output_type": "stream",
     "text": [
      "Epoch: 24 (66.0237s), train_loss: 0.3762, val_loss: 0.3897, train_acc: 0.8375, val_acc:0.8294\n",
      "\t\ttrain_roc: 0.9101, val_roc: 0.9035, train_auprc: 0.8928, val_auprc: 0.8866\n"
     ]
    },
    {
     "name": "stderr",
     "output_type": "stream",
     "text": [
      "/home/namle/.local/lib/python3.10/site-packages/torch_geometric/warnings.py:11: UserWarning: The usage of `scatter(reduce='max')` can be accelerated via the 'torch-scatter' package, but it was not found\n",
      "  warnings.warn(message)\n"
     ]
    },
    {
     "name": "stdout",
     "output_type": "stream",
     "text": [
      "Saving model prc\n",
      "Saving model acc\n",
      "Saving model roc\n",
      "Epoch: 25 (66.0382s), train_loss: 0.3715, val_loss: 0.3839, train_acc: 0.8401, val_acc:0.8313\n",
      "\t\ttrain_roc: 0.9123, val_roc: 0.9065, train_auprc: 0.8951, val_auprc: 0.8906\n"
     ]
    },
    {
     "name": "stderr",
     "output_type": "stream",
     "text": [
      "/home/namle/.local/lib/python3.10/site-packages/torch_geometric/warnings.py:11: UserWarning: The usage of `scatter(reduce='max')` can be accelerated via the 'torch-scatter' package, but it was not found\n",
      "  warnings.warn(message)\n"
     ]
    },
    {
     "name": "stdout",
     "output_type": "stream",
     "text": [
      "Saving model prc\n",
      "Saving model acc\n",
      "Saving model roc\n",
      "Epoch: 26 (65.9944s), train_loss: 0.3665, val_loss: 0.3805, train_acc: 0.8413, val_acc:0.8333\n",
      "\t\ttrain_roc: 0.9147, val_roc: 0.9094, train_auprc: 0.8982, val_auprc: 0.8938\n"
     ]
    },
    {
     "name": "stderr",
     "output_type": "stream",
     "text": [
      "/home/namle/.local/lib/python3.10/site-packages/torch_geometric/warnings.py:11: UserWarning: The usage of `scatter(reduce='max')` can be accelerated via the 'torch-scatter' package, but it was not found\n",
      "  warnings.warn(message)\n"
     ]
    },
    {
     "name": "stdout",
     "output_type": "stream",
     "text": [
      "Saving model acc\n",
      "Saving model roc\n",
      "Epoch: 27 (65.8636s), train_loss: 0.3616, val_loss: 0.3775, train_acc: 0.8439, val_acc:0.8375\n",
      "\t\ttrain_roc: 0.9167, val_roc: 0.9100, train_auprc: 0.9008, val_auprc: 0.8936\n"
     ]
    },
    {
     "name": "stderr",
     "output_type": "stream",
     "text": [
      "/home/namle/.local/lib/python3.10/site-packages/torch_geometric/warnings.py:11: UserWarning: The usage of `scatter(reduce='max')` can be accelerated via the 'torch-scatter' package, but it was not found\n",
      "  warnings.warn(message)\n"
     ]
    },
    {
     "name": "stdout",
     "output_type": "stream",
     "text": [
      "Saving model prc\n",
      "Saving model acc\n",
      "Saving model roc\n",
      "Epoch: 28 (65.8907s), train_loss: 0.3584, val_loss: 0.3725, train_acc: 0.8472, val_acc:0.8401\n",
      "\t\ttrain_roc: 0.9186, val_roc: 0.9134, train_auprc: 0.9021, val_auprc: 0.8968\n"
     ]
    },
    {
     "name": "stderr",
     "output_type": "stream",
     "text": [
      "/home/namle/.local/lib/python3.10/site-packages/torch_geometric/warnings.py:11: UserWarning: The usage of `scatter(reduce='max')` can be accelerated via the 'torch-scatter' package, but it was not found\n",
      "  warnings.warn(message)\n"
     ]
    },
    {
     "name": "stdout",
     "output_type": "stream",
     "text": [
      "Saving model prc\n",
      "Saving model acc\n",
      "Saving model roc\n",
      "Epoch: 29 (66.4062s), train_loss: 0.3537, val_loss: 0.3648, train_acc: 0.8492, val_acc:0.8453\n",
      "\t\ttrain_roc: 0.9205, val_roc: 0.9158, train_auprc: 0.9042, val_auprc: 0.8994\n"
     ]
    },
    {
     "name": "stderr",
     "output_type": "stream",
     "text": [
      "/home/namle/.local/lib/python3.10/site-packages/torch_geometric/warnings.py:11: UserWarning: The usage of `scatter(reduce='max')` can be accelerated via the 'torch-scatter' package, but it was not found\n",
      "  warnings.warn(message)\n"
     ]
    },
    {
     "name": "stdout",
     "output_type": "stream",
     "text": [
      "Saving model prc\n",
      "Epoch: 30 (66.3767s), train_loss: 0.3526, val_loss: 0.3775, train_acc: 0.8503, val_acc:0.8411\n",
      "\t\ttrain_roc: 0.9209, val_roc: 0.9147, train_auprc: 0.9039, val_auprc: 0.8997\n"
     ]
    },
    {
     "name": "stderr",
     "output_type": "stream",
     "text": [
      "/home/namle/.local/lib/python3.10/site-packages/torch_geometric/warnings.py:11: UserWarning: The usage of `scatter(reduce='max')` can be accelerated via the 'torch-scatter' package, but it was not found\n",
      "  warnings.warn(message)\n"
     ]
    },
    {
     "name": "stdout",
     "output_type": "stream",
     "text": [
      "Saving model prc\n",
      "Saving model acc\n",
      "Saving model roc\n",
      "Epoch: 31 (66.2596s), train_loss: 0.3471, val_loss: 0.3549, train_acc: 0.8537, val_acc:0.8502\n",
      "\t\ttrain_roc: 0.9234, val_roc: 0.9204, train_auprc: 0.9075, val_auprc: 0.9054\n"
     ]
    },
    {
     "name": "stderr",
     "output_type": "stream",
     "text": [
      "/home/namle/.local/lib/python3.10/site-packages/torch_geometric/warnings.py:11: UserWarning: The usage of `scatter(reduce='max')` can be accelerated via the 'torch-scatter' package, but it was not found\n",
      "  warnings.warn(message)\n"
     ]
    },
    {
     "name": "stdout",
     "output_type": "stream",
     "text": [
      "Saving model prc\n",
      "Saving model roc\n",
      "Epoch: 32 (66.3156s), train_loss: 0.3434, val_loss: 0.3545, train_acc: 0.8550, val_acc:0.8498\n",
      "\t\ttrain_roc: 0.9248, val_roc: 0.9208, train_auprc: 0.9088, val_auprc: 0.9074\n"
     ]
    },
    {
     "name": "stderr",
     "output_type": "stream",
     "text": [
      "/home/namle/.local/lib/python3.10/site-packages/torch_geometric/warnings.py:11: UserWarning: The usage of `scatter(reduce='max')` can be accelerated via the 'torch-scatter' package, but it was not found\n",
      "  warnings.warn(message)\n"
     ]
    },
    {
     "name": "stdout",
     "output_type": "stream",
     "text": [
      "Saving model prc\n",
      "Saving model acc\n",
      "Saving model roc\n",
      "Epoch: 33 (66.3810s), train_loss: 0.3404, val_loss: 0.3496, train_acc: 0.8562, val_acc:0.8538\n",
      "\t\ttrain_roc: 0.9261, val_roc: 0.9233, train_auprc: 0.9109, val_auprc: 0.9087\n"
     ]
    },
    {
     "name": "stderr",
     "output_type": "stream",
     "text": [
      "/home/namle/.local/lib/python3.10/site-packages/torch_geometric/warnings.py:11: UserWarning: The usage of `scatter(reduce='max')` can be accelerated via the 'torch-scatter' package, but it was not found\n",
      "  warnings.warn(message)\n"
     ]
    },
    {
     "name": "stdout",
     "output_type": "stream",
     "text": [
      "Saving model prc\n",
      "Saving model acc\n",
      "Saving model roc\n",
      "Epoch: 34 (66.0845s), train_loss: 0.3352, val_loss: 0.3481, train_acc: 0.8585, val_acc:0.8547\n",
      "\t\ttrain_roc: 0.9284, val_roc: 0.9239, train_auprc: 0.9132, val_auprc: 0.9102\n"
     ]
    },
    {
     "name": "stderr",
     "output_type": "stream",
     "text": [
      "/home/namle/.local/lib/python3.10/site-packages/torch_geometric/warnings.py:11: UserWarning: The usage of `scatter(reduce='max')` can be accelerated via the 'torch-scatter' package, but it was not found\n",
      "  warnings.warn(message)\n"
     ]
    },
    {
     "name": "stdout",
     "output_type": "stream",
     "text": [
      "Epoch: 35 (66.1047s), train_loss: 0.3322, val_loss: 0.3505, train_acc: 0.8607, val_acc:0.8506\n",
      "\t\ttrain_roc: 0.9298, val_roc: 0.9223, train_auprc: 0.9144, val_auprc: 0.9078\n"
     ]
    },
    {
     "name": "stderr",
     "output_type": "stream",
     "text": [
      "/home/namle/.local/lib/python3.10/site-packages/torch_geometric/warnings.py:11: UserWarning: The usage of `scatter(reduce='max')` can be accelerated via the 'torch-scatter' package, but it was not found\n",
      "  warnings.warn(message)\n"
     ]
    },
    {
     "name": "stdout",
     "output_type": "stream",
     "text": [
      "Saving model prc\n",
      "Saving model acc\n",
      "Saving model roc\n",
      "Epoch: 36 (65.9757s), train_loss: 0.3273, val_loss: 0.3385, train_acc: 0.8636, val_acc:0.8595\n",
      "\t\ttrain_roc: 0.9313, val_roc: 0.9270, train_auprc: 0.9167, val_auprc: 0.9136\n"
     ]
    },
    {
     "name": "stderr",
     "output_type": "stream",
     "text": [
      "/home/namle/.local/lib/python3.10/site-packages/torch_geometric/warnings.py:11: UserWarning: The usage of `scatter(reduce='max')` can be accelerated via the 'torch-scatter' package, but it was not found\n",
      "  warnings.warn(message)\n"
     ]
    },
    {
     "name": "stdout",
     "output_type": "stream",
     "text": [
      "Saving model roc\n",
      "Epoch: 37 (66.0721s), train_loss: 0.3242, val_loss: 0.3390, train_acc: 0.8648, val_acc:0.8591\n",
      "\t\ttrain_roc: 0.9328, val_roc: 0.9273, train_auprc: 0.9181, val_auprc: 0.9130\n"
     ]
    },
    {
     "name": "stderr",
     "output_type": "stream",
     "text": [
      "/home/namle/.local/lib/python3.10/site-packages/torch_geometric/warnings.py:11: UserWarning: The usage of `scatter(reduce='max')` can be accelerated via the 'torch-scatter' package, but it was not found\n",
      "  warnings.warn(message)\n"
     ]
    },
    {
     "name": "stdout",
     "output_type": "stream",
     "text": [
      "Epoch: 38 (65.9894s), train_loss: 0.3211, val_loss: 0.3427, train_acc: 0.8671, val_acc:0.8564\n",
      "\t\ttrain_roc: 0.9342, val_roc: 0.9263, train_auprc: 0.9191, val_auprc: 0.9122\n"
     ]
    },
    {
     "name": "stderr",
     "output_type": "stream",
     "text": [
      "/home/namle/.local/lib/python3.10/site-packages/torch_geometric/warnings.py:11: UserWarning: The usage of `scatter(reduce='max')` can be accelerated via the 'torch-scatter' package, but it was not found\n",
      "  warnings.warn(message)\n"
     ]
    },
    {
     "name": "stdout",
     "output_type": "stream",
     "text": [
      "Saving model prc\n",
      "Saving model roc\n",
      "Epoch: 39 (66.2053s), train_loss: 0.3175, val_loss: 0.3389, train_acc: 0.8688, val_acc:0.8586\n",
      "\t\ttrain_roc: 0.9352, val_roc: 0.9276, train_auprc: 0.9208, val_auprc: 0.9138\n"
     ]
    },
    {
     "name": "stderr",
     "output_type": "stream",
     "text": [
      "/home/namle/.local/lib/python3.10/site-packages/torch_geometric/warnings.py:11: UserWarning: The usage of `scatter(reduce='max')` can be accelerated via the 'torch-scatter' package, but it was not found\n",
      "  warnings.warn(message)\n"
     ]
    },
    {
     "name": "stdout",
     "output_type": "stream",
     "text": [
      "Saving model prc\n",
      "Saving model roc\n",
      "Epoch: 40 (66.1477s), train_loss: 0.3177, val_loss: 0.3351, train_acc: 0.8684, val_acc:0.8594\n",
      "\t\ttrain_roc: 0.9352, val_roc: 0.9302, train_auprc: 0.9204, val_auprc: 0.9163\n"
     ]
    },
    {
     "name": "stderr",
     "output_type": "stream",
     "text": [
      "/home/namle/.local/lib/python3.10/site-packages/torch_geometric/warnings.py:11: UserWarning: The usage of `scatter(reduce='max')` can be accelerated via the 'torch-scatter' package, but it was not found\n",
      "  warnings.warn(message)\n"
     ]
    },
    {
     "name": "stdout",
     "output_type": "stream",
     "text": [
      "Saving model prc\n",
      "Saving model acc\n",
      "Saving model roc\n",
      "Epoch: 41 (66.0295s), train_loss: 0.3133, val_loss: 0.3288, train_acc: 0.8708, val_acc:0.8624\n",
      "\t\ttrain_roc: 0.9371, val_roc: 0.9316, train_auprc: 0.9225, val_auprc: 0.9189\n"
     ]
    },
    {
     "name": "stderr",
     "output_type": "stream",
     "text": [
      "/home/namle/.local/lib/python3.10/site-packages/torch_geometric/warnings.py:11: UserWarning: The usage of `scatter(reduce='max')` can be accelerated via the 'torch-scatter' package, but it was not found\n",
      "  warnings.warn(message)\n"
     ]
    },
    {
     "name": "stdout",
     "output_type": "stream",
     "text": [
      "Epoch: 42 (66.1977s), train_loss: 0.3128, val_loss: 0.3321, train_acc: 0.8715, val_acc:0.8614\n",
      "\t\ttrain_roc: 0.9372, val_roc: 0.9305, train_auprc: 0.9226, val_auprc: 0.9158\n"
     ]
    },
    {
     "name": "stderr",
     "output_type": "stream",
     "text": [
      "/home/namle/.local/lib/python3.10/site-packages/torch_geometric/warnings.py:11: UserWarning: The usage of `scatter(reduce='max')` can be accelerated via the 'torch-scatter' package, but it was not found\n",
      "  warnings.warn(message)\n"
     ]
    },
    {
     "name": "stdout",
     "output_type": "stream",
     "text": [
      "Saving model prc\n",
      "Saving model acc\n",
      "Saving model roc\n",
      "Epoch: 43 (66.0626s), train_loss: 0.3076, val_loss: 0.3266, train_acc: 0.8738, val_acc:0.8650\n",
      "\t\ttrain_roc: 0.9391, val_roc: 0.9333, train_auprc: 0.9252, val_auprc: 0.9204\n"
     ]
    },
    {
     "name": "stderr",
     "output_type": "stream",
     "text": [
      "/home/namle/.local/lib/python3.10/site-packages/torch_geometric/warnings.py:11: UserWarning: The usage of `scatter(reduce='max')` can be accelerated via the 'torch-scatter' package, but it was not found\n",
      "  warnings.warn(message)\n"
     ]
    },
    {
     "name": "stdout",
     "output_type": "stream",
     "text": [
      "Epoch: 44 (66.1484s), train_loss: 0.3047, val_loss: 0.3323, train_acc: 0.8747, val_acc:0.8613\n",
      "\t\ttrain_roc: 0.9401, val_roc: 0.9308, train_auprc: 0.9265, val_auprc: 0.9175\n"
     ]
    },
    {
     "name": "stderr",
     "output_type": "stream",
     "text": [
      "/home/namle/.local/lib/python3.10/site-packages/torch_geometric/warnings.py:11: UserWarning: The usage of `scatter(reduce='max')` can be accelerated via the 'torch-scatter' package, but it was not found\n",
      "  warnings.warn(message)\n"
     ]
    },
    {
     "name": "stdout",
     "output_type": "stream",
     "text": [
      "Saving model acc\n",
      "Epoch: 45 (66.2486s), train_loss: 0.3046, val_loss: 0.3264, train_acc: 0.8751, val_acc:0.8653\n",
      "\t\ttrain_roc: 0.9403, val_roc: 0.9328, train_auprc: 0.9262, val_auprc: 0.9201\n"
     ]
    },
    {
     "name": "stderr",
     "output_type": "stream",
     "text": [
      "/home/namle/.local/lib/python3.10/site-packages/torch_geometric/warnings.py:11: UserWarning: The usage of `scatter(reduce='max')` can be accelerated via the 'torch-scatter' package, but it was not found\n",
      "  warnings.warn(message)\n"
     ]
    },
    {
     "name": "stdout",
     "output_type": "stream",
     "text": [
      "Saving model prc\n",
      "Saving model acc\n",
      "Saving model roc\n",
      "Epoch: 46 (66.2655s), train_loss: 0.2995, val_loss: 0.3200, train_acc: 0.8777, val_acc:0.8688\n",
      "\t\ttrain_roc: 0.9419, val_roc: 0.9351, train_auprc: 0.9287, val_auprc: 0.9224\n"
     ]
    },
    {
     "name": "stderr",
     "output_type": "stream",
     "text": [
      "/home/namle/.local/lib/python3.10/site-packages/torch_geometric/warnings.py:11: UserWarning: The usage of `scatter(reduce='max')` can be accelerated via the 'torch-scatter' package, but it was not found\n",
      "  warnings.warn(message)\n"
     ]
    },
    {
     "name": "stdout",
     "output_type": "stream",
     "text": [
      "Saving model roc\n",
      "Epoch: 47 (66.1820s), train_loss: 0.2979, val_loss: 0.3204, train_acc: 0.8790, val_acc:0.8684\n",
      "\t\ttrain_roc: 0.9426, val_roc: 0.9359, train_auprc: 0.9291, val_auprc: 0.9223\n"
     ]
    },
    {
     "name": "stderr",
     "output_type": "stream",
     "text": [
      "/home/namle/.local/lib/python3.10/site-packages/torch_geometric/warnings.py:11: UserWarning: The usage of `scatter(reduce='max')` can be accelerated via the 'torch-scatter' package, but it was not found\n",
      "  warnings.warn(message)\n"
     ]
    },
    {
     "name": "stdout",
     "output_type": "stream",
     "text": [
      "Saving model prc\n",
      "Saving model acc\n",
      "Saving model roc\n",
      "Epoch: 48 (66.2506s), train_loss: 0.2952, val_loss: 0.3151, train_acc: 0.8799, val_acc:0.8716\n",
      "\t\ttrain_roc: 0.9435, val_roc: 0.9373, train_auprc: 0.9300, val_auprc: 0.9249\n"
     ]
    },
    {
     "name": "stderr",
     "output_type": "stream",
     "text": [
      "/home/namle/.local/lib/python3.10/site-packages/torch_geometric/warnings.py:11: UserWarning: The usage of `scatter(reduce='max')` can be accelerated via the 'torch-scatter' package, but it was not found\n",
      "  warnings.warn(message)\n"
     ]
    },
    {
     "name": "stdout",
     "output_type": "stream",
     "text": [
      "Saving model prc\n",
      "Saving model acc\n",
      "Saving model roc\n",
      "Epoch: 49 (66.1562s), train_loss: 0.2935, val_loss: 0.3118, train_acc: 0.8809, val_acc:0.8737\n",
      "\t\ttrain_roc: 0.9442, val_roc: 0.9386, train_auprc: 0.9309, val_auprc: 0.9267\n"
     ]
    },
    {
     "name": "stderr",
     "output_type": "stream",
     "text": [
      "/home/namle/.local/lib/python3.10/site-packages/torch_geometric/warnings.py:11: UserWarning: The usage of `scatter(reduce='max')` can be accelerated via the 'torch-scatter' package, but it was not found\n",
      "  warnings.warn(message)\n"
     ]
    },
    {
     "name": "stdout",
     "output_type": "stream",
     "text": [
      "Epoch: 50 (66.1802s), train_loss: 0.2883, val_loss: 0.3177, train_acc: 0.8826, val_acc:0.8706\n",
      "\t\ttrain_roc: 0.9459, val_roc: 0.9369, train_auprc: 0.9334, val_auprc: 0.9245\n"
     ]
    },
    {
     "name": "stderr",
     "output_type": "stream",
     "text": [
      "/home/namle/.local/lib/python3.10/site-packages/torch_geometric/warnings.py:11: UserWarning: The usage of `scatter(reduce='max')` can be accelerated via the 'torch-scatter' package, but it was not found\n",
      "  warnings.warn(message)\n"
     ]
    },
    {
     "name": "stdout",
     "output_type": "stream",
     "text": [
      "Epoch: 51 (66.2916s), train_loss: 0.2894, val_loss: 0.3118, train_acc: 0.8829, val_acc:0.8733\n",
      "\t\ttrain_roc: 0.9453, val_roc: 0.9382, train_auprc: 0.9324, val_auprc: 0.9264\n"
     ]
    },
    {
     "name": "stderr",
     "output_type": "stream",
     "text": [
      "/home/namle/.local/lib/python3.10/site-packages/torch_geometric/warnings.py:11: UserWarning: The usage of `scatter(reduce='max')` can be accelerated via the 'torch-scatter' package, but it was not found\n",
      "  warnings.warn(message)\n"
     ]
    },
    {
     "name": "stdout",
     "output_type": "stream",
     "text": [
      "Epoch: 52 (66.0949s), train_loss: 0.2856, val_loss: 0.3132, train_acc: 0.8850, val_acc:0.8736\n",
      "\t\ttrain_roc: 0.9470, val_roc: 0.9380, train_auprc: 0.9343, val_auprc: 0.9247\n"
     ]
    },
    {
     "name": "stderr",
     "output_type": "stream",
     "text": [
      "/home/namle/.local/lib/python3.10/site-packages/torch_geometric/warnings.py:11: UserWarning: The usage of `scatter(reduce='max')` can be accelerated via the 'torch-scatter' package, but it was not found\n",
      "  warnings.warn(message)\n"
     ]
    },
    {
     "name": "stdout",
     "output_type": "stream",
     "text": [
      "Saving model prc\n",
      "Saving model acc\n",
      "Saving model roc\n",
      "Epoch: 53 (66.2748s), train_loss: 0.2834, val_loss: 0.3052, train_acc: 0.8864, val_acc:0.8782\n",
      "\t\ttrain_roc: 0.9477, val_roc: 0.9411, train_auprc: 0.9350, val_auprc: 0.9297\n"
     ]
    },
    {
     "name": "stderr",
     "output_type": "stream",
     "text": [
      "/home/namle/.local/lib/python3.10/site-packages/torch_geometric/warnings.py:11: UserWarning: The usage of `scatter(reduce='max')` can be accelerated via the 'torch-scatter' package, but it was not found\n",
      "  warnings.warn(message)\n"
     ]
    },
    {
     "name": "stdout",
     "output_type": "stream",
     "text": [
      "Saving model prc\n",
      "Saving model roc\n",
      "Epoch: 54 (66.1982s), train_loss: 0.2806, val_loss: 0.3050, train_acc: 0.8872, val_acc:0.8752\n",
      "\t\ttrain_roc: 0.9485, val_roc: 0.9419, train_auprc: 0.9359, val_auprc: 0.9301\n"
     ]
    },
    {
     "name": "stderr",
     "output_type": "stream",
     "text": [
      "/home/namle/.local/lib/python3.10/site-packages/torch_geometric/warnings.py:11: UserWarning: The usage of `scatter(reduce='max')` can be accelerated via the 'torch-scatter' package, but it was not found\n",
      "  warnings.warn(message)\n"
     ]
    },
    {
     "name": "stdout",
     "output_type": "stream",
     "text": [
      "Saving model prc\n",
      "Saving model acc\n",
      "Saving model roc\n",
      "Epoch: 55 (66.3709s), train_loss: 0.2765, val_loss: 0.3021, train_acc: 0.8882, val_acc:0.8796\n",
      "\t\ttrain_roc: 0.9499, val_roc: 0.9425, train_auprc: 0.9384, val_auprc: 0.9302\n"
     ]
    },
    {
     "name": "stderr",
     "output_type": "stream",
     "text": [
      "/home/namle/.local/lib/python3.10/site-packages/torch_geometric/warnings.py:11: UserWarning: The usage of `scatter(reduce='max')` can be accelerated via the 'torch-scatter' package, but it was not found\n",
      "  warnings.warn(message)\n"
     ]
    },
    {
     "name": "stdout",
     "output_type": "stream",
     "text": [
      "Saving model prc\n",
      "Saving model acc\n",
      "Saving model roc\n",
      "Epoch: 56 (65.9671s), train_loss: 0.2781, val_loss: 0.3018, train_acc: 0.8881, val_acc:0.8807\n",
      "\t\ttrain_roc: 0.9491, val_roc: 0.9429, train_auprc: 0.9364, val_auprc: 0.9311\n"
     ]
    },
    {
     "name": "stderr",
     "output_type": "stream",
     "text": [
      "/home/namle/.local/lib/python3.10/site-packages/torch_geometric/warnings.py:11: UserWarning: The usage of `scatter(reduce='max')` can be accelerated via the 'torch-scatter' package, but it was not found\n",
      "  warnings.warn(message)\n"
     ]
    },
    {
     "name": "stdout",
     "output_type": "stream",
     "text": [
      "Epoch: 57 (66.1115s), train_loss: 0.2753, val_loss: 0.3015, train_acc: 0.8901, val_acc:0.8795\n",
      "\t\ttrain_roc: 0.9506, val_roc: 0.9425, train_auprc: 0.9384, val_auprc: 0.9309\n"
     ]
    },
    {
     "name": "stderr",
     "output_type": "stream",
     "text": [
      "/home/namle/.local/lib/python3.10/site-packages/torch_geometric/warnings.py:11: UserWarning: The usage of `scatter(reduce='max')` can be accelerated via the 'torch-scatter' package, but it was not found\n",
      "  warnings.warn(message)\n"
     ]
    },
    {
     "name": "stdout",
     "output_type": "stream",
     "text": [
      "Saving model prc\n",
      "Saving model acc\n",
      "Saving model roc\n",
      "Epoch: 58 (66.1656s), train_loss: 0.2718, val_loss: 0.2943, train_acc: 0.8915, val_acc:0.8827\n",
      "\t\ttrain_roc: 0.9516, val_roc: 0.9450, train_auprc: 0.9401, val_auprc: 0.9347\n"
     ]
    },
    {
     "name": "stderr",
     "output_type": "stream",
     "text": [
      "/home/namle/.local/lib/python3.10/site-packages/torch_geometric/warnings.py:11: UserWarning: The usage of `scatter(reduce='max')` can be accelerated via the 'torch-scatter' package, but it was not found\n",
      "  warnings.warn(message)\n"
     ]
    },
    {
     "name": "stdout",
     "output_type": "stream",
     "text": [
      "Epoch: 59 (66.7801s), train_loss: 0.2720, val_loss: 0.2968, train_acc: 0.8917, val_acc:0.8820\n",
      "\t\ttrain_roc: 0.9512, val_roc: 0.9445, train_auprc: 0.9388, val_auprc: 0.9337\n"
     ]
    },
    {
     "name": "stderr",
     "output_type": "stream",
     "text": [
      "/home/namle/.local/lib/python3.10/site-packages/torch_geometric/warnings.py:11: UserWarning: The usage of `scatter(reduce='max')` can be accelerated via the 'torch-scatter' package, but it was not found\n",
      "  warnings.warn(message)\n"
     ]
    },
    {
     "name": "stdout",
     "output_type": "stream",
     "text": [
      "Epoch: 60 (66.1975s), train_loss: 0.2688, val_loss: 0.2974, train_acc: 0.8918, val_acc:0.8826\n",
      "\t\ttrain_roc: 0.9524, val_roc: 0.9448, train_auprc: 0.9413, val_auprc: 0.9336\n"
     ]
    },
    {
     "name": "stderr",
     "output_type": "stream",
     "text": [
      "/home/namle/.local/lib/python3.10/site-packages/torch_geometric/warnings.py:11: UserWarning: The usage of `scatter(reduce='max')` can be accelerated via the 'torch-scatter' package, but it was not found\n",
      "  warnings.warn(message)\n"
     ]
    },
    {
     "name": "stdout",
     "output_type": "stream",
     "text": [
      "Epoch: 61 (66.0963s), train_loss: 0.2669, val_loss: 0.2978, train_acc: 0.8935, val_acc:0.8822\n",
      "\t\ttrain_roc: 0.9529, val_roc: 0.9444, train_auprc: 0.9419, val_auprc: 0.9334\n"
     ]
    },
    {
     "name": "stderr",
     "output_type": "stream",
     "text": [
      "/home/namle/.local/lib/python3.10/site-packages/torch_geometric/warnings.py:11: UserWarning: The usage of `scatter(reduce='max')` can be accelerated via the 'torch-scatter' package, but it was not found\n",
      "  warnings.warn(message)\n"
     ]
    },
    {
     "name": "stdout",
     "output_type": "stream",
     "text": [
      "Epoch: 62 (66.0549s), train_loss: 0.2647, val_loss: 0.2976, train_acc: 0.8938, val_acc:0.8827\n",
      "\t\ttrain_roc: 0.9537, val_roc: 0.9440, train_auprc: 0.9427, val_auprc: 0.9321\n"
     ]
    },
    {
     "name": "stderr",
     "output_type": "stream",
     "text": [
      "/home/namle/.local/lib/python3.10/site-packages/torch_geometric/warnings.py:11: UserWarning: The usage of `scatter(reduce='max')` can be accelerated via the 'torch-scatter' package, but it was not found\n",
      "  warnings.warn(message)\n"
     ]
    },
    {
     "name": "stdout",
     "output_type": "stream",
     "text": [
      "Saving model acc\n",
      "Saving model roc\n",
      "Epoch: 63 (66.2272s), train_loss: 0.2661, val_loss: 0.2945, train_acc: 0.8948, val_acc:0.8844\n",
      "\t\ttrain_roc: 0.9532, val_roc: 0.9453, train_auprc: 0.9415, val_auprc: 0.9344\n"
     ]
    },
    {
     "name": "stderr",
     "output_type": "stream",
     "text": [
      "/home/namle/.local/lib/python3.10/site-packages/torch_geometric/warnings.py:11: UserWarning: The usage of `scatter(reduce='max')` can be accelerated via the 'torch-scatter' package, but it was not found\n",
      "  warnings.warn(message)\n"
     ]
    },
    {
     "name": "stdout",
     "output_type": "stream",
     "text": [
      "Saving model prc\n",
      "Saving model roc\n",
      "Epoch: 64 (66.4150s), train_loss: 0.2601, val_loss: 0.2958, train_acc: 0.8970, val_acc:0.8816\n",
      "\t\ttrain_roc: 0.9551, val_roc: 0.9465, train_auprc: 0.9440, val_auprc: 0.9359\n"
     ]
    },
    {
     "name": "stderr",
     "output_type": "stream",
     "text": [
      "/home/namle/.local/lib/python3.10/site-packages/torch_geometric/warnings.py:11: UserWarning: The usage of `scatter(reduce='max')` can be accelerated via the 'torch-scatter' package, but it was not found\n",
      "  warnings.warn(message)\n"
     ]
    },
    {
     "name": "stdout",
     "output_type": "stream",
     "text": [
      "Epoch: 65 (66.2476s), train_loss: 0.2605, val_loss: 0.2941, train_acc: 0.8971, val_acc:0.8835\n",
      "\t\ttrain_roc: 0.9547, val_roc: 0.9458, train_auprc: 0.9435, val_auprc: 0.9349\n"
     ]
    },
    {
     "name": "stderr",
     "output_type": "stream",
     "text": [
      "/home/namle/.local/lib/python3.10/site-packages/torch_geometric/warnings.py:11: UserWarning: The usage of `scatter(reduce='max')` can be accelerated via the 'torch-scatter' package, but it was not found\n",
      "  warnings.warn(message)\n"
     ]
    },
    {
     "name": "stdout",
     "output_type": "stream",
     "text": [
      "Saving model prc\n",
      "Saving model roc\n",
      "Epoch: 66 (66.2732s), train_loss: 0.2602, val_loss: 0.2935, train_acc: 0.8973, val_acc:0.8837\n",
      "\t\ttrain_roc: 0.9551, val_roc: 0.9472, train_auprc: 0.9439, val_auprc: 0.9365\n"
     ]
    },
    {
     "name": "stderr",
     "output_type": "stream",
     "text": [
      "/home/namle/.local/lib/python3.10/site-packages/torch_geometric/warnings.py:11: UserWarning: The usage of `scatter(reduce='max')` can be accelerated via the 'torch-scatter' package, but it was not found\n",
      "  warnings.warn(message)\n"
     ]
    },
    {
     "name": "stdout",
     "output_type": "stream",
     "text": [
      "Saving model prc\n",
      "Saving model acc\n",
      "Saving model roc\n",
      "Epoch: 67 (66.4632s), train_loss: 0.2590, val_loss: 0.2875, train_acc: 0.8981, val_acc:0.8862\n",
      "\t\ttrain_roc: 0.9554, val_roc: 0.9479, train_auprc: 0.9440, val_auprc: 0.9379\n"
     ]
    },
    {
     "name": "stderr",
     "output_type": "stream",
     "text": [
      "/home/namle/.local/lib/python3.10/site-packages/torch_geometric/warnings.py:11: UserWarning: The usage of `scatter(reduce='max')` can be accelerated via the 'torch-scatter' package, but it was not found\n",
      "  warnings.warn(message)\n"
     ]
    },
    {
     "name": "stdout",
     "output_type": "stream",
     "text": [
      "Saving model prc\n",
      "Saving model acc\n",
      "Saving model roc\n",
      "Epoch: 68 (66.1045s), train_loss: 0.2547, val_loss: 0.2866, train_acc: 0.8999, val_acc:0.8872\n",
      "\t\ttrain_roc: 0.9566, val_roc: 0.9487, train_auprc: 0.9456, val_auprc: 0.9392\n"
     ]
    },
    {
     "name": "stderr",
     "output_type": "stream",
     "text": [
      "/home/namle/.local/lib/python3.10/site-packages/torch_geometric/warnings.py:11: UserWarning: The usage of `scatter(reduce='max')` can be accelerated via the 'torch-scatter' package, but it was not found\n",
      "  warnings.warn(message)\n"
     ]
    },
    {
     "name": "stdout",
     "output_type": "stream",
     "text": [
      "Saving model acc\n",
      "Epoch: 69 (66.3425s), train_loss: 0.2524, val_loss: 0.2872, train_acc: 0.9003, val_acc:0.8881\n",
      "\t\ttrain_roc: 0.9576, val_roc: 0.9487, train_auprc: 0.9472, val_auprc: 0.9386\n"
     ]
    },
    {
     "name": "stderr",
     "output_type": "stream",
     "text": [
      "/home/namle/.local/lib/python3.10/site-packages/torch_geometric/warnings.py:11: UserWarning: The usage of `scatter(reduce='max')` can be accelerated via the 'torch-scatter' package, but it was not found\n",
      "  warnings.warn(message)\n"
     ]
    },
    {
     "name": "stdout",
     "output_type": "stream",
     "text": [
      "Epoch: 70 (66.2055s), train_loss: 0.2526, val_loss: 0.2873, train_acc: 0.9003, val_acc:0.8856\n",
      "\t\ttrain_roc: 0.9573, val_roc: 0.9486, train_auprc: 0.9465, val_auprc: 0.9382\n"
     ]
    },
    {
     "name": "stderr",
     "output_type": "stream",
     "text": [
      "/home/namle/.local/lib/python3.10/site-packages/torch_geometric/warnings.py:11: UserWarning: The usage of `scatter(reduce='max')` can be accelerated via the 'torch-scatter' package, but it was not found\n",
      "  warnings.warn(message)\n"
     ]
    },
    {
     "name": "stdout",
     "output_type": "stream",
     "text": [
      "Saving model prc\n",
      "Saving model acc\n",
      "Saving model roc\n",
      "Epoch: 71 (66.2679s), train_loss: 0.2514, val_loss: 0.2860, train_acc: 0.9007, val_acc:0.8888\n",
      "\t\ttrain_roc: 0.9578, val_roc: 0.9495, train_auprc: 0.9472, val_auprc: 0.9399\n"
     ]
    },
    {
     "name": "stderr",
     "output_type": "stream",
     "text": [
      "/home/namle/.local/lib/python3.10/site-packages/torch_geometric/warnings.py:11: UserWarning: The usage of `scatter(reduce='max')` can be accelerated via the 'torch-scatter' package, but it was not found\n",
      "  warnings.warn(message)\n"
     ]
    },
    {
     "name": "stdout",
     "output_type": "stream",
     "text": [
      "Epoch: 72 (66.0193s), train_loss: 0.2485, val_loss: 0.2888, train_acc: 0.9024, val_acc:0.8870\n",
      "\t\ttrain_roc: 0.9585, val_roc: 0.9480, train_auprc: 0.9480, val_auprc: 0.9368\n"
     ]
    },
    {
     "name": "stderr",
     "output_type": "stream",
     "text": [
      "/home/namle/.local/lib/python3.10/site-packages/torch_geometric/warnings.py:11: UserWarning: The usage of `scatter(reduce='max')` can be accelerated via the 'torch-scatter' package, but it was not found\n",
      "  warnings.warn(message)\n"
     ]
    },
    {
     "name": "stdout",
     "output_type": "stream",
     "text": [
      "Saving model roc\n",
      "Epoch: 73 (66.2461s), train_loss: 0.2486, val_loss: 0.2845, train_acc: 0.9019, val_acc:0.8881\n",
      "\t\ttrain_roc: 0.9584, val_roc: 0.9498, train_auprc: 0.9480, val_auprc: 0.9398\n"
     ]
    },
    {
     "name": "stderr",
     "output_type": "stream",
     "text": [
      "/home/namle/.local/lib/python3.10/site-packages/torch_geometric/warnings.py:11: UserWarning: The usage of `scatter(reduce='max')` can be accelerated via the 'torch-scatter' package, but it was not found\n",
      "  warnings.warn(message)\n"
     ]
    },
    {
     "name": "stdout",
     "output_type": "stream",
     "text": [
      "Saving model prc\n",
      "Saving model acc\n",
      "Epoch: 74 (66.2202s), train_loss: 0.2481, val_loss: 0.2845, train_acc: 0.9027, val_acc:0.8892\n",
      "\t\ttrain_roc: 0.9588, val_roc: 0.9498, train_auprc: 0.9482, val_auprc: 0.9405\n"
     ]
    },
    {
     "name": "stderr",
     "output_type": "stream",
     "text": [
      "/home/namle/.local/lib/python3.10/site-packages/torch_geometric/warnings.py:11: UserWarning: The usage of `scatter(reduce='max')` can be accelerated via the 'torch-scatter' package, but it was not found\n",
      "  warnings.warn(message)\n"
     ]
    },
    {
     "name": "stdout",
     "output_type": "stream",
     "text": [
      "Saving model prc\n",
      "Saving model acc\n",
      "Saving model roc\n",
      "Epoch: 75 (66.3601s), train_loss: 0.2484, val_loss: 0.2846, train_acc: 0.9028, val_acc:0.8898\n",
      "\t\ttrain_roc: 0.9585, val_roc: 0.9503, train_auprc: 0.9478, val_auprc: 0.9410\n"
     ]
    },
    {
     "name": "stderr",
     "output_type": "stream",
     "text": [
      "/home/namle/.local/lib/python3.10/site-packages/torch_geometric/warnings.py:11: UserWarning: The usage of `scatter(reduce='max')` can be accelerated via the 'torch-scatter' package, but it was not found\n",
      "  warnings.warn(message)\n"
     ]
    },
    {
     "name": "stdout",
     "output_type": "stream",
     "text": [
      "Saving model acc\n",
      "Epoch: 76 (66.1917s), train_loss: 0.2451, val_loss: 0.2845, train_acc: 0.9040, val_acc:0.8902\n",
      "\t\ttrain_roc: 0.9597, val_roc: 0.9495, train_auprc: 0.9494, val_auprc: 0.9392\n"
     ]
    },
    {
     "name": "stderr",
     "output_type": "stream",
     "text": [
      "/home/namle/.local/lib/python3.10/site-packages/torch_geometric/warnings.py:11: UserWarning: The usage of `scatter(reduce='max')` can be accelerated via the 'torch-scatter' package, but it was not found\n",
      "  warnings.warn(message)\n"
     ]
    },
    {
     "name": "stdout",
     "output_type": "stream",
     "text": [
      "Saving model prc\n",
      "Saving model acc\n",
      "Saving model roc\n",
      "Epoch: 77 (66.2769s), train_loss: 0.2434, val_loss: 0.2792, train_acc: 0.9041, val_acc:0.8920\n",
      "\t\ttrain_roc: 0.9600, val_roc: 0.9514, train_auprc: 0.9502, val_auprc: 0.9429\n"
     ]
    },
    {
     "name": "stderr",
     "output_type": "stream",
     "text": [
      "/home/namle/.local/lib/python3.10/site-packages/torch_geometric/warnings.py:11: UserWarning: The usage of `scatter(reduce='max')` can be accelerated via the 'torch-scatter' package, but it was not found\n",
      "  warnings.warn(message)\n"
     ]
    },
    {
     "name": "stdout",
     "output_type": "stream",
     "text": [
      "Epoch: 78 (66.2591s), train_loss: 0.2430, val_loss: 0.2815, train_acc: 0.9048, val_acc:0.8920\n",
      "\t\ttrain_roc: 0.9602, val_roc: 0.9505, train_auprc: 0.9501, val_auprc: 0.9411\n"
     ]
    },
    {
     "name": "stderr",
     "output_type": "stream",
     "text": [
      "/home/namle/.local/lib/python3.10/site-packages/torch_geometric/warnings.py:11: UserWarning: The usage of `scatter(reduce='max')` can be accelerated via the 'torch-scatter' package, but it was not found\n",
      "  warnings.warn(message)\n"
     ]
    },
    {
     "name": "stdout",
     "output_type": "stream",
     "text": [
      "Epoch: 79 (66.3272s), train_loss: 0.2432, val_loss: 0.2829, train_acc: 0.9052, val_acc:0.8916\n",
      "\t\ttrain_roc: 0.9602, val_roc: 0.9501, train_auprc: 0.9500, val_auprc: 0.9408\n"
     ]
    },
    {
     "name": "stderr",
     "output_type": "stream",
     "text": [
      "/home/namle/.local/lib/python3.10/site-packages/torch_geometric/warnings.py:11: UserWarning: The usage of `scatter(reduce='max')` can be accelerated via the 'torch-scatter' package, but it was not found\n",
      "  warnings.warn(message)\n"
     ]
    },
    {
     "name": "stdout",
     "output_type": "stream",
     "text": [
      "Epoch: 80 (66.2038s), train_loss: 0.2419, val_loss: 0.2849, train_acc: 0.9061, val_acc:0.8895\n",
      "\t\ttrain_roc: 0.9604, val_roc: 0.9495, train_auprc: 0.9502, val_auprc: 0.9393\n"
     ]
    },
    {
     "name": "stderr",
     "output_type": "stream",
     "text": [
      "/home/namle/.local/lib/python3.10/site-packages/torch_geometric/warnings.py:11: UserWarning: The usage of `scatter(reduce='max')` can be accelerated via the 'torch-scatter' package, but it was not found\n",
      "  warnings.warn(message)\n"
     ]
    },
    {
     "name": "stdout",
     "output_type": "stream",
     "text": [
      "Saving model acc\n",
      "Saving model roc\n",
      "Epoch: 81 (66.2677s), train_loss: 0.2399, val_loss: 0.2788, train_acc: 0.9070, val_acc:0.8920\n",
      "\t\ttrain_roc: 0.9611, val_roc: 0.9515, train_auprc: 0.9511, val_auprc: 0.9420\n"
     ]
    },
    {
     "name": "stderr",
     "output_type": "stream",
     "text": [
      "/home/namle/.local/lib/python3.10/site-packages/torch_geometric/warnings.py:11: UserWarning: The usage of `scatter(reduce='max')` can be accelerated via the 'torch-scatter' package, but it was not found\n",
      "  warnings.warn(message)\n"
     ]
    },
    {
     "name": "stdout",
     "output_type": "stream",
     "text": [
      "Saving model roc\n",
      "Epoch: 82 (66.2597s), train_loss: 0.2411, val_loss: 0.2814, train_acc: 0.9058, val_acc:0.8915\n",
      "\t\ttrain_roc: 0.9605, val_roc: 0.9515, train_auprc: 0.9502, val_auprc: 0.9423\n"
     ]
    },
    {
     "name": "stderr",
     "output_type": "stream",
     "text": [
      "/home/namle/.local/lib/python3.10/site-packages/torch_geometric/warnings.py:11: UserWarning: The usage of `scatter(reduce='max')` can be accelerated via the 'torch-scatter' package, but it was not found\n",
      "  warnings.warn(message)\n"
     ]
    },
    {
     "name": "stdout",
     "output_type": "stream",
     "text": [
      "Saving model prc\n",
      "Saving model acc\n",
      "Saving model roc\n",
      "Epoch: 83 (66.3990s), train_loss: 0.2376, val_loss: 0.2755, train_acc: 0.9080, val_acc:0.8928\n",
      "\t\ttrain_roc: 0.9619, val_roc: 0.9532, train_auprc: 0.9520, val_auprc: 0.9445\n"
     ]
    },
    {
     "name": "stderr",
     "output_type": "stream",
     "text": [
      "/home/namle/.local/lib/python3.10/site-packages/torch_geometric/warnings.py:11: UserWarning: The usage of `scatter(reduce='max')` can be accelerated via the 'torch-scatter' package, but it was not found\n",
      "  warnings.warn(message)\n"
     ]
    },
    {
     "name": "stdout",
     "output_type": "stream",
     "text": [
      "Epoch: 84 (66.1503s), train_loss: 0.2363, val_loss: 0.2802, train_acc: 0.9076, val_acc:0.8911\n",
      "\t\ttrain_roc: 0.9622, val_roc: 0.9524, train_auprc: 0.9526, val_auprc: 0.9439\n"
     ]
    },
    {
     "name": "stderr",
     "output_type": "stream",
     "text": [
      "/home/namle/.local/lib/python3.10/site-packages/torch_geometric/warnings.py:11: UserWarning: The usage of `scatter(reduce='max')` can be accelerated via the 'torch-scatter' package, but it was not found\n",
      "  warnings.warn(message)\n"
     ]
    },
    {
     "name": "stdout",
     "output_type": "stream",
     "text": [
      "Epoch: 85 (66.1648s), train_loss: 0.2384, val_loss: 0.2809, train_acc: 0.9067, val_acc:0.8905\n",
      "\t\ttrain_roc: 0.9614, val_roc: 0.9521, train_auprc: 0.9515, val_auprc: 0.9439\n"
     ]
    },
    {
     "name": "stderr",
     "output_type": "stream",
     "text": [
      "/home/namle/.local/lib/python3.10/site-packages/torch_geometric/warnings.py:11: UserWarning: The usage of `scatter(reduce='max')` can be accelerated via the 'torch-scatter' package, but it was not found\n",
      "  warnings.warn(message)\n"
     ]
    },
    {
     "name": "stdout",
     "output_type": "stream",
     "text": [
      "Epoch: 86 (66.0466s), train_loss: 0.2329, val_loss: 0.2800, train_acc: 0.9094, val_acc:0.8916\n",
      "\t\ttrain_roc: 0.9632, val_roc: 0.9519, train_auprc: 0.9537, val_auprc: 0.9426\n"
     ]
    },
    {
     "name": "stderr",
     "output_type": "stream",
     "text": [
      "/home/namle/.local/lib/python3.10/site-packages/torch_geometric/warnings.py:11: UserWarning: The usage of `scatter(reduce='max')` can be accelerated via the 'torch-scatter' package, but it was not found\n",
      "  warnings.warn(message)\n"
     ]
    },
    {
     "name": "stdout",
     "output_type": "stream",
     "text": [
      "Epoch: 87 (66.2762s), train_loss: 0.2355, val_loss: 0.2799, train_acc: 0.9090, val_acc:0.8915\n",
      "\t\ttrain_roc: 0.9622, val_roc: 0.9519, train_auprc: 0.9521, val_auprc: 0.9430\n"
     ]
    },
    {
     "name": "stderr",
     "output_type": "stream",
     "text": [
      "/home/namle/.local/lib/python3.10/site-packages/torch_geometric/warnings.py:11: UserWarning: The usage of `scatter(reduce='max')` can be accelerated via the 'torch-scatter' package, but it was not found\n",
      "  warnings.warn(message)\n"
     ]
    },
    {
     "name": "stdout",
     "output_type": "stream",
     "text": [
      "Saving model acc\n",
      "Epoch: 88 (66.0594s), train_loss: 0.2336, val_loss: 0.2762, train_acc: 0.9090, val_acc:0.8938\n",
      "\t\ttrain_roc: 0.9628, val_roc: 0.9526, train_auprc: 0.9531, val_auprc: 0.9439\n"
     ]
    },
    {
     "name": "stderr",
     "output_type": "stream",
     "text": [
      "/home/namle/.local/lib/python3.10/site-packages/torch_geometric/warnings.py:11: UserWarning: The usage of `scatter(reduce='max')` can be accelerated via the 'torch-scatter' package, but it was not found\n",
      "  warnings.warn(message)\n"
     ]
    },
    {
     "name": "stdout",
     "output_type": "stream",
     "text": [
      "Epoch: 89 (66.2797s), train_loss: 0.2337, val_loss: 0.2788, train_acc: 0.9093, val_acc:0.8929\n",
      "\t\ttrain_roc: 0.9627, val_roc: 0.9524, train_auprc: 0.9530, val_auprc: 0.9435\n"
     ]
    },
    {
     "name": "stderr",
     "output_type": "stream",
     "text": [
      "/home/namle/.local/lib/python3.10/site-packages/torch_geometric/warnings.py:11: UserWarning: The usage of `scatter(reduce='max')` can be accelerated via the 'torch-scatter' package, but it was not found\n",
      "  warnings.warn(message)\n"
     ]
    },
    {
     "name": "stdout",
     "output_type": "stream",
     "text": [
      "Epoch: 90 (65.9366s), train_loss: 0.2311, val_loss: 0.2794, train_acc: 0.9108, val_acc:0.8933\n",
      "\t\ttrain_roc: 0.9635, val_roc: 0.9528, train_auprc: 0.9539, val_auprc: 0.9432\n"
     ]
    },
    {
     "name": "stderr",
     "output_type": "stream",
     "text": [
      "/home/namle/.local/lib/python3.10/site-packages/torch_geometric/warnings.py:11: UserWarning: The usage of `scatter(reduce='max')` can be accelerated via the 'torch-scatter' package, but it was not found\n",
      "  warnings.warn(message)\n"
     ]
    },
    {
     "name": "stdout",
     "output_type": "stream",
     "text": [
      "Epoch: 91 (66.4381s), train_loss: 0.2316, val_loss: 0.2770, train_acc: 0.9102, val_acc:0.8934\n",
      "\t\ttrain_roc: 0.9634, val_roc: 0.9532, train_auprc: 0.9536, val_auprc: 0.9445\n"
     ]
    },
    {
     "name": "stderr",
     "output_type": "stream",
     "text": [
      "/home/namle/.local/lib/python3.10/site-packages/torch_geometric/warnings.py:11: UserWarning: The usage of `scatter(reduce='max')` can be accelerated via the 'torch-scatter' package, but it was not found\n",
      "  warnings.warn(message)\n"
     ]
    },
    {
     "name": "stdout",
     "output_type": "stream",
     "text": [
      "Epoch: 92 (66.1578s), train_loss: 0.2315, val_loss: 0.2794, train_acc: 0.9105, val_acc:0.8927\n",
      "\t\ttrain_roc: 0.9632, val_roc: 0.9525, train_auprc: 0.9533, val_auprc: 0.9440\n"
     ]
    },
    {
     "name": "stderr",
     "output_type": "stream",
     "text": [
      "/home/namle/.local/lib/python3.10/site-packages/torch_geometric/warnings.py:11: UserWarning: The usage of `scatter(reduce='max')` can be accelerated via the 'torch-scatter' package, but it was not found\n",
      "  warnings.warn(message)\n"
     ]
    },
    {
     "name": "stdout",
     "output_type": "stream",
     "text": [
      "Saving model prc\n",
      "Saving model acc\n",
      "Saving model roc\n",
      "Epoch: 93 (66.3164s), train_loss: 0.2292, val_loss: 0.2760, train_acc: 0.9112, val_acc:0.8950\n",
      "\t\ttrain_roc: 0.9640, val_roc: 0.9534, train_auprc: 0.9546, val_auprc: 0.9449\n"
     ]
    },
    {
     "name": "stderr",
     "output_type": "stream",
     "text": [
      "/home/namle/.local/lib/python3.10/site-packages/torch_geometric/warnings.py:11: UserWarning: The usage of `scatter(reduce='max')` can be accelerated via the 'torch-scatter' package, but it was not found\n",
      "  warnings.warn(message)\n"
     ]
    },
    {
     "name": "stdout",
     "output_type": "stream",
     "text": [
      "Saving model prc\n",
      "Saving model acc\n",
      "Saving model roc\n",
      "Epoch: 94 (66.3193s), train_loss: 0.2286, val_loss: 0.2735, train_acc: 0.9123, val_acc:0.8956\n",
      "\t\ttrain_roc: 0.9640, val_roc: 0.9540, train_auprc: 0.9546, val_auprc: 0.9455\n"
     ]
    },
    {
     "name": "stderr",
     "output_type": "stream",
     "text": [
      "/home/namle/.local/lib/python3.10/site-packages/torch_geometric/warnings.py:11: UserWarning: The usage of `scatter(reduce='max')` can be accelerated via the 'torch-scatter' package, but it was not found\n",
      "  warnings.warn(message)\n"
     ]
    },
    {
     "name": "stdout",
     "output_type": "stream",
     "text": [
      "Saving model acc\n",
      "Epoch: 95 (66.4371s), train_loss: 0.2282, val_loss: 0.2769, train_acc: 0.9118, val_acc:0.8958\n",
      "\t\ttrain_roc: 0.9641, val_roc: 0.9531, train_auprc: 0.9547, val_auprc: 0.9436\n"
     ]
    },
    {
     "name": "stderr",
     "output_type": "stream",
     "text": [
      "/home/namle/.local/lib/python3.10/site-packages/torch_geometric/warnings.py:11: UserWarning: The usage of `scatter(reduce='max')` can be accelerated via the 'torch-scatter' package, but it was not found\n",
      "  warnings.warn(message)\n"
     ]
    },
    {
     "name": "stdout",
     "output_type": "stream",
     "text": [
      "Epoch: 96 (66.3667s), train_loss: 0.2294, val_loss: 0.2785, train_acc: 0.9115, val_acc:0.8933\n",
      "\t\ttrain_roc: 0.9639, val_roc: 0.9526, train_auprc: 0.9541, val_auprc: 0.9436\n"
     ]
    },
    {
     "name": "stderr",
     "output_type": "stream",
     "text": [
      "/home/namle/.local/lib/python3.10/site-packages/torch_geometric/warnings.py:11: UserWarning: The usage of `scatter(reduce='max')` can be accelerated via the 'torch-scatter' package, but it was not found\n",
      "  warnings.warn(message)\n"
     ]
    },
    {
     "name": "stdout",
     "output_type": "stream",
     "text": [
      "Saving model prc\n",
      "Saving model acc\n",
      "Saving model roc\n",
      "Epoch: 97 (66.2886s), train_loss: 0.2267, val_loss: 0.2737, train_acc: 0.9122, val_acc:0.8959\n",
      "\t\ttrain_roc: 0.9648, val_roc: 0.9544, train_auprc: 0.9557, val_auprc: 0.9457\n"
     ]
    },
    {
     "name": "stderr",
     "output_type": "stream",
     "text": [
      "/home/namle/.local/lib/python3.10/site-packages/torch_geometric/warnings.py:11: UserWarning: The usage of `scatter(reduce='max')` can be accelerated via the 'torch-scatter' package, but it was not found\n",
      "  warnings.warn(message)\n"
     ]
    },
    {
     "name": "stdout",
     "output_type": "stream",
     "text": [
      "Saving model acc\n",
      "Epoch: 98 (66.3112s), train_loss: 0.2243, val_loss: 0.2747, train_acc: 0.9142, val_acc:0.8962\n",
      "\t\ttrain_roc: 0.9653, val_roc: 0.9539, train_auprc: 0.9563, val_auprc: 0.9452\n"
     ]
    },
    {
     "name": "stderr",
     "output_type": "stream",
     "text": [
      "/home/namle/.local/lib/python3.10/site-packages/torch_geometric/warnings.py:11: UserWarning: The usage of `scatter(reduce='max')` can be accelerated via the 'torch-scatter' package, but it was not found\n",
      "  warnings.warn(message)\n"
     ]
    },
    {
     "name": "stdout",
     "output_type": "stream",
     "text": [
      "Epoch: 99 (66.2389s), train_loss: 0.2246, val_loss: 0.2764, train_acc: 0.9137, val_acc:0.8940\n",
      "\t\ttrain_roc: 0.9652, val_roc: 0.9536, train_auprc: 0.9561, val_auprc: 0.9453\n"
     ]
    },
    {
     "name": "stderr",
     "output_type": "stream",
     "text": [
      "/home/namle/.local/lib/python3.10/site-packages/torch_geometric/warnings.py:11: UserWarning: The usage of `scatter(reduce='max')` can be accelerated via the 'torch-scatter' package, but it was not found\n",
      "  warnings.warn(message)\n"
     ]
    },
    {
     "name": "stdout",
     "output_type": "stream",
     "text": [
      "Saving model prc\n",
      "Saving model roc\n",
      "Epoch: 100 (66.4822s), train_loss: 0.2264, val_loss: 0.2740, train_acc: 0.9129, val_acc:0.8956\n",
      "\t\ttrain_roc: 0.9646, val_roc: 0.9546, train_auprc: 0.9554, val_auprc: 0.9466\n"
     ]
    },
    {
     "name": "stderr",
     "output_type": "stream",
     "text": [
      "/home/namle/.local/lib/python3.10/site-packages/torch_geometric/warnings.py:11: UserWarning: The usage of `scatter(reduce='max')` can be accelerated via the 'torch-scatter' package, but it was not found\n",
      "  warnings.warn(message)\n"
     ]
    },
    {
     "name": "stdout",
     "output_type": "stream",
     "text": [
      "Saving model prc\n",
      "Saving model roc\n",
      "Epoch: 101 (66.3739s), train_loss: 0.2254, val_loss: 0.2726, train_acc: 0.9131, val_acc:0.8956\n",
      "\t\ttrain_roc: 0.9651, val_roc: 0.9550, train_auprc: 0.9560, val_auprc: 0.9475\n"
     ]
    },
    {
     "name": "stderr",
     "output_type": "stream",
     "text": [
      "/home/namle/.local/lib/python3.10/site-packages/torch_geometric/warnings.py:11: UserWarning: The usage of `scatter(reduce='max')` can be accelerated via the 'torch-scatter' package, but it was not found\n",
      "  warnings.warn(message)\n"
     ]
    },
    {
     "name": "stdout",
     "output_type": "stream",
     "text": [
      "Epoch: 102 (66.3936s), train_loss: 0.2249, val_loss: 0.2738, train_acc: 0.9130, val_acc:0.8956\n",
      "\t\ttrain_roc: 0.9650, val_roc: 0.9550, train_auprc: 0.9560, val_auprc: 0.9466\n"
     ]
    },
    {
     "name": "stderr",
     "output_type": "stream",
     "text": [
      "/home/namle/.local/lib/python3.10/site-packages/torch_geometric/warnings.py:11: UserWarning: The usage of `scatter(reduce='max')` can be accelerated via the 'torch-scatter' package, but it was not found\n",
      "  warnings.warn(message)\n"
     ]
    },
    {
     "name": "stdout",
     "output_type": "stream",
     "text": [
      "Saving model prc\n",
      "Saving model roc\n",
      "Epoch: 103 (66.4369s), train_loss: 0.2239, val_loss: 0.2724, train_acc: 0.9141, val_acc:0.8955\n",
      "\t\ttrain_roc: 0.9654, val_roc: 0.9555, train_auprc: 0.9561, val_auprc: 0.9477\n"
     ]
    },
    {
     "name": "stderr",
     "output_type": "stream",
     "text": [
      "/home/namle/.local/lib/python3.10/site-packages/torch_geometric/warnings.py:11: UserWarning: The usage of `scatter(reduce='max')` can be accelerated via the 'torch-scatter' package, but it was not found\n",
      "  warnings.warn(message)\n"
     ]
    },
    {
     "name": "stdout",
     "output_type": "stream",
     "text": [
      "Epoch: 104 (66.2907s), train_loss: 0.2233, val_loss: 0.2746, train_acc: 0.9147, val_acc:0.8952\n",
      "\t\ttrain_roc: 0.9656, val_roc: 0.9544, train_auprc: 0.9560, val_auprc: 0.9457\n"
     ]
    },
    {
     "name": "stderr",
     "output_type": "stream",
     "text": [
      "/home/namle/.local/lib/python3.10/site-packages/torch_geometric/warnings.py:11: UserWarning: The usage of `scatter(reduce='max')` can be accelerated via the 'torch-scatter' package, but it was not found\n",
      "  warnings.warn(message)\n"
     ]
    },
    {
     "name": "stdout",
     "output_type": "stream",
     "text": [
      "Epoch: 105 (66.2498s), train_loss: 0.2238, val_loss: 0.2742, train_acc: 0.9137, val_acc:0.8951\n",
      "\t\ttrain_roc: 0.9654, val_roc: 0.9546, train_auprc: 0.9562, val_auprc: 0.9462\n"
     ]
    },
    {
     "name": "stderr",
     "output_type": "stream",
     "text": [
      "/home/namle/.local/lib/python3.10/site-packages/torch_geometric/warnings.py:11: UserWarning: The usage of `scatter(reduce='max')` can be accelerated via the 'torch-scatter' package, but it was not found\n",
      "  warnings.warn(message)\n"
     ]
    },
    {
     "name": "stdout",
     "output_type": "stream",
     "text": [
      "Saving model acc\n",
      "Epoch: 106 (66.5627s), train_loss: 0.2223, val_loss: 0.2733, train_acc: 0.9142, val_acc:0.8971\n",
      "\t\ttrain_roc: 0.9658, val_roc: 0.9550, train_auprc: 0.9571, val_auprc: 0.9463\n"
     ]
    },
    {
     "name": "stderr",
     "output_type": "stream",
     "text": [
      "/home/namle/.local/lib/python3.10/site-packages/torch_geometric/warnings.py:11: UserWarning: The usage of `scatter(reduce='max')` can be accelerated via the 'torch-scatter' package, but it was not found\n",
      "  warnings.warn(message)\n"
     ]
    },
    {
     "name": "stdout",
     "output_type": "stream",
     "text": [
      "Epoch: 107 (66.2171s), train_loss: 0.2225, val_loss: 0.2736, train_acc: 0.9148, val_acc:0.8967\n",
      "\t\ttrain_roc: 0.9657, val_roc: 0.9551, train_auprc: 0.9566, val_auprc: 0.9472\n"
     ]
    },
    {
     "name": "stderr",
     "output_type": "stream",
     "text": [
      "/home/namle/.local/lib/python3.10/site-packages/torch_geometric/warnings.py:11: UserWarning: The usage of `scatter(reduce='max')` can be accelerated via the 'torch-scatter' package, but it was not found\n",
      "  warnings.warn(message)\n"
     ]
    },
    {
     "name": "stdout",
     "output_type": "stream",
     "text": [
      "Epoch: 108 (66.1753s), train_loss: 0.2216, val_loss: 0.2738, train_acc: 0.9147, val_acc:0.8960\n",
      "\t\ttrain_roc: 0.9659, val_roc: 0.9550, train_auprc: 0.9572, val_auprc: 0.9468\n"
     ]
    },
    {
     "name": "stderr",
     "output_type": "stream",
     "text": [
      "/home/namle/.local/lib/python3.10/site-packages/torch_geometric/warnings.py:11: UserWarning: The usage of `scatter(reduce='max')` can be accelerated via the 'torch-scatter' package, but it was not found\n",
      "  warnings.warn(message)\n"
     ]
    },
    {
     "name": "stdout",
     "output_type": "stream",
     "text": [
      "Epoch: 109 (66.0586s), train_loss: 0.2216, val_loss: 0.2747, train_acc: 0.9151, val_acc:0.8959\n",
      "\t\ttrain_roc: 0.9658, val_roc: 0.9544, train_auprc: 0.9567, val_auprc: 0.9461\n"
     ]
    },
    {
     "name": "stderr",
     "output_type": "stream",
     "text": [
      "/home/namle/.local/lib/python3.10/site-packages/torch_geometric/warnings.py:11: UserWarning: The usage of `scatter(reduce='max')` can be accelerated via the 'torch-scatter' package, but it was not found\n",
      "  warnings.warn(message)\n"
     ]
    },
    {
     "name": "stdout",
     "output_type": "stream",
     "text": [
      "Saving model prc\n",
      "Saving model acc\n",
      "Saving model roc\n",
      "Epoch: 110 (66.3155s), train_loss: 0.2218, val_loss: 0.2703, train_acc: 0.9154, val_acc:0.8980\n",
      "\t\ttrain_roc: 0.9658, val_roc: 0.9558, train_auprc: 0.9564, val_auprc: 0.9483\n"
     ]
    },
    {
     "name": "stderr",
     "output_type": "stream",
     "text": [
      "/home/namle/.local/lib/python3.10/site-packages/torch_geometric/warnings.py:11: UserWarning: The usage of `scatter(reduce='max')` can be accelerated via the 'torch-scatter' package, but it was not found\n",
      "  warnings.warn(message)\n"
     ]
    },
    {
     "name": "stdout",
     "output_type": "stream",
     "text": [
      "Epoch: 111 (66.2189s), train_loss: 0.2208, val_loss: 0.2725, train_acc: 0.9151, val_acc:0.8971\n",
      "\t\ttrain_roc: 0.9661, val_roc: 0.9557, train_auprc: 0.9575, val_auprc: 0.9476\n"
     ]
    },
    {
     "name": "stderr",
     "output_type": "stream",
     "text": [
      "/home/namle/.local/lib/python3.10/site-packages/torch_geometric/warnings.py:11: UserWarning: The usage of `scatter(reduce='max')` can be accelerated via the 'torch-scatter' package, but it was not found\n",
      "  warnings.warn(message)\n"
     ]
    },
    {
     "name": "stdout",
     "output_type": "stream",
     "text": [
      "Epoch: 112 (66.1747s), train_loss: 0.2194, val_loss: 0.2743, train_acc: 0.9157, val_acc:0.8965\n",
      "\t\ttrain_roc: 0.9667, val_roc: 0.9549, train_auprc: 0.9578, val_auprc: 0.9467\n"
     ]
    },
    {
     "name": "stderr",
     "output_type": "stream",
     "text": [
      "/home/namle/.local/lib/python3.10/site-packages/torch_geometric/warnings.py:11: UserWarning: The usage of `scatter(reduce='max')` can be accelerated via the 'torch-scatter' package, but it was not found\n",
      "  warnings.warn(message)\n"
     ]
    },
    {
     "name": "stdout",
     "output_type": "stream",
     "text": [
      "Saving model prc\n",
      "Saving model roc\n",
      "Epoch: 113 (66.2288s), train_loss: 0.2184, val_loss: 0.2695, train_acc: 0.9159, val_acc:0.8972\n",
      "\t\ttrain_roc: 0.9669, val_roc: 0.9568, train_auprc: 0.9583, val_auprc: 0.9496\n"
     ]
    },
    {
     "name": "stderr",
     "output_type": "stream",
     "text": [
      "/home/namle/.local/lib/python3.10/site-packages/torch_geometric/warnings.py:11: UserWarning: The usage of `scatter(reduce='max')` can be accelerated via the 'torch-scatter' package, but it was not found\n",
      "  warnings.warn(message)\n"
     ]
    },
    {
     "name": "stdout",
     "output_type": "stream",
     "text": [
      "Epoch: 114 (66.2482s), train_loss: 0.2197, val_loss: 0.2739, train_acc: 0.9155, val_acc:0.8969\n",
      "\t\ttrain_roc: 0.9663, val_roc: 0.9550, train_auprc: 0.9574, val_auprc: 0.9472\n"
     ]
    },
    {
     "name": "stderr",
     "output_type": "stream",
     "text": [
      "/home/namle/.local/lib/python3.10/site-packages/torch_geometric/warnings.py:11: UserWarning: The usage of `scatter(reduce='max')` can be accelerated via the 'torch-scatter' package, but it was not found\n",
      "  warnings.warn(message)\n"
     ]
    },
    {
     "name": "stdout",
     "output_type": "stream",
     "text": [
      "Epoch: 115 (66.3258s), train_loss: 0.2191, val_loss: 0.2748, train_acc: 0.9161, val_acc:0.8968\n",
      "\t\ttrain_roc: 0.9666, val_roc: 0.9548, train_auprc: 0.9579, val_auprc: 0.9465\n"
     ]
    },
    {
     "name": "stderr",
     "output_type": "stream",
     "text": [
      "/home/namle/.local/lib/python3.10/site-packages/torch_geometric/warnings.py:11: UserWarning: The usage of `scatter(reduce='max')` can be accelerated via the 'torch-scatter' package, but it was not found\n",
      "  warnings.warn(message)\n"
     ]
    },
    {
     "name": "stdout",
     "output_type": "stream",
     "text": [
      "Epoch: 116 (66.2430s), train_loss: 0.2187, val_loss: 0.2758, train_acc: 0.9167, val_acc:0.8968\n",
      "\t\ttrain_roc: 0.9667, val_roc: 0.9546, train_auprc: 0.9577, val_auprc: 0.9459\n"
     ]
    },
    {
     "name": "stderr",
     "output_type": "stream",
     "text": [
      "/home/namle/.local/lib/python3.10/site-packages/torch_geometric/warnings.py:11: UserWarning: The usage of `scatter(reduce='max')` can be accelerated via the 'torch-scatter' package, but it was not found\n",
      "  warnings.warn(message)\n"
     ]
    },
    {
     "name": "stdout",
     "output_type": "stream",
     "text": [
      "Epoch: 117 (66.2824s), train_loss: 0.2182, val_loss: 0.2732, train_acc: 0.9170, val_acc:0.8975\n",
      "\t\ttrain_roc: 0.9667, val_roc: 0.9557, train_auprc: 0.9578, val_auprc: 0.9480\n"
     ]
    },
    {
     "name": "stderr",
     "output_type": "stream",
     "text": [
      "/home/namle/.local/lib/python3.10/site-packages/torch_geometric/warnings.py:11: UserWarning: The usage of `scatter(reduce='max')` can be accelerated via the 'torch-scatter' package, but it was not found\n",
      "  warnings.warn(message)\n"
     ]
    },
    {
     "name": "stdout",
     "output_type": "stream",
     "text": [
      "Epoch: 118 (66.1771s), train_loss: 0.2168, val_loss: 0.2729, train_acc: 0.9176, val_acc:0.8977\n",
      "\t\ttrain_roc: 0.9673, val_roc: 0.9559, train_auprc: 0.9586, val_auprc: 0.9476\n"
     ]
    },
    {
     "name": "stderr",
     "output_type": "stream",
     "text": [
      "/home/namle/.local/lib/python3.10/site-packages/torch_geometric/warnings.py:11: UserWarning: The usage of `scatter(reduce='max')` can be accelerated via the 'torch-scatter' package, but it was not found\n",
      "  warnings.warn(message)\n"
     ]
    },
    {
     "name": "stdout",
     "output_type": "stream",
     "text": [
      "Epoch: 119 (66.1085s), train_loss: 0.2174, val_loss: 0.2783, train_acc: 0.9169, val_acc:0.8955\n",
      "\t\ttrain_roc: 0.9671, val_roc: 0.9543, train_auprc: 0.9583, val_auprc: 0.9459\n"
     ]
    },
    {
     "name": "stderr",
     "output_type": "stream",
     "text": [
      "/home/namle/.local/lib/python3.10/site-packages/torch_geometric/warnings.py:11: UserWarning: The usage of `scatter(reduce='max')` can be accelerated via the 'torch-scatter' package, but it was not found\n",
      "  warnings.warn(message)\n"
     ]
    },
    {
     "name": "stdout",
     "output_type": "stream",
     "text": [
      "Epoch: 120 (66.3094s), train_loss: 0.2183, val_loss: 0.2756, train_acc: 0.9164, val_acc:0.8965\n",
      "\t\ttrain_roc: 0.9667, val_roc: 0.9549, train_auprc: 0.9579, val_auprc: 0.9464\n"
     ]
    },
    {
     "name": "stderr",
     "output_type": "stream",
     "text": [
      "/home/namle/.local/lib/python3.10/site-packages/torch_geometric/warnings.py:11: UserWarning: The usage of `scatter(reduce='max')` can be accelerated via the 'torch-scatter' package, but it was not found\n",
      "  warnings.warn(message)\n"
     ]
    },
    {
     "name": "stdout",
     "output_type": "stream",
     "text": [
      "Saving model acc\n",
      "Epoch: 121 (66.3070s), train_loss: 0.2175, val_loss: 0.2738, train_acc: 0.9173, val_acc:0.8985\n",
      "\t\ttrain_roc: 0.9669, val_roc: 0.9554, train_auprc: 0.9575, val_auprc: 0.9470\n"
     ]
    },
    {
     "name": "stderr",
     "output_type": "stream",
     "text": [
      "/home/namle/.local/lib/python3.10/site-packages/torch_geometric/warnings.py:11: UserWarning: The usage of `scatter(reduce='max')` can be accelerated via the 'torch-scatter' package, but it was not found\n",
      "  warnings.warn(message)\n"
     ]
    },
    {
     "name": "stdout",
     "output_type": "stream",
     "text": [
      "Epoch: 122 (66.1395s), train_loss: 0.2185, val_loss: 0.2717, train_acc: 0.9166, val_acc:0.8984\n",
      "\t\ttrain_roc: 0.9666, val_roc: 0.9565, train_auprc: 0.9574, val_auprc: 0.9489\n"
     ]
    },
    {
     "name": "stderr",
     "output_type": "stream",
     "text": [
      "/home/namle/.local/lib/python3.10/site-packages/torch_geometric/warnings.py:11: UserWarning: The usage of `scatter(reduce='max')` can be accelerated via the 'torch-scatter' package, but it was not found\n",
      "  warnings.warn(message)\n"
     ]
    },
    {
     "name": "stdout",
     "output_type": "stream",
     "text": [
      "Epoch: 123 (66.0381s), train_loss: 0.2168, val_loss: 0.2777, train_acc: 0.9172, val_acc:0.8957\n",
      "\t\ttrain_roc: 0.9672, val_roc: 0.9544, train_auprc: 0.9584, val_auprc: 0.9459\n"
     ]
    },
    {
     "name": "stderr",
     "output_type": "stream",
     "text": [
      "/home/namle/.local/lib/python3.10/site-packages/torch_geometric/warnings.py:11: UserWarning: The usage of `scatter(reduce='max')` can be accelerated via the 'torch-scatter' package, but it was not found\n",
      "  warnings.warn(message)\n"
     ]
    },
    {
     "name": "stdout",
     "output_type": "stream",
     "text": [
      "Saving model acc\n",
      "Epoch: 124 (66.1073s), train_loss: 0.2176, val_loss: 0.2702, train_acc: 0.9168, val_acc:0.8987\n",
      "\t\ttrain_roc: 0.9670, val_roc: 0.9566, train_auprc: 0.9582, val_auprc: 0.9493\n"
     ]
    },
    {
     "name": "stderr",
     "output_type": "stream",
     "text": [
      "/home/namle/.local/lib/python3.10/site-packages/torch_geometric/warnings.py:11: UserWarning: The usage of `scatter(reduce='max')` can be accelerated via the 'torch-scatter' package, but it was not found\n",
      "  warnings.warn(message)\n"
     ]
    },
    {
     "name": "stdout",
     "output_type": "stream",
     "text": [
      "Saving model acc\n",
      "Epoch: 125 (66.1699s), train_loss: 0.2165, val_loss: 0.2717, train_acc: 0.9171, val_acc:0.8989\n",
      "\t\ttrain_roc: 0.9674, val_roc: 0.9563, train_auprc: 0.9588, val_auprc: 0.9481\n"
     ]
    },
    {
     "name": "stderr",
     "output_type": "stream",
     "text": [
      "/home/namle/.local/lib/python3.10/site-packages/torch_geometric/warnings.py:11: UserWarning: The usage of `scatter(reduce='max')` can be accelerated via the 'torch-scatter' package, but it was not found\n",
      "  warnings.warn(message)\n"
     ]
    },
    {
     "name": "stdout",
     "output_type": "stream",
     "text": [
      "Epoch: 126 (66.0640s), train_loss: 0.2168, val_loss: 0.2730, train_acc: 0.9170, val_acc:0.8977\n",
      "\t\ttrain_roc: 0.9673, val_roc: 0.9564, train_auprc: 0.9585, val_auprc: 0.9490\n"
     ]
    },
    {
     "name": "stderr",
     "output_type": "stream",
     "text": [
      "/home/namle/.local/lib/python3.10/site-packages/torch_geometric/warnings.py:11: UserWarning: The usage of `scatter(reduce='max')` can be accelerated via the 'torch-scatter' package, but it was not found\n",
      "  warnings.warn(message)\n"
     ]
    },
    {
     "name": "stdout",
     "output_type": "stream",
     "text": [
      "Epoch: 127 (66.2297s), train_loss: 0.2154, val_loss: 0.2741, train_acc: 0.9182, val_acc:0.8975\n",
      "\t\ttrain_roc: 0.9676, val_roc: 0.9556, train_auprc: 0.9589, val_auprc: 0.9477\n"
     ]
    },
    {
     "name": "stderr",
     "output_type": "stream",
     "text": [
      "/home/namle/.local/lib/python3.10/site-packages/torch_geometric/warnings.py:11: UserWarning: The usage of `scatter(reduce='max')` can be accelerated via the 'torch-scatter' package, but it was not found\n",
      "  warnings.warn(message)\n"
     ]
    },
    {
     "name": "stdout",
     "output_type": "stream",
     "text": [
      "Epoch: 128 (65.9607s), train_loss: 0.2153, val_loss: 0.2730, train_acc: 0.9180, val_acc:0.8986\n",
      "\t\ttrain_roc: 0.9676, val_roc: 0.9561, train_auprc: 0.9589, val_auprc: 0.9482\n"
     ]
    },
    {
     "name": "stderr",
     "output_type": "stream",
     "text": [
      "/home/namle/.local/lib/python3.10/site-packages/torch_geometric/warnings.py:11: UserWarning: The usage of `scatter(reduce='max')` can be accelerated via the 'torch-scatter' package, but it was not found\n",
      "  warnings.warn(message)\n"
     ]
    },
    {
     "name": "stdout",
     "output_type": "stream",
     "text": [
      "Epoch: 129 (66.2636s), train_loss: 0.2166, val_loss: 0.2724, train_acc: 0.9177, val_acc:0.8983\n",
      "\t\ttrain_roc: 0.9672, val_roc: 0.9564, train_auprc: 0.9581, val_auprc: 0.9487\n"
     ]
    },
    {
     "name": "stderr",
     "output_type": "stream",
     "text": [
      "/home/namle/.local/lib/python3.10/site-packages/torch_geometric/warnings.py:11: UserWarning: The usage of `scatter(reduce='max')` can be accelerated via the 'torch-scatter' package, but it was not found\n",
      "  warnings.warn(message)\n"
     ]
    },
    {
     "name": "stdout",
     "output_type": "stream",
     "text": [
      "Saving model acc\n",
      "Epoch: 130 (66.0746s), train_loss: 0.2156, val_loss: 0.2733, train_acc: 0.9179, val_acc:0.8990\n",
      "\t\ttrain_roc: 0.9675, val_roc: 0.9559, train_auprc: 0.9587, val_auprc: 0.9479\n"
     ]
    },
    {
     "name": "stderr",
     "output_type": "stream",
     "text": [
      "/home/namle/.local/lib/python3.10/site-packages/torch_geometric/warnings.py:11: UserWarning: The usage of `scatter(reduce='max')` can be accelerated via the 'torch-scatter' package, but it was not found\n",
      "  warnings.warn(message)\n"
     ]
    },
    {
     "name": "stdout",
     "output_type": "stream",
     "text": [
      "Epoch: 131 (66.3227s), train_loss: 0.2162, val_loss: 0.2759, train_acc: 0.9177, val_acc:0.8979\n",
      "\t\ttrain_roc: 0.9672, val_roc: 0.9550, train_auprc: 0.9584, val_auprc: 0.9468\n"
     ]
    },
    {
     "name": "stderr",
     "output_type": "stream",
     "text": [
      "/home/namle/.local/lib/python3.10/site-packages/torch_geometric/warnings.py:11: UserWarning: The usage of `scatter(reduce='max')` can be accelerated via the 'torch-scatter' package, but it was not found\n",
      "  warnings.warn(message)\n"
     ]
    },
    {
     "name": "stdout",
     "output_type": "stream",
     "text": [
      "Epoch: 132 (66.1571s), train_loss: 0.2149, val_loss: 0.2743, train_acc: 0.9183, val_acc:0.8985\n",
      "\t\ttrain_roc: 0.9676, val_roc: 0.9556, train_auprc: 0.9588, val_auprc: 0.9474\n"
     ]
    },
    {
     "name": "stderr",
     "output_type": "stream",
     "text": [
      "/home/namle/.local/lib/python3.10/site-packages/torch_geometric/warnings.py:11: UserWarning: The usage of `scatter(reduce='max')` can be accelerated via the 'torch-scatter' package, but it was not found\n",
      "  warnings.warn(message)\n"
     ]
    },
    {
     "name": "stdout",
     "output_type": "stream",
     "text": [
      "Saving model acc\n",
      "Epoch: 133 (66.3698s), train_loss: 0.2155, val_loss: 0.2718, train_acc: 0.9182, val_acc:0.8996\n",
      "\t\ttrain_roc: 0.9674, val_roc: 0.9565, train_auprc: 0.9586, val_auprc: 0.9490\n"
     ]
    },
    {
     "name": "stderr",
     "output_type": "stream",
     "text": [
      "/home/namle/.local/lib/python3.10/site-packages/torch_geometric/warnings.py:11: UserWarning: The usage of `scatter(reduce='max')` can be accelerated via the 'torch-scatter' package, but it was not found\n",
      "  warnings.warn(message)\n"
     ]
    },
    {
     "name": "stdout",
     "output_type": "stream",
     "text": [
      "Saving model prc\n",
      "Saving model roc\n",
      "Epoch: 134 (66.0685s), train_loss: 0.2146, val_loss: 0.2702, train_acc: 0.9186, val_acc:0.8991\n",
      "\t\ttrain_roc: 0.9678, val_roc: 0.9571, train_auprc: 0.9591, val_auprc: 0.9500\n"
     ]
    },
    {
     "name": "stderr",
     "output_type": "stream",
     "text": [
      "/home/namle/.local/lib/python3.10/site-packages/torch_geometric/warnings.py:11: UserWarning: The usage of `scatter(reduce='max')` can be accelerated via the 'torch-scatter' package, but it was not found\n",
      "  warnings.warn(message)\n"
     ]
    },
    {
     "name": "stdout",
     "output_type": "stream",
     "text": [
      "Epoch: 135 (65.9870s), train_loss: 0.2142, val_loss: 0.2744, train_acc: 0.9186, val_acc:0.8976\n",
      "\t\ttrain_roc: 0.9678, val_roc: 0.9558, train_auprc: 0.9591, val_auprc: 0.9481\n"
     ]
    },
    {
     "name": "stderr",
     "output_type": "stream",
     "text": [
      "/home/namle/.local/lib/python3.10/site-packages/torch_geometric/warnings.py:11: UserWarning: The usage of `scatter(reduce='max')` can be accelerated via the 'torch-scatter' package, but it was not found\n",
      "  warnings.warn(message)\n"
     ]
    },
    {
     "name": "stdout",
     "output_type": "stream",
     "text": [
      "Epoch: 136 (66.0323s), train_loss: 0.2137, val_loss: 0.2739, train_acc: 0.9185, val_acc:0.8983\n",
      "\t\ttrain_roc: 0.9681, val_roc: 0.9559, train_auprc: 0.9598, val_auprc: 0.9481\n"
     ]
    },
    {
     "name": "stderr",
     "output_type": "stream",
     "text": [
      "/home/namle/.local/lib/python3.10/site-packages/torch_geometric/warnings.py:11: UserWarning: The usage of `scatter(reduce='max')` can be accelerated via the 'torch-scatter' package, but it was not found\n",
      "  warnings.warn(message)\n"
     ]
    },
    {
     "name": "stdout",
     "output_type": "stream",
     "text": [
      "Epoch: 137 (66.2740s), train_loss: 0.2124, val_loss: 0.2740, train_acc: 0.9194, val_acc:0.8978\n",
      "\t\ttrain_roc: 0.9684, val_roc: 0.9559, train_auprc: 0.9602, val_auprc: 0.9482\n"
     ]
    },
    {
     "name": "stderr",
     "output_type": "stream",
     "text": [
      "/home/namle/.local/lib/python3.10/site-packages/torch_geometric/warnings.py:11: UserWarning: The usage of `scatter(reduce='max')` can be accelerated via the 'torch-scatter' package, but it was not found\n",
      "  warnings.warn(message)\n"
     ]
    },
    {
     "name": "stdout",
     "output_type": "stream",
     "text": [
      "Epoch: 138 (66.0292s), train_loss: 0.2146, val_loss: 0.2732, train_acc: 0.9180, val_acc:0.8989\n",
      "\t\ttrain_roc: 0.9678, val_roc: 0.9560, train_auprc: 0.9590, val_auprc: 0.9483\n"
     ]
    },
    {
     "name": "stderr",
     "output_type": "stream",
     "text": [
      "/home/namle/.local/lib/python3.10/site-packages/torch_geometric/warnings.py:11: UserWarning: The usage of `scatter(reduce='max')` can be accelerated via the 'torch-scatter' package, but it was not found\n",
      "  warnings.warn(message)\n"
     ]
    },
    {
     "name": "stdout",
     "output_type": "stream",
     "text": [
      "Saving model acc\n",
      "Epoch: 139 (66.0346s), train_loss: 0.2137, val_loss: 0.2724, train_acc: 0.9183, val_acc:0.8996\n",
      "\t\ttrain_roc: 0.9680, val_roc: 0.9566, train_auprc: 0.9596, val_auprc: 0.9490\n"
     ]
    },
    {
     "name": "stderr",
     "output_type": "stream",
     "text": [
      "/home/namle/.local/lib/python3.10/site-packages/torch_geometric/warnings.py:11: UserWarning: The usage of `scatter(reduce='max')` can be accelerated via the 'torch-scatter' package, but it was not found\n",
      "  warnings.warn(message)\n"
     ]
    },
    {
     "name": "stdout",
     "output_type": "stream",
     "text": [
      "Epoch: 140 (66.0625s), train_loss: 0.2157, val_loss: 0.2764, train_acc: 0.9178, val_acc:0.8981\n",
      "\t\ttrain_roc: 0.9674, val_roc: 0.9552, train_auprc: 0.9585, val_auprc: 0.9464\n"
     ]
    },
    {
     "name": "stderr",
     "output_type": "stream",
     "text": [
      "/home/namle/.local/lib/python3.10/site-packages/torch_geometric/warnings.py:11: UserWarning: The usage of `scatter(reduce='max')` can be accelerated via the 'torch-scatter' package, but it was not found\n",
      "  warnings.warn(message)\n"
     ]
    },
    {
     "name": "stdout",
     "output_type": "stream",
     "text": [
      "Epoch: 141 (66.2866s), train_loss: 0.2128, val_loss: 0.2727, train_acc: 0.9192, val_acc:0.8986\n",
      "\t\ttrain_roc: 0.9683, val_roc: 0.9563, train_auprc: 0.9597, val_auprc: 0.9486\n"
     ]
    },
    {
     "name": "stderr",
     "output_type": "stream",
     "text": [
      "/home/namle/.local/lib/python3.10/site-packages/torch_geometric/warnings.py:11: UserWarning: The usage of `scatter(reduce='max')` can be accelerated via the 'torch-scatter' package, but it was not found\n",
      "  warnings.warn(message)\n"
     ]
    },
    {
     "name": "stdout",
     "output_type": "stream",
     "text": [
      "Epoch: 142 (66.3308s), train_loss: 0.2122, val_loss: 0.2758, train_acc: 0.9192, val_acc:0.8976\n",
      "\t\ttrain_roc: 0.9685, val_roc: 0.9554, train_auprc: 0.9601, val_auprc: 0.9472\n"
     ]
    },
    {
     "name": "stderr",
     "output_type": "stream",
     "text": [
      "/home/namle/.local/lib/python3.10/site-packages/torch_geometric/warnings.py:11: UserWarning: The usage of `scatter(reduce='max')` can be accelerated via the 'torch-scatter' package, but it was not found\n",
      "  warnings.warn(message)\n"
     ]
    },
    {
     "name": "stdout",
     "output_type": "stream",
     "text": [
      "Epoch: 143 (66.1647s), train_loss: 0.2133, val_loss: 0.2735, train_acc: 0.9191, val_acc:0.8989\n",
      "\t\ttrain_roc: 0.9681, val_roc: 0.9561, train_auprc: 0.9593, val_auprc: 0.9484\n"
     ]
    },
    {
     "name": "stderr",
     "output_type": "stream",
     "text": [
      "/home/namle/.local/lib/python3.10/site-packages/torch_geometric/warnings.py:11: UserWarning: The usage of `scatter(reduce='max')` can be accelerated via the 'torch-scatter' package, but it was not found\n",
      "  warnings.warn(message)\n"
     ]
    },
    {
     "name": "stdout",
     "output_type": "stream",
     "text": [
      "Epoch: 144 (66.3118s), train_loss: 0.2111, val_loss: 0.2749, train_acc: 0.9201, val_acc:0.8980\n",
      "\t\ttrain_roc: 0.9687, val_roc: 0.9556, train_auprc: 0.9604, val_auprc: 0.9476\n"
     ]
    },
    {
     "name": "stderr",
     "output_type": "stream",
     "text": [
      "/home/namle/.local/lib/python3.10/site-packages/torch_geometric/warnings.py:11: UserWarning: The usage of `scatter(reduce='max')` can be accelerated via the 'torch-scatter' package, but it was not found\n",
      "  warnings.warn(message)\n"
     ]
    },
    {
     "name": "stdout",
     "output_type": "stream",
     "text": [
      "Epoch: 145 (66.4211s), train_loss: 0.2130, val_loss: 0.2739, train_acc: 0.9190, val_acc:0.8987\n",
      "\t\ttrain_roc: 0.9682, val_roc: 0.9561, train_auprc: 0.9595, val_auprc: 0.9479\n"
     ]
    },
    {
     "name": "stderr",
     "output_type": "stream",
     "text": [
      "/home/namle/.local/lib/python3.10/site-packages/torch_geometric/warnings.py:11: UserWarning: The usage of `scatter(reduce='max')` can be accelerated via the 'torch-scatter' package, but it was not found\n",
      "  warnings.warn(message)\n"
     ]
    },
    {
     "name": "stdout",
     "output_type": "stream",
     "text": [
      "Epoch: 146 (66.0160s), train_loss: 0.2143, val_loss: 0.2742, train_acc: 0.9187, val_acc:0.8986\n",
      "\t\ttrain_roc: 0.9676, val_roc: 0.9560, train_auprc: 0.9586, val_auprc: 0.9482\n"
     ]
    },
    {
     "name": "stderr",
     "output_type": "stream",
     "text": [
      "/home/namle/.local/lib/python3.10/site-packages/torch_geometric/warnings.py:11: UserWarning: The usage of `scatter(reduce='max')` can be accelerated via the 'torch-scatter' package, but it was not found\n",
      "  warnings.warn(message)\n"
     ]
    },
    {
     "name": "stdout",
     "output_type": "stream",
     "text": [
      "Epoch: 147 (66.1009s), train_loss: 0.2123, val_loss: 0.2741, train_acc: 0.9194, val_acc:0.8989\n",
      "\t\ttrain_roc: 0.9684, val_roc: 0.9558, train_auprc: 0.9600, val_auprc: 0.9476\n"
     ]
    },
    {
     "name": "stderr",
     "output_type": "stream",
     "text": [
      "/home/namle/.local/lib/python3.10/site-packages/torch_geometric/warnings.py:11: UserWarning: The usage of `scatter(reduce='max')` can be accelerated via the 'torch-scatter' package, but it was not found\n",
      "  warnings.warn(message)\n"
     ]
    },
    {
     "name": "stdout",
     "output_type": "stream",
     "text": [
      "Saving model prc\n",
      "Epoch: 148 (66.4298s), train_loss: 0.2119, val_loss: 0.2719, train_acc: 0.9194, val_acc:0.8992\n",
      "\t\ttrain_roc: 0.9684, val_roc: 0.9569, train_auprc: 0.9597, val_auprc: 0.9501\n"
     ]
    },
    {
     "name": "stderr",
     "output_type": "stream",
     "text": [
      "/home/namle/.local/lib/python3.10/site-packages/torch_geometric/warnings.py:11: UserWarning: The usage of `scatter(reduce='max')` can be accelerated via the 'torch-scatter' package, but it was not found\n",
      "  warnings.warn(message)\n"
     ]
    },
    {
     "name": "stdout",
     "output_type": "stream",
     "text": [
      "Epoch: 149 (66.1432s), train_loss: 0.2135, val_loss: 0.2738, train_acc: 0.9191, val_acc:0.8981\n",
      "\t\ttrain_roc: 0.9679, val_roc: 0.9564, train_auprc: 0.9588, val_auprc: 0.9490\n"
     ]
    },
    {
     "name": "stderr",
     "output_type": "stream",
     "text": [
      "/home/namle/.local/lib/python3.10/site-packages/torch_geometric/warnings.py:11: UserWarning: The usage of `scatter(reduce='max')` can be accelerated via the 'torch-scatter' package, but it was not found\n",
      "  warnings.warn(message)\n"
     ]
    },
    {
     "name": "stdout",
     "output_type": "stream",
     "text": [
      "Epoch: 150 (66.2458s), train_loss: 0.2133, val_loss: 0.2727, train_acc: 0.9189, val_acc:0.8992\n",
      "\t\ttrain_roc: 0.9682, val_roc: 0.9565, train_auprc: 0.9597, val_auprc: 0.9492\n"
     ]
    },
    {
     "name": "stderr",
     "output_type": "stream",
     "text": [
      "/home/namle/.local/lib/python3.10/site-packages/torch_geometric/warnings.py:11: UserWarning: The usage of `scatter(reduce='max')` can be accelerated via the 'torch-scatter' package, but it was not found\n",
      "  warnings.warn(message)\n"
     ]
    },
    {
     "name": "stdout",
     "output_type": "stream",
     "text": [
      "Epoch: 151 (66.3394s), train_loss: 0.2124, val_loss: 0.2758, train_acc: 0.9198, val_acc:0.8988\n",
      "\t\ttrain_roc: 0.9682, val_roc: 0.9555, train_auprc: 0.9595, val_auprc: 0.9471\n"
     ]
    },
    {
     "name": "stderr",
     "output_type": "stream",
     "text": [
      "/home/namle/.local/lib/python3.10/site-packages/torch_geometric/warnings.py:11: UserWarning: The usage of `scatter(reduce='max')` can be accelerated via the 'torch-scatter' package, but it was not found\n",
      "  warnings.warn(message)\n"
     ]
    },
    {
     "name": "stdout",
     "output_type": "stream",
     "text": [
      "Epoch: 152 (66.5353s), train_loss: 0.2120, val_loss: 0.2763, train_acc: 0.9196, val_acc:0.8972\n",
      "\t\ttrain_roc: 0.9684, val_roc: 0.9554, train_auprc: 0.9599, val_auprc: 0.9475\n"
     ]
    },
    {
     "name": "stderr",
     "output_type": "stream",
     "text": [
      "/home/namle/.local/lib/python3.10/site-packages/torch_geometric/warnings.py:11: UserWarning: The usage of `scatter(reduce='max')` can be accelerated via the 'torch-scatter' package, but it was not found\n",
      "  warnings.warn(message)\n"
     ]
    },
    {
     "name": "stdout",
     "output_type": "stream",
     "text": [
      "Epoch: 153 (66.2705s), train_loss: 0.2130, val_loss: 0.2773, train_acc: 0.9195, val_acc:0.8978\n",
      "\t\ttrain_roc: 0.9682, val_roc: 0.9551, train_auprc: 0.9593, val_auprc: 0.9466\n"
     ]
    },
    {
     "name": "stderr",
     "output_type": "stream",
     "text": [
      "/home/namle/.local/lib/python3.10/site-packages/torch_geometric/warnings.py:11: UserWarning: The usage of `scatter(reduce='max')` can be accelerated via the 'torch-scatter' package, but it was not found\n",
      "  warnings.warn(message)\n"
     ]
    },
    {
     "name": "stdout",
     "output_type": "stream",
     "text": [
      "Epoch: 154 (66.1112s), train_loss: 0.2125, val_loss: 0.2736, train_acc: 0.9190, val_acc:0.8993\n",
      "\t\ttrain_roc: 0.9684, val_roc: 0.9562, train_auprc: 0.9600, val_auprc: 0.9490\n"
     ]
    },
    {
     "name": "stderr",
     "output_type": "stream",
     "text": [
      "/home/namle/.local/lib/python3.10/site-packages/torch_geometric/warnings.py:11: UserWarning: The usage of `scatter(reduce='max')` can be accelerated via the 'torch-scatter' package, but it was not found\n",
      "  warnings.warn(message)\n"
     ]
    },
    {
     "name": "stdout",
     "output_type": "stream",
     "text": [
      "Epoch: 155 (66.1060s), train_loss: 0.2143, val_loss: 0.2725, train_acc: 0.9186, val_acc:0.8992\n",
      "\t\ttrain_roc: 0.9677, val_roc: 0.9567, train_auprc: 0.9588, val_auprc: 0.9492\n"
     ]
    },
    {
     "name": "stderr",
     "output_type": "stream",
     "text": [
      "/home/namle/.local/lib/python3.10/site-packages/torch_geometric/warnings.py:11: UserWarning: The usage of `scatter(reduce='max')` can be accelerated via the 'torch-scatter' package, but it was not found\n",
      "  warnings.warn(message)\n"
     ]
    },
    {
     "name": "stdout",
     "output_type": "stream",
     "text": [
      "Epoch: 156 (66.3433s), train_loss: 0.2123, val_loss: 0.2753, train_acc: 0.9198, val_acc:0.8979\n",
      "\t\ttrain_roc: 0.9683, val_roc: 0.9559, train_auprc: 0.9595, val_auprc: 0.9480\n"
     ]
    },
    {
     "name": "stderr",
     "output_type": "stream",
     "text": [
      "/home/namle/.local/lib/python3.10/site-packages/torch_geometric/warnings.py:11: UserWarning: The usage of `scatter(reduce='max')` can be accelerated via the 'torch-scatter' package, but it was not found\n",
      "  warnings.warn(message)\n"
     ]
    },
    {
     "name": "stdout",
     "output_type": "stream",
     "text": [
      "Saving model prc\n",
      "Saving model acc\n",
      "Saving model roc\n",
      "Epoch: 157 (66.1683s), train_loss: 0.2123, val_loss: 0.2703, train_acc: 0.9195, val_acc:0.8998\n",
      "\t\ttrain_roc: 0.9683, val_roc: 0.9575, train_auprc: 0.9599, val_auprc: 0.9507\n"
     ]
    },
    {
     "name": "stderr",
     "output_type": "stream",
     "text": [
      "/home/namle/.local/lib/python3.10/site-packages/torch_geometric/warnings.py:11: UserWarning: The usage of `scatter(reduce='max')` can be accelerated via the 'torch-scatter' package, but it was not found\n",
      "  warnings.warn(message)\n"
     ]
    },
    {
     "name": "stdout",
     "output_type": "stream",
     "text": [
      "Epoch: 158 (66.1633s), train_loss: 0.2114, val_loss: 0.2721, train_acc: 0.9195, val_acc:0.8995\n",
      "\t\ttrain_roc: 0.9688, val_roc: 0.9568, train_auprc: 0.9602, val_auprc: 0.9494\n"
     ]
    },
    {
     "name": "stderr",
     "output_type": "stream",
     "text": [
      "/home/namle/.local/lib/python3.10/site-packages/torch_geometric/warnings.py:11: UserWarning: The usage of `scatter(reduce='max')` can be accelerated via the 'torch-scatter' package, but it was not found\n",
      "  warnings.warn(message)\n"
     ]
    },
    {
     "name": "stdout",
     "output_type": "stream",
     "text": [
      "Saving model acc\n",
      "Epoch: 159 (66.3527s), train_loss: 0.2122, val_loss: 0.2711, train_acc: 0.9198, val_acc:0.8998\n",
      "\t\ttrain_roc: 0.9683, val_roc: 0.9574, train_auprc: 0.9596, val_auprc: 0.9498\n"
     ]
    },
    {
     "name": "stderr",
     "output_type": "stream",
     "text": [
      "/home/namle/.local/lib/python3.10/site-packages/torch_geometric/warnings.py:11: UserWarning: The usage of `scatter(reduce='max')` can be accelerated via the 'torch-scatter' package, but it was not found\n",
      "  warnings.warn(message)\n"
     ]
    },
    {
     "name": "stdout",
     "output_type": "stream",
     "text": [
      "Epoch: 160 (66.1043s), train_loss: 0.2116, val_loss: 0.2772, train_acc: 0.9197, val_acc:0.8977\n",
      "\t\ttrain_roc: 0.9686, val_roc: 0.9550, train_auprc: 0.9600, val_auprc: 0.9465\n"
     ]
    },
    {
     "name": "stderr",
     "output_type": "stream",
     "text": [
      "/home/namle/.local/lib/python3.10/site-packages/torch_geometric/warnings.py:11: UserWarning: The usage of `scatter(reduce='max')` can be accelerated via the 'torch-scatter' package, but it was not found\n",
      "  warnings.warn(message)\n"
     ]
    },
    {
     "name": "stdout",
     "output_type": "stream",
     "text": [
      "Epoch: 161 (65.8079s), train_loss: 0.2110, val_loss: 0.2751, train_acc: 0.9201, val_acc:0.8989\n",
      "\t\ttrain_roc: 0.9688, val_roc: 0.9558, train_auprc: 0.9603, val_auprc: 0.9478\n"
     ]
    },
    {
     "name": "stderr",
     "output_type": "stream",
     "text": [
      "/home/namle/.local/lib/python3.10/site-packages/torch_geometric/warnings.py:11: UserWarning: The usage of `scatter(reduce='max')` can be accelerated via the 'torch-scatter' package, but it was not found\n",
      "  warnings.warn(message)\n"
     ]
    },
    {
     "name": "stdout",
     "output_type": "stream",
     "text": [
      "Epoch: 162 (65.9079s), train_loss: 0.2124, val_loss: 0.2760, train_acc: 0.9191, val_acc:0.8984\n",
      "\t\ttrain_roc: 0.9682, val_roc: 0.9555, train_auprc: 0.9596, val_auprc: 0.9471\n"
     ]
    },
    {
     "name": "stderr",
     "output_type": "stream",
     "text": [
      "/home/namle/.local/lib/python3.10/site-packages/torch_geometric/warnings.py:11: UserWarning: The usage of `scatter(reduce='max')` can be accelerated via the 'torch-scatter' package, but it was not found\n",
      "  warnings.warn(message)\n"
     ]
    },
    {
     "name": "stdout",
     "output_type": "stream",
     "text": [
      "Epoch: 163 (65.9705s), train_loss: 0.2121, val_loss: 0.2739, train_acc: 0.9195, val_acc:0.8990\n",
      "\t\ttrain_roc: 0.9684, val_roc: 0.9564, train_auprc: 0.9598, val_auprc: 0.9491\n"
     ]
    },
    {
     "name": "stderr",
     "output_type": "stream",
     "text": [
      "/home/namle/.local/lib/python3.10/site-packages/torch_geometric/warnings.py:11: UserWarning: The usage of `scatter(reduce='max')` can be accelerated via the 'torch-scatter' package, but it was not found\n",
      "  warnings.warn(message)\n"
     ]
    },
    {
     "name": "stdout",
     "output_type": "stream",
     "text": [
      "Epoch: 164 (65.6905s), train_loss: 0.2115, val_loss: 0.2740, train_acc: 0.9195, val_acc:0.8990\n",
      "\t\ttrain_roc: 0.9686, val_roc: 0.9566, train_auprc: 0.9602, val_auprc: 0.9489\n"
     ]
    },
    {
     "name": "stderr",
     "output_type": "stream",
     "text": [
      "/home/namle/.local/lib/python3.10/site-packages/torch_geometric/warnings.py:11: UserWarning: The usage of `scatter(reduce='max')` can be accelerated via the 'torch-scatter' package, but it was not found\n",
      "  warnings.warn(message)\n"
     ]
    },
    {
     "name": "stdout",
     "output_type": "stream",
     "text": [
      "Saving model acc\n",
      "Epoch: 165 (65.8817s), train_loss: 0.2137, val_loss: 0.2717, train_acc: 0.9189, val_acc:0.8998\n",
      "\t\ttrain_roc: 0.9678, val_roc: 0.9573, train_auprc: 0.9590, val_auprc: 0.9500\n"
     ]
    },
    {
     "name": "stderr",
     "output_type": "stream",
     "text": [
      "/home/namle/.local/lib/python3.10/site-packages/torch_geometric/warnings.py:11: UserWarning: The usage of `scatter(reduce='max')` can be accelerated via the 'torch-scatter' package, but it was not found\n",
      "  warnings.warn(message)\n"
     ]
    },
    {
     "name": "stdout",
     "output_type": "stream",
     "text": [
      "Epoch: 166 (65.7540s), train_loss: 0.2114, val_loss: 0.2753, train_acc: 0.9202, val_acc:0.8988\n",
      "\t\ttrain_roc: 0.9685, val_roc: 0.9560, train_auprc: 0.9599, val_auprc: 0.9480\n"
     ]
    },
    {
     "name": "stderr",
     "output_type": "stream",
     "text": [
      "/home/namle/.local/lib/python3.10/site-packages/torch_geometric/warnings.py:11: UserWarning: The usage of `scatter(reduce='max')` can be accelerated via the 'torch-scatter' package, but it was not found\n",
      "  warnings.warn(message)\n"
     ]
    },
    {
     "name": "stdout",
     "output_type": "stream",
     "text": [
      "Epoch: 167 (65.8827s), train_loss: 0.2112, val_loss: 0.2796, train_acc: 0.9196, val_acc:0.8964\n",
      "\t\ttrain_roc: 0.9688, val_roc: 0.9543, train_auprc: 0.9605, val_auprc: 0.9461\n"
     ]
    },
    {
     "name": "stderr",
     "output_type": "stream",
     "text": [
      "/home/namle/.local/lib/python3.10/site-packages/torch_geometric/warnings.py:11: UserWarning: The usage of `scatter(reduce='max')` can be accelerated via the 'torch-scatter' package, but it was not found\n",
      "  warnings.warn(message)\n"
     ]
    },
    {
     "name": "stdout",
     "output_type": "stream",
     "text": [
      "Epoch: 168 (66.0143s), train_loss: 0.2125, val_loss: 0.2767, train_acc: 0.9199, val_acc:0.8978\n",
      "\t\ttrain_roc: 0.9681, val_roc: 0.9555, train_auprc: 0.9593, val_auprc: 0.9478\n"
     ]
    },
    {
     "name": "stderr",
     "output_type": "stream",
     "text": [
      "/home/namle/.local/lib/python3.10/site-packages/torch_geometric/warnings.py:11: UserWarning: The usage of `scatter(reduce='max')` can be accelerated via the 'torch-scatter' package, but it was not found\n",
      "  warnings.warn(message)\n"
     ]
    },
    {
     "name": "stdout",
     "output_type": "stream",
     "text": [
      "Epoch: 169 (65.9882s), train_loss: 0.2128, val_loss: 0.2755, train_acc: 0.9192, val_acc:0.8991\n",
      "\t\ttrain_roc: 0.9682, val_roc: 0.9558, train_auprc: 0.9592, val_auprc: 0.9470\n"
     ]
    },
    {
     "name": "stderr",
     "output_type": "stream",
     "text": [
      "/home/namle/.local/lib/python3.10/site-packages/torch_geometric/warnings.py:11: UserWarning: The usage of `scatter(reduce='max')` can be accelerated via the 'torch-scatter' package, but it was not found\n",
      "  warnings.warn(message)\n"
     ]
    },
    {
     "name": "stdout",
     "output_type": "stream",
     "text": [
      "Epoch: 170 (65.8570s), train_loss: 0.2123, val_loss: 0.2744, train_acc: 0.9196, val_acc:0.8988\n",
      "\t\ttrain_roc: 0.9683, val_roc: 0.9561, train_auprc: 0.9597, val_auprc: 0.9484\n"
     ]
    },
    {
     "name": "stderr",
     "output_type": "stream",
     "text": [
      "/home/namle/.local/lib/python3.10/site-packages/torch_geometric/warnings.py:11: UserWarning: The usage of `scatter(reduce='max')` can be accelerated via the 'torch-scatter' package, but it was not found\n",
      "  warnings.warn(message)\n"
     ]
    },
    {
     "name": "stdout",
     "output_type": "stream",
     "text": [
      "Epoch: 171 (65.9429s), train_loss: 0.2100, val_loss: 0.2749, train_acc: 0.9208, val_acc:0.8981\n",
      "\t\ttrain_roc: 0.9691, val_roc: 0.9559, train_auprc: 0.9608, val_auprc: 0.9482\n"
     ]
    },
    {
     "name": "stderr",
     "output_type": "stream",
     "text": [
      "/home/namle/.local/lib/python3.10/site-packages/torch_geometric/warnings.py:11: UserWarning: The usage of `scatter(reduce='max')` can be accelerated via the 'torch-scatter' package, but it was not found\n",
      "  warnings.warn(message)\n"
     ]
    },
    {
     "name": "stdout",
     "output_type": "stream",
     "text": [
      "Epoch: 172 (65.9098s), train_loss: 0.2130, val_loss: 0.2755, train_acc: 0.9193, val_acc:0.8984\n",
      "\t\ttrain_roc: 0.9679, val_roc: 0.9561, train_auprc: 0.9592, val_auprc: 0.9484\n"
     ]
    },
    {
     "name": "stderr",
     "output_type": "stream",
     "text": [
      "/home/namle/.local/lib/python3.10/site-packages/torch_geometric/warnings.py:11: UserWarning: The usage of `scatter(reduce='max')` can be accelerated via the 'torch-scatter' package, but it was not found\n",
      "  warnings.warn(message)\n"
     ]
    },
    {
     "name": "stdout",
     "output_type": "stream",
     "text": [
      "Epoch: 173 (65.9161s), train_loss: 0.2132, val_loss: 0.2761, train_acc: 0.9192, val_acc:0.8985\n",
      "\t\ttrain_roc: 0.9681, val_roc: 0.9556, train_auprc: 0.9593, val_auprc: 0.9476\n"
     ]
    },
    {
     "name": "stderr",
     "output_type": "stream",
     "text": [
      "/home/namle/.local/lib/python3.10/site-packages/torch_geometric/warnings.py:11: UserWarning: The usage of `scatter(reduce='max')` can be accelerated via the 'torch-scatter' package, but it was not found\n",
      "  warnings.warn(message)\n"
     ]
    },
    {
     "name": "stdout",
     "output_type": "stream",
     "text": [
      "Epoch: 174 (66.0350s), train_loss: 0.2120, val_loss: 0.2771, train_acc: 0.9196, val_acc:0.8982\n",
      "\t\ttrain_roc: 0.9684, val_roc: 0.9554, train_auprc: 0.9597, val_auprc: 0.9471\n"
     ]
    },
    {
     "name": "stderr",
     "output_type": "stream",
     "text": [
      "/home/namle/.local/lib/python3.10/site-packages/torch_geometric/warnings.py:11: UserWarning: The usage of `scatter(reduce='max')` can be accelerated via the 'torch-scatter' package, but it was not found\n",
      "  warnings.warn(message)\n"
     ]
    },
    {
     "name": "stdout",
     "output_type": "stream",
     "text": [
      "Epoch: 175 (65.8366s), train_loss: 0.2117, val_loss: 0.2733, train_acc: 0.9199, val_acc:0.8993\n",
      "\t\ttrain_roc: 0.9684, val_roc: 0.9566, train_auprc: 0.9599, val_auprc: 0.9490\n"
     ]
    },
    {
     "name": "stderr",
     "output_type": "stream",
     "text": [
      "/home/namle/.local/lib/python3.10/site-packages/torch_geometric/warnings.py:11: UserWarning: The usage of `scatter(reduce='max')` can be accelerated via the 'torch-scatter' package, but it was not found\n",
      "  warnings.warn(message)\n"
     ]
    },
    {
     "name": "stdout",
     "output_type": "stream",
     "text": [
      "Epoch: 176 (65.8716s), train_loss: 0.2104, val_loss: 0.2730, train_acc: 0.9201, val_acc:0.8995\n",
      "\t\ttrain_roc: 0.9690, val_roc: 0.9567, train_auprc: 0.9608, val_auprc: 0.9494\n",
      "Epoch: 178 (66.0732s), train_loss: 0.2111, val_loss: 0.2735, train_acc: 0.9200, val_acc:0.8991\n",
      "\t\ttrain_roc: 0.9686, val_roc: 0.9567, train_auprc: 0.9601, val_auprc: 0.9490\n"
     ]
    },
    {
     "name": "stderr",
     "output_type": "stream",
     "text": [
      "/home/namle/.local/lib/python3.10/site-packages/torch_geometric/warnings.py:11: UserWarning: The usage of `scatter(reduce='max')` can be accelerated via the 'torch-scatter' package, but it was not found\n",
      "  warnings.warn(message)\n"
     ]
    },
    {
     "name": "stdout",
     "output_type": "stream",
     "text": [
      "Epoch: 179 (65.9277s), train_loss: 0.2120, val_loss: 0.2740, train_acc: 0.9196, val_acc:0.8985\n",
      "\t\ttrain_roc: 0.9683, val_roc: 0.9563, train_auprc: 0.9596, val_auprc: 0.9491\n"
     ]
    },
    {
     "name": "stderr",
     "output_type": "stream",
     "text": [
      "/home/namle/.local/lib/python3.10/site-packages/torch_geometric/warnings.py:11: UserWarning: The usage of `scatter(reduce='max')` can be accelerated via the 'torch-scatter' package, but it was not found\n",
      "  warnings.warn(message)\n"
     ]
    },
    {
     "name": "stdout",
     "output_type": "stream",
     "text": [
      "Saving model acc\n",
      "Epoch: 180 (65.9212s), train_loss: 0.2107, val_loss: 0.2727, train_acc: 0.9201, val_acc:0.9000\n",
      "\t\ttrain_roc: 0.9688, val_roc: 0.9570, train_auprc: 0.9603, val_auprc: 0.9496\n"
     ]
    },
    {
     "name": "stderr",
     "output_type": "stream",
     "text": [
      "/home/namle/.local/lib/python3.10/site-packages/torch_geometric/warnings.py:11: UserWarning: The usage of `scatter(reduce='max')` can be accelerated via the 'torch-scatter' package, but it was not found\n",
      "  warnings.warn(message)\n"
     ]
    },
    {
     "name": "stdout",
     "output_type": "stream",
     "text": [
      "Epoch: 181 (66.0476s), train_loss: 0.2118, val_loss: 0.2721, train_acc: 0.9197, val_acc:0.8998\n",
      "\t\ttrain_roc: 0.9684, val_roc: 0.9570, train_auprc: 0.9595, val_auprc: 0.9498\n"
     ]
    },
    {
     "name": "stderr",
     "output_type": "stream",
     "text": [
      "/home/namle/.local/lib/python3.10/site-packages/torch_geometric/warnings.py:11: UserWarning: The usage of `scatter(reduce='max')` can be accelerated via the 'torch-scatter' package, but it was not found\n",
      "  warnings.warn(message)\n"
     ]
    },
    {
     "name": "stdout",
     "output_type": "stream",
     "text": [
      "Epoch: 182 (66.0158s), train_loss: 0.2096, val_loss: 0.2750, train_acc: 0.9204, val_acc:0.8992\n",
      "\t\ttrain_roc: 0.9692, val_roc: 0.9561, train_auprc: 0.9609, val_auprc: 0.9477\n"
     ]
    },
    {
     "name": "stderr",
     "output_type": "stream",
     "text": [
      "/home/namle/.local/lib/python3.10/site-packages/torch_geometric/warnings.py:11: UserWarning: The usage of `scatter(reduce='max')` can be accelerated via the 'torch-scatter' package, but it was not found\n",
      "  warnings.warn(message)\n"
     ]
    },
    {
     "name": "stdout",
     "output_type": "stream",
     "text": [
      "Epoch: 183 (65.9423s), train_loss: 0.2112, val_loss: 0.2754, train_acc: 0.9196, val_acc:0.8978\n",
      "\t\ttrain_roc: 0.9687, val_roc: 0.9561, train_auprc: 0.9602, val_auprc: 0.9487\n"
     ]
    },
    {
     "name": "stderr",
     "output_type": "stream",
     "text": [
      "/home/namle/.local/lib/python3.10/site-packages/torch_geometric/warnings.py:11: UserWarning: The usage of `scatter(reduce='max')` can be accelerated via the 'torch-scatter' package, but it was not found\n",
      "  warnings.warn(message)\n"
     ]
    },
    {
     "name": "stdout",
     "output_type": "stream",
     "text": [
      "Epoch: 184 (65.8813s), train_loss: 0.2110, val_loss: 0.2741, train_acc: 0.9200, val_acc:0.8989\n",
      "\t\ttrain_roc: 0.9686, val_roc: 0.9564, train_auprc: 0.9600, val_auprc: 0.9485\n"
     ]
    },
    {
     "name": "stderr",
     "output_type": "stream",
     "text": [
      "/home/namle/.local/lib/python3.10/site-packages/torch_geometric/warnings.py:11: UserWarning: The usage of `scatter(reduce='max')` can be accelerated via the 'torch-scatter' package, but it was not found\n",
      "  warnings.warn(message)\n"
     ]
    },
    {
     "name": "stdout",
     "output_type": "stream",
     "text": [
      "Epoch: 185 (65.9327s), train_loss: 0.2099, val_loss: 0.2737, train_acc: 0.9210, val_acc:0.8988\n",
      "\t\ttrain_roc: 0.9690, val_roc: 0.9566, train_auprc: 0.9603, val_auprc: 0.9490\n"
     ]
    },
    {
     "name": "stderr",
     "output_type": "stream",
     "text": [
      "/home/namle/.local/lib/python3.10/site-packages/torch_geometric/warnings.py:11: UserWarning: The usage of `scatter(reduce='max')` can be accelerated via the 'torch-scatter' package, but it was not found\n",
      "  warnings.warn(message)\n"
     ]
    },
    {
     "name": "stdout",
     "output_type": "stream",
     "text": [
      "Epoch: 186 (66.1338s), train_loss: 0.2116, val_loss: 0.2749, train_acc: 0.9195, val_acc:0.8987\n",
      "\t\ttrain_roc: 0.9685, val_roc: 0.9560, train_auprc: 0.9599, val_auprc: 0.9481\n"
     ]
    },
    {
     "name": "stderr",
     "output_type": "stream",
     "text": [
      "/home/namle/.local/lib/python3.10/site-packages/torch_geometric/warnings.py:11: UserWarning: The usage of `scatter(reduce='max')` can be accelerated via the 'torch-scatter' package, but it was not found\n",
      "  warnings.warn(message)\n"
     ]
    },
    {
     "name": "stdout",
     "output_type": "stream",
     "text": [
      "Epoch: 187 (65.7157s), train_loss: 0.2116, val_loss: 0.2741, train_acc: 0.9204, val_acc:0.8991\n",
      "\t\ttrain_roc: 0.9684, val_roc: 0.9564, train_auprc: 0.9597, val_auprc: 0.9486\n"
     ]
    },
    {
     "name": "stderr",
     "output_type": "stream",
     "text": [
      "/home/namle/.local/lib/python3.10/site-packages/torch_geometric/warnings.py:11: UserWarning: The usage of `scatter(reduce='max')` can be accelerated via the 'torch-scatter' package, but it was not found\n",
      "  warnings.warn(message)\n"
     ]
    },
    {
     "name": "stdout",
     "output_type": "stream",
     "text": [
      "Epoch: 188 (65.9894s), train_loss: 0.2100, val_loss: 0.2737, train_acc: 0.9203, val_acc:0.8998\n",
      "\t\ttrain_roc: 0.9691, val_roc: 0.9568, train_auprc: 0.9608, val_auprc: 0.9489\n"
     ]
    },
    {
     "name": "stderr",
     "output_type": "stream",
     "text": [
      "/home/namle/.local/lib/python3.10/site-packages/torch_geometric/warnings.py:11: UserWarning: The usage of `scatter(reduce='max')` can be accelerated via the 'torch-scatter' package, but it was not found\n",
      "  warnings.warn(message)\n"
     ]
    },
    {
     "name": "stdout",
     "output_type": "stream",
     "text": [
      "Epoch: 189 (65.9559s), train_loss: 0.2111, val_loss: 0.2727, train_acc: 0.9200, val_acc:0.8997\n",
      "\t\ttrain_roc: 0.9686, val_roc: 0.9566, train_auprc: 0.9599, val_auprc: 0.9490\n"
     ]
    },
    {
     "name": "stderr",
     "output_type": "stream",
     "text": [
      "/home/namle/.local/lib/python3.10/site-packages/torch_geometric/warnings.py:11: UserWarning: The usage of `scatter(reduce='max')` can be accelerated via the 'torch-scatter' package, but it was not found\n",
      "  warnings.warn(message)\n"
     ]
    },
    {
     "name": "stdout",
     "output_type": "stream",
     "text": [
      "Epoch: 190 (66.0574s), train_loss: 0.2094, val_loss: 0.2741, train_acc: 0.9212, val_acc:0.8989\n",
      "\t\ttrain_roc: 0.9691, val_roc: 0.9566, train_auprc: 0.9607, val_auprc: 0.9491\n"
     ]
    },
    {
     "name": "stderr",
     "output_type": "stream",
     "text": [
      "/home/namle/.local/lib/python3.10/site-packages/torch_geometric/warnings.py:11: UserWarning: The usage of `scatter(reduce='max')` can be accelerated via the 'torch-scatter' package, but it was not found\n",
      "  warnings.warn(message)\n"
     ]
    },
    {
     "name": "stdout",
     "output_type": "stream",
     "text": [
      "Epoch: 191 (65.8929s), train_loss: 0.2106, val_loss: 0.2737, train_acc: 0.9202, val_acc:0.8993\n",
      "\t\ttrain_roc: 0.9688, val_roc: 0.9567, train_auprc: 0.9603, val_auprc: 0.9489\n"
     ]
    },
    {
     "name": "stderr",
     "output_type": "stream",
     "text": [
      "/home/namle/.local/lib/python3.10/site-packages/torch_geometric/warnings.py:11: UserWarning: The usage of `scatter(reduce='max')` can be accelerated via the 'torch-scatter' package, but it was not found\n",
      "  warnings.warn(message)\n"
     ]
    },
    {
     "name": "stdout",
     "output_type": "stream",
     "text": [
      "Epoch: 192 (65.8491s), train_loss: 0.2108, val_loss: 0.2733, train_acc: 0.9198, val_acc:0.8994\n",
      "\t\ttrain_roc: 0.9688, val_roc: 0.9568, train_auprc: 0.9605, val_auprc: 0.9488\n"
     ]
    },
    {
     "name": "stderr",
     "output_type": "stream",
     "text": [
      "/home/namle/.local/lib/python3.10/site-packages/torch_geometric/warnings.py:11: UserWarning: The usage of `scatter(reduce='max')` can be accelerated via the 'torch-scatter' package, but it was not found\n",
      "  warnings.warn(message)\n"
     ]
    },
    {
     "name": "stdout",
     "output_type": "stream",
     "text": [
      "Epoch: 193 (65.9169s), train_loss: 0.2125, val_loss: 0.2751, train_acc: 0.9194, val_acc:0.8988\n",
      "\t\ttrain_roc: 0.9682, val_roc: 0.9562, train_auprc: 0.9596, val_auprc: 0.9480\n"
     ]
    },
    {
     "name": "stderr",
     "output_type": "stream",
     "text": [
      "/home/namle/.local/lib/python3.10/site-packages/torch_geometric/warnings.py:11: UserWarning: The usage of `scatter(reduce='max')` can be accelerated via the 'torch-scatter' package, but it was not found\n",
      "  warnings.warn(message)\n"
     ]
    },
    {
     "name": "stdout",
     "output_type": "stream",
     "text": [
      "Epoch: 194 (65.7811s), train_loss: 0.2102, val_loss: 0.2754, train_acc: 0.9205, val_acc:0.8992\n",
      "\t\ttrain_roc: 0.9690, val_roc: 0.9559, train_auprc: 0.9604, val_auprc: 0.9476\n"
     ]
    },
    {
     "name": "stderr",
     "output_type": "stream",
     "text": [
      "/home/namle/.local/lib/python3.10/site-packages/torch_geometric/warnings.py:11: UserWarning: The usage of `scatter(reduce='max')` can be accelerated via the 'torch-scatter' package, but it was not found\n",
      "  warnings.warn(message)\n"
     ]
    },
    {
     "name": "stdout",
     "output_type": "stream",
     "text": [
      "Epoch: 195 (66.0008s), train_loss: 0.2102, val_loss: 0.2734, train_acc: 0.9202, val_acc:0.9000\n",
      "\t\ttrain_roc: 0.9690, val_roc: 0.9567, train_auprc: 0.9602, val_auprc: 0.9487\n"
     ]
    },
    {
     "name": "stderr",
     "output_type": "stream",
     "text": [
      "/home/namle/.local/lib/python3.10/site-packages/torch_geometric/warnings.py:11: UserWarning: The usage of `scatter(reduce='max')` can be accelerated via the 'torch-scatter' package, but it was not found\n",
      "  warnings.warn(message)\n"
     ]
    },
    {
     "name": "stdout",
     "output_type": "stream",
     "text": [
      "Epoch: 196 (65.9191s), train_loss: 0.2121, val_loss: 0.2749, train_acc: 0.9199, val_acc:0.8982\n",
      "\t\ttrain_roc: 0.9682, val_roc: 0.9562, train_auprc: 0.9594, val_auprc: 0.9485\n"
     ]
    },
    {
     "name": "stderr",
     "output_type": "stream",
     "text": [
      "/home/namle/.local/lib/python3.10/site-packages/torch_geometric/warnings.py:11: UserWarning: The usage of `scatter(reduce='max')` can be accelerated via the 'torch-scatter' package, but it was not found\n",
      "  warnings.warn(message)\n"
     ]
    },
    {
     "name": "stdout",
     "output_type": "stream",
     "text": [
      "Epoch: 197 (65.9622s), train_loss: 0.2119, val_loss: 0.2763, train_acc: 0.9192, val_acc:0.8983\n",
      "\t\ttrain_roc: 0.9685, val_roc: 0.9558, train_auprc: 0.9601, val_auprc: 0.9472\n"
     ]
    },
    {
     "name": "stderr",
     "output_type": "stream",
     "text": [
      "/home/namle/.local/lib/python3.10/site-packages/torch_geometric/warnings.py:11: UserWarning: The usage of `scatter(reduce='max')` can be accelerated via the 'torch-scatter' package, but it was not found\n",
      "  warnings.warn(message)\n"
     ]
    },
    {
     "name": "stdout",
     "output_type": "stream",
     "text": [
      "Saving model prc\n",
      "Saving model acc\n",
      "Saving model roc\n",
      "Epoch: 198 (65.8969s), train_loss: 0.2117, val_loss: 0.2694, train_acc: 0.9199, val_acc:0.9011\n",
      "\t\ttrain_roc: 0.9685, val_roc: 0.9582, train_auprc: 0.9598, val_auprc: 0.9513\n"
     ]
    },
    {
     "name": "stderr",
     "output_type": "stream",
     "text": [
      "/home/namle/.local/lib/python3.10/site-packages/torch_geometric/warnings.py:11: UserWarning: The usage of `scatter(reduce='max')` can be accelerated via the 'torch-scatter' package, but it was not found\n",
      "  warnings.warn(message)\n"
     ]
    },
    {
     "name": "stdout",
     "output_type": "stream",
     "text": [
      "Epoch: 199 (65.9433s), train_loss: 0.2102, val_loss: 0.2740, train_acc: 0.9206, val_acc:0.8998\n",
      "\t\ttrain_roc: 0.9689, val_roc: 0.9565, train_auprc: 0.9604, val_auprc: 0.9483\n"
     ]
    },
    {
     "name": "stderr",
     "output_type": "stream",
     "text": [
      "/home/namle/.local/lib/python3.10/site-packages/torch_geometric/warnings.py:11: UserWarning: The usage of `scatter(reduce='max')` can be accelerated via the 'torch-scatter' package, but it was not found\n",
      "  warnings.warn(message)\n"
     ]
    },
    {
     "name": "stdout",
     "output_type": "stream",
     "text": [
      "Epoch: 200 (65.7991s), train_loss: 0.2112, val_loss: 0.2730, train_acc: 0.9200, val_acc:0.8993\n",
      "\t\ttrain_roc: 0.9686, val_roc: 0.9569, train_auprc: 0.9600, val_auprc: 0.9490\n"
     ]
    },
    {
     "name": "stderr",
     "output_type": "stream",
     "text": [
      "/home/namle/.local/lib/python3.10/site-packages/torch_geometric/warnings.py:11: UserWarning: The usage of `scatter(reduce='max')` can be accelerated via the 'torch-scatter' package, but it was not found\n",
      "  warnings.warn(message)\n"
     ]
    },
    {
     "name": "stdout",
     "output_type": "stream",
     "text": [
      "Epoch: 201 (65.7988s), train_loss: 0.2123, val_loss: 0.2746, train_acc: 0.9193, val_acc:0.8991\n",
      "\t\ttrain_roc: 0.9684, val_roc: 0.9564, train_auprc: 0.9599, val_auprc: 0.9487\n"
     ]
    },
    {
     "name": "stderr",
     "output_type": "stream",
     "text": [
      "/home/namle/.local/lib/python3.10/site-packages/torch_geometric/warnings.py:11: UserWarning: The usage of `scatter(reduce='max')` can be accelerated via the 'torch-scatter' package, but it was not found\n",
      "  warnings.warn(message)\n"
     ]
    },
    {
     "name": "stdout",
     "output_type": "stream",
     "text": [
      "Epoch: 202 (65.9257s), train_loss: 0.2102, val_loss: 0.2735, train_acc: 0.9204, val_acc:0.8995\n",
      "\t\ttrain_roc: 0.9690, val_roc: 0.9568, train_auprc: 0.9606, val_auprc: 0.9492\n"
     ]
    },
    {
     "name": "stderr",
     "output_type": "stream",
     "text": [
      "/home/namle/.local/lib/python3.10/site-packages/torch_geometric/warnings.py:11: UserWarning: The usage of `scatter(reduce='max')` can be accelerated via the 'torch-scatter' package, but it was not found\n",
      "  warnings.warn(message)\n"
     ]
    },
    {
     "name": "stdout",
     "output_type": "stream",
     "text": [
      "Epoch: 203 (65.7693s), train_loss: 0.2107, val_loss: 0.2705, train_acc: 0.9202, val_acc:0.9006\n",
      "\t\ttrain_roc: 0.9687, val_roc: 0.9578, train_auprc: 0.9602, val_auprc: 0.9507\n"
     ]
    },
    {
     "name": "stderr",
     "output_type": "stream",
     "text": [
      "/home/namle/.local/lib/python3.10/site-packages/torch_geometric/warnings.py:11: UserWarning: The usage of `scatter(reduce='max')` can be accelerated via the 'torch-scatter' package, but it was not found\n",
      "  warnings.warn(message)\n"
     ]
    },
    {
     "name": "stdout",
     "output_type": "stream",
     "text": [
      "Epoch: 204 (65.8739s), train_loss: 0.2094, val_loss: 0.2756, train_acc: 0.9204, val_acc:0.8987\n",
      "\t\ttrain_roc: 0.9692, val_roc: 0.9559, train_auprc: 0.9609, val_auprc: 0.9480\n"
     ]
    },
    {
     "name": "stderr",
     "output_type": "stream",
     "text": [
      "/home/namle/.local/lib/python3.10/site-packages/torch_geometric/warnings.py:11: UserWarning: The usage of `scatter(reduce='max')` can be accelerated via the 'torch-scatter' package, but it was not found\n",
      "  warnings.warn(message)\n"
     ]
    },
    {
     "name": "stdout",
     "output_type": "stream",
     "text": [
      "Epoch: 205 (65.9878s), train_loss: 0.2106, val_loss: 0.2769, train_acc: 0.9195, val_acc:0.8984\n",
      "\t\ttrain_roc: 0.9689, val_roc: 0.9556, train_auprc: 0.9606, val_auprc: 0.9471\n"
     ]
    },
    {
     "name": "stderr",
     "output_type": "stream",
     "text": [
      "/home/namle/.local/lib/python3.10/site-packages/torch_geometric/warnings.py:11: UserWarning: The usage of `scatter(reduce='max')` can be accelerated via the 'torch-scatter' package, but it was not found\n",
      "  warnings.warn(message)\n"
     ]
    },
    {
     "name": "stdout",
     "output_type": "stream",
     "text": [
      "Epoch: 206 (66.1241s), train_loss: 0.2105, val_loss: 0.2727, train_acc: 0.9202, val_acc:0.8985\n",
      "\t\ttrain_roc: 0.9688, val_roc: 0.9572, train_auprc: 0.9604, val_auprc: 0.9501\n"
     ]
    },
    {
     "name": "stderr",
     "output_type": "stream",
     "text": [
      "/home/namle/.local/lib/python3.10/site-packages/torch_geometric/warnings.py:11: UserWarning: The usage of `scatter(reduce='max')` can be accelerated via the 'torch-scatter' package, but it was not found\n",
      "  warnings.warn(message)\n"
     ]
    },
    {
     "name": "stdout",
     "output_type": "stream",
     "text": [
      "Epoch: 207 (65.9175s), train_loss: 0.2109, val_loss: 0.2749, train_acc: 0.9199, val_acc:0.8987\n",
      "\t\ttrain_roc: 0.9688, val_roc: 0.9564, train_auprc: 0.9603, val_auprc: 0.9487\n"
     ]
    },
    {
     "name": "stderr",
     "output_type": "stream",
     "text": [
      "/home/namle/.local/lib/python3.10/site-packages/torch_geometric/warnings.py:11: UserWarning: The usage of `scatter(reduce='max')` can be accelerated via the 'torch-scatter' package, but it was not found\n",
      "  warnings.warn(message)\n"
     ]
    },
    {
     "name": "stdout",
     "output_type": "stream",
     "text": [
      "Epoch: 208 (65.9464s), train_loss: 0.2096, val_loss: 0.2758, train_acc: 0.9209, val_acc:0.8982\n",
      "\t\ttrain_roc: 0.9692, val_roc: 0.9559, train_auprc: 0.9607, val_auprc: 0.9479\n"
     ]
    },
    {
     "name": "stderr",
     "output_type": "stream",
     "text": [
      "/home/namle/.local/lib/python3.10/site-packages/torch_geometric/warnings.py:11: UserWarning: The usage of `scatter(reduce='max')` can be accelerated via the 'torch-scatter' package, but it was not found\n",
      "  warnings.warn(message)\n"
     ]
    },
    {
     "name": "stdout",
     "output_type": "stream",
     "text": [
      "Epoch: 209 (66.2191s), train_loss: 0.2104, val_loss: 0.2740, train_acc: 0.9202, val_acc:0.8995\n",
      "\t\ttrain_roc: 0.9688, val_roc: 0.9565, train_auprc: 0.9602, val_auprc: 0.9488\n"
     ]
    },
    {
     "name": "stderr",
     "output_type": "stream",
     "text": [
      "/home/namle/.local/lib/python3.10/site-packages/torch_geometric/warnings.py:11: UserWarning: The usage of `scatter(reduce='max')` can be accelerated via the 'torch-scatter' package, but it was not found\n",
      "  warnings.warn(message)\n"
     ]
    },
    {
     "name": "stdout",
     "output_type": "stream",
     "text": [
      "Epoch: 210 (65.9434s), train_loss: 0.2100, val_loss: 0.2748, train_acc: 0.9198, val_acc:0.8986\n",
      "\t\ttrain_roc: 0.9692, val_roc: 0.9563, train_auprc: 0.9609, val_auprc: 0.9486\n"
     ]
    },
    {
     "name": "stderr",
     "output_type": "stream",
     "text": [
      "/home/namle/.local/lib/python3.10/site-packages/torch_geometric/warnings.py:11: UserWarning: The usage of `scatter(reduce='max')` can be accelerated via the 'torch-scatter' package, but it was not found\n",
      "  warnings.warn(message)\n"
     ]
    },
    {
     "name": "stdout",
     "output_type": "stream",
     "text": [
      "Epoch: 211 (65.9597s), train_loss: 0.2111, val_loss: 0.2763, train_acc: 0.9198, val_acc:0.8977\n",
      "\t\ttrain_roc: 0.9686, val_roc: 0.9557, train_auprc: 0.9600, val_auprc: 0.9477\n"
     ]
    },
    {
     "name": "stderr",
     "output_type": "stream",
     "text": [
      "/home/namle/.local/lib/python3.10/site-packages/torch_geometric/warnings.py:11: UserWarning: The usage of `scatter(reduce='max')` can be accelerated via the 'torch-scatter' package, but it was not found\n",
      "  warnings.warn(message)\n"
     ]
    },
    {
     "name": "stdout",
     "output_type": "stream",
     "text": [
      "Epoch: 212 (65.9240s), train_loss: 0.2108, val_loss: 0.2717, train_acc: 0.9208, val_acc:0.9002\n",
      "\t\ttrain_roc: 0.9686, val_roc: 0.9573, train_auprc: 0.9595, val_auprc: 0.9501\n"
     ]
    },
    {
     "name": "stderr",
     "output_type": "stream",
     "text": [
      "/home/namle/.local/lib/python3.10/site-packages/torch_geometric/warnings.py:11: UserWarning: The usage of `scatter(reduce='max')` can be accelerated via the 'torch-scatter' package, but it was not found\n",
      "  warnings.warn(message)\n"
     ]
    },
    {
     "name": "stdout",
     "output_type": "stream",
     "text": [
      "Epoch: 213 (66.0879s), train_loss: 0.2114, val_loss: 0.2739, train_acc: 0.9202, val_acc:0.8997\n",
      "\t\ttrain_roc: 0.9686, val_roc: 0.9566, train_auprc: 0.9596, val_auprc: 0.9489\n"
     ]
    },
    {
     "name": "stderr",
     "output_type": "stream",
     "text": [
      "/home/namle/.local/lib/python3.10/site-packages/torch_geometric/warnings.py:11: UserWarning: The usage of `scatter(reduce='max')` can be accelerated via the 'torch-scatter' package, but it was not found\n",
      "  warnings.warn(message)\n"
     ]
    },
    {
     "name": "stdout",
     "output_type": "stream",
     "text": [
      "Epoch: 214 (65.9297s), train_loss: 0.2123, val_loss: 0.2726, train_acc: 0.9197, val_acc:0.9003\n",
      "\t\ttrain_roc: 0.9682, val_roc: 0.9569, train_auprc: 0.9592, val_auprc: 0.9492\n"
     ]
    },
    {
     "name": "stderr",
     "output_type": "stream",
     "text": [
      "/home/namle/.local/lib/python3.10/site-packages/torch_geometric/warnings.py:11: UserWarning: The usage of `scatter(reduce='max')` can be accelerated via the 'torch-scatter' package, but it was not found\n",
      "  warnings.warn(message)\n"
     ]
    },
    {
     "name": "stdout",
     "output_type": "stream",
     "text": [
      "Epoch: 215 (65.7642s), train_loss: 0.2113, val_loss: 0.2732, train_acc: 0.9198, val_acc:0.8984\n",
      "\t\ttrain_roc: 0.9686, val_roc: 0.9568, train_auprc: 0.9599, val_auprc: 0.9496\n"
     ]
    },
    {
     "name": "stderr",
     "output_type": "stream",
     "text": [
      "/home/namle/.local/lib/python3.10/site-packages/torch_geometric/warnings.py:11: UserWarning: The usage of `scatter(reduce='max')` can be accelerated via the 'torch-scatter' package, but it was not found\n",
      "  warnings.warn(message)\n"
     ]
    },
    {
     "name": "stdout",
     "output_type": "stream",
     "text": [
      "Epoch: 216 (65.9743s), train_loss: 0.2115, val_loss: 0.2730, train_acc: 0.9197, val_acc:0.8990\n",
      "\t\ttrain_roc: 0.9685, val_roc: 0.9570, train_auprc: 0.9598, val_auprc: 0.9497\n"
     ]
    },
    {
     "name": "stderr",
     "output_type": "stream",
     "text": [
      "/home/namle/.local/lib/python3.10/site-packages/torch_geometric/warnings.py:11: UserWarning: The usage of `scatter(reduce='max')` can be accelerated via the 'torch-scatter' package, but it was not found\n",
      "  warnings.warn(message)\n"
     ]
    },
    {
     "name": "stdout",
     "output_type": "stream",
     "text": [
      "Epoch: 217 (65.8150s), train_loss: 0.2090, val_loss: 0.2744, train_acc: 0.9205, val_acc:0.8994\n",
      "\t\ttrain_roc: 0.9694, val_roc: 0.9562, train_auprc: 0.9612, val_auprc: 0.9480\n"
     ]
    },
    {
     "name": "stderr",
     "output_type": "stream",
     "text": [
      "/home/namle/.local/lib/python3.10/site-packages/torch_geometric/warnings.py:11: UserWarning: The usage of `scatter(reduce='max')` can be accelerated via the 'torch-scatter' package, but it was not found\n",
      "  warnings.warn(message)\n"
     ]
    },
    {
     "name": "stdout",
     "output_type": "stream",
     "text": [
      "Epoch: 218 (65.8370s), train_loss: 0.2108, val_loss: 0.2733, train_acc: 0.9198, val_acc:0.8997\n",
      "\t\ttrain_roc: 0.9688, val_roc: 0.9570, train_auprc: 0.9604, val_auprc: 0.9489\n"
     ]
    },
    {
     "name": "stderr",
     "output_type": "stream",
     "text": [
      "/home/namle/.local/lib/python3.10/site-packages/torch_geometric/warnings.py:11: UserWarning: The usage of `scatter(reduce='max')` can be accelerated via the 'torch-scatter' package, but it was not found\n",
      "  warnings.warn(message)\n"
     ]
    },
    {
     "name": "stdout",
     "output_type": "stream",
     "text": [
      "Epoch: 219 (65.8459s), train_loss: 0.2121, val_loss: 0.2753, train_acc: 0.9194, val_acc:0.8984\n",
      "\t\ttrain_roc: 0.9684, val_roc: 0.9561, train_auprc: 0.9598, val_auprc: 0.9483\n"
     ]
    },
    {
     "name": "stderr",
     "output_type": "stream",
     "text": [
      "/home/namle/.local/lib/python3.10/site-packages/torch_geometric/warnings.py:11: UserWarning: The usage of `scatter(reduce='max')` can be accelerated via the 'torch-scatter' package, but it was not found\n",
      "  warnings.warn(message)\n"
     ]
    },
    {
     "name": "stdout",
     "output_type": "stream",
     "text": [
      "Epoch: 220 (65.9400s), train_loss: 0.2109, val_loss: 0.2730, train_acc: 0.9206, val_acc:0.8999\n",
      "\t\ttrain_roc: 0.9686, val_roc: 0.9568, train_auprc: 0.9599, val_auprc: 0.9494\n"
     ]
    },
    {
     "name": "stderr",
     "output_type": "stream",
     "text": [
      "/home/namle/.local/lib/python3.10/site-packages/torch_geometric/warnings.py:11: UserWarning: The usage of `scatter(reduce='max')` can be accelerated via the 'torch-scatter' package, but it was not found\n",
      "  warnings.warn(message)\n"
     ]
    },
    {
     "name": "stdout",
     "output_type": "stream",
     "text": [
      "Epoch: 221 (65.8072s), train_loss: 0.2118, val_loss: 0.2731, train_acc: 0.9197, val_acc:0.8993\n",
      "\t\ttrain_roc: 0.9684, val_roc: 0.9569, train_auprc: 0.9595, val_auprc: 0.9491\n"
     ]
    },
    {
     "name": "stderr",
     "output_type": "stream",
     "text": [
      "/home/namle/.local/lib/python3.10/site-packages/torch_geometric/warnings.py:11: UserWarning: The usage of `scatter(reduce='max')` can be accelerated via the 'torch-scatter' package, but it was not found\n",
      "  warnings.warn(message)\n"
     ]
    },
    {
     "name": "stdout",
     "output_type": "stream",
     "text": [
      "Epoch: 222 (65.7735s), train_loss: 0.2112, val_loss: 0.2754, train_acc: 0.9205, val_acc:0.8990\n",
      "\t\ttrain_roc: 0.9686, val_roc: 0.9561, train_auprc: 0.9597, val_auprc: 0.9480\n"
     ]
    },
    {
     "name": "stderr",
     "output_type": "stream",
     "text": [
      "/home/namle/.local/lib/python3.10/site-packages/torch_geometric/warnings.py:11: UserWarning: The usage of `scatter(reduce='max')` can be accelerated via the 'torch-scatter' package, but it was not found\n",
      "  warnings.warn(message)\n"
     ]
    },
    {
     "name": "stdout",
     "output_type": "stream",
     "text": [
      "Epoch: 223 (65.9291s), train_loss: 0.2116, val_loss: 0.2729, train_acc: 0.9193, val_acc:0.9002\n",
      "\t\ttrain_roc: 0.9686, val_roc: 0.9568, train_auprc: 0.9599, val_auprc: 0.9495\n"
     ]
    },
    {
     "name": "stderr",
     "output_type": "stream",
     "text": [
      "/home/namle/.local/lib/python3.10/site-packages/torch_geometric/warnings.py:11: UserWarning: The usage of `scatter(reduce='max')` can be accelerated via the 'torch-scatter' package, but it was not found\n",
      "  warnings.warn(message)\n"
     ]
    },
    {
     "name": "stdout",
     "output_type": "stream",
     "text": [
      "Epoch: 224 (65.7592s), train_loss: 0.2121, val_loss: 0.2762, train_acc: 0.9199, val_acc:0.8985\n",
      "\t\ttrain_roc: 0.9683, val_roc: 0.9558, train_auprc: 0.9595, val_auprc: 0.9478\n"
     ]
    },
    {
     "name": "stderr",
     "output_type": "stream",
     "text": [
      "/home/namle/.local/lib/python3.10/site-packages/torch_geometric/warnings.py:11: UserWarning: The usage of `scatter(reduce='max')` can be accelerated via the 'torch-scatter' package, but it was not found\n",
      "  warnings.warn(message)\n"
     ]
    },
    {
     "name": "stdout",
     "output_type": "stream",
     "text": [
      "Epoch: 225 (65.7654s), train_loss: 0.2123, val_loss: 0.2723, train_acc: 0.9198, val_acc:0.8992\n",
      "\t\ttrain_roc: 0.9681, val_roc: 0.9572, train_auprc: 0.9592, val_auprc: 0.9501\n"
     ]
    },
    {
     "name": "stderr",
     "output_type": "stream",
     "text": [
      "/home/namle/.local/lib/python3.10/site-packages/torch_geometric/warnings.py:11: UserWarning: The usage of `scatter(reduce='max')` can be accelerated via the 'torch-scatter' package, but it was not found\n",
      "  warnings.warn(message)\n"
     ]
    },
    {
     "name": "stdout",
     "output_type": "stream",
     "text": [
      "Epoch: 226 (65.9980s), train_loss: 0.2106, val_loss: 0.2737, train_acc: 0.9204, val_acc:0.8995\n",
      "\t\ttrain_roc: 0.9688, val_roc: 0.9567, train_auprc: 0.9602, val_auprc: 0.9488\n"
     ]
    },
    {
     "name": "stderr",
     "output_type": "stream",
     "text": [
      "/home/namle/.local/lib/python3.10/site-packages/torch_geometric/warnings.py:11: UserWarning: The usage of `scatter(reduce='max')` can be accelerated via the 'torch-scatter' package, but it was not found\n",
      "  warnings.warn(message)\n"
     ]
    },
    {
     "name": "stdout",
     "output_type": "stream",
     "text": [
      "Epoch: 227 (66.0208s), train_loss: 0.2122, val_loss: 0.2757, train_acc: 0.9199, val_acc:0.8981\n",
      "\t\ttrain_roc: 0.9682, val_roc: 0.9559, train_auprc: 0.9592, val_auprc: 0.9478\n"
     ]
    },
    {
     "name": "stderr",
     "output_type": "stream",
     "text": [
      "/home/namle/.local/lib/python3.10/site-packages/torch_geometric/warnings.py:11: UserWarning: The usage of `scatter(reduce='max')` can be accelerated via the 'torch-scatter' package, but it was not found\n",
      "  warnings.warn(message)\n"
     ]
    },
    {
     "name": "stdout",
     "output_type": "stream",
     "text": [
      "Epoch: 228 (66.0099s), train_loss: 0.2126, val_loss: 0.2762, train_acc: 0.9194, val_acc:0.8979\n",
      "\t\ttrain_roc: 0.9682, val_roc: 0.9560, train_auprc: 0.9596, val_auprc: 0.9475\n"
     ]
    },
    {
     "name": "stderr",
     "output_type": "stream",
     "text": [
      "/home/namle/.local/lib/python3.10/site-packages/torch_geometric/warnings.py:11: UserWarning: The usage of `scatter(reduce='max')` can be accelerated via the 'torch-scatter' package, but it was not found\n",
      "  warnings.warn(message)\n"
     ]
    },
    {
     "name": "stdout",
     "output_type": "stream",
     "text": [
      "Epoch: 229 (65.9229s), train_loss: 0.2120, val_loss: 0.2783, train_acc: 0.9190, val_acc:0.8971\n",
      "\t\ttrain_roc: 0.9684, val_roc: 0.9551, train_auprc: 0.9599, val_auprc: 0.9467\n"
     ]
    },
    {
     "name": "stderr",
     "output_type": "stream",
     "text": [
      "/home/namle/.local/lib/python3.10/site-packages/torch_geometric/warnings.py:11: UserWarning: The usage of `scatter(reduce='max')` can be accelerated via the 'torch-scatter' package, but it was not found\n",
      "  warnings.warn(message)\n"
     ]
    },
    {
     "name": "stdout",
     "output_type": "stream",
     "text": [
      "Epoch: 230 (66.1333s), train_loss: 0.2107, val_loss: 0.2732, train_acc: 0.9201, val_acc:0.8987\n",
      "\t\ttrain_roc: 0.9689, val_roc: 0.9570, train_auprc: 0.9604, val_auprc: 0.9493\n"
     ]
    },
    {
     "name": "stderr",
     "output_type": "stream",
     "text": [
      "/home/namle/.local/lib/python3.10/site-packages/torch_geometric/warnings.py:11: UserWarning: The usage of `scatter(reduce='max')` can be accelerated via the 'torch-scatter' package, but it was not found\n",
      "  warnings.warn(message)\n"
     ]
    },
    {
     "name": "stdout",
     "output_type": "stream",
     "text": [
      "Epoch: 231 (65.8478s), train_loss: 0.2097, val_loss: 0.2753, train_acc: 0.9206, val_acc:0.8988\n",
      "\t\ttrain_roc: 0.9690, val_roc: 0.9560, train_auprc: 0.9608, val_auprc: 0.9480\n"
     ]
    },
    {
     "name": "stderr",
     "output_type": "stream",
     "text": [
      "/home/namle/.local/lib/python3.10/site-packages/torch_geometric/warnings.py:11: UserWarning: The usage of `scatter(reduce='max')` can be accelerated via the 'torch-scatter' package, but it was not found\n",
      "  warnings.warn(message)\n"
     ]
    },
    {
     "name": "stdout",
     "output_type": "stream",
     "text": [
      "Epoch: 232 (65.8408s), train_loss: 0.2102, val_loss: 0.2766, train_acc: 0.9202, val_acc:0.8982\n",
      "\t\ttrain_roc: 0.9690, val_roc: 0.9555, train_auprc: 0.9606, val_auprc: 0.9469\n"
     ]
    },
    {
     "name": "stderr",
     "output_type": "stream",
     "text": [
      "/home/namle/.local/lib/python3.10/site-packages/torch_geometric/warnings.py:11: UserWarning: The usage of `scatter(reduce='max')` can be accelerated via the 'torch-scatter' package, but it was not found\n",
      "  warnings.warn(message)\n"
     ]
    },
    {
     "name": "stdout",
     "output_type": "stream",
     "text": [
      "Saving model acc\n",
      "Epoch: 233 (65.9270s), train_loss: 0.2103, val_loss: 0.2714, train_acc: 0.9208, val_acc:0.9012\n",
      "\t\ttrain_roc: 0.9688, val_roc: 0.9574, train_auprc: 0.9602, val_auprc: 0.9498\n"
     ]
    },
    {
     "name": "stderr",
     "output_type": "stream",
     "text": [
      "/home/namle/.local/lib/python3.10/site-packages/torch_geometric/warnings.py:11: UserWarning: The usage of `scatter(reduce='max')` can be accelerated via the 'torch-scatter' package, but it was not found\n",
      "  warnings.warn(message)\n"
     ]
    },
    {
     "name": "stdout",
     "output_type": "stream",
     "text": [
      "Epoch: 234 (65.9138s), train_loss: 0.2116, val_loss: 0.2761, train_acc: 0.9201, val_acc:0.8985\n",
      "\t\ttrain_roc: 0.9684, val_roc: 0.9558, train_auprc: 0.9594, val_auprc: 0.9477\n"
     ]
    },
    {
     "name": "stderr",
     "output_type": "stream",
     "text": [
      "/home/namle/.local/lib/python3.10/site-packages/torch_geometric/warnings.py:11: UserWarning: The usage of `scatter(reduce='max')` can be accelerated via the 'torch-scatter' package, but it was not found\n",
      "  warnings.warn(message)\n"
     ]
    },
    {
     "name": "stdout",
     "output_type": "stream",
     "text": [
      "Epoch: 235 (65.6602s), train_loss: 0.2104, val_loss: 0.2745, train_acc: 0.9202, val_acc:0.8993\n",
      "\t\ttrain_roc: 0.9689, val_roc: 0.9564, train_auprc: 0.9603, val_auprc: 0.9481\n"
     ]
    },
    {
     "name": "stderr",
     "output_type": "stream",
     "text": [
      "/home/namle/.local/lib/python3.10/site-packages/torch_geometric/warnings.py:11: UserWarning: The usage of `scatter(reduce='max')` can be accelerated via the 'torch-scatter' package, but it was not found\n",
      "  warnings.warn(message)\n"
     ]
    },
    {
     "name": "stdout",
     "output_type": "stream",
     "text": [
      "Epoch: 236 (68.2933s), train_loss: 0.2104, val_loss: 0.2753, train_acc: 0.9203, val_acc:0.8981\n",
      "\t\ttrain_roc: 0.9689, val_roc: 0.9560, train_auprc: 0.9603, val_auprc: 0.9484\n"
     ]
    },
    {
     "name": "stderr",
     "output_type": "stream",
     "text": [
      "/home/namle/.local/lib/python3.10/site-packages/torch_geometric/warnings.py:11: UserWarning: The usage of `scatter(reduce='max')` can be accelerated via the 'torch-scatter' package, but it was not found\n",
      "  warnings.warn(message)\n"
     ]
    },
    {
     "name": "stdout",
     "output_type": "stream",
     "text": [
      "Epoch: 237 (69.8333s), train_loss: 0.2108, val_loss: 0.2738, train_acc: 0.9202, val_acc:0.8998\n",
      "\t\ttrain_roc: 0.9686, val_roc: 0.9568, train_auprc: 0.9601, val_auprc: 0.9488\n"
     ]
    },
    {
     "name": "stderr",
     "output_type": "stream",
     "text": [
      "/home/namle/.local/lib/python3.10/site-packages/torch_geometric/warnings.py:11: UserWarning: The usage of `scatter(reduce='max')` can be accelerated via the 'torch-scatter' package, but it was not found\n",
      "  warnings.warn(message)\n"
     ]
    },
    {
     "name": "stdout",
     "output_type": "stream",
     "text": [
      "Epoch: 238 (69.1825s), train_loss: 0.2096, val_loss: 0.2751, train_acc: 0.9208, val_acc:0.8987\n",
      "\t\ttrain_roc: 0.9692, val_roc: 0.9563, train_auprc: 0.9607, val_auprc: 0.9485\n"
     ]
    },
    {
     "name": "stderr",
     "output_type": "stream",
     "text": [
      "/home/namle/.local/lib/python3.10/site-packages/torch_geometric/warnings.py:11: UserWarning: The usage of `scatter(reduce='max')` can be accelerated via the 'torch-scatter' package, but it was not found\n",
      "  warnings.warn(message)\n"
     ]
    },
    {
     "name": "stdout",
     "output_type": "stream",
     "text": [
      "Epoch: 239 (69.1119s), train_loss: 0.2097, val_loss: 0.2758, train_acc: 0.9209, val_acc:0.8979\n",
      "\t\ttrain_roc: 0.9691, val_roc: 0.9559, train_auprc: 0.9603, val_auprc: 0.9484\n"
     ]
    },
    {
     "name": "stderr",
     "output_type": "stream",
     "text": [
      "/home/namle/.local/lib/python3.10/site-packages/torch_geometric/warnings.py:11: UserWarning: The usage of `scatter(reduce='max')` can be accelerated via the 'torch-scatter' package, but it was not found\n",
      "  warnings.warn(message)\n"
     ]
    },
    {
     "name": "stdout",
     "output_type": "stream",
     "text": [
      "Epoch: 240 (69.0299s), train_loss: 0.2098, val_loss: 0.2736, train_acc: 0.9206, val_acc:0.8993\n",
      "\t\ttrain_roc: 0.9691, val_roc: 0.9567, train_auprc: 0.9607, val_auprc: 0.9490\n"
     ]
    },
    {
     "name": "stderr",
     "output_type": "stream",
     "text": [
      "/home/namle/.local/lib/python3.10/site-packages/torch_geometric/warnings.py:11: UserWarning: The usage of `scatter(reduce='max')` can be accelerated via the 'torch-scatter' package, but it was not found\n",
      "  warnings.warn(message)\n"
     ]
    },
    {
     "name": "stdout",
     "output_type": "stream",
     "text": [
      "Epoch: 241 (69.0844s), train_loss: 0.2090, val_loss: 0.2726, train_acc: 0.9210, val_acc:0.9003\n",
      "\t\ttrain_roc: 0.9694, val_roc: 0.9570, train_auprc: 0.9610, val_auprc: 0.9495\n"
     ]
    },
    {
     "name": "stderr",
     "output_type": "stream",
     "text": [
      "/home/namle/.local/lib/python3.10/site-packages/torch_geometric/warnings.py:11: UserWarning: The usage of `scatter(reduce='max')` can be accelerated via the 'torch-scatter' package, but it was not found\n",
      "  warnings.warn(message)\n"
     ]
    },
    {
     "name": "stdout",
     "output_type": "stream",
     "text": [
      "Epoch: 242 (69.2235s), train_loss: 0.2117, val_loss: 0.2748, train_acc: 0.9200, val_acc:0.8995\n",
      "\t\ttrain_roc: 0.9685, val_roc: 0.9563, train_auprc: 0.9596, val_auprc: 0.9481\n"
     ]
    },
    {
     "name": "stderr",
     "output_type": "stream",
     "text": [
      "/home/namle/.local/lib/python3.10/site-packages/torch_geometric/warnings.py:11: UserWarning: The usage of `scatter(reduce='max')` can be accelerated via the 'torch-scatter' package, but it was not found\n",
      "  warnings.warn(message)\n"
     ]
    },
    {
     "name": "stdout",
     "output_type": "stream",
     "text": [
      "Epoch: 243 (68.9637s), train_loss: 0.2107, val_loss: 0.2749, train_acc: 0.9205, val_acc:0.8994\n",
      "\t\ttrain_roc: 0.9688, val_roc: 0.9561, train_auprc: 0.9600, val_auprc: 0.9481\n"
     ]
    },
    {
     "name": "stderr",
     "output_type": "stream",
     "text": [
      "/home/namle/.local/lib/python3.10/site-packages/torch_geometric/warnings.py:11: UserWarning: The usage of `scatter(reduce='max')` can be accelerated via the 'torch-scatter' package, but it was not found\n",
      "  warnings.warn(message)\n"
     ]
    },
    {
     "name": "stdout",
     "output_type": "stream",
     "text": [
      "Epoch: 244 (69.0419s), train_loss: 0.2108, val_loss: 0.2776, train_acc: 0.9201, val_acc:0.8986\n",
      "\t\ttrain_roc: 0.9688, val_roc: 0.9554, train_auprc: 0.9602, val_auprc: 0.9468\n"
     ]
    },
    {
     "name": "stderr",
     "output_type": "stream",
     "text": [
      "/home/namle/.local/lib/python3.10/site-packages/torch_geometric/warnings.py:11: UserWarning: The usage of `scatter(reduce='max')` can be accelerated via the 'torch-scatter' package, but it was not found\n",
      "  warnings.warn(message)\n"
     ]
    },
    {
     "name": "stdout",
     "output_type": "stream",
     "text": [
      "Epoch: 245 (70.3483s), train_loss: 0.2101, val_loss: 0.2755, train_acc: 0.9204, val_acc:0.8985\n",
      "\t\ttrain_roc: 0.9690, val_roc: 0.9561, train_auprc: 0.9606, val_auprc: 0.9482\n"
     ]
    },
    {
     "name": "stderr",
     "output_type": "stream",
     "text": [
      "/home/namle/.local/lib/python3.10/site-packages/torch_geometric/warnings.py:11: UserWarning: The usage of `scatter(reduce='max')` can be accelerated via the 'torch-scatter' package, but it was not found\n",
      "  warnings.warn(message)\n"
     ]
    },
    {
     "name": "stdout",
     "output_type": "stream",
     "text": [
      "Epoch: 246 (68.9500s), train_loss: 0.2110, val_loss: 0.2735, train_acc: 0.9197, val_acc:0.8994\n",
      "\t\ttrain_roc: 0.9687, val_roc: 0.9569, train_auprc: 0.9600, val_auprc: 0.9493\n"
     ]
    },
    {
     "name": "stderr",
     "output_type": "stream",
     "text": [
      "/home/namle/.local/lib/python3.10/site-packages/torch_geometric/warnings.py:11: UserWarning: The usage of `scatter(reduce='max')` can be accelerated via the 'torch-scatter' package, but it was not found\n",
      "  warnings.warn(message)\n"
     ]
    },
    {
     "name": "stdout",
     "output_type": "stream",
     "text": [
      "Epoch: 247 (68.9990s), train_loss: 0.2126, val_loss: 0.2713, train_acc: 0.9195, val_acc:0.9009\n",
      "\t\ttrain_roc: 0.9682, val_roc: 0.9576, train_auprc: 0.9594, val_auprc: 0.9502\n"
     ]
    },
    {
     "name": "stderr",
     "output_type": "stream",
     "text": [
      "/home/namle/.local/lib/python3.10/site-packages/torch_geometric/warnings.py:11: UserWarning: The usage of `scatter(reduce='max')` can be accelerated via the 'torch-scatter' package, but it was not found\n",
      "  warnings.warn(message)\n"
     ]
    },
    {
     "name": "stdout",
     "output_type": "stream",
     "text": [
      "Epoch: 248 (69.1007s), train_loss: 0.2124, val_loss: 0.2742, train_acc: 0.9194, val_acc:0.8985\n",
      "\t\ttrain_roc: 0.9682, val_roc: 0.9565, train_auprc: 0.9595, val_auprc: 0.9497\n"
     ]
    },
    {
     "name": "stderr",
     "output_type": "stream",
     "text": [
      "/home/namle/.local/lib/python3.10/site-packages/torch_geometric/warnings.py:11: UserWarning: The usage of `scatter(reduce='max')` can be accelerated via the 'torch-scatter' package, but it was not found\n",
      "  warnings.warn(message)\n"
     ]
    },
    {
     "name": "stdout",
     "output_type": "stream",
     "text": [
      "Epoch: 249 (69.0191s), train_loss: 0.2117, val_loss: 0.2757, train_acc: 0.9196, val_acc:0.8992\n",
      "\t\ttrain_roc: 0.9686, val_roc: 0.9561, train_auprc: 0.9600, val_auprc: 0.9475\n"
     ]
    },
    {
     "name": "stderr",
     "output_type": "stream",
     "text": [
      "/home/namle/.local/lib/python3.10/site-packages/torch_geometric/warnings.py:11: UserWarning: The usage of `scatter(reduce='max')` can be accelerated via the 'torch-scatter' package, but it was not found\n",
      "  warnings.warn(message)\n"
     ]
    },
    {
     "name": "stdout",
     "output_type": "stream",
     "text": [
      "Epoch: 250 (68.9721s), train_loss: 0.2092, val_loss: 0.2752, train_acc: 0.9209, val_acc:0.8983\n",
      "\t\ttrain_roc: 0.9693, val_roc: 0.9561, train_auprc: 0.9607, val_auprc: 0.9484\n"
     ]
    },
    {
     "name": "stderr",
     "output_type": "stream",
     "text": [
      "/home/namle/.local/lib/python3.10/site-packages/torch_geometric/warnings.py:11: UserWarning: The usage of `scatter(reduce='max')` can be accelerated via the 'torch-scatter' package, but it was not found\n",
      "  warnings.warn(message)\n"
     ]
    },
    {
     "name": "stdout",
     "output_type": "stream",
     "text": [
      "Epoch: 251 (69.0192s), train_loss: 0.2107, val_loss: 0.2742, train_acc: 0.9204, val_acc:0.8994\n",
      "\t\ttrain_roc: 0.9687, val_roc: 0.9565, train_auprc: 0.9599, val_auprc: 0.9487\n"
     ]
    },
    {
     "name": "stderr",
     "output_type": "stream",
     "text": [
      "/home/namle/.local/lib/python3.10/site-packages/torch_geometric/warnings.py:11: UserWarning: The usage of `scatter(reduce='max')` can be accelerated via the 'torch-scatter' package, but it was not found\n",
      "  warnings.warn(message)\n"
     ]
    },
    {
     "name": "stdout",
     "output_type": "stream",
     "text": [
      "Epoch: 252 (69.0353s), train_loss: 0.2099, val_loss: 0.2733, train_acc: 0.9200, val_acc:0.9001\n",
      "\t\ttrain_roc: 0.9691, val_roc: 0.9568, train_auprc: 0.9612, val_auprc: 0.9492\n"
     ]
    },
    {
     "name": "stderr",
     "output_type": "stream",
     "text": [
      "/home/namle/.local/lib/python3.10/site-packages/torch_geometric/warnings.py:11: UserWarning: The usage of `scatter(reduce='max')` can be accelerated via the 'torch-scatter' package, but it was not found\n",
      "  warnings.warn(message)\n"
     ]
    },
    {
     "name": "stdout",
     "output_type": "stream",
     "text": [
      "Epoch: 253 (68.7703s), train_loss: 0.2121, val_loss: 0.2736, train_acc: 0.9193, val_acc:0.8993\n",
      "\t\ttrain_roc: 0.9682, val_roc: 0.9566, train_auprc: 0.9596, val_auprc: 0.9493\n"
     ]
    },
    {
     "name": "stderr",
     "output_type": "stream",
     "text": [
      "/home/namle/.local/lib/python3.10/site-packages/torch_geometric/warnings.py:11: UserWarning: The usage of `scatter(reduce='max')` can be accelerated via the 'torch-scatter' package, but it was not found\n",
      "  warnings.warn(message)\n"
     ]
    },
    {
     "name": "stdout",
     "output_type": "stream",
     "text": [
      "Epoch: 254 (68.9895s), train_loss: 0.2114, val_loss: 0.2747, train_acc: 0.9196, val_acc:0.8988\n",
      "\t\ttrain_roc: 0.9685, val_roc: 0.9564, train_auprc: 0.9597, val_auprc: 0.9483\n"
     ]
    },
    {
     "name": "stderr",
     "output_type": "stream",
     "text": [
      "/home/namle/.local/lib/python3.10/site-packages/torch_geometric/warnings.py:11: UserWarning: The usage of `scatter(reduce='max')` can be accelerated via the 'torch-scatter' package, but it was not found\n",
      "  warnings.warn(message)\n"
     ]
    },
    {
     "name": "stdout",
     "output_type": "stream",
     "text": [
      "Epoch: 255 (69.0118s), train_loss: 0.2106, val_loss: 0.2707, train_acc: 0.9202, val_acc:0.9006\n",
      "\t\ttrain_roc: 0.9688, val_roc: 0.9578, train_auprc: 0.9601, val_auprc: 0.9505\n"
     ]
    },
    {
     "name": "stderr",
     "output_type": "stream",
     "text": [
      "/home/namle/.local/lib/python3.10/site-packages/torch_geometric/warnings.py:11: UserWarning: The usage of `scatter(reduce='max')` can be accelerated via the 'torch-scatter' package, but it was not found\n",
      "  warnings.warn(message)\n"
     ]
    },
    {
     "name": "stdout",
     "output_type": "stream",
     "text": [
      "Epoch: 256 (69.0962s), train_loss: 0.2104, val_loss: 0.2756, train_acc: 0.9204, val_acc:0.8990\n",
      "\t\ttrain_roc: 0.9688, val_roc: 0.9560, train_auprc: 0.9601, val_auprc: 0.9480\n"
     ]
    },
    {
     "name": "stderr",
     "output_type": "stream",
     "text": [
      "/home/namle/.local/lib/python3.10/site-packages/torch_geometric/warnings.py:11: UserWarning: The usage of `scatter(reduce='max')` can be accelerated via the 'torch-scatter' package, but it was not found\n",
      "  warnings.warn(message)\n"
     ]
    },
    {
     "name": "stdout",
     "output_type": "stream",
     "text": [
      "Epoch: 257 (68.8874s), train_loss: 0.2113, val_loss: 0.2731, train_acc: 0.9198, val_acc:0.8997\n",
      "\t\ttrain_roc: 0.9686, val_roc: 0.9568, train_auprc: 0.9599, val_auprc: 0.9494\n"
     ]
    },
    {
     "name": "stderr",
     "output_type": "stream",
     "text": [
      "/home/namle/.local/lib/python3.10/site-packages/torch_geometric/warnings.py:11: UserWarning: The usage of `scatter(reduce='max')` can be accelerated via the 'torch-scatter' package, but it was not found\n",
      "  warnings.warn(message)\n"
     ]
    },
    {
     "name": "stdout",
     "output_type": "stream",
     "text": [
      "Epoch: 258 (69.2180s), train_loss: 0.2108, val_loss: 0.2762, train_acc: 0.9201, val_acc:0.8986\n",
      "\t\ttrain_roc: 0.9687, val_roc: 0.9558, train_auprc: 0.9600, val_auprc: 0.9479\n"
     ]
    },
    {
     "name": "stderr",
     "output_type": "stream",
     "text": [
      "/home/namle/.local/lib/python3.10/site-packages/torch_geometric/warnings.py:11: UserWarning: The usage of `scatter(reduce='max')` can be accelerated via the 'torch-scatter' package, but it was not found\n",
      "  warnings.warn(message)\n"
     ]
    },
    {
     "name": "stdout",
     "output_type": "stream",
     "text": [
      "Epoch: 259 (69.6933s), train_loss: 0.2105, val_loss: 0.2729, train_acc: 0.9200, val_acc:0.8992\n",
      "\t\ttrain_roc: 0.9688, val_roc: 0.9571, train_auprc: 0.9602, val_auprc: 0.9499\n"
     ]
    },
    {
     "name": "stderr",
     "output_type": "stream",
     "text": [
      "/home/namle/.local/lib/python3.10/site-packages/torch_geometric/warnings.py:11: UserWarning: The usage of `scatter(reduce='max')` can be accelerated via the 'torch-scatter' package, but it was not found\n",
      "  warnings.warn(message)\n"
     ]
    },
    {
     "name": "stdout",
     "output_type": "stream",
     "text": [
      "Epoch: 260 (68.9457s), train_loss: 0.2113, val_loss: 0.2747, train_acc: 0.9198, val_acc:0.8990\n",
      "\t\ttrain_roc: 0.9686, val_roc: 0.9564, train_auprc: 0.9600, val_auprc: 0.9490\n"
     ]
    },
    {
     "name": "stderr",
     "output_type": "stream",
     "text": [
      "/home/namle/.local/lib/python3.10/site-packages/torch_geometric/warnings.py:11: UserWarning: The usage of `scatter(reduce='max')` can be accelerated via the 'torch-scatter' package, but it was not found\n",
      "  warnings.warn(message)\n"
     ]
    },
    {
     "name": "stdout",
     "output_type": "stream",
     "text": [
      "Epoch: 261 (69.0056s), train_loss: 0.2119, val_loss: 0.2760, train_acc: 0.9197, val_acc:0.8980\n",
      "\t\ttrain_roc: 0.9683, val_roc: 0.9558, train_auprc: 0.9598, val_auprc: 0.9483\n"
     ]
    },
    {
     "name": "stderr",
     "output_type": "stream",
     "text": [
      "/home/namle/.local/lib/python3.10/site-packages/torch_geometric/warnings.py:11: UserWarning: The usage of `scatter(reduce='max')` can be accelerated via the 'torch-scatter' package, but it was not found\n",
      "  warnings.warn(message)\n"
     ]
    },
    {
     "name": "stdout",
     "output_type": "stream",
     "text": [
      "Epoch: 262 (69.0254s), train_loss: 0.2119, val_loss: 0.2741, train_acc: 0.9197, val_acc:0.8995\n",
      "\t\ttrain_roc: 0.9685, val_roc: 0.9566, train_auprc: 0.9595, val_auprc: 0.9488\n"
     ]
    },
    {
     "name": "stderr",
     "output_type": "stream",
     "text": [
      "/home/namle/.local/lib/python3.10/site-packages/torch_geometric/warnings.py:11: UserWarning: The usage of `scatter(reduce='max')` can be accelerated via the 'torch-scatter' package, but it was not found\n",
      "  warnings.warn(message)\n"
     ]
    },
    {
     "name": "stdout",
     "output_type": "stream",
     "text": [
      "Epoch: 263 (69.0733s), train_loss: 0.2097, val_loss: 0.2737, train_acc: 0.9207, val_acc:0.8993\n",
      "\t\ttrain_roc: 0.9691, val_roc: 0.9569, train_auprc: 0.9608, val_auprc: 0.9493\n"
     ]
    },
    {
     "name": "stderr",
     "output_type": "stream",
     "text": [
      "/home/namle/.local/lib/python3.10/site-packages/torch_geometric/warnings.py:11: UserWarning: The usage of `scatter(reduce='max')` can be accelerated via the 'torch-scatter' package, but it was not found\n",
      "  warnings.warn(message)\n"
     ]
    },
    {
     "name": "stdout",
     "output_type": "stream",
     "text": [
      "Epoch: 264 (68.9405s), train_loss: 0.2109, val_loss: 0.2758, train_acc: 0.9202, val_acc:0.8982\n",
      "\t\ttrain_roc: 0.9687, val_roc: 0.9559, train_auprc: 0.9602, val_auprc: 0.9481\n"
     ]
    },
    {
     "name": "stderr",
     "output_type": "stream",
     "text": [
      "/home/namle/.local/lib/python3.10/site-packages/torch_geometric/warnings.py:11: UserWarning: The usage of `scatter(reduce='max')` can be accelerated via the 'torch-scatter' package, but it was not found\n",
      "  warnings.warn(message)\n"
     ]
    },
    {
     "name": "stdout",
     "output_type": "stream",
     "text": [
      "Epoch: 265 (68.9042s), train_loss: 0.2110, val_loss: 0.2767, train_acc: 0.9200, val_acc:0.8982\n",
      "\t\ttrain_roc: 0.9685, val_roc: 0.9558, train_auprc: 0.9599, val_auprc: 0.9477\n"
     ]
    },
    {
     "name": "stderr",
     "output_type": "stream",
     "text": [
      "/home/namle/.local/lib/python3.10/site-packages/torch_geometric/warnings.py:11: UserWarning: The usage of `scatter(reduce='max')` can be accelerated via the 'torch-scatter' package, but it was not found\n",
      "  warnings.warn(message)\n"
     ]
    },
    {
     "name": "stdout",
     "output_type": "stream",
     "text": [
      "Epoch: 266 (68.8872s), train_loss: 0.2096, val_loss: 0.2729, train_acc: 0.9207, val_acc:0.8999\n",
      "\t\ttrain_roc: 0.9690, val_roc: 0.9570, train_auprc: 0.9605, val_auprc: 0.9499\n"
     ]
    },
    {
     "name": "stderr",
     "output_type": "stream",
     "text": [
      "/home/namle/.local/lib/python3.10/site-packages/torch_geometric/warnings.py:11: UserWarning: The usage of `scatter(reduce='max')` can be accelerated via the 'torch-scatter' package, but it was not found\n",
      "  warnings.warn(message)\n"
     ]
    },
    {
     "name": "stdout",
     "output_type": "stream",
     "text": [
      "Epoch: 267 (68.8641s), train_loss: 0.2115, val_loss: 0.2723, train_acc: 0.9191, val_acc:0.8993\n",
      "\t\ttrain_roc: 0.9686, val_roc: 0.9573, train_auprc: 0.9601, val_auprc: 0.9501\n"
     ]
    },
    {
     "name": "stderr",
     "output_type": "stream",
     "text": [
      "/home/namle/.local/lib/python3.10/site-packages/torch_geometric/warnings.py:11: UserWarning: The usage of `scatter(reduce='max')` can be accelerated via the 'torch-scatter' package, but it was not found\n",
      "  warnings.warn(message)\n"
     ]
    },
    {
     "name": "stdout",
     "output_type": "stream",
     "text": [
      "Epoch: 268 (69.0714s), train_loss: 0.2101, val_loss: 0.2731, train_acc: 0.9203, val_acc:0.9001\n",
      "\t\ttrain_roc: 0.9690, val_roc: 0.9569, train_auprc: 0.9605, val_auprc: 0.9494\n"
     ]
    },
    {
     "name": "stderr",
     "output_type": "stream",
     "text": [
      "/home/namle/.local/lib/python3.10/site-packages/torch_geometric/warnings.py:11: UserWarning: The usage of `scatter(reduce='max')` can be accelerated via the 'torch-scatter' package, but it was not found\n",
      "  warnings.warn(message)\n"
     ]
    },
    {
     "name": "stdout",
     "output_type": "stream",
     "text": [
      "Epoch: 269 (69.0953s), train_loss: 0.2116, val_loss: 0.2746, train_acc: 0.9196, val_acc:0.8989\n",
      "\t\ttrain_roc: 0.9684, val_roc: 0.9564, train_auprc: 0.9596, val_auprc: 0.9491\n"
     ]
    },
    {
     "name": "stderr",
     "output_type": "stream",
     "text": [
      "/home/namle/.local/lib/python3.10/site-packages/torch_geometric/warnings.py:11: UserWarning: The usage of `scatter(reduce='max')` can be accelerated via the 'torch-scatter' package, but it was not found\n",
      "  warnings.warn(message)\n"
     ]
    },
    {
     "name": "stdout",
     "output_type": "stream",
     "text": [
      "Epoch: 270 (69.0969s), train_loss: 0.2108, val_loss: 0.2738, train_acc: 0.9198, val_acc:0.8994\n",
      "\t\ttrain_roc: 0.9687, val_roc: 0.9567, train_auprc: 0.9602, val_auprc: 0.9492\n"
     ]
    },
    {
     "name": "stderr",
     "output_type": "stream",
     "text": [
      "/home/namle/.local/lib/python3.10/site-packages/torch_geometric/warnings.py:11: UserWarning: The usage of `scatter(reduce='max')` can be accelerated via the 'torch-scatter' package, but it was not found\n",
      "  warnings.warn(message)\n"
     ]
    },
    {
     "name": "stdout",
     "output_type": "stream",
     "text": [
      "Epoch: 271 (68.8355s), train_loss: 0.2099, val_loss: 0.2764, train_acc: 0.9203, val_acc:0.8990\n",
      "\t\ttrain_roc: 0.9691, val_roc: 0.9558, train_auprc: 0.9606, val_auprc: 0.9474\n"
     ]
    },
    {
     "name": "stderr",
     "output_type": "stream",
     "text": [
      "/home/namle/.local/lib/python3.10/site-packages/torch_geometric/warnings.py:11: UserWarning: The usage of `scatter(reduce='max')` can be accelerated via the 'torch-scatter' package, but it was not found\n",
      "  warnings.warn(message)\n"
     ]
    },
    {
     "name": "stdout",
     "output_type": "stream",
     "text": [
      "Epoch: 272 (69.3187s), train_loss: 0.2118, val_loss: 0.2729, train_acc: 0.9200, val_acc:0.8998\n",
      "\t\ttrain_roc: 0.9683, val_roc: 0.9569, train_auprc: 0.9594, val_auprc: 0.9498\n"
     ]
    },
    {
     "name": "stderr",
     "output_type": "stream",
     "text": [
      "/home/namle/.local/lib/python3.10/site-packages/torch_geometric/warnings.py:11: UserWarning: The usage of `scatter(reduce='max')` can be accelerated via the 'torch-scatter' package, but it was not found\n",
      "  warnings.warn(message)\n"
     ]
    },
    {
     "name": "stdout",
     "output_type": "stream",
     "text": [
      "Epoch: 273 (69.0990s), train_loss: 0.2098, val_loss: 0.2736, train_acc: 0.9205, val_acc:0.9004\n",
      "\t\ttrain_roc: 0.9691, val_roc: 0.9567, train_auprc: 0.9606, val_auprc: 0.9489\n"
     ]
    },
    {
     "name": "stderr",
     "output_type": "stream",
     "text": [
      "/home/namle/.local/lib/python3.10/site-packages/torch_geometric/warnings.py:11: UserWarning: The usage of `scatter(reduce='max')` can be accelerated via the 'torch-scatter' package, but it was not found\n",
      "  warnings.warn(message)\n"
     ]
    },
    {
     "name": "stdout",
     "output_type": "stream",
     "text": [
      "Epoch: 274 (68.8540s), train_loss: 0.2088, val_loss: 0.2749, train_acc: 0.9208, val_acc:0.8996\n",
      "\t\ttrain_roc: 0.9693, val_roc: 0.9562, train_auprc: 0.9612, val_auprc: 0.9482\n"
     ]
    },
    {
     "name": "stderr",
     "output_type": "stream",
     "text": [
      "/home/namle/.local/lib/python3.10/site-packages/torch_geometric/warnings.py:11: UserWarning: The usage of `scatter(reduce='max')` can be accelerated via the 'torch-scatter' package, but it was not found\n",
      "  warnings.warn(message)\n"
     ]
    },
    {
     "name": "stdout",
     "output_type": "stream",
     "text": [
      "Epoch: 275 (69.1718s), train_loss: 0.2125, val_loss: 0.2781, train_acc: 0.9198, val_acc:0.8971\n",
      "\t\ttrain_roc: 0.9681, val_roc: 0.9552, train_auprc: 0.9590, val_auprc: 0.9470\n"
     ]
    },
    {
     "name": "stderr",
     "output_type": "stream",
     "text": [
      "/home/namle/.local/lib/python3.10/site-packages/torch_geometric/warnings.py:11: UserWarning: The usage of `scatter(reduce='max')` can be accelerated via the 'torch-scatter' package, but it was not found\n",
      "  warnings.warn(message)\n"
     ]
    },
    {
     "name": "stdout",
     "output_type": "stream",
     "text": [
      "Epoch: 276 (69.1028s), train_loss: 0.2112, val_loss: 0.2760, train_acc: 0.9200, val_acc:0.8983\n",
      "\t\ttrain_roc: 0.9687, val_roc: 0.9559, train_auprc: 0.9600, val_auprc: 0.9480\n"
     ]
    },
    {
     "name": "stderr",
     "output_type": "stream",
     "text": [
      "/home/namle/.local/lib/python3.10/site-packages/torch_geometric/warnings.py:11: UserWarning: The usage of `scatter(reduce='max')` can be accelerated via the 'torch-scatter' package, but it was not found\n",
      "  warnings.warn(message)\n"
     ]
    },
    {
     "name": "stdout",
     "output_type": "stream",
     "text": [
      "Epoch: 277 (68.9370s), train_loss: 0.2106, val_loss: 0.2773, train_acc: 0.9202, val_acc:0.8984\n",
      "\t\ttrain_roc: 0.9688, val_roc: 0.9553, train_auprc: 0.9603, val_auprc: 0.9469\n"
     ]
    },
    {
     "name": "stderr",
     "output_type": "stream",
     "text": [
      "/home/namle/.local/lib/python3.10/site-packages/torch_geometric/warnings.py:11: UserWarning: The usage of `scatter(reduce='max')` can be accelerated via the 'torch-scatter' package, but it was not found\n",
      "  warnings.warn(message)\n"
     ]
    },
    {
     "name": "stdout",
     "output_type": "stream",
     "text": [
      "Epoch: 278 (68.9367s), train_loss: 0.2122, val_loss: 0.2736, train_acc: 0.9192, val_acc:0.8994\n",
      "\t\ttrain_roc: 0.9683, val_roc: 0.9567, train_auprc: 0.9597, val_auprc: 0.9492\n"
     ]
    },
    {
     "name": "stderr",
     "output_type": "stream",
     "text": [
      "/home/namle/.local/lib/python3.10/site-packages/torch_geometric/warnings.py:11: UserWarning: The usage of `scatter(reduce='max')` can be accelerated via the 'torch-scatter' package, but it was not found\n",
      "  warnings.warn(message)\n"
     ]
    },
    {
     "name": "stdout",
     "output_type": "stream",
     "text": [
      "Epoch: 279 (68.9894s), train_loss: 0.2125, val_loss: 0.2762, train_acc: 0.9196, val_acc:0.8982\n",
      "\t\ttrain_roc: 0.9681, val_roc: 0.9557, train_auprc: 0.9594, val_auprc: 0.9480\n"
     ]
    },
    {
     "name": "stderr",
     "output_type": "stream",
     "text": [
      "/home/namle/.local/lib/python3.10/site-packages/torch_geometric/warnings.py:11: UserWarning: The usage of `scatter(reduce='max')` can be accelerated via the 'torch-scatter' package, but it was not found\n",
      "  warnings.warn(message)\n"
     ]
    },
    {
     "name": "stdout",
     "output_type": "stream",
     "text": [
      "Epoch: 280 (68.8418s), train_loss: 0.2093, val_loss: 0.2734, train_acc: 0.9210, val_acc:0.9004\n",
      "\t\ttrain_roc: 0.9692, val_roc: 0.9567, train_auprc: 0.9608, val_auprc: 0.9491\n"
     ]
    },
    {
     "name": "stderr",
     "output_type": "stream",
     "text": [
      "/home/namle/.local/lib/python3.10/site-packages/torch_geometric/warnings.py:11: UserWarning: The usage of `scatter(reduce='max')` can be accelerated via the 'torch-scatter' package, but it was not found\n",
      "  warnings.warn(message)\n"
     ]
    },
    {
     "name": "stdout",
     "output_type": "stream",
     "text": [
      "Epoch: 281 (68.7720s), train_loss: 0.2106, val_loss: 0.2739, train_acc: 0.9203, val_acc:0.9000\n",
      "\t\ttrain_roc: 0.9687, val_roc: 0.9566, train_auprc: 0.9601, val_auprc: 0.9485\n"
     ]
    },
    {
     "name": "stderr",
     "output_type": "stream",
     "text": [
      "/home/namle/.local/lib/python3.10/site-packages/torch_geometric/warnings.py:11: UserWarning: The usage of `scatter(reduce='max')` can be accelerated via the 'torch-scatter' package, but it was not found\n",
      "  warnings.warn(message)\n"
     ]
    },
    {
     "name": "stdout",
     "output_type": "stream",
     "text": [
      "Epoch: 282 (68.8227s), train_loss: 0.2100, val_loss: 0.2747, train_acc: 0.9201, val_acc:0.8994\n",
      "\t\ttrain_roc: 0.9690, val_roc: 0.9562, train_auprc: 0.9606, val_auprc: 0.9484\n"
     ]
    },
    {
     "name": "stderr",
     "output_type": "stream",
     "text": [
      "/home/namle/.local/lib/python3.10/site-packages/torch_geometric/warnings.py:11: UserWarning: The usage of `scatter(reduce='max')` can be accelerated via the 'torch-scatter' package, but it was not found\n",
      "  warnings.warn(message)\n"
     ]
    },
    {
     "name": "stdout",
     "output_type": "stream",
     "text": [
      "Epoch: 283 (68.9064s), train_loss: 0.2104, val_loss: 0.2771, train_acc: 0.9200, val_acc:0.8969\n",
      "\t\ttrain_roc: 0.9688, val_roc: 0.9555, train_auprc: 0.9604, val_auprc: 0.9476\n"
     ]
    },
    {
     "name": "stderr",
     "output_type": "stream",
     "text": [
      "/home/namle/.local/lib/python3.10/site-packages/torch_geometric/warnings.py:11: UserWarning: The usage of `scatter(reduce='max')` can be accelerated via the 'torch-scatter' package, but it was not found\n",
      "  warnings.warn(message)\n"
     ]
    },
    {
     "name": "stdout",
     "output_type": "stream",
     "text": [
      "Epoch: 284 (69.0252s), train_loss: 0.2128, val_loss: 0.2742, train_acc: 0.9188, val_acc:0.9003\n",
      "\t\ttrain_roc: 0.9681, val_roc: 0.9566, train_auprc: 0.9594, val_auprc: 0.9485\n"
     ]
    },
    {
     "name": "stderr",
     "output_type": "stream",
     "text": [
      "/home/namle/.local/lib/python3.10/site-packages/torch_geometric/warnings.py:11: UserWarning: The usage of `scatter(reduce='max')` can be accelerated via the 'torch-scatter' package, but it was not found\n",
      "  warnings.warn(message)\n"
     ]
    },
    {
     "name": "stdout",
     "output_type": "stream",
     "text": [
      "Epoch: 285 (68.9838s), train_loss: 0.2115, val_loss: 0.2750, train_acc: 0.9198, val_acc:0.8989\n",
      "\t\ttrain_roc: 0.9685, val_roc: 0.9563, train_auprc: 0.9600, val_auprc: 0.9484\n"
     ]
    },
    {
     "name": "stderr",
     "output_type": "stream",
     "text": [
      "/home/namle/.local/lib/python3.10/site-packages/torch_geometric/warnings.py:11: UserWarning: The usage of `scatter(reduce='max')` can be accelerated via the 'torch-scatter' package, but it was not found\n",
      "  warnings.warn(message)\n"
     ]
    },
    {
     "name": "stdout",
     "output_type": "stream",
     "text": [
      "Epoch: 286 (69.1296s), train_loss: 0.2107, val_loss: 0.2715, train_acc: 0.9201, val_acc:0.9002\n",
      "\t\ttrain_roc: 0.9688, val_roc: 0.9574, train_auprc: 0.9602, val_auprc: 0.9503\n"
     ]
    },
    {
     "name": "stderr",
     "output_type": "stream",
     "text": [
      "/home/namle/.local/lib/python3.10/site-packages/torch_geometric/warnings.py:11: UserWarning: The usage of `scatter(reduce='max')` can be accelerated via the 'torch-scatter' package, but it was not found\n",
      "  warnings.warn(message)\n"
     ]
    },
    {
     "name": "stdout",
     "output_type": "stream",
     "text": [
      "Epoch: 287 (69.0584s), train_loss: 0.2098, val_loss: 0.2749, train_acc: 0.9208, val_acc:0.8990\n",
      "\t\ttrain_roc: 0.9691, val_roc: 0.9563, train_auprc: 0.9606, val_auprc: 0.9484\n"
     ]
    },
    {
     "name": "stderr",
     "output_type": "stream",
     "text": [
      "/home/namle/.local/lib/python3.10/site-packages/torch_geometric/warnings.py:11: UserWarning: The usage of `scatter(reduce='max')` can be accelerated via the 'torch-scatter' package, but it was not found\n",
      "  warnings.warn(message)\n"
     ]
    },
    {
     "name": "stdout",
     "output_type": "stream",
     "text": [
      "Epoch: 288 (68.9797s), train_loss: 0.2105, val_loss: 0.2725, train_acc: 0.9204, val_acc:0.9001\n",
      "\t\ttrain_roc: 0.9689, val_roc: 0.9571, train_auprc: 0.9604, val_auprc: 0.9498\n"
     ]
    },
    {
     "name": "stderr",
     "output_type": "stream",
     "text": [
      "/home/namle/.local/lib/python3.10/site-packages/torch_geometric/warnings.py:11: UserWarning: The usage of `scatter(reduce='max')` can be accelerated via the 'torch-scatter' package, but it was not found\n",
      "  warnings.warn(message)\n"
     ]
    },
    {
     "name": "stdout",
     "output_type": "stream",
     "text": [
      "Epoch: 289 (68.8325s), train_loss: 0.2104, val_loss: 0.2749, train_acc: 0.9200, val_acc:0.8990\n",
      "\t\ttrain_roc: 0.9689, val_roc: 0.9564, train_auprc: 0.9607, val_auprc: 0.9488\n"
     ]
    },
    {
     "name": "stderr",
     "output_type": "stream",
     "text": [
      "/home/namle/.local/lib/python3.10/site-packages/torch_geometric/warnings.py:11: UserWarning: The usage of `scatter(reduce='max')` can be accelerated via the 'torch-scatter' package, but it was not found\n",
      "  warnings.warn(message)\n"
     ]
    },
    {
     "name": "stdout",
     "output_type": "stream",
     "text": [
      "Epoch: 290 (68.9664s), train_loss: 0.2108, val_loss: 0.2729, train_acc: 0.9204, val_acc:0.9000\n",
      "\t\ttrain_roc: 0.9687, val_roc: 0.9570, train_auprc: 0.9600, val_auprc: 0.9495\n"
     ]
    },
    {
     "name": "stderr",
     "output_type": "stream",
     "text": [
      "/home/namle/.local/lib/python3.10/site-packages/torch_geometric/warnings.py:11: UserWarning: The usage of `scatter(reduce='max')` can be accelerated via the 'torch-scatter' package, but it was not found\n",
      "  warnings.warn(message)\n"
     ]
    },
    {
     "name": "stdout",
     "output_type": "stream",
     "text": [
      "Epoch: 291 (68.8879s), train_loss: 0.2119, val_loss: 0.2741, train_acc: 0.9193, val_acc:0.8996\n",
      "\t\ttrain_roc: 0.9683, val_roc: 0.9565, train_auprc: 0.9595, val_auprc: 0.9485\n"
     ]
    },
    {
     "name": "stderr",
     "output_type": "stream",
     "text": [
      "/home/namle/.local/lib/python3.10/site-packages/torch_geometric/warnings.py:11: UserWarning: The usage of `scatter(reduce='max')` can be accelerated via the 'torch-scatter' package, but it was not found\n",
      "  warnings.warn(message)\n"
     ]
    },
    {
     "name": "stdout",
     "output_type": "stream",
     "text": [
      "Epoch: 292 (69.0692s), train_loss: 0.2102, val_loss: 0.2756, train_acc: 0.9201, val_acc:0.8991\n",
      "\t\ttrain_roc: 0.9691, val_roc: 0.9560, train_auprc: 0.9607, val_auprc: 0.9477\n"
     ]
    },
    {
     "name": "stderr",
     "output_type": "stream",
     "text": [
      "/home/namle/.local/lib/python3.10/site-packages/torch_geometric/warnings.py:11: UserWarning: The usage of `scatter(reduce='max')` can be accelerated via the 'torch-scatter' package, but it was not found\n",
      "  warnings.warn(message)\n"
     ]
    },
    {
     "name": "stdout",
     "output_type": "stream",
     "text": [
      "Epoch: 293 (69.1971s), train_loss: 0.2098, val_loss: 0.2722, train_acc: 0.9212, val_acc:0.8998\n",
      "\t\ttrain_roc: 0.9689, val_roc: 0.9572, train_auprc: 0.9601, val_auprc: 0.9501\n"
     ]
    },
    {
     "name": "stderr",
     "output_type": "stream",
     "text": [
      "/home/namle/.local/lib/python3.10/site-packages/torch_geometric/warnings.py:11: UserWarning: The usage of `scatter(reduce='max')` can be accelerated via the 'torch-scatter' package, but it was not found\n",
      "  warnings.warn(message)\n"
     ]
    },
    {
     "name": "stdout",
     "output_type": "stream",
     "text": [
      "Epoch: 294 (68.8571s), train_loss: 0.2101, val_loss: 0.2734, train_acc: 0.9205, val_acc:0.8996\n",
      "\t\ttrain_roc: 0.9688, val_roc: 0.9567, train_auprc: 0.9602, val_auprc: 0.9496\n"
     ]
    }
   ],
   "source": [
    "if mode == \"train\":\n",
    "  # Train\n",
    "  train(\n",
    "      model,\n",
    "      train_data_loader,\n",
    "      val_data_loader,\n",
    "      loss,\n",
    "      optimizer,\n",
    "      n_epochs,\n",
    "      device,\n",
    "      scheduler,\n",
    "  )\n"
   ]
  },
  {
   "cell_type": "code",
   "execution_count": null,
   "metadata": {
    "id": "f04DujiWugRa"
   },
   "outputs": [],
   "source": [
    "# Predict\n",
    "model = torch.load(model_prc_file)\n",
    "print(model)\n",
    "model.to(device=device)\n",
    "predict(model, test_data_loader, device)"
   ]
  },
  {
   "cell_type": "code",
   "execution_count": null,
   "metadata": {},
   "outputs": [],
   "source": []
  }
 ],
 "metadata": {
  "accelerator": "GPU",
  "colab": {
   "authorship_tag": "ABX9TyPrjMB1qWDzpoQ4nNpP4AfV",
   "gpuType": "T4",
   "mount_file_id": "1SgLTMIysgeGUK6s_GjIn2Ssygt0A5LZV",
   "provenance": []
  },
  "kernelspec": {
   "display_name": "Python 3 (ipykernel)",
   "language": "python",
   "name": "python3"
  },
  "language_info": {
   "codemirror_mode": {
    "name": "ipython",
    "version": 3
   },
   "file_extension": ".py",
   "mimetype": "text/x-python",
   "name": "python",
   "nbconvert_exporter": "python",
   "pygments_lexer": "ipython3",
   "version": "3.10.12"
  }
 },
 "nbformat": 4,
 "nbformat_minor": 4
}
