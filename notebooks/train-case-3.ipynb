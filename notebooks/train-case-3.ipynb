{
 "cells": [
  {
   "cell_type": "code",
   "execution_count": 1,
   "metadata": {
    "colab": {
     "base_uri": "https://localhost:8080/"
    },
    "executionInfo": {
     "elapsed": 10617,
     "status": "ok",
     "timestamp": 1729307085000,
     "user": {
      "displayName": "Nam Le",
      "userId": "10910051602335296858"
     },
     "user_tz": -420
    },
    "id": "k4UhRVN-PNYi",
    "outputId": "3a910cb5-bb67-4fa2-d833-c4790dab293c"
   },
   "outputs": [],
   "source": [
    "# !pip install torch_geometric rdkit torch"
   ]
  },
  {
   "cell_type": "code",
   "execution_count": 2,
   "metadata": {
    "id": "YKUU9J_HnRwg"
   },
   "outputs": [],
   "source": [
    "from datetime import datetime\n",
    "import time\n",
    "import argparse\n",
    "import sys\n",
    "import torch\n",
    "from torch import optim\n",
    "from torch import nn\n",
    "import torch.nn.functional as F\n",
    "from sklearn import metrics\n",
    "import pandas as pd\n",
    "import numpy as np\n",
    "from torch.nn.modules.container import ModuleList\n",
    "from torch_geometric.nn import (\n",
    "    GATConv,\n",
    "    SAGPooling,\n",
    "    LayerNorm,\n",
    "    global_mean_pool,\n",
    "    max_pool_neighbor_x,\n",
    "    global_add_pool,\n",
    ")\n"
   ]
  },
  {
   "cell_type": "code",
   "execution_count": 3,
   "metadata": {},
   "outputs": [],
   "source": [
    "# Directory configuration\n",
    "data_dir = \"data\"\n",
    "model_dir = \"models\"\n",
    "model_name = \"case3\"\n",
    "\n",
    "# sys.path.append('/content/drive/MyDrive/Colab Notebooks')"
   ]
  },
  {
   "cell_type": "code",
   "execution_count": 4,
   "metadata": {},
   "outputs": [],
   "source": [
    "####### Tunning parameters #######\n",
    "\n",
    "# Number of epochs\n",
    "n_epochs = 300\n",
    "\n",
    "# SagPooling ratio & min score. \n",
    "# Set sp_ratio to None to disable ratio in SagPooling\n",
    "sp_ratio = None\n",
    "sp_min_score = None\n",
    "\n",
    "# Enable using gpu\n",
    "use_cuda = True\n",
    "\n",
    "# Use activation function for CoAttention Layer\n",
    "use_activation_fn = False\n",
    "\n",
    "# Use ComplEx instead of RESCAL\n",
    "use_ComplEx = False\n",
    "\n",
    "# Use improved CoAttention Layer\n",
    "use_improved_CoAttention = False\n",
    "\n",
    "# Use Explicit Valence\n",
    "use_explicit_valence = False\n",
    "\n",
    "# Number of GAT layers\n",
    "num_GAT_layers = 4\n",
    "\n",
    "# Number of GAT multiheads\n",
    "num_GAT_multiheads = 2\n",
    "\n",
    "#################################"
   ]
  },
  {
   "cell_type": "code",
   "execution_count": 5,
   "metadata": {
    "colab": {
     "base_uri": "https://localhost:8080/"
    },
    "executionInfo": {
     "elapsed": 14083,
     "status": "ok",
     "timestamp": 1729307119217,
     "user": {
      "displayName": "Nam Le",
      "userId": "10910051602335296858"
     },
     "user_tz": -420
    },
    "id": "Ws9OIlmzPrsJ",
    "outputId": "f4ec9a42-5720-436e-fa2a-544d564381c4"
   },
   "outputs": [
    {
     "name": "stderr",
     "output_type": "stream",
     "text": [
      "/mnt/d/Documents/Github/glsofort/SSI-DDI-test/notebook/data_preprocessing.py:113: UserWarning: The use of `x.T` on tensors of dimension other than 2 to reverse their shape is deprecated and it will throw an error in a future release. Consider `x.mT` to transpose batches of matrices or `x.permute(*torch.arange(x.ndim - 1, -1, -1))` to reverse the dimensions of a tensor. (Triggered internally at ../aten/src/ATen/native/TensorShape.cpp:3683.)\n",
      "  return undirected_edge_list.T, features\n"
     ]
    }
   ],
   "source": [
    "# If using explicit valence feature\n",
    "if use_explicit_valence:\n",
    "    from data_preprocessing_explicit_valence import DrugDataset, DrugDataLoader, TOTAL_ATOM_FEATS\n",
    "else:\n",
    "    from data_preprocessing import DrugDataset, DrugDataLoader, TOTAL_ATOM_FEATS"
   ]
  },
  {
   "cell_type": "code",
   "execution_count": 6,
   "metadata": {},
   "outputs": [
    {
     "name": "stdout",
     "output_type": "stream",
     "text": [
      "cuda\n",
      "Epochs: 300\n",
      "Total of atom features: 55\n"
     ]
    }
   ],
   "source": [
    "mode = \"train\"\n",
    "\n",
    "n_atom_feats = TOTAL_ATOM_FEATS\n",
    "# Not use\n",
    "n_atom_hid = 64\n",
    "# Total interactions information in the Interaction_information.csv\n",
    "rel_total = 86\n",
    "lr = 1e-2\n",
    "weight_decay = 5e-4\n",
    "neg_samples = 1\n",
    "# Represents the number of samples (or graph instances) loaded in each batch during the training process.\n",
    "batch_size = 1024\n",
    "data_size_ratio = 1\n",
    "kge_dim = 64\n",
    "\n",
    "device = \"cuda\" if torch.cuda.is_available() and use_cuda else \"cpu\"\n",
    "\n",
    "print(device)\n",
    "print(f\"Epochs: {n_epochs}\")\n",
    "print(f\"Total of atom features: {TOTAL_ATOM_FEATS}\")"
   ]
  },
  {
   "cell_type": "code",
   "execution_count": 7,
   "metadata": {},
   "outputs": [],
   "source": [
    "def print_tunning_parameters():\n",
    "    print()\n",
    "    print(\"####### Tunning parameters #######\")\n",
    "    print()\n",
    "    \n",
    "    print(\"n_epochs =\", n_epochs)\n",
    "    print(\"use_cuda =\", use_cuda)\n",
    "    print()\n",
    "    print(\"num_GAT_layers = \", num_GAT_layers)\n",
    "    print(\"num_GAT_multiheads = \", num_GAT_multiheads)\n",
    "    print()\n",
    "    print(\"sp_ratio =\", sp_ratio)\n",
    "    print(\"sp_min_score =\", sp_min_score)\n",
    "    print()\n",
    "    print(\"use_explicit_valence =\", use_explicit_valence)\n",
    "    print()\n",
    "    print(\"use_activation_fn =\", use_activation_fn)\n",
    "    print()\n",
    "    print(\"use_ComplEx =\", use_ComplEx)\n",
    "    print()\n",
    "    print(\"use_improved_CoAttention =\", use_improved_CoAttention)\n",
    "    \n",
    "    print()\n",
    "    print(\"#################################\")\n",
    "    print()\n"
   ]
  },
  {
   "cell_type": "code",
   "execution_count": 8,
   "metadata": {
    "id": "qfaqIm8ZOwx9"
   },
   "outputs": [],
   "source": [
    "class CoAttentionLayer(nn.Module):\n",
    "    def __init__(self, n_features, use_activation_fn=True):\n",
    "        super().__init__()\n",
    "        self.n_features = n_features\n",
    "        self.w_q = nn.Parameter(torch.zeros(n_features, n_features // 2))\n",
    "        self.w_k = nn.Parameter(torch.zeros(n_features, n_features // 2))\n",
    "        self.bias = nn.Parameter(torch.zeros(n_features // 2))\n",
    "        self.a = nn.Parameter(torch.zeros(n_features // 2))\n",
    "        self.use_activation_fn = use_activation_fn\n",
    "\n",
    "        nn.init.xavier_uniform_(self.w_q)\n",
    "        nn.init.xavier_uniform_(self.w_k)\n",
    "        nn.init.xavier_uniform_(self.bias.view(*self.bias.shape, -1))\n",
    "        nn.init.xavier_uniform_(self.a.view(*self.a.shape, -1))\n",
    "\n",
    "    def forward(self, receiver, attendant):\n",
    "        # receiver.shape  = (1024, 4, 64)\n",
    "        # attendant.shape = (1024, 4, 64)\n",
    "        keys = receiver @ self.w_k\n",
    "        queries = attendant @ self.w_q\n",
    "        # values = receiver @ self.w_v\n",
    "        values = receiver\n",
    "\n",
    "        # queries.shape = (1024, 4, 32)\n",
    "        # keys.shape = (1024, 4, 32)\n",
    "        e_activations = queries.unsqueeze(-3) + keys.unsqueeze(-2) + self.bias\n",
    "        if self.use_activation_fn:\n",
    "            e_scores = torch.tanh(e_activations) @ self.a\n",
    "        else:\n",
    "            e_scores = e_activations @ self.a\n",
    "        attentions = e_scores\n",
    "\n",
    "        return attentions\n",
    "\n",
    "class CoAttentionLayerImproved(nn.Module):\n",
    "    def __init__(self, n_features, use_activation_fn=True, dropout=0.1, n_heads=2):\n",
    "        super().__init__()\n",
    "        self.n_features = n_features\n",
    "        self.n_heads = n_heads\n",
    "        self.head_dim = n_features // n_heads\n",
    "\n",
    "        # Projects for queries and keys per head\n",
    "        self.w_q = nn.Parameter(torch.zeros(self.head_dim, self.head_dim // 2))\n",
    "        self.w_k = nn.Parameter(torch.zeros(self.head_dim, self.head_dim // 2))\n",
    "        self.bias = nn.Parameter(torch.zeros(self.n_features // 2))\n",
    "        self.a = nn.Parameter(torch.zeros(self.n_features // 2))\n",
    "        self.use_activation_fn = use_activation_fn\n",
    "\n",
    "        self.dropout = nn.Dropout(dropout)\n",
    "\n",
    "        nn.init.xavier_uniform_(self.w_q)\n",
    "        nn.init.xavier_uniform_(self.w_k)\n",
    "        nn.init.xavier_uniform_(self.bias.view(*self.bias.shape, -1))\n",
    "        nn.init.xavier_uniform_(self.a.view(*self.a.shape, -1))\n",
    "\n",
    "    def forward(self, receiver, attendant):\n",
    "        # receiver.shape  = (1024, 4, 64)\n",
    "        # attendant.shape = (1024, 4, 64)\n",
    "\n",
    "        # Split reciever and attendant into multiple heads\n",
    "        batch_size, gat_size, n_features = receiver.shape\n",
    "        receiver = receiver.view(batch_size, gat_size, self.n_heads, self.head_dim)\n",
    "        attendant = attendant.view(batch_size, gat_size, self.n_heads, self.head_dim)\n",
    "        \n",
    "        # Compute keys and queries per head\n",
    "        # receiver.shape  = (1024, 4, 2, 32)\n",
    "        # attendant.shape = (1024, 4, 2, 32)\n",
    "        \n",
    "        # self.w_k.shape  = (32, 16)\n",
    "        # self.w_q.shape  = (32, 16)\n",
    "        \n",
    "        # self.keys.shape     = (1024, 4, 2, 16)\n",
    "        # self.queries.shape  = (1024, 4, 2, 16)\n",
    "        keys = receiver @ self.w_k\n",
    "        queries = attendant @ self.w_q\n",
    "\n",
    "        # self.keys.shape     = (1024, 4, 32)\n",
    "        # self.queries.shape  = (1024, 4, 32)\n",
    "        keys    = keys.view(batch_size, gat_size, self.head_dim)\n",
    "        queries = queries.view(batch_size, gat_size, self.head_dim)\n",
    "        # print(\"keys.shape\", keys.shape)\n",
    "        # print(\"queries.shape\", queries.shape)\n",
    "\n",
    "        # e_activations.shape = (1024, 4, 4, 32)\n",
    "        # self.a.shape = (32,)\n",
    "        e_activations = queries.unsqueeze(-3) + keys.unsqueeze(-2) + self.bias\n",
    "        if self.use_activation_fn:\n",
    "            e_scores = torch.tanh(e_activations) @ self.a\n",
    "        else:\n",
    "            e_scores = e_activations @ self.a\n",
    "\n",
    "        # attentions.shape = (1024, 4, 4)\n",
    "        attentions = e_scores\n",
    "\n",
    "        return attentions\n",
    "\n",
    "\n",
    "class RESCAL(nn.Module):\n",
    "    def __init__(self, n_rels, n_features):\n",
    "        \"\"\"\n",
    "        n_rels: number of relations = 86\n",
    "        n_features: kge_dim = 64\n",
    "        \"\"\"\n",
    "        super().__init__()\n",
    "        self.n_rels = n_rels\n",
    "        self.n_features = n_features\n",
    "        # Embedding layer\n",
    "        self.rel_emb = nn.Embedding(self.n_rels, n_features * n_features)\n",
    "        #  Initializes the embedding weights with the Xavier uniform distribution, which helps maintain the scale of gradients during training\n",
    "        nn.init.xavier_uniform_(self.rel_emb.weight)\n",
    "\n",
    "    def forward(self, heads, tails, rels, alpha_scores):\n",
    "        rels = self.rel_emb(rels)\n",
    "        rels = F.normalize(rels, dim=-1)\n",
    "        heads = F.normalize(heads, dim=-1)\n",
    "        tails = F.normalize(tails, dim=-1)\n",
    "        # print(rels.shape)\n",
    "        # Convert shape (1024, 4096) to (1024, 64, 64) for dot product\n",
    "        rels = rels.view(-1, self.n_features, self.n_features)\n",
    "        # print(rels.shape)\n",
    "        # (1024, 4, 64) @ (1024, 64, 64) = (1024, 4, 64) @ (1024, 64, 4) = (1024, 4, 4)\n",
    "        scores = heads @ rels @ tails.transpose(-2, -1)\n",
    "\n",
    "        # alpha_scores.shape = (1024, 4, 4)\n",
    "        # scores.shape = (1024, 4, 4)\n",
    "        if alpha_scores is not None:\n",
    "            scores = alpha_scores * scores\n",
    "        # print(scores.shape)\n",
    "        \n",
    "        # sum the last 2 dimensions\n",
    "        scores = scores.sum(dim=(-2, -1))\n",
    "        \n",
    "        # print(scores.shape)\n",
    "        # Shape(1024,)\n",
    "        return scores\n",
    "\n",
    "    def __repr__(self):\n",
    "        return f\"{self.__class__.__name__}({self.n_rels}, {self.rel_emb.weight.shape})\"\n",
    "\n",
    "\n",
    "\n",
    "class ComplEx(nn.Module):\n",
    "    def __init__(self, n_rels, n_features):\n",
    "        super().__init__()\n",
    "        self.n_rels = n_rels\n",
    "        self.n_features = n_features\n",
    "    \n",
    "        # Relation embeddings are also complex\n",
    "        self.rel_real = nn.Embedding(self.n_rels, (self.n_features // 2) * (self.n_features // 2))\n",
    "        self.rel_imag = nn.Embedding(self.n_rels, (self.n_features // 2) * (self.n_features // 2))\n",
    "        \n",
    "        # Initialize embeddings\n",
    "        nn.init.xavier_uniform_(self.rel_real.weight)\n",
    "        nn.init.xavier_uniform_(self.rel_imag.weight)\n",
    "\n",
    "    def forward(self, heads, tails, rels, alpha_scores=None):\n",
    "        # Preprocess\n",
    "        heads = F.normalize(heads, dim=-1)\n",
    "        tails = F.normalize(tails, dim=-1)\n",
    "        \n",
    "        r_real, r_imag = self.rel_real(rels), self.rel_imag(rels)\n",
    "        r_real = F.normalize(r_real, dim=-1)\n",
    "        r_imag = F.normalize(r_imag, dim=-1)\n",
    "        # print(r_real.shape)\n",
    "        r_real = r_real.view(-1, self.n_features // 2, self.n_features // 2)\n",
    "        r_imag = r_imag.view(-1, self.n_features // 2, self.n_features // 2)\n",
    "        # print(r_real.shape)\n",
    "        # Split heads and tails to imaginary parts\n",
    "        h_real, h_imag = heads[..., :self.n_features // 2], heads[..., self.n_features // 2:]\n",
    "        t_real, t_imag = tails[..., :self.n_features // 2], heads[..., self.n_features // 2:]\n",
    "\n",
    "        # ComplEx scoring functionn\n",
    "        first_part_score = h_real @ r_real @ t_real.transpose(-2, -1)\n",
    "        second_part_score = h_real @ r_imag @ t_imag.transpose(-2, -1)\n",
    "        third_part_score = h_imag @ r_real @ t_imag.transpose(-2, -1)\n",
    "        fourth_part_score = h_imag @ r_imag @ t_real.transpose(-2, -1)\n",
    "\n",
    "        scores = first_part_score + second_part_score + third_part_score + fourth_part_score\n",
    "        \n",
    "        # If alpha_scores is provided, apply it\n",
    "        if alpha_scores is not None:\n",
    "            scores = alpha_scores * scores\n",
    "\n",
    "        scores = scores.sum(dim=(-2, -1))\n",
    "        \n",
    "        return scores\n",
    "\n",
    "    def __repr__(self):\n",
    "        return f\"{self.__class__.__name__}({self.n_rels}, {self.rel_real.weight.shape}, {self.rel_imag.weight.shape})\"\n"
   ]
  },
  {
   "cell_type": "code",
   "execution_count": 9,
   "metadata": {
    "id": "CWV8Vy2YRXQA"
   },
   "outputs": [],
   "source": [
    "class SSI_DDI(nn.Module):\n",
    "    def __init__(\n",
    "        self,\n",
    "        in_features,\n",
    "        hidd_dim,\n",
    "        kge_dim,\n",
    "        rel_total,\n",
    "        heads_out_feat_params,\n",
    "        blocks_params,\n",
    "        sp_ratio,\n",
    "        use_activation_fn,\n",
    "        use_ComplEx,\n",
    "        sp_min_score,\n",
    "        use_improved_CoAttention,\n",
    "    ):\n",
    "        \"\"\"\n",
    "        blocks_params: list of number layers for multi-head attentions\n",
    "        \"\"\"\n",
    "        super().__init__()\n",
    "        self.in_features = in_features\n",
    "        # not using this one\n",
    "        self.hidd_dim = hidd_dim\n",
    "        self.rel_total = rel_total\n",
    "        self.kge_dim = kge_dim\n",
    "        self.n_blocks = len(blocks_params)\n",
    "\n",
    "        self.initial_norm = LayerNorm(self.in_features)\n",
    "        self.blocks = []\n",
    "        self.use_activation_fn = use_activation_fn\n",
    "        self.use_ComplEx = use_ComplEx\n",
    "        # Layer normalization list\n",
    "        self.net_norms = ModuleList()\n",
    "        for i, (head_out_feats, n_heads) in enumerate(\n",
    "            zip(heads_out_feat_params, blocks_params)\n",
    "        ):\n",
    "            block = SSI_DDI_Block(\n",
    "                n_heads, in_features, head_out_feats, final_out_feats=self.hidd_dim, sp_ratio=sp_ratio, sp_min_score=sp_min_score\n",
    "            )\n",
    "            self.add_module(f\"block{i}\", block)\n",
    "            self.blocks.append(block)\n",
    "            self.net_norms.append(LayerNorm(head_out_feats * n_heads))\n",
    "            in_features = head_out_feats * n_heads\n",
    "\n",
    "        if use_improved_CoAttention:\n",
    "            self.co_attention = CoAttentionLayerImproved(self.kge_dim, self.use_activation_fn)\n",
    "        else:\n",
    "            self.co_attention = CoAttentionLayer(self.kge_dim, self.use_activation_fn)\n",
    "            \n",
    "        if self.use_ComplEx:\n",
    "            self.KGE = ComplEx(self.rel_total, self.kge_dim)\n",
    "        else:\n",
    "            self.KGE = RESCAL(self.rel_total, self.kge_dim)\n",
    "\n",
    "    def forward(self, triples):\n",
    "        h_data, t_data, rels = triples\n",
    "\n",
    "        h_data.x = self.initial_norm(h_data.x, h_data.batch)\n",
    "        t_data.x = self.initial_norm(t_data.x, t_data.batch)\n",
    "\n",
    "        repr_h = []\n",
    "        repr_t = []\n",
    "\n",
    "        for i, block in enumerate(self.blocks):\n",
    "            out1, out2 = block(h_data), block(t_data)\n",
    "\n",
    "            h_data = out1[0]\n",
    "            t_data = out2[0]\n",
    "            r_h = out1[1]\n",
    "            r_t = out2[1]\n",
    "\n",
    "            repr_h.append(r_h)\n",
    "            repr_t.append(r_t)\n",
    "\n",
    "            h_data.x = F.elu(self.net_norms[i](h_data.x, h_data.batch))\n",
    "            t_data.x = F.elu(self.net_norms[i](t_data.x, t_data.batch))\n",
    "\n",
    "        repr_h = torch.stack(repr_h, dim=-2)\n",
    "        repr_t = torch.stack(repr_t, dim=-2)\n",
    "\n",
    "        kge_heads = repr_h\n",
    "        kge_tails = repr_t\n",
    "\n",
    "        attentions = self.co_attention(kge_heads, kge_tails)\n",
    "        # attentions = None\n",
    "        scores = self.KGE(kge_heads, kge_tails, rels, attentions)\n",
    "\n",
    "        return scores\n",
    "\n",
    "\n",
    "class SSI_DDI_Block(nn.Module):\n",
    "    def __init__(self, n_heads, in_features, head_out_feats, final_out_feats, sp_ratio, sp_min_score):\n",
    "        \"\"\"\n",
    "        n_heades: number of multi-head attentions = 2\n",
    "        in_features: number of features = 55 . For explicit valence use, number of features = 56.\n",
    "        head_out_feats: number of out features. For 4 layers: [32, 32, 32, 32]\n",
    "        sp_ratio: SAGPooling ratio\n",
    "        \"\"\"\n",
    "        super().__init__()\n",
    "        self.n_heads = n_heads\n",
    "        self.in_features = in_features\n",
    "        self.out_features = head_out_feats\n",
    "        self.conv = GATConv(in_features, head_out_feats, n_heads)\n",
    "        # SAGPooling: Ranks nodes based on self-attention scores\n",
    "\n",
    "        if sp_ratio is None and sp_min_score is None:\n",
    "            self.readout = SAGPooling(n_heads * head_out_feats, min_score=-1)\n",
    "        else:\n",
    "            if sp_ratio is not None:\n",
    "                self.readout = SAGPooling(n_heads * head_out_feats, min_score=sp_min_score, ratio=sp_ratio)\n",
    "            else:\n",
    "                self.readout = SAGPooling(n_heads * head_out_feats, min_score=sp_min_score)\n",
    "\n",
    "    def forward(self, data):\n",
    "        data.x = self.conv(data.x, data.edge_index)\n",
    "        # Call SAGPooling here\n",
    "        # If min_score = -1 so nodes will not be filtered out, basically redudant for using the SAGPooling.\n",
    "        att_x, att_edge_index, att_edge_attr, att_batch, att_perm, att_scores = (\n",
    "            self.readout(data.x, data.edge_index, batch=data.batch)\n",
    "        )\n",
    "        # Aggregates the pooled node features (att_x) across the graph to obtain a global representation\n",
    "        global_graph_emb = global_add_pool(att_x, att_batch)\n",
    "\n",
    "        # data = max_pool_neighbor_x(data)\n",
    "        return data, global_graph_emb\n"
   ]
  },
  {
   "cell_type": "code",
   "execution_count": 10,
   "metadata": {
    "id": "ZT2vnlWzR6FD"
   },
   "outputs": [],
   "source": [
    "class SigmoidLoss(nn.Module):\n",
    "    def __init__(self, adv_temperature=None):\n",
    "        super().__init__()\n",
    "        self.adv_temperature = adv_temperature\n",
    "\n",
    "    def forward(self, p_scores, n_scores):\n",
    "        if self.adv_temperature:\n",
    "            weights = F.softmax(self.adv_temperature * n_scores, dim=-1).detach()\n",
    "            n_scores = weights * n_scores\n",
    "        p_loss = -F.logsigmoid(p_scores).mean()\n",
    "        n_loss = -F.logsigmoid(-n_scores).mean()\n",
    "\n",
    "        return (p_loss + n_loss) / 2, p_loss, n_loss\n"
   ]
  },
  {
   "cell_type": "code",
   "execution_count": 11,
   "metadata": {
    "colab": {
     "base_uri": "https://localhost:8080/"
    },
    "executionInfo": {
     "elapsed": 5412,
     "status": "ok",
     "timestamp": 1729307124627,
     "user": {
      "displayName": "Nam Le",
      "userId": "10910051602335296858"
     },
     "user_tz": -420
    },
    "id": "iokMMRiStLG2",
    "outputId": "afa67e5a-4edb-4c3a-ee51-e0a261f743f6"
   },
   "outputs": [
    {
     "name": "stdout",
     "output_type": "stream",
     "text": [
      "Training with 115185 samples, validating with 38348, and testing with 38337\n"
     ]
    }
   ],
   "source": [
    "df_ddi_train = pd.read_csv(f\"{data_dir}/ddi_training.csv\")\n",
    "df_ddi_val = pd.read_csv(f\"{data_dir}/ddi_validation.csv\")\n",
    "df_ddi_test = pd.read_csv(f\"{data_dir}/ddi_test.csv\")\n",
    "\n",
    "\n",
    "train_tup = [\n",
    "    (h, t, r)\n",
    "    for h, t, r in zip(df_ddi_train[\"d1\"], df_ddi_train[\"d2\"], df_ddi_train[\"type\"])\n",
    "]\n",
    "val_tup = [\n",
    "    (h, t, r) for h, t, r in zip(df_ddi_val[\"d1\"], df_ddi_val[\"d2\"], df_ddi_val[\"type\"])\n",
    "]\n",
    "test_tup = [\n",
    "    (h, t, r)\n",
    "    for h, t, r in zip(df_ddi_test[\"d1\"], df_ddi_test[\"d2\"], df_ddi_test[\"type\"])\n",
    "]\n",
    "\n",
    "train_data = DrugDataset(train_tup, ratio=data_size_ratio, neg_ent=neg_samples)\n",
    "val_data = DrugDataset(val_tup, ratio=data_size_ratio, disjoint_split=False)\n",
    "test_data = DrugDataset(test_tup, disjoint_split=False)\n",
    "\n",
    "print(\n",
    "    f\"Training with {len(train_data)} samples, validating with {len(val_data)}, and testing with {len(test_data)}\"\n",
    ")\n",
    "\n",
    "train_data_loader = DrugDataLoader(train_data, batch_size=batch_size, shuffle=True)\n",
    "val_data_loader = DrugDataLoader(val_data, batch_size=batch_size * 3)\n",
    "test_data_loader = DrugDataLoader(test_data, batch_size=batch_size * 3)\n"
   ]
  },
  {
   "cell_type": "code",
   "execution_count": 12,
   "metadata": {
    "id": "7jJxwTGhtwRE"
   },
   "outputs": [],
   "source": [
    "def do_compute(model, batch, device, training=True):\n",
    "    \"\"\"\n",
    "    *batch: (pos_tri, neg_tri)\n",
    "    *pos/neg_tri: (batch_h, batch_t, batch_r)\n",
    "    \"\"\"\n",
    "    probas_pred, ground_truth = [], []\n",
    "    pos_tri, neg_tri = batch\n",
    "\n",
    "    pos_tri = [tensor.to(device=device) for tensor in pos_tri]\n",
    "    p_score = model(pos_tri)\n",
    "    probas_pred.append(torch.sigmoid(p_score.detach()).cpu())\n",
    "    ground_truth.append(np.ones(len(p_score)))\n",
    "\n",
    "    neg_tri = [tensor.to(device=device) for tensor in neg_tri]\n",
    "    n_score = model(neg_tri)\n",
    "    probas_pred.append(torch.sigmoid(n_score.detach()).cpu())\n",
    "    ground_truth.append(np.zeros(len(n_score)))\n",
    "\n",
    "    probas_pred = np.concatenate(probas_pred)\n",
    "    ground_truth = np.concatenate(ground_truth)\n",
    "\n",
    "    return p_score, n_score, probas_pred, ground_truth\n",
    "\n",
    "\n",
    "def do_compute_metrics(probas_pred, target):\n",
    "\n",
    "    pred = (probas_pred >= 0.5).astype(np.int64)\n",
    "\n",
    "    acc = metrics.accuracy_score(target, pred)\n",
    "    auc_roc = metrics.roc_auc_score(target, probas_pred)\n",
    "    f1_score = metrics.f1_score(target, pred)\n",
    "\n",
    "    p, r, t = metrics.precision_recall_curve(target, probas_pred)\n",
    "    auc_prc = metrics.auc(r, p)\n",
    "\n",
    "    return acc, auc_roc, auc_prc"
   ]
  },
  {
   "cell_type": "code",
   "execution_count": 13,
   "metadata": {},
   "outputs": [],
   "source": [
    "import csv\n",
    "def export_metrics(train_metrics, val_metrics, epoch):\n",
    "    train_metrics_dir = \"train_metrics\"\n",
    "    metrics_file = f\"{train_metrics_dir}/{model_name}.csv\"\n",
    "    train_loss, train_acc, train_auc_roc, train_auc_prc = train_metrics\n",
    "    val_loss, val_acc, val_auc_roc, val_auc_prc = val_metrics\n",
    "\n",
    "    data = [epoch, train_loss, train_acc, train_auc_roc, train_auc_prc, val_loss, val_acc, val_auc_roc, val_auc_prc]\n",
    "    header = [\"epoch\", \"train_loss\", \"train_acc\", \"train_auc_roc\", \"train_auc_prc\", \"val_loss\", \"val_acc\", \"val_auc_roc\", \"val_auc_prc\"]\n",
    "    \n",
    "    if epoch == 1:\n",
    "        with open(metrics_file, 'w', newline='') as file:\n",
    "            writer = csv.writer(file)\n",
    "            # Write the header\n",
    "            writer.writerow(header)\n",
    "            # Write the data rows\n",
    "            writer.writerow(data)\n",
    "    else:\n",
    "        with open(metrics_file, 'a', newline='') as file:\n",
    "            writer = csv.writer(file)\n",
    "            # Write the data to the file\n",
    "            writer.writerow(data)\n",
    "    \n",
    "    "
   ]
  },
  {
   "cell_type": "code",
   "execution_count": 14,
   "metadata": {
    "id": "EV5GTDPktz_h"
   },
   "outputs": [],
   "source": [
    "def train(\n",
    "    model,\n",
    "    train_data_loader,\n",
    "    val_data_loader,\n",
    "    loss_fn,\n",
    "    optimizer,\n",
    "    n_epochs,\n",
    "    device,\n",
    "    scheduler=None,\n",
    "):\n",
    "    print(\"Starting training at:\", datetime.today())\n",
    "    print(\"Device:\", device)\n",
    "    print_tunning_parameters()\n",
    "    best_val_auc_prc = 0\n",
    "    for i in range(1, n_epochs + 1):\n",
    "        start = time.time()\n",
    "        train_loss = 0\n",
    "        train_loss_pos = 0\n",
    "        train_loss_neg = 0\n",
    "        val_loss = 0\n",
    "        val_loss_pos = 0\n",
    "        val_loss_neg = 0\n",
    "        train_probas_pred = []\n",
    "        train_ground_truth = []\n",
    "        val_probas_pred = []\n",
    "        val_ground_truth = []\n",
    "\n",
    "        for batch in train_data_loader:\n",
    "            # print(len(batch))\n",
    "            model.train()\n",
    "            p_score, n_score, probas_pred, ground_truth = do_compute(model, batch, device)\n",
    "            train_probas_pred.append(probas_pred)\n",
    "            train_ground_truth.append(ground_truth)\n",
    "            loss, loss_p, loss_n = loss_fn(p_score, n_score)\n",
    "\n",
    "            optimizer.zero_grad()\n",
    "            loss.backward()\n",
    "            optimizer.step()\n",
    "\n",
    "            train_loss += loss.item() * len(p_score)\n",
    "        train_loss /= len(train_data)\n",
    "\n",
    "        with torch.no_grad():\n",
    "            train_probas_pred = np.concatenate(train_probas_pred)\n",
    "            train_ground_truth = np.concatenate(train_ground_truth)\n",
    "\n",
    "            train_acc, train_auc_roc, train_auc_prc = do_compute_metrics(\n",
    "                train_probas_pred, train_ground_truth\n",
    "            )\n",
    "\n",
    "            for batch in val_data_loader:\n",
    "                model.eval()\n",
    "                p_score, n_score, probas_pred, ground_truth = do_compute(model, batch, device)\n",
    "                val_probas_pred.append(probas_pred)\n",
    "                val_ground_truth.append(ground_truth)\n",
    "                loss, loss_p, loss_n = loss_fn(p_score, n_score)\n",
    "                val_loss += loss.item() * len(p_score)\n",
    "\n",
    "            val_loss /= len(val_data)\n",
    "            val_probas_pred = np.concatenate(val_probas_pred)\n",
    "            val_ground_truth = np.concatenate(val_ground_truth)\n",
    "            val_acc, val_auc_roc, val_auc_prc = do_compute_metrics(\n",
    "                val_probas_pred, val_ground_truth\n",
    "            )\n",
    "            \n",
    "            # Save model if this is best result based on val_auc_prc\n",
    "            if best_val_auc_prc < val_auc_prc:\n",
    "                print(\"Saving model\")\n",
    "                best_val_auc_prc = val_auc_prc\n",
    "                torch.save(model, model_file)\n",
    "\n",
    "        if scheduler:\n",
    "            # print('scheduling')\n",
    "            scheduler.step()\n",
    "\n",
    "        # Exporting metrics for later plots\n",
    "        train_metrics = (train_loss, train_acc, train_auc_roc, train_auc_prc)\n",
    "        val_metrics = (val_loss, val_acc, val_auc_roc, val_auc_prc)\n",
    "        export_metrics(train_metrics, val_metrics, i)\n",
    "        \n",
    "        print(\n",
    "            f\"Epoch: {i} ({time.time() - start:.4f}s), train_loss: {train_loss:.4f}, val_loss: {val_loss:.4f},\"\n",
    "            f\" train_acc: {train_acc:.4f}, val_acc:{val_acc:.4f}\"\n",
    "        )\n",
    "        print(\n",
    "            f\"\\t\\ttrain_roc: {train_auc_roc:.4f}, val_roc: {val_auc_roc:.4f}, train_auprc: {train_auc_prc:.4f}, val_auprc: {val_auc_prc:.4f}\"\n",
    "        )\n",
    "\n",
    "    return model"
   ]
  },
  {
   "cell_type": "code",
   "execution_count": 15,
   "metadata": {
    "id": "ZwBcoUHEuAtJ"
   },
   "outputs": [],
   "source": [
    "def predict(model, test_data_loader, device):\n",
    "    print('Starting predicting at', datetime.today())\n",
    "    print('Device', device)\n",
    "\n",
    "    test_probas_pred = []\n",
    "    test_ground_truth = []\n",
    "\n",
    "    # Switch to evaluation mode\n",
    "    model.eval()\n",
    "\n",
    "    with torch.no_grad():  # No need to calculate gradients during testing\n",
    "        for batch in test_data_loader:\n",
    "            # Get predictions and ground truth for the batch\n",
    "            p_score, n_score, probas_pred, ground_truth = do_compute(model, batch, device, training=False)\n",
    "\n",
    "            # Append the predictions and ground truths\n",
    "            test_probas_pred.append(probas_pred)\n",
    "            test_ground_truth.append(ground_truth)\n",
    "\n",
    "\n",
    "    # Concatenate the results for the entire test dataset\n",
    "    test_probas_pred = np.concatenate(test_probas_pred)\n",
    "    test_ground_truth = np.concatenate(test_ground_truth)\n",
    "\n",
    "    # Calculate the metrics for the test dataset\n",
    "    test_acc, test_auc_roc, test_auc_prc = do_compute_metrics(test_probas_pred, test_ground_truth)\n",
    "\n",
    "    print(f'Test Accuracy: {test_acc:.4f}')\n",
    "    print(f'Test ROC AUC: {test_auc_roc:.4f}')\n",
    "    print(f'Test PRC AUC: {test_auc_prc:.4f}')"
   ]
  },
  {
   "cell_type": "code",
   "execution_count": 16,
   "metadata": {
    "colab": {
     "base_uri": "https://localhost:8080/"
    },
    "executionInfo": {
     "elapsed": 722,
     "status": "ok",
     "timestamp": 1729307125347,
     "user": {
      "displayName": "Nam Le",
      "userId": "10910051602335296858"
     },
     "user_tz": -420
    },
    "id": "PQ1H7udUuFMT",
    "outputId": "4519f4c7-6ad4-4d20-b66d-a5f26cdab691"
   },
   "outputs": [
    {
     "name": "stdout",
     "output_type": "stream",
     "text": [
      "SSI_DDI(\n",
      "  (initial_norm): LayerNorm(55, affine=True, mode=graph)\n",
      "  (net_norms): ModuleList(\n",
      "    (0-3): 4 x LayerNorm(64, affine=True, mode=graph)\n",
      "  )\n",
      "  (block0): SSI_DDI_Block(\n",
      "    (conv): GATConv(55, 32, heads=2)\n",
      "    (readout): SAGPooling(GraphConv, 64, min_score=-1, multiplier=1.0)\n",
      "  )\n",
      "  (block1): SSI_DDI_Block(\n",
      "    (conv): GATConv(64, 32, heads=2)\n",
      "    (readout): SAGPooling(GraphConv, 64, min_score=-1, multiplier=1.0)\n",
      "  )\n",
      "  (block2): SSI_DDI_Block(\n",
      "    (conv): GATConv(64, 32, heads=2)\n",
      "    (readout): SAGPooling(GraphConv, 64, min_score=-1, multiplier=1.0)\n",
      "  )\n",
      "  (block3): SSI_DDI_Block(\n",
      "    (conv): GATConv(64, 32, heads=2)\n",
      "    (readout): SAGPooling(GraphConv, 64, min_score=-1, multiplier=1.0)\n",
      "  )\n",
      "  (co_attention): CoAttentionLayer()\n",
      "  (KGE): RESCAL(86, torch.Size([86, 4096]))\n",
      ")\n"
     ]
    }
   ],
   "source": [
    "model_file = f\"{model_dir}/{model_name}.pth\"\n",
    "\n",
    "heads_out_feat_params = []\n",
    "block_params = []\n",
    "\n",
    "for _ in range(num_GAT_layers):\n",
    "    heads_out_feat_params.append(kge_dim // 2)\n",
    "    block_params.append(num_GAT_multiheads)\n",
    "\n",
    "if mode == \"train\":\n",
    "    model = SSI_DDI(\n",
    "        n_atom_feats,\n",
    "        n_atom_hid,\n",
    "        kge_dim,\n",
    "        rel_total,\n",
    "        heads_out_feat_params=heads_out_feat_params,\n",
    "        blocks_params=block_params,\n",
    "        sp_ratio=sp_ratio,\n",
    "        use_activation_fn=use_activation_fn,\n",
    "        use_ComplEx=use_ComplEx,\n",
    "        sp_min_score=sp_min_score,\n",
    "        use_improved_CoAttention=use_improved_CoAttention,\n",
    "    )\n",
    "    loss = SigmoidLoss()\n",
    "    optimizer = optim.Adam(model.parameters(), lr=lr, weight_decay=weight_decay)\n",
    "    scheduler = optim.lr_scheduler.LambdaLR(optimizer, lambda epoch: 0.96 ** (epoch))\n",
    "    print(model)\n",
    "    model.to(device=device)"
   ]
  },
  {
   "cell_type": "code",
   "execution_count": 17,
   "metadata": {
    "colab": {
     "base_uri": "https://localhost:8080/"
    },
    "id": "JvcD5xd_uVbL",
    "outputId": "20e29f96-e964-4647-8a0e-5f46bed80a06"
   },
   "outputs": [
    {
     "name": "stdout",
     "output_type": "stream",
     "text": [
      "Starting training at: 2024-10-23 19:40:25.998659\n",
      "Device: cuda\n",
      "\n",
      "####### Tunning parameters #######\n",
      "\n",
      "n_epochs = 300\n",
      "use_cuda = True\n",
      "\n",
      "num_GAT_layers =  4\n",
      "num_GAT_multiheads =  2\n",
      "\n",
      "sp_ratio = None\n",
      "sp_min_score = None\n",
      "\n",
      "use_explicit_valence = False\n",
      "\n",
      "use_activation_fn = False\n",
      "\n",
      "use_ComplEx = False\n",
      "\n",
      "use_improved_CoAttention = False\n",
      "\n",
      "#################################\n",
      "\n"
     ]
    },
    {
     "name": "stderr",
     "output_type": "stream",
     "text": [
      "/home/namle/.local/lib/python3.10/site-packages/torch_geometric/warnings.py:11: UserWarning: The usage of `scatter(reduce='max')` can be accelerated via the 'torch-scatter' package, but it was not found\n",
      "  warnings.warn(message)\n"
     ]
    },
    {
     "name": "stdout",
     "output_type": "stream",
     "text": [
      "Saving model\n",
      "Epoch: 1 (61.2847s), train_loss: 0.6834, val_loss: 0.6447, train_acc: 0.5616, val_acc:0.6115\n",
      "\t\ttrain_roc: 0.5907, val_roc: 0.6634, train_auprc: 0.5759, val_auprc: 0.6486\n"
     ]
    },
    {
     "name": "stderr",
     "output_type": "stream",
     "text": [
      "/home/namle/.local/lib/python3.10/site-packages/torch_geometric/warnings.py:11: UserWarning: The usage of `scatter(reduce='max')` can be accelerated via the 'torch-scatter' package, but it was not found\n",
      "  warnings.warn(message)\n"
     ]
    },
    {
     "name": "stdout",
     "output_type": "stream",
     "text": [
      "Saving model\n",
      "Epoch: 2 (59.2862s), train_loss: 0.6172, val_loss: 0.5943, train_acc: 0.6490, val_acc:0.6769\n",
      "\t\ttrain_roc: 0.7097, val_roc: 0.7430, train_auprc: 0.6891, val_auprc: 0.7172\n"
     ]
    },
    {
     "name": "stderr",
     "output_type": "stream",
     "text": [
      "/home/namle/.local/lib/python3.10/site-packages/torch_geometric/warnings.py:11: UserWarning: The usage of `scatter(reduce='max')` can be accelerated via the 'torch-scatter' package, but it was not found\n",
      "  warnings.warn(message)\n"
     ]
    },
    {
     "name": "stdout",
     "output_type": "stream",
     "text": [
      "Saving model\n",
      "Epoch: 3 (58.8625s), train_loss: 0.5727, val_loss: 0.5619, train_acc: 0.6935, val_acc:0.6985\n",
      "\t\ttrain_roc: 0.7647, val_roc: 0.7753, train_auprc: 0.7439, val_auprc: 0.7553\n"
     ]
    },
    {
     "name": "stderr",
     "output_type": "stream",
     "text": [
      "/home/namle/.local/lib/python3.10/site-packages/torch_geometric/warnings.py:11: UserWarning: The usage of `scatter(reduce='max')` can be accelerated via the 'torch-scatter' package, but it was not found\n",
      "  warnings.warn(message)\n"
     ]
    },
    {
     "name": "stdout",
     "output_type": "stream",
     "text": [
      "Saving model\n",
      "Epoch: 4 (59.0640s), train_loss: 0.5464, val_loss: 0.5448, train_acc: 0.7167, val_acc:0.7123\n",
      "\t\ttrain_roc: 0.7915, val_roc: 0.7976, train_auprc: 0.7706, val_auprc: 0.7804\n"
     ]
    },
    {
     "name": "stderr",
     "output_type": "stream",
     "text": [
      "/home/namle/.local/lib/python3.10/site-packages/torch_geometric/warnings.py:11: UserWarning: The usage of `scatter(reduce='max')` can be accelerated via the 'torch-scatter' package, but it was not found\n",
      "  warnings.warn(message)\n"
     ]
    },
    {
     "name": "stdout",
     "output_type": "stream",
     "text": [
      "Saving model\n",
      "Epoch: 5 (59.2327s), train_loss: 0.5287, val_loss: 0.5208, train_acc: 0.7302, val_acc:0.7374\n",
      "\t\ttrain_roc: 0.8072, val_roc: 0.8148, train_auprc: 0.7862, val_auprc: 0.7968\n"
     ]
    },
    {
     "name": "stderr",
     "output_type": "stream",
     "text": [
      "/home/namle/.local/lib/python3.10/site-packages/torch_geometric/warnings.py:11: UserWarning: The usage of `scatter(reduce='max')` can be accelerated via the 'torch-scatter' package, but it was not found\n",
      "  warnings.warn(message)\n"
     ]
    },
    {
     "name": "stdout",
     "output_type": "stream",
     "text": [
      "Saving model\n",
      "Epoch: 6 (58.8431s), train_loss: 0.5109, val_loss: 0.5086, train_acc: 0.7441, val_acc:0.7480\n",
      "\t\ttrain_roc: 0.8224, val_roc: 0.8250, train_auprc: 0.8014, val_auprc: 0.8049\n"
     ]
    },
    {
     "name": "stderr",
     "output_type": "stream",
     "text": [
      "/home/namle/.local/lib/python3.10/site-packages/torch_geometric/warnings.py:11: UserWarning: The usage of `scatter(reduce='max')` can be accelerated via the 'torch-scatter' package, but it was not found\n",
      "  warnings.warn(message)\n"
     ]
    },
    {
     "name": "stdout",
     "output_type": "stream",
     "text": [
      "Saving model\n",
      "Epoch: 7 (59.1233s), train_loss: 0.5008, val_loss: 0.5022, train_acc: 0.7511, val_acc:0.7527\n",
      "\t\ttrain_roc: 0.8303, val_roc: 0.8320, train_auprc: 0.8103, val_auprc: 0.8129\n"
     ]
    },
    {
     "name": "stderr",
     "output_type": "stream",
     "text": [
      "/home/namle/.local/lib/python3.10/site-packages/torch_geometric/warnings.py:11: UserWarning: The usage of `scatter(reduce='max')` can be accelerated via the 'torch-scatter' package, but it was not found\n",
      "  warnings.warn(message)\n"
     ]
    },
    {
     "name": "stdout",
     "output_type": "stream",
     "text": [
      "Saving model\n",
      "Epoch: 8 (59.1157s), train_loss: 0.4917, val_loss: 0.4930, train_acc: 0.7585, val_acc:0.7596\n",
      "\t\ttrain_roc: 0.8377, val_roc: 0.8381, train_auprc: 0.8174, val_auprc: 0.8164\n"
     ]
    },
    {
     "name": "stderr",
     "output_type": "stream",
     "text": [
      "/home/namle/.local/lib/python3.10/site-packages/torch_geometric/warnings.py:11: UserWarning: The usage of `scatter(reduce='max')` can be accelerated via the 'torch-scatter' package, but it was not found\n",
      "  warnings.warn(message)\n"
     ]
    },
    {
     "name": "stdout",
     "output_type": "stream",
     "text": [
      "Saving model\n",
      "Epoch: 9 (59.3526s), train_loss: 0.4832, val_loss: 0.4888, train_acc: 0.7646, val_acc:0.7622\n",
      "\t\ttrain_roc: 0.8442, val_roc: 0.8403, train_auprc: 0.8240, val_auprc: 0.8215\n"
     ]
    },
    {
     "name": "stderr",
     "output_type": "stream",
     "text": [
      "/home/namle/.local/lib/python3.10/site-packages/torch_geometric/warnings.py:11: UserWarning: The usage of `scatter(reduce='max')` can be accelerated via the 'torch-scatter' package, but it was not found\n",
      "  warnings.warn(message)\n"
     ]
    },
    {
     "name": "stdout",
     "output_type": "stream",
     "text": [
      "Saving model\n",
      "Epoch: 10 (59.2044s), train_loss: 0.4760, val_loss: 0.4703, train_acc: 0.7710, val_acc:0.7748\n",
      "\t\ttrain_roc: 0.8495, val_roc: 0.8541, train_auprc: 0.8295, val_auprc: 0.8349\n"
     ]
    },
    {
     "name": "stderr",
     "output_type": "stream",
     "text": [
      "/home/namle/.local/lib/python3.10/site-packages/torch_geometric/warnings.py:11: UserWarning: The usage of `scatter(reduce='max')` can be accelerated via the 'torch-scatter' package, but it was not found\n",
      "  warnings.warn(message)\n"
     ]
    },
    {
     "name": "stdout",
     "output_type": "stream",
     "text": [
      "Saving model\n",
      "Epoch: 11 (60.4015s), train_loss: 0.4670, val_loss: 0.4682, train_acc: 0.7765, val_acc:0.7780\n",
      "\t\ttrain_roc: 0.8558, val_roc: 0.8564, train_auprc: 0.8363, val_auprc: 0.8361\n"
     ]
    },
    {
     "name": "stderr",
     "output_type": "stream",
     "text": [
      "/home/namle/.local/lib/python3.10/site-packages/torch_geometric/warnings.py:11: UserWarning: The usage of `scatter(reduce='max')` can be accelerated via the 'torch-scatter' package, but it was not found\n",
      "  warnings.warn(message)\n"
     ]
    },
    {
     "name": "stdout",
     "output_type": "stream",
     "text": [
      "Saving model\n",
      "Epoch: 12 (60.3831s), train_loss: 0.4583, val_loss: 0.4624, train_acc: 0.7822, val_acc:0.7790\n",
      "\t\ttrain_roc: 0.8617, val_roc: 0.8605, train_auprc: 0.8418, val_auprc: 0.8405\n"
     ]
    },
    {
     "name": "stderr",
     "output_type": "stream",
     "text": [
      "/home/namle/.local/lib/python3.10/site-packages/torch_geometric/warnings.py:11: UserWarning: The usage of `scatter(reduce='max')` can be accelerated via the 'torch-scatter' package, but it was not found\n",
      "  warnings.warn(message)\n"
     ]
    },
    {
     "name": "stdout",
     "output_type": "stream",
     "text": [
      "Saving model\n",
      "Epoch: 13 (60.9692s), train_loss: 0.4537, val_loss: 0.4570, train_acc: 0.7853, val_acc:0.7810\n",
      "\t\ttrain_roc: 0.8647, val_roc: 0.8627, train_auprc: 0.8456, val_auprc: 0.8421\n"
     ]
    },
    {
     "name": "stderr",
     "output_type": "stream",
     "text": [
      "/home/namle/.local/lib/python3.10/site-packages/torch_geometric/warnings.py:11: UserWarning: The usage of `scatter(reduce='max')` can be accelerated via the 'torch-scatter' package, but it was not found\n",
      "  warnings.warn(message)\n"
     ]
    },
    {
     "name": "stdout",
     "output_type": "stream",
     "text": [
      "Saving model\n",
      "Epoch: 14 (60.3566s), train_loss: 0.4483, val_loss: 0.4542, train_acc: 0.7893, val_acc:0.7840\n",
      "\t\ttrain_roc: 0.8684, val_roc: 0.8648, train_auprc: 0.8492, val_auprc: 0.8473\n"
     ]
    },
    {
     "name": "stderr",
     "output_type": "stream",
     "text": [
      "/home/namle/.local/lib/python3.10/site-packages/torch_geometric/warnings.py:11: UserWarning: The usage of `scatter(reduce='max')` can be accelerated via the 'torch-scatter' package, but it was not found\n",
      "  warnings.warn(message)\n"
     ]
    },
    {
     "name": "stdout",
     "output_type": "stream",
     "text": [
      "Saving model\n",
      "Epoch: 15 (60.9847s), train_loss: 0.4423, val_loss: 0.4400, train_acc: 0.7924, val_acc:0.7933\n",
      "\t\ttrain_roc: 0.8723, val_roc: 0.8744, train_auprc: 0.8541, val_auprc: 0.8578\n"
     ]
    },
    {
     "name": "stderr",
     "output_type": "stream",
     "text": [
      "/home/namle/.local/lib/python3.10/site-packages/torch_geometric/warnings.py:11: UserWarning: The usage of `scatter(reduce='max')` can be accelerated via the 'torch-scatter' package, but it was not found\n",
      "  warnings.warn(message)\n"
     ]
    },
    {
     "name": "stdout",
     "output_type": "stream",
     "text": [
      "Saving model\n",
      "Epoch: 16 (60.7989s), train_loss: 0.4366, val_loss: 0.4402, train_acc: 0.7960, val_acc:0.7949\n",
      "\t\ttrain_roc: 0.8759, val_roc: 0.8747, train_auprc: 0.8580, val_auprc: 0.8580\n"
     ]
    },
    {
     "name": "stderr",
     "output_type": "stream",
     "text": [
      "/home/namle/.local/lib/python3.10/site-packages/torch_geometric/warnings.py:11: UserWarning: The usage of `scatter(reduce='max')` can be accelerated via the 'torch-scatter' package, but it was not found\n",
      "  warnings.warn(message)\n"
     ]
    },
    {
     "name": "stdout",
     "output_type": "stream",
     "text": [
      "Saving model\n",
      "Epoch: 17 (58.8734s), train_loss: 0.4321, val_loss: 0.4322, train_acc: 0.7995, val_acc:0.8007\n",
      "\t\ttrain_roc: 0.8787, val_roc: 0.8791, train_auprc: 0.8600, val_auprc: 0.8631\n"
     ]
    },
    {
     "name": "stderr",
     "output_type": "stream",
     "text": [
      "/home/namle/.local/lib/python3.10/site-packages/torch_geometric/warnings.py:11: UserWarning: The usage of `scatter(reduce='max')` can be accelerated via the 'torch-scatter' package, but it was not found\n",
      "  warnings.warn(message)\n"
     ]
    },
    {
     "name": "stdout",
     "output_type": "stream",
     "text": [
      "Epoch: 18 (59.0435s), train_loss: 0.4248, val_loss: 0.4312, train_acc: 0.8035, val_acc:0.8028\n",
      "\t\ttrain_roc: 0.8829, val_roc: 0.8807, train_auprc: 0.8651, val_auprc: 0.8624\n"
     ]
    },
    {
     "name": "stderr",
     "output_type": "stream",
     "text": [
      "/home/namle/.local/lib/python3.10/site-packages/torch_geometric/warnings.py:11: UserWarning: The usage of `scatter(reduce='max')` can be accelerated via the 'torch-scatter' package, but it was not found\n",
      "  warnings.warn(message)\n"
     ]
    },
    {
     "name": "stdout",
     "output_type": "stream",
     "text": [
      "Saving model\n",
      "Epoch: 19 (58.9341s), train_loss: 0.4227, val_loss: 0.4258, train_acc: 0.8075, val_acc:0.8027\n",
      "\t\ttrain_roc: 0.8843, val_roc: 0.8836, train_auprc: 0.8651, val_auprc: 0.8678\n"
     ]
    },
    {
     "name": "stderr",
     "output_type": "stream",
     "text": [
      "/home/namle/.local/lib/python3.10/site-packages/torch_geometric/warnings.py:11: UserWarning: The usage of `scatter(reduce='max')` can be accelerated via the 'torch-scatter' package, but it was not found\n",
      "  warnings.warn(message)\n"
     ]
    },
    {
     "name": "stdout",
     "output_type": "stream",
     "text": [
      "Epoch: 20 (58.8556s), train_loss: 0.4170, val_loss: 0.4212, train_acc: 0.8106, val_acc:0.8080\n",
      "\t\ttrain_roc: 0.8880, val_roc: 0.8852, train_auprc: 0.8701, val_auprc: 0.8670\n"
     ]
    },
    {
     "name": "stderr",
     "output_type": "stream",
     "text": [
      "/home/namle/.local/lib/python3.10/site-packages/torch_geometric/warnings.py:11: UserWarning: The usage of `scatter(reduce='max')` can be accelerated via the 'torch-scatter' package, but it was not found\n",
      "  warnings.warn(message)\n"
     ]
    },
    {
     "name": "stdout",
     "output_type": "stream",
     "text": [
      "Saving model\n",
      "Epoch: 21 (58.9545s), train_loss: 0.4130, val_loss: 0.4177, train_acc: 0.8129, val_acc:0.8117\n",
      "\t\ttrain_roc: 0.8898, val_roc: 0.8887, train_auprc: 0.8723, val_auprc: 0.8716\n"
     ]
    },
    {
     "name": "stderr",
     "output_type": "stream",
     "text": [
      "/home/namle/.local/lib/python3.10/site-packages/torch_geometric/warnings.py:11: UserWarning: The usage of `scatter(reduce='max')` can be accelerated via the 'torch-scatter' package, but it was not found\n",
      "  warnings.warn(message)\n"
     ]
    },
    {
     "name": "stdout",
     "output_type": "stream",
     "text": [
      "Saving model\n",
      "Epoch: 22 (59.3516s), train_loss: 0.4090, val_loss: 0.4135, train_acc: 0.8151, val_acc:0.8129\n",
      "\t\ttrain_roc: 0.8924, val_roc: 0.8901, train_auprc: 0.8743, val_auprc: 0.8733\n"
     ]
    },
    {
     "name": "stderr",
     "output_type": "stream",
     "text": [
      "/home/namle/.local/lib/python3.10/site-packages/torch_geometric/warnings.py:11: UserWarning: The usage of `scatter(reduce='max')` can be accelerated via the 'torch-scatter' package, but it was not found\n",
      "  warnings.warn(message)\n"
     ]
    },
    {
     "name": "stdout",
     "output_type": "stream",
     "text": [
      "Saving model\n",
      "Epoch: 23 (58.9762s), train_loss: 0.4054, val_loss: 0.4105, train_acc: 0.8169, val_acc:0.8155\n",
      "\t\ttrain_roc: 0.8941, val_roc: 0.8916, train_auprc: 0.8768, val_auprc: 0.8748\n"
     ]
    },
    {
     "name": "stderr",
     "output_type": "stream",
     "text": [
      "/home/namle/.local/lib/python3.10/site-packages/torch_geometric/warnings.py:11: UserWarning: The usage of `scatter(reduce='max')` can be accelerated via the 'torch-scatter' package, but it was not found\n",
      "  warnings.warn(message)\n"
     ]
    },
    {
     "name": "stdout",
     "output_type": "stream",
     "text": [
      "Saving model\n",
      "Epoch: 24 (58.8790s), train_loss: 0.3993, val_loss: 0.4047, train_acc: 0.8217, val_acc:0.8186\n",
      "\t\ttrain_roc: 0.8974, val_roc: 0.8957, train_auprc: 0.8798, val_auprc: 0.8801\n"
     ]
    },
    {
     "name": "stderr",
     "output_type": "stream",
     "text": [
      "/home/namle/.local/lib/python3.10/site-packages/torch_geometric/warnings.py:11: UserWarning: The usage of `scatter(reduce='max')` can be accelerated via the 'torch-scatter' package, but it was not found\n",
      "  warnings.warn(message)\n"
     ]
    },
    {
     "name": "stdout",
     "output_type": "stream",
     "text": [
      "Saving model\n",
      "Epoch: 25 (58.8835s), train_loss: 0.3952, val_loss: 0.3990, train_acc: 0.8237, val_acc:0.8227\n",
      "\t\ttrain_roc: 0.8998, val_roc: 0.8985, train_auprc: 0.8824, val_auprc: 0.8825\n"
     ]
    },
    {
     "name": "stderr",
     "output_type": "stream",
     "text": [
      "/home/namle/.local/lib/python3.10/site-packages/torch_geometric/warnings.py:11: UserWarning: The usage of `scatter(reduce='max')` can be accelerated via the 'torch-scatter' package, but it was not found\n",
      "  warnings.warn(message)\n"
     ]
    },
    {
     "name": "stdout",
     "output_type": "stream",
     "text": [
      "Epoch: 26 (58.7820s), train_loss: 0.3920, val_loss: 0.4003, train_acc: 0.8249, val_acc:0.8245\n",
      "\t\ttrain_roc: 0.9014, val_roc: 0.8986, train_auprc: 0.8851, val_auprc: 0.8808\n"
     ]
    },
    {
     "name": "stderr",
     "output_type": "stream",
     "text": [
      "/home/namle/.local/lib/python3.10/site-packages/torch_geometric/warnings.py:11: UserWarning: The usage of `scatter(reduce='max')` can be accelerated via the 'torch-scatter' package, but it was not found\n",
      "  warnings.warn(message)\n"
     ]
    },
    {
     "name": "stdout",
     "output_type": "stream",
     "text": [
      "Saving model\n",
      "Epoch: 27 (58.9855s), train_loss: 0.3875, val_loss: 0.3972, train_acc: 0.8282, val_acc:0.8241\n",
      "\t\ttrain_roc: 0.9041, val_roc: 0.8991, train_auprc: 0.8874, val_auprc: 0.8825\n"
     ]
    },
    {
     "name": "stderr",
     "output_type": "stream",
     "text": [
      "/home/namle/.local/lib/python3.10/site-packages/torch_geometric/warnings.py:11: UserWarning: The usage of `scatter(reduce='max')` can be accelerated via the 'torch-scatter' package, but it was not found\n",
      "  warnings.warn(message)\n"
     ]
    },
    {
     "name": "stdout",
     "output_type": "stream",
     "text": [
      "Saving model\n",
      "Epoch: 28 (58.9819s), train_loss: 0.3822, val_loss: 0.3918, train_acc: 0.8306, val_acc:0.8244\n",
      "\t\ttrain_roc: 0.9064, val_roc: 0.9027, train_auprc: 0.8902, val_auprc: 0.8875\n"
     ]
    },
    {
     "name": "stderr",
     "output_type": "stream",
     "text": [
      "/home/namle/.local/lib/python3.10/site-packages/torch_geometric/warnings.py:11: UserWarning: The usage of `scatter(reduce='max')` can be accelerated via the 'torch-scatter' package, but it was not found\n",
      "  warnings.warn(message)\n"
     ]
    },
    {
     "name": "stdout",
     "output_type": "stream",
     "text": [
      "Saving model\n",
      "Epoch: 29 (58.7690s), train_loss: 0.3799, val_loss: 0.3876, train_acc: 0.8328, val_acc:0.8293\n",
      "\t\ttrain_roc: 0.9073, val_roc: 0.9046, train_auprc: 0.8906, val_auprc: 0.8892\n"
     ]
    },
    {
     "name": "stderr",
     "output_type": "stream",
     "text": [
      "/home/namle/.local/lib/python3.10/site-packages/torch_geometric/warnings.py:11: UserWarning: The usage of `scatter(reduce='max')` can be accelerated via the 'torch-scatter' package, but it was not found\n",
      "  warnings.warn(message)\n"
     ]
    },
    {
     "name": "stdout",
     "output_type": "stream",
     "text": [
      "Saving model\n",
      "Epoch: 30 (59.0532s), train_loss: 0.3745, val_loss: 0.3861, train_acc: 0.8355, val_acc:0.8288\n",
      "\t\ttrain_roc: 0.9101, val_roc: 0.9052, train_auprc: 0.8940, val_auprc: 0.8905\n"
     ]
    },
    {
     "name": "stderr",
     "output_type": "stream",
     "text": [
      "/home/namle/.local/lib/python3.10/site-packages/torch_geometric/warnings.py:11: UserWarning: The usage of `scatter(reduce='max')` can be accelerated via the 'torch-scatter' package, but it was not found\n",
      "  warnings.warn(message)\n"
     ]
    },
    {
     "name": "stdout",
     "output_type": "stream",
     "text": [
      "Saving model\n",
      "Epoch: 31 (58.8678s), train_loss: 0.3718, val_loss: 0.3810, train_acc: 0.8369, val_acc:0.8329\n",
      "\t\ttrain_roc: 0.9115, val_roc: 0.9074, train_auprc: 0.8959, val_auprc: 0.8918\n"
     ]
    },
    {
     "name": "stderr",
     "output_type": "stream",
     "text": [
      "/home/namle/.local/lib/python3.10/site-packages/torch_geometric/warnings.py:11: UserWarning: The usage of `scatter(reduce='max')` can be accelerated via the 'torch-scatter' package, but it was not found\n",
      "  warnings.warn(message)\n"
     ]
    },
    {
     "name": "stdout",
     "output_type": "stream",
     "text": [
      "Epoch: 32 (59.0130s), train_loss: 0.3690, val_loss: 0.3817, train_acc: 0.8388, val_acc:0.8331\n",
      "\t\ttrain_roc: 0.9128, val_roc: 0.9077, train_auprc: 0.8969, val_auprc: 0.8916\n"
     ]
    },
    {
     "name": "stderr",
     "output_type": "stream",
     "text": [
      "/home/namle/.local/lib/python3.10/site-packages/torch_geometric/warnings.py:11: UserWarning: The usage of `scatter(reduce='max')` can be accelerated via the 'torch-scatter' package, but it was not found\n",
      "  warnings.warn(message)\n"
     ]
    },
    {
     "name": "stdout",
     "output_type": "stream",
     "text": [
      "Saving model\n",
      "Epoch: 33 (59.1157s), train_loss: 0.3667, val_loss: 0.3750, train_acc: 0.8398, val_acc:0.8367\n",
      "\t\ttrain_roc: 0.9143, val_roc: 0.9109, train_auprc: 0.8980, val_auprc: 0.8954\n"
     ]
    },
    {
     "name": "stderr",
     "output_type": "stream",
     "text": [
      "/home/namle/.local/lib/python3.10/site-packages/torch_geometric/warnings.py:11: UserWarning: The usage of `scatter(reduce='max')` can be accelerated via the 'torch-scatter' package, but it was not found\n",
      "  warnings.warn(message)\n"
     ]
    },
    {
     "name": "stdout",
     "output_type": "stream",
     "text": [
      "Epoch: 34 (58.8846s), train_loss: 0.3635, val_loss: 0.3790, train_acc: 0.8419, val_acc:0.8336\n",
      "\t\ttrain_roc: 0.9153, val_roc: 0.9097, train_auprc: 0.8998, val_auprc: 0.8953\n"
     ]
    },
    {
     "name": "stderr",
     "output_type": "stream",
     "text": [
      "/home/namle/.local/lib/python3.10/site-packages/torch_geometric/warnings.py:11: UserWarning: The usage of `scatter(reduce='max')` can be accelerated via the 'torch-scatter' package, but it was not found\n",
      "  warnings.warn(message)\n"
     ]
    },
    {
     "name": "stdout",
     "output_type": "stream",
     "text": [
      "Saving model\n",
      "Epoch: 35 (58.9889s), train_loss: 0.3583, val_loss: 0.3706, train_acc: 0.8441, val_acc:0.8380\n",
      "\t\ttrain_roc: 0.9178, val_roc: 0.9128, train_auprc: 0.9029, val_auprc: 0.8962\n"
     ]
    },
    {
     "name": "stderr",
     "output_type": "stream",
     "text": [
      "/home/namle/.local/lib/python3.10/site-packages/torch_geometric/warnings.py:11: UserWarning: The usage of `scatter(reduce='max')` can be accelerated via the 'torch-scatter' package, but it was not found\n",
      "  warnings.warn(message)\n"
     ]
    },
    {
     "name": "stdout",
     "output_type": "stream",
     "text": [
      "Saving model\n",
      "Epoch: 36 (58.8492s), train_loss: 0.3580, val_loss: 0.3669, train_acc: 0.8452, val_acc:0.8414\n",
      "\t\ttrain_roc: 0.9181, val_roc: 0.9152, train_auprc: 0.9024, val_auprc: 0.9015\n"
     ]
    },
    {
     "name": "stderr",
     "output_type": "stream",
     "text": [
      "/home/namle/.local/lib/python3.10/site-packages/torch_geometric/warnings.py:11: UserWarning: The usage of `scatter(reduce='max')` can be accelerated via the 'torch-scatter' package, but it was not found\n",
      "  warnings.warn(message)\n"
     ]
    },
    {
     "name": "stdout",
     "output_type": "stream",
     "text": [
      "Epoch: 37 (58.9307s), train_loss: 0.3532, val_loss: 0.3646, train_acc: 0.8475, val_acc:0.8429\n",
      "\t\ttrain_roc: 0.9205, val_roc: 0.9163, train_auprc: 0.9054, val_auprc: 0.9013\n"
     ]
    },
    {
     "name": "stderr",
     "output_type": "stream",
     "text": [
      "/home/namle/.local/lib/python3.10/site-packages/torch_geometric/warnings.py:11: UserWarning: The usage of `scatter(reduce='max')` can be accelerated via the 'torch-scatter' package, but it was not found\n",
      "  warnings.warn(message)\n"
     ]
    },
    {
     "name": "stdout",
     "output_type": "stream",
     "text": [
      "Saving model\n",
      "Epoch: 38 (58.9253s), train_loss: 0.3503, val_loss: 0.3637, train_acc: 0.8493, val_acc:0.8422\n",
      "\t\ttrain_roc: 0.9213, val_roc: 0.9161, train_auprc: 0.9059, val_auprc: 0.9017\n"
     ]
    },
    {
     "name": "stderr",
     "output_type": "stream",
     "text": [
      "/home/namle/.local/lib/python3.10/site-packages/torch_geometric/warnings.py:11: UserWarning: The usage of `scatter(reduce='max')` can be accelerated via the 'torch-scatter' package, but it was not found\n",
      "  warnings.warn(message)\n"
     ]
    },
    {
     "name": "stdout",
     "output_type": "stream",
     "text": [
      "Saving model\n",
      "Epoch: 39 (58.7295s), train_loss: 0.3451, val_loss: 0.3631, train_acc: 0.8522, val_acc:0.8448\n",
      "\t\ttrain_roc: 0.9240, val_roc: 0.9169, train_auprc: 0.9090, val_auprc: 0.9028\n"
     ]
    },
    {
     "name": "stderr",
     "output_type": "stream",
     "text": [
      "/home/namle/.local/lib/python3.10/site-packages/torch_geometric/warnings.py:11: UserWarning: The usage of `scatter(reduce='max')` can be accelerated via the 'torch-scatter' package, but it was not found\n",
      "  warnings.warn(message)\n"
     ]
    },
    {
     "name": "stdout",
     "output_type": "stream",
     "text": [
      "Saving model\n",
      "Epoch: 40 (58.8466s), train_loss: 0.3438, val_loss: 0.3551, train_acc: 0.8530, val_acc:0.8480\n",
      "\t\ttrain_roc: 0.9245, val_roc: 0.9207, train_auprc: 0.9095, val_auprc: 0.9069\n"
     ]
    },
    {
     "name": "stderr",
     "output_type": "stream",
     "text": [
      "/home/namle/.local/lib/python3.10/site-packages/torch_geometric/warnings.py:11: UserWarning: The usage of `scatter(reduce='max')` can be accelerated via the 'torch-scatter' package, but it was not found\n",
      "  warnings.warn(message)\n"
     ]
    },
    {
     "name": "stdout",
     "output_type": "stream",
     "text": [
      "Epoch: 41 (58.8583s), train_loss: 0.3416, val_loss: 0.3594, train_acc: 0.8552, val_acc:0.8464\n",
      "\t\ttrain_roc: 0.9253, val_roc: 0.9186, train_auprc: 0.9098, val_auprc: 0.9042\n"
     ]
    },
    {
     "name": "stderr",
     "output_type": "stream",
     "text": [
      "/home/namle/.local/lib/python3.10/site-packages/torch_geometric/warnings.py:11: UserWarning: The usage of `scatter(reduce='max')` can be accelerated via the 'torch-scatter' package, but it was not found\n",
      "  warnings.warn(message)\n"
     ]
    },
    {
     "name": "stdout",
     "output_type": "stream",
     "text": [
      "Saving model\n",
      "Epoch: 42 (58.9073s), train_loss: 0.3379, val_loss: 0.3548, train_acc: 0.8562, val_acc:0.8492\n",
      "\t\ttrain_roc: 0.9268, val_roc: 0.9209, train_auprc: 0.9122, val_auprc: 0.9069\n"
     ]
    },
    {
     "name": "stderr",
     "output_type": "stream",
     "text": [
      "/home/namle/.local/lib/python3.10/site-packages/torch_geometric/warnings.py:11: UserWarning: The usage of `scatter(reduce='max')` can be accelerated via the 'torch-scatter' package, but it was not found\n",
      "  warnings.warn(message)\n"
     ]
    },
    {
     "name": "stdout",
     "output_type": "stream",
     "text": [
      "Saving model\n",
      "Epoch: 43 (58.8371s), train_loss: 0.3360, val_loss: 0.3470, train_acc: 0.8567, val_acc:0.8525\n",
      "\t\ttrain_roc: 0.9277, val_roc: 0.9244, train_auprc: 0.9132, val_auprc: 0.9112\n"
     ]
    },
    {
     "name": "stderr",
     "output_type": "stream",
     "text": [
      "/home/namle/.local/lib/python3.10/site-packages/torch_geometric/warnings.py:11: UserWarning: The usage of `scatter(reduce='max')` can be accelerated via the 'torch-scatter' package, but it was not found\n",
      "  warnings.warn(message)\n"
     ]
    },
    {
     "name": "stdout",
     "output_type": "stream",
     "text": [
      "Epoch: 44 (59.0190s), train_loss: 0.3326, val_loss: 0.3486, train_acc: 0.8594, val_acc:0.8523\n",
      "\t\ttrain_roc: 0.9292, val_roc: 0.9228, train_auprc: 0.9147, val_auprc: 0.9089\n"
     ]
    },
    {
     "name": "stderr",
     "output_type": "stream",
     "text": [
      "/home/namle/.local/lib/python3.10/site-packages/torch_geometric/warnings.py:11: UserWarning: The usage of `scatter(reduce='max')` can be accelerated via the 'torch-scatter' package, but it was not found\n",
      "  warnings.warn(message)\n"
     ]
    },
    {
     "name": "stdout",
     "output_type": "stream",
     "text": [
      "Saving model\n",
      "Epoch: 45 (58.9349s), train_loss: 0.3282, val_loss: 0.3452, train_acc: 0.8611, val_acc:0.8544\n",
      "\t\ttrain_roc: 0.9310, val_roc: 0.9252, train_auprc: 0.9173, val_auprc: 0.9116\n"
     ]
    },
    {
     "name": "stderr",
     "output_type": "stream",
     "text": [
      "/home/namle/.local/lib/python3.10/site-packages/torch_geometric/warnings.py:11: UserWarning: The usage of `scatter(reduce='max')` can be accelerated via the 'torch-scatter' package, but it was not found\n",
      "  warnings.warn(message)\n"
     ]
    },
    {
     "name": "stdout",
     "output_type": "stream",
     "text": [
      "Epoch: 46 (58.8723s), train_loss: 0.3271, val_loss: 0.3461, train_acc: 0.8623, val_acc:0.8538\n",
      "\t\ttrain_roc: 0.9316, val_roc: 0.9246, train_auprc: 0.9176, val_auprc: 0.9114\n"
     ]
    },
    {
     "name": "stderr",
     "output_type": "stream",
     "text": [
      "/home/namle/.local/lib/python3.10/site-packages/torch_geometric/warnings.py:11: UserWarning: The usage of `scatter(reduce='max')` can be accelerated via the 'torch-scatter' package, but it was not found\n",
      "  warnings.warn(message)\n"
     ]
    },
    {
     "name": "stdout",
     "output_type": "stream",
     "text": [
      "Saving model\n",
      "Epoch: 47 (58.9873s), train_loss: 0.3239, val_loss: 0.3421, train_acc: 0.8639, val_acc:0.8541\n",
      "\t\ttrain_roc: 0.9330, val_roc: 0.9263, train_auprc: 0.9194, val_auprc: 0.9151\n"
     ]
    },
    {
     "name": "stderr",
     "output_type": "stream",
     "text": [
      "/home/namle/.local/lib/python3.10/site-packages/torch_geometric/warnings.py:11: UserWarning: The usage of `scatter(reduce='max')` can be accelerated via the 'torch-scatter' package, but it was not found\n",
      "  warnings.warn(message)\n"
     ]
    },
    {
     "name": "stdout",
     "output_type": "stream",
     "text": [
      "Epoch: 48 (58.8841s), train_loss: 0.3239, val_loss: 0.3455, train_acc: 0.8638, val_acc:0.8533\n",
      "\t\ttrain_roc: 0.9328, val_roc: 0.9246, train_auprc: 0.9185, val_auprc: 0.9119\n"
     ]
    },
    {
     "name": "stderr",
     "output_type": "stream",
     "text": [
      "/home/namle/.local/lib/python3.10/site-packages/torch_geometric/warnings.py:11: UserWarning: The usage of `scatter(reduce='max')` can be accelerated via the 'torch-scatter' package, but it was not found\n",
      "  warnings.warn(message)\n"
     ]
    },
    {
     "name": "stdout",
     "output_type": "stream",
     "text": [
      "Epoch: 49 (58.9738s), train_loss: 0.3189, val_loss: 0.3407, train_acc: 0.8671, val_acc:0.8549\n",
      "\t\ttrain_roc: 0.9349, val_roc: 0.9266, train_auprc: 0.9212, val_auprc: 0.9138\n"
     ]
    },
    {
     "name": "stderr",
     "output_type": "stream",
     "text": [
      "/home/namle/.local/lib/python3.10/site-packages/torch_geometric/warnings.py:11: UserWarning: The usage of `scatter(reduce='max')` can be accelerated via the 'torch-scatter' package, but it was not found\n",
      "  warnings.warn(message)\n"
     ]
    },
    {
     "name": "stdout",
     "output_type": "stream",
     "text": [
      "Saving model\n",
      "Epoch: 50 (58.7963s), train_loss: 0.3172, val_loss: 0.3383, train_acc: 0.8668, val_acc:0.8563\n",
      "\t\ttrain_roc: 0.9354, val_roc: 0.9281, train_auprc: 0.9223, val_auprc: 0.9155\n"
     ]
    },
    {
     "name": "stderr",
     "output_type": "stream",
     "text": [
      "/home/namle/.local/lib/python3.10/site-packages/torch_geometric/warnings.py:11: UserWarning: The usage of `scatter(reduce='max')` can be accelerated via the 'torch-scatter' package, but it was not found\n",
      "  warnings.warn(message)\n"
     ]
    },
    {
     "name": "stdout",
     "output_type": "stream",
     "text": [
      "Saving model\n",
      "Epoch: 51 (59.0559s), train_loss: 0.3135, val_loss: 0.3340, train_acc: 0.8695, val_acc:0.8599\n",
      "\t\ttrain_roc: 0.9368, val_roc: 0.9297, train_auprc: 0.9236, val_auprc: 0.9171\n"
     ]
    },
    {
     "name": "stderr",
     "output_type": "stream",
     "text": [
      "/home/namle/.local/lib/python3.10/site-packages/torch_geometric/warnings.py:11: UserWarning: The usage of `scatter(reduce='max')` can be accelerated via the 'torch-scatter' package, but it was not found\n",
      "  warnings.warn(message)\n"
     ]
    },
    {
     "name": "stdout",
     "output_type": "stream",
     "text": [
      "Saving model\n",
      "Epoch: 52 (58.9811s), train_loss: 0.3128, val_loss: 0.3339, train_acc: 0.8699, val_acc:0.8589\n",
      "\t\ttrain_roc: 0.9373, val_roc: 0.9307, train_auprc: 0.9240, val_auprc: 0.9186\n"
     ]
    },
    {
     "name": "stderr",
     "output_type": "stream",
     "text": [
      "/home/namle/.local/lib/python3.10/site-packages/torch_geometric/warnings.py:11: UserWarning: The usage of `scatter(reduce='max')` can be accelerated via the 'torch-scatter' package, but it was not found\n",
      "  warnings.warn(message)\n"
     ]
    },
    {
     "name": "stdout",
     "output_type": "stream",
     "text": [
      "Saving model\n",
      "Epoch: 53 (59.0474s), train_loss: 0.3105, val_loss: 0.3280, train_acc: 0.8714, val_acc:0.8619\n",
      "\t\ttrain_roc: 0.9383, val_roc: 0.9331, train_auprc: 0.9249, val_auprc: 0.9219\n"
     ]
    },
    {
     "name": "stderr",
     "output_type": "stream",
     "text": [
      "/home/namle/.local/lib/python3.10/site-packages/torch_geometric/warnings.py:11: UserWarning: The usage of `scatter(reduce='max')` can be accelerated via the 'torch-scatter' package, but it was not found\n",
      "  warnings.warn(message)\n"
     ]
    },
    {
     "name": "stdout",
     "output_type": "stream",
     "text": [
      "Epoch: 54 (58.7674s), train_loss: 0.3059, val_loss: 0.3282, train_acc: 0.8740, val_acc:0.8633\n",
      "\t\ttrain_roc: 0.9400, val_roc: 0.9324, train_auprc: 0.9271, val_auprc: 0.9204\n"
     ]
    },
    {
     "name": "stderr",
     "output_type": "stream",
     "text": [
      "/home/namle/.local/lib/python3.10/site-packages/torch_geometric/warnings.py:11: UserWarning: The usage of `scatter(reduce='max')` can be accelerated via the 'torch-scatter' package, but it was not found\n",
      "  warnings.warn(message)\n"
     ]
    },
    {
     "name": "stdout",
     "output_type": "stream",
     "text": [
      "Epoch: 55 (59.0544s), train_loss: 0.3033, val_loss: 0.3260, train_acc: 0.8748, val_acc:0.8651\n",
      "\t\ttrain_roc: 0.9409, val_roc: 0.9332, train_auprc: 0.9284, val_auprc: 0.9203\n"
     ]
    },
    {
     "name": "stderr",
     "output_type": "stream",
     "text": [
      "/home/namle/.local/lib/python3.10/site-packages/torch_geometric/warnings.py:11: UserWarning: The usage of `scatter(reduce='max')` can be accelerated via the 'torch-scatter' package, but it was not found\n",
      "  warnings.warn(message)\n"
     ]
    },
    {
     "name": "stdout",
     "output_type": "stream",
     "text": [
      "Epoch: 56 (58.9247s), train_loss: 0.3027, val_loss: 0.3333, train_acc: 0.8752, val_acc:0.8601\n",
      "\t\ttrain_roc: 0.9410, val_roc: 0.9306, train_auprc: 0.9285, val_auprc: 0.9172\n"
     ]
    },
    {
     "name": "stderr",
     "output_type": "stream",
     "text": [
      "/home/namle/.local/lib/python3.10/site-packages/torch_geometric/warnings.py:11: UserWarning: The usage of `scatter(reduce='max')` can be accelerated via the 'torch-scatter' package, but it was not found\n",
      "  warnings.warn(message)\n"
     ]
    },
    {
     "name": "stdout",
     "output_type": "stream",
     "text": [
      "Epoch: 57 (59.0027s), train_loss: 0.3024, val_loss: 0.3290, train_acc: 0.8751, val_acc:0.8627\n",
      "\t\ttrain_roc: 0.9412, val_roc: 0.9324, train_auprc: 0.9285, val_auprc: 0.9204\n"
     ]
    },
    {
     "name": "stderr",
     "output_type": "stream",
     "text": [
      "/home/namle/.local/lib/python3.10/site-packages/torch_geometric/warnings.py:11: UserWarning: The usage of `scatter(reduce='max')` can be accelerated via the 'torch-scatter' package, but it was not found\n",
      "  warnings.warn(message)\n"
     ]
    },
    {
     "name": "stdout",
     "output_type": "stream",
     "text": [
      "Saving model\n",
      "Epoch: 58 (58.9668s), train_loss: 0.2988, val_loss: 0.3243, train_acc: 0.8780, val_acc:0.8659\n",
      "\t\ttrain_roc: 0.9426, val_roc: 0.9342, train_auprc: 0.9297, val_auprc: 0.9226\n"
     ]
    },
    {
     "name": "stderr",
     "output_type": "stream",
     "text": [
      "/home/namle/.local/lib/python3.10/site-packages/torch_geometric/warnings.py:11: UserWarning: The usage of `scatter(reduce='max')` can be accelerated via the 'torch-scatter' package, but it was not found\n",
      "  warnings.warn(message)\n"
     ]
    },
    {
     "name": "stdout",
     "output_type": "stream",
     "text": [
      "Saving model\n",
      "Epoch: 59 (58.8572s), train_loss: 0.2964, val_loss: 0.3229, train_acc: 0.8788, val_acc:0.8662\n",
      "\t\ttrain_roc: 0.9432, val_roc: 0.9353, train_auprc: 0.9309, val_auprc: 0.9242\n"
     ]
    },
    {
     "name": "stderr",
     "output_type": "stream",
     "text": [
      "/home/namle/.local/lib/python3.10/site-packages/torch_geometric/warnings.py:11: UserWarning: The usage of `scatter(reduce='max')` can be accelerated via the 'torch-scatter' package, but it was not found\n",
      "  warnings.warn(message)\n"
     ]
    },
    {
     "name": "stdout",
     "output_type": "stream",
     "text": [
      "Epoch: 60 (58.9904s), train_loss: 0.2942, val_loss: 0.3287, train_acc: 0.8801, val_acc:0.8634\n",
      "\t\ttrain_roc: 0.9443, val_roc: 0.9342, train_auprc: 0.9316, val_auprc: 0.9221\n"
     ]
    },
    {
     "name": "stderr",
     "output_type": "stream",
     "text": [
      "/home/namle/.local/lib/python3.10/site-packages/torch_geometric/warnings.py:11: UserWarning: The usage of `scatter(reduce='max')` can be accelerated via the 'torch-scatter' package, but it was not found\n",
      "  warnings.warn(message)\n"
     ]
    },
    {
     "name": "stdout",
     "output_type": "stream",
     "text": [
      "Epoch: 61 (58.9533s), train_loss: 0.2936, val_loss: 0.3269, train_acc: 0.8801, val_acc:0.8637\n",
      "\t\ttrain_roc: 0.9444, val_roc: 0.9343, train_auprc: 0.9323, val_auprc: 0.9232\n"
     ]
    },
    {
     "name": "stderr",
     "output_type": "stream",
     "text": [
      "/home/namle/.local/lib/python3.10/site-packages/torch_geometric/warnings.py:11: UserWarning: The usage of `scatter(reduce='max')` can be accelerated via the 'torch-scatter' package, but it was not found\n",
      "  warnings.warn(message)\n"
     ]
    },
    {
     "name": "stdout",
     "output_type": "stream",
     "text": [
      "Saving model\n",
      "Epoch: 62 (59.0760s), train_loss: 0.2900, val_loss: 0.3163, train_acc: 0.8823, val_acc:0.8702\n",
      "\t\ttrain_roc: 0.9458, val_roc: 0.9379, train_auprc: 0.9338, val_auprc: 0.9274\n"
     ]
    },
    {
     "name": "stderr",
     "output_type": "stream",
     "text": [
      "/home/namle/.local/lib/python3.10/site-packages/torch_geometric/warnings.py:11: UserWarning: The usage of `scatter(reduce='max')` can be accelerated via the 'torch-scatter' package, but it was not found\n",
      "  warnings.warn(message)\n"
     ]
    },
    {
     "name": "stdout",
     "output_type": "stream",
     "text": [
      "Epoch: 63 (58.8219s), train_loss: 0.2883, val_loss: 0.3244, train_acc: 0.8825, val_acc:0.8656\n",
      "\t\ttrain_roc: 0.9463, val_roc: 0.9352, train_auprc: 0.9341, val_auprc: 0.9235\n"
     ]
    },
    {
     "name": "stderr",
     "output_type": "stream",
     "text": [
      "/home/namle/.local/lib/python3.10/site-packages/torch_geometric/warnings.py:11: UserWarning: The usage of `scatter(reduce='max')` can be accelerated via the 'torch-scatter' package, but it was not found\n",
      "  warnings.warn(message)\n"
     ]
    },
    {
     "name": "stdout",
     "output_type": "stream",
     "text": [
      "Epoch: 64 (58.8678s), train_loss: 0.2863, val_loss: 0.3171, train_acc: 0.8839, val_acc:0.8696\n",
      "\t\ttrain_roc: 0.9471, val_roc: 0.9372, train_auprc: 0.9353, val_auprc: 0.9262\n"
     ]
    },
    {
     "name": "stderr",
     "output_type": "stream",
     "text": [
      "/home/namle/.local/lib/python3.10/site-packages/torch_geometric/warnings.py:11: UserWarning: The usage of `scatter(reduce='max')` can be accelerated via the 'torch-scatter' package, but it was not found\n",
      "  warnings.warn(message)\n"
     ]
    },
    {
     "name": "stdout",
     "output_type": "stream",
     "text": [
      "Epoch: 65 (58.9624s), train_loss: 0.2843, val_loss: 0.3178, train_acc: 0.8845, val_acc:0.8702\n",
      "\t\ttrain_roc: 0.9475, val_roc: 0.9373, train_auprc: 0.9357, val_auprc: 0.9258\n"
     ]
    },
    {
     "name": "stderr",
     "output_type": "stream",
     "text": [
      "/home/namle/.local/lib/python3.10/site-packages/torch_geometric/warnings.py:11: UserWarning: The usage of `scatter(reduce='max')` can be accelerated via the 'torch-scatter' package, but it was not found\n",
      "  warnings.warn(message)\n"
     ]
    },
    {
     "name": "stdout",
     "output_type": "stream",
     "text": [
      "Saving model\n",
      "Epoch: 66 (58.7122s), train_loss: 0.2824, val_loss: 0.3154, train_acc: 0.8848, val_acc:0.8692\n",
      "\t\ttrain_roc: 0.9482, val_roc: 0.9385, train_auprc: 0.9369, val_auprc: 0.9282\n"
     ]
    },
    {
     "name": "stderr",
     "output_type": "stream",
     "text": [
      "/home/namle/.local/lib/python3.10/site-packages/torch_geometric/warnings.py:11: UserWarning: The usage of `scatter(reduce='max')` can be accelerated via the 'torch-scatter' package, but it was not found\n",
      "  warnings.warn(message)\n"
     ]
    },
    {
     "name": "stdout",
     "output_type": "stream",
     "text": [
      "Epoch: 67 (58.5850s), train_loss: 0.2809, val_loss: 0.3176, train_acc: 0.8872, val_acc:0.8709\n",
      "\t\ttrain_roc: 0.9490, val_roc: 0.9373, train_auprc: 0.9373, val_auprc: 0.9248\n"
     ]
    },
    {
     "name": "stderr",
     "output_type": "stream",
     "text": [
      "/home/namle/.local/lib/python3.10/site-packages/torch_geometric/warnings.py:11: UserWarning: The usage of `scatter(reduce='max')` can be accelerated via the 'torch-scatter' package, but it was not found\n",
      "  warnings.warn(message)\n"
     ]
    },
    {
     "name": "stdout",
     "output_type": "stream",
     "text": [
      "Saving model\n",
      "Epoch: 68 (59.1421s), train_loss: 0.2804, val_loss: 0.3103, train_acc: 0.8871, val_acc:0.8737\n",
      "\t\ttrain_roc: 0.9492, val_roc: 0.9405, train_auprc: 0.9375, val_auprc: 0.9305\n"
     ]
    },
    {
     "name": "stderr",
     "output_type": "stream",
     "text": [
      "/home/namle/.local/lib/python3.10/site-packages/torch_geometric/warnings.py:11: UserWarning: The usage of `scatter(reduce='max')` can be accelerated via the 'torch-scatter' package, but it was not found\n",
      "  warnings.warn(message)\n"
     ]
    },
    {
     "name": "stdout",
     "output_type": "stream",
     "text": [
      "Epoch: 69 (58.9280s), train_loss: 0.2788, val_loss: 0.3151, train_acc: 0.8877, val_acc:0.8723\n",
      "\t\ttrain_roc: 0.9495, val_roc: 0.9381, train_auprc: 0.9379, val_auprc: 0.9262\n"
     ]
    },
    {
     "name": "stderr",
     "output_type": "stream",
     "text": [
      "/home/namle/.local/lib/python3.10/site-packages/torch_geometric/warnings.py:11: UserWarning: The usage of `scatter(reduce='max')` can be accelerated via the 'torch-scatter' package, but it was not found\n",
      "  warnings.warn(message)\n"
     ]
    },
    {
     "name": "stdout",
     "output_type": "stream",
     "text": [
      "Epoch: 70 (58.6616s), train_loss: 0.2764, val_loss: 0.3100, train_acc: 0.8893, val_acc:0.8743\n",
      "\t\ttrain_roc: 0.9502, val_roc: 0.9402, train_auprc: 0.9386, val_auprc: 0.9295\n"
     ]
    },
    {
     "name": "stderr",
     "output_type": "stream",
     "text": [
      "/home/namle/.local/lib/python3.10/site-packages/torch_geometric/warnings.py:11: UserWarning: The usage of `scatter(reduce='max')` can be accelerated via the 'torch-scatter' package, but it was not found\n",
      "  warnings.warn(message)\n"
     ]
    },
    {
     "name": "stdout",
     "output_type": "stream",
     "text": [
      "Epoch: 71 (58.8207s), train_loss: 0.2746, val_loss: 0.3121, train_acc: 0.8896, val_acc:0.8728\n",
      "\t\ttrain_roc: 0.9508, val_roc: 0.9399, train_auprc: 0.9396, val_auprc: 0.9291\n"
     ]
    },
    {
     "name": "stderr",
     "output_type": "stream",
     "text": [
      "/home/namle/.local/lib/python3.10/site-packages/torch_geometric/warnings.py:11: UserWarning: The usage of `scatter(reduce='max')` can be accelerated via the 'torch-scatter' package, but it was not found\n",
      "  warnings.warn(message)\n"
     ]
    },
    {
     "name": "stdout",
     "output_type": "stream",
     "text": [
      "Saving model\n",
      "Epoch: 72 (58.7783s), train_loss: 0.2730, val_loss: 0.3086, train_acc: 0.8908, val_acc:0.8753\n",
      "\t\ttrain_roc: 0.9516, val_roc: 0.9413, train_auprc: 0.9401, val_auprc: 0.9309\n"
     ]
    },
    {
     "name": "stderr",
     "output_type": "stream",
     "text": [
      "/home/namle/.local/lib/python3.10/site-packages/torch_geometric/warnings.py:11: UserWarning: The usage of `scatter(reduce='max')` can be accelerated via the 'torch-scatter' package, but it was not found\n",
      "  warnings.warn(message)\n"
     ]
    },
    {
     "name": "stdout",
     "output_type": "stream",
     "text": [
      "Epoch: 73 (58.7036s), train_loss: 0.2730, val_loss: 0.3091, train_acc: 0.8906, val_acc:0.8758\n",
      "\t\ttrain_roc: 0.9514, val_roc: 0.9410, train_auprc: 0.9402, val_auprc: 0.9302\n"
     ]
    },
    {
     "name": "stderr",
     "output_type": "stream",
     "text": [
      "/home/namle/.local/lib/python3.10/site-packages/torch_geometric/warnings.py:11: UserWarning: The usage of `scatter(reduce='max')` can be accelerated via the 'torch-scatter' package, but it was not found\n",
      "  warnings.warn(message)\n"
     ]
    },
    {
     "name": "stdout",
     "output_type": "stream",
     "text": [
      "Epoch: 74 (58.9100s), train_loss: 0.2711, val_loss: 0.3104, train_acc: 0.8922, val_acc:0.8746\n",
      "\t\ttrain_roc: 0.9520, val_roc: 0.9405, train_auprc: 0.9409, val_auprc: 0.9306\n"
     ]
    },
    {
     "name": "stderr",
     "output_type": "stream",
     "text": [
      "/home/namle/.local/lib/python3.10/site-packages/torch_geometric/warnings.py:11: UserWarning: The usage of `scatter(reduce='max')` can be accelerated via the 'torch-scatter' package, but it was not found\n",
      "  warnings.warn(message)\n"
     ]
    },
    {
     "name": "stdout",
     "output_type": "stream",
     "text": [
      "Saving model\n",
      "Epoch: 75 (58.8486s), train_loss: 0.2699, val_loss: 0.3095, train_acc: 0.8923, val_acc:0.8745\n",
      "\t\ttrain_roc: 0.9527, val_roc: 0.9410, train_auprc: 0.9414, val_auprc: 0.9315\n"
     ]
    },
    {
     "name": "stderr",
     "output_type": "stream",
     "text": [
      "/home/namle/.local/lib/python3.10/site-packages/torch_geometric/warnings.py:11: UserWarning: The usage of `scatter(reduce='max')` can be accelerated via the 'torch-scatter' package, but it was not found\n",
      "  warnings.warn(message)\n"
     ]
    },
    {
     "name": "stdout",
     "output_type": "stream",
     "text": [
      "Epoch: 76 (58.6548s), train_loss: 0.2694, val_loss: 0.3114, train_acc: 0.8934, val_acc:0.8736\n",
      "\t\ttrain_roc: 0.9526, val_roc: 0.9405, train_auprc: 0.9415, val_auprc: 0.9302\n"
     ]
    },
    {
     "name": "stderr",
     "output_type": "stream",
     "text": [
      "/home/namle/.local/lib/python3.10/site-packages/torch_geometric/warnings.py:11: UserWarning: The usage of `scatter(reduce='max')` can be accelerated via the 'torch-scatter' package, but it was not found\n",
      "  warnings.warn(message)\n"
     ]
    },
    {
     "name": "stdout",
     "output_type": "stream",
     "text": [
      "Saving model\n",
      "Epoch: 77 (59.0057s), train_loss: 0.2685, val_loss: 0.3083, train_acc: 0.8934, val_acc:0.8750\n",
      "\t\ttrain_roc: 0.9531, val_roc: 0.9417, train_auprc: 0.9418, val_auprc: 0.9318\n"
     ]
    },
    {
     "name": "stderr",
     "output_type": "stream",
     "text": [
      "/home/namle/.local/lib/python3.10/site-packages/torch_geometric/warnings.py:11: UserWarning: The usage of `scatter(reduce='max')` can be accelerated via the 'torch-scatter' package, but it was not found\n",
      "  warnings.warn(message)\n"
     ]
    },
    {
     "name": "stdout",
     "output_type": "stream",
     "text": [
      "Epoch: 78 (58.7088s), train_loss: 0.2669, val_loss: 0.3072, train_acc: 0.8935, val_acc:0.8769\n",
      "\t\ttrain_roc: 0.9534, val_roc: 0.9421, train_auprc: 0.9427, val_auprc: 0.9316\n"
     ]
    },
    {
     "name": "stderr",
     "output_type": "stream",
     "text": [
      "/home/namle/.local/lib/python3.10/site-packages/torch_geometric/warnings.py:11: UserWarning: The usage of `scatter(reduce='max')` can be accelerated via the 'torch-scatter' package, but it was not found\n",
      "  warnings.warn(message)\n"
     ]
    },
    {
     "name": "stdout",
     "output_type": "stream",
     "text": [
      "Epoch: 79 (58.8027s), train_loss: 0.2656, val_loss: 0.3102, train_acc: 0.8946, val_acc:0.8741\n",
      "\t\ttrain_roc: 0.9541, val_roc: 0.9412, train_auprc: 0.9432, val_auprc: 0.9316\n"
     ]
    },
    {
     "name": "stderr",
     "output_type": "stream",
     "text": [
      "/home/namle/.local/lib/python3.10/site-packages/torch_geometric/warnings.py:11: UserWarning: The usage of `scatter(reduce='max')` can be accelerated via the 'torch-scatter' package, but it was not found\n",
      "  warnings.warn(message)\n"
     ]
    },
    {
     "name": "stdout",
     "output_type": "stream",
     "text": [
      "Epoch: 80 (58.9456s), train_loss: 0.2664, val_loss: 0.3049, train_acc: 0.8940, val_acc:0.8779\n",
      "\t\ttrain_roc: 0.9535, val_roc: 0.9424, train_auprc: 0.9425, val_auprc: 0.9318\n"
     ]
    },
    {
     "name": "stderr",
     "output_type": "stream",
     "text": [
      "/home/namle/.local/lib/python3.10/site-packages/torch_geometric/warnings.py:11: UserWarning: The usage of `scatter(reduce='max')` can be accelerated via the 'torch-scatter' package, but it was not found\n",
      "  warnings.warn(message)\n"
     ]
    },
    {
     "name": "stdout",
     "output_type": "stream",
     "text": [
      "Saving model\n",
      "Epoch: 81 (58.7454s), train_loss: 0.2633, val_loss: 0.3057, train_acc: 0.8955, val_acc:0.8755\n",
      "\t\ttrain_roc: 0.9545, val_roc: 0.9430, train_auprc: 0.9439, val_auprc: 0.9337\n"
     ]
    },
    {
     "name": "stderr",
     "output_type": "stream",
     "text": [
      "/home/namle/.local/lib/python3.10/site-packages/torch_geometric/warnings.py:11: UserWarning: The usage of `scatter(reduce='max')` can be accelerated via the 'torch-scatter' package, but it was not found\n",
      "  warnings.warn(message)\n"
     ]
    },
    {
     "name": "stdout",
     "output_type": "stream",
     "text": [
      "Epoch: 82 (59.0726s), train_loss: 0.2627, val_loss: 0.3054, train_acc: 0.8963, val_acc:0.8782\n",
      "\t\ttrain_roc: 0.9547, val_roc: 0.9433, train_auprc: 0.9438, val_auprc: 0.9334\n"
     ]
    },
    {
     "name": "stderr",
     "output_type": "stream",
     "text": [
      "/home/namle/.local/lib/python3.10/site-packages/torch_geometric/warnings.py:11: UserWarning: The usage of `scatter(reduce='max')` can be accelerated via the 'torch-scatter' package, but it was not found\n",
      "  warnings.warn(message)\n"
     ]
    },
    {
     "name": "stdout",
     "output_type": "stream",
     "text": [
      "Epoch: 83 (59.2482s), train_loss: 0.2604, val_loss: 0.3059, train_acc: 0.8970, val_acc:0.8775\n",
      "\t\ttrain_roc: 0.9557, val_roc: 0.9429, train_auprc: 0.9454, val_auprc: 0.9332\n"
     ]
    },
    {
     "name": "stderr",
     "output_type": "stream",
     "text": [
      "/home/namle/.local/lib/python3.10/site-packages/torch_geometric/warnings.py:11: UserWarning: The usage of `scatter(reduce='max')` can be accelerated via the 'torch-scatter' package, but it was not found\n",
      "  warnings.warn(message)\n"
     ]
    },
    {
     "name": "stdout",
     "output_type": "stream",
     "text": [
      "Epoch: 84 (58.8269s), train_loss: 0.2614, val_loss: 0.3078, train_acc: 0.8971, val_acc:0.8774\n",
      "\t\ttrain_roc: 0.9551, val_roc: 0.9426, train_auprc: 0.9441, val_auprc: 0.9330\n"
     ]
    },
    {
     "name": "stderr",
     "output_type": "stream",
     "text": [
      "/home/namle/.local/lib/python3.10/site-packages/torch_geometric/warnings.py:11: UserWarning: The usage of `scatter(reduce='max')` can be accelerated via the 'torch-scatter' package, but it was not found\n",
      "  warnings.warn(message)\n"
     ]
    },
    {
     "name": "stdout",
     "output_type": "stream",
     "text": [
      "Saving model\n",
      "Epoch: 85 (58.9089s), train_loss: 0.2595, val_loss: 0.3037, train_acc: 0.8975, val_acc:0.8786\n",
      "\t\ttrain_roc: 0.9557, val_roc: 0.9442, train_auprc: 0.9453, val_auprc: 0.9350\n"
     ]
    },
    {
     "name": "stderr",
     "output_type": "stream",
     "text": [
      "/home/namle/.local/lib/python3.10/site-packages/torch_geometric/warnings.py:11: UserWarning: The usage of `scatter(reduce='max')` can be accelerated via the 'torch-scatter' package, but it was not found\n",
      "  warnings.warn(message)\n"
     ]
    },
    {
     "name": "stdout",
     "output_type": "stream",
     "text": [
      "Epoch: 86 (58.8964s), train_loss: 0.2568, val_loss: 0.3051, train_acc: 0.8989, val_acc:0.8784\n",
      "\t\ttrain_roc: 0.9567, val_roc: 0.9432, train_auprc: 0.9466, val_auprc: 0.9333\n"
     ]
    },
    {
     "name": "stderr",
     "output_type": "stream",
     "text": [
      "/home/namle/.local/lib/python3.10/site-packages/torch_geometric/warnings.py:11: UserWarning: The usage of `scatter(reduce='max')` can be accelerated via the 'torch-scatter' package, but it was not found\n",
      "  warnings.warn(message)\n"
     ]
    },
    {
     "name": "stdout",
     "output_type": "stream",
     "text": [
      "Epoch: 87 (58.8223s), train_loss: 0.2567, val_loss: 0.3054, train_acc: 0.8991, val_acc:0.8778\n",
      "\t\ttrain_roc: 0.9567, val_roc: 0.9442, train_auprc: 0.9460, val_auprc: 0.9343\n"
     ]
    },
    {
     "name": "stderr",
     "output_type": "stream",
     "text": [
      "/home/namle/.local/lib/python3.10/site-packages/torch_geometric/warnings.py:11: UserWarning: The usage of `scatter(reduce='max')` can be accelerated via the 'torch-scatter' package, but it was not found\n",
      "  warnings.warn(message)\n"
     ]
    },
    {
     "name": "stdout",
     "output_type": "stream",
     "text": [
      "Epoch: 88 (58.8868s), train_loss: 0.2564, val_loss: 0.3019, train_acc: 0.8993, val_acc:0.8808\n",
      "\t\ttrain_roc: 0.9566, val_roc: 0.9442, train_auprc: 0.9463, val_auprc: 0.9349\n"
     ]
    },
    {
     "name": "stderr",
     "output_type": "stream",
     "text": [
      "/home/namle/.local/lib/python3.10/site-packages/torch_geometric/warnings.py:11: UserWarning: The usage of `scatter(reduce='max')` can be accelerated via the 'torch-scatter' package, but it was not found\n",
      "  warnings.warn(message)\n"
     ]
    },
    {
     "name": "stdout",
     "output_type": "stream",
     "text": [
      "Saving model\n",
      "Epoch: 89 (58.9156s), train_loss: 0.2550, val_loss: 0.3019, train_acc: 0.8996, val_acc:0.8799\n",
      "\t\ttrain_roc: 0.9571, val_roc: 0.9446, train_auprc: 0.9468, val_auprc: 0.9355\n"
     ]
    },
    {
     "name": "stderr",
     "output_type": "stream",
     "text": [
      "/home/namle/.local/lib/python3.10/site-packages/torch_geometric/warnings.py:11: UserWarning: The usage of `scatter(reduce='max')` can be accelerated via the 'torch-scatter' package, but it was not found\n",
      "  warnings.warn(message)\n"
     ]
    },
    {
     "name": "stdout",
     "output_type": "stream",
     "text": [
      "Saving model\n",
      "Epoch: 90 (58.7558s), train_loss: 0.2538, val_loss: 0.3015, train_acc: 0.9005, val_acc:0.8797\n",
      "\t\ttrain_roc: 0.9575, val_roc: 0.9451, train_auprc: 0.9475, val_auprc: 0.9361\n"
     ]
    },
    {
     "name": "stderr",
     "output_type": "stream",
     "text": [
      "/home/namle/.local/lib/python3.10/site-packages/torch_geometric/warnings.py:11: UserWarning: The usage of `scatter(reduce='max')` can be accelerated via the 'torch-scatter' package, but it was not found\n",
      "  warnings.warn(message)\n"
     ]
    },
    {
     "name": "stdout",
     "output_type": "stream",
     "text": [
      "Saving model\n",
      "Epoch: 91 (58.8582s), train_loss: 0.2534, val_loss: 0.2996, train_acc: 0.9007, val_acc:0.8804\n",
      "\t\ttrain_roc: 0.9575, val_roc: 0.9459, train_auprc: 0.9474, val_auprc: 0.9374\n"
     ]
    },
    {
     "name": "stderr",
     "output_type": "stream",
     "text": [
      "/home/namle/.local/lib/python3.10/site-packages/torch_geometric/warnings.py:11: UserWarning: The usage of `scatter(reduce='max')` can be accelerated via the 'torch-scatter' package, but it was not found\n",
      "  warnings.warn(message)\n"
     ]
    },
    {
     "name": "stdout",
     "output_type": "stream",
     "text": [
      "Epoch: 92 (58.8550s), train_loss: 0.2550, val_loss: 0.3029, train_acc: 0.8998, val_acc:0.8793\n",
      "\t\ttrain_roc: 0.9572, val_roc: 0.9449, train_auprc: 0.9468, val_auprc: 0.9359\n"
     ]
    },
    {
     "name": "stderr",
     "output_type": "stream",
     "text": [
      "/home/namle/.local/lib/python3.10/site-packages/torch_geometric/warnings.py:11: UserWarning: The usage of `scatter(reduce='max')` can be accelerated via the 'torch-scatter' package, but it was not found\n",
      "  warnings.warn(message)\n"
     ]
    },
    {
     "name": "stdout",
     "output_type": "stream",
     "text": [
      "Epoch: 93 (58.8653s), train_loss: 0.2522, val_loss: 0.3035, train_acc: 0.9009, val_acc:0.8803\n",
      "\t\ttrain_roc: 0.9581, val_roc: 0.9445, train_auprc: 0.9483, val_auprc: 0.9353\n"
     ]
    },
    {
     "name": "stderr",
     "output_type": "stream",
     "text": [
      "/home/namle/.local/lib/python3.10/site-packages/torch_geometric/warnings.py:11: UserWarning: The usage of `scatter(reduce='max')` can be accelerated via the 'torch-scatter' package, but it was not found\n",
      "  warnings.warn(message)\n"
     ]
    },
    {
     "name": "stdout",
     "output_type": "stream",
     "text": [
      "Epoch: 94 (58.9334s), train_loss: 0.2520, val_loss: 0.3020, train_acc: 0.9009, val_acc:0.8798\n",
      "\t\ttrain_roc: 0.9581, val_roc: 0.9445, train_auprc: 0.9479, val_auprc: 0.9354\n"
     ]
    },
    {
     "name": "stderr",
     "output_type": "stream",
     "text": [
      "/home/namle/.local/lib/python3.10/site-packages/torch_geometric/warnings.py:11: UserWarning: The usage of `scatter(reduce='max')` can be accelerated via the 'torch-scatter' package, but it was not found\n",
      "  warnings.warn(message)\n"
     ]
    },
    {
     "name": "stdout",
     "output_type": "stream",
     "text": [
      "Epoch: 95 (58.9414s), train_loss: 0.2499, val_loss: 0.3012, train_acc: 0.9026, val_acc:0.8799\n",
      "\t\ttrain_roc: 0.9586, val_roc: 0.9452, train_auprc: 0.9488, val_auprc: 0.9360\n"
     ]
    },
    {
     "name": "stderr",
     "output_type": "stream",
     "text": [
      "/home/namle/.local/lib/python3.10/site-packages/torch_geometric/warnings.py:11: UserWarning: The usage of `scatter(reduce='max')` can be accelerated via the 'torch-scatter' package, but it was not found\n",
      "  warnings.warn(message)\n"
     ]
    },
    {
     "name": "stdout",
     "output_type": "stream",
     "text": [
      "Epoch: 96 (58.8339s), train_loss: 0.2509, val_loss: 0.3012, train_acc: 0.9019, val_acc:0.8800\n",
      "\t\ttrain_roc: 0.9583, val_roc: 0.9458, train_auprc: 0.9479, val_auprc: 0.9365\n"
     ]
    },
    {
     "name": "stderr",
     "output_type": "stream",
     "text": [
      "/home/namle/.local/lib/python3.10/site-packages/torch_geometric/warnings.py:11: UserWarning: The usage of `scatter(reduce='max')` can be accelerated via the 'torch-scatter' package, but it was not found\n",
      "  warnings.warn(message)\n"
     ]
    },
    {
     "name": "stdout",
     "output_type": "stream",
     "text": [
      "Epoch: 97 (58.6978s), train_loss: 0.2487, val_loss: 0.3012, train_acc: 0.9026, val_acc:0.8820\n",
      "\t\ttrain_roc: 0.9591, val_roc: 0.9457, train_auprc: 0.9495, val_auprc: 0.9370\n"
     ]
    },
    {
     "name": "stderr",
     "output_type": "stream",
     "text": [
      "/home/namle/.local/lib/python3.10/site-packages/torch_geometric/warnings.py:11: UserWarning: The usage of `scatter(reduce='max')` can be accelerated via the 'torch-scatter' package, but it was not found\n",
      "  warnings.warn(message)\n"
     ]
    },
    {
     "name": "stdout",
     "output_type": "stream",
     "text": [
      "Saving model\n",
      "Epoch: 98 (58.9685s), train_loss: 0.2503, val_loss: 0.2999, train_acc: 0.9028, val_acc:0.8817\n",
      "\t\ttrain_roc: 0.9585, val_roc: 0.9463, train_auprc: 0.9483, val_auprc: 0.9378\n"
     ]
    },
    {
     "name": "stderr",
     "output_type": "stream",
     "text": [
      "/home/namle/.local/lib/python3.10/site-packages/torch_geometric/warnings.py:11: UserWarning: The usage of `scatter(reduce='max')` can be accelerated via the 'torch-scatter' package, but it was not found\n",
      "  warnings.warn(message)\n"
     ]
    },
    {
     "name": "stdout",
     "output_type": "stream",
     "text": [
      "Epoch: 99 (58.7439s), train_loss: 0.2491, val_loss: 0.3006, train_acc: 0.9030, val_acc:0.8806\n",
      "\t\ttrain_roc: 0.9589, val_roc: 0.9457, train_auprc: 0.9491, val_auprc: 0.9374\n"
     ]
    },
    {
     "name": "stderr",
     "output_type": "stream",
     "text": [
      "/home/namle/.local/lib/python3.10/site-packages/torch_geometric/warnings.py:11: UserWarning: The usage of `scatter(reduce='max')` can be accelerated via the 'torch-scatter' package, but it was not found\n",
      "  warnings.warn(message)\n"
     ]
    },
    {
     "name": "stdout",
     "output_type": "stream",
     "text": [
      "Epoch: 100 (58.8906s), train_loss: 0.2491, val_loss: 0.2995, train_acc: 0.9025, val_acc:0.8821\n",
      "\t\ttrain_roc: 0.9588, val_roc: 0.9460, train_auprc: 0.9491, val_auprc: 0.9366\n"
     ]
    },
    {
     "name": "stderr",
     "output_type": "stream",
     "text": [
      "/home/namle/.local/lib/python3.10/site-packages/torch_geometric/warnings.py:11: UserWarning: The usage of `scatter(reduce='max')` can be accelerated via the 'torch-scatter' package, but it was not found\n",
      "  warnings.warn(message)\n"
     ]
    },
    {
     "name": "stdout",
     "output_type": "stream",
     "text": [
      "Epoch: 101 (58.9190s), train_loss: 0.2485, val_loss: 0.3008, train_acc: 0.9030, val_acc:0.8808\n",
      "\t\ttrain_roc: 0.9590, val_roc: 0.9456, train_auprc: 0.9491, val_auprc: 0.9366\n"
     ]
    },
    {
     "name": "stderr",
     "output_type": "stream",
     "text": [
      "/home/namle/.local/lib/python3.10/site-packages/torch_geometric/warnings.py:11: UserWarning: The usage of `scatter(reduce='max')` can be accelerated via the 'torch-scatter' package, but it was not found\n",
      "  warnings.warn(message)\n"
     ]
    },
    {
     "name": "stdout",
     "output_type": "stream",
     "text": [
      "Epoch: 102 (58.8730s), train_loss: 0.2472, val_loss: 0.3038, train_acc: 0.9038, val_acc:0.8793\n",
      "\t\ttrain_roc: 0.9596, val_roc: 0.9445, train_auprc: 0.9501, val_auprc: 0.9354\n"
     ]
    },
    {
     "name": "stderr",
     "output_type": "stream",
     "text": [
      "/home/namle/.local/lib/python3.10/site-packages/torch_geometric/warnings.py:11: UserWarning: The usage of `scatter(reduce='max')` can be accelerated via the 'torch-scatter' package, but it was not found\n",
      "  warnings.warn(message)\n"
     ]
    },
    {
     "name": "stdout",
     "output_type": "stream",
     "text": [
      "Saving model\n",
      "Epoch: 103 (58.9969s), train_loss: 0.2476, val_loss: 0.2963, train_acc: 0.9034, val_acc:0.8832\n",
      "\t\ttrain_roc: 0.9592, val_roc: 0.9470, train_auprc: 0.9494, val_auprc: 0.9386\n"
     ]
    },
    {
     "name": "stderr",
     "output_type": "stream",
     "text": [
      "/home/namle/.local/lib/python3.10/site-packages/torch_geometric/warnings.py:11: UserWarning: The usage of `scatter(reduce='max')` can be accelerated via the 'torch-scatter' package, but it was not found\n",
      "  warnings.warn(message)\n"
     ]
    },
    {
     "name": "stdout",
     "output_type": "stream",
     "text": [
      "Epoch: 104 (58.8640s), train_loss: 0.2462, val_loss: 0.2989, train_acc: 0.9040, val_acc:0.8815\n",
      "\t\ttrain_roc: 0.9597, val_roc: 0.9464, train_auprc: 0.9496, val_auprc: 0.9379\n"
     ]
    },
    {
     "name": "stderr",
     "output_type": "stream",
     "text": [
      "/home/namle/.local/lib/python3.10/site-packages/torch_geometric/warnings.py:11: UserWarning: The usage of `scatter(reduce='max')` can be accelerated via the 'torch-scatter' package, but it was not found\n",
      "  warnings.warn(message)\n"
     ]
    },
    {
     "name": "stdout",
     "output_type": "stream",
     "text": [
      "Epoch: 105 (58.8787s), train_loss: 0.2457, val_loss: 0.3003, train_acc: 0.9043, val_acc:0.8811\n",
      "\t\ttrain_roc: 0.9599, val_roc: 0.9465, train_auprc: 0.9500, val_auprc: 0.9379\n"
     ]
    },
    {
     "name": "stderr",
     "output_type": "stream",
     "text": [
      "/home/namle/.local/lib/python3.10/site-packages/torch_geometric/warnings.py:11: UserWarning: The usage of `scatter(reduce='max')` can be accelerated via the 'torch-scatter' package, but it was not found\n",
      "  warnings.warn(message)\n"
     ]
    },
    {
     "name": "stdout",
     "output_type": "stream",
     "text": [
      "Epoch: 106 (59.0668s), train_loss: 0.2436, val_loss: 0.2996, train_acc: 0.9052, val_acc:0.8833\n",
      "\t\ttrain_roc: 0.9605, val_roc: 0.9471, train_auprc: 0.9510, val_auprc: 0.9384\n"
     ]
    },
    {
     "name": "stderr",
     "output_type": "stream",
     "text": [
      "/home/namle/.local/lib/python3.10/site-packages/torch_geometric/warnings.py:11: UserWarning: The usage of `scatter(reduce='max')` can be accelerated via the 'torch-scatter' package, but it was not found\n",
      "  warnings.warn(message)\n"
     ]
    },
    {
     "name": "stdout",
     "output_type": "stream",
     "text": [
      "Epoch: 107 (58.9077s), train_loss: 0.2439, val_loss: 0.3024, train_acc: 0.9052, val_acc:0.8811\n",
      "\t\ttrain_roc: 0.9604, val_roc: 0.9458, train_auprc: 0.9508, val_auprc: 0.9370\n"
     ]
    },
    {
     "name": "stderr",
     "output_type": "stream",
     "text": [
      "/home/namle/.local/lib/python3.10/site-packages/torch_geometric/warnings.py:11: UserWarning: The usage of `scatter(reduce='max')` can be accelerated via the 'torch-scatter' package, but it was not found\n",
      "  warnings.warn(message)\n"
     ]
    },
    {
     "name": "stdout",
     "output_type": "stream",
     "text": [
      "Saving model\n",
      "Epoch: 108 (59.0345s), train_loss: 0.2445, val_loss: 0.2983, train_acc: 0.9054, val_acc:0.8820\n",
      "\t\ttrain_roc: 0.9602, val_roc: 0.9466, train_auprc: 0.9505, val_auprc: 0.9387\n"
     ]
    },
    {
     "name": "stderr",
     "output_type": "stream",
     "text": [
      "/home/namle/.local/lib/python3.10/site-packages/torch_geometric/warnings.py:11: UserWarning: The usage of `scatter(reduce='max')` can be accelerated via the 'torch-scatter' package, but it was not found\n",
      "  warnings.warn(message)\n"
     ]
    },
    {
     "name": "stdout",
     "output_type": "stream",
     "text": [
      "Epoch: 109 (58.9757s), train_loss: 0.2437, val_loss: 0.2996, train_acc: 0.9051, val_acc:0.8821\n",
      "\t\ttrain_roc: 0.9605, val_roc: 0.9468, train_auprc: 0.9511, val_auprc: 0.9384\n"
     ]
    },
    {
     "name": "stderr",
     "output_type": "stream",
     "text": [
      "/home/namle/.local/lib/python3.10/site-packages/torch_geometric/warnings.py:11: UserWarning: The usage of `scatter(reduce='max')` can be accelerated via the 'torch-scatter' package, but it was not found\n",
      "  warnings.warn(message)\n"
     ]
    },
    {
     "name": "stdout",
     "output_type": "stream",
     "text": [
      "Epoch: 110 (58.7844s), train_loss: 0.2420, val_loss: 0.2991, train_acc: 0.9062, val_acc:0.8828\n",
      "\t\ttrain_roc: 0.9610, val_roc: 0.9467, train_auprc: 0.9518, val_auprc: 0.9381\n"
     ]
    },
    {
     "name": "stderr",
     "output_type": "stream",
     "text": [
      "/home/namle/.local/lib/python3.10/site-packages/torch_geometric/warnings.py:11: UserWarning: The usage of `scatter(reduce='max')` can be accelerated via the 'torch-scatter' package, but it was not found\n",
      "  warnings.warn(message)\n"
     ]
    },
    {
     "name": "stdout",
     "output_type": "stream",
     "text": [
      "Epoch: 111 (58.8549s), train_loss: 0.2420, val_loss: 0.3000, train_acc: 0.9067, val_acc:0.8824\n",
      "\t\ttrain_roc: 0.9611, val_roc: 0.9469, train_auprc: 0.9518, val_auprc: 0.9386\n"
     ]
    },
    {
     "name": "stderr",
     "output_type": "stream",
     "text": [
      "/home/namle/.local/lib/python3.10/site-packages/torch_geometric/warnings.py:11: UserWarning: The usage of `scatter(reduce='max')` can be accelerated via the 'torch-scatter' package, but it was not found\n",
      "  warnings.warn(message)\n"
     ]
    },
    {
     "name": "stdout",
     "output_type": "stream",
     "text": [
      "Epoch: 112 (59.0536s), train_loss: 0.2409, val_loss: 0.3015, train_acc: 0.9067, val_acc:0.8823\n",
      "\t\ttrain_roc: 0.9615, val_roc: 0.9465, train_auprc: 0.9520, val_auprc: 0.9386\n"
     ]
    },
    {
     "name": "stderr",
     "output_type": "stream",
     "text": [
      "/home/namle/.local/lib/python3.10/site-packages/torch_geometric/warnings.py:11: UserWarning: The usage of `scatter(reduce='max')` can be accelerated via the 'torch-scatter' package, but it was not found\n",
      "  warnings.warn(message)\n"
     ]
    },
    {
     "name": "stdout",
     "output_type": "stream",
     "text": [
      "Epoch: 113 (59.3680s), train_loss: 0.2411, val_loss: 0.3016, train_acc: 0.9062, val_acc:0.8817\n",
      "\t\ttrain_roc: 0.9614, val_roc: 0.9458, train_auprc: 0.9523, val_auprc: 0.9372\n"
     ]
    },
    {
     "name": "stderr",
     "output_type": "stream",
     "text": [
      "/home/namle/.local/lib/python3.10/site-packages/torch_geometric/warnings.py:11: UserWarning: The usage of `scatter(reduce='max')` can be accelerated via the 'torch-scatter' package, but it was not found\n",
      "  warnings.warn(message)\n"
     ]
    },
    {
     "name": "stdout",
     "output_type": "stream",
     "text": [
      "Epoch: 114 (58.9275s), train_loss: 0.2396, val_loss: 0.2994, train_acc: 0.9068, val_acc:0.8836\n",
      "\t\ttrain_roc: 0.9619, val_roc: 0.9467, train_auprc: 0.9527, val_auprc: 0.9380\n"
     ]
    },
    {
     "name": "stderr",
     "output_type": "stream",
     "text": [
      "/home/namle/.local/lib/python3.10/site-packages/torch_geometric/warnings.py:11: UserWarning: The usage of `scatter(reduce='max')` can be accelerated via the 'torch-scatter' package, but it was not found\n",
      "  warnings.warn(message)\n"
     ]
    },
    {
     "name": "stdout",
     "output_type": "stream",
     "text": [
      "Epoch: 115 (59.1273s), train_loss: 0.2423, val_loss: 0.3033, train_acc: 0.9057, val_acc:0.8821\n",
      "\t\ttrain_roc: 0.9609, val_roc: 0.9456, train_auprc: 0.9511, val_auprc: 0.9365\n"
     ]
    },
    {
     "name": "stderr",
     "output_type": "stream",
     "text": [
      "/home/namle/.local/lib/python3.10/site-packages/torch_geometric/warnings.py:11: UserWarning: The usage of `scatter(reduce='max')` can be accelerated via the 'torch-scatter' package, but it was not found\n",
      "  warnings.warn(message)\n"
     ]
    },
    {
     "name": "stdout",
     "output_type": "stream",
     "text": [
      "Epoch: 116 (58.8837s), train_loss: 0.2405, val_loss: 0.3006, train_acc: 0.9069, val_acc:0.8820\n",
      "\t\ttrain_roc: 0.9615, val_roc: 0.9462, train_auprc: 0.9519, val_auprc: 0.9378\n"
     ]
    },
    {
     "name": "stderr",
     "output_type": "stream",
     "text": [
      "/home/namle/.local/lib/python3.10/site-packages/torch_geometric/warnings.py:11: UserWarning: The usage of `scatter(reduce='max')` can be accelerated via the 'torch-scatter' package, but it was not found\n",
      "  warnings.warn(message)\n"
     ]
    },
    {
     "name": "stdout",
     "output_type": "stream",
     "text": [
      "Saving model\n",
      "Epoch: 117 (59.0273s), train_loss: 0.2393, val_loss: 0.2967, train_acc: 0.9077, val_acc:0.8836\n",
      "\t\ttrain_roc: 0.9619, val_roc: 0.9481, train_auprc: 0.9526, val_auprc: 0.9406\n"
     ]
    },
    {
     "name": "stderr",
     "output_type": "stream",
     "text": [
      "/home/namle/.local/lib/python3.10/site-packages/torch_geometric/warnings.py:11: UserWarning: The usage of `scatter(reduce='max')` can be accelerated via the 'torch-scatter' package, but it was not found\n",
      "  warnings.warn(message)\n"
     ]
    },
    {
     "name": "stdout",
     "output_type": "stream",
     "text": [
      "Epoch: 118 (58.9450s), train_loss: 0.2411, val_loss: 0.3013, train_acc: 0.9066, val_acc:0.8823\n",
      "\t\ttrain_roc: 0.9611, val_roc: 0.9466, train_auprc: 0.9514, val_auprc: 0.9374\n"
     ]
    },
    {
     "name": "stderr",
     "output_type": "stream",
     "text": [
      "/home/namle/.local/lib/python3.10/site-packages/torch_geometric/warnings.py:11: UserWarning: The usage of `scatter(reduce='max')` can be accelerated via the 'torch-scatter' package, but it was not found\n",
      "  warnings.warn(message)\n"
     ]
    },
    {
     "name": "stdout",
     "output_type": "stream",
     "text": [
      "Epoch: 119 (58.9648s), train_loss: 0.2394, val_loss: 0.2970, train_acc: 0.9068, val_acc:0.8846\n",
      "\t\ttrain_roc: 0.9618, val_roc: 0.9478, train_auprc: 0.9529, val_auprc: 0.9399\n"
     ]
    },
    {
     "name": "stderr",
     "output_type": "stream",
     "text": [
      "/home/namle/.local/lib/python3.10/site-packages/torch_geometric/warnings.py:11: UserWarning: The usage of `scatter(reduce='max')` can be accelerated via the 'torch-scatter' package, but it was not found\n",
      "  warnings.warn(message)\n"
     ]
    },
    {
     "name": "stdout",
     "output_type": "stream",
     "text": [
      "Epoch: 120 (59.0601s), train_loss: 0.2397, val_loss: 0.2977, train_acc: 0.9075, val_acc:0.8840\n",
      "\t\ttrain_roc: 0.9618, val_roc: 0.9476, train_auprc: 0.9524, val_auprc: 0.9396\n"
     ]
    },
    {
     "name": "stderr",
     "output_type": "stream",
     "text": [
      "/home/namle/.local/lib/python3.10/site-packages/torch_geometric/warnings.py:11: UserWarning: The usage of `scatter(reduce='max')` can be accelerated via the 'torch-scatter' package, but it was not found\n",
      "  warnings.warn(message)\n"
     ]
    },
    {
     "name": "stdout",
     "output_type": "stream",
     "text": [
      "Epoch: 121 (59.1067s), train_loss: 0.2387, val_loss: 0.3009, train_acc: 0.9073, val_acc:0.8812\n",
      "\t\ttrain_roc: 0.9621, val_roc: 0.9469, train_auprc: 0.9531, val_auprc: 0.9383\n"
     ]
    },
    {
     "name": "stderr",
     "output_type": "stream",
     "text": [
      "/home/namle/.local/lib/python3.10/site-packages/torch_geometric/warnings.py:11: UserWarning: The usage of `scatter(reduce='max')` can be accelerated via the 'torch-scatter' package, but it was not found\n",
      "  warnings.warn(message)\n"
     ]
    },
    {
     "name": "stdout",
     "output_type": "stream",
     "text": [
      "Epoch: 122 (59.0078s), train_loss: 0.2401, val_loss: 0.3026, train_acc: 0.9069, val_acc:0.8823\n",
      "\t\ttrain_roc: 0.9613, val_roc: 0.9462, train_auprc: 0.9518, val_auprc: 0.9376\n"
     ]
    },
    {
     "name": "stderr",
     "output_type": "stream",
     "text": [
      "/home/namle/.local/lib/python3.10/site-packages/torch_geometric/warnings.py:11: UserWarning: The usage of `scatter(reduce='max')` can be accelerated via the 'torch-scatter' package, but it was not found\n",
      "  warnings.warn(message)\n"
     ]
    },
    {
     "name": "stdout",
     "output_type": "stream",
     "text": [
      "Epoch: 123 (59.0472s), train_loss: 0.2395, val_loss: 0.3006, train_acc: 0.9067, val_acc:0.8820\n",
      "\t\ttrain_roc: 0.9617, val_roc: 0.9466, train_auprc: 0.9525, val_auprc: 0.9379\n"
     ]
    },
    {
     "name": "stderr",
     "output_type": "stream",
     "text": [
      "/home/namle/.local/lib/python3.10/site-packages/torch_geometric/warnings.py:11: UserWarning: The usage of `scatter(reduce='max')` can be accelerated via the 'torch-scatter' package, but it was not found\n",
      "  warnings.warn(message)\n"
     ]
    },
    {
     "name": "stdout",
     "output_type": "stream",
     "text": [
      "Epoch: 124 (59.1428s), train_loss: 0.2400, val_loss: 0.3018, train_acc: 0.9077, val_acc:0.8823\n",
      "\t\ttrain_roc: 0.9615, val_roc: 0.9463, train_auprc: 0.9518, val_auprc: 0.9377\n"
     ]
    },
    {
     "name": "stderr",
     "output_type": "stream",
     "text": [
      "/home/namle/.local/lib/python3.10/site-packages/torch_geometric/warnings.py:11: UserWarning: The usage of `scatter(reduce='max')` can be accelerated via the 'torch-scatter' package, but it was not found\n",
      "  warnings.warn(message)\n"
     ]
    },
    {
     "name": "stdout",
     "output_type": "stream",
     "text": [
      "Epoch: 125 (59.1877s), train_loss: 0.2401, val_loss: 0.3003, train_acc: 0.9066, val_acc:0.8827\n",
      "\t\ttrain_roc: 0.9615, val_roc: 0.9466, train_auprc: 0.9520, val_auprc: 0.9383\n"
     ]
    },
    {
     "name": "stderr",
     "output_type": "stream",
     "text": [
      "/home/namle/.local/lib/python3.10/site-packages/torch_geometric/warnings.py:11: UserWarning: The usage of `scatter(reduce='max')` can be accelerated via the 'torch-scatter' package, but it was not found\n",
      "  warnings.warn(message)\n"
     ]
    },
    {
     "name": "stdout",
     "output_type": "stream",
     "text": [
      "Epoch: 126 (59.0382s), train_loss: 0.2379, val_loss: 0.3034, train_acc: 0.9083, val_acc:0.8825\n",
      "\t\ttrain_roc: 0.9622, val_roc: 0.9462, train_auprc: 0.9531, val_auprc: 0.9371\n"
     ]
    },
    {
     "name": "stderr",
     "output_type": "stream",
     "text": [
      "/home/namle/.local/lib/python3.10/site-packages/torch_geometric/warnings.py:11: UserWarning: The usage of `scatter(reduce='max')` can be accelerated via the 'torch-scatter' package, but it was not found\n",
      "  warnings.warn(message)\n"
     ]
    },
    {
     "name": "stdout",
     "output_type": "stream",
     "text": [
      "Epoch: 127 (59.0234s), train_loss: 0.2402, val_loss: 0.2999, train_acc: 0.9074, val_acc:0.8831\n",
      "\t\ttrain_roc: 0.9613, val_roc: 0.9470, train_auprc: 0.9515, val_auprc: 0.9387\n"
     ]
    },
    {
     "name": "stderr",
     "output_type": "stream",
     "text": [
      "/home/namle/.local/lib/python3.10/site-packages/torch_geometric/warnings.py:11: UserWarning: The usage of `scatter(reduce='max')` can be accelerated via the 'torch-scatter' package, but it was not found\n",
      "  warnings.warn(message)\n"
     ]
    },
    {
     "name": "stdout",
     "output_type": "stream",
     "text": [
      "Epoch: 128 (59.1516s), train_loss: 0.2392, val_loss: 0.3043, train_acc: 0.9079, val_acc:0.8814\n",
      "\t\ttrain_roc: 0.9618, val_roc: 0.9455, train_auprc: 0.9522, val_auprc: 0.9366\n"
     ]
    },
    {
     "name": "stderr",
     "output_type": "stream",
     "text": [
      "/home/namle/.local/lib/python3.10/site-packages/torch_geometric/warnings.py:11: UserWarning: The usage of `scatter(reduce='max')` can be accelerated via the 'torch-scatter' package, but it was not found\n",
      "  warnings.warn(message)\n"
     ]
    },
    {
     "name": "stdout",
     "output_type": "stream",
     "text": [
      "Epoch: 129 (59.3409s), train_loss: 0.2388, val_loss: 0.2977, train_acc: 0.9081, val_acc:0.8831\n",
      "\t\ttrain_roc: 0.9617, val_roc: 0.9479, train_auprc: 0.9520, val_auprc: 0.9403\n"
     ]
    },
    {
     "name": "stderr",
     "output_type": "stream",
     "text": [
      "/home/namle/.local/lib/python3.10/site-packages/torch_geometric/warnings.py:11: UserWarning: The usage of `scatter(reduce='max')` can be accelerated via the 'torch-scatter' package, but it was not found\n",
      "  warnings.warn(message)\n"
     ]
    },
    {
     "name": "stdout",
     "output_type": "stream",
     "text": [
      "Epoch: 130 (59.0966s), train_loss: 0.2398, val_loss: 0.3007, train_acc: 0.9072, val_acc:0.8826\n",
      "\t\ttrain_roc: 0.9614, val_roc: 0.9467, train_auprc: 0.9514, val_auprc: 0.9386\n"
     ]
    },
    {
     "name": "stderr",
     "output_type": "stream",
     "text": [
      "/home/namle/.local/lib/python3.10/site-packages/torch_geometric/warnings.py:11: UserWarning: The usage of `scatter(reduce='max')` can be accelerated via the 'torch-scatter' package, but it was not found\n",
      "  warnings.warn(message)\n"
     ]
    },
    {
     "name": "stdout",
     "output_type": "stream",
     "text": [
      "Epoch: 131 (58.8849s), train_loss: 0.2376, val_loss: 0.3008, train_acc: 0.9081, val_acc:0.8829\n",
      "\t\ttrain_roc: 0.9623, val_roc: 0.9471, train_auprc: 0.9531, val_auprc: 0.9387\n"
     ]
    },
    {
     "name": "stderr",
     "output_type": "stream",
     "text": [
      "/home/namle/.local/lib/python3.10/site-packages/torch_geometric/warnings.py:11: UserWarning: The usage of `scatter(reduce='max')` can be accelerated via the 'torch-scatter' package, but it was not found\n",
      "  warnings.warn(message)\n"
     ]
    },
    {
     "name": "stdout",
     "output_type": "stream",
     "text": [
      "Saving model\n",
      "Epoch: 132 (58.9381s), train_loss: 0.2378, val_loss: 0.2971, train_acc: 0.9081, val_acc:0.8836\n",
      "\t\ttrain_roc: 0.9621, val_roc: 0.9483, train_auprc: 0.9530, val_auprc: 0.9408\n"
     ]
    },
    {
     "name": "stderr",
     "output_type": "stream",
     "text": [
      "/home/namle/.local/lib/python3.10/site-packages/torch_geometric/warnings.py:11: UserWarning: The usage of `scatter(reduce='max')` can be accelerated via the 'torch-scatter' package, but it was not found\n",
      "  warnings.warn(message)\n"
     ]
    },
    {
     "name": "stdout",
     "output_type": "stream",
     "text": [
      "Epoch: 133 (58.7931s), train_loss: 0.2373, val_loss: 0.2976, train_acc: 0.9085, val_acc:0.8833\n",
      "\t\ttrain_roc: 0.9622, val_roc: 0.9480, train_auprc: 0.9528, val_auprc: 0.9405\n"
     ]
    },
    {
     "name": "stderr",
     "output_type": "stream",
     "text": [
      "/home/namle/.local/lib/python3.10/site-packages/torch_geometric/warnings.py:11: UserWarning: The usage of `scatter(reduce='max')` can be accelerated via the 'torch-scatter' package, but it was not found\n",
      "  warnings.warn(message)\n"
     ]
    },
    {
     "name": "stdout",
     "output_type": "stream",
     "text": [
      "Epoch: 134 (59.1551s), train_loss: 0.2357, val_loss: 0.3011, train_acc: 0.9086, val_acc:0.8830\n",
      "\t\ttrain_roc: 0.9628, val_roc: 0.9469, train_auprc: 0.9539, val_auprc: 0.9384\n"
     ]
    },
    {
     "name": "stderr",
     "output_type": "stream",
     "text": [
      "/home/namle/.local/lib/python3.10/site-packages/torch_geometric/warnings.py:11: UserWarning: The usage of `scatter(reduce='max')` can be accelerated via the 'torch-scatter' package, but it was not found\n",
      "  warnings.warn(message)\n"
     ]
    },
    {
     "name": "stdout",
     "output_type": "stream",
     "text": [
      "Epoch: 135 (59.1046s), train_loss: 0.2380, val_loss: 0.3006, train_acc: 0.9080, val_acc:0.8827\n",
      "\t\ttrain_roc: 0.9621, val_roc: 0.9472, train_auprc: 0.9527, val_auprc: 0.9391\n"
     ]
    },
    {
     "name": "stderr",
     "output_type": "stream",
     "text": [
      "/home/namle/.local/lib/python3.10/site-packages/torch_geometric/warnings.py:11: UserWarning: The usage of `scatter(reduce='max')` can be accelerated via the 'torch-scatter' package, but it was not found\n",
      "  warnings.warn(message)\n"
     ]
    },
    {
     "name": "stdout",
     "output_type": "stream",
     "text": [
      "Epoch: 136 (58.9797s), train_loss: 0.2363, val_loss: 0.2980, train_acc: 0.9083, val_acc:0.8842\n",
      "\t\ttrain_roc: 0.9627, val_roc: 0.9484, train_auprc: 0.9540, val_auprc: 0.9406\n"
     ]
    },
    {
     "name": "stderr",
     "output_type": "stream",
     "text": [
      "/home/namle/.local/lib/python3.10/site-packages/torch_geometric/warnings.py:11: UserWarning: The usage of `scatter(reduce='max')` can be accelerated via the 'torch-scatter' package, but it was not found\n",
      "  warnings.warn(message)\n"
     ]
    },
    {
     "name": "stdout",
     "output_type": "stream",
     "text": [
      "Epoch: 137 (58.8566s), train_loss: 0.2382, val_loss: 0.2994, train_acc: 0.9078, val_acc:0.8842\n",
      "\t\ttrain_roc: 0.9619, val_roc: 0.9476, train_auprc: 0.9523, val_auprc: 0.9393\n"
     ]
    },
    {
     "name": "stderr",
     "output_type": "stream",
     "text": [
      "/home/namle/.local/lib/python3.10/site-packages/torch_geometric/warnings.py:11: UserWarning: The usage of `scatter(reduce='max')` can be accelerated via the 'torch-scatter' package, but it was not found\n",
      "  warnings.warn(message)\n"
     ]
    },
    {
     "name": "stdout",
     "output_type": "stream",
     "text": [
      "Epoch: 138 (58.9579s), train_loss: 0.2370, val_loss: 0.3029, train_acc: 0.9084, val_acc:0.8822\n",
      "\t\ttrain_roc: 0.9624, val_roc: 0.9463, train_auprc: 0.9532, val_auprc: 0.9374\n"
     ]
    },
    {
     "name": "stderr",
     "output_type": "stream",
     "text": [
      "/home/namle/.local/lib/python3.10/site-packages/torch_geometric/warnings.py:11: UserWarning: The usage of `scatter(reduce='max')` can be accelerated via the 'torch-scatter' package, but it was not found\n",
      "  warnings.warn(message)\n"
     ]
    },
    {
     "name": "stdout",
     "output_type": "stream",
     "text": [
      "Epoch: 139 (58.9527s), train_loss: 0.2373, val_loss: 0.2996, train_acc: 0.9089, val_acc:0.8831\n",
      "\t\ttrain_roc: 0.9623, val_roc: 0.9477, train_auprc: 0.9525, val_auprc: 0.9398\n"
     ]
    },
    {
     "name": "stderr",
     "output_type": "stream",
     "text": [
      "/home/namle/.local/lib/python3.10/site-packages/torch_geometric/warnings.py:11: UserWarning: The usage of `scatter(reduce='max')` can be accelerated via the 'torch-scatter' package, but it was not found\n",
      "  warnings.warn(message)\n"
     ]
    },
    {
     "name": "stdout",
     "output_type": "stream",
     "text": [
      "Epoch: 140 (58.9994s), train_loss: 0.2363, val_loss: 0.2991, train_acc: 0.9084, val_acc:0.8841\n",
      "\t\ttrain_roc: 0.9626, val_roc: 0.9479, train_auprc: 0.9534, val_auprc: 0.9395\n"
     ]
    },
    {
     "name": "stderr",
     "output_type": "stream",
     "text": [
      "/home/namle/.local/lib/python3.10/site-packages/torch_geometric/warnings.py:11: UserWarning: The usage of `scatter(reduce='max')` can be accelerated via the 'torch-scatter' package, but it was not found\n",
      "  warnings.warn(message)\n"
     ]
    },
    {
     "name": "stdout",
     "output_type": "stream",
     "text": [
      "Epoch: 141 (58.8459s), train_loss: 0.2347, val_loss: 0.2999, train_acc: 0.9096, val_acc:0.8838\n",
      "\t\ttrain_roc: 0.9631, val_roc: 0.9475, train_auprc: 0.9541, val_auprc: 0.9392\n"
     ]
    },
    {
     "name": "stderr",
     "output_type": "stream",
     "text": [
      "/home/namle/.local/lib/python3.10/site-packages/torch_geometric/warnings.py:11: UserWarning: The usage of `scatter(reduce='max')` can be accelerated via the 'torch-scatter' package, but it was not found\n",
      "  warnings.warn(message)\n"
     ]
    },
    {
     "name": "stdout",
     "output_type": "stream",
     "text": [
      "Epoch: 142 (59.0425s), train_loss: 0.2369, val_loss: 0.3028, train_acc: 0.9085, val_acc:0.8826\n",
      "\t\ttrain_roc: 0.9623, val_roc: 0.9463, train_auprc: 0.9529, val_auprc: 0.9368\n"
     ]
    },
    {
     "name": "stderr",
     "output_type": "stream",
     "text": [
      "/home/namle/.local/lib/python3.10/site-packages/torch_geometric/warnings.py:11: UserWarning: The usage of `scatter(reduce='max')` can be accelerated via the 'torch-scatter' package, but it was not found\n",
      "  warnings.warn(message)\n"
     ]
    },
    {
     "name": "stdout",
     "output_type": "stream",
     "text": [
      "Epoch: 143 (58.8127s), train_loss: 0.2369, val_loss: 0.3009, train_acc: 0.9084, val_acc:0.8829\n",
      "\t\ttrain_roc: 0.9624, val_roc: 0.9473, train_auprc: 0.9533, val_auprc: 0.9391\n"
     ]
    },
    {
     "name": "stderr",
     "output_type": "stream",
     "text": [
      "/home/namle/.local/lib/python3.10/site-packages/torch_geometric/warnings.py:11: UserWarning: The usage of `scatter(reduce='max')` can be accelerated via the 'torch-scatter' package, but it was not found\n",
      "  warnings.warn(message)\n"
     ]
    },
    {
     "name": "stdout",
     "output_type": "stream",
     "text": [
      "Epoch: 144 (59.1934s), train_loss: 0.2363, val_loss: 0.3028, train_acc: 0.9083, val_acc:0.8815\n",
      "\t\ttrain_roc: 0.9627, val_roc: 0.9466, train_auprc: 0.9537, val_auprc: 0.9384\n"
     ]
    },
    {
     "name": "stderr",
     "output_type": "stream",
     "text": [
      "/home/namle/.local/lib/python3.10/site-packages/torch_geometric/warnings.py:11: UserWarning: The usage of `scatter(reduce='max')` can be accelerated via the 'torch-scatter' package, but it was not found\n",
      "  warnings.warn(message)\n"
     ]
    },
    {
     "name": "stdout",
     "output_type": "stream",
     "text": [
      "Epoch: 145 (59.2511s), train_loss: 0.2362, val_loss: 0.3037, train_acc: 0.9088, val_acc:0.8820\n",
      "\t\ttrain_roc: 0.9626, val_roc: 0.9462, train_auprc: 0.9532, val_auprc: 0.9370\n"
     ]
    },
    {
     "name": "stderr",
     "output_type": "stream",
     "text": [
      "/home/namle/.local/lib/python3.10/site-packages/torch_geometric/warnings.py:11: UserWarning: The usage of `scatter(reduce='max')` can be accelerated via the 'torch-scatter' package, but it was not found\n",
      "  warnings.warn(message)\n"
     ]
    },
    {
     "name": "stdout",
     "output_type": "stream",
     "text": [
      "Epoch: 146 (58.9854s), train_loss: 0.2355, val_loss: 0.3006, train_acc: 0.9090, val_acc:0.8837\n",
      "\t\ttrain_roc: 0.9628, val_roc: 0.9473, train_auprc: 0.9535, val_auprc: 0.9385\n"
     ]
    },
    {
     "name": "stderr",
     "output_type": "stream",
     "text": [
      "/home/namle/.local/lib/python3.10/site-packages/torch_geometric/warnings.py:11: UserWarning: The usage of `scatter(reduce='max')` can be accelerated via the 'torch-scatter' package, but it was not found\n",
      "  warnings.warn(message)\n"
     ]
    },
    {
     "name": "stdout",
     "output_type": "stream",
     "text": [
      "Epoch: 147 (58.8929s), train_loss: 0.2353, val_loss: 0.3002, train_acc: 0.9089, val_acc:0.8820\n",
      "\t\ttrain_roc: 0.9630, val_roc: 0.9473, train_auprc: 0.9542, val_auprc: 0.9397\n"
     ]
    },
    {
     "name": "stderr",
     "output_type": "stream",
     "text": [
      "/home/namle/.local/lib/python3.10/site-packages/torch_geometric/warnings.py:11: UserWarning: The usage of `scatter(reduce='max')` can be accelerated via the 'torch-scatter' package, but it was not found\n",
      "  warnings.warn(message)\n"
     ]
    },
    {
     "name": "stdout",
     "output_type": "stream",
     "text": [
      "Epoch: 148 (58.9360s), train_loss: 0.2346, val_loss: 0.3004, train_acc: 0.9092, val_acc:0.8835\n",
      "\t\ttrain_roc: 0.9631, val_roc: 0.9472, train_auprc: 0.9541, val_auprc: 0.9384\n"
     ]
    },
    {
     "name": "stderr",
     "output_type": "stream",
     "text": [
      "/home/namle/.local/lib/python3.10/site-packages/torch_geometric/warnings.py:11: UserWarning: The usage of `scatter(reduce='max')` can be accelerated via the 'torch-scatter' package, but it was not found\n",
      "  warnings.warn(message)\n"
     ]
    },
    {
     "name": "stdout",
     "output_type": "stream",
     "text": [
      "Epoch: 149 (58.9122s), train_loss: 0.2332, val_loss: 0.3027, train_acc: 0.9100, val_acc:0.8828\n",
      "\t\ttrain_roc: 0.9637, val_roc: 0.9464, train_auprc: 0.9549, val_auprc: 0.9376\n"
     ]
    },
    {
     "name": "stderr",
     "output_type": "stream",
     "text": [
      "/home/namle/.local/lib/python3.10/site-packages/torch_geometric/warnings.py:11: UserWarning: The usage of `scatter(reduce='max')` can be accelerated via the 'torch-scatter' package, but it was not found\n",
      "  warnings.warn(message)\n"
     ]
    },
    {
     "name": "stdout",
     "output_type": "stream",
     "text": [
      "Epoch: 150 (59.0708s), train_loss: 0.2348, val_loss: 0.3025, train_acc: 0.9096, val_acc:0.8823\n",
      "\t\ttrain_roc: 0.9630, val_roc: 0.9465, train_auprc: 0.9540, val_auprc: 0.9382\n"
     ]
    },
    {
     "name": "stderr",
     "output_type": "stream",
     "text": [
      "/home/namle/.local/lib/python3.10/site-packages/torch_geometric/warnings.py:11: UserWarning: The usage of `scatter(reduce='max')` can be accelerated via the 'torch-scatter' package, but it was not found\n",
      "  warnings.warn(message)\n"
     ]
    },
    {
     "name": "stdout",
     "output_type": "stream",
     "text": [
      "Epoch: 151 (58.8345s), train_loss: 0.2346, val_loss: 0.3047, train_acc: 0.9092, val_acc:0.8813\n",
      "\t\ttrain_roc: 0.9632, val_roc: 0.9458, train_auprc: 0.9541, val_auprc: 0.9367\n"
     ]
    },
    {
     "name": "stderr",
     "output_type": "stream",
     "text": [
      "/home/namle/.local/lib/python3.10/site-packages/torch_geometric/warnings.py:11: UserWarning: The usage of `scatter(reduce='max')` can be accelerated via the 'torch-scatter' package, but it was not found\n",
      "  warnings.warn(message)\n"
     ]
    },
    {
     "name": "stdout",
     "output_type": "stream",
     "text": [
      "Epoch: 152 (58.9652s), train_loss: 0.2358, val_loss: 0.3006, train_acc: 0.9087, val_acc:0.8838\n",
      "\t\ttrain_roc: 0.9627, val_roc: 0.9475, train_auprc: 0.9533, val_auprc: 0.9389\n"
     ]
    },
    {
     "name": "stderr",
     "output_type": "stream",
     "text": [
      "/home/namle/.local/lib/python3.10/site-packages/torch_geometric/warnings.py:11: UserWarning: The usage of `scatter(reduce='max')` can be accelerated via the 'torch-scatter' package, but it was not found\n",
      "  warnings.warn(message)\n"
     ]
    },
    {
     "name": "stdout",
     "output_type": "stream",
     "text": [
      "Epoch: 153 (58.9732s), train_loss: 0.2352, val_loss: 0.3018, train_acc: 0.9098, val_acc:0.8823\n",
      "\t\ttrain_roc: 0.9628, val_roc: 0.9468, train_auprc: 0.9532, val_auprc: 0.9387\n"
     ]
    },
    {
     "name": "stderr",
     "output_type": "stream",
     "text": [
      "/home/namle/.local/lib/python3.10/site-packages/torch_geometric/warnings.py:11: UserWarning: The usage of `scatter(reduce='max')` can be accelerated via the 'torch-scatter' package, but it was not found\n",
      "  warnings.warn(message)\n"
     ]
    },
    {
     "name": "stdout",
     "output_type": "stream",
     "text": [
      "Epoch: 154 (58.8461s), train_loss: 0.2364, val_loss: 0.3028, train_acc: 0.9085, val_acc:0.8821\n",
      "\t\ttrain_roc: 0.9624, val_roc: 0.9468, train_auprc: 0.9531, val_auprc: 0.9385\n"
     ]
    },
    {
     "name": "stderr",
     "output_type": "stream",
     "text": [
      "/home/namle/.local/lib/python3.10/site-packages/torch_geometric/warnings.py:11: UserWarning: The usage of `scatter(reduce='max')` can be accelerated via the 'torch-scatter' package, but it was not found\n",
      "  warnings.warn(message)\n"
     ]
    },
    {
     "name": "stdout",
     "output_type": "stream",
     "text": [
      "Epoch: 155 (59.0029s), train_loss: 0.2359, val_loss: 0.3015, train_acc: 0.9089, val_acc:0.8823\n",
      "\t\ttrain_roc: 0.9627, val_roc: 0.9472, train_auprc: 0.9534, val_auprc: 0.9392\n"
     ]
    },
    {
     "name": "stderr",
     "output_type": "stream",
     "text": [
      "/home/namle/.local/lib/python3.10/site-packages/torch_geometric/warnings.py:11: UserWarning: The usage of `scatter(reduce='max')` can be accelerated via the 'torch-scatter' package, but it was not found\n",
      "  warnings.warn(message)\n"
     ]
    },
    {
     "name": "stdout",
     "output_type": "stream",
     "text": [
      "Epoch: 156 (58.9063s), train_loss: 0.2332, val_loss: 0.3026, train_acc: 0.9099, val_acc:0.8817\n",
      "\t\ttrain_roc: 0.9637, val_roc: 0.9469, train_auprc: 0.9549, val_auprc: 0.9388\n"
     ]
    },
    {
     "name": "stderr",
     "output_type": "stream",
     "text": [
      "/home/namle/.local/lib/python3.10/site-packages/torch_geometric/warnings.py:11: UserWarning: The usage of `scatter(reduce='max')` can be accelerated via the 'torch-scatter' package, but it was not found\n",
      "  warnings.warn(message)\n"
     ]
    },
    {
     "name": "stdout",
     "output_type": "stream",
     "text": [
      "Epoch: 157 (59.2167s), train_loss: 0.2353, val_loss: 0.3041, train_acc: 0.9093, val_acc:0.8810\n",
      "\t\ttrain_roc: 0.9629, val_roc: 0.9461, train_auprc: 0.9536, val_auprc: 0.9381\n"
     ]
    },
    {
     "name": "stderr",
     "output_type": "stream",
     "text": [
      "/home/namle/.local/lib/python3.10/site-packages/torch_geometric/warnings.py:11: UserWarning: The usage of `scatter(reduce='max')` can be accelerated via the 'torch-scatter' package, but it was not found\n",
      "  warnings.warn(message)\n"
     ]
    },
    {
     "name": "stdout",
     "output_type": "stream",
     "text": [
      "Epoch: 158 (58.9674s), train_loss: 0.2343, val_loss: 0.3018, train_acc: 0.9095, val_acc:0.8825\n",
      "\t\ttrain_roc: 0.9632, val_roc: 0.9471, train_auprc: 0.9543, val_auprc: 0.9387\n"
     ]
    },
    {
     "name": "stderr",
     "output_type": "stream",
     "text": [
      "/home/namle/.local/lib/python3.10/site-packages/torch_geometric/warnings.py:11: UserWarning: The usage of `scatter(reduce='max')` can be accelerated via the 'torch-scatter' package, but it was not found\n",
      "  warnings.warn(message)\n"
     ]
    },
    {
     "name": "stdout",
     "output_type": "stream",
     "text": [
      "Epoch: 159 (59.0011s), train_loss: 0.2336, val_loss: 0.3000, train_acc: 0.9099, val_acc:0.8831\n",
      "\t\ttrain_roc: 0.9635, val_roc: 0.9481, train_auprc: 0.9547, val_auprc: 0.9406\n"
     ]
    },
    {
     "name": "stderr",
     "output_type": "stream",
     "text": [
      "/home/namle/.local/lib/python3.10/site-packages/torch_geometric/warnings.py:11: UserWarning: The usage of `scatter(reduce='max')` can be accelerated via the 'torch-scatter' package, but it was not found\n",
      "  warnings.warn(message)\n"
     ]
    },
    {
     "name": "stdout",
     "output_type": "stream",
     "text": [
      "Epoch: 160 (59.0415s), train_loss: 0.2339, val_loss: 0.3035, train_acc: 0.9100, val_acc:0.8820\n",
      "\t\ttrain_roc: 0.9634, val_roc: 0.9466, train_auprc: 0.9545, val_auprc: 0.9377\n"
     ]
    },
    {
     "name": "stderr",
     "output_type": "stream",
     "text": [
      "/home/namle/.local/lib/python3.10/site-packages/torch_geometric/warnings.py:11: UserWarning: The usage of `scatter(reduce='max')` can be accelerated via the 'torch-scatter' package, but it was not found\n",
      "  warnings.warn(message)\n"
     ]
    },
    {
     "name": "stdout",
     "output_type": "stream",
     "text": [
      "Epoch: 161 (58.9398s), train_loss: 0.2353, val_loss: 0.3009, train_acc: 0.9089, val_acc:0.8840\n",
      "\t\ttrain_roc: 0.9628, val_roc: 0.9476, train_auprc: 0.9536, val_auprc: 0.9397\n"
     ]
    },
    {
     "name": "stderr",
     "output_type": "stream",
     "text": [
      "/home/namle/.local/lib/python3.10/site-packages/torch_geometric/warnings.py:11: UserWarning: The usage of `scatter(reduce='max')` can be accelerated via the 'torch-scatter' package, but it was not found\n",
      "  warnings.warn(message)\n"
     ]
    },
    {
     "name": "stdout",
     "output_type": "stream",
     "text": [
      "Epoch: 162 (58.9892s), train_loss: 0.2329, val_loss: 0.3038, train_acc: 0.9103, val_acc:0.8816\n",
      "\t\ttrain_roc: 0.9636, val_roc: 0.9464, train_auprc: 0.9547, val_auprc: 0.9377\n"
     ]
    },
    {
     "name": "stderr",
     "output_type": "stream",
     "text": [
      "/home/namle/.local/lib/python3.10/site-packages/torch_geometric/warnings.py:11: UserWarning: The usage of `scatter(reduce='max')` can be accelerated via the 'torch-scatter' package, but it was not found\n",
      "  warnings.warn(message)\n"
     ]
    },
    {
     "name": "stdout",
     "output_type": "stream",
     "text": [
      "Epoch: 163 (58.8020s), train_loss: 0.2350, val_loss: 0.3040, train_acc: 0.9090, val_acc:0.8822\n",
      "\t\ttrain_roc: 0.9629, val_roc: 0.9465, train_auprc: 0.9539, val_auprc: 0.9379\n"
     ]
    },
    {
     "name": "stderr",
     "output_type": "stream",
     "text": [
      "/home/namle/.local/lib/python3.10/site-packages/torch_geometric/warnings.py:11: UserWarning: The usage of `scatter(reduce='max')` can be accelerated via the 'torch-scatter' package, but it was not found\n",
      "  warnings.warn(message)\n"
     ]
    },
    {
     "name": "stdout",
     "output_type": "stream",
     "text": [
      "Epoch: 164 (58.8770s), train_loss: 0.2343, val_loss: 0.3024, train_acc: 0.9098, val_acc:0.8822\n",
      "\t\ttrain_roc: 0.9631, val_roc: 0.9470, train_auprc: 0.9541, val_auprc: 0.9393\n"
     ]
    },
    {
     "name": "stderr",
     "output_type": "stream",
     "text": [
      "/home/namle/.local/lib/python3.10/site-packages/torch_geometric/warnings.py:11: UserWarning: The usage of `scatter(reduce='max')` can be accelerated via the 'torch-scatter' package, but it was not found\n",
      "  warnings.warn(message)\n"
     ]
    },
    {
     "name": "stdout",
     "output_type": "stream",
     "text": [
      "Epoch: 165 (58.9892s), train_loss: 0.2359, val_loss: 0.3028, train_acc: 0.9088, val_acc:0.8829\n",
      "\t\ttrain_roc: 0.9626, val_roc: 0.9471, train_auprc: 0.9534, val_auprc: 0.9391\n"
     ]
    },
    {
     "name": "stderr",
     "output_type": "stream",
     "text": [
      "/home/namle/.local/lib/python3.10/site-packages/torch_geometric/warnings.py:11: UserWarning: The usage of `scatter(reduce='max')` can be accelerated via the 'torch-scatter' package, but it was not found\n",
      "  warnings.warn(message)\n"
     ]
    },
    {
     "name": "stdout",
     "output_type": "stream",
     "text": [
      "Epoch: 166 (58.9200s), train_loss: 0.2344, val_loss: 0.3034, train_acc: 0.9093, val_acc:0.8819\n",
      "\t\ttrain_roc: 0.9631, val_roc: 0.9467, train_auprc: 0.9541, val_auprc: 0.9386\n"
     ]
    },
    {
     "name": "stderr",
     "output_type": "stream",
     "text": [
      "/home/namle/.local/lib/python3.10/site-packages/torch_geometric/warnings.py:11: UserWarning: The usage of `scatter(reduce='max')` can be accelerated via the 'torch-scatter' package, but it was not found\n",
      "  warnings.warn(message)\n"
     ]
    },
    {
     "name": "stdout",
     "output_type": "stream",
     "text": [
      "Epoch: 167 (58.9105s), train_loss: 0.2346, val_loss: 0.3013, train_acc: 0.9097, val_acc:0.8825\n",
      "\t\ttrain_roc: 0.9630, val_roc: 0.9474, train_auprc: 0.9537, val_auprc: 0.9398\n"
     ]
    },
    {
     "name": "stderr",
     "output_type": "stream",
     "text": [
      "/home/namle/.local/lib/python3.10/site-packages/torch_geometric/warnings.py:11: UserWarning: The usage of `scatter(reduce='max')` can be accelerated via the 'torch-scatter' package, but it was not found\n",
      "  warnings.warn(message)\n"
     ]
    },
    {
     "name": "stdout",
     "output_type": "stream",
     "text": [
      "Epoch: 168 (58.8165s), train_loss: 0.2322, val_loss: 0.3019, train_acc: 0.9104, val_acc:0.8836\n",
      "\t\ttrain_roc: 0.9639, val_roc: 0.9474, train_auprc: 0.9551, val_auprc: 0.9395\n"
     ]
    },
    {
     "name": "stderr",
     "output_type": "stream",
     "text": [
      "/home/namle/.local/lib/python3.10/site-packages/torch_geometric/warnings.py:11: UserWarning: The usage of `scatter(reduce='max')` can be accelerated via the 'torch-scatter' package, but it was not found\n",
      "  warnings.warn(message)\n"
     ]
    },
    {
     "name": "stdout",
     "output_type": "stream",
     "text": [
      "Epoch: 169 (58.9820s), train_loss: 0.2351, val_loss: 0.3025, train_acc: 0.9092, val_acc:0.8830\n",
      "\t\ttrain_roc: 0.9629, val_roc: 0.9471, train_auprc: 0.9536, val_auprc: 0.9394\n"
     ]
    },
    {
     "name": "stderr",
     "output_type": "stream",
     "text": [
      "/home/namle/.local/lib/python3.10/site-packages/torch_geometric/warnings.py:11: UserWarning: The usage of `scatter(reduce='max')` can be accelerated via the 'torch-scatter' package, but it was not found\n",
      "  warnings.warn(message)\n"
     ]
    },
    {
     "name": "stdout",
     "output_type": "stream",
     "text": [
      "Epoch: 170 (59.0438s), train_loss: 0.2328, val_loss: 0.3034, train_acc: 0.9101, val_acc:0.8824\n",
      "\t\ttrain_roc: 0.9637, val_roc: 0.9469, train_auprc: 0.9549, val_auprc: 0.9387\n"
     ]
    },
    {
     "name": "stderr",
     "output_type": "stream",
     "text": [
      "/home/namle/.local/lib/python3.10/site-packages/torch_geometric/warnings.py:11: UserWarning: The usage of `scatter(reduce='max')` can be accelerated via the 'torch-scatter' package, but it was not found\n",
      "  warnings.warn(message)\n"
     ]
    },
    {
     "name": "stdout",
     "output_type": "stream",
     "text": [
      "Epoch: 171 (59.0208s), train_loss: 0.2356, val_loss: 0.3032, train_acc: 0.9092, val_acc:0.8827\n",
      "\t\ttrain_roc: 0.9627, val_roc: 0.9469, train_auprc: 0.9533, val_auprc: 0.9382\n"
     ]
    },
    {
     "name": "stderr",
     "output_type": "stream",
     "text": [
      "/home/namle/.local/lib/python3.10/site-packages/torch_geometric/warnings.py:11: UserWarning: The usage of `scatter(reduce='max')` can be accelerated via the 'torch-scatter' package, but it was not found\n",
      "  warnings.warn(message)\n"
     ]
    },
    {
     "name": "stdout",
     "output_type": "stream",
     "text": [
      "Epoch: 172 (59.0085s), train_loss: 0.2339, val_loss: 0.3008, train_acc: 0.9097, val_acc:0.8839\n",
      "\t\ttrain_roc: 0.9634, val_roc: 0.9476, train_auprc: 0.9545, val_auprc: 0.9394\n"
     ]
    },
    {
     "name": "stderr",
     "output_type": "stream",
     "text": [
      "/home/namle/.local/lib/python3.10/site-packages/torch_geometric/warnings.py:11: UserWarning: The usage of `scatter(reduce='max')` can be accelerated via the 'torch-scatter' package, but it was not found\n",
      "  warnings.warn(message)\n"
     ]
    },
    {
     "name": "stdout",
     "output_type": "stream",
     "text": [
      "Epoch: 173 (58.9114s), train_loss: 0.2336, val_loss: 0.3014, train_acc: 0.9095, val_acc:0.8834\n",
      "\t\ttrain_roc: 0.9635, val_roc: 0.9476, train_auprc: 0.9546, val_auprc: 0.9394\n"
     ]
    },
    {
     "name": "stderr",
     "output_type": "stream",
     "text": [
      "/home/namle/.local/lib/python3.10/site-packages/torch_geometric/warnings.py:11: UserWarning: The usage of `scatter(reduce='max')` can be accelerated via the 'torch-scatter' package, but it was not found\n",
      "  warnings.warn(message)\n"
     ]
    },
    {
     "name": "stdout",
     "output_type": "stream",
     "text": [
      "Saving model\n",
      "Epoch: 174 (58.8769s), train_loss: 0.2351, val_loss: 0.2990, train_acc: 0.9092, val_acc:0.8845\n",
      "\t\ttrain_roc: 0.9629, val_roc: 0.9485, train_auprc: 0.9534, val_auprc: 0.9411\n"
     ]
    },
    {
     "name": "stderr",
     "output_type": "stream",
     "text": [
      "/home/namle/.local/lib/python3.10/site-packages/torch_geometric/warnings.py:11: UserWarning: The usage of `scatter(reduce='max')` can be accelerated via the 'torch-scatter' package, but it was not found\n",
      "  warnings.warn(message)\n"
     ]
    },
    {
     "name": "stdout",
     "output_type": "stream",
     "text": [
      "Epoch: 175 (58.9302s), train_loss: 0.2336, val_loss: 0.3000, train_acc: 0.9097, val_acc:0.8842\n",
      "\t\ttrain_roc: 0.9633, val_roc: 0.9481, train_auprc: 0.9541, val_auprc: 0.9406\n"
     ]
    },
    {
     "name": "stderr",
     "output_type": "stream",
     "text": [
      "/home/namle/.local/lib/python3.10/site-packages/torch_geometric/warnings.py:11: UserWarning: The usage of `scatter(reduce='max')` can be accelerated via the 'torch-scatter' package, but it was not found\n",
      "  warnings.warn(message)\n"
     ]
    },
    {
     "name": "stdout",
     "output_type": "stream",
     "text": [
      "Epoch: 176 (58.9105s), train_loss: 0.2331, val_loss: 0.3038, train_acc: 0.9097, val_acc:0.8815\n",
      "\t\ttrain_roc: 0.9636, val_roc: 0.9467, train_auprc: 0.9548, val_auprc: 0.9386\n"
     ]
    },
    {
     "name": "stderr",
     "output_type": "stream",
     "text": [
      "/home/namle/.local/lib/python3.10/site-packages/torch_geometric/warnings.py:11: UserWarning: The usage of `scatter(reduce='max')` can be accelerated via the 'torch-scatter' package, but it was not found\n",
      "  warnings.warn(message)\n"
     ]
    },
    {
     "name": "stdout",
     "output_type": "stream",
     "text": [
      "Epoch: 177 (58.8250s), train_loss: 0.2321, val_loss: 0.3010, train_acc: 0.9109, val_acc:0.8834\n",
      "\t\ttrain_roc: 0.9638, val_roc: 0.9477, train_auprc: 0.9550, val_auprc: 0.9399\n"
     ]
    },
    {
     "name": "stderr",
     "output_type": "stream",
     "text": [
      "/home/namle/.local/lib/python3.10/site-packages/torch_geometric/warnings.py:11: UserWarning: The usage of `scatter(reduce='max')` can be accelerated via the 'torch-scatter' package, but it was not found\n",
      "  warnings.warn(message)\n"
     ]
    },
    {
     "name": "stdout",
     "output_type": "stream",
     "text": [
      "Epoch: 178 (58.9311s), train_loss: 0.2335, val_loss: 0.3030, train_acc: 0.9100, val_acc:0.8820\n",
      "\t\ttrain_roc: 0.9635, val_roc: 0.9471, train_auprc: 0.9544, val_auprc: 0.9392\n"
     ]
    },
    {
     "name": "stderr",
     "output_type": "stream",
     "text": [
      "/home/namle/.local/lib/python3.10/site-packages/torch_geometric/warnings.py:11: UserWarning: The usage of `scatter(reduce='max')` can be accelerated via the 'torch-scatter' package, but it was not found\n",
      "  warnings.warn(message)\n"
     ]
    },
    {
     "name": "stdout",
     "output_type": "stream",
     "text": [
      "Epoch: 179 (59.0359s), train_loss: 0.2333, val_loss: 0.3026, train_acc: 0.9101, val_acc:0.8825\n",
      "\t\ttrain_roc: 0.9635, val_roc: 0.9471, train_auprc: 0.9543, val_auprc: 0.9389\n"
     ]
    },
    {
     "name": "stderr",
     "output_type": "stream",
     "text": [
      "/home/namle/.local/lib/python3.10/site-packages/torch_geometric/warnings.py:11: UserWarning: The usage of `scatter(reduce='max')` can be accelerated via the 'torch-scatter' package, but it was not found\n",
      "  warnings.warn(message)\n"
     ]
    },
    {
     "name": "stdout",
     "output_type": "stream",
     "text": [
      "Epoch: 180 (58.9765s), train_loss: 0.2339, val_loss: 0.3024, train_acc: 0.9099, val_acc:0.8833\n",
      "\t\ttrain_roc: 0.9633, val_roc: 0.9472, train_auprc: 0.9539, val_auprc: 0.9389\n"
     ]
    },
    {
     "name": "stderr",
     "output_type": "stream",
     "text": [
      "/home/namle/.local/lib/python3.10/site-packages/torch_geometric/warnings.py:11: UserWarning: The usage of `scatter(reduce='max')` can be accelerated via the 'torch-scatter' package, but it was not found\n",
      "  warnings.warn(message)\n"
     ]
    },
    {
     "name": "stdout",
     "output_type": "stream",
     "text": [
      "Saving model\n",
      "Epoch: 181 (58.9642s), train_loss: 0.2342, val_loss: 0.2989, train_acc: 0.9098, val_acc:0.8847\n",
      "\t\ttrain_roc: 0.9631, val_roc: 0.9488, train_auprc: 0.9537, val_auprc: 0.9413\n"
     ]
    },
    {
     "name": "stderr",
     "output_type": "stream",
     "text": [
      "/home/namle/.local/lib/python3.10/site-packages/torch_geometric/warnings.py:11: UserWarning: The usage of `scatter(reduce='max')` can be accelerated via the 'torch-scatter' package, but it was not found\n",
      "  warnings.warn(message)\n"
     ]
    },
    {
     "name": "stdout",
     "output_type": "stream",
     "text": [
      "Epoch: 182 (58.7273s), train_loss: 0.2332, val_loss: 0.3042, train_acc: 0.9101, val_acc:0.8822\n",
      "\t\ttrain_roc: 0.9633, val_roc: 0.9465, train_auprc: 0.9542, val_auprc: 0.9380\n"
     ]
    },
    {
     "name": "stderr",
     "output_type": "stream",
     "text": [
      "/home/namle/.local/lib/python3.10/site-packages/torch_geometric/warnings.py:11: UserWarning: The usage of `scatter(reduce='max')` can be accelerated via the 'torch-scatter' package, but it was not found\n",
      "  warnings.warn(message)\n"
     ]
    },
    {
     "name": "stdout",
     "output_type": "stream",
     "text": [
      "Epoch: 183 (58.9507s), train_loss: 0.2334, val_loss: 0.3037, train_acc: 0.9102, val_acc:0.8831\n",
      "\t\ttrain_roc: 0.9634, val_roc: 0.9467, train_auprc: 0.9542, val_auprc: 0.9378\n"
     ]
    },
    {
     "name": "stderr",
     "output_type": "stream",
     "text": [
      "/home/namle/.local/lib/python3.10/site-packages/torch_geometric/warnings.py:11: UserWarning: The usage of `scatter(reduce='max')` can be accelerated via the 'torch-scatter' package, but it was not found\n",
      "  warnings.warn(message)\n"
     ]
    },
    {
     "name": "stdout",
     "output_type": "stream",
     "text": [
      "Epoch: 184 (58.8076s), train_loss: 0.2348, val_loss: 0.3002, train_acc: 0.9096, val_acc:0.8848\n",
      "\t\ttrain_roc: 0.9629, val_roc: 0.9481, train_auprc: 0.9536, val_auprc: 0.9399\n"
     ]
    },
    {
     "name": "stderr",
     "output_type": "stream",
     "text": [
      "/home/namle/.local/lib/python3.10/site-packages/torch_geometric/warnings.py:11: UserWarning: The usage of `scatter(reduce='max')` can be accelerated via the 'torch-scatter' package, but it was not found\n",
      "  warnings.warn(message)\n"
     ]
    },
    {
     "name": "stdout",
     "output_type": "stream",
     "text": [
      "Epoch: 185 (58.8653s), train_loss: 0.2343, val_loss: 0.3036, train_acc: 0.9097, val_acc:0.8827\n",
      "\t\ttrain_roc: 0.9631, val_roc: 0.9467, train_auprc: 0.9539, val_auprc: 0.9387\n"
     ]
    },
    {
     "name": "stderr",
     "output_type": "stream",
     "text": [
      "/home/namle/.local/lib/python3.10/site-packages/torch_geometric/warnings.py:11: UserWarning: The usage of `scatter(reduce='max')` can be accelerated via the 'torch-scatter' package, but it was not found\n",
      "  warnings.warn(message)\n"
     ]
    },
    {
     "name": "stdout",
     "output_type": "stream",
     "text": [
      "Epoch: 186 (58.8230s), train_loss: 0.2333, val_loss: 0.3022, train_acc: 0.9098, val_acc:0.8839\n",
      "\t\ttrain_roc: 0.9635, val_roc: 0.9473, train_auprc: 0.9544, val_auprc: 0.9387\n"
     ]
    },
    {
     "name": "stderr",
     "output_type": "stream",
     "text": [
      "/home/namle/.local/lib/python3.10/site-packages/torch_geometric/warnings.py:11: UserWarning: The usage of `scatter(reduce='max')` can be accelerated via the 'torch-scatter' package, but it was not found\n",
      "  warnings.warn(message)\n"
     ]
    },
    {
     "name": "stdout",
     "output_type": "stream",
     "text": [
      "Epoch: 187 (58.8531s), train_loss: 0.2334, val_loss: 0.3039, train_acc: 0.9101, val_acc:0.8829\n",
      "\t\ttrain_roc: 0.9634, val_roc: 0.9467, train_auprc: 0.9544, val_auprc: 0.9382\n"
     ]
    },
    {
     "name": "stderr",
     "output_type": "stream",
     "text": [
      "/home/namle/.local/lib/python3.10/site-packages/torch_geometric/warnings.py:11: UserWarning: The usage of `scatter(reduce='max')` can be accelerated via the 'torch-scatter' package, but it was not found\n",
      "  warnings.warn(message)\n"
     ]
    },
    {
     "name": "stdout",
     "output_type": "stream",
     "text": [
      "Epoch: 188 (58.8278s), train_loss: 0.2321, val_loss: 0.3020, train_acc: 0.9106, val_acc:0.8840\n",
      "\t\ttrain_roc: 0.9640, val_roc: 0.9472, train_auprc: 0.9551, val_auprc: 0.9389\n"
     ]
    },
    {
     "name": "stderr",
     "output_type": "stream",
     "text": [
      "/home/namle/.local/lib/python3.10/site-packages/torch_geometric/warnings.py:11: UserWarning: The usage of `scatter(reduce='max')` can be accelerated via the 'torch-scatter' package, but it was not found\n",
      "  warnings.warn(message)\n"
     ]
    },
    {
     "name": "stdout",
     "output_type": "stream",
     "text": [
      "Epoch: 189 (58.8675s), train_loss: 0.2349, val_loss: 0.3031, train_acc: 0.9095, val_acc:0.8830\n",
      "\t\ttrain_roc: 0.9630, val_roc: 0.9470, train_auprc: 0.9534, val_auprc: 0.9390\n"
     ]
    },
    {
     "name": "stderr",
     "output_type": "stream",
     "text": [
      "/home/namle/.local/lib/python3.10/site-packages/torch_geometric/warnings.py:11: UserWarning: The usage of `scatter(reduce='max')` can be accelerated via the 'torch-scatter' package, but it was not found\n",
      "  warnings.warn(message)\n"
     ]
    },
    {
     "name": "stdout",
     "output_type": "stream",
     "text": [
      "Epoch: 190 (58.8684s), train_loss: 0.2328, val_loss: 0.3005, train_acc: 0.9102, val_acc:0.8839\n",
      "\t\ttrain_roc: 0.9637, val_roc: 0.9481, train_auprc: 0.9549, val_auprc: 0.9399\n"
     ]
    },
    {
     "name": "stderr",
     "output_type": "stream",
     "text": [
      "/home/namle/.local/lib/python3.10/site-packages/torch_geometric/warnings.py:11: UserWarning: The usage of `scatter(reduce='max')` can be accelerated via the 'torch-scatter' package, but it was not found\n",
      "  warnings.warn(message)\n"
     ]
    },
    {
     "name": "stdout",
     "output_type": "stream",
     "text": [
      "Epoch: 191 (59.0372s), train_loss: 0.2354, val_loss: 0.3045, train_acc: 0.9093, val_acc:0.8823\n",
      "\t\ttrain_roc: 0.9628, val_roc: 0.9466, train_auprc: 0.9531, val_auprc: 0.9384\n"
     ]
    },
    {
     "name": "stderr",
     "output_type": "stream",
     "text": [
      "/home/namle/.local/lib/python3.10/site-packages/torch_geometric/warnings.py:11: UserWarning: The usage of `scatter(reduce='max')` can be accelerated via the 'torch-scatter' package, but it was not found\n",
      "  warnings.warn(message)\n"
     ]
    },
    {
     "name": "stdout",
     "output_type": "stream",
     "text": [
      "Epoch: 192 (58.8452s), train_loss: 0.2338, val_loss: 0.3008, train_acc: 0.9105, val_acc:0.8840\n",
      "\t\ttrain_roc: 0.9632, val_roc: 0.9478, train_auprc: 0.9539, val_auprc: 0.9395\n"
     ]
    },
    {
     "name": "stderr",
     "output_type": "stream",
     "text": [
      "/home/namle/.local/lib/python3.10/site-packages/torch_geometric/warnings.py:11: UserWarning: The usage of `scatter(reduce='max')` can be accelerated via the 'torch-scatter' package, but it was not found\n",
      "  warnings.warn(message)\n"
     ]
    },
    {
     "name": "stdout",
     "output_type": "stream",
     "text": [
      "Epoch: 193 (58.9981s), train_loss: 0.2353, val_loss: 0.3038, train_acc: 0.9094, val_acc:0.8826\n",
      "\t\ttrain_roc: 0.9627, val_roc: 0.9467, train_auprc: 0.9530, val_auprc: 0.9381\n"
     ]
    },
    {
     "name": "stderr",
     "output_type": "stream",
     "text": [
      "/home/namle/.local/lib/python3.10/site-packages/torch_geometric/warnings.py:11: UserWarning: The usage of `scatter(reduce='max')` can be accelerated via the 'torch-scatter' package, but it was not found\n",
      "  warnings.warn(message)\n"
     ]
    },
    {
     "name": "stdout",
     "output_type": "stream",
     "text": [
      "Epoch: 194 (59.1001s), train_loss: 0.2319, val_loss: 0.3026, train_acc: 0.9109, val_acc:0.8822\n",
      "\t\ttrain_roc: 0.9639, val_roc: 0.9470, train_auprc: 0.9549, val_auprc: 0.9389\n"
     ]
    },
    {
     "name": "stderr",
     "output_type": "stream",
     "text": [
      "/home/namle/.local/lib/python3.10/site-packages/torch_geometric/warnings.py:11: UserWarning: The usage of `scatter(reduce='max')` can be accelerated via the 'torch-scatter' package, but it was not found\n",
      "  warnings.warn(message)\n"
     ]
    },
    {
     "name": "stdout",
     "output_type": "stream",
     "text": [
      "Epoch: 195 (58.9760s), train_loss: 0.2342, val_loss: 0.3050, train_acc: 0.9093, val_acc:0.8815\n",
      "\t\ttrain_roc: 0.9632, val_roc: 0.9462, train_auprc: 0.9542, val_auprc: 0.9379\n"
     ]
    },
    {
     "name": "stderr",
     "output_type": "stream",
     "text": [
      "/home/namle/.local/lib/python3.10/site-packages/torch_geometric/warnings.py:11: UserWarning: The usage of `scatter(reduce='max')` can be accelerated via the 'torch-scatter' package, but it was not found\n",
      "  warnings.warn(message)\n"
     ]
    },
    {
     "name": "stdout",
     "output_type": "stream",
     "text": [
      "Epoch: 196 (58.9213s), train_loss: 0.2340, val_loss: 0.3022, train_acc: 0.9103, val_acc:0.8831\n",
      "\t\ttrain_roc: 0.9631, val_roc: 0.9473, train_auprc: 0.9539, val_auprc: 0.9394\n"
     ]
    },
    {
     "name": "stderr",
     "output_type": "stream",
     "text": [
      "/home/namle/.local/lib/python3.10/site-packages/torch_geometric/warnings.py:11: UserWarning: The usage of `scatter(reduce='max')` can be accelerated via the 'torch-scatter' package, but it was not found\n",
      "  warnings.warn(message)\n"
     ]
    },
    {
     "name": "stdout",
     "output_type": "stream",
     "text": [
      "Epoch: 197 (58.9255s), train_loss: 0.2320, val_loss: 0.3030, train_acc: 0.9106, val_acc:0.8834\n",
      "\t\ttrain_roc: 0.9639, val_roc: 0.9469, train_auprc: 0.9552, val_auprc: 0.9382\n"
     ]
    },
    {
     "name": "stderr",
     "output_type": "stream",
     "text": [
      "/home/namle/.local/lib/python3.10/site-packages/torch_geometric/warnings.py:11: UserWarning: The usage of `scatter(reduce='max')` can be accelerated via the 'torch-scatter' package, but it was not found\n",
      "  warnings.warn(message)\n"
     ]
    },
    {
     "name": "stdout",
     "output_type": "stream",
     "text": [
      "Epoch: 198 (58.9745s), train_loss: 0.2341, val_loss: 0.3010, train_acc: 0.9101, val_acc:0.8837\n",
      "\t\ttrain_roc: 0.9632, val_roc: 0.9479, train_auprc: 0.9539, val_auprc: 0.9397\n"
     ]
    },
    {
     "name": "stderr",
     "output_type": "stream",
     "text": [
      "/home/namle/.local/lib/python3.10/site-packages/torch_geometric/warnings.py:11: UserWarning: The usage of `scatter(reduce='max')` can be accelerated via the 'torch-scatter' package, but it was not found\n",
      "  warnings.warn(message)\n"
     ]
    },
    {
     "name": "stdout",
     "output_type": "stream",
     "text": [
      "Epoch: 199 (58.8476s), train_loss: 0.2326, val_loss: 0.3018, train_acc: 0.9104, val_acc:0.8834\n",
      "\t\ttrain_roc: 0.9637, val_roc: 0.9474, train_auprc: 0.9546, val_auprc: 0.9392\n"
     ]
    },
    {
     "name": "stderr",
     "output_type": "stream",
     "text": [
      "/home/namle/.local/lib/python3.10/site-packages/torch_geometric/warnings.py:11: UserWarning: The usage of `scatter(reduce='max')` can be accelerated via the 'torch-scatter' package, but it was not found\n",
      "  warnings.warn(message)\n"
     ]
    },
    {
     "name": "stdout",
     "output_type": "stream",
     "text": [
      "Epoch: 200 (58.8010s), train_loss: 0.2319, val_loss: 0.3022, train_acc: 0.9108, val_acc:0.8839\n",
      "\t\ttrain_roc: 0.9639, val_roc: 0.9474, train_auprc: 0.9552, val_auprc: 0.9390\n"
     ]
    },
    {
     "name": "stderr",
     "output_type": "stream",
     "text": [
      "/home/namle/.local/lib/python3.10/site-packages/torch_geometric/warnings.py:11: UserWarning: The usage of `scatter(reduce='max')` can be accelerated via the 'torch-scatter' package, but it was not found\n",
      "  warnings.warn(message)\n"
     ]
    },
    {
     "name": "stdout",
     "output_type": "stream",
     "text": [
      "Epoch: 201 (59.0499s), train_loss: 0.2351, val_loss: 0.3003, train_acc: 0.9093, val_acc:0.8852\n",
      "\t\ttrain_roc: 0.9628, val_roc: 0.9482, train_auprc: 0.9535, val_auprc: 0.9399\n"
     ]
    },
    {
     "name": "stderr",
     "output_type": "stream",
     "text": [
      "/home/namle/.local/lib/python3.10/site-packages/torch_geometric/warnings.py:11: UserWarning: The usage of `scatter(reduce='max')` can be accelerated via the 'torch-scatter' package, but it was not found\n",
      "  warnings.warn(message)\n"
     ]
    },
    {
     "name": "stdout",
     "output_type": "stream",
     "text": [
      "Epoch: 202 (62.0247s), train_loss: 0.2345, val_loss: 0.3028, train_acc: 0.9096, val_acc:0.8826\n",
      "\t\ttrain_roc: 0.9630, val_roc: 0.9473, train_auprc: 0.9538, val_auprc: 0.9388\n"
     ]
    },
    {
     "name": "stderr",
     "output_type": "stream",
     "text": [
      "/home/namle/.local/lib/python3.10/site-packages/torch_geometric/warnings.py:11: UserWarning: The usage of `scatter(reduce='max')` can be accelerated via the 'torch-scatter' package, but it was not found\n",
      "  warnings.warn(message)\n"
     ]
    },
    {
     "name": "stdout",
     "output_type": "stream",
     "text": [
      "Epoch: 203 (59.0610s), train_loss: 0.2344, val_loss: 0.3040, train_acc: 0.9095, val_acc:0.8833\n",
      "\t\ttrain_roc: 0.9631, val_roc: 0.9468, train_auprc: 0.9539, val_auprc: 0.9382\n"
     ]
    },
    {
     "name": "stderr",
     "output_type": "stream",
     "text": [
      "/home/namle/.local/lib/python3.10/site-packages/torch_geometric/warnings.py:11: UserWarning: The usage of `scatter(reduce='max')` can be accelerated via the 'torch-scatter' package, but it was not found\n",
      "  warnings.warn(message)\n"
     ]
    },
    {
     "name": "stdout",
     "output_type": "stream",
     "text": [
      "Epoch: 204 (58.8875s), train_loss: 0.2318, val_loss: 0.3014, train_acc: 0.9102, val_acc:0.8837\n",
      "\t\ttrain_roc: 0.9641, val_roc: 0.9478, train_auprc: 0.9554, val_auprc: 0.9398\n"
     ]
    },
    {
     "name": "stderr",
     "output_type": "stream",
     "text": [
      "/home/namle/.local/lib/python3.10/site-packages/torch_geometric/warnings.py:11: UserWarning: The usage of `scatter(reduce='max')` can be accelerated via the 'torch-scatter' package, but it was not found\n",
      "  warnings.warn(message)\n"
     ]
    },
    {
     "name": "stdout",
     "output_type": "stream",
     "text": [
      "Epoch: 205 (58.9770s), train_loss: 0.2339, val_loss: 0.2996, train_acc: 0.9100, val_acc:0.8850\n",
      "\t\ttrain_roc: 0.9631, val_roc: 0.9485, train_auprc: 0.9538, val_auprc: 0.9408\n"
     ]
    },
    {
     "name": "stderr",
     "output_type": "stream",
     "text": [
      "/home/namle/.local/lib/python3.10/site-packages/torch_geometric/warnings.py:11: UserWarning: The usage of `scatter(reduce='max')` can be accelerated via the 'torch-scatter' package, but it was not found\n",
      "  warnings.warn(message)\n"
     ]
    },
    {
     "name": "stdout",
     "output_type": "stream",
     "text": [
      "Epoch: 206 (59.1223s), train_loss: 0.2325, val_loss: 0.3021, train_acc: 0.9104, val_acc:0.8835\n",
      "\t\ttrain_roc: 0.9638, val_roc: 0.9474, train_auprc: 0.9546, val_auprc: 0.9395\n"
     ]
    },
    {
     "name": "stderr",
     "output_type": "stream",
     "text": [
      "/home/namle/.local/lib/python3.10/site-packages/torch_geometric/warnings.py:11: UserWarning: The usage of `scatter(reduce='max')` can be accelerated via the 'torch-scatter' package, but it was not found\n",
      "  warnings.warn(message)\n"
     ]
    },
    {
     "name": "stdout",
     "output_type": "stream",
     "text": [
      "Epoch: 207 (58.9079s), train_loss: 0.2319, val_loss: 0.3006, train_acc: 0.9108, val_acc:0.8839\n",
      "\t\ttrain_roc: 0.9640, val_roc: 0.9480, train_auprc: 0.9552, val_auprc: 0.9403\n"
     ]
    },
    {
     "name": "stderr",
     "output_type": "stream",
     "text": [
      "/home/namle/.local/lib/python3.10/site-packages/torch_geometric/warnings.py:11: UserWarning: The usage of `scatter(reduce='max')` can be accelerated via the 'torch-scatter' package, but it was not found\n",
      "  warnings.warn(message)\n"
     ]
    },
    {
     "name": "stdout",
     "output_type": "stream",
     "text": [
      "Epoch: 208 (59.0487s), train_loss: 0.2321, val_loss: 0.3026, train_acc: 0.9102, val_acc:0.8838\n",
      "\t\ttrain_roc: 0.9639, val_roc: 0.9473, train_auprc: 0.9550, val_auprc: 0.9387\n"
     ]
    },
    {
     "name": "stderr",
     "output_type": "stream",
     "text": [
      "/home/namle/.local/lib/python3.10/site-packages/torch_geometric/warnings.py:11: UserWarning: The usage of `scatter(reduce='max')` can be accelerated via the 'torch-scatter' package, but it was not found\n",
      "  warnings.warn(message)\n"
     ]
    },
    {
     "name": "stdout",
     "output_type": "stream",
     "text": [
      "Epoch: 209 (58.9570s), train_loss: 0.2350, val_loss: 0.3044, train_acc: 0.9096, val_acc:0.8833\n",
      "\t\ttrain_roc: 0.9629, val_roc: 0.9466, train_auprc: 0.9535, val_auprc: 0.9377\n"
     ]
    },
    {
     "name": "stderr",
     "output_type": "stream",
     "text": [
      "/home/namle/.local/lib/python3.10/site-packages/torch_geometric/warnings.py:11: UserWarning: The usage of `scatter(reduce='max')` can be accelerated via the 'torch-scatter' package, but it was not found\n",
      "  warnings.warn(message)\n"
     ]
    },
    {
     "name": "stdout",
     "output_type": "stream",
     "text": [
      "Epoch: 210 (59.0345s), train_loss: 0.2336, val_loss: 0.3037, train_acc: 0.9097, val_acc:0.8825\n",
      "\t\ttrain_roc: 0.9635, val_roc: 0.9469, train_auprc: 0.9544, val_auprc: 0.9383\n"
     ]
    },
    {
     "name": "stderr",
     "output_type": "stream",
     "text": [
      "/home/namle/.local/lib/python3.10/site-packages/torch_geometric/warnings.py:11: UserWarning: The usage of `scatter(reduce='max')` can be accelerated via the 'torch-scatter' package, but it was not found\n",
      "  warnings.warn(message)\n"
     ]
    },
    {
     "name": "stdout",
     "output_type": "stream",
     "text": [
      "Epoch: 211 (58.9837s), train_loss: 0.2337, val_loss: 0.3032, train_acc: 0.9094, val_acc:0.8833\n",
      "\t\ttrain_roc: 0.9634, val_roc: 0.9470, train_auprc: 0.9544, val_auprc: 0.9384\n"
     ]
    },
    {
     "name": "stderr",
     "output_type": "stream",
     "text": [
      "/home/namle/.local/lib/python3.10/site-packages/torch_geometric/warnings.py:11: UserWarning: The usage of `scatter(reduce='max')` can be accelerated via the 'torch-scatter' package, but it was not found\n",
      "  warnings.warn(message)\n"
     ]
    },
    {
     "name": "stdout",
     "output_type": "stream",
     "text": [
      "Epoch: 212 (59.0158s), train_loss: 0.2343, val_loss: 0.3030, train_acc: 0.9093, val_acc:0.8839\n",
      "\t\ttrain_roc: 0.9631, val_roc: 0.9471, train_auprc: 0.9539, val_auprc: 0.9383\n"
     ]
    },
    {
     "name": "stderr",
     "output_type": "stream",
     "text": [
      "/home/namle/.local/lib/python3.10/site-packages/torch_geometric/warnings.py:11: UserWarning: The usage of `scatter(reduce='max')` can be accelerated via the 'torch-scatter' package, but it was not found\n",
      "  warnings.warn(message)\n"
     ]
    },
    {
     "name": "stdout",
     "output_type": "stream",
     "text": [
      "Epoch: 213 (58.9018s), train_loss: 0.2330, val_loss: 0.3005, train_acc: 0.9101, val_acc:0.8848\n",
      "\t\ttrain_roc: 0.9635, val_roc: 0.9481, train_auprc: 0.9545, val_auprc: 0.9400\n"
     ]
    },
    {
     "name": "stderr",
     "output_type": "stream",
     "text": [
      "/home/namle/.local/lib/python3.10/site-packages/torch_geometric/warnings.py:11: UserWarning: The usage of `scatter(reduce='max')` can be accelerated via the 'torch-scatter' package, but it was not found\n",
      "  warnings.warn(message)\n"
     ]
    },
    {
     "name": "stdout",
     "output_type": "stream",
     "text": [
      "Epoch: 214 (60.7912s), train_loss: 0.2341, val_loss: 0.3046, train_acc: 0.9100, val_acc:0.8815\n",
      "\t\ttrain_roc: 0.9630, val_roc: 0.9464, train_auprc: 0.9538, val_auprc: 0.9385\n"
     ]
    },
    {
     "name": "stderr",
     "output_type": "stream",
     "text": [
      "/home/namle/.local/lib/python3.10/site-packages/torch_geometric/warnings.py:11: UserWarning: The usage of `scatter(reduce='max')` can be accelerated via the 'torch-scatter' package, but it was not found\n",
      "  warnings.warn(message)\n"
     ]
    },
    {
     "name": "stdout",
     "output_type": "stream",
     "text": [
      "Saving model\n",
      "Epoch: 215 (60.0379s), train_loss: 0.2335, val_loss: 0.2989, train_acc: 0.9107, val_acc:0.8845\n",
      "\t\ttrain_roc: 0.9632, val_roc: 0.9488, train_auprc: 0.9538, val_auprc: 0.9416\n"
     ]
    },
    {
     "name": "stderr",
     "output_type": "stream",
     "text": [
      "/home/namle/.local/lib/python3.10/site-packages/torch_geometric/warnings.py:11: UserWarning: The usage of `scatter(reduce='max')` can be accelerated via the 'torch-scatter' package, but it was not found\n",
      "  warnings.warn(message)\n"
     ]
    },
    {
     "name": "stdout",
     "output_type": "stream",
     "text": [
      "Epoch: 216 (58.7775s), train_loss: 0.2326, val_loss: 0.2995, train_acc: 0.9105, val_acc:0.8855\n",
      "\t\ttrain_roc: 0.9637, val_roc: 0.9486, train_auprc: 0.9545, val_auprc: 0.9404\n"
     ]
    },
    {
     "name": "stderr",
     "output_type": "stream",
     "text": [
      "/home/namle/.local/lib/python3.10/site-packages/torch_geometric/warnings.py:11: UserWarning: The usage of `scatter(reduce='max')` can be accelerated via the 'torch-scatter' package, but it was not found\n",
      "  warnings.warn(message)\n"
     ]
    },
    {
     "name": "stdout",
     "output_type": "stream",
     "text": [
      "Epoch: 217 (59.0293s), train_loss: 0.2333, val_loss: 0.3031, train_acc: 0.9103, val_acc:0.8830\n",
      "\t\ttrain_roc: 0.9633, val_roc: 0.9470, train_auprc: 0.9540, val_auprc: 0.9386\n"
     ]
    },
    {
     "name": "stderr",
     "output_type": "stream",
     "text": [
      "/home/namle/.local/lib/python3.10/site-packages/torch_geometric/warnings.py:11: UserWarning: The usage of `scatter(reduce='max')` can be accelerated via the 'torch-scatter' package, but it was not found\n",
      "  warnings.warn(message)\n"
     ]
    },
    {
     "name": "stdout",
     "output_type": "stream",
     "text": [
      "Epoch: 218 (58.9960s), train_loss: 0.2348, val_loss: 0.3035, train_acc: 0.9092, val_acc:0.8829\n",
      "\t\ttrain_roc: 0.9628, val_roc: 0.9469, train_auprc: 0.9535, val_auprc: 0.9384\n"
     ]
    },
    {
     "name": "stderr",
     "output_type": "stream",
     "text": [
      "/home/namle/.local/lib/python3.10/site-packages/torch_geometric/warnings.py:11: UserWarning: The usage of `scatter(reduce='max')` can be accelerated via the 'torch-scatter' package, but it was not found\n",
      "  warnings.warn(message)\n"
     ]
    },
    {
     "name": "stdout",
     "output_type": "stream",
     "text": [
      "Epoch: 219 (58.9461s), train_loss: 0.2324, val_loss: 0.3047, train_acc: 0.9102, val_acc:0.8825\n",
      "\t\ttrain_roc: 0.9636, val_roc: 0.9464, train_auprc: 0.9544, val_auprc: 0.9373\n"
     ]
    },
    {
     "name": "stderr",
     "output_type": "stream",
     "text": [
      "/home/namle/.local/lib/python3.10/site-packages/torch_geometric/warnings.py:11: UserWarning: The usage of `scatter(reduce='max')` can be accelerated via the 'torch-scatter' package, but it was not found\n",
      "  warnings.warn(message)\n"
     ]
    },
    {
     "name": "stdout",
     "output_type": "stream",
     "text": [
      "Epoch: 220 (58.9274s), train_loss: 0.2338, val_loss: 0.3032, train_acc: 0.9094, val_acc:0.8831\n",
      "\t\ttrain_roc: 0.9632, val_roc: 0.9470, train_auprc: 0.9540, val_auprc: 0.9383\n"
     ]
    },
    {
     "name": "stderr",
     "output_type": "stream",
     "text": [
      "/home/namle/.local/lib/python3.10/site-packages/torch_geometric/warnings.py:11: UserWarning: The usage of `scatter(reduce='max')` can be accelerated via the 'torch-scatter' package, but it was not found\n",
      "  warnings.warn(message)\n"
     ]
    },
    {
     "name": "stdout",
     "output_type": "stream",
     "text": [
      "Epoch: 221 (58.8998s), train_loss: 0.2338, val_loss: 0.3016, train_acc: 0.9098, val_acc:0.8835\n",
      "\t\ttrain_roc: 0.9633, val_roc: 0.9476, train_auprc: 0.9542, val_auprc: 0.9395\n"
     ]
    },
    {
     "name": "stderr",
     "output_type": "stream",
     "text": [
      "/home/namle/.local/lib/python3.10/site-packages/torch_geometric/warnings.py:11: UserWarning: The usage of `scatter(reduce='max')` can be accelerated via the 'torch-scatter' package, but it was not found\n",
      "  warnings.warn(message)\n"
     ]
    },
    {
     "name": "stdout",
     "output_type": "stream",
     "text": [
      "Epoch: 222 (58.8305s), train_loss: 0.2330, val_loss: 0.3005, train_acc: 0.9097, val_acc:0.8844\n",
      "\t\ttrain_roc: 0.9635, val_roc: 0.9482, train_auprc: 0.9543, val_auprc: 0.9402\n"
     ]
    },
    {
     "name": "stderr",
     "output_type": "stream",
     "text": [
      "/home/namle/.local/lib/python3.10/site-packages/torch_geometric/warnings.py:11: UserWarning: The usage of `scatter(reduce='max')` can be accelerated via the 'torch-scatter' package, but it was not found\n",
      "  warnings.warn(message)\n"
     ]
    },
    {
     "name": "stdout",
     "output_type": "stream",
     "text": [
      "Epoch: 223 (59.0411s), train_loss: 0.2319, val_loss: 0.3039, train_acc: 0.9110, val_acc:0.8826\n",
      "\t\ttrain_roc: 0.9639, val_roc: 0.9468, train_auprc: 0.9550, val_auprc: 0.9386\n"
     ]
    },
    {
     "name": "stderr",
     "output_type": "stream",
     "text": [
      "/home/namle/.local/lib/python3.10/site-packages/torch_geometric/warnings.py:11: UserWarning: The usage of `scatter(reduce='max')` can be accelerated via the 'torch-scatter' package, but it was not found\n",
      "  warnings.warn(message)\n"
     ]
    },
    {
     "name": "stdout",
     "output_type": "stream",
     "text": [
      "Epoch: 224 (59.1869s), train_loss: 0.2340, val_loss: 0.3004, train_acc: 0.9103, val_acc:0.8836\n",
      "\t\ttrain_roc: 0.9630, val_roc: 0.9482, train_auprc: 0.9535, val_auprc: 0.9405\n"
     ]
    },
    {
     "name": "stderr",
     "output_type": "stream",
     "text": [
      "/home/namle/.local/lib/python3.10/site-packages/torch_geometric/warnings.py:11: UserWarning: The usage of `scatter(reduce='max')` can be accelerated via the 'torch-scatter' package, but it was not found\n",
      "  warnings.warn(message)\n"
     ]
    },
    {
     "name": "stdout",
     "output_type": "stream",
     "text": [
      "Epoch: 225 (58.9094s), train_loss: 0.2334, val_loss: 0.3009, train_acc: 0.9101, val_acc:0.8840\n",
      "\t\ttrain_roc: 0.9635, val_roc: 0.9482, train_auprc: 0.9543, val_auprc: 0.9403\n"
     ]
    },
    {
     "name": "stderr",
     "output_type": "stream",
     "text": [
      "/home/namle/.local/lib/python3.10/site-packages/torch_geometric/warnings.py:11: UserWarning: The usage of `scatter(reduce='max')` can be accelerated via the 'torch-scatter' package, but it was not found\n",
      "  warnings.warn(message)\n"
     ]
    },
    {
     "name": "stdout",
     "output_type": "stream",
     "text": [
      "Epoch: 226 (58.7436s), train_loss: 0.2338, val_loss: 0.3043, train_acc: 0.9095, val_acc:0.8820\n",
      "\t\ttrain_roc: 0.9632, val_roc: 0.9466, train_auprc: 0.9543, val_auprc: 0.9384\n"
     ]
    },
    {
     "name": "stderr",
     "output_type": "stream",
     "text": [
      "/home/namle/.local/lib/python3.10/site-packages/torch_geometric/warnings.py:11: UserWarning: The usage of `scatter(reduce='max')` can be accelerated via the 'torch-scatter' package, but it was not found\n",
      "  warnings.warn(message)\n"
     ]
    },
    {
     "name": "stdout",
     "output_type": "stream",
     "text": [
      "Epoch: 227 (59.0824s), train_loss: 0.2320, val_loss: 0.3010, train_acc: 0.9109, val_acc:0.8843\n",
      "\t\ttrain_roc: 0.9639, val_roc: 0.9479, train_auprc: 0.9550, val_auprc: 0.9395\n"
     ]
    },
    {
     "name": "stderr",
     "output_type": "stream",
     "text": [
      "/home/namle/.local/lib/python3.10/site-packages/torch_geometric/warnings.py:11: UserWarning: The usage of `scatter(reduce='max')` can be accelerated via the 'torch-scatter' package, but it was not found\n",
      "  warnings.warn(message)\n"
     ]
    },
    {
     "name": "stdout",
     "output_type": "stream",
     "text": [
      "Epoch: 228 (58.9359s), train_loss: 0.2339, val_loss: 0.3031, train_acc: 0.9102, val_acc:0.8829\n",
      "\t\ttrain_roc: 0.9632, val_roc: 0.9472, train_auprc: 0.9538, val_auprc: 0.9387\n"
     ]
    },
    {
     "name": "stderr",
     "output_type": "stream",
     "text": [
      "/home/namle/.local/lib/python3.10/site-packages/torch_geometric/warnings.py:11: UserWarning: The usage of `scatter(reduce='max')` can be accelerated via the 'torch-scatter' package, but it was not found\n",
      "  warnings.warn(message)\n"
     ]
    },
    {
     "name": "stdout",
     "output_type": "stream",
     "text": [
      "Epoch: 229 (58.8476s), train_loss: 0.2324, val_loss: 0.3030, train_acc: 0.9108, val_acc:0.8838\n",
      "\t\ttrain_roc: 0.9637, val_roc: 0.9471, train_auprc: 0.9545, val_auprc: 0.9386\n"
     ]
    },
    {
     "name": "stderr",
     "output_type": "stream",
     "text": [
      "/home/namle/.local/lib/python3.10/site-packages/torch_geometric/warnings.py:11: UserWarning: The usage of `scatter(reduce='max')` can be accelerated via the 'torch-scatter' package, but it was not found\n",
      "  warnings.warn(message)\n"
     ]
    },
    {
     "name": "stdout",
     "output_type": "stream",
     "text": [
      "Epoch: 230 (58.8380s), train_loss: 0.2331, val_loss: 0.3050, train_acc: 0.9102, val_acc:0.8819\n",
      "\t\ttrain_roc: 0.9635, val_roc: 0.9462, train_auprc: 0.9544, val_auprc: 0.9378\n"
     ]
    },
    {
     "name": "stderr",
     "output_type": "stream",
     "text": [
      "/home/namle/.local/lib/python3.10/site-packages/torch_geometric/warnings.py:11: UserWarning: The usage of `scatter(reduce='max')` can be accelerated via the 'torch-scatter' package, but it was not found\n",
      "  warnings.warn(message)\n"
     ]
    },
    {
     "name": "stdout",
     "output_type": "stream",
     "text": [
      "Epoch: 231 (58.8528s), train_loss: 0.2341, val_loss: 0.3017, train_acc: 0.9100, val_acc:0.8835\n",
      "\t\ttrain_roc: 0.9631, val_roc: 0.9475, train_auprc: 0.9539, val_auprc: 0.9399\n"
     ]
    },
    {
     "name": "stderr",
     "output_type": "stream",
     "text": [
      "/home/namle/.local/lib/python3.10/site-packages/torch_geometric/warnings.py:11: UserWarning: The usage of `scatter(reduce='max')` can be accelerated via the 'torch-scatter' package, but it was not found\n",
      "  warnings.warn(message)\n"
     ]
    },
    {
     "name": "stdout",
     "output_type": "stream",
     "text": [
      "Epoch: 232 (58.8959s), train_loss: 0.2335, val_loss: 0.3012, train_acc: 0.9100, val_acc:0.8841\n",
      "\t\ttrain_roc: 0.9633, val_roc: 0.9477, train_auprc: 0.9542, val_auprc: 0.9394\n"
     ]
    },
    {
     "name": "stderr",
     "output_type": "stream",
     "text": [
      "/home/namle/.local/lib/python3.10/site-packages/torch_geometric/warnings.py:11: UserWarning: The usage of `scatter(reduce='max')` can be accelerated via the 'torch-scatter' package, but it was not found\n",
      "  warnings.warn(message)\n"
     ]
    },
    {
     "name": "stdout",
     "output_type": "stream",
     "text": [
      "Epoch: 233 (58.9887s), train_loss: 0.2328, val_loss: 0.3033, train_acc: 0.9102, val_acc:0.8831\n",
      "\t\ttrain_roc: 0.9636, val_roc: 0.9471, train_auprc: 0.9544, val_auprc: 0.9387\n"
     ]
    },
    {
     "name": "stderr",
     "output_type": "stream",
     "text": [
      "/home/namle/.local/lib/python3.10/site-packages/torch_geometric/warnings.py:11: UserWarning: The usage of `scatter(reduce='max')` can be accelerated via the 'torch-scatter' package, but it was not found\n",
      "  warnings.warn(message)\n"
     ]
    },
    {
     "name": "stdout",
     "output_type": "stream",
     "text": [
      "Epoch: 234 (58.8352s), train_loss: 0.2334, val_loss: 0.3036, train_acc: 0.9097, val_acc:0.8834\n",
      "\t\ttrain_roc: 0.9634, val_roc: 0.9469, train_auprc: 0.9544, val_auprc: 0.9383\n"
     ]
    },
    {
     "name": "stderr",
     "output_type": "stream",
     "text": [
      "/home/namle/.local/lib/python3.10/site-packages/torch_geometric/warnings.py:11: UserWarning: The usage of `scatter(reduce='max')` can be accelerated via the 'torch-scatter' package, but it was not found\n",
      "  warnings.warn(message)\n"
     ]
    },
    {
     "name": "stdout",
     "output_type": "stream",
     "text": [
      "Epoch: 235 (58.8418s), train_loss: 0.2340, val_loss: 0.3050, train_acc: 0.9103, val_acc:0.8825\n",
      "\t\ttrain_roc: 0.9631, val_roc: 0.9462, train_auprc: 0.9536, val_auprc: 0.9375\n"
     ]
    },
    {
     "name": "stderr",
     "output_type": "stream",
     "text": [
      "/home/namle/.local/lib/python3.10/site-packages/torch_geometric/warnings.py:11: UserWarning: The usage of `scatter(reduce='max')` can be accelerated via the 'torch-scatter' package, but it was not found\n",
      "  warnings.warn(message)\n"
     ]
    },
    {
     "name": "stdout",
     "output_type": "stream",
     "text": [
      "Epoch: 236 (59.2315s), train_loss: 0.2328, val_loss: 0.3013, train_acc: 0.9103, val_acc:0.8842\n",
      "\t\ttrain_roc: 0.9637, val_roc: 0.9478, train_auprc: 0.9548, val_auprc: 0.9398\n"
     ]
    },
    {
     "name": "stderr",
     "output_type": "stream",
     "text": [
      "/home/namle/.local/lib/python3.10/site-packages/torch_geometric/warnings.py:11: UserWarning: The usage of `scatter(reduce='max')` can be accelerated via the 'torch-scatter' package, but it was not found\n",
      "  warnings.warn(message)\n"
     ]
    },
    {
     "name": "stdout",
     "output_type": "stream",
     "text": [
      "Epoch: 237 (58.7954s), train_loss: 0.2334, val_loss: 0.3040, train_acc: 0.9099, val_acc:0.8829\n",
      "\t\ttrain_roc: 0.9634, val_roc: 0.9468, train_auprc: 0.9545, val_auprc: 0.9382\n"
     ]
    },
    {
     "name": "stderr",
     "output_type": "stream",
     "text": [
      "/home/namle/.local/lib/python3.10/site-packages/torch_geometric/warnings.py:11: UserWarning: The usage of `scatter(reduce='max')` can be accelerated via the 'torch-scatter' package, but it was not found\n",
      "  warnings.warn(message)\n"
     ]
    },
    {
     "name": "stdout",
     "output_type": "stream",
     "text": [
      "Epoch: 238 (58.9181s), train_loss: 0.2333, val_loss: 0.3013, train_acc: 0.9097, val_acc:0.8833\n",
      "\t\ttrain_roc: 0.9635, val_roc: 0.9478, train_auprc: 0.9543, val_auprc: 0.9400\n"
     ]
    },
    {
     "name": "stderr",
     "output_type": "stream",
     "text": [
      "/home/namle/.local/lib/python3.10/site-packages/torch_geometric/warnings.py:11: UserWarning: The usage of `scatter(reduce='max')` can be accelerated via the 'torch-scatter' package, but it was not found\n",
      "  warnings.warn(message)\n"
     ]
    },
    {
     "name": "stdout",
     "output_type": "stream",
     "text": [
      "Epoch: 239 (58.8557s), train_loss: 0.2355, val_loss: 0.3020, train_acc: 0.9091, val_acc:0.8839\n",
      "\t\ttrain_roc: 0.9625, val_roc: 0.9474, train_auprc: 0.9532, val_auprc: 0.9397\n"
     ]
    },
    {
     "name": "stderr",
     "output_type": "stream",
     "text": [
      "/home/namle/.local/lib/python3.10/site-packages/torch_geometric/warnings.py:11: UserWarning: The usage of `scatter(reduce='max')` can be accelerated via the 'torch-scatter' package, but it was not found\n",
      "  warnings.warn(message)\n"
     ]
    },
    {
     "name": "stdout",
     "output_type": "stream",
     "text": [
      "Epoch: 240 (58.9024s), train_loss: 0.2334, val_loss: 0.3028, train_acc: 0.9101, val_acc:0.8831\n",
      "\t\ttrain_roc: 0.9634, val_roc: 0.9472, train_auprc: 0.9543, val_auprc: 0.9394\n"
     ]
    },
    {
     "name": "stderr",
     "output_type": "stream",
     "text": [
      "/home/namle/.local/lib/python3.10/site-packages/torch_geometric/warnings.py:11: UserWarning: The usage of `scatter(reduce='max')` can be accelerated via the 'torch-scatter' package, but it was not found\n",
      "  warnings.warn(message)\n"
     ]
    },
    {
     "name": "stdout",
     "output_type": "stream",
     "text": [
      "Epoch: 241 (58.8053s), train_loss: 0.2340, val_loss: 0.3003, train_acc: 0.9097, val_acc:0.8846\n",
      "\t\ttrain_roc: 0.9632, val_roc: 0.9483, train_auprc: 0.9540, val_auprc: 0.9400\n"
     ]
    },
    {
     "name": "stderr",
     "output_type": "stream",
     "text": [
      "/home/namle/.local/lib/python3.10/site-packages/torch_geometric/warnings.py:11: UserWarning: The usage of `scatter(reduce='max')` can be accelerated via the 'torch-scatter' package, but it was not found\n",
      "  warnings.warn(message)\n"
     ]
    },
    {
     "name": "stdout",
     "output_type": "stream",
     "text": [
      "Epoch: 242 (58.8962s), train_loss: 0.2331, val_loss: 0.3021, train_acc: 0.9102, val_acc:0.8839\n",
      "\t\ttrain_roc: 0.9636, val_roc: 0.9475, train_auprc: 0.9546, val_auprc: 0.9394\n"
     ]
    },
    {
     "name": "stderr",
     "output_type": "stream",
     "text": [
      "/home/namle/.local/lib/python3.10/site-packages/torch_geometric/warnings.py:11: UserWarning: The usage of `scatter(reduce='max')` can be accelerated via the 'torch-scatter' package, but it was not found\n",
      "  warnings.warn(message)\n"
     ]
    },
    {
     "name": "stdout",
     "output_type": "stream",
     "text": [
      "Epoch: 243 (58.8673s), train_loss: 0.2328, val_loss: 0.3024, train_acc: 0.9104, val_acc:0.8836\n",
      "\t\ttrain_roc: 0.9636, val_roc: 0.9473, train_auprc: 0.9548, val_auprc: 0.9392\n"
     ]
    },
    {
     "name": "stderr",
     "output_type": "stream",
     "text": [
      "/home/namle/.local/lib/python3.10/site-packages/torch_geometric/warnings.py:11: UserWarning: The usage of `scatter(reduce='max')` can be accelerated via the 'torch-scatter' package, but it was not found\n",
      "  warnings.warn(message)\n"
     ]
    },
    {
     "name": "stdout",
     "output_type": "stream",
     "text": [
      "Epoch: 244 (58.7656s), train_loss: 0.2327, val_loss: 0.3014, train_acc: 0.9104, val_acc:0.8835\n",
      "\t\ttrain_roc: 0.9636, val_roc: 0.9477, train_auprc: 0.9546, val_auprc: 0.9397\n"
     ]
    },
    {
     "name": "stderr",
     "output_type": "stream",
     "text": [
      "/home/namle/.local/lib/python3.10/site-packages/torch_geometric/warnings.py:11: UserWarning: The usage of `scatter(reduce='max')` can be accelerated via the 'torch-scatter' package, but it was not found\n",
      "  warnings.warn(message)\n"
     ]
    },
    {
     "name": "stdout",
     "output_type": "stream",
     "text": [
      "Epoch: 245 (58.8110s), train_loss: 0.2333, val_loss: 0.3017, train_acc: 0.9105, val_acc:0.8845\n",
      "\t\ttrain_roc: 0.9635, val_roc: 0.9477, train_auprc: 0.9541, val_auprc: 0.9393\n"
     ]
    },
    {
     "name": "stderr",
     "output_type": "stream",
     "text": [
      "/home/namle/.local/lib/python3.10/site-packages/torch_geometric/warnings.py:11: UserWarning: The usage of `scatter(reduce='max')` can be accelerated via the 'torch-scatter' package, but it was not found\n",
      "  warnings.warn(message)\n"
     ]
    },
    {
     "name": "stdout",
     "output_type": "stream",
     "text": [
      "Epoch: 246 (58.9772s), train_loss: 0.2327, val_loss: 0.3026, train_acc: 0.9103, val_acc:0.8832\n",
      "\t\ttrain_roc: 0.9636, val_roc: 0.9472, train_auprc: 0.9546, val_auprc: 0.9391\n"
     ]
    },
    {
     "name": "stderr",
     "output_type": "stream",
     "text": [
      "/home/namle/.local/lib/python3.10/site-packages/torch_geometric/warnings.py:11: UserWarning: The usage of `scatter(reduce='max')` can be accelerated via the 'torch-scatter' package, but it was not found\n",
      "  warnings.warn(message)\n"
     ]
    },
    {
     "name": "stdout",
     "output_type": "stream",
     "text": [
      "Epoch: 247 (58.8857s), train_loss: 0.2347, val_loss: 0.3034, train_acc: 0.9097, val_acc:0.8829\n",
      "\t\ttrain_roc: 0.9629, val_roc: 0.9470, train_auprc: 0.9534, val_auprc: 0.9384\n"
     ]
    },
    {
     "name": "stderr",
     "output_type": "stream",
     "text": [
      "/home/namle/.local/lib/python3.10/site-packages/torch_geometric/warnings.py:11: UserWarning: The usage of `scatter(reduce='max')` can be accelerated via the 'torch-scatter' package, but it was not found\n",
      "  warnings.warn(message)\n"
     ]
    },
    {
     "name": "stdout",
     "output_type": "stream",
     "text": [
      "Epoch: 248 (59.0340s), train_loss: 0.2332, val_loss: 0.3035, train_acc: 0.9096, val_acc:0.8833\n",
      "\t\ttrain_roc: 0.9633, val_roc: 0.9470, train_auprc: 0.9543, val_auprc: 0.9378\n"
     ]
    },
    {
     "name": "stderr",
     "output_type": "stream",
     "text": [
      "/home/namle/.local/lib/python3.10/site-packages/torch_geometric/warnings.py:11: UserWarning: The usage of `scatter(reduce='max')` can be accelerated via the 'torch-scatter' package, but it was not found\n",
      "  warnings.warn(message)\n"
     ]
    },
    {
     "name": "stdout",
     "output_type": "stream",
     "text": [
      "Epoch: 249 (58.9304s), train_loss: 0.2338, val_loss: 0.3046, train_acc: 0.9096, val_acc:0.8823\n",
      "\t\ttrain_roc: 0.9632, val_roc: 0.9466, train_auprc: 0.9542, val_auprc: 0.9383\n"
     ]
    },
    {
     "name": "stderr",
     "output_type": "stream",
     "text": [
      "/home/namle/.local/lib/python3.10/site-packages/torch_geometric/warnings.py:11: UserWarning: The usage of `scatter(reduce='max')` can be accelerated via the 'torch-scatter' package, but it was not found\n",
      "  warnings.warn(message)\n"
     ]
    },
    {
     "name": "stdout",
     "output_type": "stream",
     "text": [
      "Epoch: 250 (58.7382s), train_loss: 0.2330, val_loss: 0.3002, train_acc: 0.9104, val_acc:0.8840\n",
      "\t\ttrain_roc: 0.9636, val_roc: 0.9481, train_auprc: 0.9546, val_auprc: 0.9404\n"
     ]
    },
    {
     "name": "stderr",
     "output_type": "stream",
     "text": [
      "/home/namle/.local/lib/python3.10/site-packages/torch_geometric/warnings.py:11: UserWarning: The usage of `scatter(reduce='max')` can be accelerated via the 'torch-scatter' package, but it was not found\n",
      "  warnings.warn(message)\n"
     ]
    },
    {
     "name": "stdout",
     "output_type": "stream",
     "text": [
      "Epoch: 251 (58.8308s), train_loss: 0.2338, val_loss: 0.3027, train_acc: 0.9100, val_acc:0.8830\n",
      "\t\ttrain_roc: 0.9632, val_roc: 0.9472, train_auprc: 0.9540, val_auprc: 0.9393\n"
     ]
    },
    {
     "name": "stderr",
     "output_type": "stream",
     "text": [
      "/home/namle/.local/lib/python3.10/site-packages/torch_geometric/warnings.py:11: UserWarning: The usage of `scatter(reduce='max')` can be accelerated via the 'torch-scatter' package, but it was not found\n",
      "  warnings.warn(message)\n"
     ]
    },
    {
     "name": "stdout",
     "output_type": "stream",
     "text": [
      "Epoch: 252 (59.2013s), train_loss: 0.2323, val_loss: 0.2989, train_acc: 0.9106, val_acc:0.8848\n",
      "\t\ttrain_roc: 0.9637, val_roc: 0.9486, train_auprc: 0.9548, val_auprc: 0.9412\n"
     ]
    },
    {
     "name": "stderr",
     "output_type": "stream",
     "text": [
      "/home/namle/.local/lib/python3.10/site-packages/torch_geometric/warnings.py:11: UserWarning: The usage of `scatter(reduce='max')` can be accelerated via the 'torch-scatter' package, but it was not found\n",
      "  warnings.warn(message)\n"
     ]
    },
    {
     "name": "stdout",
     "output_type": "stream",
     "text": [
      "Epoch: 253 (58.9159s), train_loss: 0.2326, val_loss: 0.3023, train_acc: 0.9105, val_acc:0.8834\n",
      "\t\ttrain_roc: 0.9636, val_roc: 0.9473, train_auprc: 0.9545, val_auprc: 0.9393\n"
     ]
    },
    {
     "name": "stderr",
     "output_type": "stream",
     "text": [
      "/home/namle/.local/lib/python3.10/site-packages/torch_geometric/warnings.py:11: UserWarning: The usage of `scatter(reduce='max')` can be accelerated via the 'torch-scatter' package, but it was not found\n",
      "  warnings.warn(message)\n"
     ]
    },
    {
     "name": "stdout",
     "output_type": "stream",
     "text": [
      "Epoch: 254 (58.9144s), train_loss: 0.2328, val_loss: 0.3032, train_acc: 0.9100, val_acc:0.8834\n",
      "\t\ttrain_roc: 0.9637, val_roc: 0.9472, train_auprc: 0.9544, val_auprc: 0.9387\n"
     ]
    },
    {
     "name": "stderr",
     "output_type": "stream",
     "text": [
      "/home/namle/.local/lib/python3.10/site-packages/torch_geometric/warnings.py:11: UserWarning: The usage of `scatter(reduce='max')` can be accelerated via the 'torch-scatter' package, but it was not found\n",
      "  warnings.warn(message)\n"
     ]
    },
    {
     "name": "stdout",
     "output_type": "stream",
     "text": [
      "Epoch: 255 (58.8677s), train_loss: 0.2348, val_loss: 0.3015, train_acc: 0.9098, val_acc:0.8839\n",
      "\t\ttrain_roc: 0.9627, val_roc: 0.9477, train_auprc: 0.9531, val_auprc: 0.9395\n"
     ]
    },
    {
     "name": "stderr",
     "output_type": "stream",
     "text": [
      "/home/namle/.local/lib/python3.10/site-packages/torch_geometric/warnings.py:11: UserWarning: The usage of `scatter(reduce='max')` can be accelerated via the 'torch-scatter' package, but it was not found\n",
      "  warnings.warn(message)\n"
     ]
    },
    {
     "name": "stdout",
     "output_type": "stream",
     "text": [
      "Epoch: 256 (58.8285s), train_loss: 0.2326, val_loss: 0.3029, train_acc: 0.9103, val_acc:0.8832\n",
      "\t\ttrain_roc: 0.9638, val_roc: 0.9472, train_auprc: 0.9551, val_auprc: 0.9391\n"
     ]
    },
    {
     "name": "stderr",
     "output_type": "stream",
     "text": [
      "/home/namle/.local/lib/python3.10/site-packages/torch_geometric/warnings.py:11: UserWarning: The usage of `scatter(reduce='max')` can be accelerated via the 'torch-scatter' package, but it was not found\n",
      "  warnings.warn(message)\n"
     ]
    },
    {
     "name": "stdout",
     "output_type": "stream",
     "text": [
      "Epoch: 257 (58.6958s), train_loss: 0.2339, val_loss: 0.3026, train_acc: 0.9099, val_acc:0.8834\n",
      "\t\ttrain_roc: 0.9632, val_roc: 0.9473, train_auprc: 0.9539, val_auprc: 0.9390\n"
     ]
    },
    {
     "name": "stderr",
     "output_type": "stream",
     "text": [
      "/home/namle/.local/lib/python3.10/site-packages/torch_geometric/warnings.py:11: UserWarning: The usage of `scatter(reduce='max')` can be accelerated via the 'torch-scatter' package, but it was not found\n",
      "  warnings.warn(message)\n"
     ]
    },
    {
     "name": "stdout",
     "output_type": "stream",
     "text": [
      "Epoch: 258 (58.8955s), train_loss: 0.2339, val_loss: 0.3002, train_acc: 0.9097, val_acc:0.8844\n",
      "\t\ttrain_roc: 0.9633, val_roc: 0.9484, train_auprc: 0.9541, val_auprc: 0.9410\n"
     ]
    },
    {
     "name": "stderr",
     "output_type": "stream",
     "text": [
      "/home/namle/.local/lib/python3.10/site-packages/torch_geometric/warnings.py:11: UserWarning: The usage of `scatter(reduce='max')` can be accelerated via the 'torch-scatter' package, but it was not found\n",
      "  warnings.warn(message)\n"
     ]
    },
    {
     "name": "stdout",
     "output_type": "stream",
     "text": [
      "Epoch: 259 (58.8635s), train_loss: 0.2326, val_loss: 0.3002, train_acc: 0.9104, val_acc:0.8843\n",
      "\t\ttrain_roc: 0.9636, val_roc: 0.9483, train_auprc: 0.9546, val_auprc: 0.9403\n"
     ]
    },
    {
     "name": "stderr",
     "output_type": "stream",
     "text": [
      "/home/namle/.local/lib/python3.10/site-packages/torch_geometric/warnings.py:11: UserWarning: The usage of `scatter(reduce='max')` can be accelerated via the 'torch-scatter' package, but it was not found\n",
      "  warnings.warn(message)\n"
     ]
    },
    {
     "name": "stdout",
     "output_type": "stream",
     "text": [
      "Epoch: 260 (58.8989s), train_loss: 0.2340, val_loss: 0.3028, train_acc: 0.9096, val_acc:0.8830\n",
      "\t\ttrain_roc: 0.9632, val_roc: 0.9472, train_auprc: 0.9540, val_auprc: 0.9395\n"
     ]
    },
    {
     "name": "stderr",
     "output_type": "stream",
     "text": [
      "/home/namle/.local/lib/python3.10/site-packages/torch_geometric/warnings.py:11: UserWarning: The usage of `scatter(reduce='max')` can be accelerated via the 'torch-scatter' package, but it was not found\n",
      "  warnings.warn(message)\n"
     ]
    },
    {
     "name": "stdout",
     "output_type": "stream",
     "text": [
      "Epoch: 261 (58.8128s), train_loss: 0.2349, val_loss: 0.3030, train_acc: 0.9096, val_acc:0.8831\n",
      "\t\ttrain_roc: 0.9630, val_roc: 0.9472, train_auprc: 0.9534, val_auprc: 0.9391\n"
     ]
    },
    {
     "name": "stderr",
     "output_type": "stream",
     "text": [
      "/home/namle/.local/lib/python3.10/site-packages/torch_geometric/warnings.py:11: UserWarning: The usage of `scatter(reduce='max')` can be accelerated via the 'torch-scatter' package, but it was not found\n",
      "  warnings.warn(message)\n"
     ]
    },
    {
     "name": "stdout",
     "output_type": "stream",
     "text": [
      "Epoch: 262 (58.9143s), train_loss: 0.2309, val_loss: 0.3048, train_acc: 0.9105, val_acc:0.8828\n",
      "\t\ttrain_roc: 0.9643, val_roc: 0.9463, train_auprc: 0.9557, val_auprc: 0.9376\n"
     ]
    },
    {
     "name": "stderr",
     "output_type": "stream",
     "text": [
      "/home/namle/.local/lib/python3.10/site-packages/torch_geometric/warnings.py:11: UserWarning: The usage of `scatter(reduce='max')` can be accelerated via the 'torch-scatter' package, but it was not found\n",
      "  warnings.warn(message)\n"
     ]
    },
    {
     "name": "stdout",
     "output_type": "stream",
     "text": [
      "Epoch: 263 (58.8435s), train_loss: 0.2329, val_loss: 0.3023, train_acc: 0.9104, val_acc:0.8842\n",
      "\t\ttrain_roc: 0.9636, val_roc: 0.9475, train_auprc: 0.9543, val_auprc: 0.9390\n"
     ]
    },
    {
     "name": "stderr",
     "output_type": "stream",
     "text": [
      "/home/namle/.local/lib/python3.10/site-packages/torch_geometric/warnings.py:11: UserWarning: The usage of `scatter(reduce='max')` can be accelerated via the 'torch-scatter' package, but it was not found\n",
      "  warnings.warn(message)\n"
     ]
    },
    {
     "name": "stdout",
     "output_type": "stream",
     "text": [
      "Epoch: 264 (58.8903s), train_loss: 0.2349, val_loss: 0.3000, train_acc: 0.9093, val_acc:0.8847\n",
      "\t\ttrain_roc: 0.9628, val_roc: 0.9484, train_auprc: 0.9536, val_auprc: 0.9407\n"
     ]
    },
    {
     "name": "stderr",
     "output_type": "stream",
     "text": [
      "/home/namle/.local/lib/python3.10/site-packages/torch_geometric/warnings.py:11: UserWarning: The usage of `scatter(reduce='max')` can be accelerated via the 'torch-scatter' package, but it was not found\n",
      "  warnings.warn(message)\n"
     ]
    },
    {
     "name": "stdout",
     "output_type": "stream",
     "text": [
      "Epoch: 265 (58.8966s), train_loss: 0.2334, val_loss: 0.3019, train_acc: 0.9100, val_acc:0.8833\n",
      "\t\ttrain_roc: 0.9634, val_roc: 0.9475, train_auprc: 0.9542, val_auprc: 0.9401\n"
     ]
    },
    {
     "name": "stderr",
     "output_type": "stream",
     "text": [
      "/home/namle/.local/lib/python3.10/site-packages/torch_geometric/warnings.py:11: UserWarning: The usage of `scatter(reduce='max')` can be accelerated via the 'torch-scatter' package, but it was not found\n",
      "  warnings.warn(message)\n"
     ]
    },
    {
     "name": "stdout",
     "output_type": "stream",
     "text": [
      "Epoch: 266 (58.7895s), train_loss: 0.2322, val_loss: 0.3006, train_acc: 0.9104, val_acc:0.8844\n",
      "\t\ttrain_roc: 0.9639, val_roc: 0.9482, train_auprc: 0.9549, val_auprc: 0.9401\n"
     ]
    },
    {
     "name": "stderr",
     "output_type": "stream",
     "text": [
      "/home/namle/.local/lib/python3.10/site-packages/torch_geometric/warnings.py:11: UserWarning: The usage of `scatter(reduce='max')` can be accelerated via the 'torch-scatter' package, but it was not found\n",
      "  warnings.warn(message)\n"
     ]
    },
    {
     "name": "stdout",
     "output_type": "stream",
     "text": [
      "Epoch: 267 (59.0506s), train_loss: 0.2336, val_loss: 0.3039, train_acc: 0.9101, val_acc:0.8826\n",
      "\t\ttrain_roc: 0.9634, val_roc: 0.9467, train_auprc: 0.9545, val_auprc: 0.9386\n"
     ]
    },
    {
     "name": "stderr",
     "output_type": "stream",
     "text": [
      "/home/namle/.local/lib/python3.10/site-packages/torch_geometric/warnings.py:11: UserWarning: The usage of `scatter(reduce='max')` can be accelerated via the 'torch-scatter' package, but it was not found\n",
      "  warnings.warn(message)\n"
     ]
    },
    {
     "name": "stdout",
     "output_type": "stream",
     "text": [
      "Epoch: 268 (58.9255s), train_loss: 0.2319, val_loss: 0.3005, train_acc: 0.9104, val_acc:0.8843\n",
      "\t\ttrain_roc: 0.9640, val_roc: 0.9479, train_auprc: 0.9552, val_auprc: 0.9404\n"
     ]
    },
    {
     "name": "stderr",
     "output_type": "stream",
     "text": [
      "/home/namle/.local/lib/python3.10/site-packages/torch_geometric/warnings.py:11: UserWarning: The usage of `scatter(reduce='max')` can be accelerated via the 'torch-scatter' package, but it was not found\n",
      "  warnings.warn(message)\n"
     ]
    },
    {
     "name": "stdout",
     "output_type": "stream",
     "text": [
      "Epoch: 269 (58.7927s), train_loss: 0.2332, val_loss: 0.3022, train_acc: 0.9103, val_acc:0.8834\n",
      "\t\ttrain_roc: 0.9633, val_roc: 0.9472, train_auprc: 0.9540, val_auprc: 0.9389\n"
     ]
    },
    {
     "name": "stderr",
     "output_type": "stream",
     "text": [
      "/home/namle/.local/lib/python3.10/site-packages/torch_geometric/warnings.py:11: UserWarning: The usage of `scatter(reduce='max')` can be accelerated via the 'torch-scatter' package, but it was not found\n",
      "  warnings.warn(message)\n"
     ]
    },
    {
     "name": "stdout",
     "output_type": "stream",
     "text": [
      "Epoch: 270 (58.9446s), train_loss: 0.2340, val_loss: 0.3026, train_acc: 0.9094, val_acc:0.8823\n",
      "\t\ttrain_roc: 0.9633, val_roc: 0.9474, train_auprc: 0.9542, val_auprc: 0.9395\n"
     ]
    },
    {
     "name": "stderr",
     "output_type": "stream",
     "text": [
      "/home/namle/.local/lib/python3.10/site-packages/torch_geometric/warnings.py:11: UserWarning: The usage of `scatter(reduce='max')` can be accelerated via the 'torch-scatter' package, but it was not found\n",
      "  warnings.warn(message)\n"
     ]
    },
    {
     "name": "stdout",
     "output_type": "stream",
     "text": [
      "Epoch: 271 (58.8096s), train_loss: 0.2330, val_loss: 0.3028, train_acc: 0.9101, val_acc:0.8823\n",
      "\t\ttrain_roc: 0.9635, val_roc: 0.9472, train_auprc: 0.9546, val_auprc: 0.9396\n"
     ]
    },
    {
     "name": "stderr",
     "output_type": "stream",
     "text": [
      "/home/namle/.local/lib/python3.10/site-packages/torch_geometric/warnings.py:11: UserWarning: The usage of `scatter(reduce='max')` can be accelerated via the 'torch-scatter' package, but it was not found\n",
      "  warnings.warn(message)\n"
     ]
    },
    {
     "name": "stdout",
     "output_type": "stream",
     "text": [
      "Epoch: 272 (58.7591s), train_loss: 0.2316, val_loss: 0.3017, train_acc: 0.9110, val_acc:0.8841\n",
      "\t\ttrain_roc: 0.9640, val_roc: 0.9478, train_auprc: 0.9550, val_auprc: 0.9397\n"
     ]
    },
    {
     "name": "stderr",
     "output_type": "stream",
     "text": [
      "/home/namle/.local/lib/python3.10/site-packages/torch_geometric/warnings.py:11: UserWarning: The usage of `scatter(reduce='max')` can be accelerated via the 'torch-scatter' package, but it was not found\n",
      "  warnings.warn(message)\n"
     ]
    },
    {
     "name": "stdout",
     "output_type": "stream",
     "text": [
      "Epoch: 273 (58.7555s), train_loss: 0.2346, val_loss: 0.2994, train_acc: 0.9095, val_acc:0.8846\n",
      "\t\ttrain_roc: 0.9630, val_roc: 0.9487, train_auprc: 0.9538, val_auprc: 0.9406\n"
     ]
    },
    {
     "name": "stderr",
     "output_type": "stream",
     "text": [
      "/home/namle/.local/lib/python3.10/site-packages/torch_geometric/warnings.py:11: UserWarning: The usage of `scatter(reduce='max')` can be accelerated via the 'torch-scatter' package, but it was not found\n",
      "  warnings.warn(message)\n"
     ]
    },
    {
     "name": "stdout",
     "output_type": "stream",
     "text": [
      "Epoch: 274 (58.8646s), train_loss: 0.2339, val_loss: 0.3011, train_acc: 0.9100, val_acc:0.8846\n",
      "\t\ttrain_roc: 0.9631, val_roc: 0.9481, train_auprc: 0.9539, val_auprc: 0.9395\n"
     ]
    },
    {
     "name": "stderr",
     "output_type": "stream",
     "text": [
      "/home/namle/.local/lib/python3.10/site-packages/torch_geometric/warnings.py:11: UserWarning: The usage of `scatter(reduce='max')` can be accelerated via the 'torch-scatter' package, but it was not found\n",
      "  warnings.warn(message)\n"
     ]
    },
    {
     "name": "stdout",
     "output_type": "stream",
     "text": [
      "Epoch: 275 (58.8283s), train_loss: 0.2327, val_loss: 0.3005, train_acc: 0.9104, val_acc:0.8845\n",
      "\t\ttrain_roc: 0.9636, val_roc: 0.9480, train_auprc: 0.9546, val_auprc: 0.9400\n"
     ]
    },
    {
     "name": "stderr",
     "output_type": "stream",
     "text": [
      "/home/namle/.local/lib/python3.10/site-packages/torch_geometric/warnings.py:11: UserWarning: The usage of `scatter(reduce='max')` can be accelerated via the 'torch-scatter' package, but it was not found\n",
      "  warnings.warn(message)\n"
     ]
    },
    {
     "name": "stdout",
     "output_type": "stream",
     "text": [
      "Epoch: 276 (58.9009s), train_loss: 0.2339, val_loss: 0.3023, train_acc: 0.9100, val_acc:0.8833\n",
      "\t\ttrain_roc: 0.9631, val_roc: 0.9474, train_auprc: 0.9539, val_auprc: 0.9393\n"
     ]
    },
    {
     "name": "stderr",
     "output_type": "stream",
     "text": [
      "/home/namle/.local/lib/python3.10/site-packages/torch_geometric/warnings.py:11: UserWarning: The usage of `scatter(reduce='max')` can be accelerated via the 'torch-scatter' package, but it was not found\n",
      "  warnings.warn(message)\n"
     ]
    },
    {
     "name": "stdout",
     "output_type": "stream",
     "text": [
      "Epoch: 277 (58.9494s), train_loss: 0.2341, val_loss: 0.3035, train_acc: 0.9098, val_acc:0.8831\n",
      "\t\ttrain_roc: 0.9631, val_roc: 0.9469, train_auprc: 0.9536, val_auprc: 0.9386\n"
     ]
    },
    {
     "name": "stderr",
     "output_type": "stream",
     "text": [
      "/home/namle/.local/lib/python3.10/site-packages/torch_geometric/warnings.py:11: UserWarning: The usage of `scatter(reduce='max')` can be accelerated via the 'torch-scatter' package, but it was not found\n",
      "  warnings.warn(message)\n"
     ]
    },
    {
     "name": "stdout",
     "output_type": "stream",
     "text": [
      "Epoch: 278 (58.8093s), train_loss: 0.2333, val_loss: 0.3011, train_acc: 0.9102, val_acc:0.8842\n",
      "\t\ttrain_roc: 0.9633, val_roc: 0.9479, train_auprc: 0.9540, val_auprc: 0.9397\n"
     ]
    },
    {
     "name": "stderr",
     "output_type": "stream",
     "text": [
      "/home/namle/.local/lib/python3.10/site-packages/torch_geometric/warnings.py:11: UserWarning: The usage of `scatter(reduce='max')` can be accelerated via the 'torch-scatter' package, but it was not found\n",
      "  warnings.warn(message)\n"
     ]
    },
    {
     "name": "stdout",
     "output_type": "stream",
     "text": [
      "Epoch: 279 (58.9135s), train_loss: 0.2342, val_loss: 0.3026, train_acc: 0.9096, val_acc:0.8832\n",
      "\t\ttrain_roc: 0.9631, val_roc: 0.9471, train_auprc: 0.9536, val_auprc: 0.9391\n"
     ]
    },
    {
     "name": "stderr",
     "output_type": "stream",
     "text": [
      "/home/namle/.local/lib/python3.10/site-packages/torch_geometric/warnings.py:11: UserWarning: The usage of `scatter(reduce='max')` can be accelerated via the 'torch-scatter' package, but it was not found\n",
      "  warnings.warn(message)\n"
     ]
    },
    {
     "name": "stdout",
     "output_type": "stream",
     "text": [
      "Epoch: 280 (58.7124s), train_loss: 0.2324, val_loss: 0.3022, train_acc: 0.9102, val_acc:0.8830\n",
      "\t\ttrain_roc: 0.9637, val_roc: 0.9474, train_auprc: 0.9548, val_auprc: 0.9394\n"
     ]
    },
    {
     "name": "stderr",
     "output_type": "stream",
     "text": [
      "/home/namle/.local/lib/python3.10/site-packages/torch_geometric/warnings.py:11: UserWarning: The usage of `scatter(reduce='max')` can be accelerated via the 'torch-scatter' package, but it was not found\n",
      "  warnings.warn(message)\n"
     ]
    },
    {
     "name": "stdout",
     "output_type": "stream",
     "text": [
      "Epoch: 281 (58.7743s), train_loss: 0.2328, val_loss: 0.3031, train_acc: 0.9105, val_acc:0.8831\n",
      "\t\ttrain_roc: 0.9636, val_roc: 0.9471, train_auprc: 0.9544, val_auprc: 0.9384\n"
     ]
    },
    {
     "name": "stderr",
     "output_type": "stream",
     "text": [
      "/home/namle/.local/lib/python3.10/site-packages/torch_geometric/warnings.py:11: UserWarning: The usage of `scatter(reduce='max')` can be accelerated via the 'torch-scatter' package, but it was not found\n",
      "  warnings.warn(message)\n"
     ]
    },
    {
     "name": "stdout",
     "output_type": "stream",
     "text": [
      "Epoch: 282 (59.0406s), train_loss: 0.2332, val_loss: 0.3043, train_acc: 0.9103, val_acc:0.8830\n",
      "\t\ttrain_roc: 0.9634, val_roc: 0.9465, train_auprc: 0.9543, val_auprc: 0.9380\n"
     ]
    },
    {
     "name": "stderr",
     "output_type": "stream",
     "text": [
      "/home/namle/.local/lib/python3.10/site-packages/torch_geometric/warnings.py:11: UserWarning: The usage of `scatter(reduce='max')` can be accelerated via the 'torch-scatter' package, but it was not found\n",
      "  warnings.warn(message)\n"
     ]
    },
    {
     "name": "stdout",
     "output_type": "stream",
     "text": [
      "Epoch: 283 (58.7456s), train_loss: 0.2333, val_loss: 0.3021, train_acc: 0.9102, val_acc:0.8833\n",
      "\t\ttrain_roc: 0.9633, val_roc: 0.9475, train_auprc: 0.9540, val_auprc: 0.9396\n"
     ]
    },
    {
     "name": "stderr",
     "output_type": "stream",
     "text": [
      "/home/namle/.local/lib/python3.10/site-packages/torch_geometric/warnings.py:11: UserWarning: The usage of `scatter(reduce='max')` can be accelerated via the 'torch-scatter' package, but it was not found\n",
      "  warnings.warn(message)\n"
     ]
    },
    {
     "name": "stdout",
     "output_type": "stream",
     "text": [
      "Epoch: 284 (58.9233s), train_loss: 0.2347, val_loss: 0.3016, train_acc: 0.9095, val_acc:0.8836\n",
      "\t\ttrain_roc: 0.9629, val_roc: 0.9475, train_auprc: 0.9537, val_auprc: 0.9395\n"
     ]
    },
    {
     "name": "stderr",
     "output_type": "stream",
     "text": [
      "/home/namle/.local/lib/python3.10/site-packages/torch_geometric/warnings.py:11: UserWarning: The usage of `scatter(reduce='max')` can be accelerated via the 'torch-scatter' package, but it was not found\n",
      "  warnings.warn(message)\n"
     ]
    },
    {
     "name": "stdout",
     "output_type": "stream",
     "text": [
      "Epoch: 285 (58.8288s), train_loss: 0.2334, val_loss: 0.2996, train_acc: 0.9103, val_acc:0.8847\n",
      "\t\ttrain_roc: 0.9635, val_roc: 0.9484, train_auprc: 0.9541, val_auprc: 0.9407\n"
     ]
    },
    {
     "name": "stderr",
     "output_type": "stream",
     "text": [
      "/home/namle/.local/lib/python3.10/site-packages/torch_geometric/warnings.py:11: UserWarning: The usage of `scatter(reduce='max')` can be accelerated via the 'torch-scatter' package, but it was not found\n",
      "  warnings.warn(message)\n"
     ]
    },
    {
     "name": "stdout",
     "output_type": "stream",
     "text": [
      "Epoch: 286 (58.8556s), train_loss: 0.2329, val_loss: 0.3031, train_acc: 0.9102, val_acc:0.8829\n",
      "\t\ttrain_roc: 0.9635, val_roc: 0.9471, train_auprc: 0.9545, val_auprc: 0.9389\n"
     ]
    },
    {
     "name": "stderr",
     "output_type": "stream",
     "text": [
      "/home/namle/.local/lib/python3.10/site-packages/torch_geometric/warnings.py:11: UserWarning: The usage of `scatter(reduce='max')` can be accelerated via the 'torch-scatter' package, but it was not found\n",
      "  warnings.warn(message)\n"
     ]
    },
    {
     "name": "stdout",
     "output_type": "stream",
     "text": [
      "Epoch: 287 (58.8995s), train_loss: 0.2333, val_loss: 0.3031, train_acc: 0.9098, val_acc:0.8829\n",
      "\t\ttrain_roc: 0.9636, val_roc: 0.9470, train_auprc: 0.9545, val_auprc: 0.9389\n"
     ]
    },
    {
     "name": "stderr",
     "output_type": "stream",
     "text": [
      "/home/namle/.local/lib/python3.10/site-packages/torch_geometric/warnings.py:11: UserWarning: The usage of `scatter(reduce='max')` can be accelerated via the 'torch-scatter' package, but it was not found\n",
      "  warnings.warn(message)\n"
     ]
    },
    {
     "name": "stdout",
     "output_type": "stream",
     "text": [
      "Epoch: 288 (58.8727s), train_loss: 0.2343, val_loss: 0.3043, train_acc: 0.9098, val_acc:0.8828\n",
      "\t\ttrain_roc: 0.9630, val_roc: 0.9464, train_auprc: 0.9532, val_auprc: 0.9380\n"
     ]
    },
    {
     "name": "stderr",
     "output_type": "stream",
     "text": [
      "/home/namle/.local/lib/python3.10/site-packages/torch_geometric/warnings.py:11: UserWarning: The usage of `scatter(reduce='max')` can be accelerated via the 'torch-scatter' package, but it was not found\n",
      "  warnings.warn(message)\n"
     ]
    },
    {
     "name": "stdout",
     "output_type": "stream",
     "text": [
      "Epoch: 289 (58.8055s), train_loss: 0.2336, val_loss: 0.3032, train_acc: 0.9097, val_acc:0.8826\n",
      "\t\ttrain_roc: 0.9634, val_roc: 0.9472, train_auprc: 0.9543, val_auprc: 0.9391\n"
     ]
    },
    {
     "name": "stderr",
     "output_type": "stream",
     "text": [
      "/home/namle/.local/lib/python3.10/site-packages/torch_geometric/warnings.py:11: UserWarning: The usage of `scatter(reduce='max')` can be accelerated via the 'torch-scatter' package, but it was not found\n",
      "  warnings.warn(message)\n"
     ]
    },
    {
     "name": "stdout",
     "output_type": "stream",
     "text": [
      "Epoch: 290 (58.8599s), train_loss: 0.2334, val_loss: 0.3004, train_acc: 0.9098, val_acc:0.8840\n",
      "\t\ttrain_roc: 0.9634, val_roc: 0.9483, train_auprc: 0.9543, val_auprc: 0.9405\n"
     ]
    },
    {
     "name": "stderr",
     "output_type": "stream",
     "text": [
      "/home/namle/.local/lib/python3.10/site-packages/torch_geometric/warnings.py:11: UserWarning: The usage of `scatter(reduce='max')` can be accelerated via the 'torch-scatter' package, but it was not found\n",
      "  warnings.warn(message)\n"
     ]
    },
    {
     "name": "stdout",
     "output_type": "stream",
     "text": [
      "Epoch: 291 (58.7778s), train_loss: 0.2337, val_loss: 0.3027, train_acc: 0.9095, val_acc:0.8831\n",
      "\t\ttrain_roc: 0.9633, val_roc: 0.9473, train_auprc: 0.9543, val_auprc: 0.9390\n"
     ]
    },
    {
     "name": "stderr",
     "output_type": "stream",
     "text": [
      "/home/namle/.local/lib/python3.10/site-packages/torch_geometric/warnings.py:11: UserWarning: The usage of `scatter(reduce='max')` can be accelerated via the 'torch-scatter' package, but it was not found\n",
      "  warnings.warn(message)\n"
     ]
    },
    {
     "name": "stdout",
     "output_type": "stream",
     "text": [
      "Epoch: 292 (58.8971s), train_loss: 0.2331, val_loss: 0.3024, train_acc: 0.9102, val_acc:0.8831\n",
      "\t\ttrain_roc: 0.9635, val_roc: 0.9473, train_auprc: 0.9542, val_auprc: 0.9394\n"
     ]
    },
    {
     "name": "stderr",
     "output_type": "stream",
     "text": [
      "/home/namle/.local/lib/python3.10/site-packages/torch_geometric/warnings.py:11: UserWarning: The usage of `scatter(reduce='max')` can be accelerated via the 'torch-scatter' package, but it was not found\n",
      "  warnings.warn(message)\n"
     ]
    },
    {
     "name": "stdout",
     "output_type": "stream",
     "text": [
      "Epoch: 293 (58.8634s), train_loss: 0.2325, val_loss: 0.3012, train_acc: 0.9108, val_acc:0.8848\n",
      "\t\ttrain_roc: 0.9636, val_roc: 0.9478, train_auprc: 0.9545, val_auprc: 0.9395\n"
     ]
    },
    {
     "name": "stderr",
     "output_type": "stream",
     "text": [
      "/home/namle/.local/lib/python3.10/site-packages/torch_geometric/warnings.py:11: UserWarning: The usage of `scatter(reduce='max')` can be accelerated via the 'torch-scatter' package, but it was not found\n",
      "  warnings.warn(message)\n"
     ]
    },
    {
     "name": "stdout",
     "output_type": "stream",
     "text": [
      "Epoch: 294 (58.8150s), train_loss: 0.2341, val_loss: 0.3014, train_acc: 0.9097, val_acc:0.8833\n",
      "\t\ttrain_roc: 0.9631, val_roc: 0.9476, train_auprc: 0.9539, val_auprc: 0.9402\n"
     ]
    },
    {
     "name": "stderr",
     "output_type": "stream",
     "text": [
      "/home/namle/.local/lib/python3.10/site-packages/torch_geometric/warnings.py:11: UserWarning: The usage of `scatter(reduce='max')` can be accelerated via the 'torch-scatter' package, but it was not found\n",
      "  warnings.warn(message)\n"
     ]
    },
    {
     "name": "stdout",
     "output_type": "stream",
     "text": [
      "Epoch: 295 (58.9265s), train_loss: 0.2322, val_loss: 0.3029, train_acc: 0.9109, val_acc:0.8836\n",
      "\t\ttrain_roc: 0.9637, val_roc: 0.9472, train_auprc: 0.9547, val_auprc: 0.9386\n"
     ]
    },
    {
     "name": "stderr",
     "output_type": "stream",
     "text": [
      "/home/namle/.local/lib/python3.10/site-packages/torch_geometric/warnings.py:11: UserWarning: The usage of `scatter(reduce='max')` can be accelerated via the 'torch-scatter' package, but it was not found\n",
      "  warnings.warn(message)\n"
     ]
    },
    {
     "name": "stdout",
     "output_type": "stream",
     "text": [
      "Epoch: 296 (58.8158s), train_loss: 0.2332, val_loss: 0.2997, train_acc: 0.9099, val_acc:0.8849\n",
      "\t\ttrain_roc: 0.9636, val_roc: 0.9485, train_auprc: 0.9547, val_auprc: 0.9407\n"
     ]
    },
    {
     "name": "stderr",
     "output_type": "stream",
     "text": [
      "/home/namle/.local/lib/python3.10/site-packages/torch_geometric/warnings.py:11: UserWarning: The usage of `scatter(reduce='max')` can be accelerated via the 'torch-scatter' package, but it was not found\n",
      "  warnings.warn(message)\n"
     ]
    },
    {
     "name": "stdout",
     "output_type": "stream",
     "text": [
      "Epoch: 297 (58.7923s), train_loss: 0.2326, val_loss: 0.3049, train_acc: 0.9104, val_acc:0.8821\n",
      "\t\ttrain_roc: 0.9638, val_roc: 0.9463, train_auprc: 0.9547, val_auprc: 0.9380\n"
     ]
    },
    {
     "name": "stderr",
     "output_type": "stream",
     "text": [
      "/home/namle/.local/lib/python3.10/site-packages/torch_geometric/warnings.py:11: UserWarning: The usage of `scatter(reduce='max')` can be accelerated via the 'torch-scatter' package, but it was not found\n",
      "  warnings.warn(message)\n"
     ]
    },
    {
     "name": "stdout",
     "output_type": "stream",
     "text": [
      "Epoch: 298 (58.8747s), train_loss: 0.2327, val_loss: 0.3030, train_acc: 0.9103, val_acc:0.8831\n",
      "\t\ttrain_roc: 0.9636, val_roc: 0.9471, train_auprc: 0.9548, val_auprc: 0.9385\n"
     ]
    },
    {
     "name": "stderr",
     "output_type": "stream",
     "text": [
      "/home/namle/.local/lib/python3.10/site-packages/torch_geometric/warnings.py:11: UserWarning: The usage of `scatter(reduce='max')` can be accelerated via the 'torch-scatter' package, but it was not found\n",
      "  warnings.warn(message)\n"
     ]
    },
    {
     "name": "stdout",
     "output_type": "stream",
     "text": [
      "Epoch: 299 (58.8911s), train_loss: 0.2326, val_loss: 0.3020, train_acc: 0.9104, val_acc:0.8836\n",
      "\t\ttrain_roc: 0.9637, val_roc: 0.9475, train_auprc: 0.9549, val_auprc: 0.9398\n"
     ]
    },
    {
     "name": "stderr",
     "output_type": "stream",
     "text": [
      "/home/namle/.local/lib/python3.10/site-packages/torch_geometric/warnings.py:11: UserWarning: The usage of `scatter(reduce='max')` can be accelerated via the 'torch-scatter' package, but it was not found\n",
      "  warnings.warn(message)\n"
     ]
    },
    {
     "name": "stdout",
     "output_type": "stream",
     "text": [
      "Epoch: 300 (58.7625s), train_loss: 0.2333, val_loss: 0.3036, train_acc: 0.9099, val_acc:0.8821\n",
      "\t\ttrain_roc: 0.9634, val_roc: 0.9470, train_auprc: 0.9544, val_auprc: 0.9390\n"
     ]
    }
   ],
   "source": [
    "if mode == \"train\":\n",
    "  # Train\n",
    "  train(\n",
    "      model,\n",
    "      train_data_loader,\n",
    "      val_data_loader,\n",
    "      loss,\n",
    "      optimizer,\n",
    "      n_epochs,\n",
    "      device,\n",
    "      scheduler,\n",
    "  )\n"
   ]
  },
  {
   "cell_type": "code",
   "execution_count": 18,
   "metadata": {
    "id": "f04DujiWugRa"
   },
   "outputs": [
    {
     "name": "stdout",
     "output_type": "stream",
     "text": [
      "SSI_DDI(\n",
      "  (initial_norm): LayerNorm(55, affine=True, mode=graph)\n",
      "  (net_norms): ModuleList(\n",
      "    (0-3): 4 x LayerNorm(64, affine=True, mode=graph)\n",
      "  )\n",
      "  (block0): SSI_DDI_Block(\n",
      "    (conv): GATConv(55, 32, heads=2)\n",
      "    (readout): SAGPooling(GraphConv, 64, min_score=-1, multiplier=1.0)\n",
      "  )\n",
      "  (block1): SSI_DDI_Block(\n",
      "    (conv): GATConv(64, 32, heads=2)\n",
      "    (readout): SAGPooling(GraphConv, 64, min_score=-1, multiplier=1.0)\n",
      "  )\n",
      "  (block2): SSI_DDI_Block(\n",
      "    (conv): GATConv(64, 32, heads=2)\n",
      "    (readout): SAGPooling(GraphConv, 64, min_score=-1, multiplier=1.0)\n",
      "  )\n",
      "  (block3): SSI_DDI_Block(\n",
      "    (conv): GATConv(64, 32, heads=2)\n",
      "    (readout): SAGPooling(GraphConv, 64, min_score=-1, multiplier=1.0)\n",
      "  )\n",
      "  (co_attention): CoAttentionLayer()\n",
      "  (KGE): RESCAL(86, torch.Size([86, 4096]))\n",
      ")\n",
      "Starting predicting at 2024-10-24 00:35:23.436567\n",
      "Device cuda\n"
     ]
    },
    {
     "name": "stderr",
     "output_type": "stream",
     "text": [
      "/tmp/ipykernel_87773/189222804.py:2: FutureWarning: You are using `torch.load` with `weights_only=False` (the current default value), which uses the default pickle module implicitly. It is possible to construct malicious pickle data which will execute arbitrary code during unpickling (See https://github.com/pytorch/pytorch/blob/main/SECURITY.md#untrusted-models for more details). In a future release, the default value for `weights_only` will be flipped to `True`. This limits the functions that could be executed during unpickling. Arbitrary objects will no longer be allowed to be loaded via this mode unless they are explicitly allowlisted by the user via `torch.serialization.add_safe_globals`. We recommend you start setting `weights_only=True` for any use case where you don't have full control of the loaded file. Please open an issue on GitHub for any issues related to this experimental feature.\n",
      "  model = torch.load(model_file)\n"
     ]
    },
    {
     "name": "stdout",
     "output_type": "stream",
     "text": [
      "Test Accuracy: 0.8833\n",
      "Test ROC AUC: 0.9477\n",
      "Test PRC AUC: 0.9383\n"
     ]
    }
   ],
   "source": [
    "# Predict\n",
    "model = torch.load(model_file)\n",
    "print(model)\n",
    "model.to(device=device)\n",
    "predict(model, test_data_loader, device)"
   ]
  },
  {
   "cell_type": "code",
   "execution_count": null,
   "metadata": {},
   "outputs": [],
   "source": []
  }
 ],
 "metadata": {
  "accelerator": "GPU",
  "colab": {
   "authorship_tag": "ABX9TyPrjMB1qWDzpoQ4nNpP4AfV",
   "gpuType": "T4",
   "mount_file_id": "1SgLTMIysgeGUK6s_GjIn2Ssygt0A5LZV",
   "provenance": []
  },
  "kernelspec": {
   "display_name": "Python 3 (ipykernel)",
   "language": "python",
   "name": "python3"
  },
  "language_info": {
   "codemirror_mode": {
    "name": "ipython",
    "version": 3
   },
   "file_extension": ".py",
   "mimetype": "text/x-python",
   "name": "python",
   "nbconvert_exporter": "python",
   "pygments_lexer": "ipython3",
   "version": "3.10.12"
  }
 },
 "nbformat": 4,
 "nbformat_minor": 4
}
