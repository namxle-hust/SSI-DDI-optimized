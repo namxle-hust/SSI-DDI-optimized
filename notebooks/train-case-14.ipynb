{
 "cells": [
  {
   "cell_type": "code",
   "execution_count": 1,
   "metadata": {
    "colab": {
     "base_uri": "https://localhost:8080/"
    },
    "executionInfo": {
     "elapsed": 10617,
     "status": "ok",
     "timestamp": 1729307085000,
     "user": {
      "displayName": "Nam Le",
      "userId": "10910051602335296858"
     },
     "user_tz": -420
    },
    "id": "k4UhRVN-PNYi",
    "outputId": "3a910cb5-bb67-4fa2-d833-c4790dab293c"
   },
   "outputs": [],
   "source": [
    "# !pip install torch_geometric rdkit torch"
   ]
  },
  {
   "cell_type": "code",
   "execution_count": 2,
   "metadata": {
    "id": "YKUU9J_HnRwg"
   },
   "outputs": [],
   "source": [
    "from datetime import datetime\n",
    "import time\n",
    "import argparse\n",
    "import sys\n",
    "import torch\n",
    "from torch import optim\n",
    "from torch import nn\n",
    "import torch.nn.functional as F\n",
    "from sklearn import metrics\n",
    "import pandas as pd\n",
    "import numpy as np\n",
    "from torch.nn.modules.container import ModuleList\n",
    "from torch_geometric.nn import (\n",
    "    GATConv,\n",
    "    SAGPooling,\n",
    "    LayerNorm,\n",
    "    global_mean_pool,\n",
    "    max_pool_neighbor_x,\n",
    "    global_add_pool,\n",
    ")\n"
   ]
  },
  {
   "cell_type": "code",
   "execution_count": 3,
   "metadata": {},
   "outputs": [],
   "source": [
    "# Directory configuration\n",
    "data_dir = \"data\"\n",
    "model_dir = \"models\"\n",
    "model_name = \"case14\"\n",
    "\n",
    "# sys.path.append('/content/drive/MyDrive/Colab Notebooks')"
   ]
  },
  {
   "cell_type": "code",
   "execution_count": 4,
   "metadata": {},
   "outputs": [],
   "source": [
    "####### Tunning parameters #######\n",
    "\n",
    "# Number of epochs\n",
    "n_epochs = 300\n",
    "\n",
    "# SagPooling ratio & min score. \n",
    "# Set sp_ratio to None to disable ratio in SagPooling\n",
    "sp_ratio = None\n",
    "sp_min_score = None\n",
    "\n",
    "# Enable using gpu\n",
    "use_cuda = True\n",
    "\n",
    "# Use activation function for CoAttention Layer\n",
    "use_activation_fn = False\n",
    "\n",
    "# Use ComplEx instead of RESCAL\n",
    "use_ComplEx = False\n",
    "\n",
    "# Use improved CoAttention Layer\n",
    "use_improved_CoAttention = True\n",
    "\n",
    "# Use Explicit Valence\n",
    "use_explicit_valence = False\n",
    "\n",
    "#################################"
   ]
  },
  {
   "cell_type": "code",
   "execution_count": 5,
   "metadata": {
    "colab": {
     "base_uri": "https://localhost:8080/"
    },
    "executionInfo": {
     "elapsed": 14083,
     "status": "ok",
     "timestamp": 1729307119217,
     "user": {
      "displayName": "Nam Le",
      "userId": "10910051602335296858"
     },
     "user_tz": -420
    },
    "id": "Ws9OIlmzPrsJ",
    "outputId": "f4ec9a42-5720-436e-fa2a-544d564381c4"
   },
   "outputs": [
    {
     "name": "stderr",
     "output_type": "stream",
     "text": [
      "/mnt/d/Documents/Github/glsofort/SSI-DDI-test/notebook/data_preprocessing.py:113: UserWarning: The use of `x.T` on tensors of dimension other than 2 to reverse their shape is deprecated and it will throw an error in a future release. Consider `x.mT` to transpose batches of matrices or `x.permute(*torch.arange(x.ndim - 1, -1, -1))` to reverse the dimensions of a tensor. (Triggered internally at ../aten/src/ATen/native/TensorShape.cpp:3683.)\n",
      "  return undirected_edge_list.T, features\n"
     ]
    }
   ],
   "source": [
    "# If using explicit valence feature\n",
    "if use_explicit_valence:\n",
    "    from data_preprocessing_explicit_valence import DrugDataset, DrugDataLoader, TOTAL_ATOM_FEATS\n",
    "else:\n",
    "    from data_preprocessing import DrugDataset, DrugDataLoader, TOTAL_ATOM_FEATS"
   ]
  },
  {
   "cell_type": "code",
   "execution_count": 6,
   "metadata": {},
   "outputs": [
    {
     "name": "stdout",
     "output_type": "stream",
     "text": [
      "cuda\n",
      "Epochs: 300\n",
      "Total of atom features: 55\n"
     ]
    }
   ],
   "source": [
    "mode = \"train\"\n",
    "\n",
    "n_atom_feats = TOTAL_ATOM_FEATS\n",
    "# Not use\n",
    "n_atom_hid = 64\n",
    "# Total interactions information in the Interaction_information.csv\n",
    "rel_total = 86\n",
    "lr = 1e-2\n",
    "weight_decay = 5e-4\n",
    "neg_samples = 1\n",
    "# Represents the number of samples (or graph instances) loaded in each batch during the training process.\n",
    "batch_size = 1024\n",
    "data_size_ratio = 1\n",
    "kge_dim = 64\n",
    "\n",
    "device = \"cuda\" if torch.cuda.is_available() and use_cuda else \"cpu\"\n",
    "\n",
    "print(device)\n",
    "print(f\"Epochs: {n_epochs}\")\n",
    "print(f\"Total of atom features: {TOTAL_ATOM_FEATS}\")"
   ]
  },
  {
   "cell_type": "code",
   "execution_count": 7,
   "metadata": {},
   "outputs": [],
   "source": [
    "def print_tunning_parameters():\n",
    "    print()\n",
    "    print(\"####### Tunning parameters #######\")\n",
    "    print()\n",
    "    \n",
    "    print(\"n_epochs =\", n_epochs)\n",
    "    print(\"use_cuda =\", use_cuda)\n",
    "    \n",
    "    print(\"sp_ratio =\", sp_ratio)\n",
    "    print(\"sp_min_score =\", sp_min_score)\n",
    "    \n",
    "    print(\"use_explicit_valence =\", use_explicit_valence)\n",
    "    \n",
    "    print(\"use_activation_fn =\", use_activation_fn)\n",
    "    \n",
    "    print(\"use_ComplEx =\", use_ComplEx)\n",
    "    \n",
    "    print(\"use_improved_CoAttention =\", use_improved_CoAttention)\n",
    "    \n",
    "    print()\n",
    "    print(\"#################################\")\n",
    "    print()\n"
   ]
  },
  {
   "cell_type": "code",
   "execution_count": 8,
   "metadata": {
    "id": "qfaqIm8ZOwx9"
   },
   "outputs": [],
   "source": [
    "class CoAttentionLayer(nn.Module):\n",
    "    def __init__(self, n_features, use_activation_fn=True):\n",
    "        super().__init__()\n",
    "        self.n_features = n_features\n",
    "        self.w_q = nn.Parameter(torch.zeros(n_features, n_features // 2))\n",
    "        self.w_k = nn.Parameter(torch.zeros(n_features, n_features // 2))\n",
    "        self.bias = nn.Parameter(torch.zeros(n_features // 2))\n",
    "        self.a = nn.Parameter(torch.zeros(n_features // 2))\n",
    "        self.use_activation_fn = use_activation_fn\n",
    "\n",
    "        nn.init.xavier_uniform_(self.w_q)\n",
    "        nn.init.xavier_uniform_(self.w_k)\n",
    "        nn.init.xavier_uniform_(self.bias.view(*self.bias.shape, -1))\n",
    "        nn.init.xavier_uniform_(self.a.view(*self.a.shape, -1))\n",
    "\n",
    "    def forward(self, receiver, attendant):\n",
    "        # receiver.shape  = (1024, 4, 64)\n",
    "        # attendant.shape = (1024, 4, 64)\n",
    "        keys = receiver @ self.w_k\n",
    "        queries = attendant @ self.w_q\n",
    "        # values = receiver @ self.w_v\n",
    "        values = receiver\n",
    "\n",
    "        # queries.shape = (1024, 4, 32)\n",
    "        # keys.shape = (1024, 4, 32)\n",
    "        e_activations = queries.unsqueeze(-3) + keys.unsqueeze(-2) + self.bias\n",
    "        if self.use_activation_fn:\n",
    "            e_scores = torch.tanh(e_activations) @ self.a\n",
    "        else:\n",
    "            e_scores = e_activations @ self.a\n",
    "        attentions = e_scores\n",
    "\n",
    "        return attentions\n",
    "\n",
    "class CoAttentionLayerImproved(nn.Module):\n",
    "    def __init__(self, n_features, use_activation_fn=True, dropout=0.1, n_heads=2):\n",
    "        super().__init__()\n",
    "        self.n_features = n_features\n",
    "        self.n_heads = n_heads\n",
    "        self.head_dim = n_features // n_heads\n",
    "\n",
    "        # Projects for queries and keys per head\n",
    "        self.w_q = nn.Parameter(torch.zeros(self.head_dim, self.head_dim // 2))\n",
    "        self.w_k = nn.Parameter(torch.zeros(self.head_dim, self.head_dim // 2))\n",
    "        self.bias = nn.Parameter(torch.zeros(self.n_features // 2))\n",
    "        self.a = nn.Parameter(torch.zeros(self.n_features // 2))\n",
    "        self.use_activation_fn = use_activation_fn\n",
    "\n",
    "        self.dropout = nn.Dropout(dropout)\n",
    "\n",
    "        nn.init.xavier_uniform_(self.w_q)\n",
    "        nn.init.xavier_uniform_(self.w_k)\n",
    "        nn.init.xavier_uniform_(self.bias.view(*self.bias.shape, -1))\n",
    "        nn.init.xavier_uniform_(self.a.view(*self.a.shape, -1))\n",
    "\n",
    "    def forward(self, receiver, attendant):\n",
    "        # receiver.shape  = (1024, 4, 64)\n",
    "        # attendant.shape = (1024, 4, 64)\n",
    "\n",
    "        # Split reciever and attendant into multiple heads\n",
    "        batch_size, gat_size, n_features = receiver.shape\n",
    "        receiver = receiver.view(batch_size, gat_size, self.n_heads, self.head_dim)\n",
    "        attendant = attendant.view(batch_size, gat_size, self.n_heads, self.head_dim)\n",
    "        \n",
    "        # Compute keys and queries per head\n",
    "        # receiver.shape  = (1024, 4, 2, 32)\n",
    "        # attendant.shape = (1024, 4, 2, 32)\n",
    "        \n",
    "        # self.w_k.shape  = (32, 16)\n",
    "        # self.w_q.shape  = (32, 16)\n",
    "        \n",
    "        # self.keys.shape     = (1024, 4, 2, 16)\n",
    "        # self.queries.shape  = (1024, 4, 2, 16)\n",
    "        keys = receiver @ self.w_k\n",
    "        queries = attendant @ self.w_q\n",
    "\n",
    "        # self.keys.shape     = (1024, 4, 32)\n",
    "        # self.queries.shape  = (1024, 4, 32)\n",
    "        keys    = keys.view(batch_size, gat_size, self.head_dim)\n",
    "        queries = queries.view(batch_size, gat_size, self.head_dim)\n",
    "        # print(\"keys.shape\", keys.shape)\n",
    "        # print(\"queries.shape\", queries.shape)\n",
    "\n",
    "        # e_activations.shape = (1024, 4, 4, 32)\n",
    "        # self.a.shape = (32,)\n",
    "        e_activations = queries.unsqueeze(-3) + keys.unsqueeze(-2) + self.bias\n",
    "        if self.use_activation_fn:\n",
    "            e_scores = torch.tanh(e_activations) @ self.a\n",
    "        else:\n",
    "            e_scores = e_activations @ self.a\n",
    "\n",
    "        # attentions.shape = (1024, 4, 4)\n",
    "        attentions = e_scores\n",
    "\n",
    "        return attentions\n",
    "\n",
    "\n",
    "class RESCAL(nn.Module):\n",
    "    def __init__(self, n_rels, n_features):\n",
    "        \"\"\"\n",
    "        n_rels: number of relations = 86\n",
    "        n_features: kge_dim = 64\n",
    "        \"\"\"\n",
    "        super().__init__()\n",
    "        self.n_rels = n_rels\n",
    "        self.n_features = n_features\n",
    "        # Embedding layer\n",
    "        self.rel_emb = nn.Embedding(self.n_rels, n_features * n_features)\n",
    "        #  Initializes the embedding weights with the Xavier uniform distribution, which helps maintain the scale of gradients during training\n",
    "        nn.init.xavier_uniform_(self.rel_emb.weight)\n",
    "\n",
    "    def forward(self, heads, tails, rels, alpha_scores):\n",
    "        rels = self.rel_emb(rels)\n",
    "        rels = F.normalize(rels, dim=-1)\n",
    "        heads = F.normalize(heads, dim=-1)\n",
    "        tails = F.normalize(tails, dim=-1)\n",
    "        # print(rels.shape)\n",
    "        # Convert shape (1024, 4096) to (1024, 64, 64) for dot product\n",
    "        rels = rels.view(-1, self.n_features, self.n_features)\n",
    "        # print(rels.shape)\n",
    "        # (1024, 4, 64) @ (1024, 64, 64) = (1024, 4, 64) @ (1024, 64, 4) = (1024, 4, 4)\n",
    "        scores = heads @ rels @ tails.transpose(-2, -1)\n",
    "\n",
    "        # alpha_scores.shape = (1024, 4, 4)\n",
    "        # scores.shape = (1024, 4, 4)\n",
    "        if alpha_scores is not None:\n",
    "            scores = alpha_scores * scores\n",
    "        # print(scores.shape)\n",
    "        \n",
    "        # sum the last 2 dimensions\n",
    "        scores = scores.sum(dim=(-2, -1))\n",
    "        \n",
    "        # print(scores.shape)\n",
    "        # Shape(1024,)\n",
    "        return scores\n",
    "\n",
    "    def __repr__(self):\n",
    "        return f\"{self.__class__.__name__}({self.n_rels}, {self.rel_emb.weight.shape})\"\n",
    "\n",
    "\n",
    "\n",
    "class ComplEx(nn.Module):\n",
    "    def __init__(self, n_rels, n_features):\n",
    "        super().__init__()\n",
    "        self.n_rels = n_rels\n",
    "        self.n_features = n_features\n",
    "    \n",
    "        # Relation embeddings are also complex\n",
    "        self.rel_real = nn.Embedding(self.n_rels, (self.n_features // 2) * (self.n_features // 2))\n",
    "        self.rel_imag = nn.Embedding(self.n_rels, (self.n_features // 2) * (self.n_features // 2))\n",
    "        \n",
    "        # Initialize embeddings\n",
    "        nn.init.xavier_uniform_(self.rel_real.weight)\n",
    "        nn.init.xavier_uniform_(self.rel_imag.weight)\n",
    "\n",
    "    def forward(self, heads, tails, rels, alpha_scores=None):\n",
    "        # Preprocess\n",
    "        heads = F.normalize(heads, dim=-1)\n",
    "        tails = F.normalize(tails, dim=-1)\n",
    "        \n",
    "        r_real, r_imag = self.rel_real(rels), self.rel_imag(rels)\n",
    "        r_real = F.normalize(r_real, dim=-1)\n",
    "        r_imag = F.normalize(r_imag, dim=-1)\n",
    "        # print(r_real.shape)\n",
    "        r_real = r_real.view(-1, self.n_features // 2, self.n_features // 2)\n",
    "        r_imag = r_imag.view(-1, self.n_features // 2, self.n_features // 2)\n",
    "        # print(r_real.shape)\n",
    "        # Split heads and tails to imaginary parts\n",
    "        h_real, h_imag = heads[..., :self.n_features // 2], heads[..., self.n_features // 2:]\n",
    "        t_real, t_imag = tails[..., :self.n_features // 2], heads[..., self.n_features // 2:]\n",
    "\n",
    "        # ComplEx scoring functionn\n",
    "        first_part_score = h_real @ r_real @ t_real.transpose(-2, -1)\n",
    "        second_part_score = h_real @ r_imag @ t_imag.transpose(-2, -1)\n",
    "        third_part_score = h_imag @ r_real @ t_imag.transpose(-2, -1)\n",
    "        fourth_part_score = h_imag @ r_imag @ t_real.transpose(-2, -1)\n",
    "\n",
    "        scores = first_part_score + second_part_score + third_part_score + fourth_part_score\n",
    "        \n",
    "        # If alpha_scores is provided, apply it\n",
    "        if alpha_scores is not None:\n",
    "            scores = alpha_scores * scores\n",
    "\n",
    "        scores = scores.sum(dim=(-2, -1))\n",
    "        \n",
    "        return scores\n",
    "\n",
    "    def __repr__(self):\n",
    "        return f\"{self.__class__.__name__}({self.n_rels}, {self.rel_real.weight.shape}, {self.rel_imag.weight.shape})\"\n"
   ]
  },
  {
   "cell_type": "code",
   "execution_count": 9,
   "metadata": {
    "id": "CWV8Vy2YRXQA"
   },
   "outputs": [],
   "source": [
    "class SSI_DDI(nn.Module):\n",
    "    def __init__(\n",
    "        self,\n",
    "        in_features,\n",
    "        hidd_dim,\n",
    "        kge_dim,\n",
    "        rel_total,\n",
    "        heads_out_feat_params,\n",
    "        blocks_params,\n",
    "        sp_ratio,\n",
    "        use_activation_fn,\n",
    "        use_ComplEx,\n",
    "        sp_min_score,\n",
    "        use_improved_CoAttention,\n",
    "    ):\n",
    "        \"\"\"\n",
    "        blocks_params: list of number layers for multi-head attentions\n",
    "        \"\"\"\n",
    "        super().__init__()\n",
    "        self.in_features = in_features\n",
    "        # not using this one\n",
    "        self.hidd_dim = hidd_dim\n",
    "        self.rel_total = rel_total\n",
    "        self.kge_dim = kge_dim\n",
    "        self.n_blocks = len(blocks_params)\n",
    "\n",
    "        self.initial_norm = LayerNorm(self.in_features)\n",
    "        self.blocks = []\n",
    "        self.use_activation_fn = use_activation_fn\n",
    "        self.use_ComplEx = use_ComplEx\n",
    "        # Layer normalization list\n",
    "        self.net_norms = ModuleList()\n",
    "        for i, (head_out_feats, n_heads) in enumerate(\n",
    "            zip(heads_out_feat_params, blocks_params)\n",
    "        ):\n",
    "            block = SSI_DDI_Block(\n",
    "                n_heads, in_features, head_out_feats, final_out_feats=self.hidd_dim, sp_ratio=sp_ratio, sp_min_score=sp_min_score\n",
    "            )\n",
    "            self.add_module(f\"block{i}\", block)\n",
    "            self.blocks.append(block)\n",
    "            self.net_norms.append(LayerNorm(head_out_feats * n_heads))\n",
    "            in_features = head_out_feats * n_heads\n",
    "\n",
    "        if use_improved_CoAttention:\n",
    "            self.co_attention = CoAttentionLayerImproved(self.kge_dim, self.use_activation_fn)\n",
    "        else:\n",
    "            self.co_attention = CoAttentionLayer(self.kge_dim, self.use_activation_fn)\n",
    "            \n",
    "        if self.use_ComplEx:\n",
    "            self.KGE = ComplEx(self.rel_total, self.kge_dim)\n",
    "        else:\n",
    "            self.KGE = RESCAL(self.rel_total, self.kge_dim)\n",
    "\n",
    "    def forward(self, triples):\n",
    "        h_data, t_data, rels = triples\n",
    "\n",
    "        h_data.x = self.initial_norm(h_data.x, h_data.batch)\n",
    "        t_data.x = self.initial_norm(t_data.x, t_data.batch)\n",
    "\n",
    "        repr_h = []\n",
    "        repr_t = []\n",
    "\n",
    "        for i, block in enumerate(self.blocks):\n",
    "            out1, out2 = block(h_data), block(t_data)\n",
    "\n",
    "            h_data = out1[0]\n",
    "            t_data = out2[0]\n",
    "            r_h = out1[1]\n",
    "            r_t = out2[1]\n",
    "\n",
    "            repr_h.append(r_h)\n",
    "            repr_t.append(r_t)\n",
    "\n",
    "            h_data.x = F.elu(self.net_norms[i](h_data.x, h_data.batch))\n",
    "            t_data.x = F.elu(self.net_norms[i](t_data.x, t_data.batch))\n",
    "\n",
    "        repr_h = torch.stack(repr_h, dim=-2)\n",
    "        repr_t = torch.stack(repr_t, dim=-2)\n",
    "\n",
    "        kge_heads = repr_h\n",
    "        kge_tails = repr_t\n",
    "\n",
    "        attentions = self.co_attention(kge_heads, kge_tails)\n",
    "        # attentions = None\n",
    "        scores = self.KGE(kge_heads, kge_tails, rels, attentions)\n",
    "\n",
    "        return scores\n",
    "\n",
    "\n",
    "class SSI_DDI_Block(nn.Module):\n",
    "    def __init__(self, n_heads, in_features, head_out_feats, final_out_feats, sp_ratio, sp_min_score):\n",
    "        \"\"\"\n",
    "        n_heades: number of multi-head attentions = 2\n",
    "        in_features: number of features = 55 . For explicit valence use, number of features = 56.\n",
    "        head_out_feats: number of out features. For 4 layers: [32, 32, 32, 32]\n",
    "        sp_ratio: SAGPooling ratio\n",
    "        \"\"\"\n",
    "        super().__init__()\n",
    "        self.n_heads = n_heads\n",
    "        self.in_features = in_features\n",
    "        self.out_features = head_out_feats\n",
    "        self.conv = GATConv(in_features, head_out_feats, n_heads)\n",
    "        # SAGPooling: Ranks nodes based on self-attention scores\n",
    "\n",
    "        if sp_ratio is None and sp_min_score is None:\n",
    "            self.readout = SAGPooling(n_heads * head_out_feats, min_score=-1)\n",
    "        else:\n",
    "            if sp_ratio is not None:\n",
    "                self.readout = SAGPooling(n_heads * head_out_feats, min_score=sp_min_score, ratio=sp_ratio)\n",
    "            else:\n",
    "                self.readout = SAGPooling(n_heads * head_out_feats, min_score=sp_min_score)\n",
    "\n",
    "    def forward(self, data):\n",
    "        data.x = self.conv(data.x, data.edge_index)\n",
    "        # Call SAGPooling here\n",
    "        # If min_score = -1 so nodes will not be filtered out, basically redudant for using the SAGPooling.\n",
    "        att_x, att_edge_index, att_edge_attr, att_batch, att_perm, att_scores = (\n",
    "            self.readout(data.x, data.edge_index, batch=data.batch)\n",
    "        )\n",
    "        # Aggregates the pooled node features (att_x) across the graph to obtain a global representation\n",
    "        global_graph_emb = global_add_pool(att_x, att_batch)\n",
    "\n",
    "        # data = max_pool_neighbor_x(data)\n",
    "        return data, global_graph_emb\n"
   ]
  },
  {
   "cell_type": "code",
   "execution_count": 10,
   "metadata": {
    "id": "ZT2vnlWzR6FD"
   },
   "outputs": [],
   "source": [
    "class SigmoidLoss(nn.Module):\n",
    "    def __init__(self, adv_temperature=None):\n",
    "        super().__init__()\n",
    "        self.adv_temperature = adv_temperature\n",
    "\n",
    "    def forward(self, p_scores, n_scores):\n",
    "        if self.adv_temperature:\n",
    "            weights = F.softmax(self.adv_temperature * n_scores, dim=-1).detach()\n",
    "            n_scores = weights * n_scores\n",
    "        p_loss = -F.logsigmoid(p_scores).mean()\n",
    "        n_loss = -F.logsigmoid(-n_scores).mean()\n",
    "\n",
    "        return (p_loss + n_loss) / 2, p_loss, n_loss\n"
   ]
  },
  {
   "cell_type": "code",
   "execution_count": 11,
   "metadata": {
    "colab": {
     "base_uri": "https://localhost:8080/"
    },
    "executionInfo": {
     "elapsed": 5412,
     "status": "ok",
     "timestamp": 1729307124627,
     "user": {
      "displayName": "Nam Le",
      "userId": "10910051602335296858"
     },
     "user_tz": -420
    },
    "id": "iokMMRiStLG2",
    "outputId": "afa67e5a-4edb-4c3a-ee51-e0a261f743f6"
   },
   "outputs": [
    {
     "name": "stdout",
     "output_type": "stream",
     "text": [
      "Training with 115185 samples, validating with 38348, and testing with 38337\n"
     ]
    }
   ],
   "source": [
    "df_ddi_train = pd.read_csv(f\"{data_dir}/ddi_training.csv\")\n",
    "df_ddi_val = pd.read_csv(f\"{data_dir}/ddi_validation.csv\")\n",
    "df_ddi_test = pd.read_csv(f\"{data_dir}/ddi_test.csv\")\n",
    "\n",
    "\n",
    "train_tup = [\n",
    "    (h, t, r)\n",
    "    for h, t, r in zip(df_ddi_train[\"d1\"], df_ddi_train[\"d2\"], df_ddi_train[\"type\"])\n",
    "]\n",
    "val_tup = [\n",
    "    (h, t, r) for h, t, r in zip(df_ddi_val[\"d1\"], df_ddi_val[\"d2\"], df_ddi_val[\"type\"])\n",
    "]\n",
    "test_tup = [\n",
    "    (h, t, r)\n",
    "    for h, t, r in zip(df_ddi_test[\"d1\"], df_ddi_test[\"d2\"], df_ddi_test[\"type\"])\n",
    "]\n",
    "\n",
    "train_data = DrugDataset(train_tup, ratio=data_size_ratio, neg_ent=neg_samples)\n",
    "val_data = DrugDataset(val_tup, ratio=data_size_ratio, disjoint_split=False)\n",
    "test_data = DrugDataset(test_tup, disjoint_split=False)\n",
    "\n",
    "print(\n",
    "    f\"Training with {len(train_data)} samples, validating with {len(val_data)}, and testing with {len(test_data)}\"\n",
    ")\n",
    "\n",
    "train_data_loader = DrugDataLoader(train_data, batch_size=batch_size, shuffle=True)\n",
    "val_data_loader = DrugDataLoader(val_data, batch_size=batch_size * 3)\n",
    "test_data_loader = DrugDataLoader(test_data, batch_size=batch_size * 3)\n"
   ]
  },
  {
   "cell_type": "code",
   "execution_count": 12,
   "metadata": {
    "id": "7jJxwTGhtwRE"
   },
   "outputs": [],
   "source": [
    "def do_compute(model, batch, device, training=True):\n",
    "    \"\"\"\n",
    "    *batch: (pos_tri, neg_tri)\n",
    "    *pos/neg_tri: (batch_h, batch_t, batch_r)\n",
    "    \"\"\"\n",
    "    probas_pred, ground_truth = [], []\n",
    "    pos_tri, neg_tri = batch\n",
    "\n",
    "    pos_tri = [tensor.to(device=device) for tensor in pos_tri]\n",
    "    p_score = model(pos_tri)\n",
    "    probas_pred.append(torch.sigmoid(p_score.detach()).cpu())\n",
    "    ground_truth.append(np.ones(len(p_score)))\n",
    "\n",
    "    neg_tri = [tensor.to(device=device) for tensor in neg_tri]\n",
    "    n_score = model(neg_tri)\n",
    "    probas_pred.append(torch.sigmoid(n_score.detach()).cpu())\n",
    "    ground_truth.append(np.zeros(len(n_score)))\n",
    "\n",
    "    probas_pred = np.concatenate(probas_pred)\n",
    "    ground_truth = np.concatenate(ground_truth)\n",
    "\n",
    "    return p_score, n_score, probas_pred, ground_truth\n",
    "\n",
    "\n",
    "def do_compute_metrics(probas_pred, target):\n",
    "\n",
    "    pred = (probas_pred >= 0.5).astype(np.int64)\n",
    "\n",
    "    acc = metrics.accuracy_score(target, pred)\n",
    "    auc_roc = metrics.roc_auc_score(target, probas_pred)\n",
    "    f1_score = metrics.f1_score(target, pred)\n",
    "\n",
    "    p, r, t = metrics.precision_recall_curve(target, probas_pred)\n",
    "    auc_prc = metrics.auc(r, p)\n",
    "\n",
    "    return acc, auc_roc, auc_prc"
   ]
  },
  {
   "cell_type": "code",
   "execution_count": 13,
   "metadata": {},
   "outputs": [],
   "source": [
    "import csv\n",
    "def export_metrics(train_metrics, val_metrics, epoch):\n",
    "    train_metrics_dir = \"train_metrics\"\n",
    "    metrics_file = f\"{train_metrics_dir}/{model_name}.csv\"\n",
    "    train_loss, train_acc, train_auc_roc, train_auc_prc = train_metrics\n",
    "    val_loss, val_acc, val_auc_roc, val_auc_prc = val_metrics\n",
    "\n",
    "    data = [epoch, train_loss, train_acc, train_auc_roc, train_auc_prc, val_loss, val_acc, val_auc_roc, val_auc_prc]\n",
    "    header = [\"epoch\", \"train_loss\", \"train_acc\", \"train_auc_roc\", \"train_auc_prc\", \"val_loss\", \"val_acc\", \"val_auc_roc\", \"val_auc_prc\"]\n",
    "    \n",
    "    if epoch == 1:\n",
    "        with open(metrics_file, 'w', newline='') as file:\n",
    "            writer = csv.writer(file)\n",
    "            # Write the header\n",
    "            writer.writerow(header)\n",
    "            # Write the data rows\n",
    "            writer.writerow(data)\n",
    "    else:\n",
    "        with open(metrics_file, 'a', newline='') as file:\n",
    "            writer = csv.writer(file)\n",
    "            # Write the data to the file\n",
    "            writer.writerow(data)\n",
    "    \n",
    "    "
   ]
  },
  {
   "cell_type": "code",
   "execution_count": 14,
   "metadata": {
    "id": "EV5GTDPktz_h"
   },
   "outputs": [],
   "source": [
    "def train(\n",
    "    model,\n",
    "    train_data_loader,\n",
    "    val_data_loader,\n",
    "    loss_fn,\n",
    "    optimizer,\n",
    "    n_epochs,\n",
    "    device,\n",
    "    scheduler=None,\n",
    "):\n",
    "    print(\"Starting training at:\", datetime.today())\n",
    "    print(\"Device:\", device)\n",
    "    print_tunning_parameters()\n",
    "    best_val_auc_prc = 0\n",
    "    for i in range(1, n_epochs + 1):\n",
    "        start = time.time()\n",
    "        train_loss = 0\n",
    "        train_loss_pos = 0\n",
    "        train_loss_neg = 0\n",
    "        val_loss = 0\n",
    "        val_loss_pos = 0\n",
    "        val_loss_neg = 0\n",
    "        train_probas_pred = []\n",
    "        train_ground_truth = []\n",
    "        val_probas_pred = []\n",
    "        val_ground_truth = []\n",
    "\n",
    "        for batch in train_data_loader:\n",
    "            # print(len(batch))\n",
    "            model.train()\n",
    "            p_score, n_score, probas_pred, ground_truth = do_compute(model, batch, device)\n",
    "            train_probas_pred.append(probas_pred)\n",
    "            train_ground_truth.append(ground_truth)\n",
    "            loss, loss_p, loss_n = loss_fn(p_score, n_score)\n",
    "\n",
    "            optimizer.zero_grad()\n",
    "            loss.backward()\n",
    "            optimizer.step()\n",
    "\n",
    "            train_loss += loss.item() * len(p_score)\n",
    "        train_loss /= len(train_data)\n",
    "\n",
    "        with torch.no_grad():\n",
    "            train_probas_pred = np.concatenate(train_probas_pred)\n",
    "            train_ground_truth = np.concatenate(train_ground_truth)\n",
    "\n",
    "            train_acc, train_auc_roc, train_auc_prc = do_compute_metrics(\n",
    "                train_probas_pred, train_ground_truth\n",
    "            )\n",
    "\n",
    "            for batch in val_data_loader:\n",
    "                model.eval()\n",
    "                p_score, n_score, probas_pred, ground_truth = do_compute(model, batch, device)\n",
    "                val_probas_pred.append(probas_pred)\n",
    "                val_ground_truth.append(ground_truth)\n",
    "                loss, loss_p, loss_n = loss_fn(p_score, n_score)\n",
    "                val_loss += loss.item() * len(p_score)\n",
    "\n",
    "            val_loss /= len(val_data)\n",
    "            val_probas_pred = np.concatenate(val_probas_pred)\n",
    "            val_ground_truth = np.concatenate(val_ground_truth)\n",
    "            val_acc, val_auc_roc, val_auc_prc = do_compute_metrics(\n",
    "                val_probas_pred, val_ground_truth\n",
    "            )\n",
    "            \n",
    "            # Save model if this is best result based on val_auc_prc\n",
    "            if best_val_auc_prc < val_auc_prc:\n",
    "                print(\"Saving model\")\n",
    "                best_val_auc_prc = val_auc_prc\n",
    "                torch.save(model, model_file)\n",
    "\n",
    "        if scheduler:\n",
    "            # print('scheduling')\n",
    "            scheduler.step()\n",
    "\n",
    "        # Exporting metrics for later plots\n",
    "        train_metrics = (train_loss, train_acc, train_auc_roc, train_auc_prc)\n",
    "        val_metrics = (val_loss, val_acc, val_auc_roc, val_auc_prc)\n",
    "        export_metrics(train_metrics, val_metrics, i)\n",
    "        \n",
    "        print(\n",
    "            f\"Epoch: {i} ({time.time() - start:.4f}s), train_loss: {train_loss:.4f}, val_loss: {val_loss:.4f},\"\n",
    "            f\" train_acc: {train_acc:.4f}, val_acc:{val_acc:.4f}\"\n",
    "        )\n",
    "        print(\n",
    "            f\"\\t\\ttrain_roc: {train_auc_roc:.4f}, val_roc: {val_auc_roc:.4f}, train_auprc: {train_auc_prc:.4f}, val_auprc: {val_auc_prc:.4f}\"\n",
    "        )\n",
    "\n",
    "    return model"
   ]
  },
  {
   "cell_type": "code",
   "execution_count": 15,
   "metadata": {
    "id": "ZwBcoUHEuAtJ"
   },
   "outputs": [],
   "source": [
    "def predict(model, test_data_loader, device):\n",
    "    print('Starting predicting at', datetime.today())\n",
    "    print('Device', device)\n",
    "\n",
    "    test_probas_pred = []\n",
    "    test_ground_truth = []\n",
    "\n",
    "    # Switch to evaluation mode\n",
    "    model.eval()\n",
    "\n",
    "    with torch.no_grad():  # No need to calculate gradients during testing\n",
    "        for batch in test_data_loader:\n",
    "            # Get predictions and ground truth for the batch\n",
    "            p_score, n_score, probas_pred, ground_truth = do_compute(model, batch, device, training=False)\n",
    "\n",
    "            # Append the predictions and ground truths\n",
    "            test_probas_pred.append(probas_pred)\n",
    "            test_ground_truth.append(ground_truth)\n",
    "\n",
    "\n",
    "    # Concatenate the results for the entire test dataset\n",
    "    test_probas_pred = np.concatenate(test_probas_pred)\n",
    "    test_ground_truth = np.concatenate(test_ground_truth)\n",
    "\n",
    "    # Calculate the metrics for the test dataset\n",
    "    test_acc, test_auc_roc, test_auc_prc = do_compute_metrics(test_probas_pred, test_ground_truth)\n",
    "\n",
    "    print(f'Test Accuracy: {test_acc:.4f}')\n",
    "    print(f'Test ROC AUC: {test_auc_roc:.4f}')\n",
    "    print(f'Test PRC AUC: {test_auc_prc:.4f}')"
   ]
  },
  {
   "cell_type": "code",
   "execution_count": 16,
   "metadata": {
    "colab": {
     "base_uri": "https://localhost:8080/"
    },
    "executionInfo": {
     "elapsed": 722,
     "status": "ok",
     "timestamp": 1729307125347,
     "user": {
      "displayName": "Nam Le",
      "userId": "10910051602335296858"
     },
     "user_tz": -420
    },
    "id": "PQ1H7udUuFMT",
    "outputId": "4519f4c7-6ad4-4d20-b66d-a5f26cdab691"
   },
   "outputs": [
    {
     "name": "stdout",
     "output_type": "stream",
     "text": [
      "SSI_DDI(\n",
      "  (initial_norm): LayerNorm(55, affine=True, mode=graph)\n",
      "  (net_norms): ModuleList(\n",
      "    (0-4): 5 x LayerNorm(64, affine=True, mode=graph)\n",
      "  )\n",
      "  (block0): SSI_DDI_Block(\n",
      "    (conv): GATConv(55, 32, heads=2)\n",
      "    (readout): SAGPooling(GraphConv, 64, min_score=-1, multiplier=1.0)\n",
      "  )\n",
      "  (block1): SSI_DDI_Block(\n",
      "    (conv): GATConv(64, 32, heads=2)\n",
      "    (readout): SAGPooling(GraphConv, 64, min_score=-1, multiplier=1.0)\n",
      "  )\n",
      "  (block2): SSI_DDI_Block(\n",
      "    (conv): GATConv(64, 32, heads=2)\n",
      "    (readout): SAGPooling(GraphConv, 64, min_score=-1, multiplier=1.0)\n",
      "  )\n",
      "  (block3): SSI_DDI_Block(\n",
      "    (conv): GATConv(64, 32, heads=2)\n",
      "    (readout): SAGPooling(GraphConv, 64, min_score=-1, multiplier=1.0)\n",
      "  )\n",
      "  (block4): SSI_DDI_Block(\n",
      "    (conv): GATConv(64, 32, heads=2)\n",
      "    (readout): SAGPooling(GraphConv, 64, min_score=-1, multiplier=1.0)\n",
      "  )\n",
      "  (co_attention): CoAttentionLayerImproved(\n",
      "    (dropout): Dropout(p=0.1, inplace=False)\n",
      "  )\n",
      "  (KGE): RESCAL(86, torch.Size([86, 4096]))\n",
      ")\n"
     ]
    }
   ],
   "source": [
    "model_file = f\"{model_dir}/{model_name}.pth\"\n",
    "\n",
    "if mode == \"train\":\n",
    "    model = SSI_DDI(\n",
    "        n_atom_feats,\n",
    "        n_atom_hid,\n",
    "        kge_dim,\n",
    "        rel_total,\n",
    "        heads_out_feat_params=[32, 32, 32, 32,32],\n",
    "        blocks_params=[2, 2, 2, 2,2],\n",
    "        sp_ratio=sp_ratio,\n",
    "        use_activation_fn=use_activation_fn,\n",
    "        use_ComplEx=use_ComplEx,\n",
    "        sp_min_score=sp_min_score,\n",
    "        use_improved_CoAttention=use_improved_CoAttention,\n",
    "    )\n",
    "    loss = SigmoidLoss()\n",
    "    optimizer = optim.Adam(model.parameters(), lr=lr, weight_decay=weight_decay)\n",
    "    scheduler = optim.lr_scheduler.LambdaLR(optimizer, lambda epoch: 0.96 ** (epoch))\n",
    "    print(model)\n",
    "    model.to(device=device)"
   ]
  },
  {
   "cell_type": "code",
   "execution_count": 17,
   "metadata": {
    "colab": {
     "base_uri": "https://localhost:8080/"
    },
    "id": "JvcD5xd_uVbL",
    "outputId": "20e29f96-e964-4647-8a0e-5f46bed80a06"
   },
   "outputs": [
    {
     "name": "stdout",
     "output_type": "stream",
     "text": [
      "Starting training at: 2024-10-22 23:27:48.778153\n",
      "Device: cuda\n",
      "\n",
      "####### Tunning parameters #######\n",
      "\n",
      "n_epochs = 300\n",
      "use_cuda = True\n",
      "sp_ratio = None\n",
      "sp_min_score = None\n",
      "use_explicit_valence = False\n",
      "use_activation_fn = False\n",
      "use_ComplEx = False\n",
      "use_improved_CoAttention = True\n",
      "\n",
      "#################################\n",
      "\n"
     ]
    },
    {
     "name": "stderr",
     "output_type": "stream",
     "text": [
      "/home/namle/.local/lib/python3.10/site-packages/torch_geometric/warnings.py:11: UserWarning: The usage of `scatter(reduce='max')` can be accelerated via the 'torch-scatter' package, but it was not found\n",
      "  warnings.warn(message)\n"
     ]
    },
    {
     "name": "stdout",
     "output_type": "stream",
     "text": [
      "Saving model\n",
      "Epoch: 1 (70.3748s), train_loss: 0.6922, val_loss: 0.6433, train_acc: 0.5590, val_acc:0.6166\n",
      "\t\ttrain_roc: 0.5892, val_roc: 0.6695, train_auprc: 0.5744, val_auprc: 0.6554\n"
     ]
    },
    {
     "name": "stderr",
     "output_type": "stream",
     "text": [
      "/home/namle/.local/lib/python3.10/site-packages/torch_geometric/warnings.py:11: UserWarning: The usage of `scatter(reduce='max')` can be accelerated via the 'torch-scatter' package, but it was not found\n",
      "  warnings.warn(message)\n"
     ]
    },
    {
     "name": "stdout",
     "output_type": "stream",
     "text": [
      "Saving model\n",
      "Epoch: 2 (79.6391s), train_loss: 0.6125, val_loss: 0.5804, train_acc: 0.6513, val_acc:0.6885\n",
      "\t\ttrain_roc: 0.7149, val_roc: 0.7580, train_auprc: 0.6980, val_auprc: 0.7384\n"
     ]
    },
    {
     "name": "stderr",
     "output_type": "stream",
     "text": [
      "/home/namle/.local/lib/python3.10/site-packages/torch_geometric/warnings.py:11: UserWarning: The usage of `scatter(reduce='max')` can be accelerated via the 'torch-scatter' package, but it was not found\n",
      "  warnings.warn(message)\n"
     ]
    },
    {
     "name": "stdout",
     "output_type": "stream",
     "text": [
      "Saving model\n",
      "Epoch: 3 (93.5661s), train_loss: 0.5663, val_loss: 0.5483, train_acc: 0.6998, val_acc:0.7156\n",
      "\t\ttrain_roc: 0.7719, val_roc: 0.7898, train_auprc: 0.7515, val_auprc: 0.7674\n"
     ]
    },
    {
     "name": "stderr",
     "output_type": "stream",
     "text": [
      "/home/namle/.local/lib/python3.10/site-packages/torch_geometric/warnings.py:11: UserWarning: The usage of `scatter(reduce='max')` can be accelerated via the 'torch-scatter' package, but it was not found\n",
      "  warnings.warn(message)\n"
     ]
    },
    {
     "name": "stdout",
     "output_type": "stream",
     "text": [
      "Saving model\n",
      "Epoch: 4 (89.7230s), train_loss: 0.5399, val_loss: 0.5305, train_acc: 0.7244, val_acc:0.7284\n",
      "\t\ttrain_roc: 0.7987, val_roc: 0.8081, train_auprc: 0.7775, val_auprc: 0.7904\n"
     ]
    },
    {
     "name": "stderr",
     "output_type": "stream",
     "text": [
      "/home/namle/.local/lib/python3.10/site-packages/torch_geometric/warnings.py:11: UserWarning: The usage of `scatter(reduce='max')` can be accelerated via the 'torch-scatter' package, but it was not found\n",
      "  warnings.warn(message)\n"
     ]
    },
    {
     "name": "stdout",
     "output_type": "stream",
     "text": [
      "Saving model\n",
      "Epoch: 5 (96.1037s), train_loss: 0.5223, val_loss: 0.5224, train_acc: 0.7375, val_acc:0.7344\n",
      "\t\ttrain_roc: 0.8141, val_roc: 0.8145, train_auprc: 0.7943, val_auprc: 0.7998\n"
     ]
    },
    {
     "name": "stderr",
     "output_type": "stream",
     "text": [
      "/home/namle/.local/lib/python3.10/site-packages/torch_geometric/warnings.py:11: UserWarning: The usage of `scatter(reduce='max')` can be accelerated via the 'torch-scatter' package, but it was not found\n",
      "  warnings.warn(message)\n"
     ]
    },
    {
     "name": "stdout",
     "output_type": "stream",
     "text": [
      "Saving model\n",
      "Epoch: 6 (95.5136s), train_loss: 0.5057, val_loss: 0.5035, train_acc: 0.7497, val_acc:0.7539\n",
      "\t\ttrain_roc: 0.8282, val_roc: 0.8313, train_auprc: 0.8080, val_auprc: 0.8119\n"
     ]
    },
    {
     "name": "stderr",
     "output_type": "stream",
     "text": [
      "/home/namle/.local/lib/python3.10/site-packages/torch_geometric/warnings.py:11: UserWarning: The usage of `scatter(reduce='max')` can be accelerated via the 'torch-scatter' package, but it was not found\n",
      "  warnings.warn(message)\n"
     ]
    },
    {
     "name": "stdout",
     "output_type": "stream",
     "text": [
      "Saving model\n",
      "Epoch: 7 (96.0807s), train_loss: 0.4894, val_loss: 0.4833, train_acc: 0.7619, val_acc:0.7640\n",
      "\t\ttrain_roc: 0.8408, val_roc: 0.8452, train_auprc: 0.8211, val_auprc: 0.8252\n"
     ]
    },
    {
     "name": "stderr",
     "output_type": "stream",
     "text": [
      "/home/namle/.local/lib/python3.10/site-packages/torch_geometric/warnings.py:11: UserWarning: The usage of `scatter(reduce='max')` can be accelerated via the 'torch-scatter' package, but it was not found\n",
      "  warnings.warn(message)\n"
     ]
    },
    {
     "name": "stdout",
     "output_type": "stream",
     "text": [
      "Saving model\n",
      "Epoch: 8 (96.9181s), train_loss: 0.4777, val_loss: 0.4778, train_acc: 0.7703, val_acc:0.7675\n",
      "\t\ttrain_roc: 0.8498, val_roc: 0.8524, train_auprc: 0.8295, val_auprc: 0.8331\n"
     ]
    },
    {
     "name": "stderr",
     "output_type": "stream",
     "text": [
      "/home/namle/.local/lib/python3.10/site-packages/torch_geometric/warnings.py:11: UserWarning: The usage of `scatter(reduce='max')` can be accelerated via the 'torch-scatter' package, but it was not found\n",
      "  warnings.warn(message)\n"
     ]
    },
    {
     "name": "stdout",
     "output_type": "stream",
     "text": [
      "Saving model\n",
      "Epoch: 9 (95.0209s), train_loss: 0.4630, val_loss: 0.4639, train_acc: 0.7809, val_acc:0.7808\n",
      "\t\ttrain_roc: 0.8599, val_roc: 0.8591, train_auprc: 0.8398, val_auprc: 0.8390\n"
     ]
    },
    {
     "name": "stderr",
     "output_type": "stream",
     "text": [
      "/home/namle/.local/lib/python3.10/site-packages/torch_geometric/warnings.py:11: UserWarning: The usage of `scatter(reduce='max')` can be accelerated via the 'torch-scatter' package, but it was not found\n",
      "  warnings.warn(message)\n"
     ]
    },
    {
     "name": "stdout",
     "output_type": "stream",
     "text": [
      "Saving model\n",
      "Epoch: 10 (97.0935s), train_loss: 0.4543, val_loss: 0.4519, train_acc: 0.7878, val_acc:0.7878\n",
      "\t\ttrain_roc: 0.8657, val_roc: 0.8675, train_auprc: 0.8453, val_auprc: 0.8487\n"
     ]
    },
    {
     "name": "stderr",
     "output_type": "stream",
     "text": [
      "/home/namle/.local/lib/python3.10/site-packages/torch_geometric/warnings.py:11: UserWarning: The usage of `scatter(reduce='max')` can be accelerated via the 'torch-scatter' package, but it was not found\n",
      "  warnings.warn(message)\n"
     ]
    },
    {
     "name": "stdout",
     "output_type": "stream",
     "text": [
      "Saving model\n",
      "Epoch: 11 (96.7367s), train_loss: 0.4448, val_loss: 0.4493, train_acc: 0.7942, val_acc:0.7901\n",
      "\t\ttrain_roc: 0.8717, val_roc: 0.8686, train_auprc: 0.8516, val_auprc: 0.8499\n"
     ]
    },
    {
     "name": "stderr",
     "output_type": "stream",
     "text": [
      "/home/namle/.local/lib/python3.10/site-packages/torch_geometric/warnings.py:11: UserWarning: The usage of `scatter(reduce='max')` can be accelerated via the 'torch-scatter' package, but it was not found\n",
      "  warnings.warn(message)\n"
     ]
    },
    {
     "name": "stdout",
     "output_type": "stream",
     "text": [
      "Saving model\n",
      "Epoch: 12 (95.9006s), train_loss: 0.4340, val_loss: 0.4344, train_acc: 0.8010, val_acc:0.7997\n",
      "\t\ttrain_roc: 0.8783, val_roc: 0.8788, train_auprc: 0.8590, val_auprc: 0.8590\n"
     ]
    },
    {
     "name": "stderr",
     "output_type": "stream",
     "text": [
      "/home/namle/.local/lib/python3.10/site-packages/torch_geometric/warnings.py:11: UserWarning: The usage of `scatter(reduce='max')` can be accelerated via the 'torch-scatter' package, but it was not found\n",
      "  warnings.warn(message)\n"
     ]
    },
    {
     "name": "stdout",
     "output_type": "stream",
     "text": [
      "Saving model\n",
      "Epoch: 13 (97.5182s), train_loss: 0.4267, val_loss: 0.4317, train_acc: 0.8065, val_acc:0.8061\n",
      "\t\ttrain_roc: 0.8831, val_roc: 0.8804, train_auprc: 0.8625, val_auprc: 0.8616\n"
     ]
    },
    {
     "name": "stderr",
     "output_type": "stream",
     "text": [
      "/home/namle/.local/lib/python3.10/site-packages/torch_geometric/warnings.py:11: UserWarning: The usage of `scatter(reduce='max')` can be accelerated via the 'torch-scatter' package, but it was not found\n",
      "  warnings.warn(message)\n"
     ]
    },
    {
     "name": "stdout",
     "output_type": "stream",
     "text": [
      "Saving model\n",
      "Epoch: 14 (96.6624s), train_loss: 0.4184, val_loss: 0.4177, train_acc: 0.8112, val_acc:0.8124\n",
      "\t\ttrain_roc: 0.8877, val_roc: 0.8883, train_auprc: 0.8688, val_auprc: 0.8701\n"
     ]
    },
    {
     "name": "stderr",
     "output_type": "stream",
     "text": [
      "/home/namle/.local/lib/python3.10/site-packages/torch_geometric/warnings.py:11: UserWarning: The usage of `scatter(reduce='max')` can be accelerated via the 'torch-scatter' package, but it was not found\n",
      "  warnings.warn(message)\n"
     ]
    },
    {
     "name": "stdout",
     "output_type": "stream",
     "text": [
      "Saving model\n",
      "Epoch: 15 (96.5148s), train_loss: 0.4106, val_loss: 0.4151, train_acc: 0.8156, val_acc:0.8131\n",
      "\t\ttrain_roc: 0.8920, val_roc: 0.8908, train_auprc: 0.8732, val_auprc: 0.8727\n"
     ]
    },
    {
     "name": "stderr",
     "output_type": "stream",
     "text": [
      "/home/namle/.local/lib/python3.10/site-packages/torch_geometric/warnings.py:11: UserWarning: The usage of `scatter(reduce='max')` can be accelerated via the 'torch-scatter' package, but it was not found\n",
      "  warnings.warn(message)\n"
     ]
    },
    {
     "name": "stdout",
     "output_type": "stream",
     "text": [
      "Saving model\n",
      "Epoch: 16 (97.1268s), train_loss: 0.4046, val_loss: 0.4058, train_acc: 0.8194, val_acc:0.8208\n",
      "\t\ttrain_roc: 0.8952, val_roc: 0.8960, train_auprc: 0.8764, val_auprc: 0.8782\n"
     ]
    },
    {
     "name": "stderr",
     "output_type": "stream",
     "text": [
      "/home/namle/.local/lib/python3.10/site-packages/torch_geometric/warnings.py:11: UserWarning: The usage of `scatter(reduce='max')` can be accelerated via the 'torch-scatter' package, but it was not found\n",
      "  warnings.warn(message)\n"
     ]
    },
    {
     "name": "stdout",
     "output_type": "stream",
     "text": [
      "Saving model\n",
      "Epoch: 17 (94.6422s), train_loss: 0.3995, val_loss: 0.4003, train_acc: 0.8226, val_acc:0.8220\n",
      "\t\ttrain_roc: 0.8978, val_roc: 0.8979, train_auprc: 0.8800, val_auprc: 0.8806\n"
     ]
    },
    {
     "name": "stderr",
     "output_type": "stream",
     "text": [
      "/home/namle/.local/lib/python3.10/site-packages/torch_geometric/warnings.py:11: UserWarning: The usage of `scatter(reduce='max')` can be accelerated via the 'torch-scatter' package, but it was not found\n",
      "  warnings.warn(message)\n"
     ]
    },
    {
     "name": "stdout",
     "output_type": "stream",
     "text": [
      "Saving model\n",
      "Epoch: 18 (95.3880s), train_loss: 0.3919, val_loss: 0.3925, train_acc: 0.8264, val_acc:0.8266\n",
      "\t\ttrain_roc: 0.9017, val_roc: 0.9017, train_auprc: 0.8843, val_auprc: 0.8847\n"
     ]
    },
    {
     "name": "stderr",
     "output_type": "stream",
     "text": [
      "/home/namle/.local/lib/python3.10/site-packages/torch_geometric/warnings.py:11: UserWarning: The usage of `scatter(reduce='max')` can be accelerated via the 'torch-scatter' package, but it was not found\n",
      "  warnings.warn(message)\n"
     ]
    },
    {
     "name": "stdout",
     "output_type": "stream",
     "text": [
      "Epoch: 19 (96.3381s), train_loss: 0.3882, val_loss: 0.3912, train_acc: 0.8294, val_acc:0.8274\n",
      "\t\ttrain_roc: 0.9043, val_roc: 0.9021, train_auprc: 0.8866, val_auprc: 0.8837\n"
     ]
    },
    {
     "name": "stderr",
     "output_type": "stream",
     "text": [
      "/home/namle/.local/lib/python3.10/site-packages/torch_geometric/warnings.py:11: UserWarning: The usage of `scatter(reduce='max')` can be accelerated via the 'torch-scatter' package, but it was not found\n",
      "  warnings.warn(message)\n"
     ]
    },
    {
     "name": "stdout",
     "output_type": "stream",
     "text": [
      "Epoch: 20 (86.5428s), train_loss: 0.3814, val_loss: 0.3919, train_acc: 0.8328, val_acc:0.8272\n",
      "\t\ttrain_roc: 0.9072, val_roc: 0.9019, train_auprc: 0.8900, val_auprc: 0.8837\n"
     ]
    },
    {
     "name": "stderr",
     "output_type": "stream",
     "text": [
      "/home/namle/.local/lib/python3.10/site-packages/torch_geometric/warnings.py:11: UserWarning: The usage of `scatter(reduce='max')` can be accelerated via the 'torch-scatter' package, but it was not found\n",
      "  warnings.warn(message)\n"
     ]
    },
    {
     "name": "stdout",
     "output_type": "stream",
     "text": [
      "Saving model\n",
      "Epoch: 21 (91.6314s), train_loss: 0.3790, val_loss: 0.3847, train_acc: 0.8347, val_acc:0.8282\n",
      "\t\ttrain_roc: 0.9087, val_roc: 0.9061, train_auprc: 0.8918, val_auprc: 0.8918\n"
     ]
    },
    {
     "name": "stderr",
     "output_type": "stream",
     "text": [
      "/home/namle/.local/lib/python3.10/site-packages/torch_geometric/warnings.py:11: UserWarning: The usage of `scatter(reduce='max')` can be accelerated via the 'torch-scatter' package, but it was not found\n",
      "  warnings.warn(message)\n"
     ]
    },
    {
     "name": "stdout",
     "output_type": "stream",
     "text": [
      "Saving model\n",
      "Epoch: 22 (96.7288s), train_loss: 0.3754, val_loss: 0.3782, train_acc: 0.8368, val_acc:0.8364\n",
      "\t\ttrain_roc: 0.9104, val_roc: 0.9098, train_auprc: 0.8930, val_auprc: 0.8944\n"
     ]
    },
    {
     "name": "stderr",
     "output_type": "stream",
     "text": [
      "/home/namle/.local/lib/python3.10/site-packages/torch_geometric/warnings.py:11: UserWarning: The usage of `scatter(reduce='max')` can be accelerated via the 'torch-scatter' package, but it was not found\n",
      "  warnings.warn(message)\n"
     ]
    },
    {
     "name": "stdout",
     "output_type": "stream",
     "text": [
      "Saving model\n",
      "Epoch: 23 (94.5147s), train_loss: 0.3705, val_loss: 0.3753, train_acc: 0.8394, val_acc:0.8357\n",
      "\t\ttrain_roc: 0.9127, val_roc: 0.9111, train_auprc: 0.8960, val_auprc: 0.8966\n"
     ]
    },
    {
     "name": "stderr",
     "output_type": "stream",
     "text": [
      "/home/namle/.local/lib/python3.10/site-packages/torch_geometric/warnings.py:11: UserWarning: The usage of `scatter(reduce='max')` can be accelerated via the 'torch-scatter' package, but it was not found\n",
      "  warnings.warn(message)\n"
     ]
    },
    {
     "name": "stdout",
     "output_type": "stream",
     "text": [
      "Epoch: 24 (91.6732s), train_loss: 0.3654, val_loss: 0.3731, train_acc: 0.8424, val_acc:0.8395\n",
      "\t\ttrain_roc: 0.9152, val_roc: 0.9113, train_auprc: 0.8979, val_auprc: 0.8938\n"
     ]
    },
    {
     "name": "stderr",
     "output_type": "stream",
     "text": [
      "/home/namle/.local/lib/python3.10/site-packages/torch_geometric/warnings.py:11: UserWarning: The usage of `scatter(reduce='max')` can be accelerated via the 'torch-scatter' package, but it was not found\n",
      "  warnings.warn(message)\n"
     ]
    },
    {
     "name": "stdout",
     "output_type": "stream",
     "text": [
      "Saving model\n",
      "Epoch: 25 (70.5691s), train_loss: 0.3611, val_loss: 0.3630, train_acc: 0.8455, val_acc:0.8414\n",
      "\t\ttrain_roc: 0.9170, val_roc: 0.9165, train_auprc: 0.9002, val_auprc: 0.9020\n"
     ]
    },
    {
     "name": "stderr",
     "output_type": "stream",
     "text": [
      "/home/namle/.local/lib/python3.10/site-packages/torch_geometric/warnings.py:11: UserWarning: The usage of `scatter(reduce='max')` can be accelerated via the 'torch-scatter' package, but it was not found\n",
      "  warnings.warn(message)\n"
     ]
    },
    {
     "name": "stdout",
     "output_type": "stream",
     "text": [
      "Saving model\n",
      "Epoch: 26 (69.9745s), train_loss: 0.3555, val_loss: 0.3601, train_acc: 0.8482, val_acc:0.8473\n",
      "\t\ttrain_roc: 0.9198, val_roc: 0.9192, train_auprc: 0.9035, val_auprc: 0.9036\n"
     ]
    },
    {
     "name": "stderr",
     "output_type": "stream",
     "text": [
      "/home/namle/.local/lib/python3.10/site-packages/torch_geometric/warnings.py:11: UserWarning: The usage of `scatter(reduce='max')` can be accelerated via the 'torch-scatter' package, but it was not found\n",
      "  warnings.warn(message)\n"
     ]
    },
    {
     "name": "stdout",
     "output_type": "stream",
     "text": [
      "Epoch: 27 (72.9877s), train_loss: 0.3530, val_loss: 0.3622, train_acc: 0.8495, val_acc:0.8432\n",
      "\t\ttrain_roc: 0.9210, val_roc: 0.9176, train_auprc: 0.9046, val_auprc: 0.9028\n"
     ]
    },
    {
     "name": "stderr",
     "output_type": "stream",
     "text": [
      "/home/namle/.local/lib/python3.10/site-packages/torch_geometric/warnings.py:11: UserWarning: The usage of `scatter(reduce='max')` can be accelerated via the 'torch-scatter' package, but it was not found\n",
      "  warnings.warn(message)\n"
     ]
    },
    {
     "name": "stdout",
     "output_type": "stream",
     "text": [
      "Saving model\n",
      "Epoch: 28 (84.5787s), train_loss: 0.3473, val_loss: 0.3560, train_acc: 0.8519, val_acc:0.8500\n",
      "\t\ttrain_roc: 0.9234, val_roc: 0.9209, train_auprc: 0.9079, val_auprc: 0.9051\n"
     ]
    },
    {
     "name": "stderr",
     "output_type": "stream",
     "text": [
      "/home/namle/.local/lib/python3.10/site-packages/torch_geometric/warnings.py:11: UserWarning: The usage of `scatter(reduce='max')` can be accelerated via the 'torch-scatter' package, but it was not found\n",
      "  warnings.warn(message)\n"
     ]
    },
    {
     "name": "stdout",
     "output_type": "stream",
     "text": [
      "Epoch: 29 (81.2986s), train_loss: 0.3447, val_loss: 0.3577, train_acc: 0.8543, val_acc:0.8477\n",
      "\t\ttrain_roc: 0.9245, val_roc: 0.9193, train_auprc: 0.9084, val_auprc: 0.9036\n"
     ]
    },
    {
     "name": "stderr",
     "output_type": "stream",
     "text": [
      "/home/namle/.local/lib/python3.10/site-packages/torch_geometric/warnings.py:11: UserWarning: The usage of `scatter(reduce='max')` can be accelerated via the 'torch-scatter' package, but it was not found\n",
      "  warnings.warn(message)\n"
     ]
    },
    {
     "name": "stdout",
     "output_type": "stream",
     "text": [
      "Saving model\n",
      "Epoch: 30 (80.8277s), train_loss: 0.3403, val_loss: 0.3519, train_acc: 0.8563, val_acc:0.8477\n",
      "\t\ttrain_roc: 0.9263, val_roc: 0.9221, train_auprc: 0.9110, val_auprc: 0.9072\n"
     ]
    },
    {
     "name": "stderr",
     "output_type": "stream",
     "text": [
      "/home/namle/.local/lib/python3.10/site-packages/torch_geometric/warnings.py:11: UserWarning: The usage of `scatter(reduce='max')` can be accelerated via the 'torch-scatter' package, but it was not found\n",
      "  warnings.warn(message)\n"
     ]
    },
    {
     "name": "stdout",
     "output_type": "stream",
     "text": [
      "Saving model\n",
      "Epoch: 31 (79.9791s), train_loss: 0.3372, val_loss: 0.3418, train_acc: 0.8579, val_acc:0.8564\n",
      "\t\ttrain_roc: 0.9277, val_roc: 0.9262, train_auprc: 0.9123, val_auprc: 0.9128\n"
     ]
    },
    {
     "name": "stderr",
     "output_type": "stream",
     "text": [
      "/home/namle/.local/lib/python3.10/site-packages/torch_geometric/warnings.py:11: UserWarning: The usage of `scatter(reduce='max')` can be accelerated via the 'torch-scatter' package, but it was not found\n",
      "  warnings.warn(message)\n"
     ]
    },
    {
     "name": "stdout",
     "output_type": "stream",
     "text": [
      "Epoch: 32 (80.2473s), train_loss: 0.3326, val_loss: 0.3422, train_acc: 0.8606, val_acc:0.8566\n",
      "\t\ttrain_roc: 0.9296, val_roc: 0.9256, train_auprc: 0.9144, val_auprc: 0.9108\n"
     ]
    },
    {
     "name": "stderr",
     "output_type": "stream",
     "text": [
      "/home/namle/.local/lib/python3.10/site-packages/torch_geometric/warnings.py:11: UserWarning: The usage of `scatter(reduce='max')` can be accelerated via the 'torch-scatter' package, but it was not found\n",
      "  warnings.warn(message)\n"
     ]
    },
    {
     "name": "stdout",
     "output_type": "stream",
     "text": [
      "Saving model\n",
      "Epoch: 33 (82.0028s), train_loss: 0.3308, val_loss: 0.3417, train_acc: 0.8611, val_acc:0.8582\n",
      "\t\ttrain_roc: 0.9304, val_roc: 0.9267, train_auprc: 0.9152, val_auprc: 0.9130\n"
     ]
    },
    {
     "name": "stderr",
     "output_type": "stream",
     "text": [
      "/home/namle/.local/lib/python3.10/site-packages/torch_geometric/warnings.py:11: UserWarning: The usage of `scatter(reduce='max')` can be accelerated via the 'torch-scatter' package, but it was not found\n",
      "  warnings.warn(message)\n"
     ]
    },
    {
     "name": "stdout",
     "output_type": "stream",
     "text": [
      "Saving model\n",
      "Epoch: 34 (81.2762s), train_loss: 0.3279, val_loss: 0.3364, train_acc: 0.8630, val_acc:0.8599\n",
      "\t\ttrain_roc: 0.9312, val_roc: 0.9284, train_auprc: 0.9165, val_auprc: 0.9147\n"
     ]
    },
    {
     "name": "stderr",
     "output_type": "stream",
     "text": [
      "/home/namle/.local/lib/python3.10/site-packages/torch_geometric/warnings.py:11: UserWarning: The usage of `scatter(reduce='max')` can be accelerated via the 'torch-scatter' package, but it was not found\n",
      "  warnings.warn(message)\n"
     ]
    },
    {
     "name": "stdout",
     "output_type": "stream",
     "text": [
      "Saving model\n",
      "Epoch: 35 (80.3963s), train_loss: 0.3242, val_loss: 0.3326, train_acc: 0.8651, val_acc:0.8602\n",
      "\t\ttrain_roc: 0.9330, val_roc: 0.9298, train_auprc: 0.9182, val_auprc: 0.9158\n"
     ]
    },
    {
     "name": "stderr",
     "output_type": "stream",
     "text": [
      "/home/namle/.local/lib/python3.10/site-packages/torch_geometric/warnings.py:11: UserWarning: The usage of `scatter(reduce='max')` can be accelerated via the 'torch-scatter' package, but it was not found\n",
      "  warnings.warn(message)\n"
     ]
    },
    {
     "name": "stdout",
     "output_type": "stream",
     "text": [
      "Epoch: 36 (81.2050s), train_loss: 0.3221, val_loss: 0.3328, train_acc: 0.8668, val_acc:0.8613\n",
      "\t\ttrain_roc: 0.9339, val_roc: 0.9300, train_auprc: 0.9191, val_auprc: 0.9158\n"
     ]
    },
    {
     "name": "stderr",
     "output_type": "stream",
     "text": [
      "/home/namle/.local/lib/python3.10/site-packages/torch_geometric/warnings.py:11: UserWarning: The usage of `scatter(reduce='max')` can be accelerated via the 'torch-scatter' package, but it was not found\n",
      "  warnings.warn(message)\n"
     ]
    },
    {
     "name": "stdout",
     "output_type": "stream",
     "text": [
      "Saving model\n",
      "Epoch: 37 (80.9973s), train_loss: 0.3165, val_loss: 0.3278, train_acc: 0.8691, val_acc:0.8634\n",
      "\t\ttrain_roc: 0.9362, val_roc: 0.9318, train_auprc: 0.9217, val_auprc: 0.9173\n"
     ]
    },
    {
     "name": "stderr",
     "output_type": "stream",
     "text": [
      "/home/namle/.local/lib/python3.10/site-packages/torch_geometric/warnings.py:11: UserWarning: The usage of `scatter(reduce='max')` can be accelerated via the 'torch-scatter' package, but it was not found\n",
      "  warnings.warn(message)\n"
     ]
    },
    {
     "name": "stdout",
     "output_type": "stream",
     "text": [
      "Saving model\n",
      "Epoch: 38 (79.9728s), train_loss: 0.3138, val_loss: 0.3289, train_acc: 0.8709, val_acc:0.8612\n",
      "\t\ttrain_roc: 0.9371, val_roc: 0.9323, train_auprc: 0.9225, val_auprc: 0.9203\n"
     ]
    },
    {
     "name": "stderr",
     "output_type": "stream",
     "text": [
      "/home/namle/.local/lib/python3.10/site-packages/torch_geometric/warnings.py:11: UserWarning: The usage of `scatter(reduce='max')` can be accelerated via the 'torch-scatter' package, but it was not found\n",
      "  warnings.warn(message)\n"
     ]
    },
    {
     "name": "stdout",
     "output_type": "stream",
     "text": [
      "Epoch: 39 (80.6025s), train_loss: 0.3105, val_loss: 0.3241, train_acc: 0.8729, val_acc:0.8677\n",
      "\t\ttrain_roc: 0.9385, val_roc: 0.9340, train_auprc: 0.9242, val_auprc: 0.9198\n"
     ]
    },
    {
     "name": "stderr",
     "output_type": "stream",
     "text": [
      "/home/namle/.local/lib/python3.10/site-packages/torch_geometric/warnings.py:11: UserWarning: The usage of `scatter(reduce='max')` can be accelerated via the 'torch-scatter' package, but it was not found\n",
      "  warnings.warn(message)\n"
     ]
    },
    {
     "name": "stdout",
     "output_type": "stream",
     "text": [
      "Saving model\n",
      "Epoch: 40 (80.4540s), train_loss: 0.3075, val_loss: 0.3233, train_acc: 0.8744, val_acc:0.8667\n",
      "\t\ttrain_roc: 0.9396, val_roc: 0.9343, train_auprc: 0.9252, val_auprc: 0.9220\n"
     ]
    },
    {
     "name": "stderr",
     "output_type": "stream",
     "text": [
      "/home/namle/.local/lib/python3.10/site-packages/torch_geometric/warnings.py:11: UserWarning: The usage of `scatter(reduce='max')` can be accelerated via the 'torch-scatter' package, but it was not found\n",
      "  warnings.warn(message)\n"
     ]
    },
    {
     "name": "stdout",
     "output_type": "stream",
     "text": [
      "Epoch: 41 (80.8060s), train_loss: 0.3044, val_loss: 0.3202, train_acc: 0.8752, val_acc:0.8669\n",
      "\t\ttrain_roc: 0.9409, val_roc: 0.9353, train_auprc: 0.9273, val_auprc: 0.9215\n"
     ]
    },
    {
     "name": "stderr",
     "output_type": "stream",
     "text": [
      "/home/namle/.local/lib/python3.10/site-packages/torch_geometric/warnings.py:11: UserWarning: The usage of `scatter(reduce='max')` can be accelerated via the 'torch-scatter' package, but it was not found\n",
      "  warnings.warn(message)\n"
     ]
    },
    {
     "name": "stdout",
     "output_type": "stream",
     "text": [
      "Saving model\n",
      "Epoch: 42 (80.2028s), train_loss: 0.3010, val_loss: 0.3153, train_acc: 0.8767, val_acc:0.8700\n",
      "\t\ttrain_roc: 0.9421, val_roc: 0.9375, train_auprc: 0.9288, val_auprc: 0.9249\n"
     ]
    },
    {
     "name": "stderr",
     "output_type": "stream",
     "text": [
      "/home/namle/.local/lib/python3.10/site-packages/torch_geometric/warnings.py:11: UserWarning: The usage of `scatter(reduce='max')` can be accelerated via the 'torch-scatter' package, but it was not found\n",
      "  warnings.warn(message)\n"
     ]
    },
    {
     "name": "stdout",
     "output_type": "stream",
     "text": [
      "Epoch: 43 (80.6677s), train_loss: 0.3011, val_loss: 0.3161, train_acc: 0.8775, val_acc:0.8700\n",
      "\t\ttrain_roc: 0.9420, val_roc: 0.9368, train_auprc: 0.9279, val_auprc: 0.9235\n"
     ]
    },
    {
     "name": "stderr",
     "output_type": "stream",
     "text": [
      "/home/namle/.local/lib/python3.10/site-packages/torch_geometric/warnings.py:11: UserWarning: The usage of `scatter(reduce='max')` can be accelerated via the 'torch-scatter' package, but it was not found\n",
      "  warnings.warn(message)\n"
     ]
    },
    {
     "name": "stdout",
     "output_type": "stream",
     "text": [
      "Saving model\n",
      "Epoch: 44 (80.1283s), train_loss: 0.2972, val_loss: 0.3120, train_acc: 0.8800, val_acc:0.8721\n",
      "\t\ttrain_roc: 0.9434, val_roc: 0.9382, train_auprc: 0.9294, val_auprc: 0.9253\n"
     ]
    },
    {
     "name": "stderr",
     "output_type": "stream",
     "text": [
      "/home/namle/.local/lib/python3.10/site-packages/torch_geometric/warnings.py:11: UserWarning: The usage of `scatter(reduce='max')` can be accelerated via the 'torch-scatter' package, but it was not found\n",
      "  warnings.warn(message)\n"
     ]
    },
    {
     "name": "stdout",
     "output_type": "stream",
     "text": [
      "Saving model\n",
      "Epoch: 45 (80.5186s), train_loss: 0.2939, val_loss: 0.3104, train_acc: 0.8810, val_acc:0.8715\n",
      "\t\ttrain_roc: 0.9446, val_roc: 0.9393, train_auprc: 0.9314, val_auprc: 0.9269\n"
     ]
    },
    {
     "name": "stderr",
     "output_type": "stream",
     "text": [
      "/home/namle/.local/lib/python3.10/site-packages/torch_geometric/warnings.py:11: UserWarning: The usage of `scatter(reduce='max')` can be accelerated via the 'torch-scatter' package, but it was not found\n",
      "  warnings.warn(message)\n"
     ]
    },
    {
     "name": "stdout",
     "output_type": "stream",
     "text": [
      "Epoch: 46 (80.3996s), train_loss: 0.2919, val_loss: 0.3143, train_acc: 0.8816, val_acc:0.8704\n",
      "\t\ttrain_roc: 0.9451, val_roc: 0.9379, train_auprc: 0.9319, val_auprc: 0.9251\n"
     ]
    },
    {
     "name": "stderr",
     "output_type": "stream",
     "text": [
      "/home/namle/.local/lib/python3.10/site-packages/torch_geometric/warnings.py:11: UserWarning: The usage of `scatter(reduce='max')` can be accelerated via the 'torch-scatter' package, but it was not found\n",
      "  warnings.warn(message)\n"
     ]
    },
    {
     "name": "stdout",
     "output_type": "stream",
     "text": [
      "Saving model\n",
      "Epoch: 47 (80.0266s), train_loss: 0.2892, val_loss: 0.3040, train_acc: 0.8838, val_acc:0.8757\n",
      "\t\ttrain_roc: 0.9461, val_roc: 0.9415, train_auprc: 0.9328, val_auprc: 0.9290\n"
     ]
    },
    {
     "name": "stderr",
     "output_type": "stream",
     "text": [
      "/home/namle/.local/lib/python3.10/site-packages/torch_geometric/warnings.py:11: UserWarning: The usage of `scatter(reduce='max')` can be accelerated via the 'torch-scatter' package, but it was not found\n",
      "  warnings.warn(message)\n"
     ]
    },
    {
     "name": "stdout",
     "output_type": "stream",
     "text": [
      "Epoch: 48 (80.7180s), train_loss: 0.2857, val_loss: 0.3094, train_acc: 0.8855, val_acc:0.8739\n",
      "\t\ttrain_roc: 0.9473, val_roc: 0.9396, train_auprc: 0.9341, val_auprc: 0.9264\n"
     ]
    },
    {
     "name": "stderr",
     "output_type": "stream",
     "text": [
      "/home/namle/.local/lib/python3.10/site-packages/torch_geometric/warnings.py:11: UserWarning: The usage of `scatter(reduce='max')` can be accelerated via the 'torch-scatter' package, but it was not found\n",
      "  warnings.warn(message)\n"
     ]
    },
    {
     "name": "stdout",
     "output_type": "stream",
     "text": [
      "Epoch: 49 (80.0423s), train_loss: 0.2848, val_loss: 0.3102, train_acc: 0.8862, val_acc:0.8735\n",
      "\t\ttrain_roc: 0.9474, val_roc: 0.9401, train_auprc: 0.9343, val_auprc: 0.9280\n"
     ]
    },
    {
     "name": "stderr",
     "output_type": "stream",
     "text": [
      "/home/namle/.local/lib/python3.10/site-packages/torch_geometric/warnings.py:11: UserWarning: The usage of `scatter(reduce='max')` can be accelerated via the 'torch-scatter' package, but it was not found\n",
      "  warnings.warn(message)\n"
     ]
    },
    {
     "name": "stdout",
     "output_type": "stream",
     "text": [
      "Epoch: 50 (80.4627s), train_loss: 0.2815, val_loss: 0.3063, train_acc: 0.8882, val_acc:0.8743\n",
      "\t\ttrain_roc: 0.9487, val_roc: 0.9411, train_auprc: 0.9358, val_auprc: 0.9285\n"
     ]
    },
    {
     "name": "stderr",
     "output_type": "stream",
     "text": [
      "/home/namle/.local/lib/python3.10/site-packages/torch_geometric/warnings.py:11: UserWarning: The usage of `scatter(reduce='max')` can be accelerated via the 'torch-scatter' package, but it was not found\n",
      "  warnings.warn(message)\n"
     ]
    },
    {
     "name": "stdout",
     "output_type": "stream",
     "text": [
      "Saving model\n",
      "Epoch: 51 (80.2639s), train_loss: 0.2786, val_loss: 0.2988, train_acc: 0.8885, val_acc:0.8801\n",
      "\t\ttrain_roc: 0.9498, val_roc: 0.9434, train_auprc: 0.9377, val_auprc: 0.9317\n"
     ]
    },
    {
     "name": "stderr",
     "output_type": "stream",
     "text": [
      "/home/namle/.local/lib/python3.10/site-packages/torch_geometric/warnings.py:11: UserWarning: The usage of `scatter(reduce='max')` can be accelerated via the 'torch-scatter' package, but it was not found\n",
      "  warnings.warn(message)\n"
     ]
    },
    {
     "name": "stdout",
     "output_type": "stream",
     "text": [
      "Epoch: 52 (80.3892s), train_loss: 0.2772, val_loss: 0.3017, train_acc: 0.8890, val_acc:0.8764\n",
      "\t\ttrain_roc: 0.9501, val_roc: 0.9422, train_auprc: 0.9378, val_auprc: 0.9297\n"
     ]
    },
    {
     "name": "stderr",
     "output_type": "stream",
     "text": [
      "/home/namle/.local/lib/python3.10/site-packages/torch_geometric/warnings.py:11: UserWarning: The usage of `scatter(reduce='max')` can be accelerated via the 'torch-scatter' package, but it was not found\n",
      "  warnings.warn(message)\n"
     ]
    },
    {
     "name": "stdout",
     "output_type": "stream",
     "text": [
      "Saving model\n",
      "Epoch: 53 (81.0137s), train_loss: 0.2746, val_loss: 0.2936, train_acc: 0.8913, val_acc:0.8809\n",
      "\t\ttrain_roc: 0.9511, val_roc: 0.9454, train_auprc: 0.9385, val_auprc: 0.9335\n"
     ]
    },
    {
     "name": "stderr",
     "output_type": "stream",
     "text": [
      "/home/namle/.local/lib/python3.10/site-packages/torch_geometric/warnings.py:11: UserWarning: The usage of `scatter(reduce='max')` can be accelerated via the 'torch-scatter' package, but it was not found\n",
      "  warnings.warn(message)\n"
     ]
    },
    {
     "name": "stdout",
     "output_type": "stream",
     "text": [
      "Epoch: 54 (80.8127s), train_loss: 0.2708, val_loss: 0.2981, train_acc: 0.8924, val_acc:0.8782\n",
      "\t\ttrain_roc: 0.9522, val_roc: 0.9439, train_auprc: 0.9402, val_auprc: 0.9327\n"
     ]
    },
    {
     "name": "stderr",
     "output_type": "stream",
     "text": [
      "/home/namle/.local/lib/python3.10/site-packages/torch_geometric/warnings.py:11: UserWarning: The usage of `scatter(reduce='max')` can be accelerated via the 'torch-scatter' package, but it was not found\n",
      "  warnings.warn(message)\n"
     ]
    },
    {
     "name": "stdout",
     "output_type": "stream",
     "text": [
      "Saving model\n",
      "Epoch: 55 (79.8080s), train_loss: 0.2702, val_loss: 0.2925, train_acc: 0.8930, val_acc:0.8823\n",
      "\t\ttrain_roc: 0.9523, val_roc: 0.9456, train_auprc: 0.9402, val_auprc: 0.9337\n"
     ]
    },
    {
     "name": "stderr",
     "output_type": "stream",
     "text": [
      "/home/namle/.local/lib/python3.10/site-packages/torch_geometric/warnings.py:11: UserWarning: The usage of `scatter(reduce='max')` can be accelerated via the 'torch-scatter' package, but it was not found\n",
      "  warnings.warn(message)\n"
     ]
    },
    {
     "name": "stdout",
     "output_type": "stream",
     "text": [
      "Saving model\n",
      "Epoch: 56 (80.4838s), train_loss: 0.2697, val_loss: 0.2928, train_acc: 0.8932, val_acc:0.8805\n",
      "\t\ttrain_roc: 0.9526, val_roc: 0.9463, train_auprc: 0.9401, val_auprc: 0.9349\n"
     ]
    },
    {
     "name": "stderr",
     "output_type": "stream",
     "text": [
      "/home/namle/.local/lib/python3.10/site-packages/torch_geometric/warnings.py:11: UserWarning: The usage of `scatter(reduce='max')` can be accelerated via the 'torch-scatter' package, but it was not found\n",
      "  warnings.warn(message)\n"
     ]
    },
    {
     "name": "stdout",
     "output_type": "stream",
     "text": [
      "Saving model\n",
      "Epoch: 57 (80.2357s), train_loss: 0.2677, val_loss: 0.2914, train_acc: 0.8943, val_acc:0.8818\n",
      "\t\ttrain_roc: 0.9533, val_roc: 0.9462, train_auprc: 0.9409, val_auprc: 0.9350\n"
     ]
    },
    {
     "name": "stderr",
     "output_type": "stream",
     "text": [
      "/home/namle/.local/lib/python3.10/site-packages/torch_geometric/warnings.py:11: UserWarning: The usage of `scatter(reduce='max')` can be accelerated via the 'torch-scatter' package, but it was not found\n",
      "  warnings.warn(message)\n"
     ]
    },
    {
     "name": "stdout",
     "output_type": "stream",
     "text": [
      "Epoch: 58 (81.0717s), train_loss: 0.2665, val_loss: 0.2918, train_acc: 0.8952, val_acc:0.8829\n",
      "\t\ttrain_roc: 0.9536, val_roc: 0.9464, train_auprc: 0.9414, val_auprc: 0.9347\n"
     ]
    },
    {
     "name": "stderr",
     "output_type": "stream",
     "text": [
      "/home/namle/.local/lib/python3.10/site-packages/torch_geometric/warnings.py:11: UserWarning: The usage of `scatter(reduce='max')` can be accelerated via the 'torch-scatter' package, but it was not found\n",
      "  warnings.warn(message)\n"
     ]
    },
    {
     "name": "stdout",
     "output_type": "stream",
     "text": [
      "Saving model\n",
      "Epoch: 59 (79.1546s), train_loss: 0.2635, val_loss: 0.2850, train_acc: 0.8963, val_acc:0.8843\n",
      "\t\ttrain_roc: 0.9546, val_roc: 0.9485, train_auprc: 0.9427, val_auprc: 0.9378\n"
     ]
    },
    {
     "name": "stderr",
     "output_type": "stream",
     "text": [
      "/home/namle/.local/lib/python3.10/site-packages/torch_geometric/warnings.py:11: UserWarning: The usage of `scatter(reduce='max')` can be accelerated via the 'torch-scatter' package, but it was not found\n",
      "  warnings.warn(message)\n"
     ]
    },
    {
     "name": "stdout",
     "output_type": "stream",
     "text": [
      "Epoch: 60 (80.6943s), train_loss: 0.2604, val_loss: 0.2850, train_acc: 0.8982, val_acc:0.8867\n",
      "\t\ttrain_roc: 0.9552, val_roc: 0.9482, train_auprc: 0.9436, val_auprc: 0.9368\n"
     ]
    },
    {
     "name": "stderr",
     "output_type": "stream",
     "text": [
      "/home/namle/.local/lib/python3.10/site-packages/torch_geometric/warnings.py:11: UserWarning: The usage of `scatter(reduce='max')` can be accelerated via the 'torch-scatter' package, but it was not found\n",
      "  warnings.warn(message)\n"
     ]
    },
    {
     "name": "stdout",
     "output_type": "stream",
     "text": [
      "Epoch: 61 (79.8077s), train_loss: 0.2606, val_loss: 0.2888, train_acc: 0.8977, val_acc:0.8836\n",
      "\t\ttrain_roc: 0.9554, val_roc: 0.9477, train_auprc: 0.9436, val_auprc: 0.9366\n"
     ]
    },
    {
     "name": "stderr",
     "output_type": "stream",
     "text": [
      "/home/namle/.local/lib/python3.10/site-packages/torch_geometric/warnings.py:11: UserWarning: The usage of `scatter(reduce='max')` can be accelerated via the 'torch-scatter' package, but it was not found\n",
      "  warnings.warn(message)\n"
     ]
    },
    {
     "name": "stdout",
     "output_type": "stream",
     "text": [
      "Epoch: 62 (79.9836s), train_loss: 0.2575, val_loss: 0.2893, train_acc: 0.8990, val_acc:0.8825\n",
      "\t\ttrain_roc: 0.9564, val_roc: 0.9481, train_auprc: 0.9452, val_auprc: 0.9373\n"
     ]
    },
    {
     "name": "stderr",
     "output_type": "stream",
     "text": [
      "/home/namle/.local/lib/python3.10/site-packages/torch_geometric/warnings.py:11: UserWarning: The usage of `scatter(reduce='max')` can be accelerated via the 'torch-scatter' package, but it was not found\n",
      "  warnings.warn(message)\n"
     ]
    },
    {
     "name": "stdout",
     "output_type": "stream",
     "text": [
      "Saving model\n",
      "Epoch: 63 (80.5985s), train_loss: 0.2538, val_loss: 0.2851, train_acc: 0.9012, val_acc:0.8862\n",
      "\t\ttrain_roc: 0.9574, val_roc: 0.9487, train_auprc: 0.9462, val_auprc: 0.9379\n"
     ]
    },
    {
     "name": "stderr",
     "output_type": "stream",
     "text": [
      "/home/namle/.local/lib/python3.10/site-packages/torch_geometric/warnings.py:11: UserWarning: The usage of `scatter(reduce='max')` can be accelerated via the 'torch-scatter' package, but it was not found\n",
      "  warnings.warn(message)\n"
     ]
    },
    {
     "name": "stdout",
     "output_type": "stream",
     "text": [
      "Epoch: 64 (80.9447s), train_loss: 0.2542, val_loss: 0.2862, train_acc: 0.9012, val_acc:0.8868\n",
      "\t\ttrain_roc: 0.9572, val_roc: 0.9483, train_auprc: 0.9458, val_auprc: 0.9371\n"
     ]
    },
    {
     "name": "stderr",
     "output_type": "stream",
     "text": [
      "/home/namle/.local/lib/python3.10/site-packages/torch_geometric/warnings.py:11: UserWarning: The usage of `scatter(reduce='max')` can be accelerated via the 'torch-scatter' package, but it was not found\n",
      "  warnings.warn(message)\n"
     ]
    },
    {
     "name": "stdout",
     "output_type": "stream",
     "text": [
      "Saving model\n",
      "Epoch: 65 (80.4766s), train_loss: 0.2525, val_loss: 0.2801, train_acc: 0.9021, val_acc:0.8873\n",
      "\t\ttrain_roc: 0.9579, val_roc: 0.9506, train_auprc: 0.9465, val_auprc: 0.9409\n"
     ]
    },
    {
     "name": "stderr",
     "output_type": "stream",
     "text": [
      "/home/namle/.local/lib/python3.10/site-packages/torch_geometric/warnings.py:11: UserWarning: The usage of `scatter(reduce='max')` can be accelerated via the 'torch-scatter' package, but it was not found\n",
      "  warnings.warn(message)\n"
     ]
    },
    {
     "name": "stdout",
     "output_type": "stream",
     "text": [
      "Epoch: 66 (80.1952s), train_loss: 0.2501, val_loss: 0.2808, train_acc: 0.9033, val_acc:0.8882\n",
      "\t\ttrain_roc: 0.9586, val_roc: 0.9501, train_auprc: 0.9477, val_auprc: 0.9398\n"
     ]
    },
    {
     "name": "stderr",
     "output_type": "stream",
     "text": [
      "/home/namle/.local/lib/python3.10/site-packages/torch_geometric/warnings.py:11: UserWarning: The usage of `scatter(reduce='max')` can be accelerated via the 'torch-scatter' package, but it was not found\n",
      "  warnings.warn(message)\n"
     ]
    },
    {
     "name": "stdout",
     "output_type": "stream",
     "text": [
      "Epoch: 67 (81.2093s), train_loss: 0.2496, val_loss: 0.2821, train_acc: 0.9030, val_acc:0.8894\n",
      "\t\ttrain_roc: 0.9587, val_roc: 0.9500, train_auprc: 0.9477, val_auprc: 0.9392\n"
     ]
    },
    {
     "name": "stderr",
     "output_type": "stream",
     "text": [
      "/home/namle/.local/lib/python3.10/site-packages/torch_geometric/warnings.py:11: UserWarning: The usage of `scatter(reduce='max')` can be accelerated via the 'torch-scatter' package, but it was not found\n",
      "  warnings.warn(message)\n"
     ]
    },
    {
     "name": "stdout",
     "output_type": "stream",
     "text": [
      "Epoch: 68 (79.9523s), train_loss: 0.2453, val_loss: 0.2791, train_acc: 0.9050, val_acc:0.8900\n",
      "\t\ttrain_roc: 0.9601, val_roc: 0.9507, train_auprc: 0.9496, val_auprc: 0.9401\n"
     ]
    },
    {
     "name": "stderr",
     "output_type": "stream",
     "text": [
      "/home/namle/.local/lib/python3.10/site-packages/torch_geometric/warnings.py:11: UserWarning: The usage of `scatter(reduce='max')` can be accelerated via the 'torch-scatter' package, but it was not found\n",
      "  warnings.warn(message)\n"
     ]
    },
    {
     "name": "stdout",
     "output_type": "stream",
     "text": [
      "Saving model\n",
      "Epoch: 69 (79.7840s), train_loss: 0.2448, val_loss: 0.2829, train_acc: 0.9050, val_acc:0.8865\n",
      "\t\ttrain_roc: 0.9601, val_roc: 0.9514, train_auprc: 0.9495, val_auprc: 0.9412\n"
     ]
    },
    {
     "name": "stderr",
     "output_type": "stream",
     "text": [
      "/home/namle/.local/lib/python3.10/site-packages/torch_geometric/warnings.py:11: UserWarning: The usage of `scatter(reduce='max')` can be accelerated via the 'torch-scatter' package, but it was not found\n",
      "  warnings.warn(message)\n"
     ]
    },
    {
     "name": "stdout",
     "output_type": "stream",
     "text": [
      "Saving model\n",
      "Epoch: 70 (80.5229s), train_loss: 0.2454, val_loss: 0.2774, train_acc: 0.9051, val_acc:0.8893\n",
      "\t\ttrain_roc: 0.9599, val_roc: 0.9518, train_auprc: 0.9491, val_auprc: 0.9423\n"
     ]
    },
    {
     "name": "stderr",
     "output_type": "stream",
     "text": [
      "/home/namle/.local/lib/python3.10/site-packages/torch_geometric/warnings.py:11: UserWarning: The usage of `scatter(reduce='max')` can be accelerated via the 'torch-scatter' package, but it was not found\n",
      "  warnings.warn(message)\n"
     ]
    },
    {
     "name": "stdout",
     "output_type": "stream",
     "text": [
      "Epoch: 71 (80.2953s), train_loss: 0.2412, val_loss: 0.2768, train_acc: 0.9071, val_acc:0.8910\n",
      "\t\ttrain_roc: 0.9611, val_roc: 0.9515, train_auprc: 0.9509, val_auprc: 0.9409\n"
     ]
    },
    {
     "name": "stderr",
     "output_type": "stream",
     "text": [
      "/home/namle/.local/lib/python3.10/site-packages/torch_geometric/warnings.py:11: UserWarning: The usage of `scatter(reduce='max')` can be accelerated via the 'torch-scatter' package, but it was not found\n",
      "  warnings.warn(message)\n"
     ]
    },
    {
     "name": "stdout",
     "output_type": "stream",
     "text": [
      "Epoch: 72 (79.8437s), train_loss: 0.2416, val_loss: 0.2793, train_acc: 0.9069, val_acc:0.8892\n",
      "\t\ttrain_roc: 0.9611, val_roc: 0.9511, train_auprc: 0.9507, val_auprc: 0.9406\n"
     ]
    },
    {
     "name": "stderr",
     "output_type": "stream",
     "text": [
      "/home/namle/.local/lib/python3.10/site-packages/torch_geometric/warnings.py:11: UserWarning: The usage of `scatter(reduce='max')` can be accelerated via the 'torch-scatter' package, but it was not found\n",
      "  warnings.warn(message)\n"
     ]
    },
    {
     "name": "stdout",
     "output_type": "stream",
     "text": [
      "Saving model\n",
      "Epoch: 73 (79.3171s), train_loss: 0.2396, val_loss: 0.2739, train_acc: 0.9084, val_acc:0.8927\n",
      "\t\ttrain_roc: 0.9616, val_roc: 0.9534, train_auprc: 0.9513, val_auprc: 0.9434\n"
     ]
    },
    {
     "name": "stderr",
     "output_type": "stream",
     "text": [
      "/home/namle/.local/lib/python3.10/site-packages/torch_geometric/warnings.py:11: UserWarning: The usage of `scatter(reduce='max')` can be accelerated via the 'torch-scatter' package, but it was not found\n",
      "  warnings.warn(message)\n"
     ]
    },
    {
     "name": "stdout",
     "output_type": "stream",
     "text": [
      "Saving model\n",
      "Epoch: 74 (80.1798s), train_loss: 0.2396, val_loss: 0.2730, train_acc: 0.9085, val_acc:0.8920\n",
      "\t\ttrain_roc: 0.9615, val_roc: 0.9533, train_auprc: 0.9506, val_auprc: 0.9441\n"
     ]
    },
    {
     "name": "stderr",
     "output_type": "stream",
     "text": [
      "/home/namle/.local/lib/python3.10/site-packages/torch_geometric/warnings.py:11: UserWarning: The usage of `scatter(reduce='max')` can be accelerated via the 'torch-scatter' package, but it was not found\n",
      "  warnings.warn(message)\n"
     ]
    },
    {
     "name": "stdout",
     "output_type": "stream",
     "text": [
      "Epoch: 75 (81.6304s), train_loss: 0.2385, val_loss: 0.2768, train_acc: 0.9082, val_acc:0.8909\n",
      "\t\ttrain_roc: 0.9620, val_roc: 0.9515, train_auprc: 0.9514, val_auprc: 0.9411\n"
     ]
    },
    {
     "name": "stderr",
     "output_type": "stream",
     "text": [
      "/home/namle/.local/lib/python3.10/site-packages/torch_geometric/warnings.py:11: UserWarning: The usage of `scatter(reduce='max')` can be accelerated via the 'torch-scatter' package, but it was not found\n",
      "  warnings.warn(message)\n"
     ]
    },
    {
     "name": "stdout",
     "output_type": "stream",
     "text": [
      "Epoch: 76 (159.3031s), train_loss: 0.2372, val_loss: 0.2724, train_acc: 0.9094, val_acc:0.8926\n",
      "\t\ttrain_roc: 0.9623, val_roc: 0.9534, train_auprc: 0.9519, val_auprc: 0.9434\n"
     ]
    },
    {
     "name": "stderr",
     "output_type": "stream",
     "text": [
      "/home/namle/.local/lib/python3.10/site-packages/torch_geometric/warnings.py:11: UserWarning: The usage of `scatter(reduce='max')` can be accelerated via the 'torch-scatter' package, but it was not found\n",
      "  warnings.warn(message)\n"
     ]
    },
    {
     "name": "stdout",
     "output_type": "stream",
     "text": [
      "Saving model\n",
      "Epoch: 77 (70.6107s), train_loss: 0.2349, val_loss: 0.2709, train_acc: 0.9105, val_acc:0.8925\n",
      "\t\ttrain_roc: 0.9629, val_roc: 0.9538, train_auprc: 0.9524, val_auprc: 0.9444\n"
     ]
    },
    {
     "name": "stderr",
     "output_type": "stream",
     "text": [
      "/home/namle/.local/lib/python3.10/site-packages/torch_geometric/warnings.py:11: UserWarning: The usage of `scatter(reduce='max')` can be accelerated via the 'torch-scatter' package, but it was not found\n",
      "  warnings.warn(message)\n"
     ]
    },
    {
     "name": "stdout",
     "output_type": "stream",
     "text": [
      "Epoch: 78 (70.0486s), train_loss: 0.2349, val_loss: 0.2714, train_acc: 0.9108, val_acc:0.8932\n",
      "\t\ttrain_roc: 0.9629, val_roc: 0.9535, train_auprc: 0.9524, val_auprc: 0.9439\n"
     ]
    },
    {
     "name": "stderr",
     "output_type": "stream",
     "text": [
      "/home/namle/.local/lib/python3.10/site-packages/torch_geometric/warnings.py:11: UserWarning: The usage of `scatter(reduce='max')` can be accelerated via the 'torch-scatter' package, but it was not found\n",
      "  warnings.warn(message)\n"
     ]
    },
    {
     "name": "stdout",
     "output_type": "stream",
     "text": [
      "Epoch: 79 (70.7406s), train_loss: 0.2324, val_loss: 0.2739, train_acc: 0.9120, val_acc:0.8927\n",
      "\t\ttrain_roc: 0.9635, val_roc: 0.9531, train_auprc: 0.9534, val_auprc: 0.9426\n"
     ]
    },
    {
     "name": "stderr",
     "output_type": "stream",
     "text": [
      "/home/namle/.local/lib/python3.10/site-packages/torch_geometric/warnings.py:11: UserWarning: The usage of `scatter(reduce='max')` can be accelerated via the 'torch-scatter' package, but it was not found\n",
      "  warnings.warn(message)\n"
     ]
    },
    {
     "name": "stdout",
     "output_type": "stream",
     "text": [
      "Epoch: 80 (70.3447s), train_loss: 0.2316, val_loss: 0.2742, train_acc: 0.9117, val_acc:0.8928\n",
      "\t\ttrain_roc: 0.9639, val_roc: 0.9532, train_auprc: 0.9541, val_auprc: 0.9426\n"
     ]
    },
    {
     "name": "stderr",
     "output_type": "stream",
     "text": [
      "/home/namle/.local/lib/python3.10/site-packages/torch_geometric/warnings.py:11: UserWarning: The usage of `scatter(reduce='max')` can be accelerated via the 'torch-scatter' package, but it was not found\n",
      "  warnings.warn(message)\n"
     ]
    },
    {
     "name": "stdout",
     "output_type": "stream",
     "text": [
      "Epoch: 81 (70.5644s), train_loss: 0.2310, val_loss: 0.2709, train_acc: 0.9126, val_acc:0.8939\n",
      "\t\ttrain_roc: 0.9643, val_roc: 0.9537, train_auprc: 0.9540, val_auprc: 0.9435\n"
     ]
    },
    {
     "name": "stderr",
     "output_type": "stream",
     "text": [
      "/home/namle/.local/lib/python3.10/site-packages/torch_geometric/warnings.py:11: UserWarning: The usage of `scatter(reduce='max')` can be accelerated via the 'torch-scatter' package, but it was not found\n",
      "  warnings.warn(message)\n"
     ]
    },
    {
     "name": "stdout",
     "output_type": "stream",
     "text": [
      "Saving model\n",
      "Epoch: 82 (71.0187s), train_loss: 0.2309, val_loss: 0.2697, train_acc: 0.9120, val_acc:0.8945\n",
      "\t\ttrain_roc: 0.9639, val_roc: 0.9545, train_auprc: 0.9539, val_auprc: 0.9454\n"
     ]
    },
    {
     "name": "stderr",
     "output_type": "stream",
     "text": [
      "/home/namle/.local/lib/python3.10/site-packages/torch_geometric/warnings.py:11: UserWarning: The usage of `scatter(reduce='max')` can be accelerated via the 'torch-scatter' package, but it was not found\n",
      "  warnings.warn(message)\n"
     ]
    },
    {
     "name": "stdout",
     "output_type": "stream",
     "text": [
      "Saving model\n",
      "Epoch: 83 (70.5420s), train_loss: 0.2300, val_loss: 0.2687, train_acc: 0.9132, val_acc:0.8943\n",
      "\t\ttrain_roc: 0.9643, val_roc: 0.9552, train_auprc: 0.9537, val_auprc: 0.9460\n"
     ]
    },
    {
     "name": "stderr",
     "output_type": "stream",
     "text": [
      "/home/namle/.local/lib/python3.10/site-packages/torch_geometric/warnings.py:11: UserWarning: The usage of `scatter(reduce='max')` can be accelerated via the 'torch-scatter' package, but it was not found\n",
      "  warnings.warn(message)\n"
     ]
    },
    {
     "name": "stdout",
     "output_type": "stream",
     "text": [
      "Epoch: 84 (70.1510s), train_loss: 0.2295, val_loss: 0.2726, train_acc: 0.9132, val_acc:0.8932\n",
      "\t\ttrain_roc: 0.9642, val_roc: 0.9531, train_auprc: 0.9541, val_auprc: 0.9431\n"
     ]
    },
    {
     "name": "stderr",
     "output_type": "stream",
     "text": [
      "/home/namle/.local/lib/python3.10/site-packages/torch_geometric/warnings.py:11: UserWarning: The usage of `scatter(reduce='max')` can be accelerated via the 'torch-scatter' package, but it was not found\n",
      "  warnings.warn(message)\n"
     ]
    },
    {
     "name": "stdout",
     "output_type": "stream",
     "text": [
      "Epoch: 85 (70.3840s), train_loss: 0.2276, val_loss: 0.2686, train_acc: 0.9137, val_acc:0.8951\n",
      "\t\ttrain_roc: 0.9649, val_roc: 0.9548, train_auprc: 0.9550, val_auprc: 0.9456\n"
     ]
    },
    {
     "name": "stderr",
     "output_type": "stream",
     "text": [
      "/home/namle/.local/lib/python3.10/site-packages/torch_geometric/warnings.py:11: UserWarning: The usage of `scatter(reduce='max')` can be accelerated via the 'torch-scatter' package, but it was not found\n",
      "  warnings.warn(message)\n"
     ]
    },
    {
     "name": "stdout",
     "output_type": "stream",
     "text": [
      "Epoch: 86 (70.5002s), train_loss: 0.2245, val_loss: 0.2719, train_acc: 0.9152, val_acc:0.8935\n",
      "\t\ttrain_roc: 0.9658, val_roc: 0.9535, train_auprc: 0.9561, val_auprc: 0.9439\n"
     ]
    },
    {
     "name": "stderr",
     "output_type": "stream",
     "text": [
      "/home/namle/.local/lib/python3.10/site-packages/torch_geometric/warnings.py:11: UserWarning: The usage of `scatter(reduce='max')` can be accelerated via the 'torch-scatter' package, but it was not found\n",
      "  warnings.warn(message)\n"
     ]
    },
    {
     "name": "stdout",
     "output_type": "stream",
     "text": [
      "Saving model\n",
      "Epoch: 87 (70.0665s), train_loss: 0.2251, val_loss: 0.2673, train_acc: 0.9148, val_acc:0.8952\n",
      "\t\ttrain_roc: 0.9657, val_roc: 0.9554, train_auprc: 0.9558, val_auprc: 0.9463\n"
     ]
    },
    {
     "name": "stderr",
     "output_type": "stream",
     "text": [
      "/home/namle/.local/lib/python3.10/site-packages/torch_geometric/warnings.py:11: UserWarning: The usage of `scatter(reduce='max')` can be accelerated via the 'torch-scatter' package, but it was not found\n",
      "  warnings.warn(message)\n"
     ]
    },
    {
     "name": "stdout",
     "output_type": "stream",
     "text": [
      "Epoch: 88 (69.8989s), train_loss: 0.2256, val_loss: 0.2712, train_acc: 0.9148, val_acc:0.8942\n",
      "\t\ttrain_roc: 0.9655, val_roc: 0.9543, train_auprc: 0.9555, val_auprc: 0.9442\n"
     ]
    },
    {
     "name": "stderr",
     "output_type": "stream",
     "text": [
      "/home/namle/.local/lib/python3.10/site-packages/torch_geometric/warnings.py:11: UserWarning: The usage of `scatter(reduce='max')` can be accelerated via the 'torch-scatter' package, but it was not found\n",
      "  warnings.warn(message)\n"
     ]
    },
    {
     "name": "stdout",
     "output_type": "stream",
     "text": [
      "Saving model\n",
      "Epoch: 89 (70.4069s), train_loss: 0.2244, val_loss: 0.2696, train_acc: 0.9153, val_acc:0.8958\n",
      "\t\ttrain_roc: 0.9657, val_roc: 0.9554, train_auprc: 0.9561, val_auprc: 0.9467\n"
     ]
    },
    {
     "name": "stderr",
     "output_type": "stream",
     "text": [
      "/home/namle/.local/lib/python3.10/site-packages/torch_geometric/warnings.py:11: UserWarning: The usage of `scatter(reduce='max')` can be accelerated via the 'torch-scatter' package, but it was not found\n",
      "  warnings.warn(message)\n"
     ]
    },
    {
     "name": "stdout",
     "output_type": "stream",
     "text": [
      "Epoch: 90 (69.8705s), train_loss: 0.2229, val_loss: 0.2711, train_acc: 0.9153, val_acc:0.8961\n",
      "\t\ttrain_roc: 0.9662, val_roc: 0.9543, train_auprc: 0.9566, val_auprc: 0.9444\n"
     ]
    },
    {
     "name": "stderr",
     "output_type": "stream",
     "text": [
      "/home/namle/.local/lib/python3.10/site-packages/torch_geometric/warnings.py:11: UserWarning: The usage of `scatter(reduce='max')` can be accelerated via the 'torch-scatter' package, but it was not found\n",
      "  warnings.warn(message)\n"
     ]
    },
    {
     "name": "stdout",
     "output_type": "stream",
     "text": [
      "Saving model\n",
      "Epoch: 91 (70.9183s), train_loss: 0.2229, val_loss: 0.2679, train_acc: 0.9163, val_acc:0.8966\n",
      "\t\ttrain_roc: 0.9661, val_roc: 0.9555, train_auprc: 0.9562, val_auprc: 0.9471\n"
     ]
    },
    {
     "name": "stderr",
     "output_type": "stream",
     "text": [
      "/home/namle/.local/lib/python3.10/site-packages/torch_geometric/warnings.py:11: UserWarning: The usage of `scatter(reduce='max')` can be accelerated via the 'torch-scatter' package, but it was not found\n",
      "  warnings.warn(message)\n"
     ]
    },
    {
     "name": "stdout",
     "output_type": "stream",
     "text": [
      "Saving model\n",
      "Epoch: 92 (70.4687s), train_loss: 0.2213, val_loss: 0.2651, train_acc: 0.9169, val_acc:0.8980\n",
      "\t\ttrain_roc: 0.9664, val_roc: 0.9566, train_auprc: 0.9568, val_auprc: 0.9478\n"
     ]
    },
    {
     "name": "stderr",
     "output_type": "stream",
     "text": [
      "/home/namle/.local/lib/python3.10/site-packages/torch_geometric/warnings.py:11: UserWarning: The usage of `scatter(reduce='max')` can be accelerated via the 'torch-scatter' package, but it was not found\n",
      "  warnings.warn(message)\n"
     ]
    },
    {
     "name": "stdout",
     "output_type": "stream",
     "text": [
      "Epoch: 93 (70.4656s), train_loss: 0.2204, val_loss: 0.2701, train_acc: 0.9170, val_acc:0.8949\n",
      "\t\ttrain_roc: 0.9668, val_roc: 0.9559, train_auprc: 0.9574, val_auprc: 0.9467\n"
     ]
    },
    {
     "name": "stderr",
     "output_type": "stream",
     "text": [
      "/home/namle/.local/lib/python3.10/site-packages/torch_geometric/warnings.py:11: UserWarning: The usage of `scatter(reduce='max')` can be accelerated via the 'torch-scatter' package, but it was not found\n",
      "  warnings.warn(message)\n"
     ]
    },
    {
     "name": "stdout",
     "output_type": "stream",
     "text": [
      "Epoch: 94 (70.1759s), train_loss: 0.2206, val_loss: 0.2671, train_acc: 0.9173, val_acc:0.8963\n",
      "\t\ttrain_roc: 0.9667, val_roc: 0.9558, train_auprc: 0.9569, val_auprc: 0.9472\n"
     ]
    },
    {
     "name": "stderr",
     "output_type": "stream",
     "text": [
      "/home/namle/.local/lib/python3.10/site-packages/torch_geometric/warnings.py:11: UserWarning: The usage of `scatter(reduce='max')` can be accelerated via the 'torch-scatter' package, but it was not found\n",
      "  warnings.warn(message)\n"
     ]
    },
    {
     "name": "stdout",
     "output_type": "stream",
     "text": [
      "Epoch: 95 (70.2257s), train_loss: 0.2178, val_loss: 0.2690, train_acc: 0.9183, val_acc:0.8968\n",
      "\t\ttrain_roc: 0.9676, val_roc: 0.9556, train_auprc: 0.9583, val_auprc: 0.9466\n"
     ]
    },
    {
     "name": "stderr",
     "output_type": "stream",
     "text": [
      "/home/namle/.local/lib/python3.10/site-packages/torch_geometric/warnings.py:11: UserWarning: The usage of `scatter(reduce='max')` can be accelerated via the 'torch-scatter' package, but it was not found\n",
      "  warnings.warn(message)\n"
     ]
    },
    {
     "name": "stdout",
     "output_type": "stream",
     "text": [
      "Epoch: 96 (70.3259s), train_loss: 0.2181, val_loss: 0.2690, train_acc: 0.9187, val_acc:0.8964\n",
      "\t\ttrain_roc: 0.9672, val_roc: 0.9557, train_auprc: 0.9574, val_auprc: 0.9470\n"
     ]
    },
    {
     "name": "stderr",
     "output_type": "stream",
     "text": [
      "/home/namle/.local/lib/python3.10/site-packages/torch_geometric/warnings.py:11: UserWarning: The usage of `scatter(reduce='max')` can be accelerated via the 'torch-scatter' package, but it was not found\n",
      "  warnings.warn(message)\n"
     ]
    },
    {
     "name": "stdout",
     "output_type": "stream",
     "text": [
      "Saving model\n",
      "Epoch: 97 (70.2140s), train_loss: 0.2193, val_loss: 0.2668, train_acc: 0.9176, val_acc:0.8964\n",
      "\t\ttrain_roc: 0.9668, val_roc: 0.9567, train_auprc: 0.9572, val_auprc: 0.9486\n"
     ]
    },
    {
     "name": "stderr",
     "output_type": "stream",
     "text": [
      "/home/namle/.local/lib/python3.10/site-packages/torch_geometric/warnings.py:11: UserWarning: The usage of `scatter(reduce='max')` can be accelerated via the 'torch-scatter' package, but it was not found\n",
      "  warnings.warn(message)\n"
     ]
    },
    {
     "name": "stdout",
     "output_type": "stream",
     "text": [
      "Saving model\n",
      "Epoch: 98 (70.9679s), train_loss: 0.2180, val_loss: 0.2661, train_acc: 0.9182, val_acc:0.8969\n",
      "\t\ttrain_roc: 0.9673, val_roc: 0.9566, train_auprc: 0.9580, val_auprc: 0.9486\n"
     ]
    },
    {
     "name": "stderr",
     "output_type": "stream",
     "text": [
      "/home/namle/.local/lib/python3.10/site-packages/torch_geometric/warnings.py:11: UserWarning: The usage of `scatter(reduce='max')` can be accelerated via the 'torch-scatter' package, but it was not found\n",
      "  warnings.warn(message)\n"
     ]
    },
    {
     "name": "stdout",
     "output_type": "stream",
     "text": [
      "Epoch: 99 (69.9674s), train_loss: 0.2165, val_loss: 0.2652, train_acc: 0.9186, val_acc:0.8977\n",
      "\t\ttrain_roc: 0.9678, val_roc: 0.9570, train_auprc: 0.9586, val_auprc: 0.9486\n"
     ]
    },
    {
     "name": "stderr",
     "output_type": "stream",
     "text": [
      "/home/namle/.local/lib/python3.10/site-packages/torch_geometric/warnings.py:11: UserWarning: The usage of `scatter(reduce='max')` can be accelerated via the 'torch-scatter' package, but it was not found\n",
      "  warnings.warn(message)\n"
     ]
    },
    {
     "name": "stdout",
     "output_type": "stream",
     "text": [
      "Epoch: 100 (70.7471s), train_loss: 0.2162, val_loss: 0.2708, train_acc: 0.9190, val_acc:0.8960\n",
      "\t\ttrain_roc: 0.9677, val_roc: 0.9550, train_auprc: 0.9581, val_auprc: 0.9456\n"
     ]
    },
    {
     "name": "stderr",
     "output_type": "stream",
     "text": [
      "/home/namle/.local/lib/python3.10/site-packages/torch_geometric/warnings.py:11: UserWarning: The usage of `scatter(reduce='max')` can be accelerated via the 'torch-scatter' package, but it was not found\n",
      "  warnings.warn(message)\n"
     ]
    },
    {
     "name": "stdout",
     "output_type": "stream",
     "text": [
      "Epoch: 101 (70.5119s), train_loss: 0.2155, val_loss: 0.2674, train_acc: 0.9194, val_acc:0.8974\n",
      "\t\ttrain_roc: 0.9681, val_roc: 0.9563, train_auprc: 0.9591, val_auprc: 0.9476\n"
     ]
    },
    {
     "name": "stderr",
     "output_type": "stream",
     "text": [
      "/home/namle/.local/lib/python3.10/site-packages/torch_geometric/warnings.py:11: UserWarning: The usage of `scatter(reduce='max')` can be accelerated via the 'torch-scatter' package, but it was not found\n",
      "  warnings.warn(message)\n"
     ]
    },
    {
     "name": "stdout",
     "output_type": "stream",
     "text": [
      "Epoch: 102 (70.4557s), train_loss: 0.2168, val_loss: 0.2686, train_acc: 0.9188, val_acc:0.8970\n",
      "\t\ttrain_roc: 0.9677, val_roc: 0.9562, train_auprc: 0.9586, val_auprc: 0.9473\n"
     ]
    },
    {
     "name": "stderr",
     "output_type": "stream",
     "text": [
      "/home/namle/.local/lib/python3.10/site-packages/torch_geometric/warnings.py:11: UserWarning: The usage of `scatter(reduce='max')` can be accelerated via the 'torch-scatter' package, but it was not found\n",
      "  warnings.warn(message)\n"
     ]
    },
    {
     "name": "stdout",
     "output_type": "stream",
     "text": [
      "Epoch: 103 (70.3687s), train_loss: 0.2155, val_loss: 0.2691, train_acc: 0.9193, val_acc:0.8970\n",
      "\t\ttrain_roc: 0.9680, val_roc: 0.9560, train_auprc: 0.9586, val_auprc: 0.9464\n"
     ]
    },
    {
     "name": "stderr",
     "output_type": "stream",
     "text": [
      "/home/namle/.local/lib/python3.10/site-packages/torch_geometric/warnings.py:11: UserWarning: The usage of `scatter(reduce='max')` can be accelerated via the 'torch-scatter' package, but it was not found\n",
      "  warnings.warn(message)\n"
     ]
    },
    {
     "name": "stdout",
     "output_type": "stream",
     "text": [
      "Saving model\n",
      "Epoch: 104 (70.5095s), train_loss: 0.2132, val_loss: 0.2668, train_acc: 0.9201, val_acc:0.8973\n",
      "\t\ttrain_roc: 0.9687, val_roc: 0.9569, train_auprc: 0.9597, val_auprc: 0.9487\n"
     ]
    },
    {
     "name": "stderr",
     "output_type": "stream",
     "text": [
      "/home/namle/.local/lib/python3.10/site-packages/torch_geometric/warnings.py:11: UserWarning: The usage of `scatter(reduce='max')` can be accelerated via the 'torch-scatter' package, but it was not found\n",
      "  warnings.warn(message)\n"
     ]
    },
    {
     "name": "stdout",
     "output_type": "stream",
     "text": [
      "Saving model\n",
      "Epoch: 105 (70.7046s), train_loss: 0.2131, val_loss: 0.2664, train_acc: 0.9204, val_acc:0.8977\n",
      "\t\ttrain_roc: 0.9686, val_roc: 0.9570, train_auprc: 0.9599, val_auprc: 0.9488\n"
     ]
    },
    {
     "name": "stderr",
     "output_type": "stream",
     "text": [
      "/home/namle/.local/lib/python3.10/site-packages/torch_geometric/warnings.py:11: UserWarning: The usage of `scatter(reduce='max')` can be accelerated via the 'torch-scatter' package, but it was not found\n",
      "  warnings.warn(message)\n"
     ]
    },
    {
     "name": "stdout",
     "output_type": "stream",
     "text": [
      "Saving model\n",
      "Epoch: 106 (70.5050s), train_loss: 0.2124, val_loss: 0.2669, train_acc: 0.9207, val_acc:0.8971\n",
      "\t\ttrain_roc: 0.9689, val_roc: 0.9571, train_auprc: 0.9599, val_auprc: 0.9491\n"
     ]
    },
    {
     "name": "stderr",
     "output_type": "stream",
     "text": [
      "/home/namle/.local/lib/python3.10/site-packages/torch_geometric/warnings.py:11: UserWarning: The usage of `scatter(reduce='max')` can be accelerated via the 'torch-scatter' package, but it was not found\n",
      "  warnings.warn(message)\n"
     ]
    },
    {
     "name": "stdout",
     "output_type": "stream",
     "text": [
      "Epoch: 107 (70.4346s), train_loss: 0.2132, val_loss: 0.2698, train_acc: 0.9204, val_acc:0.8972\n",
      "\t\ttrain_roc: 0.9686, val_roc: 0.9563, train_auprc: 0.9593, val_auprc: 0.9477\n"
     ]
    },
    {
     "name": "stderr",
     "output_type": "stream",
     "text": [
      "/home/namle/.local/lib/python3.10/site-packages/torch_geometric/warnings.py:11: UserWarning: The usage of `scatter(reduce='max')` can be accelerated via the 'torch-scatter' package, but it was not found\n",
      "  warnings.warn(message)\n"
     ]
    },
    {
     "name": "stdout",
     "output_type": "stream",
     "text": [
      "Epoch: 108 (70.0923s), train_loss: 0.2132, val_loss: 0.2691, train_acc: 0.9206, val_acc:0.8956\n",
      "\t\ttrain_roc: 0.9685, val_roc: 0.9571, train_auprc: 0.9592, val_auprc: 0.9490\n"
     ]
    },
    {
     "name": "stderr",
     "output_type": "stream",
     "text": [
      "/home/namle/.local/lib/python3.10/site-packages/torch_geometric/warnings.py:11: UserWarning: The usage of `scatter(reduce='max')` can be accelerated via the 'torch-scatter' package, but it was not found\n",
      "  warnings.warn(message)\n"
     ]
    },
    {
     "name": "stdout",
     "output_type": "stream",
     "text": [
      "Epoch: 109 (70.5012s), train_loss: 0.2127, val_loss: 0.2669, train_acc: 0.9205, val_acc:0.8988\n",
      "\t\ttrain_roc: 0.9688, val_roc: 0.9570, train_auprc: 0.9598, val_auprc: 0.9482\n"
     ]
    },
    {
     "name": "stderr",
     "output_type": "stream",
     "text": [
      "/home/namle/.local/lib/python3.10/site-packages/torch_geometric/warnings.py:11: UserWarning: The usage of `scatter(reduce='max')` can be accelerated via the 'torch-scatter' package, but it was not found\n",
      "  warnings.warn(message)\n"
     ]
    },
    {
     "name": "stdout",
     "output_type": "stream",
     "text": [
      "Saving model\n",
      "Epoch: 110 (70.2912s), train_loss: 0.2112, val_loss: 0.2648, train_acc: 0.9211, val_acc:0.8985\n",
      "\t\ttrain_roc: 0.9692, val_roc: 0.9581, train_auprc: 0.9604, val_auprc: 0.9495\n"
     ]
    },
    {
     "name": "stderr",
     "output_type": "stream",
     "text": [
      "/home/namle/.local/lib/python3.10/site-packages/torch_geometric/warnings.py:11: UserWarning: The usage of `scatter(reduce='max')` can be accelerated via the 'torch-scatter' package, but it was not found\n",
      "  warnings.warn(message)\n"
     ]
    },
    {
     "name": "stdout",
     "output_type": "stream",
     "text": [
      "Epoch: 111 (70.0132s), train_loss: 0.2124, val_loss: 0.2650, train_acc: 0.9215, val_acc:0.8991\n",
      "\t\ttrain_roc: 0.9687, val_roc: 0.9575, train_auprc: 0.9594, val_auprc: 0.9492\n"
     ]
    },
    {
     "name": "stderr",
     "output_type": "stream",
     "text": [
      "/home/namle/.local/lib/python3.10/site-packages/torch_geometric/warnings.py:11: UserWarning: The usage of `scatter(reduce='max')` can be accelerated via the 'torch-scatter' package, but it was not found\n",
      "  warnings.warn(message)\n"
     ]
    },
    {
     "name": "stdout",
     "output_type": "stream",
     "text": [
      "Epoch: 112 (70.0348s), train_loss: 0.2120, val_loss: 0.2679, train_acc: 0.9211, val_acc:0.8979\n",
      "\t\ttrain_roc: 0.9690, val_roc: 0.9569, train_auprc: 0.9599, val_auprc: 0.9487\n"
     ]
    },
    {
     "name": "stderr",
     "output_type": "stream",
     "text": [
      "/home/namle/.local/lib/python3.10/site-packages/torch_geometric/warnings.py:11: UserWarning: The usage of `scatter(reduce='max')` can be accelerated via the 'torch-scatter' package, but it was not found\n",
      "  warnings.warn(message)\n"
     ]
    },
    {
     "name": "stdout",
     "output_type": "stream",
     "text": [
      "Epoch: 113 (70.7314s), train_loss: 0.2099, val_loss: 0.2704, train_acc: 0.9222, val_acc:0.8958\n",
      "\t\ttrain_roc: 0.9695, val_roc: 0.9562, train_auprc: 0.9607, val_auprc: 0.9479\n"
     ]
    },
    {
     "name": "stderr",
     "output_type": "stream",
     "text": [
      "/home/namle/.local/lib/python3.10/site-packages/torch_geometric/warnings.py:11: UserWarning: The usage of `scatter(reduce='max')` can be accelerated via the 'torch-scatter' package, but it was not found\n",
      "  warnings.warn(message)\n"
     ]
    },
    {
     "name": "stdout",
     "output_type": "stream",
     "text": [
      "Epoch: 114 (70.4358s), train_loss: 0.2098, val_loss: 0.2723, train_acc: 0.9217, val_acc:0.8974\n",
      "\t\ttrain_roc: 0.9695, val_roc: 0.9558, train_auprc: 0.9606, val_auprc: 0.9465\n"
     ]
    },
    {
     "name": "stderr",
     "output_type": "stream",
     "text": [
      "/home/namle/.local/lib/python3.10/site-packages/torch_geometric/warnings.py:11: UserWarning: The usage of `scatter(reduce='max')` can be accelerated via the 'torch-scatter' package, but it was not found\n",
      "  warnings.warn(message)\n"
     ]
    },
    {
     "name": "stdout",
     "output_type": "stream",
     "text": [
      "Epoch: 115 (71.0525s), train_loss: 0.2103, val_loss: 0.2669, train_acc: 0.9217, val_acc:0.8985\n",
      "\t\ttrain_roc: 0.9693, val_roc: 0.9571, train_auprc: 0.9603, val_auprc: 0.9486\n"
     ]
    },
    {
     "name": "stderr",
     "output_type": "stream",
     "text": [
      "/home/namle/.local/lib/python3.10/site-packages/torch_geometric/warnings.py:11: UserWarning: The usage of `scatter(reduce='max')` can be accelerated via the 'torch-scatter' package, but it was not found\n",
      "  warnings.warn(message)\n"
     ]
    },
    {
     "name": "stdout",
     "output_type": "stream",
     "text": [
      "Epoch: 116 (70.3376s), train_loss: 0.2089, val_loss: 0.2684, train_acc: 0.9224, val_acc:0.8980\n",
      "\t\ttrain_roc: 0.9697, val_roc: 0.9575, train_auprc: 0.9606, val_auprc: 0.9489\n"
     ]
    },
    {
     "name": "stderr",
     "output_type": "stream",
     "text": [
      "/home/namle/.local/lib/python3.10/site-packages/torch_geometric/warnings.py:11: UserWarning: The usage of `scatter(reduce='max')` can be accelerated via the 'torch-scatter' package, but it was not found\n",
      "  warnings.warn(message)\n"
     ]
    },
    {
     "name": "stdout",
     "output_type": "stream",
     "text": [
      "Epoch: 117 (70.6136s), train_loss: 0.2093, val_loss: 0.2671, train_acc: 0.9225, val_acc:0.8981\n",
      "\t\ttrain_roc: 0.9696, val_roc: 0.9573, train_auprc: 0.9603, val_auprc: 0.9492\n"
     ]
    },
    {
     "name": "stderr",
     "output_type": "stream",
     "text": [
      "/home/namle/.local/lib/python3.10/site-packages/torch_geometric/warnings.py:11: UserWarning: The usage of `scatter(reduce='max')` can be accelerated via the 'torch-scatter' package, but it was not found\n",
      "  warnings.warn(message)\n"
     ]
    },
    {
     "name": "stdout",
     "output_type": "stream",
     "text": [
      "Epoch: 118 (69.9033s), train_loss: 0.2086, val_loss: 0.2652, train_acc: 0.9224, val_acc:0.9001\n",
      "\t\ttrain_roc: 0.9698, val_roc: 0.9578, train_auprc: 0.9609, val_auprc: 0.9494\n"
     ]
    },
    {
     "name": "stderr",
     "output_type": "stream",
     "text": [
      "/home/namle/.local/lib/python3.10/site-packages/torch_geometric/warnings.py:11: UserWarning: The usage of `scatter(reduce='max')` can be accelerated via the 'torch-scatter' package, but it was not found\n",
      "  warnings.warn(message)\n"
     ]
    },
    {
     "name": "stdout",
     "output_type": "stream",
     "text": [
      "Epoch: 119 (70.7409s), train_loss: 0.2085, val_loss: 0.2670, train_acc: 0.9228, val_acc:0.8983\n",
      "\t\ttrain_roc: 0.9697, val_roc: 0.9572, train_auprc: 0.9605, val_auprc: 0.9490\n"
     ]
    },
    {
     "name": "stderr",
     "output_type": "stream",
     "text": [
      "/home/namle/.local/lib/python3.10/site-packages/torch_geometric/warnings.py:11: UserWarning: The usage of `scatter(reduce='max')` can be accelerated via the 'torch-scatter' package, but it was not found\n",
      "  warnings.warn(message)\n"
     ]
    },
    {
     "name": "stdout",
     "output_type": "stream",
     "text": [
      "Saving model\n",
      "Epoch: 120 (70.0747s), train_loss: 0.2077, val_loss: 0.2632, train_acc: 0.9228, val_acc:0.9010\n",
      "\t\ttrain_roc: 0.9700, val_roc: 0.9584, train_auprc: 0.9612, val_auprc: 0.9502\n"
     ]
    },
    {
     "name": "stderr",
     "output_type": "stream",
     "text": [
      "/home/namle/.local/lib/python3.10/site-packages/torch_geometric/warnings.py:11: UserWarning: The usage of `scatter(reduce='max')` can be accelerated via the 'torch-scatter' package, but it was not found\n",
      "  warnings.warn(message)\n"
     ]
    },
    {
     "name": "stdout",
     "output_type": "stream",
     "text": [
      "Epoch: 121 (70.7196s), train_loss: 0.2081, val_loss: 0.2663, train_acc: 0.9227, val_acc:0.8990\n",
      "\t\ttrain_roc: 0.9699, val_roc: 0.9577, train_auprc: 0.9610, val_auprc: 0.9497\n"
     ]
    },
    {
     "name": "stderr",
     "output_type": "stream",
     "text": [
      "/home/namle/.local/lib/python3.10/site-packages/torch_geometric/warnings.py:11: UserWarning: The usage of `scatter(reduce='max')` can be accelerated via the 'torch-scatter' package, but it was not found\n",
      "  warnings.warn(message)\n"
     ]
    },
    {
     "name": "stdout",
     "output_type": "stream",
     "text": [
      "Saving model\n",
      "Epoch: 122 (69.4260s), train_loss: 0.2063, val_loss: 0.2639, train_acc: 0.9229, val_acc:0.8995\n",
      "\t\ttrain_roc: 0.9704, val_roc: 0.9584, train_auprc: 0.9619, val_auprc: 0.9503\n"
     ]
    },
    {
     "name": "stderr",
     "output_type": "stream",
     "text": [
      "/home/namle/.local/lib/python3.10/site-packages/torch_geometric/warnings.py:11: UserWarning: The usage of `scatter(reduce='max')` can be accelerated via the 'torch-scatter' package, but it was not found\n",
      "  warnings.warn(message)\n"
     ]
    },
    {
     "name": "stdout",
     "output_type": "stream",
     "text": [
      "Epoch: 123 (70.2292s), train_loss: 0.2079, val_loss: 0.2659, train_acc: 0.9228, val_acc:0.8998\n",
      "\t\ttrain_roc: 0.9699, val_roc: 0.9580, train_auprc: 0.9609, val_auprc: 0.9495\n"
     ]
    },
    {
     "name": "stderr",
     "output_type": "stream",
     "text": [
      "/home/namle/.local/lib/python3.10/site-packages/torch_geometric/warnings.py:11: UserWarning: The usage of `scatter(reduce='max')` can be accelerated via the 'torch-scatter' package, but it was not found\n",
      "  warnings.warn(message)\n"
     ]
    },
    {
     "name": "stdout",
     "output_type": "stream",
     "text": [
      "Epoch: 124 (69.9293s), train_loss: 0.2070, val_loss: 0.2692, train_acc: 0.9237, val_acc:0.8980\n",
      "\t\ttrain_roc: 0.9702, val_roc: 0.9568, train_auprc: 0.9611, val_auprc: 0.9480\n"
     ]
    },
    {
     "name": "stderr",
     "output_type": "stream",
     "text": [
      "/home/namle/.local/lib/python3.10/site-packages/torch_geometric/warnings.py:11: UserWarning: The usage of `scatter(reduce='max')` can be accelerated via the 'torch-scatter' package, but it was not found\n",
      "  warnings.warn(message)\n"
     ]
    },
    {
     "name": "stdout",
     "output_type": "stream",
     "text": [
      "Epoch: 125 (70.7286s), train_loss: 0.2076, val_loss: 0.2682, train_acc: 0.9230, val_acc:0.8982\n",
      "\t\ttrain_roc: 0.9699, val_roc: 0.9577, train_auprc: 0.9608, val_auprc: 0.9493\n"
     ]
    },
    {
     "name": "stderr",
     "output_type": "stream",
     "text": [
      "/home/namle/.local/lib/python3.10/site-packages/torch_geometric/warnings.py:11: UserWarning: The usage of `scatter(reduce='max')` can be accelerated via the 'torch-scatter' package, but it was not found\n",
      "  warnings.warn(message)\n"
     ]
    },
    {
     "name": "stdout",
     "output_type": "stream",
     "text": [
      "Epoch: 126 (70.4208s), train_loss: 0.2061, val_loss: 0.2653, train_acc: 0.9243, val_acc:0.9009\n",
      "\t\ttrain_roc: 0.9704, val_roc: 0.9581, train_auprc: 0.9617, val_auprc: 0.9495\n"
     ]
    },
    {
     "name": "stderr",
     "output_type": "stream",
     "text": [
      "/home/namle/.local/lib/python3.10/site-packages/torch_geometric/warnings.py:11: UserWarning: The usage of `scatter(reduce='max')` can be accelerated via the 'torch-scatter' package, but it was not found\n",
      "  warnings.warn(message)\n"
     ]
    },
    {
     "name": "stdout",
     "output_type": "stream",
     "text": [
      "Epoch: 127 (70.6153s), train_loss: 0.2064, val_loss: 0.2656, train_acc: 0.9232, val_acc:0.8998\n",
      "\t\ttrain_roc: 0.9702, val_roc: 0.9580, train_auprc: 0.9616, val_auprc: 0.9498\n"
     ]
    },
    {
     "name": "stderr",
     "output_type": "stream",
     "text": [
      "/home/namle/.local/lib/python3.10/site-packages/torch_geometric/warnings.py:11: UserWarning: The usage of `scatter(reduce='max')` can be accelerated via the 'torch-scatter' package, but it was not found\n",
      "  warnings.warn(message)\n"
     ]
    },
    {
     "name": "stdout",
     "output_type": "stream",
     "text": [
      "Saving model\n",
      "Epoch: 128 (70.7811s), train_loss: 0.2059, val_loss: 0.2642, train_acc: 0.9238, val_acc:0.9002\n",
      "\t\ttrain_roc: 0.9704, val_roc: 0.9583, train_auprc: 0.9616, val_auprc: 0.9508\n"
     ]
    },
    {
     "name": "stderr",
     "output_type": "stream",
     "text": [
      "/home/namle/.local/lib/python3.10/site-packages/torch_geometric/warnings.py:11: UserWarning: The usage of `scatter(reduce='max')` can be accelerated via the 'torch-scatter' package, but it was not found\n",
      "  warnings.warn(message)\n"
     ]
    },
    {
     "name": "stdout",
     "output_type": "stream",
     "text": [
      "Epoch: 129 (70.5593s), train_loss: 0.2062, val_loss: 0.2674, train_acc: 0.9239, val_acc:0.8988\n",
      "\t\ttrain_roc: 0.9702, val_roc: 0.9574, train_auprc: 0.9613, val_auprc: 0.9494\n"
     ]
    },
    {
     "name": "stderr",
     "output_type": "stream",
     "text": [
      "/home/namle/.local/lib/python3.10/site-packages/torch_geometric/warnings.py:11: UserWarning: The usage of `scatter(reduce='max')` can be accelerated via the 'torch-scatter' package, but it was not found\n",
      "  warnings.warn(message)\n"
     ]
    },
    {
     "name": "stdout",
     "output_type": "stream",
     "text": [
      "Epoch: 130 (70.9248s), train_loss: 0.2050, val_loss: 0.2692, train_acc: 0.9239, val_acc:0.8986\n",
      "\t\ttrain_roc: 0.9707, val_roc: 0.9568, train_auprc: 0.9620, val_auprc: 0.9479\n"
     ]
    },
    {
     "name": "stderr",
     "output_type": "stream",
     "text": [
      "/home/namle/.local/lib/python3.10/site-packages/torch_geometric/warnings.py:11: UserWarning: The usage of `scatter(reduce='max')` can be accelerated via the 'torch-scatter' package, but it was not found\n",
      "  warnings.warn(message)\n"
     ]
    },
    {
     "name": "stdout",
     "output_type": "stream",
     "text": [
      "Epoch: 131 (69.8433s), train_loss: 0.2047, val_loss: 0.2691, train_acc: 0.9241, val_acc:0.8990\n",
      "\t\ttrain_roc: 0.9709, val_roc: 0.9566, train_auprc: 0.9621, val_auprc: 0.9478\n"
     ]
    },
    {
     "name": "stderr",
     "output_type": "stream",
     "text": [
      "/home/namle/.local/lib/python3.10/site-packages/torch_geometric/warnings.py:11: UserWarning: The usage of `scatter(reduce='max')` can be accelerated via the 'torch-scatter' package, but it was not found\n",
      "  warnings.warn(message)\n"
     ]
    },
    {
     "name": "stdout",
     "output_type": "stream",
     "text": [
      "Epoch: 132 (70.6544s), train_loss: 0.2062, val_loss: 0.2691, train_acc: 0.9238, val_acc:0.8985\n",
      "\t\ttrain_roc: 0.9702, val_roc: 0.9570, train_auprc: 0.9613, val_auprc: 0.9486\n"
     ]
    },
    {
     "name": "stderr",
     "output_type": "stream",
     "text": [
      "/home/namle/.local/lib/python3.10/site-packages/torch_geometric/warnings.py:11: UserWarning: The usage of `scatter(reduce='max')` can be accelerated via the 'torch-scatter' package, but it was not found\n",
      "  warnings.warn(message)\n"
     ]
    },
    {
     "name": "stdout",
     "output_type": "stream",
     "text": [
      "Epoch: 133 (70.8058s), train_loss: 0.2065, val_loss: 0.2662, train_acc: 0.9237, val_acc:0.8994\n",
      "\t\ttrain_roc: 0.9702, val_roc: 0.9578, train_auprc: 0.9613, val_auprc: 0.9499\n"
     ]
    },
    {
     "name": "stderr",
     "output_type": "stream",
     "text": [
      "/home/namle/.local/lib/python3.10/site-packages/torch_geometric/warnings.py:11: UserWarning: The usage of `scatter(reduce='max')` can be accelerated via the 'torch-scatter' package, but it was not found\n",
      "  warnings.warn(message)\n"
     ]
    },
    {
     "name": "stdout",
     "output_type": "stream",
     "text": [
      "Epoch: 134 (69.9027s), train_loss: 0.2052, val_loss: 0.2671, train_acc: 0.9237, val_acc:0.8992\n",
      "\t\ttrain_roc: 0.9705, val_roc: 0.9577, train_auprc: 0.9617, val_auprc: 0.9491\n"
     ]
    },
    {
     "name": "stderr",
     "output_type": "stream",
     "text": [
      "/home/namle/.local/lib/python3.10/site-packages/torch_geometric/warnings.py:11: UserWarning: The usage of `scatter(reduce='max')` can be accelerated via the 'torch-scatter' package, but it was not found\n",
      "  warnings.warn(message)\n"
     ]
    },
    {
     "name": "stdout",
     "output_type": "stream",
     "text": [
      "Epoch: 135 (69.8971s), train_loss: 0.2044, val_loss: 0.2696, train_acc: 0.9245, val_acc:0.8977\n",
      "\t\ttrain_roc: 0.9707, val_roc: 0.9569, train_auprc: 0.9621, val_auprc: 0.9487\n"
     ]
    },
    {
     "name": "stderr",
     "output_type": "stream",
     "text": [
      "/home/namle/.local/lib/python3.10/site-packages/torch_geometric/warnings.py:11: UserWarning: The usage of `scatter(reduce='max')` can be accelerated via the 'torch-scatter' package, but it was not found\n",
      "  warnings.warn(message)\n"
     ]
    },
    {
     "name": "stdout",
     "output_type": "stream",
     "text": [
      "Epoch: 136 (70.8231s), train_loss: 0.2049, val_loss: 0.2683, train_acc: 0.9249, val_acc:0.8985\n",
      "\t\ttrain_roc: 0.9707, val_roc: 0.9575, train_auprc: 0.9618, val_auprc: 0.9495\n"
     ]
    },
    {
     "name": "stderr",
     "output_type": "stream",
     "text": [
      "/home/namle/.local/lib/python3.10/site-packages/torch_geometric/warnings.py:11: UserWarning: The usage of `scatter(reduce='max')` can be accelerated via the 'torch-scatter' package, but it was not found\n",
      "  warnings.warn(message)\n"
     ]
    },
    {
     "name": "stdout",
     "output_type": "stream",
     "text": [
      "Epoch: 137 (70.8667s), train_loss: 0.2053, val_loss: 0.2681, train_acc: 0.9241, val_acc:0.8997\n",
      "\t\ttrain_roc: 0.9706, val_roc: 0.9574, train_auprc: 0.9619, val_auprc: 0.9490\n"
     ]
    },
    {
     "name": "stderr",
     "output_type": "stream",
     "text": [
      "/home/namle/.local/lib/python3.10/site-packages/torch_geometric/warnings.py:11: UserWarning: The usage of `scatter(reduce='max')` can be accelerated via the 'torch-scatter' package, but it was not found\n",
      "  warnings.warn(message)\n"
     ]
    },
    {
     "name": "stdout",
     "output_type": "stream",
     "text": [
      "Epoch: 138 (70.4461s), train_loss: 0.2034, val_loss: 0.2691, train_acc: 0.9247, val_acc:0.8979\n",
      "\t\ttrain_roc: 0.9712, val_roc: 0.9570, train_auprc: 0.9627, val_auprc: 0.9493\n"
     ]
    },
    {
     "name": "stderr",
     "output_type": "stream",
     "text": [
      "/home/namle/.local/lib/python3.10/site-packages/torch_geometric/warnings.py:11: UserWarning: The usage of `scatter(reduce='max')` can be accelerated via the 'torch-scatter' package, but it was not found\n",
      "  warnings.warn(message)\n"
     ]
    },
    {
     "name": "stdout",
     "output_type": "stream",
     "text": [
      "Epoch: 139 (70.3811s), train_loss: 0.2049, val_loss: 0.2675, train_acc: 0.9246, val_acc:0.8992\n",
      "\t\ttrain_roc: 0.9706, val_roc: 0.9580, train_auprc: 0.9615, val_auprc: 0.9498\n"
     ]
    },
    {
     "name": "stderr",
     "output_type": "stream",
     "text": [
      "/home/namle/.local/lib/python3.10/site-packages/torch_geometric/warnings.py:11: UserWarning: The usage of `scatter(reduce='max')` can be accelerated via the 'torch-scatter' package, but it was not found\n",
      "  warnings.warn(message)\n"
     ]
    },
    {
     "name": "stdout",
     "output_type": "stream",
     "text": [
      "Epoch: 140 (70.4176s), train_loss: 0.2045, val_loss: 0.2688, train_acc: 0.9244, val_acc:0.8992\n",
      "\t\ttrain_roc: 0.9708, val_roc: 0.9573, train_auprc: 0.9622, val_auprc: 0.9485\n"
     ]
    },
    {
     "name": "stderr",
     "output_type": "stream",
     "text": [
      "/home/namle/.local/lib/python3.10/site-packages/torch_geometric/warnings.py:11: UserWarning: The usage of `scatter(reduce='max')` can be accelerated via the 'torch-scatter' package, but it was not found\n",
      "  warnings.warn(message)\n"
     ]
    },
    {
     "name": "stdout",
     "output_type": "stream",
     "text": [
      "Epoch: 141 (70.8060s), train_loss: 0.2049, val_loss: 0.2681, train_acc: 0.9249, val_acc:0.8992\n",
      "\t\ttrain_roc: 0.9704, val_roc: 0.9575, train_auprc: 0.9616, val_auprc: 0.9495\n"
     ]
    },
    {
     "name": "stderr",
     "output_type": "stream",
     "text": [
      "/home/namle/.local/lib/python3.10/site-packages/torch_geometric/warnings.py:11: UserWarning: The usage of `scatter(reduce='max')` can be accelerated via the 'torch-scatter' package, but it was not found\n",
      "  warnings.warn(message)\n"
     ]
    },
    {
     "name": "stdout",
     "output_type": "stream",
     "text": [
      "Epoch: 142 (70.0748s), train_loss: 0.2037, val_loss: 0.2662, train_acc: 0.9249, val_acc:0.8994\n",
      "\t\ttrain_roc: 0.9709, val_roc: 0.9583, train_auprc: 0.9622, val_auprc: 0.9502\n"
     ]
    },
    {
     "name": "stderr",
     "output_type": "stream",
     "text": [
      "/home/namle/.local/lib/python3.10/site-packages/torch_geometric/warnings.py:11: UserWarning: The usage of `scatter(reduce='max')` can be accelerated via the 'torch-scatter' package, but it was not found\n",
      "  warnings.warn(message)\n"
     ]
    },
    {
     "name": "stdout",
     "output_type": "stream",
     "text": [
      "Epoch: 143 (71.0499s), train_loss: 0.2060, val_loss: 0.2682, train_acc: 0.9240, val_acc:0.8997\n",
      "\t\ttrain_roc: 0.9702, val_roc: 0.9576, train_auprc: 0.9609, val_auprc: 0.9490\n"
     ]
    },
    {
     "name": "stderr",
     "output_type": "stream",
     "text": [
      "/home/namle/.local/lib/python3.10/site-packages/torch_geometric/warnings.py:11: UserWarning: The usage of `scatter(reduce='max')` can be accelerated via the 'torch-scatter' package, but it was not found\n",
      "  warnings.warn(message)\n"
     ]
    },
    {
     "name": "stdout",
     "output_type": "stream",
     "text": [
      "Epoch: 144 (70.3950s), train_loss: 0.2028, val_loss: 0.2696, train_acc: 0.9255, val_acc:0.8996\n",
      "\t\ttrain_roc: 0.9712, val_roc: 0.9570, train_auprc: 0.9625, val_auprc: 0.9482\n"
     ]
    },
    {
     "name": "stderr",
     "output_type": "stream",
     "text": [
      "/home/namle/.local/lib/python3.10/site-packages/torch_geometric/warnings.py:11: UserWarning: The usage of `scatter(reduce='max')` can be accelerated via the 'torch-scatter' package, but it was not found\n",
      "  warnings.warn(message)\n"
     ]
    },
    {
     "name": "stdout",
     "output_type": "stream",
     "text": [
      "Epoch: 145 (69.9642s), train_loss: 0.2051, val_loss: 0.2681, train_acc: 0.9240, val_acc:0.8995\n",
      "\t\ttrain_roc: 0.9706, val_roc: 0.9577, train_auprc: 0.9618, val_auprc: 0.9498\n"
     ]
    },
    {
     "name": "stderr",
     "output_type": "stream",
     "text": [
      "/home/namle/.local/lib/python3.10/site-packages/torch_geometric/warnings.py:11: UserWarning: The usage of `scatter(reduce='max')` can be accelerated via the 'torch-scatter' package, but it was not found\n",
      "  warnings.warn(message)\n"
     ]
    },
    {
     "name": "stdout",
     "output_type": "stream",
     "text": [
      "Epoch: 146 (70.3919s), train_loss: 0.2038, val_loss: 0.2690, train_acc: 0.9253, val_acc:0.8991\n",
      "\t\ttrain_roc: 0.9708, val_roc: 0.9575, train_auprc: 0.9620, val_auprc: 0.9492\n"
     ]
    },
    {
     "name": "stderr",
     "output_type": "stream",
     "text": [
      "/home/namle/.local/lib/python3.10/site-packages/torch_geometric/warnings.py:11: UserWarning: The usage of `scatter(reduce='max')` can be accelerated via the 'torch-scatter' package, but it was not found\n",
      "  warnings.warn(message)\n"
     ]
    },
    {
     "name": "stdout",
     "output_type": "stream",
     "text": [
      "Epoch: 147 (71.1397s), train_loss: 0.2046, val_loss: 0.2676, train_acc: 0.9249, val_acc:0.8999\n",
      "\t\ttrain_roc: 0.9708, val_roc: 0.9579, train_auprc: 0.9619, val_auprc: 0.9497\n"
     ]
    },
    {
     "name": "stderr",
     "output_type": "stream",
     "text": [
      "/home/namle/.local/lib/python3.10/site-packages/torch_geometric/warnings.py:11: UserWarning: The usage of `scatter(reduce='max')` can be accelerated via the 'torch-scatter' package, but it was not found\n",
      "  warnings.warn(message)\n"
     ]
    },
    {
     "name": "stdout",
     "output_type": "stream",
     "text": [
      "Epoch: 148 (70.6581s), train_loss: 0.2040, val_loss: 0.2695, train_acc: 0.9250, val_acc:0.8988\n",
      "\t\ttrain_roc: 0.9708, val_roc: 0.9571, train_auprc: 0.9618, val_auprc: 0.9488\n"
     ]
    },
    {
     "name": "stderr",
     "output_type": "stream",
     "text": [
      "/home/namle/.local/lib/python3.10/site-packages/torch_geometric/warnings.py:11: UserWarning: The usage of `scatter(reduce='max')` can be accelerated via the 'torch-scatter' package, but it was not found\n",
      "  warnings.warn(message)\n"
     ]
    },
    {
     "name": "stdout",
     "output_type": "stream",
     "text": [
      "Epoch: 149 (70.5596s), train_loss: 0.2065, val_loss: 0.2680, train_acc: 0.9232, val_acc:0.8996\n",
      "\t\ttrain_roc: 0.9701, val_roc: 0.9579, train_auprc: 0.9613, val_auprc: 0.9497\n"
     ]
    },
    {
     "name": "stderr",
     "output_type": "stream",
     "text": [
      "/home/namle/.local/lib/python3.10/site-packages/torch_geometric/warnings.py:11: UserWarning: The usage of `scatter(reduce='max')` can be accelerated via the 'torch-scatter' package, but it was not found\n",
      "  warnings.warn(message)\n"
     ]
    },
    {
     "name": "stdout",
     "output_type": "stream",
     "text": [
      "Epoch: 150 (70.5623s), train_loss: 0.2023, val_loss: 0.2662, train_acc: 0.9252, val_acc:0.9005\n",
      "\t\ttrain_roc: 0.9715, val_roc: 0.9583, train_auprc: 0.9632, val_auprc: 0.9501\n"
     ]
    },
    {
     "name": "stderr",
     "output_type": "stream",
     "text": [
      "/home/namle/.local/lib/python3.10/site-packages/torch_geometric/warnings.py:11: UserWarning: The usage of `scatter(reduce='max')` can be accelerated via the 'torch-scatter' package, but it was not found\n",
      "  warnings.warn(message)\n"
     ]
    },
    {
     "name": "stdout",
     "output_type": "stream",
     "text": [
      "Epoch: 151 (70.3109s), train_loss: 0.2054, val_loss: 0.2674, train_acc: 0.9247, val_acc:0.8997\n",
      "\t\ttrain_roc: 0.9705, val_roc: 0.9579, train_auprc: 0.9611, val_auprc: 0.9499\n"
     ]
    },
    {
     "name": "stderr",
     "output_type": "stream",
     "text": [
      "/home/namle/.local/lib/python3.10/site-packages/torch_geometric/warnings.py:11: UserWarning: The usage of `scatter(reduce='max')` can be accelerated via the 'torch-scatter' package, but it was not found\n",
      "  warnings.warn(message)\n"
     ]
    },
    {
     "name": "stdout",
     "output_type": "stream",
     "text": [
      "Epoch: 152 (70.7551s), train_loss: 0.2014, val_loss: 0.2672, train_acc: 0.9259, val_acc:0.9004\n",
      "\t\ttrain_roc: 0.9715, val_roc: 0.9577, train_auprc: 0.9631, val_auprc: 0.9491\n"
     ]
    },
    {
     "name": "stderr",
     "output_type": "stream",
     "text": [
      "/home/namle/.local/lib/python3.10/site-packages/torch_geometric/warnings.py:11: UserWarning: The usage of `scatter(reduce='max')` can be accelerated via the 'torch-scatter' package, but it was not found\n",
      "  warnings.warn(message)\n"
     ]
    },
    {
     "name": "stdout",
     "output_type": "stream",
     "text": [
      "Epoch: 153 (70.4000s), train_loss: 0.2038, val_loss: 0.2686, train_acc: 0.9247, val_acc:0.9002\n",
      "\t\ttrain_roc: 0.9709, val_roc: 0.9576, train_auprc: 0.9621, val_auprc: 0.9486\n"
     ]
    },
    {
     "name": "stderr",
     "output_type": "stream",
     "text": [
      "/home/namle/.local/lib/python3.10/site-packages/torch_geometric/warnings.py:11: UserWarning: The usage of `scatter(reduce='max')` can be accelerated via the 'torch-scatter' package, but it was not found\n",
      "  warnings.warn(message)\n"
     ]
    },
    {
     "name": "stdout",
     "output_type": "stream",
     "text": [
      "Epoch: 154 (69.9563s), train_loss: 0.2041, val_loss: 0.2665, train_acc: 0.9246, val_acc:0.9007\n",
      "\t\ttrain_roc: 0.9707, val_roc: 0.9585, train_auprc: 0.9620, val_auprc: 0.9505\n"
     ]
    },
    {
     "name": "stderr",
     "output_type": "stream",
     "text": [
      "/home/namle/.local/lib/python3.10/site-packages/torch_geometric/warnings.py:11: UserWarning: The usage of `scatter(reduce='max')` can be accelerated via the 'torch-scatter' package, but it was not found\n",
      "  warnings.warn(message)\n"
     ]
    },
    {
     "name": "stdout",
     "output_type": "stream",
     "text": [
      "Epoch: 155 (70.3408s), train_loss: 0.2018, val_loss: 0.2690, train_acc: 0.9255, val_acc:0.8999\n",
      "\t\ttrain_roc: 0.9716, val_roc: 0.9575, train_auprc: 0.9631, val_auprc: 0.9492\n"
     ]
    },
    {
     "name": "stderr",
     "output_type": "stream",
     "text": [
      "/home/namle/.local/lib/python3.10/site-packages/torch_geometric/warnings.py:11: UserWarning: The usage of `scatter(reduce='max')` can be accelerated via the 'torch-scatter' package, but it was not found\n",
      "  warnings.warn(message)\n"
     ]
    },
    {
     "name": "stdout",
     "output_type": "stream",
     "text": [
      "Epoch: 156 (69.7615s), train_loss: 0.2026, val_loss: 0.2666, train_acc: 0.9254, val_acc:0.9008\n",
      "\t\ttrain_roc: 0.9712, val_roc: 0.9582, train_auprc: 0.9626, val_auprc: 0.9501\n"
     ]
    },
    {
     "name": "stderr",
     "output_type": "stream",
     "text": [
      "/home/namle/.local/lib/python3.10/site-packages/torch_geometric/warnings.py:11: UserWarning: The usage of `scatter(reduce='max')` can be accelerated via the 'torch-scatter' package, but it was not found\n",
      "  warnings.warn(message)\n"
     ]
    },
    {
     "name": "stdout",
     "output_type": "stream",
     "text": [
      "Epoch: 157 (70.1864s), train_loss: 0.2030, val_loss: 0.2681, train_acc: 0.9249, val_acc:0.8994\n",
      "\t\ttrain_roc: 0.9712, val_roc: 0.9578, train_auprc: 0.9627, val_auprc: 0.9498\n"
     ]
    },
    {
     "name": "stderr",
     "output_type": "stream",
     "text": [
      "/home/namle/.local/lib/python3.10/site-packages/torch_geometric/warnings.py:11: UserWarning: The usage of `scatter(reduce='max')` can be accelerated via the 'torch-scatter' package, but it was not found\n",
      "  warnings.warn(message)\n"
     ]
    },
    {
     "name": "stdout",
     "output_type": "stream",
     "text": [
      "Epoch: 158 (70.5025s), train_loss: 0.2057, val_loss: 0.2684, train_acc: 0.9237, val_acc:0.8994\n",
      "\t\ttrain_roc: 0.9703, val_roc: 0.9579, train_auprc: 0.9614, val_auprc: 0.9498\n"
     ]
    },
    {
     "name": "stderr",
     "output_type": "stream",
     "text": [
      "/home/namle/.local/lib/python3.10/site-packages/torch_geometric/warnings.py:11: UserWarning: The usage of `scatter(reduce='max')` can be accelerated via the 'torch-scatter' package, but it was not found\n",
      "  warnings.warn(message)\n"
     ]
    },
    {
     "name": "stdout",
     "output_type": "stream",
     "text": [
      "Epoch: 159 (70.3729s), train_loss: 0.2045, val_loss: 0.2689, train_acc: 0.9249, val_acc:0.8989\n",
      "\t\ttrain_roc: 0.9706, val_roc: 0.9582, train_auprc: 0.9615, val_auprc: 0.9498\n"
     ]
    },
    {
     "name": "stderr",
     "output_type": "stream",
     "text": [
      "/home/namle/.local/lib/python3.10/site-packages/torch_geometric/warnings.py:11: UserWarning: The usage of `scatter(reduce='max')` can be accelerated via the 'torch-scatter' package, but it was not found\n",
      "  warnings.warn(message)\n"
     ]
    },
    {
     "name": "stdout",
     "output_type": "stream",
     "text": [
      "Epoch: 160 (70.7287s), train_loss: 0.2036, val_loss: 0.2693, train_acc: 0.9253, val_acc:0.8981\n",
      "\t\ttrain_roc: 0.9707, val_roc: 0.9575, train_auprc: 0.9616, val_auprc: 0.9495\n"
     ]
    },
    {
     "name": "stderr",
     "output_type": "stream",
     "text": [
      "/home/namle/.local/lib/python3.10/site-packages/torch_geometric/warnings.py:11: UserWarning: The usage of `scatter(reduce='max')` can be accelerated via the 'torch-scatter' package, but it was not found\n",
      "  warnings.warn(message)\n"
     ]
    },
    {
     "name": "stdout",
     "output_type": "stream",
     "text": [
      "Epoch: 161 (70.6909s), train_loss: 0.2043, val_loss: 0.2674, train_acc: 0.9249, val_acc:0.8992\n",
      "\t\ttrain_roc: 0.9706, val_roc: 0.9583, train_auprc: 0.9616, val_auprc: 0.9502\n"
     ]
    },
    {
     "name": "stderr",
     "output_type": "stream",
     "text": [
      "/home/namle/.local/lib/python3.10/site-packages/torch_geometric/warnings.py:11: UserWarning: The usage of `scatter(reduce='max')` can be accelerated via the 'torch-scatter' package, but it was not found\n",
      "  warnings.warn(message)\n"
     ]
    },
    {
     "name": "stdout",
     "output_type": "stream",
     "text": [
      "Epoch: 162 (70.7889s), train_loss: 0.2022, val_loss: 0.2689, train_acc: 0.9253, val_acc:0.9001\n",
      "\t\ttrain_roc: 0.9714, val_roc: 0.9576, train_auprc: 0.9627, val_auprc: 0.9488\n"
     ]
    },
    {
     "name": "stderr",
     "output_type": "stream",
     "text": [
      "/home/namle/.local/lib/python3.10/site-packages/torch_geometric/warnings.py:11: UserWarning: The usage of `scatter(reduce='max')` can be accelerated via the 'torch-scatter' package, but it was not found\n",
      "  warnings.warn(message)\n"
     ]
    },
    {
     "name": "stdout",
     "output_type": "stream",
     "text": [
      "Epoch: 163 (69.9015s), train_loss: 0.2036, val_loss: 0.2689, train_acc: 0.9246, val_acc:0.8988\n",
      "\t\ttrain_roc: 0.9709, val_roc: 0.9574, train_auprc: 0.9623, val_auprc: 0.9497\n"
     ]
    },
    {
     "name": "stderr",
     "output_type": "stream",
     "text": [
      "/home/namle/.local/lib/python3.10/site-packages/torch_geometric/warnings.py:11: UserWarning: The usage of `scatter(reduce='max')` can be accelerated via the 'torch-scatter' package, but it was not found\n",
      "  warnings.warn(message)\n"
     ]
    },
    {
     "name": "stdout",
     "output_type": "stream",
     "text": [
      "Saving model\n",
      "Epoch: 164 (70.4590s), train_loss: 0.2028, val_loss: 0.2657, train_acc: 0.9255, val_acc:0.9005\n",
      "\t\ttrain_roc: 0.9711, val_roc: 0.9587, train_auprc: 0.9625, val_auprc: 0.9508\n"
     ]
    },
    {
     "name": "stderr",
     "output_type": "stream",
     "text": [
      "/home/namle/.local/lib/python3.10/site-packages/torch_geometric/warnings.py:11: UserWarning: The usage of `scatter(reduce='max')` can be accelerated via the 'torch-scatter' package, but it was not found\n",
      "  warnings.warn(message)\n"
     ]
    },
    {
     "name": "stdout",
     "output_type": "stream",
     "text": [
      "Epoch: 165 (70.8512s), train_loss: 0.2019, val_loss: 0.2687, train_acc: 0.9255, val_acc:0.8991\n",
      "\t\ttrain_roc: 0.9715, val_roc: 0.9574, train_auprc: 0.9629, val_auprc: 0.9498\n"
     ]
    },
    {
     "name": "stderr",
     "output_type": "stream",
     "text": [
      "/home/namle/.local/lib/python3.10/site-packages/torch_geometric/warnings.py:11: UserWarning: The usage of `scatter(reduce='max')` can be accelerated via the 'torch-scatter' package, but it was not found\n",
      "  warnings.warn(message)\n"
     ]
    },
    {
     "name": "stdout",
     "output_type": "stream",
     "text": [
      "Saving model\n",
      "Epoch: 166 (70.6903s), train_loss: 0.2019, val_loss: 0.2657, train_acc: 0.9254, val_acc:0.9014\n",
      "\t\ttrain_roc: 0.9714, val_roc: 0.9590, train_auprc: 0.9631, val_auprc: 0.9509\n"
     ]
    },
    {
     "name": "stderr",
     "output_type": "stream",
     "text": [
      "/home/namle/.local/lib/python3.10/site-packages/torch_geometric/warnings.py:11: UserWarning: The usage of `scatter(reduce='max')` can be accelerated via the 'torch-scatter' package, but it was not found\n",
      "  warnings.warn(message)\n"
     ]
    },
    {
     "name": "stdout",
     "output_type": "stream",
     "text": [
      "Epoch: 167 (70.1994s), train_loss: 0.2030, val_loss: 0.2706, train_acc: 0.9254, val_acc:0.8994\n",
      "\t\ttrain_roc: 0.9709, val_roc: 0.9570, train_auprc: 0.9621, val_auprc: 0.9477\n"
     ]
    },
    {
     "name": "stderr",
     "output_type": "stream",
     "text": [
      "/home/namle/.local/lib/python3.10/site-packages/torch_geometric/warnings.py:11: UserWarning: The usage of `scatter(reduce='max')` can be accelerated via the 'torch-scatter' package, but it was not found\n",
      "  warnings.warn(message)\n"
     ]
    },
    {
     "name": "stdout",
     "output_type": "stream",
     "text": [
      "Epoch: 168 (69.7598s), train_loss: 0.2026, val_loss: 0.2683, train_acc: 0.9253, val_acc:0.8998\n",
      "\t\ttrain_roc: 0.9712, val_roc: 0.9578, train_auprc: 0.9626, val_auprc: 0.9496\n"
     ]
    },
    {
     "name": "stderr",
     "output_type": "stream",
     "text": [
      "/home/namle/.local/lib/python3.10/site-packages/torch_geometric/warnings.py:11: UserWarning: The usage of `scatter(reduce='max')` can be accelerated via the 'torch-scatter' package, but it was not found\n",
      "  warnings.warn(message)\n"
     ]
    },
    {
     "name": "stdout",
     "output_type": "stream",
     "text": [
      "Epoch: 169 (70.7994s), train_loss: 0.2018, val_loss: 0.2698, train_acc: 0.9257, val_acc:0.8993\n",
      "\t\ttrain_roc: 0.9715, val_roc: 0.9571, train_auprc: 0.9625, val_auprc: 0.9487\n"
     ]
    },
    {
     "name": "stderr",
     "output_type": "stream",
     "text": [
      "/home/namle/.local/lib/python3.10/site-packages/torch_geometric/warnings.py:11: UserWarning: The usage of `scatter(reduce='max')` can be accelerated via the 'torch-scatter' package, but it was not found\n",
      "  warnings.warn(message)\n"
     ]
    },
    {
     "name": "stdout",
     "output_type": "stream",
     "text": [
      "Saving model\n",
      "Epoch: 170 (69.7448s), train_loss: 0.2018, val_loss: 0.2653, train_acc: 0.9257, val_acc:0.9014\n",
      "\t\ttrain_roc: 0.9714, val_roc: 0.9587, train_auprc: 0.9627, val_auprc: 0.9510\n"
     ]
    },
    {
     "name": "stderr",
     "output_type": "stream",
     "text": [
      "/home/namle/.local/lib/python3.10/site-packages/torch_geometric/warnings.py:11: UserWarning: The usage of `scatter(reduce='max')` can be accelerated via the 'torch-scatter' package, but it was not found\n",
      "  warnings.warn(message)\n"
     ]
    },
    {
     "name": "stdout",
     "output_type": "stream",
     "text": [
      "Saving model\n",
      "Epoch: 171 (70.1108s), train_loss: 0.2031, val_loss: 0.2646, train_acc: 0.9251, val_acc:0.9015\n",
      "\t\ttrain_roc: 0.9708, val_roc: 0.9594, train_auprc: 0.9622, val_auprc: 0.9519\n"
     ]
    },
    {
     "name": "stderr",
     "output_type": "stream",
     "text": [
      "/home/namle/.local/lib/python3.10/site-packages/torch_geometric/warnings.py:11: UserWarning: The usage of `scatter(reduce='max')` can be accelerated via the 'torch-scatter' package, but it was not found\n",
      "  warnings.warn(message)\n"
     ]
    },
    {
     "name": "stdout",
     "output_type": "stream",
     "text": [
      "Epoch: 172 (70.3929s), train_loss: 0.2027, val_loss: 0.2665, train_acc: 0.9254, val_acc:0.9011\n",
      "\t\ttrain_roc: 0.9710, val_roc: 0.9585, train_auprc: 0.9623, val_auprc: 0.9505\n"
     ]
    },
    {
     "name": "stderr",
     "output_type": "stream",
     "text": [
      "/home/namle/.local/lib/python3.10/site-packages/torch_geometric/warnings.py:11: UserWarning: The usage of `scatter(reduce='max')` can be accelerated via the 'torch-scatter' package, but it was not found\n",
      "  warnings.warn(message)\n"
     ]
    },
    {
     "name": "stdout",
     "output_type": "stream",
     "text": [
      "Epoch: 173 (70.7682s), train_loss: 0.2030, val_loss: 0.2690, train_acc: 0.9251, val_acc:0.8994\n",
      "\t\ttrain_roc: 0.9710, val_roc: 0.9578, train_auprc: 0.9623, val_auprc: 0.9495\n"
     ]
    },
    {
     "name": "stderr",
     "output_type": "stream",
     "text": [
      "/home/namle/.local/lib/python3.10/site-packages/torch_geometric/warnings.py:11: UserWarning: The usage of `scatter(reduce='max')` can be accelerated via the 'torch-scatter' package, but it was not found\n",
      "  warnings.warn(message)\n"
     ]
    },
    {
     "name": "stdout",
     "output_type": "stream",
     "text": [
      "Epoch: 174 (71.3976s), train_loss: 0.2027, val_loss: 0.2699, train_acc: 0.9249, val_acc:0.8993\n",
      "\t\ttrain_roc: 0.9712, val_roc: 0.9572, train_auprc: 0.9628, val_auprc: 0.9489\n"
     ]
    },
    {
     "name": "stderr",
     "output_type": "stream",
     "text": [
      "/home/namle/.local/lib/python3.10/site-packages/torch_geometric/warnings.py:11: UserWarning: The usage of `scatter(reduce='max')` can be accelerated via the 'torch-scatter' package, but it was not found\n",
      "  warnings.warn(message)\n"
     ]
    },
    {
     "name": "stdout",
     "output_type": "stream",
     "text": [
      "Epoch: 175 (70.0076s), train_loss: 0.2035, val_loss: 0.2669, train_acc: 0.9256, val_acc:0.9000\n",
      "\t\ttrain_roc: 0.9708, val_roc: 0.9585, train_auprc: 0.9617, val_auprc: 0.9507\n"
     ]
    },
    {
     "name": "stderr",
     "output_type": "stream",
     "text": [
      "/home/namle/.local/lib/python3.10/site-packages/torch_geometric/warnings.py:11: UserWarning: The usage of `scatter(reduce='max')` can be accelerated via the 'torch-scatter' package, but it was not found\n",
      "  warnings.warn(message)\n"
     ]
    },
    {
     "name": "stdout",
     "output_type": "stream",
     "text": [
      "Epoch: 176 (70.7905s), train_loss: 0.2032, val_loss: 0.2690, train_acc: 0.9252, val_acc:0.8992\n",
      "\t\ttrain_roc: 0.9711, val_roc: 0.9577, train_auprc: 0.9620, val_auprc: 0.9497\n"
     ]
    },
    {
     "name": "stderr",
     "output_type": "stream",
     "text": [
      "/home/namle/.local/lib/python3.10/site-packages/torch_geometric/warnings.py:11: UserWarning: The usage of `scatter(reduce='max')` can be accelerated via the 'torch-scatter' package, but it was not found\n",
      "  warnings.warn(message)\n"
     ]
    },
    {
     "name": "stdout",
     "output_type": "stream",
     "text": [
      "Epoch: 177 (71.1229s), train_loss: 0.2011, val_loss: 0.2713, train_acc: 0.9263, val_acc:0.8991\n",
      "\t\ttrain_roc: 0.9716, val_roc: 0.9568, train_auprc: 0.9629, val_auprc: 0.9480\n"
     ]
    },
    {
     "name": "stderr",
     "output_type": "stream",
     "text": [
      "/home/namle/.local/lib/python3.10/site-packages/torch_geometric/warnings.py:11: UserWarning: The usage of `scatter(reduce='max')` can be accelerated via the 'torch-scatter' package, but it was not found\n",
      "  warnings.warn(message)\n"
     ]
    },
    {
     "name": "stdout",
     "output_type": "stream",
     "text": [
      "Epoch: 178 (70.5014s), train_loss: 0.2011, val_loss: 0.2654, train_acc: 0.9260, val_acc:0.9012\n",
      "\t\ttrain_roc: 0.9716, val_roc: 0.9589, train_auprc: 0.9630, val_auprc: 0.9513\n"
     ]
    },
    {
     "name": "stderr",
     "output_type": "stream",
     "text": [
      "/home/namle/.local/lib/python3.10/site-packages/torch_geometric/warnings.py:11: UserWarning: The usage of `scatter(reduce='max')` can be accelerated via the 'torch-scatter' package, but it was not found\n",
      "  warnings.warn(message)\n"
     ]
    },
    {
     "name": "stdout",
     "output_type": "stream",
     "text": [
      "Epoch: 179 (70.6838s), train_loss: 0.2037, val_loss: 0.2669, train_acc: 0.9249, val_acc:0.9001\n",
      "\t\ttrain_roc: 0.9707, val_roc: 0.9586, train_auprc: 0.9616, val_auprc: 0.9509\n"
     ]
    },
    {
     "name": "stderr",
     "output_type": "stream",
     "text": [
      "/home/namle/.local/lib/python3.10/site-packages/torch_geometric/warnings.py:11: UserWarning: The usage of `scatter(reduce='max')` can be accelerated via the 'torch-scatter' package, but it was not found\n",
      "  warnings.warn(message)\n"
     ]
    },
    {
     "name": "stdout",
     "output_type": "stream",
     "text": [
      "Epoch: 180 (70.9199s), train_loss: 0.2028, val_loss: 0.2694, train_acc: 0.9257, val_acc:0.9002\n",
      "\t\ttrain_roc: 0.9709, val_roc: 0.9575, train_auprc: 0.9614, val_auprc: 0.9484\n"
     ]
    },
    {
     "name": "stderr",
     "output_type": "stream",
     "text": [
      "/home/namle/.local/lib/python3.10/site-packages/torch_geometric/warnings.py:11: UserWarning: The usage of `scatter(reduce='max')` can be accelerated via the 'torch-scatter' package, but it was not found\n",
      "  warnings.warn(message)\n"
     ]
    },
    {
     "name": "stdout",
     "output_type": "stream",
     "text": [
      "Epoch: 181 (70.9062s), train_loss: 0.2027, val_loss: 0.2701, train_acc: 0.9256, val_acc:0.8995\n",
      "\t\ttrain_roc: 0.9712, val_roc: 0.9573, train_auprc: 0.9621, val_auprc: 0.9483\n"
     ]
    },
    {
     "name": "stderr",
     "output_type": "stream",
     "text": [
      "/home/namle/.local/lib/python3.10/site-packages/torch_geometric/warnings.py:11: UserWarning: The usage of `scatter(reduce='max')` can be accelerated via the 'torch-scatter' package, but it was not found\n",
      "  warnings.warn(message)\n"
     ]
    },
    {
     "name": "stdout",
     "output_type": "stream",
     "text": [
      "Epoch: 182 (70.8984s), train_loss: 0.2021, val_loss: 0.2682, train_acc: 0.9253, val_acc:0.9004\n",
      "\t\ttrain_roc: 0.9714, val_roc: 0.9582, train_auprc: 0.9629, val_auprc: 0.9500\n"
     ]
    },
    {
     "name": "stderr",
     "output_type": "stream",
     "text": [
      "/home/namle/.local/lib/python3.10/site-packages/torch_geometric/warnings.py:11: UserWarning: The usage of `scatter(reduce='max')` can be accelerated via the 'torch-scatter' package, but it was not found\n",
      "  warnings.warn(message)\n"
     ]
    },
    {
     "name": "stdout",
     "output_type": "stream",
     "text": [
      "Epoch: 183 (70.3766s), train_loss: 0.2005, val_loss: 0.2691, train_acc: 0.9262, val_acc:0.8995\n",
      "\t\ttrain_roc: 0.9717, val_roc: 0.9577, train_auprc: 0.9631, val_auprc: 0.9494\n"
     ]
    },
    {
     "name": "stderr",
     "output_type": "stream",
     "text": [
      "/home/namle/.local/lib/python3.10/site-packages/torch_geometric/warnings.py:11: UserWarning: The usage of `scatter(reduce='max')` can be accelerated via the 'torch-scatter' package, but it was not found\n",
      "  warnings.warn(message)\n"
     ]
    },
    {
     "name": "stdout",
     "output_type": "stream",
     "text": [
      "Epoch: 184 (70.7671s), train_loss: 0.2009, val_loss: 0.2664, train_acc: 0.9260, val_acc:0.9016\n",
      "\t\ttrain_roc: 0.9717, val_roc: 0.9585, train_auprc: 0.9632, val_auprc: 0.9504\n"
     ]
    },
    {
     "name": "stderr",
     "output_type": "stream",
     "text": [
      "/home/namle/.local/lib/python3.10/site-packages/torch_geometric/warnings.py:11: UserWarning: The usage of `scatter(reduce='max')` can be accelerated via the 'torch-scatter' package, but it was not found\n",
      "  warnings.warn(message)\n"
     ]
    },
    {
     "name": "stdout",
     "output_type": "stream",
     "text": [
      "Epoch: 185 (71.0544s), train_loss: 0.2014, val_loss: 0.2681, train_acc: 0.9263, val_acc:0.9004\n",
      "\t\ttrain_roc: 0.9716, val_roc: 0.9581, train_auprc: 0.9627, val_auprc: 0.9498\n"
     ]
    },
    {
     "name": "stderr",
     "output_type": "stream",
     "text": [
      "/home/namle/.local/lib/python3.10/site-packages/torch_geometric/warnings.py:11: UserWarning: The usage of `scatter(reduce='max')` can be accelerated via the 'torch-scatter' package, but it was not found\n",
      "  warnings.warn(message)\n"
     ]
    },
    {
     "name": "stdout",
     "output_type": "stream",
     "text": [
      "Epoch: 186 (70.0227s), train_loss: 0.2018, val_loss: 0.2681, train_acc: 0.9257, val_acc:0.9005\n",
      "\t\ttrain_roc: 0.9715, val_roc: 0.9580, train_auprc: 0.9628, val_auprc: 0.9496\n"
     ]
    },
    {
     "name": "stderr",
     "output_type": "stream",
     "text": [
      "/home/namle/.local/lib/python3.10/site-packages/torch_geometric/warnings.py:11: UserWarning: The usage of `scatter(reduce='max')` can be accelerated via the 'torch-scatter' package, but it was not found\n",
      "  warnings.warn(message)\n"
     ]
    },
    {
     "name": "stdout",
     "output_type": "stream",
     "text": [
      "Epoch: 187 (70.5039s), train_loss: 0.2026, val_loss: 0.2658, train_acc: 0.9253, val_acc:0.9008\n",
      "\t\ttrain_roc: 0.9711, val_roc: 0.9589, train_auprc: 0.9625, val_auprc: 0.9511\n"
     ]
    },
    {
     "name": "stderr",
     "output_type": "stream",
     "text": [
      "/home/namle/.local/lib/python3.10/site-packages/torch_geometric/warnings.py:11: UserWarning: The usage of `scatter(reduce='max')` can be accelerated via the 'torch-scatter' package, but it was not found\n",
      "  warnings.warn(message)\n"
     ]
    },
    {
     "name": "stdout",
     "output_type": "stream",
     "text": [
      "Epoch: 188 (70.1286s), train_loss: 0.2019, val_loss: 0.2707, train_acc: 0.9259, val_acc:0.8995\n",
      "\t\ttrain_roc: 0.9713, val_roc: 0.9573, train_auprc: 0.9627, val_auprc: 0.9486\n"
     ]
    },
    {
     "name": "stderr",
     "output_type": "stream",
     "text": [
      "/home/namle/.local/lib/python3.10/site-packages/torch_geometric/warnings.py:11: UserWarning: The usage of `scatter(reduce='max')` can be accelerated via the 'torch-scatter' package, but it was not found\n",
      "  warnings.warn(message)\n"
     ]
    },
    {
     "name": "stdout",
     "output_type": "stream",
     "text": [
      "Epoch: 189 (69.7689s), train_loss: 0.2009, val_loss: 0.2689, train_acc: 0.9258, val_acc:0.9000\n",
      "\t\ttrain_roc: 0.9717, val_roc: 0.9577, train_auprc: 0.9635, val_auprc: 0.9497\n"
     ]
    },
    {
     "name": "stderr",
     "output_type": "stream",
     "text": [
      "/home/namle/.local/lib/python3.10/site-packages/torch_geometric/warnings.py:11: UserWarning: The usage of `scatter(reduce='max')` can be accelerated via the 'torch-scatter' package, but it was not found\n",
      "  warnings.warn(message)\n"
     ]
    },
    {
     "name": "stdout",
     "output_type": "stream",
     "text": [
      "Epoch: 190 (70.5100s), train_loss: 0.2005, val_loss: 0.2670, train_acc: 0.9263, val_acc:0.9011\n",
      "\t\ttrain_roc: 0.9718, val_roc: 0.9583, train_auprc: 0.9633, val_auprc: 0.9504\n"
     ]
    },
    {
     "name": "stderr",
     "output_type": "stream",
     "text": [
      "/home/namle/.local/lib/python3.10/site-packages/torch_geometric/warnings.py:11: UserWarning: The usage of `scatter(reduce='max')` can be accelerated via the 'torch-scatter' package, but it was not found\n",
      "  warnings.warn(message)\n"
     ]
    },
    {
     "name": "stdout",
     "output_type": "stream",
     "text": [
      "Epoch: 191 (70.7654s), train_loss: 0.2023, val_loss: 0.2686, train_acc: 0.9252, val_acc:0.9002\n",
      "\t\ttrain_roc: 0.9713, val_roc: 0.9578, train_auprc: 0.9627, val_auprc: 0.9497\n"
     ]
    },
    {
     "name": "stderr",
     "output_type": "stream",
     "text": [
      "/home/namle/.local/lib/python3.10/site-packages/torch_geometric/warnings.py:11: UserWarning: The usage of `scatter(reduce='max')` can be accelerated via the 'torch-scatter' package, but it was not found\n",
      "  warnings.warn(message)\n"
     ]
    },
    {
     "name": "stdout",
     "output_type": "stream",
     "text": [
      "Epoch: 192 (70.4809s), train_loss: 0.2010, val_loss: 0.2690, train_acc: 0.9257, val_acc:0.8998\n",
      "\t\ttrain_roc: 0.9717, val_roc: 0.9577, train_auprc: 0.9632, val_auprc: 0.9497\n"
     ]
    },
    {
     "name": "stderr",
     "output_type": "stream",
     "text": [
      "/home/namle/.local/lib/python3.10/site-packages/torch_geometric/warnings.py:11: UserWarning: The usage of `scatter(reduce='max')` can be accelerated via the 'torch-scatter' package, but it was not found\n",
      "  warnings.warn(message)\n"
     ]
    },
    {
     "name": "stdout",
     "output_type": "stream",
     "text": [
      "Epoch: 193 (70.5914s), train_loss: 0.2032, val_loss: 0.2687, train_acc: 0.9256, val_acc:0.8993\n",
      "\t\ttrain_roc: 0.9709, val_roc: 0.9578, train_auprc: 0.9617, val_auprc: 0.9496\n"
     ]
    },
    {
     "name": "stderr",
     "output_type": "stream",
     "text": [
      "/home/namle/.local/lib/python3.10/site-packages/torch_geometric/warnings.py:11: UserWarning: The usage of `scatter(reduce='max')` can be accelerated via the 'torch-scatter' package, but it was not found\n",
      "  warnings.warn(message)\n"
     ]
    },
    {
     "name": "stdout",
     "output_type": "stream",
     "text": [
      "Epoch: 194 (70.7477s), train_loss: 0.2004, val_loss: 0.2669, train_acc: 0.9262, val_acc:0.9011\n",
      "\t\ttrain_roc: 0.9719, val_roc: 0.9584, train_auprc: 0.9634, val_auprc: 0.9507\n"
     ]
    },
    {
     "name": "stderr",
     "output_type": "stream",
     "text": [
      "/home/namle/.local/lib/python3.10/site-packages/torch_geometric/warnings.py:11: UserWarning: The usage of `scatter(reduce='max')` can be accelerated via the 'torch-scatter' package, but it was not found\n",
      "  warnings.warn(message)\n"
     ]
    },
    {
     "name": "stdout",
     "output_type": "stream",
     "text": [
      "Epoch: 195 (70.7377s), train_loss: 0.2018, val_loss: 0.2704, train_acc: 0.9260, val_acc:0.8987\n",
      "\t\ttrain_roc: 0.9714, val_roc: 0.9574, train_auprc: 0.9626, val_auprc: 0.9490\n"
     ]
    },
    {
     "name": "stderr",
     "output_type": "stream",
     "text": [
      "/home/namle/.local/lib/python3.10/site-packages/torch_geometric/warnings.py:11: UserWarning: The usage of `scatter(reduce='max')` can be accelerated via the 'torch-scatter' package, but it was not found\n",
      "  warnings.warn(message)\n"
     ]
    },
    {
     "name": "stdout",
     "output_type": "stream",
     "text": [
      "Epoch: 196 (70.7175s), train_loss: 0.2009, val_loss: 0.2729, train_acc: 0.9260, val_acc:0.8987\n",
      "\t\ttrain_roc: 0.9717, val_roc: 0.9563, train_auprc: 0.9634, val_auprc: 0.9475\n"
     ]
    },
    {
     "name": "stderr",
     "output_type": "stream",
     "text": [
      "/home/namle/.local/lib/python3.10/site-packages/torch_geometric/warnings.py:11: UserWarning: The usage of `scatter(reduce='max')` can be accelerated via the 'torch-scatter' package, but it was not found\n",
      "  warnings.warn(message)\n"
     ]
    },
    {
     "name": "stdout",
     "output_type": "stream",
     "text": [
      "Epoch: 197 (70.7763s), train_loss: 0.2007, val_loss: 0.2719, train_acc: 0.9264, val_acc:0.8997\n",
      "\t\ttrain_roc: 0.9718, val_roc: 0.9568, train_auprc: 0.9632, val_auprc: 0.9476\n"
     ]
    },
    {
     "name": "stderr",
     "output_type": "stream",
     "text": [
      "/home/namle/.local/lib/python3.10/site-packages/torch_geometric/warnings.py:11: UserWarning: The usage of `scatter(reduce='max')` can be accelerated via the 'torch-scatter' package, but it was not found\n",
      "  warnings.warn(message)\n"
     ]
    },
    {
     "name": "stdout",
     "output_type": "stream",
     "text": [
      "Epoch: 198 (70.4699s), train_loss: 0.2018, val_loss: 0.2685, train_acc: 0.9258, val_acc:0.9000\n",
      "\t\ttrain_roc: 0.9714, val_roc: 0.9580, train_auprc: 0.9625, val_auprc: 0.9504\n"
     ]
    },
    {
     "name": "stderr",
     "output_type": "stream",
     "text": [
      "/home/namle/.local/lib/python3.10/site-packages/torch_geometric/warnings.py:11: UserWarning: The usage of `scatter(reduce='max')` can be accelerated via the 'torch-scatter' package, but it was not found\n",
      "  warnings.warn(message)\n"
     ]
    },
    {
     "name": "stdout",
     "output_type": "stream",
     "text": [
      "Epoch: 199 (70.1683s), train_loss: 0.2009, val_loss: 0.2677, train_acc: 0.9260, val_acc:0.9006\n",
      "\t\ttrain_roc: 0.9718, val_roc: 0.9582, train_auprc: 0.9632, val_auprc: 0.9501\n"
     ]
    },
    {
     "name": "stderr",
     "output_type": "stream",
     "text": [
      "/home/namle/.local/lib/python3.10/site-packages/torch_geometric/warnings.py:11: UserWarning: The usage of `scatter(reduce='max')` can be accelerated via the 'torch-scatter' package, but it was not found\n",
      "  warnings.warn(message)\n"
     ]
    },
    {
     "name": "stdout",
     "output_type": "stream",
     "text": [
      "Epoch: 200 (70.5421s), train_loss: 0.2024, val_loss: 0.2675, train_acc: 0.9254, val_acc:0.9009\n",
      "\t\ttrain_roc: 0.9712, val_roc: 0.9585, train_auprc: 0.9625, val_auprc: 0.9503\n"
     ]
    },
    {
     "name": "stderr",
     "output_type": "stream",
     "text": [
      "/home/namle/.local/lib/python3.10/site-packages/torch_geometric/warnings.py:11: UserWarning: The usage of `scatter(reduce='max')` can be accelerated via the 'torch-scatter' package, but it was not found\n",
      "  warnings.warn(message)\n"
     ]
    },
    {
     "name": "stdout",
     "output_type": "stream",
     "text": [
      "Epoch: 201 (70.7499s), train_loss: 0.2013, val_loss: 0.2685, train_acc: 0.9262, val_acc:0.8995\n",
      "\t\ttrain_roc: 0.9715, val_roc: 0.9580, train_auprc: 0.9626, val_auprc: 0.9507\n"
     ]
    },
    {
     "name": "stderr",
     "output_type": "stream",
     "text": [
      "/home/namle/.local/lib/python3.10/site-packages/torch_geometric/warnings.py:11: UserWarning: The usage of `scatter(reduce='max')` can be accelerated via the 'torch-scatter' package, but it was not found\n",
      "  warnings.warn(message)\n"
     ]
    },
    {
     "name": "stdout",
     "output_type": "stream",
     "text": [
      "Epoch: 202 (70.5841s), train_loss: 0.2024, val_loss: 0.2706, train_acc: 0.9252, val_acc:0.8996\n",
      "\t\ttrain_roc: 0.9711, val_roc: 0.9573, train_auprc: 0.9625, val_auprc: 0.9486\n"
     ]
    },
    {
     "name": "stderr",
     "output_type": "stream",
     "text": [
      "/home/namle/.local/lib/python3.10/site-packages/torch_geometric/warnings.py:11: UserWarning: The usage of `scatter(reduce='max')` can be accelerated via the 'torch-scatter' package, but it was not found\n",
      "  warnings.warn(message)\n"
     ]
    },
    {
     "name": "stdout",
     "output_type": "stream",
     "text": [
      "Epoch: 203 (70.1605s), train_loss: 0.2014, val_loss: 0.2672, train_acc: 0.9262, val_acc:0.9007\n",
      "\t\ttrain_roc: 0.9714, val_roc: 0.9585, train_auprc: 0.9627, val_auprc: 0.9506\n"
     ]
    },
    {
     "name": "stderr",
     "output_type": "stream",
     "text": [
      "/home/namle/.local/lib/python3.10/site-packages/torch_geometric/warnings.py:11: UserWarning: The usage of `scatter(reduce='max')` can be accelerated via the 'torch-scatter' package, but it was not found\n",
      "  warnings.warn(message)\n"
     ]
    },
    {
     "name": "stdout",
     "output_type": "stream",
     "text": [
      "Epoch: 204 (71.5438s), train_loss: 0.2005, val_loss: 0.2691, train_acc: 0.9261, val_acc:0.8998\n",
      "\t\ttrain_roc: 0.9718, val_roc: 0.9578, train_auprc: 0.9631, val_auprc: 0.9496\n"
     ]
    },
    {
     "name": "stderr",
     "output_type": "stream",
     "text": [
      "/home/namle/.local/lib/python3.10/site-packages/torch_geometric/warnings.py:11: UserWarning: The usage of `scatter(reduce='max')` can be accelerated via the 'torch-scatter' package, but it was not found\n",
      "  warnings.warn(message)\n"
     ]
    },
    {
     "name": "stdout",
     "output_type": "stream",
     "text": [
      "Epoch: 205 (71.0754s), train_loss: 0.2042, val_loss: 0.2718, train_acc: 0.9248, val_acc:0.8985\n",
      "\t\ttrain_roc: 0.9706, val_roc: 0.9569, train_auprc: 0.9616, val_auprc: 0.9481\n"
     ]
    },
    {
     "name": "stderr",
     "output_type": "stream",
     "text": [
      "/home/namle/.local/lib/python3.10/site-packages/torch_geometric/warnings.py:11: UserWarning: The usage of `scatter(reduce='max')` can be accelerated via the 'torch-scatter' package, but it was not found\n",
      "  warnings.warn(message)\n"
     ]
    },
    {
     "name": "stdout",
     "output_type": "stream",
     "text": [
      "Epoch: 206 (70.6982s), train_loss: 0.2012, val_loss: 0.2709, train_acc: 0.9262, val_acc:0.8989\n",
      "\t\ttrain_roc: 0.9716, val_roc: 0.9572, train_auprc: 0.9630, val_auprc: 0.9487\n"
     ]
    },
    {
     "name": "stderr",
     "output_type": "stream",
     "text": [
      "/home/namle/.local/lib/python3.10/site-packages/torch_geometric/warnings.py:11: UserWarning: The usage of `scatter(reduce='max')` can be accelerated via the 'torch-scatter' package, but it was not found\n",
      "  warnings.warn(message)\n"
     ]
    },
    {
     "name": "stdout",
     "output_type": "stream",
     "text": [
      "Epoch: 207 (71.0168s), train_loss: 0.2023, val_loss: 0.2661, train_acc: 0.9256, val_acc:0.9012\n",
      "\t\ttrain_roc: 0.9713, val_roc: 0.9590, train_auprc: 0.9625, val_auprc: 0.9512\n"
     ]
    },
    {
     "name": "stderr",
     "output_type": "stream",
     "text": [
      "/home/namle/.local/lib/python3.10/site-packages/torch_geometric/warnings.py:11: UserWarning: The usage of `scatter(reduce='max')` can be accelerated via the 'torch-scatter' package, but it was not found\n",
      "  warnings.warn(message)\n"
     ]
    },
    {
     "name": "stdout",
     "output_type": "stream",
     "text": [
      "Epoch: 208 (70.2557s), train_loss: 0.2020, val_loss: 0.2671, train_acc: 0.9259, val_acc:0.9004\n",
      "\t\ttrain_roc: 0.9711, val_roc: 0.9584, train_auprc: 0.9624, val_auprc: 0.9508\n"
     ]
    },
    {
     "name": "stderr",
     "output_type": "stream",
     "text": [
      "/home/namle/.local/lib/python3.10/site-packages/torch_geometric/warnings.py:11: UserWarning: The usage of `scatter(reduce='max')` can be accelerated via the 'torch-scatter' package, but it was not found\n",
      "  warnings.warn(message)\n"
     ]
    },
    {
     "name": "stdout",
     "output_type": "stream",
     "text": [
      "Epoch: 209 (70.7948s), train_loss: 0.2020, val_loss: 0.2679, train_acc: 0.9253, val_acc:0.9003\n",
      "\t\ttrain_roc: 0.9714, val_roc: 0.9581, train_auprc: 0.9628, val_auprc: 0.9501\n"
     ]
    },
    {
     "name": "stderr",
     "output_type": "stream",
     "text": [
      "/home/namle/.local/lib/python3.10/site-packages/torch_geometric/warnings.py:11: UserWarning: The usage of `scatter(reduce='max')` can be accelerated via the 'torch-scatter' package, but it was not found\n",
      "  warnings.warn(message)\n"
     ]
    },
    {
     "name": "stdout",
     "output_type": "stream",
     "text": [
      "Epoch: 210 (71.3309s), train_loss: 0.2006, val_loss: 0.2662, train_acc: 0.9267, val_acc:0.9014\n",
      "\t\ttrain_roc: 0.9718, val_roc: 0.9588, train_auprc: 0.9629, val_auprc: 0.9512\n"
     ]
    },
    {
     "name": "stderr",
     "output_type": "stream",
     "text": [
      "/home/namle/.local/lib/python3.10/site-packages/torch_geometric/warnings.py:11: UserWarning: The usage of `scatter(reduce='max')` can be accelerated via the 'torch-scatter' package, but it was not found\n",
      "  warnings.warn(message)\n"
     ]
    },
    {
     "name": "stdout",
     "output_type": "stream",
     "text": [
      "Saving model\n",
      "Epoch: 211 (70.3551s), train_loss: 0.2021, val_loss: 0.2637, train_acc: 0.9253, val_acc:0.9021\n",
      "\t\ttrain_roc: 0.9713, val_roc: 0.9596, train_auprc: 0.9626, val_auprc: 0.9523\n"
     ]
    },
    {
     "name": "stderr",
     "output_type": "stream",
     "text": [
      "/home/namle/.local/lib/python3.10/site-packages/torch_geometric/warnings.py:11: UserWarning: The usage of `scatter(reduce='max')` can be accelerated via the 'torch-scatter' package, but it was not found\n",
      "  warnings.warn(message)\n"
     ]
    },
    {
     "name": "stdout",
     "output_type": "stream",
     "text": [
      "Epoch: 212 (71.1582s), train_loss: 0.2017, val_loss: 0.2687, train_acc: 0.9259, val_acc:0.8998\n",
      "\t\ttrain_roc: 0.9713, val_roc: 0.9578, train_auprc: 0.9626, val_auprc: 0.9497\n"
     ]
    },
    {
     "name": "stderr",
     "output_type": "stream",
     "text": [
      "/home/namle/.local/lib/python3.10/site-packages/torch_geometric/warnings.py:11: UserWarning: The usage of `scatter(reduce='max')` can be accelerated via the 'torch-scatter' package, but it was not found\n",
      "  warnings.warn(message)\n"
     ]
    },
    {
     "name": "stdout",
     "output_type": "stream",
     "text": [
      "Epoch: 213 (69.6784s), train_loss: 0.2008, val_loss: 0.2691, train_acc: 0.9267, val_acc:0.8997\n",
      "\t\ttrain_roc: 0.9715, val_roc: 0.9580, train_auprc: 0.9628, val_auprc: 0.9496\n"
     ]
    },
    {
     "name": "stderr",
     "output_type": "stream",
     "text": [
      "/home/namle/.local/lib/python3.10/site-packages/torch_geometric/warnings.py:11: UserWarning: The usage of `scatter(reduce='max')` can be accelerated via the 'torch-scatter' package, but it was not found\n",
      "  warnings.warn(message)\n"
     ]
    },
    {
     "name": "stdout",
     "output_type": "stream",
     "text": [
      "Epoch: 214 (70.2406s), train_loss: 0.2032, val_loss: 0.2686, train_acc: 0.9256, val_acc:0.8996\n",
      "\t\ttrain_roc: 0.9707, val_roc: 0.9581, train_auprc: 0.9617, val_auprc: 0.9503\n"
     ]
    },
    {
     "name": "stderr",
     "output_type": "stream",
     "text": [
      "/home/namle/.local/lib/python3.10/site-packages/torch_geometric/warnings.py:11: UserWarning: The usage of `scatter(reduce='max')` can be accelerated via the 'torch-scatter' package, but it was not found\n",
      "  warnings.warn(message)\n"
     ]
    },
    {
     "name": "stdout",
     "output_type": "stream",
     "text": [
      "Epoch: 215 (70.9620s), train_loss: 0.2011, val_loss: 0.2679, train_acc: 0.9253, val_acc:0.9004\n",
      "\t\ttrain_roc: 0.9716, val_roc: 0.9582, train_auprc: 0.9633, val_auprc: 0.9499\n"
     ]
    },
    {
     "name": "stderr",
     "output_type": "stream",
     "text": [
      "/home/namle/.local/lib/python3.10/site-packages/torch_geometric/warnings.py:11: UserWarning: The usage of `scatter(reduce='max')` can be accelerated via the 'torch-scatter' package, but it was not found\n",
      "  warnings.warn(message)\n"
     ]
    },
    {
     "name": "stdout",
     "output_type": "stream",
     "text": [
      "Epoch: 216 (70.6961s), train_loss: 0.2016, val_loss: 0.2684, train_acc: 0.9259, val_acc:0.8996\n",
      "\t\ttrain_roc: 0.9716, val_roc: 0.9581, train_auprc: 0.9630, val_auprc: 0.9500\n"
     ]
    },
    {
     "name": "stderr",
     "output_type": "stream",
     "text": [
      "/home/namle/.local/lib/python3.10/site-packages/torch_geometric/warnings.py:11: UserWarning: The usage of `scatter(reduce='max')` can be accelerated via the 'torch-scatter' package, but it was not found\n",
      "  warnings.warn(message)\n"
     ]
    },
    {
     "name": "stdout",
     "output_type": "stream",
     "text": [
      "Epoch: 217 (70.7751s), train_loss: 0.2020, val_loss: 0.2686, train_acc: 0.9257, val_acc:0.9001\n",
      "\t\ttrain_roc: 0.9713, val_roc: 0.9579, train_auprc: 0.9626, val_auprc: 0.9498\n"
     ]
    },
    {
     "name": "stderr",
     "output_type": "stream",
     "text": [
      "/home/namle/.local/lib/python3.10/site-packages/torch_geometric/warnings.py:11: UserWarning: The usage of `scatter(reduce='max')` can be accelerated via the 'torch-scatter' package, but it was not found\n",
      "  warnings.warn(message)\n"
     ]
    },
    {
     "name": "stdout",
     "output_type": "stream",
     "text": [
      "Epoch: 218 (69.8450s), train_loss: 0.2007, val_loss: 0.2671, train_acc: 0.9261, val_acc:0.9000\n",
      "\t\ttrain_roc: 0.9718, val_roc: 0.9586, train_auprc: 0.9633, val_auprc: 0.9507\n"
     ]
    },
    {
     "name": "stderr",
     "output_type": "stream",
     "text": [
      "/home/namle/.local/lib/python3.10/site-packages/torch_geometric/warnings.py:11: UserWarning: The usage of `scatter(reduce='max')` can be accelerated via the 'torch-scatter' package, but it was not found\n",
      "  warnings.warn(message)\n"
     ]
    },
    {
     "name": "stdout",
     "output_type": "stream",
     "text": [
      "Epoch: 219 (70.8726s), train_loss: 0.2011, val_loss: 0.2704, train_acc: 0.9264, val_acc:0.9000\n",
      "\t\ttrain_roc: 0.9715, val_roc: 0.9572, train_auprc: 0.9626, val_auprc: 0.9484\n"
     ]
    },
    {
     "name": "stderr",
     "output_type": "stream",
     "text": [
      "/home/namle/.local/lib/python3.10/site-packages/torch_geometric/warnings.py:11: UserWarning: The usage of `scatter(reduce='max')` can be accelerated via the 'torch-scatter' package, but it was not found\n",
      "  warnings.warn(message)\n"
     ]
    },
    {
     "name": "stdout",
     "output_type": "stream",
     "text": [
      "Epoch: 220 (71.1120s), train_loss: 0.2011, val_loss: 0.2651, train_acc: 0.9258, val_acc:0.9017\n",
      "\t\ttrain_roc: 0.9716, val_roc: 0.9593, train_auprc: 0.9627, val_auprc: 0.9515\n"
     ]
    },
    {
     "name": "stderr",
     "output_type": "stream",
     "text": [
      "/home/namle/.local/lib/python3.10/site-packages/torch_geometric/warnings.py:11: UserWarning: The usage of `scatter(reduce='max')` can be accelerated via the 'torch-scatter' package, but it was not found\n",
      "  warnings.warn(message)\n"
     ]
    },
    {
     "name": "stdout",
     "output_type": "stream",
     "text": [
      "Epoch: 221 (71.5096s), train_loss: 0.2027, val_loss: 0.2696, train_acc: 0.9253, val_acc:0.9001\n",
      "\t\ttrain_roc: 0.9711, val_roc: 0.9577, train_auprc: 0.9625, val_auprc: 0.9490\n"
     ]
    },
    {
     "name": "stderr",
     "output_type": "stream",
     "text": [
      "/home/namle/.local/lib/python3.10/site-packages/torch_geometric/warnings.py:11: UserWarning: The usage of `scatter(reduce='max')` can be accelerated via the 'torch-scatter' package, but it was not found\n",
      "  warnings.warn(message)\n"
     ]
    },
    {
     "name": "stdout",
     "output_type": "stream",
     "text": [
      "Epoch: 222 (70.3410s), train_loss: 0.2016, val_loss: 0.2652, train_acc: 0.9258, val_acc:0.9006\n",
      "\t\ttrain_roc: 0.9713, val_roc: 0.9593, train_auprc: 0.9626, val_auprc: 0.9519\n"
     ]
    },
    {
     "name": "stderr",
     "output_type": "stream",
     "text": [
      "/home/namle/.local/lib/python3.10/site-packages/torch_geometric/warnings.py:11: UserWarning: The usage of `scatter(reduce='max')` can be accelerated via the 'torch-scatter' package, but it was not found\n",
      "  warnings.warn(message)\n"
     ]
    },
    {
     "name": "stdout",
     "output_type": "stream",
     "text": [
      "Epoch: 223 (70.2139s), train_loss: 0.2022, val_loss: 0.2657, train_acc: 0.9250, val_acc:0.9011\n",
      "\t\ttrain_roc: 0.9712, val_roc: 0.9590, train_auprc: 0.9625, val_auprc: 0.9517\n"
     ]
    },
    {
     "name": "stderr",
     "output_type": "stream",
     "text": [
      "/home/namle/.local/lib/python3.10/site-packages/torch_geometric/warnings.py:11: UserWarning: The usage of `scatter(reduce='max')` can be accelerated via the 'torch-scatter' package, but it was not found\n",
      "  warnings.warn(message)\n"
     ]
    },
    {
     "name": "stdout",
     "output_type": "stream",
     "text": [
      "Epoch: 224 (70.3779s), train_loss: 0.1994, val_loss: 0.2681, train_acc: 0.9264, val_acc:0.8996\n",
      "\t\ttrain_roc: 0.9722, val_roc: 0.9581, train_auprc: 0.9641, val_auprc: 0.9507\n"
     ]
    },
    {
     "name": "stderr",
     "output_type": "stream",
     "text": [
      "/home/namle/.local/lib/python3.10/site-packages/torch_geometric/warnings.py:11: UserWarning: The usage of `scatter(reduce='max')` can be accelerated via the 'torch-scatter' package, but it was not found\n",
      "  warnings.warn(message)\n"
     ]
    },
    {
     "name": "stdout",
     "output_type": "stream",
     "text": [
      "Epoch: 225 (70.5281s), train_loss: 0.2014, val_loss: 0.2700, train_acc: 0.9259, val_acc:0.8990\n",
      "\t\ttrain_roc: 0.9715, val_roc: 0.9576, train_auprc: 0.9628, val_auprc: 0.9494\n"
     ]
    },
    {
     "name": "stderr",
     "output_type": "stream",
     "text": [
      "/home/namle/.local/lib/python3.10/site-packages/torch_geometric/warnings.py:11: UserWarning: The usage of `scatter(reduce='max')` can be accelerated via the 'torch-scatter' package, but it was not found\n",
      "  warnings.warn(message)\n"
     ]
    },
    {
     "name": "stdout",
     "output_type": "stream",
     "text": [
      "Epoch: 226 (71.2833s), train_loss: 0.2025, val_loss: 0.2667, train_acc: 0.9254, val_acc:0.9005\n",
      "\t\ttrain_roc: 0.9711, val_roc: 0.9586, train_auprc: 0.9622, val_auprc: 0.9510\n"
     ]
    },
    {
     "name": "stderr",
     "output_type": "stream",
     "text": [
      "/home/namle/.local/lib/python3.10/site-packages/torch_geometric/warnings.py:11: UserWarning: The usage of `scatter(reduce='max')` can be accelerated via the 'torch-scatter' package, but it was not found\n",
      "  warnings.warn(message)\n"
     ]
    },
    {
     "name": "stdout",
     "output_type": "stream",
     "text": [
      "Epoch: 227 (70.5543s), train_loss: 0.1996, val_loss: 0.2708, train_acc: 0.9269, val_acc:0.8981\n",
      "\t\ttrain_roc: 0.9721, val_roc: 0.9572, train_auprc: 0.9635, val_auprc: 0.9490\n"
     ]
    },
    {
     "name": "stderr",
     "output_type": "stream",
     "text": [
      "/home/namle/.local/lib/python3.10/site-packages/torch_geometric/warnings.py:11: UserWarning: The usage of `scatter(reduce='max')` can be accelerated via the 'torch-scatter' package, but it was not found\n",
      "  warnings.warn(message)\n"
     ]
    },
    {
     "name": "stdout",
     "output_type": "stream",
     "text": [
      "Epoch: 228 (70.5796s), train_loss: 0.2003, val_loss: 0.2691, train_acc: 0.9270, val_acc:0.9007\n",
      "\t\ttrain_roc: 0.9717, val_roc: 0.9577, train_auprc: 0.9630, val_auprc: 0.9489\n"
     ]
    },
    {
     "name": "stderr",
     "output_type": "stream",
     "text": [
      "/home/namle/.local/lib/python3.10/site-packages/torch_geometric/warnings.py:11: UserWarning: The usage of `scatter(reduce='max')` can be accelerated via the 'torch-scatter' package, but it was not found\n",
      "  warnings.warn(message)\n"
     ]
    },
    {
     "name": "stdout",
     "output_type": "stream",
     "text": [
      "Epoch: 229 (71.0876s), train_loss: 0.2015, val_loss: 0.2701, train_acc: 0.9258, val_acc:0.8992\n",
      "\t\ttrain_roc: 0.9715, val_roc: 0.9576, train_auprc: 0.9630, val_auprc: 0.9496\n"
     ]
    },
    {
     "name": "stderr",
     "output_type": "stream",
     "text": [
      "/home/namle/.local/lib/python3.10/site-packages/torch_geometric/warnings.py:11: UserWarning: The usage of `scatter(reduce='max')` can be accelerated via the 'torch-scatter' package, but it was not found\n",
      "  warnings.warn(message)\n"
     ]
    },
    {
     "name": "stdout",
     "output_type": "stream",
     "text": [
      "Epoch: 230 (70.8070s), train_loss: 0.2012, val_loss: 0.2662, train_acc: 0.9260, val_acc:0.9014\n",
      "\t\ttrain_roc: 0.9716, val_roc: 0.9585, train_auprc: 0.9630, val_auprc: 0.9508\n"
     ]
    },
    {
     "name": "stderr",
     "output_type": "stream",
     "text": [
      "/home/namle/.local/lib/python3.10/site-packages/torch_geometric/warnings.py:11: UserWarning: The usage of `scatter(reduce='max')` can be accelerated via the 'torch-scatter' package, but it was not found\n",
      "  warnings.warn(message)\n"
     ]
    },
    {
     "name": "stdout",
     "output_type": "stream",
     "text": [
      "Epoch: 231 (70.5331s), train_loss: 0.2017, val_loss: 0.2685, train_acc: 0.9262, val_acc:0.9002\n",
      "\t\ttrain_roc: 0.9713, val_roc: 0.9579, train_auprc: 0.9624, val_auprc: 0.9499\n"
     ]
    },
    {
     "name": "stderr",
     "output_type": "stream",
     "text": [
      "/home/namle/.local/lib/python3.10/site-packages/torch_geometric/warnings.py:11: UserWarning: The usage of `scatter(reduce='max')` can be accelerated via the 'torch-scatter' package, but it was not found\n",
      "  warnings.warn(message)\n"
     ]
    },
    {
     "name": "stdout",
     "output_type": "stream",
     "text": [
      "Epoch: 232 (70.3015s), train_loss: 0.2020, val_loss: 0.2663, train_acc: 0.9256, val_acc:0.9006\n",
      "\t\ttrain_roc: 0.9713, val_roc: 0.9588, train_auprc: 0.9624, val_auprc: 0.9512\n"
     ]
    },
    {
     "name": "stderr",
     "output_type": "stream",
     "text": [
      "/home/namle/.local/lib/python3.10/site-packages/torch_geometric/warnings.py:11: UserWarning: The usage of `scatter(reduce='max')` can be accelerated via the 'torch-scatter' package, but it was not found\n",
      "  warnings.warn(message)\n"
     ]
    },
    {
     "name": "stdout",
     "output_type": "stream",
     "text": [
      "Epoch: 233 (70.1981s), train_loss: 0.2015, val_loss: 0.2692, train_acc: 0.9260, val_acc:0.8997\n",
      "\t\ttrain_roc: 0.9714, val_roc: 0.9578, train_auprc: 0.9626, val_auprc: 0.9492\n"
     ]
    },
    {
     "name": "stderr",
     "output_type": "stream",
     "text": [
      "/home/namle/.local/lib/python3.10/site-packages/torch_geometric/warnings.py:11: UserWarning: The usage of `scatter(reduce='max')` can be accelerated via the 'torch-scatter' package, but it was not found\n",
      "  warnings.warn(message)\n"
     ]
    },
    {
     "name": "stdout",
     "output_type": "stream",
     "text": [
      "Epoch: 234 (70.3046s), train_loss: 0.2010, val_loss: 0.2681, train_acc: 0.9258, val_acc:0.9002\n",
      "\t\ttrain_roc: 0.9716, val_roc: 0.9581, train_auprc: 0.9631, val_auprc: 0.9503\n"
     ]
    },
    {
     "name": "stderr",
     "output_type": "stream",
     "text": [
      "/home/namle/.local/lib/python3.10/site-packages/torch_geometric/warnings.py:11: UserWarning: The usage of `scatter(reduce='max')` can be accelerated via the 'torch-scatter' package, but it was not found\n",
      "  warnings.warn(message)\n"
     ]
    },
    {
     "name": "stdout",
     "output_type": "stream",
     "text": [
      "Epoch: 235 (70.2782s), train_loss: 0.1997, val_loss: 0.2699, train_acc: 0.9264, val_acc:0.8995\n",
      "\t\ttrain_roc: 0.9719, val_roc: 0.9575, train_auprc: 0.9634, val_auprc: 0.9494\n"
     ]
    },
    {
     "name": "stderr",
     "output_type": "stream",
     "text": [
      "/home/namle/.local/lib/python3.10/site-packages/torch_geometric/warnings.py:11: UserWarning: The usage of `scatter(reduce='max')` can be accelerated via the 'torch-scatter' package, but it was not found\n",
      "  warnings.warn(message)\n"
     ]
    },
    {
     "name": "stdout",
     "output_type": "stream",
     "text": [
      "Epoch: 236 (70.3373s), train_loss: 0.2015, val_loss: 0.2663, train_acc: 0.9257, val_acc:0.9008\n",
      "\t\ttrain_roc: 0.9715, val_roc: 0.9586, train_auprc: 0.9631, val_auprc: 0.9508\n"
     ]
    },
    {
     "name": "stderr",
     "output_type": "stream",
     "text": [
      "/home/namle/.local/lib/python3.10/site-packages/torch_geometric/warnings.py:11: UserWarning: The usage of `scatter(reduce='max')` can be accelerated via the 'torch-scatter' package, but it was not found\n",
      "  warnings.warn(message)\n"
     ]
    },
    {
     "name": "stdout",
     "output_type": "stream",
     "text": [
      "Epoch: 237 (70.0236s), train_loss: 0.2030, val_loss: 0.2667, train_acc: 0.9253, val_acc:0.9004\n",
      "\t\ttrain_roc: 0.9710, val_roc: 0.9586, train_auprc: 0.9621, val_auprc: 0.9511\n"
     ]
    },
    {
     "name": "stderr",
     "output_type": "stream",
     "text": [
      "/home/namle/.local/lib/python3.10/site-packages/torch_geometric/warnings.py:11: UserWarning: The usage of `scatter(reduce='max')` can be accelerated via the 'torch-scatter' package, but it was not found\n",
      "  warnings.warn(message)\n"
     ]
    },
    {
     "name": "stdout",
     "output_type": "stream",
     "text": [
      "Epoch: 238 (70.8136s), train_loss: 0.2014, val_loss: 0.2667, train_acc: 0.9262, val_acc:0.9003\n",
      "\t\ttrain_roc: 0.9714, val_roc: 0.9586, train_auprc: 0.9629, val_auprc: 0.9509\n"
     ]
    },
    {
     "name": "stderr",
     "output_type": "stream",
     "text": [
      "/home/namle/.local/lib/python3.10/site-packages/torch_geometric/warnings.py:11: UserWarning: The usage of `scatter(reduce='max')` can be accelerated via the 'torch-scatter' package, but it was not found\n",
      "  warnings.warn(message)\n"
     ]
    },
    {
     "name": "stdout",
     "output_type": "stream",
     "text": [
      "Epoch: 239 (70.6369s), train_loss: 0.2016, val_loss: 0.2696, train_acc: 0.9258, val_acc:0.8997\n",
      "\t\ttrain_roc: 0.9716, val_roc: 0.9576, train_auprc: 0.9631, val_auprc: 0.9495\n"
     ]
    },
    {
     "name": "stderr",
     "output_type": "stream",
     "text": [
      "/home/namle/.local/lib/python3.10/site-packages/torch_geometric/warnings.py:11: UserWarning: The usage of `scatter(reduce='max')` can be accelerated via the 'torch-scatter' package, but it was not found\n",
      "  warnings.warn(message)\n"
     ]
    },
    {
     "name": "stdout",
     "output_type": "stream",
     "text": [
      "Epoch: 240 (70.8549s), train_loss: 0.2001, val_loss: 0.2692, train_acc: 0.9263, val_acc:0.9004\n",
      "\t\ttrain_roc: 0.9720, val_roc: 0.9578, train_auprc: 0.9635, val_auprc: 0.9492\n"
     ]
    },
    {
     "name": "stderr",
     "output_type": "stream",
     "text": [
      "/home/namle/.local/lib/python3.10/site-packages/torch_geometric/warnings.py:11: UserWarning: The usage of `scatter(reduce='max')` can be accelerated via the 'torch-scatter' package, but it was not found\n",
      "  warnings.warn(message)\n"
     ]
    },
    {
     "name": "stdout",
     "output_type": "stream",
     "text": [
      "Epoch: 241 (70.2047s), train_loss: 0.2018, val_loss: 0.2690, train_acc: 0.9256, val_acc:0.8992\n",
      "\t\ttrain_roc: 0.9713, val_roc: 0.9578, train_auprc: 0.9625, val_auprc: 0.9494\n"
     ]
    },
    {
     "name": "stderr",
     "output_type": "stream",
     "text": [
      "/home/namle/.local/lib/python3.10/site-packages/torch_geometric/warnings.py:11: UserWarning: The usage of `scatter(reduce='max')` can be accelerated via the 'torch-scatter' package, but it was not found\n",
      "  warnings.warn(message)\n"
     ]
    },
    {
     "name": "stdout",
     "output_type": "stream",
     "text": [
      "Epoch: 242 (70.1072s), train_loss: 0.1998, val_loss: 0.2667, train_acc: 0.9263, val_acc:0.9017\n",
      "\t\ttrain_roc: 0.9720, val_roc: 0.9586, train_auprc: 0.9638, val_auprc: 0.9505\n"
     ]
    },
    {
     "name": "stderr",
     "output_type": "stream",
     "text": [
      "/home/namle/.local/lib/python3.10/site-packages/torch_geometric/warnings.py:11: UserWarning: The usage of `scatter(reduce='max')` can be accelerated via the 'torch-scatter' package, but it was not found\n",
      "  warnings.warn(message)\n"
     ]
    },
    {
     "name": "stdout",
     "output_type": "stream",
     "text": [
      "Epoch: 243 (70.5127s), train_loss: 0.2012, val_loss: 0.2664, train_acc: 0.9259, val_acc:0.9004\n",
      "\t\ttrain_roc: 0.9715, val_roc: 0.9585, train_auprc: 0.9627, val_auprc: 0.9512\n"
     ]
    },
    {
     "name": "stderr",
     "output_type": "stream",
     "text": [
      "/home/namle/.local/lib/python3.10/site-packages/torch_geometric/warnings.py:11: UserWarning: The usage of `scatter(reduce='max')` can be accelerated via the 'torch-scatter' package, but it was not found\n",
      "  warnings.warn(message)\n"
     ]
    },
    {
     "name": "stdout",
     "output_type": "stream",
     "text": [
      "Epoch: 244 (70.4306s), train_loss: 0.2025, val_loss: 0.2703, train_acc: 0.9256, val_acc:0.8998\n",
      "\t\ttrain_roc: 0.9711, val_roc: 0.9573, train_auprc: 0.9621, val_auprc: 0.9486\n"
     ]
    },
    {
     "name": "stderr",
     "output_type": "stream",
     "text": [
      "/home/namle/.local/lib/python3.10/site-packages/torch_geometric/warnings.py:11: UserWarning: The usage of `scatter(reduce='max')` can be accelerated via the 'torch-scatter' package, but it was not found\n",
      "  warnings.warn(message)\n"
     ]
    },
    {
     "name": "stdout",
     "output_type": "stream",
     "text": [
      "Epoch: 245 (70.1391s), train_loss: 0.2025, val_loss: 0.2684, train_acc: 0.9254, val_acc:0.9010\n",
      "\t\ttrain_roc: 0.9710, val_roc: 0.9580, train_auprc: 0.9621, val_auprc: 0.9497\n"
     ]
    },
    {
     "name": "stderr",
     "output_type": "stream",
     "text": [
      "/home/namle/.local/lib/python3.10/site-packages/torch_geometric/warnings.py:11: UserWarning: The usage of `scatter(reduce='max')` can be accelerated via the 'torch-scatter' package, but it was not found\n",
      "  warnings.warn(message)\n"
     ]
    },
    {
     "name": "stdout",
     "output_type": "stream",
     "text": [
      "Epoch: 246 (70.4964s), train_loss: 0.2013, val_loss: 0.2675, train_acc: 0.9261, val_acc:0.9003\n",
      "\t\ttrain_roc: 0.9715, val_roc: 0.9582, train_auprc: 0.9627, val_auprc: 0.9503\n"
     ]
    },
    {
     "name": "stderr",
     "output_type": "stream",
     "text": [
      "/home/namle/.local/lib/python3.10/site-packages/torch_geometric/warnings.py:11: UserWarning: The usage of `scatter(reduce='max')` can be accelerated via the 'torch-scatter' package, but it was not found\n",
      "  warnings.warn(message)\n"
     ]
    },
    {
     "name": "stdout",
     "output_type": "stream",
     "text": [
      "Epoch: 247 (70.2720s), train_loss: 0.2015, val_loss: 0.2698, train_acc: 0.9260, val_acc:0.8993\n",
      "\t\ttrain_roc: 0.9715, val_roc: 0.9575, train_auprc: 0.9626, val_auprc: 0.9492\n"
     ]
    },
    {
     "name": "stderr",
     "output_type": "stream",
     "text": [
      "/home/namle/.local/lib/python3.10/site-packages/torch_geometric/warnings.py:11: UserWarning: The usage of `scatter(reduce='max')` can be accelerated via the 'torch-scatter' package, but it was not found\n",
      "  warnings.warn(message)\n"
     ]
    },
    {
     "name": "stdout",
     "output_type": "stream",
     "text": [
      "Epoch: 248 (70.8394s), train_loss: 0.2008, val_loss: 0.2670, train_acc: 0.9263, val_acc:0.8999\n",
      "\t\ttrain_roc: 0.9718, val_roc: 0.9585, train_auprc: 0.9629, val_auprc: 0.9509\n"
     ]
    },
    {
     "name": "stderr",
     "output_type": "stream",
     "text": [
      "/home/namle/.local/lib/python3.10/site-packages/torch_geometric/warnings.py:11: UserWarning: The usage of `scatter(reduce='max')` can be accelerated via the 'torch-scatter' package, but it was not found\n",
      "  warnings.warn(message)\n"
     ]
    },
    {
     "name": "stdout",
     "output_type": "stream",
     "text": [
      "Epoch: 249 (70.7066s), train_loss: 0.2016, val_loss: 0.2671, train_acc: 0.9256, val_acc:0.9002\n",
      "\t\ttrain_roc: 0.9715, val_roc: 0.9586, train_auprc: 0.9629, val_auprc: 0.9509\n"
     ]
    },
    {
     "name": "stderr",
     "output_type": "stream",
     "text": [
      "/home/namle/.local/lib/python3.10/site-packages/torch_geometric/warnings.py:11: UserWarning: The usage of `scatter(reduce='max')` can be accelerated via the 'torch-scatter' package, but it was not found\n",
      "  warnings.warn(message)\n"
     ]
    },
    {
     "name": "stdout",
     "output_type": "stream",
     "text": [
      "Epoch: 250 (70.7347s), train_loss: 0.2001, val_loss: 0.2668, train_acc: 0.9264, val_acc:0.9009\n",
      "\t\ttrain_roc: 0.9719, val_roc: 0.9586, train_auprc: 0.9634, val_auprc: 0.9505\n"
     ]
    },
    {
     "name": "stderr",
     "output_type": "stream",
     "text": [
      "/home/namle/.local/lib/python3.10/site-packages/torch_geometric/warnings.py:11: UserWarning: The usage of `scatter(reduce='max')` can be accelerated via the 'torch-scatter' package, but it was not found\n",
      "  warnings.warn(message)\n"
     ]
    },
    {
     "name": "stdout",
     "output_type": "stream",
     "text": [
      "Epoch: 251 (70.8686s), train_loss: 0.2011, val_loss: 0.2638, train_acc: 0.9264, val_acc:0.9023\n",
      "\t\ttrain_roc: 0.9715, val_roc: 0.9597, train_auprc: 0.9627, val_auprc: 0.9521\n"
     ]
    },
    {
     "name": "stderr",
     "output_type": "stream",
     "text": [
      "/home/namle/.local/lib/python3.10/site-packages/torch_geometric/warnings.py:11: UserWarning: The usage of `scatter(reduce='max')` can be accelerated via the 'torch-scatter' package, but it was not found\n",
      "  warnings.warn(message)\n"
     ]
    },
    {
     "name": "stdout",
     "output_type": "stream",
     "text": [
      "Epoch: 252 (71.2778s), train_loss: 0.2018, val_loss: 0.2689, train_acc: 0.9256, val_acc:0.9001\n",
      "\t\ttrain_roc: 0.9714, val_roc: 0.9579, train_auprc: 0.9627, val_auprc: 0.9493\n"
     ]
    },
    {
     "name": "stderr",
     "output_type": "stream",
     "text": [
      "/home/namle/.local/lib/python3.10/site-packages/torch_geometric/warnings.py:11: UserWarning: The usage of `scatter(reduce='max')` can be accelerated via the 'torch-scatter' package, but it was not found\n",
      "  warnings.warn(message)\n"
     ]
    },
    {
     "name": "stdout",
     "output_type": "stream",
     "text": [
      "Epoch: 253 (71.1626s), train_loss: 0.2010, val_loss: 0.2696, train_acc: 0.9262, val_acc:0.8998\n",
      "\t\ttrain_roc: 0.9715, val_roc: 0.9575, train_auprc: 0.9626, val_auprc: 0.9492\n"
     ]
    },
    {
     "name": "stderr",
     "output_type": "stream",
     "text": [
      "/home/namle/.local/lib/python3.10/site-packages/torch_geometric/warnings.py:11: UserWarning: The usage of `scatter(reduce='max')` can be accelerated via the 'torch-scatter' package, but it was not found\n",
      "  warnings.warn(message)\n"
     ]
    },
    {
     "name": "stdout",
     "output_type": "stream",
     "text": [
      "Epoch: 254 (70.6477s), train_loss: 0.2024, val_loss: 0.2669, train_acc: 0.9253, val_acc:0.9002\n",
      "\t\ttrain_roc: 0.9711, val_roc: 0.9586, train_auprc: 0.9625, val_auprc: 0.9510\n"
     ]
    },
    {
     "name": "stderr",
     "output_type": "stream",
     "text": [
      "/home/namle/.local/lib/python3.10/site-packages/torch_geometric/warnings.py:11: UserWarning: The usage of `scatter(reduce='max')` can be accelerated via the 'torch-scatter' package, but it was not found\n",
      "  warnings.warn(message)\n"
     ]
    },
    {
     "name": "stdout",
     "output_type": "stream",
     "text": [
      "Epoch: 255 (70.5830s), train_loss: 0.2002, val_loss: 0.2699, train_acc: 0.9265, val_acc:0.8989\n",
      "\t\ttrain_roc: 0.9720, val_roc: 0.9576, train_auprc: 0.9635, val_auprc: 0.9493\n"
     ]
    },
    {
     "name": "stderr",
     "output_type": "stream",
     "text": [
      "/home/namle/.local/lib/python3.10/site-packages/torch_geometric/warnings.py:11: UserWarning: The usage of `scatter(reduce='max')` can be accelerated via the 'torch-scatter' package, but it was not found\n",
      "  warnings.warn(message)\n"
     ]
    },
    {
     "name": "stdout",
     "output_type": "stream",
     "text": [
      "Epoch: 256 (70.4442s), train_loss: 0.2013, val_loss: 0.2686, train_acc: 0.9259, val_acc:0.8999\n",
      "\t\ttrain_roc: 0.9714, val_roc: 0.9578, train_auprc: 0.9628, val_auprc: 0.9498\n"
     ]
    },
    {
     "name": "stderr",
     "output_type": "stream",
     "text": [
      "/home/namle/.local/lib/python3.10/site-packages/torch_geometric/warnings.py:11: UserWarning: The usage of `scatter(reduce='max')` can be accelerated via the 'torch-scatter' package, but it was not found\n",
      "  warnings.warn(message)\n"
     ]
    },
    {
     "name": "stdout",
     "output_type": "stream",
     "text": [
      "Epoch: 257 (70.3705s), train_loss: 0.2019, val_loss: 0.2682, train_acc: 0.9256, val_acc:0.9011\n",
      "\t\ttrain_roc: 0.9713, val_roc: 0.9580, train_auprc: 0.9627, val_auprc: 0.9496\n"
     ]
    },
    {
     "name": "stderr",
     "output_type": "stream",
     "text": [
      "/home/namle/.local/lib/python3.10/site-packages/torch_geometric/warnings.py:11: UserWarning: The usage of `scatter(reduce='max')` can be accelerated via the 'torch-scatter' package, but it was not found\n",
      "  warnings.warn(message)\n"
     ]
    },
    {
     "name": "stdout",
     "output_type": "stream",
     "text": [
      "Epoch: 258 (70.0741s), train_loss: 0.2023, val_loss: 0.2679, train_acc: 0.9255, val_acc:0.9008\n",
      "\t\ttrain_roc: 0.9712, val_roc: 0.9583, train_auprc: 0.9624, val_auprc: 0.9497\n"
     ]
    },
    {
     "name": "stderr",
     "output_type": "stream",
     "text": [
      "/home/namle/.local/lib/python3.10/site-packages/torch_geometric/warnings.py:11: UserWarning: The usage of `scatter(reduce='max')` can be accelerated via the 'torch-scatter' package, but it was not found\n",
      "  warnings.warn(message)\n"
     ]
    },
    {
     "name": "stdout",
     "output_type": "stream",
     "text": [
      "Epoch: 259 (70.1963s), train_loss: 0.2005, val_loss: 0.2682, train_acc: 0.9260, val_acc:0.9007\n",
      "\t\ttrain_roc: 0.9718, val_roc: 0.9582, train_auprc: 0.9633, val_auprc: 0.9496\n"
     ]
    },
    {
     "name": "stderr",
     "output_type": "stream",
     "text": [
      "/home/namle/.local/lib/python3.10/site-packages/torch_geometric/warnings.py:11: UserWarning: The usage of `scatter(reduce='max')` can be accelerated via the 'torch-scatter' package, but it was not found\n",
      "  warnings.warn(message)\n"
     ]
    },
    {
     "name": "stdout",
     "output_type": "stream",
     "text": [
      "Epoch: 260 (70.5179s), train_loss: 0.2014, val_loss: 0.2704, train_acc: 0.9262, val_acc:0.8993\n",
      "\t\ttrain_roc: 0.9714, val_roc: 0.9573, train_auprc: 0.9627, val_auprc: 0.9486\n"
     ]
    },
    {
     "name": "stderr",
     "output_type": "stream",
     "text": [
      "/home/namle/.local/lib/python3.10/site-packages/torch_geometric/warnings.py:11: UserWarning: The usage of `scatter(reduce='max')` can be accelerated via the 'torch-scatter' package, but it was not found\n",
      "  warnings.warn(message)\n"
     ]
    },
    {
     "name": "stdout",
     "output_type": "stream",
     "text": [
      "Epoch: 261 (70.5673s), train_loss: 0.2005, val_loss: 0.2659, train_acc: 0.9258, val_acc:0.9006\n",
      "\t\ttrain_roc: 0.9718, val_roc: 0.9590, train_auprc: 0.9636, val_auprc: 0.9513\n"
     ]
    },
    {
     "name": "stderr",
     "output_type": "stream",
     "text": [
      "/home/namle/.local/lib/python3.10/site-packages/torch_geometric/warnings.py:11: UserWarning: The usage of `scatter(reduce='max')` can be accelerated via the 'torch-scatter' package, but it was not found\n",
      "  warnings.warn(message)\n"
     ]
    },
    {
     "name": "stdout",
     "output_type": "stream",
     "text": [
      "Epoch: 262 (70.6034s), train_loss: 0.2005, val_loss: 0.2677, train_acc: 0.9261, val_acc:0.9005\n",
      "\t\ttrain_roc: 0.9718, val_roc: 0.9582, train_auprc: 0.9634, val_auprc: 0.9498\n"
     ]
    },
    {
     "name": "stderr",
     "output_type": "stream",
     "text": [
      "/home/namle/.local/lib/python3.10/site-packages/torch_geometric/warnings.py:11: UserWarning: The usage of `scatter(reduce='max')` can be accelerated via the 'torch-scatter' package, but it was not found\n",
      "  warnings.warn(message)\n"
     ]
    },
    {
     "name": "stdout",
     "output_type": "stream",
     "text": [
      "Epoch: 263 (70.1315s), train_loss: 0.2006, val_loss: 0.2696, train_acc: 0.9265, val_acc:0.9002\n",
      "\t\ttrain_roc: 0.9719, val_roc: 0.9576, train_auprc: 0.9631, val_auprc: 0.9489\n"
     ]
    },
    {
     "name": "stderr",
     "output_type": "stream",
     "text": [
      "/home/namle/.local/lib/python3.10/site-packages/torch_geometric/warnings.py:11: UserWarning: The usage of `scatter(reduce='max')` can be accelerated via the 'torch-scatter' package, but it was not found\n",
      "  warnings.warn(message)\n"
     ]
    },
    {
     "name": "stdout",
     "output_type": "stream",
     "text": [
      "Epoch: 264 (71.0580s), train_loss: 0.2010, val_loss: 0.2677, train_acc: 0.9265, val_acc:0.8997\n",
      "\t\ttrain_roc: 0.9715, val_roc: 0.9583, train_auprc: 0.9627, val_auprc: 0.9508\n"
     ]
    },
    {
     "name": "stderr",
     "output_type": "stream",
     "text": [
      "/home/namle/.local/lib/python3.10/site-packages/torch_geometric/warnings.py:11: UserWarning: The usage of `scatter(reduce='max')` can be accelerated via the 'torch-scatter' package, but it was not found\n",
      "  warnings.warn(message)\n"
     ]
    },
    {
     "name": "stdout",
     "output_type": "stream",
     "text": [
      "Epoch: 265 (70.4028s), train_loss: 0.2024, val_loss: 0.2661, train_acc: 0.9253, val_acc:0.9004\n",
      "\t\ttrain_roc: 0.9712, val_roc: 0.9589, train_auprc: 0.9626, val_auprc: 0.9516\n"
     ]
    },
    {
     "name": "stderr",
     "output_type": "stream",
     "text": [
      "/home/namle/.local/lib/python3.10/site-packages/torch_geometric/warnings.py:11: UserWarning: The usage of `scatter(reduce='max')` can be accelerated via the 'torch-scatter' package, but it was not found\n",
      "  warnings.warn(message)\n"
     ]
    },
    {
     "name": "stdout",
     "output_type": "stream",
     "text": [
      "Epoch: 266 (70.4133s), train_loss: 0.2031, val_loss: 0.2697, train_acc: 0.9252, val_acc:0.8989\n",
      "\t\ttrain_roc: 0.9709, val_roc: 0.9576, train_auprc: 0.9617, val_auprc: 0.9492\n"
     ]
    },
    {
     "name": "stderr",
     "output_type": "stream",
     "text": [
      "/home/namle/.local/lib/python3.10/site-packages/torch_geometric/warnings.py:11: UserWarning: The usage of `scatter(reduce='max')` can be accelerated via the 'torch-scatter' package, but it was not found\n",
      "  warnings.warn(message)\n"
     ]
    },
    {
     "name": "stdout",
     "output_type": "stream",
     "text": [
      "Epoch: 267 (71.7521s), train_loss: 0.2004, val_loss: 0.2698, train_acc: 0.9263, val_acc:0.8990\n",
      "\t\ttrain_roc: 0.9719, val_roc: 0.9575, train_auprc: 0.9635, val_auprc: 0.9493\n"
     ]
    },
    {
     "name": "stderr",
     "output_type": "stream",
     "text": [
      "/home/namle/.local/lib/python3.10/site-packages/torch_geometric/warnings.py:11: UserWarning: The usage of `scatter(reduce='max')` can be accelerated via the 'torch-scatter' package, but it was not found\n",
      "  warnings.warn(message)\n"
     ]
    },
    {
     "name": "stdout",
     "output_type": "stream",
     "text": [
      "Epoch: 268 (70.3290s), train_loss: 0.1994, val_loss: 0.2706, train_acc: 0.9264, val_acc:0.8989\n",
      "\t\ttrain_roc: 0.9722, val_roc: 0.9572, train_auprc: 0.9640, val_auprc: 0.9488\n"
     ]
    },
    {
     "name": "stderr",
     "output_type": "stream",
     "text": [
      "/home/namle/.local/lib/python3.10/site-packages/torch_geometric/warnings.py:11: UserWarning: The usage of `scatter(reduce='max')` can be accelerated via the 'torch-scatter' package, but it was not found\n",
      "  warnings.warn(message)\n"
     ]
    },
    {
     "name": "stdout",
     "output_type": "stream",
     "text": [
      "Epoch: 269 (69.9845s), train_loss: 0.2012, val_loss: 0.2714, train_acc: 0.9257, val_acc:0.8991\n",
      "\t\ttrain_roc: 0.9715, val_roc: 0.9569, train_auprc: 0.9633, val_auprc: 0.9480\n"
     ]
    },
    {
     "name": "stderr",
     "output_type": "stream",
     "text": [
      "/home/namle/.local/lib/python3.10/site-packages/torch_geometric/warnings.py:11: UserWarning: The usage of `scatter(reduce='max')` can be accelerated via the 'torch-scatter' package, but it was not found\n",
      "  warnings.warn(message)\n"
     ]
    },
    {
     "name": "stdout",
     "output_type": "stream",
     "text": [
      "Epoch: 270 (70.8235s), train_loss: 0.2019, val_loss: 0.2688, train_acc: 0.9258, val_acc:0.9008\n",
      "\t\ttrain_roc: 0.9712, val_roc: 0.9581, train_auprc: 0.9626, val_auprc: 0.9489\n"
     ]
    },
    {
     "name": "stderr",
     "output_type": "stream",
     "text": [
      "/home/namle/.local/lib/python3.10/site-packages/torch_geometric/warnings.py:11: UserWarning: The usage of `scatter(reduce='max')` can be accelerated via the 'torch-scatter' package, but it was not found\n",
      "  warnings.warn(message)\n"
     ]
    },
    {
     "name": "stdout",
     "output_type": "stream",
     "text": [
      "Epoch: 271 (70.4600s), train_loss: 0.1999, val_loss: 0.2677, train_acc: 0.9266, val_acc:0.9009\n",
      "\t\ttrain_roc: 0.9720, val_roc: 0.9583, train_auprc: 0.9635, val_auprc: 0.9502\n"
     ]
    },
    {
     "name": "stderr",
     "output_type": "stream",
     "text": [
      "/home/namle/.local/lib/python3.10/site-packages/torch_geometric/warnings.py:11: UserWarning: The usage of `scatter(reduce='max')` can be accelerated via the 'torch-scatter' package, but it was not found\n",
      "  warnings.warn(message)\n"
     ]
    },
    {
     "name": "stdout",
     "output_type": "stream",
     "text": [
      "Epoch: 272 (70.8173s), train_loss: 0.2019, val_loss: 0.2699, train_acc: 0.9256, val_acc:0.8992\n",
      "\t\ttrain_roc: 0.9714, val_roc: 0.9575, train_auprc: 0.9629, val_auprc: 0.9491\n"
     ]
    },
    {
     "name": "stderr",
     "output_type": "stream",
     "text": [
      "/home/namle/.local/lib/python3.10/site-packages/torch_geometric/warnings.py:11: UserWarning: The usage of `scatter(reduce='max')` can be accelerated via the 'torch-scatter' package, but it was not found\n",
      "  warnings.warn(message)\n"
     ]
    },
    {
     "name": "stdout",
     "output_type": "stream",
     "text": [
      "Epoch: 273 (70.6223s), train_loss: 0.2015, val_loss: 0.2679, train_acc: 0.9259, val_acc:0.9009\n",
      "\t\ttrain_roc: 0.9714, val_roc: 0.9583, train_auprc: 0.9627, val_auprc: 0.9502\n"
     ]
    },
    {
     "name": "stderr",
     "output_type": "stream",
     "text": [
      "/home/namle/.local/lib/python3.10/site-packages/torch_geometric/warnings.py:11: UserWarning: The usage of `scatter(reduce='max')` can be accelerated via the 'torch-scatter' package, but it was not found\n",
      "  warnings.warn(message)\n"
     ]
    },
    {
     "name": "stdout",
     "output_type": "stream",
     "text": [
      "Epoch: 274 (71.1999s), train_loss: 0.2011, val_loss: 0.2673, train_acc: 0.9260, val_acc:0.9005\n",
      "\t\ttrain_roc: 0.9716, val_roc: 0.9585, train_auprc: 0.9629, val_auprc: 0.9503\n"
     ]
    },
    {
     "name": "stderr",
     "output_type": "stream",
     "text": [
      "/home/namle/.local/lib/python3.10/site-packages/torch_geometric/warnings.py:11: UserWarning: The usage of `scatter(reduce='max')` can be accelerated via the 'torch-scatter' package, but it was not found\n",
      "  warnings.warn(message)\n"
     ]
    },
    {
     "name": "stdout",
     "output_type": "stream",
     "text": [
      "Epoch: 275 (70.9526s), train_loss: 0.2015, val_loss: 0.2671, train_acc: 0.9255, val_acc:0.9000\n",
      "\t\ttrain_roc: 0.9714, val_roc: 0.9585, train_auprc: 0.9629, val_auprc: 0.9508\n"
     ]
    },
    {
     "name": "stderr",
     "output_type": "stream",
     "text": [
      "/home/namle/.local/lib/python3.10/site-packages/torch_geometric/warnings.py:11: UserWarning: The usage of `scatter(reduce='max')` can be accelerated via the 'torch-scatter' package, but it was not found\n",
      "  warnings.warn(message)\n"
     ]
    },
    {
     "name": "stdout",
     "output_type": "stream",
     "text": [
      "Epoch: 276 (69.9185s), train_loss: 0.2025, val_loss: 0.2686, train_acc: 0.9250, val_acc:0.8996\n",
      "\t\ttrain_roc: 0.9712, val_roc: 0.9580, train_auprc: 0.9625, val_auprc: 0.9498\n"
     ]
    },
    {
     "name": "stderr",
     "output_type": "stream",
     "text": [
      "/home/namle/.local/lib/python3.10/site-packages/torch_geometric/warnings.py:11: UserWarning: The usage of `scatter(reduce='max')` can be accelerated via the 'torch-scatter' package, but it was not found\n",
      "  warnings.warn(message)\n"
     ]
    },
    {
     "name": "stdout",
     "output_type": "stream",
     "text": [
      "Epoch: 277 (70.5047s), train_loss: 0.2003, val_loss: 0.2686, train_acc: 0.9263, val_acc:0.9010\n",
      "\t\ttrain_roc: 0.9719, val_roc: 0.9580, train_auprc: 0.9633, val_auprc: 0.9492\n"
     ]
    },
    {
     "name": "stderr",
     "output_type": "stream",
     "text": [
      "/home/namle/.local/lib/python3.10/site-packages/torch_geometric/warnings.py:11: UserWarning: The usage of `scatter(reduce='max')` can be accelerated via the 'torch-scatter' package, but it was not found\n",
      "  warnings.warn(message)\n"
     ]
    },
    {
     "name": "stdout",
     "output_type": "stream",
     "text": [
      "Epoch: 278 (70.3162s), train_loss: 0.2025, val_loss: 0.2695, train_acc: 0.9253, val_acc:0.8999\n",
      "\t\ttrain_roc: 0.9712, val_roc: 0.9576, train_auprc: 0.9625, val_auprc: 0.9493\n"
     ]
    },
    {
     "name": "stderr",
     "output_type": "stream",
     "text": [
      "/home/namle/.local/lib/python3.10/site-packages/torch_geometric/warnings.py:11: UserWarning: The usage of `scatter(reduce='max')` can be accelerated via the 'torch-scatter' package, but it was not found\n",
      "  warnings.warn(message)\n"
     ]
    },
    {
     "name": "stdout",
     "output_type": "stream",
     "text": [
      "Epoch: 279 (69.7892s), train_loss: 0.2009, val_loss: 0.2675, train_acc: 0.9260, val_acc:0.9002\n",
      "\t\ttrain_roc: 0.9715, val_roc: 0.9584, train_auprc: 0.9630, val_auprc: 0.9504\n"
     ]
    },
    {
     "name": "stderr",
     "output_type": "stream",
     "text": [
      "/home/namle/.local/lib/python3.10/site-packages/torch_geometric/warnings.py:11: UserWarning: The usage of `scatter(reduce='max')` can be accelerated via the 'torch-scatter' package, but it was not found\n",
      "  warnings.warn(message)\n"
     ]
    },
    {
     "name": "stdout",
     "output_type": "stream",
     "text": [
      "Epoch: 280 (70.4054s), train_loss: 0.2008, val_loss: 0.2669, train_acc: 0.9258, val_acc:0.9018\n",
      "\t\ttrain_roc: 0.9717, val_roc: 0.9587, train_auprc: 0.9632, val_auprc: 0.9502\n"
     ]
    },
    {
     "name": "stderr",
     "output_type": "stream",
     "text": [
      "/home/namle/.local/lib/python3.10/site-packages/torch_geometric/warnings.py:11: UserWarning: The usage of `scatter(reduce='max')` can be accelerated via the 'torch-scatter' package, but it was not found\n",
      "  warnings.warn(message)\n"
     ]
    },
    {
     "name": "stdout",
     "output_type": "stream",
     "text": [
      "Epoch: 281 (70.1603s), train_loss: 0.2010, val_loss: 0.2668, train_acc: 0.9262, val_acc:0.9003\n",
      "\t\ttrain_roc: 0.9715, val_roc: 0.9585, train_auprc: 0.9629, val_auprc: 0.9511\n"
     ]
    },
    {
     "name": "stderr",
     "output_type": "stream",
     "text": [
      "/home/namle/.local/lib/python3.10/site-packages/torch_geometric/warnings.py:11: UserWarning: The usage of `scatter(reduce='max')` can be accelerated via the 'torch-scatter' package, but it was not found\n",
      "  warnings.warn(message)\n"
     ]
    },
    {
     "name": "stdout",
     "output_type": "stream",
     "text": [
      "Epoch: 282 (70.3356s), train_loss: 0.2033, val_loss: 0.2683, train_acc: 0.9250, val_acc:0.9000\n",
      "\t\ttrain_roc: 0.9708, val_roc: 0.9580, train_auprc: 0.9620, val_auprc: 0.9500\n"
     ]
    },
    {
     "name": "stderr",
     "output_type": "stream",
     "text": [
      "/home/namle/.local/lib/python3.10/site-packages/torch_geometric/warnings.py:11: UserWarning: The usage of `scatter(reduce='max')` can be accelerated via the 'torch-scatter' package, but it was not found\n",
      "  warnings.warn(message)\n"
     ]
    },
    {
     "name": "stdout",
     "output_type": "stream",
     "text": [
      "Epoch: 283 (70.0725s), train_loss: 0.2008, val_loss: 0.2685, train_acc: 0.9263, val_acc:0.9007\n",
      "\t\ttrain_roc: 0.9716, val_roc: 0.9579, train_auprc: 0.9629, val_auprc: 0.9494\n"
     ]
    },
    {
     "name": "stderr",
     "output_type": "stream",
     "text": [
      "/home/namle/.local/lib/python3.10/site-packages/torch_geometric/warnings.py:11: UserWarning: The usage of `scatter(reduce='max')` can be accelerated via the 'torch-scatter' package, but it was not found\n",
      "  warnings.warn(message)\n"
     ]
    },
    {
     "name": "stdout",
     "output_type": "stream",
     "text": [
      "Epoch: 284 (70.1079s), train_loss: 0.1999, val_loss: 0.2692, train_acc: 0.9261, val_acc:0.8997\n",
      "\t\ttrain_roc: 0.9719, val_roc: 0.9578, train_auprc: 0.9636, val_auprc: 0.9499\n"
     ]
    },
    {
     "name": "stderr",
     "output_type": "stream",
     "text": [
      "/home/namle/.local/lib/python3.10/site-packages/torch_geometric/warnings.py:11: UserWarning: The usage of `scatter(reduce='max')` can be accelerated via the 'torch-scatter' package, but it was not found\n",
      "  warnings.warn(message)\n"
     ]
    },
    {
     "name": "stdout",
     "output_type": "stream",
     "text": [
      "Epoch: 285 (70.6025s), train_loss: 0.2009, val_loss: 0.2661, train_acc: 0.9258, val_acc:0.9010\n",
      "\t\ttrain_roc: 0.9717, val_roc: 0.9591, train_auprc: 0.9631, val_auprc: 0.9510\n"
     ]
    },
    {
     "name": "stderr",
     "output_type": "stream",
     "text": [
      "/home/namle/.local/lib/python3.10/site-packages/torch_geometric/warnings.py:11: UserWarning: The usage of `scatter(reduce='max')` can be accelerated via the 'torch-scatter' package, but it was not found\n",
      "  warnings.warn(message)\n"
     ]
    },
    {
     "name": "stdout",
     "output_type": "stream",
     "text": [
      "Epoch: 286 (70.2964s), train_loss: 0.2023, val_loss: 0.2680, train_acc: 0.9251, val_acc:0.9002\n",
      "\t\ttrain_roc: 0.9711, val_roc: 0.9583, train_auprc: 0.9625, val_auprc: 0.9500\n"
     ]
    },
    {
     "name": "stderr",
     "output_type": "stream",
     "text": [
      "/home/namle/.local/lib/python3.10/site-packages/torch_geometric/warnings.py:11: UserWarning: The usage of `scatter(reduce='max')` can be accelerated via the 'torch-scatter' package, but it was not found\n",
      "  warnings.warn(message)\n"
     ]
    },
    {
     "name": "stdout",
     "output_type": "stream",
     "text": [
      "Epoch: 287 (70.4409s), train_loss: 0.2007, val_loss: 0.2690, train_acc: 0.9266, val_acc:0.8999\n",
      "\t\ttrain_roc: 0.9717, val_roc: 0.9578, train_auprc: 0.9631, val_auprc: 0.9492\n"
     ]
    },
    {
     "name": "stderr",
     "output_type": "stream",
     "text": [
      "/home/namle/.local/lib/python3.10/site-packages/torch_geometric/warnings.py:11: UserWarning: The usage of `scatter(reduce='max')` can be accelerated via the 'torch-scatter' package, but it was not found\n",
      "  warnings.warn(message)\n"
     ]
    },
    {
     "name": "stdout",
     "output_type": "stream",
     "text": [
      "Epoch: 288 (70.5997s), train_loss: 0.2012, val_loss: 0.2673, train_acc: 0.9262, val_acc:0.9004\n",
      "\t\ttrain_roc: 0.9715, val_roc: 0.9586, train_auprc: 0.9629, val_auprc: 0.9506\n"
     ]
    },
    {
     "name": "stderr",
     "output_type": "stream",
     "text": [
      "/home/namle/.local/lib/python3.10/site-packages/torch_geometric/warnings.py:11: UserWarning: The usage of `scatter(reduce='max')` can be accelerated via the 'torch-scatter' package, but it was not found\n",
      "  warnings.warn(message)\n"
     ]
    },
    {
     "name": "stdout",
     "output_type": "stream",
     "text": [
      "Epoch: 289 (70.4131s), train_loss: 0.2008, val_loss: 0.2668, train_acc: 0.9261, val_acc:0.9002\n",
      "\t\ttrain_roc: 0.9717, val_roc: 0.9587, train_auprc: 0.9632, val_auprc: 0.9507\n"
     ]
    },
    {
     "name": "stderr",
     "output_type": "stream",
     "text": [
      "/home/namle/.local/lib/python3.10/site-packages/torch_geometric/warnings.py:11: UserWarning: The usage of `scatter(reduce='max')` can be accelerated via the 'torch-scatter' package, but it was not found\n",
      "  warnings.warn(message)\n"
     ]
    },
    {
     "name": "stdout",
     "output_type": "stream",
     "text": [
      "Epoch: 290 (70.3378s), train_loss: 0.2014, val_loss: 0.2679, train_acc: 0.9261, val_acc:0.8996\n",
      "\t\ttrain_roc: 0.9715, val_roc: 0.9582, train_auprc: 0.9627, val_auprc: 0.9507\n"
     ]
    },
    {
     "name": "stderr",
     "output_type": "stream",
     "text": [
      "/home/namle/.local/lib/python3.10/site-packages/torch_geometric/warnings.py:11: UserWarning: The usage of `scatter(reduce='max')` can be accelerated via the 'torch-scatter' package, but it was not found\n",
      "  warnings.warn(message)\n"
     ]
    },
    {
     "name": "stdout",
     "output_type": "stream",
     "text": [
      "Epoch: 291 (70.7599s), train_loss: 0.2010, val_loss: 0.2697, train_acc: 0.9255, val_acc:0.9000\n",
      "\t\ttrain_roc: 0.9717, val_roc: 0.9576, train_auprc: 0.9633, val_auprc: 0.9488\n"
     ]
    },
    {
     "name": "stderr",
     "output_type": "stream",
     "text": [
      "/home/namle/.local/lib/python3.10/site-packages/torch_geometric/warnings.py:11: UserWarning: The usage of `scatter(reduce='max')` can be accelerated via the 'torch-scatter' package, but it was not found\n",
      "  warnings.warn(message)\n"
     ]
    },
    {
     "name": "stdout",
     "output_type": "stream",
     "text": [
      "Epoch: 292 (71.4327s), train_loss: 0.2017, val_loss: 0.2679, train_acc: 0.9263, val_acc:0.9005\n",
      "\t\ttrain_roc: 0.9714, val_roc: 0.9582, train_auprc: 0.9625, val_auprc: 0.9503\n"
     ]
    },
    {
     "name": "stderr",
     "output_type": "stream",
     "text": [
      "/home/namle/.local/lib/python3.10/site-packages/torch_geometric/warnings.py:11: UserWarning: The usage of `scatter(reduce='max')` can be accelerated via the 'torch-scatter' package, but it was not found\n",
      "  warnings.warn(message)\n"
     ]
    },
    {
     "name": "stdout",
     "output_type": "stream",
     "text": [
      "Epoch: 293 (71.0162s), train_loss: 0.2003, val_loss: 0.2665, train_acc: 0.9262, val_acc:0.9006\n",
      "\t\ttrain_roc: 0.9717, val_roc: 0.9587, train_auprc: 0.9632, val_auprc: 0.9512\n"
     ]
    },
    {
     "name": "stderr",
     "output_type": "stream",
     "text": [
      "/home/namle/.local/lib/python3.10/site-packages/torch_geometric/warnings.py:11: UserWarning: The usage of `scatter(reduce='max')` can be accelerated via the 'torch-scatter' package, but it was not found\n",
      "  warnings.warn(message)\n"
     ]
    },
    {
     "name": "stdout",
     "output_type": "stream",
     "text": [
      "Epoch: 294 (70.2820s), train_loss: 0.2011, val_loss: 0.2714, train_acc: 0.9262, val_acc:0.8979\n",
      "\t\ttrain_roc: 0.9716, val_roc: 0.9570, train_auprc: 0.9630, val_auprc: 0.9487\n"
     ]
    },
    {
     "name": "stderr",
     "output_type": "stream",
     "text": [
      "/home/namle/.local/lib/python3.10/site-packages/torch_geometric/warnings.py:11: UserWarning: The usage of `scatter(reduce='max')` can be accelerated via the 'torch-scatter' package, but it was not found\n",
      "  warnings.warn(message)\n"
     ]
    },
    {
     "name": "stdout",
     "output_type": "stream",
     "text": [
      "Epoch: 295 (70.7718s), train_loss: 0.2019, val_loss: 0.2684, train_acc: 0.9256, val_acc:0.9001\n",
      "\t\ttrain_roc: 0.9714, val_roc: 0.9580, train_auprc: 0.9627, val_auprc: 0.9500\n"
     ]
    },
    {
     "name": "stderr",
     "output_type": "stream",
     "text": [
      "/home/namle/.local/lib/python3.10/site-packages/torch_geometric/warnings.py:11: UserWarning: The usage of `scatter(reduce='max')` can be accelerated via the 'torch-scatter' package, but it was not found\n",
      "  warnings.warn(message)\n"
     ]
    },
    {
     "name": "stdout",
     "output_type": "stream",
     "text": [
      "Epoch: 296 (70.0067s), train_loss: 0.2014, val_loss: 0.2665, train_acc: 0.9265, val_acc:0.9008\n",
      "\t\ttrain_roc: 0.9714, val_roc: 0.9587, train_auprc: 0.9624, val_auprc: 0.9508\n"
     ]
    },
    {
     "name": "stderr",
     "output_type": "stream",
     "text": [
      "/home/namle/.local/lib/python3.10/site-packages/torch_geometric/warnings.py:11: UserWarning: The usage of `scatter(reduce='max')` can be accelerated via the 'torch-scatter' package, but it was not found\n",
      "  warnings.warn(message)\n"
     ]
    },
    {
     "name": "stdout",
     "output_type": "stream",
     "text": [
      "Epoch: 297 (70.5339s), train_loss: 0.1999, val_loss: 0.2689, train_acc: 0.9264, val_acc:0.8996\n",
      "\t\ttrain_roc: 0.9720, val_roc: 0.9579, train_auprc: 0.9636, val_auprc: 0.9495\n"
     ]
    },
    {
     "name": "stderr",
     "output_type": "stream",
     "text": [
      "/home/namle/.local/lib/python3.10/site-packages/torch_geometric/warnings.py:11: UserWarning: The usage of `scatter(reduce='max')` can be accelerated via the 'torch-scatter' package, but it was not found\n",
      "  warnings.warn(message)\n"
     ]
    },
    {
     "name": "stdout",
     "output_type": "stream",
     "text": [
      "Epoch: 298 (70.5704s), train_loss: 0.2012, val_loss: 0.2708, train_acc: 0.9264, val_acc:0.8992\n",
      "\t\ttrain_roc: 0.9714, val_roc: 0.9572, train_auprc: 0.9625, val_auprc: 0.9485\n"
     ]
    },
    {
     "name": "stderr",
     "output_type": "stream",
     "text": [
      "/home/namle/.local/lib/python3.10/site-packages/torch_geometric/warnings.py:11: UserWarning: The usage of `scatter(reduce='max')` can be accelerated via the 'torch-scatter' package, but it was not found\n",
      "  warnings.warn(message)\n"
     ]
    },
    {
     "name": "stdout",
     "output_type": "stream",
     "text": [
      "Epoch: 299 (70.0565s), train_loss: 0.1999, val_loss: 0.2692, train_acc: 0.9265, val_acc:0.9002\n",
      "\t\ttrain_roc: 0.9719, val_roc: 0.9576, train_auprc: 0.9634, val_auprc: 0.9490\n"
     ]
    },
    {
     "name": "stderr",
     "output_type": "stream",
     "text": [
      "/home/namle/.local/lib/python3.10/site-packages/torch_geometric/warnings.py:11: UserWarning: The usage of `scatter(reduce='max')` can be accelerated via the 'torch-scatter' package, but it was not found\n",
      "  warnings.warn(message)\n"
     ]
    },
    {
     "name": "stdout",
     "output_type": "stream",
     "text": [
      "Epoch: 300 (70.3549s), train_loss: 0.2006, val_loss: 0.2676, train_acc: 0.9260, val_acc:0.8998\n",
      "\t\ttrain_roc: 0.9717, val_roc: 0.9583, train_auprc: 0.9633, val_auprc: 0.9508\n"
     ]
    }
   ],
   "source": [
    "if mode == \"train\":\n",
    "  # Train\n",
    "  train(\n",
    "      model,\n",
    "      train_data_loader,\n",
    "      val_data_loader,\n",
    "      loss,\n",
    "      optimizer,\n",
    "      n_epochs,\n",
    "      device,\n",
    "      scheduler,\n",
    "  )\n"
   ]
  },
  {
   "cell_type": "code",
   "execution_count": 18,
   "metadata": {
    "id": "f04DujiWugRa"
   },
   "outputs": [
    {
     "name": "stdout",
     "output_type": "stream",
     "text": [
      "SSI_DDI(\n",
      "  (initial_norm): LayerNorm(55, affine=True, mode=graph)\n",
      "  (net_norms): ModuleList(\n",
      "    (0-4): 5 x LayerNorm(64, affine=True, mode=graph)\n",
      "  )\n",
      "  (block0): SSI_DDI_Block(\n",
      "    (conv): GATConv(55, 32, heads=2)\n",
      "    (readout): SAGPooling(GraphConv, 64, min_score=-1, multiplier=1.0)\n",
      "  )\n",
      "  (block1): SSI_DDI_Block(\n",
      "    (conv): GATConv(64, 32, heads=2)\n",
      "    (readout): SAGPooling(GraphConv, 64, min_score=-1, multiplier=1.0)\n",
      "  )\n",
      "  (block2): SSI_DDI_Block(\n",
      "    (conv): GATConv(64, 32, heads=2)\n",
      "    (readout): SAGPooling(GraphConv, 64, min_score=-1, multiplier=1.0)\n",
      "  )\n",
      "  (block3): SSI_DDI_Block(\n",
      "    (conv): GATConv(64, 32, heads=2)\n",
      "    (readout): SAGPooling(GraphConv, 64, min_score=-1, multiplier=1.0)\n",
      "  )\n",
      "  (block4): SSI_DDI_Block(\n",
      "    (conv): GATConv(64, 32, heads=2)\n",
      "    (readout): SAGPooling(GraphConv, 64, min_score=-1, multiplier=1.0)\n",
      "  )\n",
      "  (co_attention): CoAttentionLayerImproved(\n",
      "    (dropout): Dropout(p=0.1, inplace=False)\n",
      "  )\n",
      "  (KGE): RESCAL(86, torch.Size([86, 4096]))\n",
      ")\n",
      "Starting predicting at 2024-10-23 05:38:59.192204\n",
      "Device cuda\n"
     ]
    },
    {
     "name": "stderr",
     "output_type": "stream",
     "text": [
      "/tmp/ipykernel_1324717/189222804.py:2: FutureWarning: You are using `torch.load` with `weights_only=False` (the current default value), which uses the default pickle module implicitly. It is possible to construct malicious pickle data which will execute arbitrary code during unpickling (See https://github.com/pytorch/pytorch/blob/main/SECURITY.md#untrusted-models for more details). In a future release, the default value for `weights_only` will be flipped to `True`. This limits the functions that could be executed during unpickling. Arbitrary objects will no longer be allowed to be loaded via this mode unless they are explicitly allowlisted by the user via `torch.serialization.add_safe_globals`. We recommend you start setting `weights_only=True` for any use case where you don't have full control of the loaded file. Please open an issue on GitHub for any issues related to this experimental feature.\n",
      "  model = torch.load(model_file)\n"
     ]
    },
    {
     "name": "stdout",
     "output_type": "stream",
     "text": [
      "Test Accuracy: 0.9016\n",
      "Test ROC AUC: 0.9587\n",
      "Test PRC AUC: 0.9519\n"
     ]
    }
   ],
   "source": [
    "# Predict\n",
    "model = torch.load(model_file)\n",
    "print(model)\n",
    "model.to(device=device)\n",
    "predict(model, test_data_loader, device)"
   ]
  },
  {
   "cell_type": "code",
   "execution_count": null,
   "metadata": {},
   "outputs": [],
   "source": []
  }
 ],
 "metadata": {
  "accelerator": "GPU",
  "colab": {
   "authorship_tag": "ABX9TyPrjMB1qWDzpoQ4nNpP4AfV",
   "gpuType": "T4",
   "mount_file_id": "1SgLTMIysgeGUK6s_GjIn2Ssygt0A5LZV",
   "provenance": []
  },
  "kernelspec": {
   "display_name": "Python 3 (ipykernel)",
   "language": "python",
   "name": "python3"
  },
  "language_info": {
   "codemirror_mode": {
    "name": "ipython",
    "version": 3
   },
   "file_extension": ".py",
   "mimetype": "text/x-python",
   "name": "python",
   "nbconvert_exporter": "python",
   "pygments_lexer": "ipython3",
   "version": "3.12.4"
  }
 },
 "nbformat": 4,
 "nbformat_minor": 4
}
