{
 "cells": [
  {
   "cell_type": "code",
   "execution_count": 1,
   "metadata": {
    "colab": {
     "base_uri": "https://localhost:8080/"
    },
    "executionInfo": {
     "elapsed": 10617,
     "status": "ok",
     "timestamp": 1729307085000,
     "user": {
      "displayName": "Nam Le",
      "userId": "10910051602335296858"
     },
     "user_tz": -420
    },
    "id": "k4UhRVN-PNYi",
    "outputId": "3a910cb5-bb67-4fa2-d833-c4790dab293c"
   },
   "outputs": [],
   "source": [
    "# !pip install torch_geometric rdkit torch"
   ]
  },
  {
   "cell_type": "code",
   "execution_count": 2,
   "metadata": {
    "id": "YKUU9J_HnRwg"
   },
   "outputs": [],
   "source": [
    "from datetime import datetime\n",
    "import time\n",
    "import argparse\n",
    "import sys\n",
    "import torch\n",
    "from torch import optim\n",
    "from torch import nn\n",
    "import torch.nn.functional as F\n",
    "from sklearn import metrics\n",
    "import pandas as pd\n",
    "import numpy as np\n",
    "from torch.nn.modules.container import ModuleList\n",
    "from torch_geometric.nn import (\n",
    "    GATConv,\n",
    "    SAGPooling,\n",
    "    LayerNorm,\n",
    "    global_mean_pool,\n",
    "    max_pool_neighbor_x,\n",
    "    global_add_pool,\n",
    ")\n"
   ]
  },
  {
   "cell_type": "code",
   "execution_count": 3,
   "metadata": {},
   "outputs": [],
   "source": [
    "# Directory configuration\n",
    "data_dir = \"data\"\n",
    "model_dir = \"models\"\n",
    "model_name = \"case18\"\n",
    "\n",
    "# sys.path.append('/content/drive/MyDrive/Colab Notebooks')"
   ]
  },
  {
   "cell_type": "code",
   "execution_count": 4,
   "metadata": {},
   "outputs": [],
   "source": [
    "####### Tunning parameters #######\n",
    "\n",
    "# Number of epochs\n",
    "n_epochs = 300\n",
    "\n",
    "# SagPooling ratio & min score. \n",
    "# Set sp_ratio to None to disable ratio in SagPooling\n",
    "sp_ratio = None\n",
    "sp_min_score = None\n",
    "\n",
    "# Enable using gpu\n",
    "use_cuda = True\n",
    "\n",
    "# Use activation function for CoAttention Layer\n",
    "use_activation_fn = False\n",
    "\n",
    "# Use ComplEx instead of RESCAL\n",
    "use_ComplEx = False\n",
    "\n",
    "# Use improved CoAttention Layer\n",
    "# Could be \"original\" || \"improved\" || \"multihead\"\n",
    "co_attention_method = \"multihead\"\n",
    "\n",
    "# Use Explicit Valence\n",
    "use_explicit_valence = False\n",
    "\n",
    "# Number of GAT layers\n",
    "num_GAT_layers = 5\n",
    "\n",
    "# Number of GAT multiheads\n",
    "num_GAT_multiheads = 2\n",
    "\n",
    "#################################"
   ]
  },
  {
   "cell_type": "code",
   "execution_count": 5,
   "metadata": {
    "colab": {
     "base_uri": "https://localhost:8080/"
    },
    "executionInfo": {
     "elapsed": 14083,
     "status": "ok",
     "timestamp": 1729307119217,
     "user": {
      "displayName": "Nam Le",
      "userId": "10910051602335296858"
     },
     "user_tz": -420
    },
    "id": "Ws9OIlmzPrsJ",
    "outputId": "f4ec9a42-5720-436e-fa2a-544d564381c4"
   },
   "outputs": [
    {
     "name": "stderr",
     "output_type": "stream",
     "text": [
      "/mnt/d/Documents/Github/glsofort/SSI-DDI-test/notebook/data_preprocessing.py:113: UserWarning: The use of `x.T` on tensors of dimension other than 2 to reverse their shape is deprecated and it will throw an error in a future release. Consider `x.mT` to transpose batches of matrices or `x.permute(*torch.arange(x.ndim - 1, -1, -1))` to reverse the dimensions of a tensor. (Triggered internally at ../aten/src/ATen/native/TensorShape.cpp:3683.)\n",
      "  return undirected_edge_list.T, features\n"
     ]
    }
   ],
   "source": [
    "# If using explicit valence feature\n",
    "if use_explicit_valence:\n",
    "    from data_preprocessing_explicit_valence import DrugDataset, DrugDataLoader, TOTAL_ATOM_FEATS\n",
    "else:\n",
    "    from data_preprocessing import DrugDataset, DrugDataLoader, TOTAL_ATOM_FEATS"
   ]
  },
  {
   "cell_type": "code",
   "execution_count": 6,
   "metadata": {},
   "outputs": [
    {
     "name": "stdout",
     "output_type": "stream",
     "text": [
      "cuda\n",
      "Epochs: 300\n",
      "Total of atom features: 55\n"
     ]
    }
   ],
   "source": [
    "mode = \"train\"\n",
    "\n",
    "n_atom_feats = TOTAL_ATOM_FEATS\n",
    "# Not use\n",
    "n_atom_hid = 64\n",
    "# Total interactions information in the Interaction_information.csv\n",
    "rel_total = 86\n",
    "lr = 1e-2\n",
    "weight_decay = 5e-4\n",
    "neg_samples = 1\n",
    "# Represents the number of samples (or graph instances) loaded in each batch during the training process.\n",
    "batch_size = 1024\n",
    "data_size_ratio = 1\n",
    "kge_dim = 64\n",
    "\n",
    "device = \"cuda\" if torch.cuda.is_available() and use_cuda else \"cpu\"\n",
    "\n",
    "print(device)\n",
    "print(f\"Epochs: {n_epochs}\")\n",
    "print(f\"Total of atom features: {TOTAL_ATOM_FEATS}\")"
   ]
  },
  {
   "cell_type": "code",
   "execution_count": 7,
   "metadata": {},
   "outputs": [],
   "source": [
    "def print_tunning_parameters():\n",
    "    print()\n",
    "    print(\"####### Tunning parameters #######\")\n",
    "    print()\n",
    "    \n",
    "    print(\"n_epochs =\", n_epochs)\n",
    "    print(\"use_cuda =\", use_cuda)\n",
    "    print()\n",
    "    print(\"num_GAT_layers = \", num_GAT_layers)\n",
    "    print(\"num_GAT_multiheads = \", num_GAT_multiheads)\n",
    "    print()\n",
    "    print(\"sp_ratio =\", sp_ratio)\n",
    "    print(\"sp_min_score =\", sp_min_score)\n",
    "    print()\n",
    "    print(\"use_explicit_valence =\", use_explicit_valence)\n",
    "    print()\n",
    "    print(\"use_activation_fn =\", use_activation_fn)\n",
    "    print()\n",
    "    print(\"use_ComplEx =\", use_ComplEx)\n",
    "    print()\n",
    "    print(\"co_attention_method =\", co_attention_method)\n",
    "    \n",
    "    print()\n",
    "    print(\"#################################\")\n",
    "    print()\n"
   ]
  },
  {
   "cell_type": "code",
   "execution_count": 8,
   "metadata": {
    "id": "qfaqIm8ZOwx9"
   },
   "outputs": [],
   "source": [
    "class CoAttentionLayer(nn.Module):\n",
    "    def __init__(self, n_features, use_activation_fn=True):\n",
    "        super().__init__()\n",
    "        self.n_features = n_features\n",
    "        self.w_q = nn.Parameter(torch.zeros(n_features, n_features // 2))\n",
    "        self.w_k = nn.Parameter(torch.zeros(n_features, n_features // 2))\n",
    "        self.bias = nn.Parameter(torch.zeros(n_features // 2))\n",
    "        self.a = nn.Parameter(torch.zeros(n_features // 2))\n",
    "        self.use_activation_fn = use_activation_fn\n",
    "\n",
    "        nn.init.xavier_uniform_(self.w_q)\n",
    "        nn.init.xavier_uniform_(self.w_k)\n",
    "        nn.init.xavier_uniform_(self.bias.view(*self.bias.shape, -1))\n",
    "        nn.init.xavier_uniform_(self.a.view(*self.a.shape, -1))\n",
    "\n",
    "    def forward(self, receiver, attendant):\n",
    "        # receiver.shape  = (1024, 4, 64)\n",
    "        # attendant.shape = (1024, 4, 64)\n",
    "        keys = receiver @ self.w_k\n",
    "        queries = attendant @ self.w_q\n",
    "        # values = receiver @ self.w_v\n",
    "        values = receiver\n",
    "\n",
    "        # queries.shape = (1024, 4, 32)\n",
    "        # keys.shape = (1024, 4, 32)\n",
    "        e_activations = queries.unsqueeze(-3) + keys.unsqueeze(-2) + self.bias\n",
    "        if self.use_activation_fn:\n",
    "            e_scores = torch.tanh(e_activations) @ self.a\n",
    "        else:\n",
    "            e_scores = e_activations @ self.a\n",
    "        attentions = e_scores\n",
    "\n",
    "        return attentions\n",
    "\n",
    "\n",
    "class MultiheadCoAttentionLayer(nn.Module):\n",
    "    def __init__(self, n_features, use_activation_fn=True, dropout=0.1, n_heads=2):\n",
    "        super().__init__()\n",
    "        self.n_features = n_features\n",
    "        self.n_heads = n_heads\n",
    "\n",
    "        \n",
    "        self.W_q = nn.ParameterList([torch.zeros(self.n_features, self.n_features // 2) for _ in range(n_heads)])\n",
    "        self.W_k = nn.ParameterList([torch.zeros(self.n_features, self.n_features // 2) for _ in range(n_heads)])\n",
    "        \n",
    "        self.a = nn.Parameter(torch.zeros(self.n_features // 2))\n",
    "        self.bias = nn.ParameterList([torch.zeros(self.n_features // 2) for _ in range(n_heads)])\n",
    "        \n",
    "        self.use_activation_fn = use_activation_fn\n",
    "\n",
    "        self.dropout = nn.Dropout(dropout)\n",
    "\n",
    "        for i in range(n_heads):\n",
    "            nn.init.xavier_uniform_(self.W_q[i])\n",
    "            nn.init.xavier_uniform_(self.W_k[i])\n",
    "            nn.init.xavier_uniform_(self.bias[i].view(*self.bias[i].shape, -1))\n",
    "        \n",
    "        nn.init.xavier_uniform_(self.a.view(*self.a.shape, -1))\n",
    "\n",
    "    def forward(self, receiver, attendant):\n",
    "        # receiver.shape  = (1024, 4, 64)\n",
    "        # attendant.shape = (1024, 4, 64)\n",
    "\n",
    "        # Compute attention score for each head\n",
    "        head_outputs = []\n",
    "        for i in range(self.n_heads):\n",
    "            keys = receiver @ self.W_k[i]\n",
    "            queries = attendant @ self.W_q[i]\n",
    "            e_activations = queries.unsqueeze(-3) + keys.unsqueeze(-2) + self.bias[i]\n",
    "            head_outputs.append(e_activations)\n",
    "\n",
    "        # Average the outputs from all heads\n",
    "        # e_activations_avg.shape = (1024, 4, 4, 32)\n",
    "        e_activations_avg = torch.mean(torch.stack(head_outputs), dim = 0)\n",
    "        # print(e_activations_avg.shape)\n",
    "        \n",
    "        if self.use_activation_fn:\n",
    "            e_scores = torch.tanh(e_activations_avg) @ self.a\n",
    "        else:\n",
    "            e_scores = e_activations_avg @ self.a\n",
    "\n",
    "        # attentions.shape = (1024, 4, 4)\n",
    "        attentions = e_scores\n",
    "\n",
    "        return attentions\n",
    "\n",
    "class CoAttentionLayerImproved(nn.Module):\n",
    "    def __init__(self, n_features, use_activation_fn=True, dropout=0.1, n_heads=2):\n",
    "        super().__init__()\n",
    "        self.n_features = n_features\n",
    "        self.n_heads = n_heads\n",
    "        self.head_dim = n_features // n_heads\n",
    "\n",
    "        # Projects for queries and keys per head\n",
    "        self.w_q = nn.Parameter(torch.zeros(self.head_dim, self.head_dim // 2))\n",
    "        self.w_k = nn.Parameter(torch.zeros(self.head_dim, self.head_dim // 2))\n",
    "        self.bias = nn.Parameter(torch.zeros(self.n_features // 2))\n",
    "        self.a = nn.Parameter(torch.zeros(self.n_features // 2))\n",
    "        self.use_activation_fn = use_activation_fn\n",
    "\n",
    "        self.dropout = nn.Dropout(dropout)\n",
    "\n",
    "        nn.init.xavier_uniform_(self.w_q)\n",
    "        nn.init.xavier_uniform_(self.w_k)\n",
    "        nn.init.xavier_uniform_(self.bias.view(*self.bias.shape, -1))\n",
    "        nn.init.xavier_uniform_(self.a.view(*self.a.shape, -1))\n",
    "\n",
    "    def forward(self, receiver, attendant):\n",
    "        # receiver.shape  = (1024, 4, 64)\n",
    "        # attendant.shape = (1024, 4, 64)\n",
    "\n",
    "        # Split reciever and attendant into multiple heads\n",
    "        batch_size, gat_size, n_features = receiver.shape\n",
    "        receiver = receiver.view(batch_size, gat_size, self.n_heads, self.head_dim)\n",
    "        attendant = attendant.view(batch_size, gat_size, self.n_heads, self.head_dim)\n",
    "        \n",
    "        # Compute keys and queries per head\n",
    "        # receiver.shape  = (1024, 4, 2, 32)\n",
    "        # attendant.shape = (1024, 4, 2, 32)\n",
    "        \n",
    "        # self.w_k.shape  = (32, 16)\n",
    "        # self.w_q.shape  = (32, 16)\n",
    "        \n",
    "        # self.keys.shape     = (1024, 4, 2, 16)\n",
    "        # self.queries.shape  = (1024, 4, 2, 16)\n",
    "        keys = receiver @ self.w_k\n",
    "        queries = attendant @ self.w_q\n",
    "\n",
    "        # self.keys.shape     = (1024, 4, 32)\n",
    "        # self.queries.shape  = (1024, 4, 32)\n",
    "        keys    = keys.view(batch_size, gat_size, self.head_dim)\n",
    "        queries = queries.view(batch_size, gat_size, self.head_dim)\n",
    "        # print(\"keys.shape\", keys.shape)\n",
    "        # print(\"queries.shape\", queries.shape)\n",
    "\n",
    "        # e_activations.shape = (1024, 4, 4, 32)\n",
    "        # self.a.shape = (32,)\n",
    "        e_activations = queries.unsqueeze(-3) + keys.unsqueeze(-2) + self.bias\n",
    "        if self.use_activation_fn:\n",
    "            e_scores = torch.tanh(e_activations) @ self.a\n",
    "        else:\n",
    "            e_scores = e_activations @ self.a\n",
    "\n",
    "        # attentions.shape = (1024, 4, 4)\n",
    "        attentions = e_scores\n",
    "\n",
    "        return attentions\n",
    "\n",
    "\n",
    "class RESCAL(nn.Module):\n",
    "    def __init__(self, n_rels, n_features):\n",
    "        \"\"\"\n",
    "        n_rels: number of relations = 86\n",
    "        n_features: kge_dim = 64\n",
    "        \"\"\"\n",
    "        super().__init__()\n",
    "        self.n_rels = n_rels\n",
    "        self.n_features = n_features\n",
    "        # Embedding layer\n",
    "        self.rel_emb = nn.Embedding(self.n_rels, n_features * n_features)\n",
    "        #  Initializes the embedding weights with the Xavier uniform distribution, which helps maintain the scale of gradients during training\n",
    "        nn.init.xavier_uniform_(self.rel_emb.weight)\n",
    "\n",
    "    def forward(self, heads, tails, rels, alpha_scores):\n",
    "        rels = self.rel_emb(rels)\n",
    "        rels = F.normalize(rels, dim=-1)\n",
    "        heads = F.normalize(heads, dim=-1)\n",
    "        tails = F.normalize(tails, dim=-1)\n",
    "        # print(rels.shape)\n",
    "        # Convert shape (1024, 4096) to (1024, 64, 64) for dot product\n",
    "        rels = rels.view(-1, self.n_features, self.n_features)\n",
    "        # print(rels.shape)\n",
    "        # (1024, 4, 64) @ (1024, 64, 64) = (1024, 4, 64) @ (1024, 64, 4) = (1024, 4, 4)\n",
    "        scores = heads @ rels @ tails.transpose(-2, -1)\n",
    "\n",
    "        # alpha_scores.shape = (1024, 4, 4)\n",
    "        # scores.shape = (1024, 4, 4)\n",
    "        if alpha_scores is not None:\n",
    "            scores = alpha_scores * scores\n",
    "        # print(scores.shape)\n",
    "        \n",
    "        # sum the last 2 dimensions\n",
    "        scores = scores.sum(dim=(-2, -1))\n",
    "        \n",
    "        # print(scores.shape)\n",
    "        # Shape(1024,)\n",
    "        return scores\n",
    "\n",
    "    def __repr__(self):\n",
    "        return f\"{self.__class__.__name__}({self.n_rels}, {self.rel_emb.weight.shape})\"\n",
    "\n",
    "\n",
    "\n",
    "class ComplEx(nn.Module):\n",
    "    def __init__(self, n_rels, n_features):\n",
    "        super().__init__()\n",
    "        self.n_rels = n_rels\n",
    "        self.n_features = n_features\n",
    "    \n",
    "        # Relation embeddings are also complex\n",
    "        self.rel_real = nn.Embedding(self.n_rels, (self.n_features // 2) * (self.n_features // 2))\n",
    "        self.rel_imag = nn.Embedding(self.n_rels, (self.n_features // 2) * (self.n_features // 2))\n",
    "        \n",
    "        # Initialize embeddings\n",
    "        nn.init.xavier_uniform_(self.rel_real.weight)\n",
    "        nn.init.xavier_uniform_(self.rel_imag.weight)\n",
    "\n",
    "    def forward(self, heads, tails, rels, alpha_scores=None):\n",
    "        # Preprocess\n",
    "        heads = F.normalize(heads, dim=-1)\n",
    "        tails = F.normalize(tails, dim=-1)\n",
    "        \n",
    "        r_real, r_imag = self.rel_real(rels), self.rel_imag(rels)\n",
    "        r_real = F.normalize(r_real, dim=-1)\n",
    "        r_imag = F.normalize(r_imag, dim=-1)\n",
    "        # print(r_real.shape)\n",
    "        r_real = r_real.view(-1, self.n_features // 2, self.n_features // 2)\n",
    "        r_imag = r_imag.view(-1, self.n_features // 2, self.n_features // 2)\n",
    "        # print(r_real.shape)\n",
    "        # Split heads and tails to imaginary parts\n",
    "        h_real, h_imag = heads[..., :self.n_features // 2], heads[..., self.n_features // 2:]\n",
    "        t_real, t_imag = tails[..., :self.n_features // 2], heads[..., self.n_features // 2:]\n",
    "\n",
    "        # ComplEx scoring functionn\n",
    "        first_part_score = h_real @ r_real @ t_real.transpose(-2, -1)\n",
    "        second_part_score = h_real @ r_imag @ t_imag.transpose(-2, -1)\n",
    "        third_part_score = h_imag @ r_real @ t_imag.transpose(-2, -1)\n",
    "        fourth_part_score = h_imag @ r_imag @ t_real.transpose(-2, -1)\n",
    "\n",
    "        scores = first_part_score + second_part_score + third_part_score + fourth_part_score\n",
    "        \n",
    "        # If alpha_scores is provided, apply it\n",
    "        if alpha_scores is not None:\n",
    "            scores = alpha_scores * scores\n",
    "\n",
    "        scores = scores.sum(dim=(-2, -1))\n",
    "        \n",
    "        return scores\n",
    "\n",
    "    def __repr__(self):\n",
    "        return f\"{self.__class__.__name__}({self.n_rels}, {self.rel_real.weight.shape}, {self.rel_imag.weight.shape})\"\n"
   ]
  },
  {
   "cell_type": "code",
   "execution_count": 9,
   "metadata": {
    "id": "CWV8Vy2YRXQA"
   },
   "outputs": [],
   "source": [
    "class SSI_DDI(nn.Module):\n",
    "    def __init__(\n",
    "        self,\n",
    "        in_features,\n",
    "        hidd_dim,\n",
    "        kge_dim,\n",
    "        rel_total,\n",
    "        heads_out_feat_params,\n",
    "        blocks_params,\n",
    "        sp_ratio,\n",
    "        use_activation_fn,\n",
    "        use_ComplEx,\n",
    "        sp_min_score,\n",
    "        co_attention_method,\n",
    "    ):\n",
    "        \"\"\"\n",
    "        blocks_params: list of number layers for multi-head attentions\n",
    "        \"\"\"\n",
    "        super().__init__()\n",
    "        self.in_features = in_features\n",
    "        # not using this one\n",
    "        self.hidd_dim = hidd_dim\n",
    "        self.rel_total = rel_total\n",
    "        self.kge_dim = kge_dim\n",
    "        self.n_blocks = len(blocks_params)\n",
    "\n",
    "        self.initial_norm = LayerNorm(self.in_features)\n",
    "        self.blocks = []\n",
    "        self.use_activation_fn = use_activation_fn\n",
    "        self.use_ComplEx = use_ComplEx\n",
    "        # Layer normalization list\n",
    "        self.net_norms = ModuleList()\n",
    "        for i, (head_out_feats, n_heads) in enumerate(\n",
    "            zip(heads_out_feat_params, blocks_params)\n",
    "        ):\n",
    "            block = SSI_DDI_Block(\n",
    "                n_heads, in_features, head_out_feats, final_out_feats=self.hidd_dim, sp_ratio=sp_ratio, sp_min_score=sp_min_score\n",
    "            )\n",
    "            self.add_module(f\"block{i}\", block)\n",
    "            self.blocks.append(block)\n",
    "            self.net_norms.append(LayerNorm(head_out_feats * n_heads))\n",
    "            in_features = head_out_feats * n_heads\n",
    "\n",
    "        if co_attention_method == \"multihead\":\n",
    "            self.co_attention = MultiheadCoAttentionLayer(self.kge_dim, self.use_activation_fn)\n",
    "        elif co_attention_method == \"improved\":\n",
    "            self.co_attention = CoAttentionLayerImproved(self.kge_dim, self.use_activation_fn)\n",
    "        else:\n",
    "            self.co_attention = CoAttentionLayer(self.kge_dim, self.use_activation_fn)\n",
    "            \n",
    "        if self.use_ComplEx:\n",
    "            self.KGE = ComplEx(self.rel_total, self.kge_dim)\n",
    "        else:\n",
    "            self.KGE = RESCAL(self.rel_total, self.kge_dim)\n",
    "\n",
    "    def forward(self, triples):\n",
    "        h_data, t_data, rels = triples\n",
    "\n",
    "        h_data.x = self.initial_norm(h_data.x, h_data.batch)\n",
    "        t_data.x = self.initial_norm(t_data.x, t_data.batch)\n",
    "\n",
    "        repr_h = []\n",
    "        repr_t = []\n",
    "\n",
    "        for i, block in enumerate(self.blocks):\n",
    "            out1, out2 = block(h_data), block(t_data)\n",
    "\n",
    "            h_data = out1[0]\n",
    "            t_data = out2[0]\n",
    "            r_h = out1[1]\n",
    "            r_t = out2[1]\n",
    "\n",
    "            repr_h.append(r_h)\n",
    "            repr_t.append(r_t)\n",
    "\n",
    "            h_data.x = F.elu(self.net_norms[i](h_data.x, h_data.batch))\n",
    "            t_data.x = F.elu(self.net_norms[i](t_data.x, t_data.batch))\n",
    "\n",
    "        repr_h = torch.stack(repr_h, dim=-2)\n",
    "        repr_t = torch.stack(repr_t, dim=-2)\n",
    "\n",
    "        kge_heads = repr_h\n",
    "        kge_tails = repr_t\n",
    "\n",
    "        attentions = self.co_attention(kge_heads, kge_tails)\n",
    "        # attentions = None\n",
    "        scores = self.KGE(kge_heads, kge_tails, rels, attentions)\n",
    "\n",
    "        return scores\n",
    "\n",
    "\n",
    "class SSI_DDI_Block(nn.Module):\n",
    "    def __init__(self, n_heads, in_features, head_out_feats, final_out_feats, sp_ratio, sp_min_score):\n",
    "        \"\"\"\n",
    "        n_heades: number of multi-head attentions = 2\n",
    "        in_features: number of features = 55 . For explicit valence use, number of features = 56.\n",
    "        head_out_feats: number of out features. For 4 layers: [32, 32, 32, 32]\n",
    "        sp_ratio: SAGPooling ratio\n",
    "        \"\"\"\n",
    "        super().__init__()\n",
    "        self.n_heads = n_heads\n",
    "        self.in_features = in_features\n",
    "        self.out_features = head_out_feats\n",
    "        self.conv = GATConv(in_features, head_out_feats, n_heads)\n",
    "        # SAGPooling: Ranks nodes based on self-attention scores\n",
    "\n",
    "        if sp_ratio is None and sp_min_score is None:\n",
    "            self.readout = SAGPooling(n_heads * head_out_feats, min_score=-1)\n",
    "        else:\n",
    "            if sp_ratio is not None:\n",
    "                self.readout = SAGPooling(n_heads * head_out_feats, min_score=sp_min_score, ratio=sp_ratio)\n",
    "            else:\n",
    "                self.readout = SAGPooling(n_heads * head_out_feats, min_score=sp_min_score)\n",
    "\n",
    "    def forward(self, data):\n",
    "        data.x = self.conv(data.x, data.edge_index)\n",
    "        # Call SAGPooling here\n",
    "        # If min_score = -1 so nodes will not be filtered out, basically redudant for using the SAGPooling.\n",
    "        att_x, att_edge_index, att_edge_attr, att_batch, att_perm, att_scores = (\n",
    "            self.readout(data.x, data.edge_index, batch=data.batch)\n",
    "        )\n",
    "        # Aggregates the pooled node features (att_x) across the graph to obtain a global representation\n",
    "        global_graph_emb = global_add_pool(att_x, att_batch)\n",
    "\n",
    "        # data = max_pool_neighbor_x(data)\n",
    "        return data, global_graph_emb\n"
   ]
  },
  {
   "cell_type": "code",
   "execution_count": 10,
   "metadata": {
    "id": "ZT2vnlWzR6FD"
   },
   "outputs": [],
   "source": [
    "class SigmoidLoss(nn.Module):\n",
    "    def __init__(self, adv_temperature=None):\n",
    "        super().__init__()\n",
    "        self.adv_temperature = adv_temperature\n",
    "\n",
    "    def forward(self, p_scores, n_scores):\n",
    "        if self.adv_temperature:\n",
    "            weights = F.softmax(self.adv_temperature * n_scores, dim=-1).detach()\n",
    "            n_scores = weights * n_scores\n",
    "        p_loss = -F.logsigmoid(p_scores).mean()\n",
    "        n_loss = -F.logsigmoid(-n_scores).mean()\n",
    "\n",
    "        return (p_loss + n_loss) / 2, p_loss, n_loss\n"
   ]
  },
  {
   "cell_type": "code",
   "execution_count": 11,
   "metadata": {
    "colab": {
     "base_uri": "https://localhost:8080/"
    },
    "executionInfo": {
     "elapsed": 5412,
     "status": "ok",
     "timestamp": 1729307124627,
     "user": {
      "displayName": "Nam Le",
      "userId": "10910051602335296858"
     },
     "user_tz": -420
    },
    "id": "iokMMRiStLG2",
    "outputId": "afa67e5a-4edb-4c3a-ee51-e0a261f743f6"
   },
   "outputs": [
    {
     "name": "stdout",
     "output_type": "stream",
     "text": [
      "Training with 115185 samples, validating with 38348, and testing with 38337\n"
     ]
    }
   ],
   "source": [
    "df_ddi_train = pd.read_csv(f\"{data_dir}/ddi_training.csv\")\n",
    "df_ddi_val = pd.read_csv(f\"{data_dir}/ddi_validation.csv\")\n",
    "df_ddi_test = pd.read_csv(f\"{data_dir}/ddi_test.csv\")\n",
    "\n",
    "\n",
    "train_tup = [\n",
    "    (h, t, r)\n",
    "    for h, t, r in zip(df_ddi_train[\"d1\"], df_ddi_train[\"d2\"], df_ddi_train[\"type\"])\n",
    "]\n",
    "val_tup = [\n",
    "    (h, t, r) for h, t, r in zip(df_ddi_val[\"d1\"], df_ddi_val[\"d2\"], df_ddi_val[\"type\"])\n",
    "]\n",
    "test_tup = [\n",
    "    (h, t, r)\n",
    "    for h, t, r in zip(df_ddi_test[\"d1\"], df_ddi_test[\"d2\"], df_ddi_test[\"type\"])\n",
    "]\n",
    "\n",
    "train_data = DrugDataset(train_tup, ratio=data_size_ratio, neg_ent=neg_samples)\n",
    "val_data = DrugDataset(val_tup, ratio=data_size_ratio, disjoint_split=False)\n",
    "test_data = DrugDataset(test_tup, disjoint_split=False)\n",
    "\n",
    "print(\n",
    "    f\"Training with {len(train_data)} samples, validating with {len(val_data)}, and testing with {len(test_data)}\"\n",
    ")\n",
    "\n",
    "train_data_loader = DrugDataLoader(train_data, batch_size=batch_size, shuffle=True)\n",
    "val_data_loader = DrugDataLoader(val_data, batch_size=batch_size * 3)\n",
    "test_data_loader = DrugDataLoader(test_data, batch_size=batch_size * 3)\n"
   ]
  },
  {
   "cell_type": "code",
   "execution_count": 12,
   "metadata": {
    "id": "7jJxwTGhtwRE"
   },
   "outputs": [],
   "source": [
    "def do_compute(model, batch, device, training=True):\n",
    "    \"\"\"\n",
    "    *batch: (pos_tri, neg_tri)\n",
    "    *pos/neg_tri: (batch_h, batch_t, batch_r)\n",
    "    \"\"\"\n",
    "    probas_pred, ground_truth = [], []\n",
    "    pos_tri, neg_tri = batch\n",
    "\n",
    "    pos_tri = [tensor.to(device=device) for tensor in pos_tri]\n",
    "    p_score = model(pos_tri)\n",
    "    probas_pred.append(torch.sigmoid(p_score.detach()).cpu())\n",
    "    ground_truth.append(np.ones(len(p_score)))\n",
    "\n",
    "    neg_tri = [tensor.to(device=device) for tensor in neg_tri]\n",
    "    n_score = model(neg_tri)\n",
    "    probas_pred.append(torch.sigmoid(n_score.detach()).cpu())\n",
    "    ground_truth.append(np.zeros(len(n_score)))\n",
    "\n",
    "    probas_pred = np.concatenate(probas_pred)\n",
    "    ground_truth = np.concatenate(ground_truth)\n",
    "\n",
    "    return p_score, n_score, probas_pred, ground_truth\n",
    "\n",
    "\n",
    "def do_compute_metrics(probas_pred, target):\n",
    "\n",
    "    pred = (probas_pred >= 0.5).astype(np.int64)\n",
    "\n",
    "    acc = metrics.accuracy_score(target, pred)\n",
    "    auc_roc = metrics.roc_auc_score(target, probas_pred)\n",
    "    f1_score = metrics.f1_score(target, pred)\n",
    "\n",
    "    p, r, t = metrics.precision_recall_curve(target, probas_pred)\n",
    "    auc_prc = metrics.auc(r, p)\n",
    "\n",
    "    return acc, auc_roc, auc_prc"
   ]
  },
  {
   "cell_type": "code",
   "execution_count": 13,
   "metadata": {},
   "outputs": [],
   "source": [
    "import csv\n",
    "def export_metrics(train_metrics, val_metrics, epoch):\n",
    "    train_metrics_dir = \"train_metrics\"\n",
    "    metrics_file = f\"{train_metrics_dir}/{model_name}.csv\"\n",
    "    train_loss, train_acc, train_auc_roc, train_auc_prc = train_metrics\n",
    "    val_loss, val_acc, val_auc_roc, val_auc_prc = val_metrics\n",
    "\n",
    "    data = [epoch, train_loss, train_acc, train_auc_roc, train_auc_prc, val_loss, val_acc, val_auc_roc, val_auc_prc]\n",
    "    header = [\"epoch\", \"train_loss\", \"train_acc\", \"train_auc_roc\", \"train_auc_prc\", \"val_loss\", \"val_acc\", \"val_auc_roc\", \"val_auc_prc\"]\n",
    "    \n",
    "    if epoch == 1:\n",
    "        with open(metrics_file, 'w', newline='') as file:\n",
    "            writer = csv.writer(file)\n",
    "            # Write the header\n",
    "            writer.writerow(header)\n",
    "            # Write the data rows\n",
    "            writer.writerow(data)\n",
    "    else:\n",
    "        with open(metrics_file, 'a', newline='') as file:\n",
    "            writer = csv.writer(file)\n",
    "            # Write the data to the file\n",
    "            writer.writerow(data)\n",
    "    \n",
    "    "
   ]
  },
  {
   "cell_type": "code",
   "execution_count": 14,
   "metadata": {},
   "outputs": [],
   "source": [
    "model_acc_file = f\"{model_dir}/acc/{model_name}.pth\"\n",
    "model_roc_file = f\"{model_dir}/roc/{model_name}.pth\"\n",
    "model_prc_file = f\"{model_dir}/prc/{model_name}.pth\"\n",
    "\n",
    "def save_model(best, current, met_type):\n",
    "    model_file = model_prc_file\n",
    "    if met_type == \"acc\":\n",
    "        model_file = model_acc_file\n",
    "    elif met_type == \"roc\":\n",
    "        model_file = model_roc_file\n",
    "        \n",
    "    if best < current:\n",
    "        print(f\"Saving model {met_type}\")\n",
    "        best = current\n",
    "        torch.save(model, model_file)\n",
    "    return best"
   ]
  },
  {
   "cell_type": "code",
   "execution_count": 15,
   "metadata": {
    "id": "EV5GTDPktz_h"
   },
   "outputs": [],
   "source": [
    "def train(\n",
    "    model,\n",
    "    train_data_loader,\n",
    "    val_data_loader,\n",
    "    loss_fn,\n",
    "    optimizer,\n",
    "    n_epochs,\n",
    "    device,\n",
    "    scheduler=None,\n",
    "):\n",
    "    print(\"Starting training at:\", datetime.today())\n",
    "    print(\"Device:\", device)\n",
    "    print_tunning_parameters()\n",
    "    best_val_prc = 0\n",
    "    best_val_acc = 0\n",
    "    best_val_roc = 0\n",
    "    for i in range(1, n_epochs + 1):\n",
    "        start = time.time()\n",
    "        train_loss = 0\n",
    "        train_loss_pos = 0\n",
    "        train_loss_neg = 0\n",
    "        val_loss = 0\n",
    "        val_loss_pos = 0\n",
    "        val_loss_neg = 0\n",
    "        train_probas_pred = []\n",
    "        train_ground_truth = []\n",
    "        val_probas_pred = []\n",
    "        val_ground_truth = []\n",
    "\n",
    "        for batch in train_data_loader:\n",
    "            # print(len(batch))\n",
    "            model.train()\n",
    "            p_score, n_score, probas_pred, ground_truth = do_compute(model, batch, device)\n",
    "            train_probas_pred.append(probas_pred)\n",
    "            train_ground_truth.append(ground_truth)\n",
    "            loss, loss_p, loss_n = loss_fn(p_score, n_score)\n",
    "\n",
    "            optimizer.zero_grad()\n",
    "            loss.backward()\n",
    "            optimizer.step()\n",
    "\n",
    "            train_loss += loss.item() * len(p_score)\n",
    "        train_loss /= len(train_data)\n",
    "\n",
    "        with torch.no_grad():\n",
    "            train_probas_pred = np.concatenate(train_probas_pred)\n",
    "            train_ground_truth = np.concatenate(train_ground_truth)\n",
    "\n",
    "            train_acc, train_auc_roc, train_auc_prc = do_compute_metrics(\n",
    "                train_probas_pred, train_ground_truth\n",
    "            )\n",
    "\n",
    "            for batch in val_data_loader:\n",
    "                model.eval()\n",
    "                p_score, n_score, probas_pred, ground_truth = do_compute(model, batch, device)\n",
    "                val_probas_pred.append(probas_pred)\n",
    "                val_ground_truth.append(ground_truth)\n",
    "                loss, loss_p, loss_n = loss_fn(p_score, n_score)\n",
    "                val_loss += loss.item() * len(p_score)\n",
    "\n",
    "            val_loss /= len(val_data)\n",
    "            val_probas_pred = np.concatenate(val_probas_pred)\n",
    "            val_ground_truth = np.concatenate(val_ground_truth)\n",
    "            val_acc, val_auc_roc, val_auc_prc = do_compute_metrics(\n",
    "                val_probas_pred, val_ground_truth\n",
    "            )\n",
    "            \n",
    "            # Save model if this is the best so far\n",
    "            best_val_prc = save_model(best_val_prc, val_auc_prc, \"prc\")\n",
    "            best_val_acc = save_model(best_val_acc, val_acc, \"acc\")\n",
    "            best_val_roc = save_model(best_val_roc, val_auc_roc, \"roc\")\n",
    "\n",
    "        if scheduler:\n",
    "            # print('scheduling')\n",
    "            scheduler.step()\n",
    "\n",
    "        # Exporting metrics for later plots\n",
    "        train_metrics = (train_loss, train_acc, train_auc_roc, train_auc_prc)\n",
    "        val_metrics = (val_loss, val_acc, val_auc_roc, val_auc_prc)\n",
    "        export_metrics(train_metrics, val_metrics, i)\n",
    "        \n",
    "        print(\n",
    "            f\"Epoch: {i} ({time.time() - start:.4f}s), train_loss: {train_loss:.4f}, val_loss: {val_loss:.4f},\"\n",
    "            f\" train_acc: {train_acc:.4f}, val_acc:{val_acc:.4f}\"\n",
    "        )\n",
    "        print(\n",
    "            f\"\\t\\ttrain_roc: {train_auc_roc:.4f}, val_roc: {val_auc_roc:.4f}, train_auprc: {train_auc_prc:.4f}, val_auprc: {val_auc_prc:.4f}\"\n",
    "        )\n",
    "\n",
    "    return model"
   ]
  },
  {
   "cell_type": "code",
   "execution_count": 16,
   "metadata": {
    "id": "ZwBcoUHEuAtJ"
   },
   "outputs": [],
   "source": [
    "def predict(model, test_data_loader, device):\n",
    "    print('Starting predicting at', datetime.today())\n",
    "    print('Device', device)\n",
    "\n",
    "    test_probas_pred = []\n",
    "    test_ground_truth = []\n",
    "\n",
    "    # Switch to evaluation mode\n",
    "    model.eval()\n",
    "\n",
    "    with torch.no_grad():  # No need to calculate gradients during testing\n",
    "        for batch in test_data_loader:\n",
    "            # Get predictions and ground truth for the batch\n",
    "            p_score, n_score, probas_pred, ground_truth = do_compute(model, batch, device, training=False)\n",
    "\n",
    "            # Append the predictions and ground truths\n",
    "            test_probas_pred.append(probas_pred)\n",
    "            test_ground_truth.append(ground_truth)\n",
    "\n",
    "\n",
    "    # Concatenate the results for the entire test dataset\n",
    "    test_probas_pred = np.concatenate(test_probas_pred)\n",
    "    test_ground_truth = np.concatenate(test_ground_truth)\n",
    "\n",
    "    # Calculate the metrics for the test dataset\n",
    "    test_acc, test_auc_roc, test_auc_prc = do_compute_metrics(test_probas_pred, test_ground_truth)\n",
    "\n",
    "    print(f'Test Accuracy: {test_acc:.4f}')\n",
    "    print(f'Test ROC AUC: {test_auc_roc:.4f}')\n",
    "    print(f'Test PRC AUC: {test_auc_prc:.4f}')"
   ]
  },
  {
   "cell_type": "code",
   "execution_count": 17,
   "metadata": {
    "colab": {
     "base_uri": "https://localhost:8080/"
    },
    "executionInfo": {
     "elapsed": 722,
     "status": "ok",
     "timestamp": 1729307125347,
     "user": {
      "displayName": "Nam Le",
      "userId": "10910051602335296858"
     },
     "user_tz": -420
    },
    "id": "PQ1H7udUuFMT",
    "outputId": "4519f4c7-6ad4-4d20-b66d-a5f26cdab691"
   },
   "outputs": [
    {
     "name": "stdout",
     "output_type": "stream",
     "text": [
      "SSI_DDI(\n",
      "  (initial_norm): LayerNorm(55, affine=True, mode=graph)\n",
      "  (net_norms): ModuleList(\n",
      "    (0-4): 5 x LayerNorm(64, affine=True, mode=graph)\n",
      "  )\n",
      "  (block0): SSI_DDI_Block(\n",
      "    (conv): GATConv(55, 32, heads=2)\n",
      "    (readout): SAGPooling(GraphConv, 64, min_score=-1, multiplier=1.0)\n",
      "  )\n",
      "  (block1): SSI_DDI_Block(\n",
      "    (conv): GATConv(64, 32, heads=2)\n",
      "    (readout): SAGPooling(GraphConv, 64, min_score=-1, multiplier=1.0)\n",
      "  )\n",
      "  (block2): SSI_DDI_Block(\n",
      "    (conv): GATConv(64, 32, heads=2)\n",
      "    (readout): SAGPooling(GraphConv, 64, min_score=-1, multiplier=1.0)\n",
      "  )\n",
      "  (block3): SSI_DDI_Block(\n",
      "    (conv): GATConv(64, 32, heads=2)\n",
      "    (readout): SAGPooling(GraphConv, 64, min_score=-1, multiplier=1.0)\n",
      "  )\n",
      "  (block4): SSI_DDI_Block(\n",
      "    (conv): GATConv(64, 32, heads=2)\n",
      "    (readout): SAGPooling(GraphConv, 64, min_score=-1, multiplier=1.0)\n",
      "  )\n",
      "  (co_attention): MultiheadCoAttentionLayer(\n",
      "    (W_q): ParameterList(\n",
      "        (0): Parameter containing: [torch.float32 of size 64x32]\n",
      "        (1): Parameter containing: [torch.float32 of size 64x32]\n",
      "        (2): Parameter containing: [torch.float32 of size 64x32]\n",
      "        (3): Parameter containing: [torch.float32 of size 64x32]\n",
      "    )\n",
      "    (W_k): ParameterList(\n",
      "        (0): Parameter containing: [torch.float32 of size 64x32]\n",
      "        (1): Parameter containing: [torch.float32 of size 64x32]\n",
      "        (2): Parameter containing: [torch.float32 of size 64x32]\n",
      "        (3): Parameter containing: [torch.float32 of size 64x32]\n",
      "    )\n",
      "    (bias): ParameterList(\n",
      "        (0): Parameter containing: [torch.float32 of size 32]\n",
      "        (1): Parameter containing: [torch.float32 of size 32]\n",
      "        (2): Parameter containing: [torch.float32 of size 32]\n",
      "        (3): Parameter containing: [torch.float32 of size 32]\n",
      "    )\n",
      "    (dropout): Dropout(p=0.1, inplace=False)\n",
      "  )\n",
      "  (KGE): RESCAL(86, torch.Size([86, 4096]))\n",
      ")\n"
     ]
    }
   ],
   "source": [
    "heads_out_feat_params = []\n",
    "block_params = []\n",
    "\n",
    "for _ in range(num_GAT_layers):\n",
    "    heads_out_feat_params.append(kge_dim // 2)\n",
    "    block_params.append(num_GAT_multiheads)\n",
    "\n",
    "if mode == \"train\":\n",
    "    model = SSI_DDI(\n",
    "        n_atom_feats,\n",
    "        n_atom_hid,\n",
    "        kge_dim,\n",
    "        rel_total,\n",
    "        heads_out_feat_params=heads_out_feat_params,\n",
    "        blocks_params=block_params,\n",
    "        sp_ratio=sp_ratio,\n",
    "        use_activation_fn=use_activation_fn,\n",
    "        use_ComplEx=use_ComplEx,\n",
    "        sp_min_score=sp_min_score,\n",
    "        co_attention_method=co_attention_method,\n",
    "    )\n",
    "    loss = SigmoidLoss()\n",
    "    optimizer = optim.Adam(model.parameters(), lr=lr, weight_decay=weight_decay)\n",
    "    scheduler = optim.lr_scheduler.LambdaLR(optimizer, lambda epoch: 0.96 ** (epoch))\n",
    "    print(model)\n",
    "    model.to(device=device)"
   ]
  },
  {
   "cell_type": "code",
   "execution_count": 18,
   "metadata": {
    "colab": {
     "base_uri": "https://localhost:8080/"
    },
    "id": "JvcD5xd_uVbL",
    "outputId": "20e29f96-e964-4647-8a0e-5f46bed80a06"
   },
   "outputs": [
    {
     "name": "stdout",
     "output_type": "stream",
     "text": [
      "Starting training at: 2024-10-25 06:38:04.903860\n",
      "Device: cuda\n",
      "\n",
      "####### Tunning parameters #######\n",
      "\n",
      "n_epochs = 300\n",
      "use_cuda = True\n",
      "\n",
      "num_GAT_layers =  5\n",
      "num_GAT_multiheads =  2\n",
      "\n",
      "sp_ratio = None\n",
      "sp_min_score = None\n",
      "\n",
      "use_explicit_valence = False\n",
      "\n",
      "use_activation_fn = False\n",
      "\n",
      "use_ComplEx = False\n",
      "\n",
      "co_attention_method = multihead\n",
      "\n",
      "#################################\n",
      "\n"
     ]
    },
    {
     "name": "stderr",
     "output_type": "stream",
     "text": [
      "/home/namle/.local/lib/python3.10/site-packages/torch_geometric/warnings.py:11: UserWarning: The usage of `scatter(reduce='max')` can be accelerated via the 'torch-scatter' package, but it was not found\n",
      "  warnings.warn(message)\n"
     ]
    },
    {
     "name": "stdout",
     "output_type": "stream",
     "text": [
      "Saving model prc\n",
      "Saving model acc\n",
      "Saving model roc\n",
      "Epoch: 1 (68.8637s), train_loss: 0.6728, val_loss: 0.6236, train_acc: 0.5678, val_acc:0.6483\n",
      "\t\ttrain_roc: 0.6053, val_roc: 0.7064, train_auprc: 0.5950, val_auprc: 0.6850\n"
     ]
    },
    {
     "name": "stderr",
     "output_type": "stream",
     "text": [
      "/home/namle/.local/lib/python3.10/site-packages/torch_geometric/warnings.py:11: UserWarning: The usage of `scatter(reduce='max')` can be accelerated via the 'torch-scatter' package, but it was not found\n",
      "  warnings.warn(message)\n"
     ]
    },
    {
     "name": "stdout",
     "output_type": "stream",
     "text": [
      "Saving model prc\n",
      "Saving model acc\n",
      "Saving model roc\n",
      "Epoch: 2 (68.3580s), train_loss: 0.5897, val_loss: 0.5678, train_acc: 0.6785, val_acc:0.7016\n",
      "\t\ttrain_roc: 0.7476, val_roc: 0.7722, train_auprc: 0.7281, val_auprc: 0.7508\n"
     ]
    },
    {
     "name": "stderr",
     "output_type": "stream",
     "text": [
      "/home/namle/.local/lib/python3.10/site-packages/torch_geometric/warnings.py:11: UserWarning: The usage of `scatter(reduce='max')` can be accelerated via the 'torch-scatter' package, but it was not found\n",
      "  warnings.warn(message)\n"
     ]
    },
    {
     "name": "stdout",
     "output_type": "stream",
     "text": [
      "Saving model prc\n",
      "Saving model acc\n",
      "Saving model roc\n",
      "Epoch: 3 (70.3000s), train_loss: 0.5502, val_loss: 0.5408, train_acc: 0.7151, val_acc:0.7271\n",
      "\t\ttrain_roc: 0.7893, val_roc: 0.7999, train_auprc: 0.7677, val_auprc: 0.7760\n"
     ]
    },
    {
     "name": "stderr",
     "output_type": "stream",
     "text": [
      "/home/namle/.local/lib/python3.10/site-packages/torch_geometric/warnings.py:11: UserWarning: The usage of `scatter(reduce='max')` can be accelerated via the 'torch-scatter' package, but it was not found\n",
      "  warnings.warn(message)\n"
     ]
    },
    {
     "name": "stdout",
     "output_type": "stream",
     "text": [
      "Saving model prc\n",
      "Saving model acc\n",
      "Saving model roc\n",
      "Epoch: 4 (67.9690s), train_loss: 0.5250, val_loss: 0.5108, train_acc: 0.7345, val_acc:0.7464\n",
      "\t\ttrain_roc: 0.8114, val_roc: 0.8242, train_auprc: 0.7901, val_auprc: 0.8008\n"
     ]
    },
    {
     "name": "stderr",
     "output_type": "stream",
     "text": [
      "/home/namle/.local/lib/python3.10/site-packages/torch_geometric/warnings.py:11: UserWarning: The usage of `scatter(reduce='max')` can be accelerated via the 'torch-scatter' package, but it was not found\n",
      "  warnings.warn(message)\n"
     ]
    },
    {
     "name": "stdout",
     "output_type": "stream",
     "text": [
      "Saving model prc\n",
      "Saving model acc\n",
      "Saving model roc\n",
      "Epoch: 5 (72.2303s), train_loss: 0.5079, val_loss: 0.5011, train_acc: 0.7487, val_acc:0.7538\n",
      "\t\ttrain_roc: 0.8260, val_roc: 0.8336, train_auprc: 0.8041, val_auprc: 0.8144\n"
     ]
    },
    {
     "name": "stderr",
     "output_type": "stream",
     "text": [
      "/home/namle/.local/lib/python3.10/site-packages/torch_geometric/warnings.py:11: UserWarning: The usage of `scatter(reduce='max')` can be accelerated via the 'torch-scatter' package, but it was not found\n",
      "  warnings.warn(message)\n"
     ]
    },
    {
     "name": "stdout",
     "output_type": "stream",
     "text": [
      "Saving model prc\n",
      "Saving model acc\n",
      "Saving model roc\n",
      "Epoch: 6 (67.4617s), train_loss: 0.4935, val_loss: 0.4866, train_acc: 0.7601, val_acc:0.7633\n",
      "\t\ttrain_roc: 0.8374, val_roc: 0.8441, train_auprc: 0.8160, val_auprc: 0.8237\n"
     ]
    },
    {
     "name": "stderr",
     "output_type": "stream",
     "text": [
      "/home/namle/.local/lib/python3.10/site-packages/torch_geometric/warnings.py:11: UserWarning: The usage of `scatter(reduce='max')` can be accelerated via the 'torch-scatter' package, but it was not found\n",
      "  warnings.warn(message)\n"
     ]
    },
    {
     "name": "stdout",
     "output_type": "stream",
     "text": [
      "Saving model prc\n",
      "Saving model acc\n",
      "Saving model roc\n",
      "Epoch: 7 (66.0832s), train_loss: 0.4841, val_loss: 0.4789, train_acc: 0.7668, val_acc:0.7702\n",
      "\t\ttrain_roc: 0.8449, val_roc: 0.8488, train_auprc: 0.8237, val_auprc: 0.8269\n"
     ]
    },
    {
     "name": "stderr",
     "output_type": "stream",
     "text": [
      "/home/namle/.local/lib/python3.10/site-packages/torch_geometric/warnings.py:11: UserWarning: The usage of `scatter(reduce='max')` can be accelerated via the 'torch-scatter' package, but it was not found\n",
      "  warnings.warn(message)\n"
     ]
    },
    {
     "name": "stdout",
     "output_type": "stream",
     "text": [
      "Saving model prc\n",
      "Saving model acc\n",
      "Saving model roc\n",
      "Epoch: 8 (65.9168s), train_loss: 0.4742, val_loss: 0.4725, train_acc: 0.7724, val_acc:0.7771\n",
      "\t\ttrain_roc: 0.8518, val_roc: 0.8546, train_auprc: 0.8322, val_auprc: 0.8333\n"
     ]
    },
    {
     "name": "stderr",
     "output_type": "stream",
     "text": [
      "/home/namle/.local/lib/python3.10/site-packages/torch_geometric/warnings.py:11: UserWarning: The usage of `scatter(reduce='max')` can be accelerated via the 'torch-scatter' package, but it was not found\n",
      "  warnings.warn(message)\n"
     ]
    },
    {
     "name": "stdout",
     "output_type": "stream",
     "text": [
      "Saving model prc\n",
      "Saving model acc\n",
      "Saving model roc\n",
      "Epoch: 9 (68.4517s), train_loss: 0.4627, val_loss: 0.4593, train_acc: 0.7815, val_acc:0.7844\n",
      "\t\ttrain_roc: 0.8600, val_roc: 0.8645, train_auprc: 0.8394, val_auprc: 0.8470\n"
     ]
    },
    {
     "name": "stderr",
     "output_type": "stream",
     "text": [
      "/home/namle/.local/lib/python3.10/site-packages/torch_geometric/warnings.py:11: UserWarning: The usage of `scatter(reduce='max')` can be accelerated via the 'torch-scatter' package, but it was not found\n",
      "  warnings.warn(message)\n"
     ]
    },
    {
     "name": "stdout",
     "output_type": "stream",
     "text": [
      "Saving model prc\n",
      "Saving model acc\n",
      "Saving model roc\n",
      "Epoch: 10 (66.1343s), train_loss: 0.4509, val_loss: 0.4460, train_acc: 0.7898, val_acc:0.7917\n",
      "\t\ttrain_roc: 0.8678, val_roc: 0.8712, train_auprc: 0.8485, val_auprc: 0.8519\n"
     ]
    },
    {
     "name": "stderr",
     "output_type": "stream",
     "text": [
      "/home/namle/.local/lib/python3.10/site-packages/torch_geometric/warnings.py:11: UserWarning: The usage of `scatter(reduce='max')` can be accelerated via the 'torch-scatter' package, but it was not found\n",
      "  warnings.warn(message)\n"
     ]
    },
    {
     "name": "stdout",
     "output_type": "stream",
     "text": [
      "Saving model prc\n",
      "Saving model acc\n",
      "Saving model roc\n",
      "Epoch: 11 (66.2620s), train_loss: 0.4457, val_loss: 0.4390, train_acc: 0.7930, val_acc:0.7978\n",
      "\t\ttrain_roc: 0.8711, val_roc: 0.8747, train_auprc: 0.8521, val_auprc: 0.8528\n"
     ]
    },
    {
     "name": "stderr",
     "output_type": "stream",
     "text": [
      "/home/namle/.local/lib/python3.10/site-packages/torch_geometric/warnings.py:11: UserWarning: The usage of `scatter(reduce='max')` can be accelerated via the 'torch-scatter' package, but it was not found\n",
      "  warnings.warn(message)\n"
     ]
    },
    {
     "name": "stdout",
     "output_type": "stream",
     "text": [
      "Saving model prc\n",
      "Saving model roc\n",
      "Epoch: 12 (65.9639s), train_loss: 0.4365, val_loss: 0.4377, train_acc: 0.7987, val_acc:0.7958\n",
      "\t\ttrain_roc: 0.8767, val_roc: 0.8769, train_auprc: 0.8571, val_auprc: 0.8589\n"
     ]
    },
    {
     "name": "stderr",
     "output_type": "stream",
     "text": [
      "/home/namle/.local/lib/python3.10/site-packages/torch_geometric/warnings.py:11: UserWarning: The usage of `scatter(reduce='max')` can be accelerated via the 'torch-scatter' package, but it was not found\n",
      "  warnings.warn(message)\n"
     ]
    },
    {
     "name": "stdout",
     "output_type": "stream",
     "text": [
      "Saving model prc\n",
      "Saving model acc\n",
      "Saving model roc\n",
      "Epoch: 13 (66.0536s), train_loss: 0.4277, val_loss: 0.4310, train_acc: 0.8047, val_acc:0.8028\n",
      "\t\ttrain_roc: 0.8821, val_roc: 0.8803, train_auprc: 0.8625, val_auprc: 0.8597\n"
     ]
    },
    {
     "name": "stderr",
     "output_type": "stream",
     "text": [
      "/home/namle/.local/lib/python3.10/site-packages/torch_geometric/warnings.py:11: UserWarning: The usage of `scatter(reduce='max')` can be accelerated via the 'torch-scatter' package, but it was not found\n",
      "  warnings.warn(message)\n"
     ]
    },
    {
     "name": "stdout",
     "output_type": "stream",
     "text": [
      "Saving model prc\n",
      "Saving model acc\n",
      "Saving model roc\n",
      "Epoch: 14 (66.0716s), train_loss: 0.4225, val_loss: 0.4293, train_acc: 0.8095, val_acc:0.8052\n",
      "\t\ttrain_roc: 0.8854, val_roc: 0.8825, train_auprc: 0.8651, val_auprc: 0.8622\n"
     ]
    },
    {
     "name": "stderr",
     "output_type": "stream",
     "text": [
      "/home/namle/.local/lib/python3.10/site-packages/torch_geometric/warnings.py:11: UserWarning: The usage of `scatter(reduce='max')` can be accelerated via the 'torch-scatter' package, but it was not found\n",
      "  warnings.warn(message)\n"
     ]
    },
    {
     "name": "stdout",
     "output_type": "stream",
     "text": [
      "Saving model prc\n",
      "Saving model acc\n",
      "Epoch: 15 (66.1534s), train_loss: 0.4153, val_loss: 0.4269, train_acc: 0.8124, val_acc:0.8059\n",
      "\t\ttrain_roc: 0.8893, val_roc: 0.8823, train_auprc: 0.8702, val_auprc: 0.8623\n"
     ]
    },
    {
     "name": "stderr",
     "output_type": "stream",
     "text": [
      "/home/namle/.local/lib/python3.10/site-packages/torch_geometric/warnings.py:11: UserWarning: The usage of `scatter(reduce='max')` can be accelerated via the 'torch-scatter' package, but it was not found\n",
      "  warnings.warn(message)\n"
     ]
    },
    {
     "name": "stdout",
     "output_type": "stream",
     "text": [
      "Saving model prc\n",
      "Saving model acc\n",
      "Saving model roc\n",
      "Epoch: 16 (66.1583s), train_loss: 0.4099, val_loss: 0.4111, train_acc: 0.8162, val_acc:0.8157\n",
      "\t\ttrain_roc: 0.8921, val_roc: 0.8916, train_auprc: 0.8724, val_auprc: 0.8720\n"
     ]
    },
    {
     "name": "stderr",
     "output_type": "stream",
     "text": [
      "/home/namle/.local/lib/python3.10/site-packages/torch_geometric/warnings.py:11: UserWarning: The usage of `scatter(reduce='max')` can be accelerated via the 'torch-scatter' package, but it was not found\n",
      "  warnings.warn(message)\n"
     ]
    },
    {
     "name": "stdout",
     "output_type": "stream",
     "text": [
      "Epoch: 17 (66.2639s), train_loss: 0.4032, val_loss: 0.4151, train_acc: 0.8193, val_acc:0.8133\n",
      "\t\ttrain_roc: 0.8956, val_roc: 0.8896, train_auprc: 0.8769, val_auprc: 0.8697\n"
     ]
    },
    {
     "name": "stderr",
     "output_type": "stream",
     "text": [
      "/home/namle/.local/lib/python3.10/site-packages/torch_geometric/warnings.py:11: UserWarning: The usage of `scatter(reduce='max')` can be accelerated via the 'torch-scatter' package, but it was not found\n",
      "  warnings.warn(message)\n"
     ]
    },
    {
     "name": "stdout",
     "output_type": "stream",
     "text": [
      "Saving model prc\n",
      "Saving model acc\n",
      "Saving model roc\n",
      "Epoch: 18 (66.0848s), train_loss: 0.3989, val_loss: 0.4018, train_acc: 0.8217, val_acc:0.8223\n",
      "\t\ttrain_roc: 0.8981, val_roc: 0.8979, train_auprc: 0.8797, val_auprc: 0.8768\n"
     ]
    },
    {
     "name": "stderr",
     "output_type": "stream",
     "text": [
      "/home/namle/.local/lib/python3.10/site-packages/torch_geometric/warnings.py:11: UserWarning: The usage of `scatter(reduce='max')` can be accelerated via the 'torch-scatter' package, but it was not found\n",
      "  warnings.warn(message)\n"
     ]
    },
    {
     "name": "stdout",
     "output_type": "stream",
     "text": [
      "Saving model prc\n",
      "Saving model acc\n",
      "Saving model roc\n",
      "Epoch: 19 (65.9546s), train_loss: 0.3952, val_loss: 0.3995, train_acc: 0.8240, val_acc:0.8234\n",
      "\t\ttrain_roc: 0.9000, val_roc: 0.8982, train_auprc: 0.8817, val_auprc: 0.8796\n"
     ]
    },
    {
     "name": "stderr",
     "output_type": "stream",
     "text": [
      "/home/namle/.local/lib/python3.10/site-packages/torch_geometric/warnings.py:11: UserWarning: The usage of `scatter(reduce='max')` can be accelerated via the 'torch-scatter' package, but it was not found\n",
      "  warnings.warn(message)\n"
     ]
    },
    {
     "name": "stdout",
     "output_type": "stream",
     "text": [
      "Saving model prc\n",
      "Saving model acc\n",
      "Saving model roc\n",
      "Epoch: 20 (66.2170s), train_loss: 0.3911, val_loss: 0.3954, train_acc: 0.8272, val_acc:0.8251\n",
      "\t\ttrain_roc: 0.9023, val_roc: 0.8998, train_auprc: 0.8833, val_auprc: 0.8807\n"
     ]
    },
    {
     "name": "stderr",
     "output_type": "stream",
     "text": [
      "/home/namle/.local/lib/python3.10/site-packages/torch_geometric/warnings.py:11: UserWarning: The usage of `scatter(reduce='max')` can be accelerated via the 'torch-scatter' package, but it was not found\n",
      "  warnings.warn(message)\n"
     ]
    },
    {
     "name": "stdout",
     "output_type": "stream",
     "text": [
      "Saving model prc\n",
      "Saving model acc\n",
      "Saving model roc\n",
      "Epoch: 21 (65.9614s), train_loss: 0.3860, val_loss: 0.3885, train_acc: 0.8307, val_acc:0.8298\n",
      "\t\ttrain_roc: 0.9049, val_roc: 0.9037, train_auprc: 0.8861, val_auprc: 0.8861\n"
     ]
    },
    {
     "name": "stderr",
     "output_type": "stream",
     "text": [
      "/home/namle/.local/lib/python3.10/site-packages/torch_geometric/warnings.py:11: UserWarning: The usage of `scatter(reduce='max')` can be accelerated via the 'torch-scatter' package, but it was not found\n",
      "  warnings.warn(message)\n"
     ]
    },
    {
     "name": "stdout",
     "output_type": "stream",
     "text": [
      "Epoch: 22 (66.0998s), train_loss: 0.3808, val_loss: 0.3912, train_acc: 0.8332, val_acc:0.8263\n",
      "\t\ttrain_roc: 0.9073, val_roc: 0.9018, train_auprc: 0.8890, val_auprc: 0.8827\n"
     ]
    },
    {
     "name": "stderr",
     "output_type": "stream",
     "text": [
      "/home/namle/.local/lib/python3.10/site-packages/torch_geometric/warnings.py:11: UserWarning: The usage of `scatter(reduce='max')` can be accelerated via the 'torch-scatter' package, but it was not found\n",
      "  warnings.warn(message)\n"
     ]
    },
    {
     "name": "stdout",
     "output_type": "stream",
     "text": [
      "Saving model prc\n",
      "Saving model acc\n",
      "Saving model roc\n",
      "Epoch: 23 (65.9393s), train_loss: 0.3771, val_loss: 0.3856, train_acc: 0.8362, val_acc:0.8312\n",
      "\t\ttrain_roc: 0.9095, val_roc: 0.9052, train_auprc: 0.8914, val_auprc: 0.8866\n"
     ]
    },
    {
     "name": "stderr",
     "output_type": "stream",
     "text": [
      "/home/namle/.local/lib/python3.10/site-packages/torch_geometric/warnings.py:11: UserWarning: The usage of `scatter(reduce='max')` can be accelerated via the 'torch-scatter' package, but it was not found\n",
      "  warnings.warn(message)\n"
     ]
    },
    {
     "name": "stdout",
     "output_type": "stream",
     "text": [
      "Saving model prc\n",
      "Saving model acc\n",
      "Saving model roc\n",
      "Epoch: 24 (66.1213s), train_loss: 0.3722, val_loss: 0.3747, train_acc: 0.8398, val_acc:0.8355\n",
      "\t\ttrain_roc: 0.9118, val_roc: 0.9109, train_auprc: 0.8940, val_auprc: 0.8936\n"
     ]
    },
    {
     "name": "stderr",
     "output_type": "stream",
     "text": [
      "/home/namle/.local/lib/python3.10/site-packages/torch_geometric/warnings.py:11: UserWarning: The usage of `scatter(reduce='max')` can be accelerated via the 'torch-scatter' package, but it was not found\n",
      "  warnings.warn(message)\n"
     ]
    },
    {
     "name": "stdout",
     "output_type": "stream",
     "text": [
      "Epoch: 25 (65.9861s), train_loss: 0.3662, val_loss: 0.3767, train_acc: 0.8413, val_acc:0.8343\n",
      "\t\ttrain_roc: 0.9145, val_roc: 0.9097, train_auprc: 0.8977, val_auprc: 0.8923\n"
     ]
    },
    {
     "name": "stderr",
     "output_type": "stream",
     "text": [
      "/home/namle/.local/lib/python3.10/site-packages/torch_geometric/warnings.py:11: UserWarning: The usage of `scatter(reduce='max')` can be accelerated via the 'torch-scatter' package, but it was not found\n",
      "  warnings.warn(message)\n"
     ]
    },
    {
     "name": "stdout",
     "output_type": "stream",
     "text": [
      "Saving model prc\n",
      "Saving model acc\n",
      "Saving model roc\n",
      "Epoch: 26 (65.9494s), train_loss: 0.3662, val_loss: 0.3719, train_acc: 0.8411, val_acc:0.8400\n",
      "\t\ttrain_roc: 0.9142, val_roc: 0.9126, train_auprc: 0.8965, val_auprc: 0.8965\n"
     ]
    },
    {
     "name": "stderr",
     "output_type": "stream",
     "text": [
      "/home/namle/.local/lib/python3.10/site-packages/torch_geometric/warnings.py:11: UserWarning: The usage of `scatter(reduce='max')` can be accelerated via the 'torch-scatter' package, but it was not found\n",
      "  warnings.warn(message)\n"
     ]
    },
    {
     "name": "stdout",
     "output_type": "stream",
     "text": [
      "Saving model prc\n",
      "Saving model roc\n",
      "Epoch: 27 (65.9116s), train_loss: 0.3607, val_loss: 0.3700, train_acc: 0.8446, val_acc:0.8360\n",
      "\t\ttrain_roc: 0.9170, val_roc: 0.9134, train_auprc: 0.8995, val_auprc: 0.8981\n"
     ]
    },
    {
     "name": "stderr",
     "output_type": "stream",
     "text": [
      "/home/namle/.local/lib/python3.10/site-packages/torch_geometric/warnings.py:11: UserWarning: The usage of `scatter(reduce='max')` can be accelerated via the 'torch-scatter' package, but it was not found\n",
      "  warnings.warn(message)\n"
     ]
    },
    {
     "name": "stdout",
     "output_type": "stream",
     "text": [
      "Saving model prc\n",
      "Saving model acc\n",
      "Saving model roc\n",
      "Epoch: 28 (66.1989s), train_loss: 0.3567, val_loss: 0.3624, train_acc: 0.8477, val_acc:0.8454\n",
      "\t\ttrain_roc: 0.9189, val_roc: 0.9168, train_auprc: 0.9022, val_auprc: 0.9006\n"
     ]
    },
    {
     "name": "stderr",
     "output_type": "stream",
     "text": [
      "/home/namle/.local/lib/python3.10/site-packages/torch_geometric/warnings.py:11: UserWarning: The usage of `scatter(reduce='max')` can be accelerated via the 'torch-scatter' package, but it was not found\n",
      "  warnings.warn(message)\n"
     ]
    },
    {
     "name": "stdout",
     "output_type": "stream",
     "text": [
      "Saving model prc\n",
      "Epoch: 29 (66.0779s), train_loss: 0.3530, val_loss: 0.3621, train_acc: 0.8500, val_acc:0.8446\n",
      "\t\ttrain_roc: 0.9206, val_roc: 0.9168, train_auprc: 0.9039, val_auprc: 0.9006\n"
     ]
    },
    {
     "name": "stderr",
     "output_type": "stream",
     "text": [
      "/home/namle/.local/lib/python3.10/site-packages/torch_geometric/warnings.py:11: UserWarning: The usage of `scatter(reduce='max')` can be accelerated via the 'torch-scatter' package, but it was not found\n",
      "  warnings.warn(message)\n"
     ]
    },
    {
     "name": "stdout",
     "output_type": "stream",
     "text": [
      "Saving model prc\n",
      "Saving model acc\n",
      "Saving model roc\n",
      "Epoch: 30 (65.9575s), train_loss: 0.3531, val_loss: 0.3569, train_acc: 0.8505, val_acc:0.8482\n",
      "\t\ttrain_roc: 0.9205, val_roc: 0.9189, train_auprc: 0.9028, val_auprc: 0.9032\n"
     ]
    },
    {
     "name": "stderr",
     "output_type": "stream",
     "text": [
      "/home/namle/.local/lib/python3.10/site-packages/torch_geometric/warnings.py:11: UserWarning: The usage of `scatter(reduce='max')` can be accelerated via the 'torch-scatter' package, but it was not found\n",
      "  warnings.warn(message)\n"
     ]
    },
    {
     "name": "stdout",
     "output_type": "stream",
     "text": [
      "Saving model prc\n",
      "Saving model roc\n",
      "Epoch: 31 (65.9631s), train_loss: 0.3469, val_loss: 0.3567, train_acc: 0.8530, val_acc:0.8472\n",
      "\t\ttrain_roc: 0.9231, val_roc: 0.9196, train_auprc: 0.9068, val_auprc: 0.9040\n"
     ]
    },
    {
     "name": "stderr",
     "output_type": "stream",
     "text": [
      "/home/namle/.local/lib/python3.10/site-packages/torch_geometric/warnings.py:11: UserWarning: The usage of `scatter(reduce='max')` can be accelerated via the 'torch-scatter' package, but it was not found\n",
      "  warnings.warn(message)\n"
     ]
    },
    {
     "name": "stdout",
     "output_type": "stream",
     "text": [
      "Saving model prc\n",
      "Saving model acc\n",
      "Saving model roc\n",
      "Epoch: 32 (65.8787s), train_loss: 0.3442, val_loss: 0.3493, train_acc: 0.8545, val_acc:0.8522\n",
      "\t\ttrain_roc: 0.9242, val_roc: 0.9222, train_auprc: 0.9076, val_auprc: 0.9062\n"
     ]
    },
    {
     "name": "stderr",
     "output_type": "stream",
     "text": [
      "/home/namle/.local/lib/python3.10/site-packages/torch_geometric/warnings.py:11: UserWarning: The usage of `scatter(reduce='max')` can be accelerated via the 'torch-scatter' package, but it was not found\n",
      "  warnings.warn(message)\n"
     ]
    },
    {
     "name": "stdout",
     "output_type": "stream",
     "text": [
      "Saving model prc\n",
      "Saving model roc\n",
      "Epoch: 33 (66.2175s), train_loss: 0.3398, val_loss: 0.3491, train_acc: 0.8566, val_acc:0.8512\n",
      "\t\ttrain_roc: 0.9261, val_roc: 0.9229, train_auprc: 0.9097, val_auprc: 0.9082\n"
     ]
    },
    {
     "name": "stderr",
     "output_type": "stream",
     "text": [
      "/home/namle/.local/lib/python3.10/site-packages/torch_geometric/warnings.py:11: UserWarning: The usage of `scatter(reduce='max')` can be accelerated via the 'torch-scatter' package, but it was not found\n",
      "  warnings.warn(message)\n"
     ]
    },
    {
     "name": "stdout",
     "output_type": "stream",
     "text": [
      "Saving model acc\n",
      "Saving model roc\n",
      "Epoch: 34 (65.9589s), train_loss: 0.3371, val_loss: 0.3471, train_acc: 0.8580, val_acc:0.8530\n",
      "\t\ttrain_roc: 0.9274, val_roc: 0.9238, train_auprc: 0.9120, val_auprc: 0.9079\n"
     ]
    },
    {
     "name": "stderr",
     "output_type": "stream",
     "text": [
      "/home/namle/.local/lib/python3.10/site-packages/torch_geometric/warnings.py:11: UserWarning: The usage of `scatter(reduce='max')` can be accelerated via the 'torch-scatter' package, but it was not found\n",
      "  warnings.warn(message)\n"
     ]
    },
    {
     "name": "stdout",
     "output_type": "stream",
     "text": [
      "Saving model prc\n",
      "Epoch: 35 (65.9822s), train_loss: 0.3338, val_loss: 0.3467, train_acc: 0.8602, val_acc:0.8519\n",
      "\t\ttrain_roc: 0.9286, val_roc: 0.9238, train_auprc: 0.9129, val_auprc: 0.9090\n"
     ]
    },
    {
     "name": "stderr",
     "output_type": "stream",
     "text": [
      "/home/namle/.local/lib/python3.10/site-packages/torch_geometric/warnings.py:11: UserWarning: The usage of `scatter(reduce='max')` can be accelerated via the 'torch-scatter' package, but it was not found\n",
      "  warnings.warn(message)\n"
     ]
    },
    {
     "name": "stdout",
     "output_type": "stream",
     "text": [
      "Saving model prc\n",
      "Saving model acc\n",
      "Saving model roc\n",
      "Epoch: 36 (65.8937s), train_loss: 0.3312, val_loss: 0.3424, train_acc: 0.8621, val_acc:0.8557\n",
      "\t\ttrain_roc: 0.9298, val_roc: 0.9257, train_auprc: 0.9138, val_auprc: 0.9099\n"
     ]
    },
    {
     "name": "stderr",
     "output_type": "stream",
     "text": [
      "/home/namle/.local/lib/python3.10/site-packages/torch_geometric/warnings.py:11: UserWarning: The usage of `scatter(reduce='max')` can be accelerated via the 'torch-scatter' package, but it was not found\n",
      "  warnings.warn(message)\n"
     ]
    },
    {
     "name": "stdout",
     "output_type": "stream",
     "text": [
      "Saving model prc\n",
      "Saving model roc\n",
      "Epoch: 37 (65.8717s), train_loss: 0.3273, val_loss: 0.3425, train_acc: 0.8639, val_acc:0.8547\n",
      "\t\ttrain_roc: 0.9316, val_roc: 0.9261, train_auprc: 0.9164, val_auprc: 0.9106\n"
     ]
    },
    {
     "name": "stderr",
     "output_type": "stream",
     "text": [
      "/home/namle/.local/lib/python3.10/site-packages/torch_geometric/warnings.py:11: UserWarning: The usage of `scatter(reduce='max')` can be accelerated via the 'torch-scatter' package, but it was not found\n",
      "  warnings.warn(message)\n"
     ]
    },
    {
     "name": "stdout",
     "output_type": "stream",
     "text": [
      "Saving model prc\n",
      "Saving model acc\n",
      "Saving model roc\n",
      "Epoch: 38 (66.2054s), train_loss: 0.3253, val_loss: 0.3348, train_acc: 0.8652, val_acc:0.8577\n",
      "\t\ttrain_roc: 0.9323, val_roc: 0.9288, train_auprc: 0.9173, val_auprc: 0.9146\n"
     ]
    },
    {
     "name": "stderr",
     "output_type": "stream",
     "text": [
      "/home/namle/.local/lib/python3.10/site-packages/torch_geometric/warnings.py:11: UserWarning: The usage of `scatter(reduce='max')` can be accelerated via the 'torch-scatter' package, but it was not found\n",
      "  warnings.warn(message)\n"
     ]
    },
    {
     "name": "stdout",
     "output_type": "stream",
     "text": [
      "Epoch: 39 (65.8597s), train_loss: 0.3239, val_loss: 0.3388, train_acc: 0.8656, val_acc:0.8566\n",
      "\t\ttrain_roc: 0.9327, val_roc: 0.9265, train_auprc: 0.9175, val_auprc: 0.9120\n"
     ]
    },
    {
     "name": "stderr",
     "output_type": "stream",
     "text": [
      "/home/namle/.local/lib/python3.10/site-packages/torch_geometric/warnings.py:11: UserWarning: The usage of `scatter(reduce='max')` can be accelerated via the 'torch-scatter' package, but it was not found\n",
      "  warnings.warn(message)\n"
     ]
    },
    {
     "name": "stdout",
     "output_type": "stream",
     "text": [
      "Saving model prc\n",
      "Saving model acc\n",
      "Saving model roc\n",
      "Epoch: 40 (66.0939s), train_loss: 0.3215, val_loss: 0.3307, train_acc: 0.8670, val_acc:0.8621\n",
      "\t\ttrain_roc: 0.9337, val_roc: 0.9310, train_auprc: 0.9181, val_auprc: 0.9168\n"
     ]
    },
    {
     "name": "stderr",
     "output_type": "stream",
     "text": [
      "/home/namle/.local/lib/python3.10/site-packages/torch_geometric/warnings.py:11: UserWarning: The usage of `scatter(reduce='max')` can be accelerated via the 'torch-scatter' package, but it was not found\n",
      "  warnings.warn(message)\n"
     ]
    },
    {
     "name": "stdout",
     "output_type": "stream",
     "text": [
      "Saving model prc\n",
      "Saving model acc\n",
      "Saving model roc\n",
      "Epoch: 41 (65.9752s), train_loss: 0.3169, val_loss: 0.3291, train_acc: 0.8690, val_acc:0.8633\n",
      "\t\ttrain_roc: 0.9356, val_roc: 0.9315, train_auprc: 0.9208, val_auprc: 0.9181\n"
     ]
    },
    {
     "name": "stderr",
     "output_type": "stream",
     "text": [
      "/home/namle/.local/lib/python3.10/site-packages/torch_geometric/warnings.py:11: UserWarning: The usage of `scatter(reduce='max')` can be accelerated via the 'torch-scatter' package, but it was not found\n",
      "  warnings.warn(message)\n"
     ]
    },
    {
     "name": "stdout",
     "output_type": "stream",
     "text": [
      "Epoch: 42 (66.2202s), train_loss: 0.3182, val_loss: 0.3356, train_acc: 0.8690, val_acc:0.8587\n",
      "\t\ttrain_roc: 0.9350, val_roc: 0.9288, train_auprc: 0.9203, val_auprc: 0.9143\n"
     ]
    },
    {
     "name": "stderr",
     "output_type": "stream",
     "text": [
      "/home/namle/.local/lib/python3.10/site-packages/torch_geometric/warnings.py:11: UserWarning: The usage of `scatter(reduce='max')` can be accelerated via the 'torch-scatter' package, but it was not found\n",
      "  warnings.warn(message)\n"
     ]
    },
    {
     "name": "stdout",
     "output_type": "stream",
     "text": [
      "Saving model roc\n",
      "Epoch: 43 (66.1182s), train_loss: 0.3101, val_loss: 0.3296, train_acc: 0.8727, val_acc:0.8618\n",
      "\t\ttrain_roc: 0.9383, val_roc: 0.9316, train_auprc: 0.9246, val_auprc: 0.9169\n"
     ]
    },
    {
     "name": "stderr",
     "output_type": "stream",
     "text": [
      "/home/namle/.local/lib/python3.10/site-packages/torch_geometric/warnings.py:11: UserWarning: The usage of `scatter(reduce='max')` can be accelerated via the 'torch-scatter' package, but it was not found\n",
      "  warnings.warn(message)\n"
     ]
    },
    {
     "name": "stdout",
     "output_type": "stream",
     "text": [
      "Saving model prc\n",
      "Saving model acc\n",
      "Saving model roc\n",
      "Epoch: 44 (65.9780s), train_loss: 0.3112, val_loss: 0.3237, train_acc: 0.8731, val_acc:0.8669\n",
      "\t\ttrain_roc: 0.9377, val_roc: 0.9333, train_auprc: 0.9230, val_auprc: 0.9201\n"
     ]
    },
    {
     "name": "stderr",
     "output_type": "stream",
     "text": [
      "/home/namle/.local/lib/python3.10/site-packages/torch_geometric/warnings.py:11: UserWarning: The usage of `scatter(reduce='max')` can be accelerated via the 'torch-scatter' package, but it was not found\n",
      "  warnings.warn(message)\n"
     ]
    },
    {
     "name": "stdout",
     "output_type": "stream",
     "text": [
      "Epoch: 45 (66.2962s), train_loss: 0.3065, val_loss: 0.3246, train_acc: 0.8753, val_acc:0.8663\n",
      "\t\ttrain_roc: 0.9397, val_roc: 0.9330, train_auprc: 0.9257, val_auprc: 0.9185\n"
     ]
    },
    {
     "name": "stderr",
     "output_type": "stream",
     "text": [
      "/home/namle/.local/lib/python3.10/site-packages/torch_geometric/warnings.py:11: UserWarning: The usage of `scatter(reduce='max')` can be accelerated via the 'torch-scatter' package, but it was not found\n",
      "  warnings.warn(message)\n"
     ]
    },
    {
     "name": "stdout",
     "output_type": "stream",
     "text": [
      "Saving model acc\n",
      "Epoch: 46 (66.1099s), train_loss: 0.3057, val_loss: 0.3222, train_acc: 0.8752, val_acc:0.8673\n",
      "\t\ttrain_roc: 0.9397, val_roc: 0.9333, train_auprc: 0.9255, val_auprc: 0.9187\n"
     ]
    },
    {
     "name": "stderr",
     "output_type": "stream",
     "text": [
      "/home/namle/.local/lib/python3.10/site-packages/torch_geometric/warnings.py:11: UserWarning: The usage of `scatter(reduce='max')` can be accelerated via the 'torch-scatter' package, but it was not found\n",
      "  warnings.warn(message)\n"
     ]
    },
    {
     "name": "stdout",
     "output_type": "stream",
     "text": [
      "Epoch: 47 (65.8543s), train_loss: 0.3030, val_loss: 0.3250, train_acc: 0.8772, val_acc:0.8667\n",
      "\t\ttrain_roc: 0.9410, val_roc: 0.9332, train_auprc: 0.9267, val_auprc: 0.9192\n"
     ]
    },
    {
     "name": "stderr",
     "output_type": "stream",
     "text": [
      "/home/namle/.local/lib/python3.10/site-packages/torch_geometric/warnings.py:11: UserWarning: The usage of `scatter(reduce='max')` can be accelerated via the 'torch-scatter' package, but it was not found\n",
      "  warnings.warn(message)\n"
     ]
    },
    {
     "name": "stdout",
     "output_type": "stream",
     "text": [
      "Saving model prc\n",
      "Saving model acc\n",
      "Saving model roc\n",
      "Epoch: 48 (66.0034s), train_loss: 0.3012, val_loss: 0.3183, train_acc: 0.8773, val_acc:0.8700\n",
      "\t\ttrain_roc: 0.9416, val_roc: 0.9359, train_auprc: 0.9278, val_auprc: 0.9223\n"
     ]
    },
    {
     "name": "stderr",
     "output_type": "stream",
     "text": [
      "/home/namle/.local/lib/python3.10/site-packages/torch_geometric/warnings.py:11: UserWarning: The usage of `scatter(reduce='max')` can be accelerated via the 'torch-scatter' package, but it was not found\n",
      "  warnings.warn(message)\n"
     ]
    },
    {
     "name": "stdout",
     "output_type": "stream",
     "text": [
      "Saving model prc\n",
      "Saving model acc\n",
      "Saving model roc\n",
      "Epoch: 49 (65.9614s), train_loss: 0.2976, val_loss: 0.3166, train_acc: 0.8795, val_acc:0.8701\n",
      "\t\ttrain_roc: 0.9429, val_roc: 0.9364, train_auprc: 0.9290, val_auprc: 0.9232\n"
     ]
    },
    {
     "name": "stderr",
     "output_type": "stream",
     "text": [
      "/home/namle/.local/lib/python3.10/site-packages/torch_geometric/warnings.py:11: UserWarning: The usage of `scatter(reduce='max')` can be accelerated via the 'torch-scatter' package, but it was not found\n",
      "  warnings.warn(message)\n"
     ]
    },
    {
     "name": "stdout",
     "output_type": "stream",
     "text": [
      "Saving model prc\n",
      "Epoch: 50 (66.0027s), train_loss: 0.2974, val_loss: 0.3161, train_acc: 0.8806, val_acc:0.8693\n",
      "\t\ttrain_roc: 0.9429, val_roc: 0.9364, train_auprc: 0.9288, val_auprc: 0.9238\n"
     ]
    },
    {
     "name": "stderr",
     "output_type": "stream",
     "text": [
      "/home/namle/.local/lib/python3.10/site-packages/torch_geometric/warnings.py:11: UserWarning: The usage of `scatter(reduce='max')` can be accelerated via the 'torch-scatter' package, but it was not found\n",
      "  warnings.warn(message)\n"
     ]
    },
    {
     "name": "stdout",
     "output_type": "stream",
     "text": [
      "Epoch: 51 (66.0806s), train_loss: 0.2944, val_loss: 0.3185, train_acc: 0.8814, val_acc:0.8680\n",
      "\t\ttrain_roc: 0.9440, val_roc: 0.9356, train_auprc: 0.9302, val_auprc: 0.9223\n"
     ]
    },
    {
     "name": "stderr",
     "output_type": "stream",
     "text": [
      "/home/namle/.local/lib/python3.10/site-packages/torch_geometric/warnings.py:11: UserWarning: The usage of `scatter(reduce='max')` can be accelerated via the 'torch-scatter' package, but it was not found\n",
      "  warnings.warn(message)\n"
     ]
    },
    {
     "name": "stdout",
     "output_type": "stream",
     "text": [
      "Saving model prc\n",
      "Saving model acc\n",
      "Saving model roc\n",
      "Epoch: 52 (65.9312s), train_loss: 0.2930, val_loss: 0.3090, train_acc: 0.8815, val_acc:0.8745\n",
      "\t\ttrain_roc: 0.9444, val_roc: 0.9394, train_auprc: 0.9312, val_auprc: 0.9268\n"
     ]
    },
    {
     "name": "stderr",
     "output_type": "stream",
     "text": [
      "/home/namle/.local/lib/python3.10/site-packages/torch_geometric/warnings.py:11: UserWarning: The usage of `scatter(reduce='max')` can be accelerated via the 'torch-scatter' package, but it was not found\n",
      "  warnings.warn(message)\n"
     ]
    },
    {
     "name": "stdout",
     "output_type": "stream",
     "text": [
      "Epoch: 53 (66.0164s), train_loss: 0.2890, val_loss: 0.3089, train_acc: 0.8841, val_acc:0.8735\n",
      "\t\ttrain_roc: 0.9460, val_roc: 0.9390, train_auprc: 0.9330, val_auprc: 0.9263\n"
     ]
    },
    {
     "name": "stderr",
     "output_type": "stream",
     "text": [
      "/home/namle/.local/lib/python3.10/site-packages/torch_geometric/warnings.py:11: UserWarning: The usage of `scatter(reduce='max')` can be accelerated via the 'torch-scatter' package, but it was not found\n",
      "  warnings.warn(message)\n"
     ]
    },
    {
     "name": "stdout",
     "output_type": "stream",
     "text": [
      "Epoch: 54 (66.1031s), train_loss: 0.2863, val_loss: 0.3107, train_acc: 0.8853, val_acc:0.8720\n",
      "\t\ttrain_roc: 0.9469, val_roc: 0.9387, train_auprc: 0.9343, val_auprc: 0.9256\n"
     ]
    },
    {
     "name": "stderr",
     "output_type": "stream",
     "text": [
      "/home/namle/.local/lib/python3.10/site-packages/torch_geometric/warnings.py:11: UserWarning: The usage of `scatter(reduce='max')` can be accelerated via the 'torch-scatter' package, but it was not found\n",
      "  warnings.warn(message)\n"
     ]
    },
    {
     "name": "stdout",
     "output_type": "stream",
     "text": [
      "Saving model prc\n",
      "Saving model acc\n",
      "Saving model roc\n",
      "Epoch: 55 (65.9308s), train_loss: 0.2876, val_loss: 0.3053, train_acc: 0.8842, val_acc:0.8751\n",
      "\t\ttrain_roc: 0.9464, val_roc: 0.9406, train_auprc: 0.9336, val_auprc: 0.9282\n"
     ]
    },
    {
     "name": "stderr",
     "output_type": "stream",
     "text": [
      "/home/namle/.local/lib/python3.10/site-packages/torch_geometric/warnings.py:11: UserWarning: The usage of `scatter(reduce='max')` can be accelerated via the 'torch-scatter' package, but it was not found\n",
      "  warnings.warn(message)\n"
     ]
    },
    {
     "name": "stdout",
     "output_type": "stream",
     "text": [
      "Saving model acc\n",
      "Epoch: 56 (66.1722s), train_loss: 0.2861, val_loss: 0.3069, train_acc: 0.8858, val_acc:0.8760\n",
      "\t\ttrain_roc: 0.9472, val_roc: 0.9401, train_auprc: 0.9345, val_auprc: 0.9259\n"
     ]
    },
    {
     "name": "stderr",
     "output_type": "stream",
     "text": [
      "/home/namle/.local/lib/python3.10/site-packages/torch_geometric/warnings.py:11: UserWarning: The usage of `scatter(reduce='max')` can be accelerated via the 'torch-scatter' package, but it was not found\n",
      "  warnings.warn(message)\n"
     ]
    },
    {
     "name": "stdout",
     "output_type": "stream",
     "text": [
      "Saving model prc\n",
      "Saving model roc\n",
      "Epoch: 57 (66.0754s), train_loss: 0.2836, val_loss: 0.3036, train_acc: 0.8863, val_acc:0.8752\n",
      "\t\ttrain_roc: 0.9477, val_roc: 0.9420, train_auprc: 0.9351, val_auprc: 0.9306\n"
     ]
    },
    {
     "name": "stderr",
     "output_type": "stream",
     "text": [
      "/home/namle/.local/lib/python3.10/site-packages/torch_geometric/warnings.py:11: UserWarning: The usage of `scatter(reduce='max')` can be accelerated via the 'torch-scatter' package, but it was not found\n",
      "  warnings.warn(message)\n"
     ]
    },
    {
     "name": "stdout",
     "output_type": "stream",
     "text": [
      "Saving model acc\n",
      "Saving model roc\n",
      "Epoch: 58 (66.3695s), train_loss: 0.2822, val_loss: 0.3030, train_acc: 0.8875, val_acc:0.8769\n",
      "\t\ttrain_roc: 0.9481, val_roc: 0.9424, train_auprc: 0.9352, val_auprc: 0.9299\n"
     ]
    },
    {
     "name": "stderr",
     "output_type": "stream",
     "text": [
      "/home/namle/.local/lib/python3.10/site-packages/torch_geometric/warnings.py:11: UserWarning: The usage of `scatter(reduce='max')` can be accelerated via the 'torch-scatter' package, but it was not found\n",
      "  warnings.warn(message)\n"
     ]
    },
    {
     "name": "stdout",
     "output_type": "stream",
     "text": [
      "Saving model prc\n",
      "Saving model roc\n",
      "Epoch: 59 (65.8385s), train_loss: 0.2796, val_loss: 0.3022, train_acc: 0.8892, val_acc:0.8765\n",
      "\t\ttrain_roc: 0.9492, val_roc: 0.9428, train_auprc: 0.9365, val_auprc: 0.9307\n"
     ]
    },
    {
     "name": "stderr",
     "output_type": "stream",
     "text": [
      "/home/namle/.local/lib/python3.10/site-packages/torch_geometric/warnings.py:11: UserWarning: The usage of `scatter(reduce='max')` can be accelerated via the 'torch-scatter' package, but it was not found\n",
      "  warnings.warn(message)\n"
     ]
    },
    {
     "name": "stdout",
     "output_type": "stream",
     "text": [
      "Saving model acc\n",
      "Epoch: 60 (65.9947s), train_loss: 0.2782, val_loss: 0.3022, train_acc: 0.8899, val_acc:0.8770\n",
      "\t\ttrain_roc: 0.9497, val_roc: 0.9419, train_auprc: 0.9370, val_auprc: 0.9293\n"
     ]
    },
    {
     "name": "stderr",
     "output_type": "stream",
     "text": [
      "/home/namle/.local/lib/python3.10/site-packages/torch_geometric/warnings.py:11: UserWarning: The usage of `scatter(reduce='max')` can be accelerated via the 'torch-scatter' package, but it was not found\n",
      "  warnings.warn(message)\n"
     ]
    },
    {
     "name": "stdout",
     "output_type": "stream",
     "text": [
      "Saving model prc\n",
      "Saving model acc\n",
      "Saving model roc\n",
      "Epoch: 61 (65.8471s), train_loss: 0.2763, val_loss: 0.2978, train_acc: 0.8908, val_acc:0.8805\n",
      "\t\ttrain_roc: 0.9503, val_roc: 0.9439, train_auprc: 0.9376, val_auprc: 0.9320\n"
     ]
    },
    {
     "name": "stderr",
     "output_type": "stream",
     "text": [
      "/home/namle/.local/lib/python3.10/site-packages/torch_geometric/warnings.py:11: UserWarning: The usage of `scatter(reduce='max')` can be accelerated via the 'torch-scatter' package, but it was not found\n",
      "  warnings.warn(message)\n"
     ]
    },
    {
     "name": "stdout",
     "output_type": "stream",
     "text": [
      "Epoch: 62 (65.8954s), train_loss: 0.2735, val_loss: 0.2999, train_acc: 0.8919, val_acc:0.8774\n",
      "\t\ttrain_roc: 0.9512, val_roc: 0.9430, train_auprc: 0.9391, val_auprc: 0.9315\n"
     ]
    },
    {
     "name": "stderr",
     "output_type": "stream",
     "text": [
      "/home/namle/.local/lib/python3.10/site-packages/torch_geometric/warnings.py:11: UserWarning: The usage of `scatter(reduce='max')` can be accelerated via the 'torch-scatter' package, but it was not found\n",
      "  warnings.warn(message)\n"
     ]
    },
    {
     "name": "stdout",
     "output_type": "stream",
     "text": [
      "Epoch: 63 (65.9893s), train_loss: 0.2759, val_loss: 0.3008, train_acc: 0.8905, val_acc:0.8770\n",
      "\t\ttrain_roc: 0.9504, val_roc: 0.9431, train_auprc: 0.9382, val_auprc: 0.9312\n"
     ]
    },
    {
     "name": "stderr",
     "output_type": "stream",
     "text": [
      "/home/namle/.local/lib/python3.10/site-packages/torch_geometric/warnings.py:11: UserWarning: The usage of `scatter(reduce='max')` can be accelerated via the 'torch-scatter' package, but it was not found\n",
      "  warnings.warn(message)\n"
     ]
    },
    {
     "name": "stdout",
     "output_type": "stream",
     "text": [
      "Saving model prc\n",
      "Saving model acc\n",
      "Saving model roc\n",
      "Epoch: 64 (65.9694s), train_loss: 0.2732, val_loss: 0.2957, train_acc: 0.8918, val_acc:0.8812\n",
      "\t\ttrain_roc: 0.9513, val_roc: 0.9441, train_auprc: 0.9391, val_auprc: 0.9325\n"
     ]
    },
    {
     "name": "stderr",
     "output_type": "stream",
     "text": [
      "/home/namle/.local/lib/python3.10/site-packages/torch_geometric/warnings.py:11: UserWarning: The usage of `scatter(reduce='max')` can be accelerated via the 'torch-scatter' package, but it was not found\n",
      "  warnings.warn(message)\n"
     ]
    },
    {
     "name": "stdout",
     "output_type": "stream",
     "text": [
      "Epoch: 65 (65.8735s), train_loss: 0.2688, val_loss: 0.3000, train_acc: 0.8943, val_acc:0.8791\n",
      "\t\ttrain_roc: 0.9528, val_roc: 0.9430, train_auprc: 0.9412, val_auprc: 0.9299\n"
     ]
    },
    {
     "name": "stderr",
     "output_type": "stream",
     "text": [
      "/home/namle/.local/lib/python3.10/site-packages/torch_geometric/warnings.py:11: UserWarning: The usage of `scatter(reduce='max')` can be accelerated via the 'torch-scatter' package, but it was not found\n",
      "  warnings.warn(message)\n"
     ]
    },
    {
     "name": "stdout",
     "output_type": "stream",
     "text": [
      "Saving model acc\n",
      "Epoch: 66 (65.8754s), train_loss: 0.2681, val_loss: 0.2979, train_acc: 0.8943, val_acc:0.8814\n",
      "\t\ttrain_roc: 0.9531, val_roc: 0.9438, train_auprc: 0.9415, val_auprc: 0.9318\n"
     ]
    },
    {
     "name": "stderr",
     "output_type": "stream",
     "text": [
      "/home/namle/.local/lib/python3.10/site-packages/torch_geometric/warnings.py:11: UserWarning: The usage of `scatter(reduce='max')` can be accelerated via the 'torch-scatter' package, but it was not found\n",
      "  warnings.warn(message)\n"
     ]
    },
    {
     "name": "stdout",
     "output_type": "stream",
     "text": [
      "Saving model prc\n",
      "Saving model roc\n",
      "Epoch: 67 (66.2240s), train_loss: 0.2673, val_loss: 0.2947, train_acc: 0.8945, val_acc:0.8814\n",
      "\t\ttrain_roc: 0.9532, val_roc: 0.9453, train_auprc: 0.9414, val_auprc: 0.9337\n"
     ]
    },
    {
     "name": "stderr",
     "output_type": "stream",
     "text": [
      "/home/namle/.local/lib/python3.10/site-packages/torch_geometric/warnings.py:11: UserWarning: The usage of `scatter(reduce='max')` can be accelerated via the 'torch-scatter' package, but it was not found\n",
      "  warnings.warn(message)\n"
     ]
    },
    {
     "name": "stdout",
     "output_type": "stream",
     "text": [
      "Saving model acc\n",
      "Epoch: 68 (65.9300s), train_loss: 0.2673, val_loss: 0.2939, train_acc: 0.8956, val_acc:0.8825\n",
      "\t\ttrain_roc: 0.9533, val_roc: 0.9449, train_auprc: 0.9412, val_auprc: 0.9330\n"
     ]
    },
    {
     "name": "stderr",
     "output_type": "stream",
     "text": [
      "/home/namle/.local/lib/python3.10/site-packages/torch_geometric/warnings.py:11: UserWarning: The usage of `scatter(reduce='max')` can be accelerated via the 'torch-scatter' package, but it was not found\n",
      "  warnings.warn(message)\n"
     ]
    },
    {
     "name": "stdout",
     "output_type": "stream",
     "text": [
      "Epoch: 69 (65.9572s), train_loss: 0.2659, val_loss: 0.2956, train_acc: 0.8958, val_acc:0.8802\n",
      "\t\ttrain_roc: 0.9538, val_roc: 0.9451, train_auprc: 0.9419, val_auprc: 0.9337\n"
     ]
    },
    {
     "name": "stderr",
     "output_type": "stream",
     "text": [
      "/home/namle/.local/lib/python3.10/site-packages/torch_geometric/warnings.py:11: UserWarning: The usage of `scatter(reduce='max')` can be accelerated via the 'torch-scatter' package, but it was not found\n",
      "  warnings.warn(message)\n"
     ]
    },
    {
     "name": "stdout",
     "output_type": "stream",
     "text": [
      "Saving model prc\n",
      "Saving model acc\n",
      "Saving model roc\n",
      "Epoch: 70 (66.0322s), train_loss: 0.2644, val_loss: 0.2919, train_acc: 0.8967, val_acc:0.8838\n",
      "\t\ttrain_roc: 0.9542, val_roc: 0.9457, train_auprc: 0.9422, val_auprc: 0.9338\n"
     ]
    },
    {
     "name": "stderr",
     "output_type": "stream",
     "text": [
      "/home/namle/.local/lib/python3.10/site-packages/torch_geometric/warnings.py:11: UserWarning: The usage of `scatter(reduce='max')` can be accelerated via the 'torch-scatter' package, but it was not found\n",
      "  warnings.warn(message)\n"
     ]
    },
    {
     "name": "stdout",
     "output_type": "stream",
     "text": [
      "Saving model prc\n",
      "Saving model roc\n",
      "Epoch: 71 (66.4435s), train_loss: 0.2620, val_loss: 0.2914, train_acc: 0.8972, val_acc:0.8822\n",
      "\t\ttrain_roc: 0.9549, val_roc: 0.9462, train_auprc: 0.9434, val_auprc: 0.9348\n"
     ]
    },
    {
     "name": "stderr",
     "output_type": "stream",
     "text": [
      "/home/namle/.local/lib/python3.10/site-packages/torch_geometric/warnings.py:11: UserWarning: The usage of `scatter(reduce='max')` can be accelerated via the 'torch-scatter' package, but it was not found\n",
      "  warnings.warn(message)\n"
     ]
    },
    {
     "name": "stdout",
     "output_type": "stream",
     "text": [
      "Epoch: 72 (65.8888s), train_loss: 0.2614, val_loss: 0.2932, train_acc: 0.8984, val_acc:0.8823\n",
      "\t\ttrain_roc: 0.9552, val_roc: 0.9453, train_auprc: 0.9435, val_auprc: 0.9334\n"
     ]
    },
    {
     "name": "stderr",
     "output_type": "stream",
     "text": [
      "/home/namle/.local/lib/python3.10/site-packages/torch_geometric/warnings.py:11: UserWarning: The usage of `scatter(reduce='max')` can be accelerated via the 'torch-scatter' package, but it was not found\n",
      "  warnings.warn(message)\n"
     ]
    },
    {
     "name": "stdout",
     "output_type": "stream",
     "text": [
      "Saving model prc\n",
      "Saving model roc\n",
      "Epoch: 73 (66.0075s), train_loss: 0.2617, val_loss: 0.2888, train_acc: 0.8978, val_acc:0.8836\n",
      "\t\ttrain_roc: 0.9549, val_roc: 0.9473, train_auprc: 0.9434, val_auprc: 0.9365\n"
     ]
    },
    {
     "name": "stderr",
     "output_type": "stream",
     "text": [
      "/home/namle/.local/lib/python3.10/site-packages/torch_geometric/warnings.py:11: UserWarning: The usage of `scatter(reduce='max')` can be accelerated via the 'torch-scatter' package, but it was not found\n",
      "  warnings.warn(message)\n"
     ]
    },
    {
     "name": "stdout",
     "output_type": "stream",
     "text": [
      "Saving model prc\n",
      "Saving model acc\n",
      "Saving model roc\n",
      "Epoch: 74 (65.8922s), train_loss: 0.2587, val_loss: 0.2876, train_acc: 0.9001, val_acc:0.8853\n",
      "\t\ttrain_roc: 0.9561, val_roc: 0.9475, train_auprc: 0.9447, val_auprc: 0.9369\n"
     ]
    },
    {
     "name": "stderr",
     "output_type": "stream",
     "text": [
      "/home/namle/.local/lib/python3.10/site-packages/torch_geometric/warnings.py:11: UserWarning: The usage of `scatter(reduce='max')` can be accelerated via the 'torch-scatter' package, but it was not found\n",
      "  warnings.warn(message)\n"
     ]
    },
    {
     "name": "stdout",
     "output_type": "stream",
     "text": [
      "Epoch: 75 (66.0982s), train_loss: 0.2579, val_loss: 0.2905, train_acc: 0.9002, val_acc:0.8845\n",
      "\t\ttrain_roc: 0.9562, val_roc: 0.9462, train_auprc: 0.9449, val_auprc: 0.9337\n"
     ]
    },
    {
     "name": "stderr",
     "output_type": "stream",
     "text": [
      "/home/namle/.local/lib/python3.10/site-packages/torch_geometric/warnings.py:11: UserWarning: The usage of `scatter(reduce='max')` can be accelerated via the 'torch-scatter' package, but it was not found\n",
      "  warnings.warn(message)\n"
     ]
    },
    {
     "name": "stdout",
     "output_type": "stream",
     "text": [
      "Saving model acc\n",
      "Saving model roc\n",
      "Epoch: 76 (65.9566s), train_loss: 0.2555, val_loss: 0.2889, train_acc: 0.9010, val_acc:0.8853\n",
      "\t\ttrain_roc: 0.9571, val_roc: 0.9476, train_auprc: 0.9458, val_auprc: 0.9367\n"
     ]
    },
    {
     "name": "stderr",
     "output_type": "stream",
     "text": [
      "/home/namle/.local/lib/python3.10/site-packages/torch_geometric/warnings.py:11: UserWarning: The usage of `scatter(reduce='max')` can be accelerated via the 'torch-scatter' package, but it was not found\n",
      "  warnings.warn(message)\n"
     ]
    },
    {
     "name": "stdout",
     "output_type": "stream",
     "text": [
      "Epoch: 77 (65.9303s), train_loss: 0.2555, val_loss: 0.2904, train_acc: 0.9007, val_acc:0.8845\n",
      "\t\ttrain_roc: 0.9568, val_roc: 0.9473, train_auprc: 0.9459, val_auprc: 0.9360\n"
     ]
    },
    {
     "name": "stderr",
     "output_type": "stream",
     "text": [
      "/home/namle/.local/lib/python3.10/site-packages/torch_geometric/warnings.py:11: UserWarning: The usage of `scatter(reduce='max')` can be accelerated via the 'torch-scatter' package, but it was not found\n",
      "  warnings.warn(message)\n"
     ]
    },
    {
     "name": "stdout",
     "output_type": "stream",
     "text": [
      "Saving model prc\n",
      "Saving model roc\n",
      "Epoch: 78 (65.8954s), train_loss: 0.2539, val_loss: 0.2872, train_acc: 0.9024, val_acc:0.8846\n",
      "\t\ttrain_roc: 0.9575, val_roc: 0.9479, train_auprc: 0.9462, val_auprc: 0.9372\n"
     ]
    },
    {
     "name": "stderr",
     "output_type": "stream",
     "text": [
      "/home/namle/.local/lib/python3.10/site-packages/torch_geometric/warnings.py:11: UserWarning: The usage of `scatter(reduce='max')` can be accelerated via the 'torch-scatter' package, but it was not found\n",
      "  warnings.warn(message)\n"
     ]
    },
    {
     "name": "stdout",
     "output_type": "stream",
     "text": [
      "Epoch: 79 (66.1027s), train_loss: 0.2550, val_loss: 0.2911, train_acc: 0.9019, val_acc:0.8826\n",
      "\t\ttrain_roc: 0.9570, val_roc: 0.9462, train_auprc: 0.9457, val_auprc: 0.9352\n"
     ]
    },
    {
     "name": "stderr",
     "output_type": "stream",
     "text": [
      "/home/namle/.local/lib/python3.10/site-packages/torch_geometric/warnings.py:11: UserWarning: The usage of `scatter(reduce='max')` can be accelerated via the 'torch-scatter' package, but it was not found\n",
      "  warnings.warn(message)\n"
     ]
    },
    {
     "name": "stdout",
     "output_type": "stream",
     "text": [
      "Saving model acc\n",
      "Epoch: 80 (65.9991s), train_loss: 0.2540, val_loss: 0.2876, train_acc: 0.9025, val_acc:0.8854\n",
      "\t\ttrain_roc: 0.9575, val_roc: 0.9478, train_auprc: 0.9464, val_auprc: 0.9371\n"
     ]
    },
    {
     "name": "stderr",
     "output_type": "stream",
     "text": [
      "/home/namle/.local/lib/python3.10/site-packages/torch_geometric/warnings.py:11: UserWarning: The usage of `scatter(reduce='max')` can be accelerated via the 'torch-scatter' package, but it was not found\n",
      "  warnings.warn(message)\n"
     ]
    },
    {
     "name": "stdout",
     "output_type": "stream",
     "text": [
      "Saving model prc\n",
      "Saving model acc\n",
      "Saving model roc\n",
      "Epoch: 81 (65.9887s), train_loss: 0.2526, val_loss: 0.2850, train_acc: 0.9025, val_acc:0.8874\n",
      "\t\ttrain_roc: 0.9579, val_roc: 0.9489, train_auprc: 0.9467, val_auprc: 0.9381\n"
     ]
    },
    {
     "name": "stderr",
     "output_type": "stream",
     "text": [
      "/home/namle/.local/lib/python3.10/site-packages/torch_geometric/warnings.py:11: UserWarning: The usage of `scatter(reduce='max')` can be accelerated via the 'torch-scatter' package, but it was not found\n",
      "  warnings.warn(message)\n"
     ]
    },
    {
     "name": "stdout",
     "output_type": "stream",
     "text": [
      "Saving model prc\n",
      "Saving model roc\n",
      "Epoch: 82 (66.0006s), train_loss: 0.2500, val_loss: 0.2851, train_acc: 0.9031, val_acc:0.8862\n",
      "\t\ttrain_roc: 0.9588, val_roc: 0.9490, train_auprc: 0.9483, val_auprc: 0.9387\n"
     ]
    },
    {
     "name": "stderr",
     "output_type": "stream",
     "text": [
      "/home/namle/.local/lib/python3.10/site-packages/torch_geometric/warnings.py:11: UserWarning: The usage of `scatter(reduce='max')` can be accelerated via the 'torch-scatter' package, but it was not found\n",
      "  warnings.warn(message)\n"
     ]
    },
    {
     "name": "stdout",
     "output_type": "stream",
     "text": [
      "Epoch: 83 (65.9946s), train_loss: 0.2487, val_loss: 0.2874, train_acc: 0.9041, val_acc:0.8855\n",
      "\t\ttrain_roc: 0.9591, val_roc: 0.9480, train_auprc: 0.9483, val_auprc: 0.9375\n"
     ]
    },
    {
     "name": "stderr",
     "output_type": "stream",
     "text": [
      "/home/namle/.local/lib/python3.10/site-packages/torch_geometric/warnings.py:11: UserWarning: The usage of `scatter(reduce='max')` can be accelerated via the 'torch-scatter' package, but it was not found\n",
      "  warnings.warn(message)\n"
     ]
    },
    {
     "name": "stdout",
     "output_type": "stream",
     "text": [
      "Saving model prc\n",
      "Saving model acc\n",
      "Saving model roc\n",
      "Epoch: 84 (65.9362s), train_loss: 0.2516, val_loss: 0.2821, train_acc: 0.9030, val_acc:0.8888\n",
      "\t\ttrain_roc: 0.9579, val_roc: 0.9502, train_auprc: 0.9469, val_auprc: 0.9404\n"
     ]
    },
    {
     "name": "stderr",
     "output_type": "stream",
     "text": [
      "/home/namle/.local/lib/python3.10/site-packages/torch_geometric/warnings.py:11: UserWarning: The usage of `scatter(reduce='max')` can be accelerated via the 'torch-scatter' package, but it was not found\n",
      "  warnings.warn(message)\n"
     ]
    },
    {
     "name": "stdout",
     "output_type": "stream",
     "text": [
      "Epoch: 85 (65.9543s), train_loss: 0.2491, val_loss: 0.2840, train_acc: 0.9036, val_acc:0.8876\n",
      "\t\ttrain_roc: 0.9587, val_roc: 0.9496, train_auprc: 0.9478, val_auprc: 0.9396\n"
     ]
    },
    {
     "name": "stderr",
     "output_type": "stream",
     "text": [
      "/home/namle/.local/lib/python3.10/site-packages/torch_geometric/warnings.py:11: UserWarning: The usage of `scatter(reduce='max')` can be accelerated via the 'torch-scatter' package, but it was not found\n",
      "  warnings.warn(message)\n"
     ]
    },
    {
     "name": "stdout",
     "output_type": "stream",
     "text": [
      "Epoch: 86 (65.8496s), train_loss: 0.2473, val_loss: 0.2859, train_acc: 0.9051, val_acc:0.8874\n",
      "\t\ttrain_roc: 0.9593, val_roc: 0.9490, train_auprc: 0.9485, val_auprc: 0.9382\n"
     ]
    },
    {
     "name": "stderr",
     "output_type": "stream",
     "text": [
      "/home/namle/.local/lib/python3.10/site-packages/torch_geometric/warnings.py:11: UserWarning: The usage of `scatter(reduce='max')` can be accelerated via the 'torch-scatter' package, but it was not found\n",
      "  warnings.warn(message)\n"
     ]
    },
    {
     "name": "stdout",
     "output_type": "stream",
     "text": [
      "Epoch: 87 (65.9495s), train_loss: 0.2486, val_loss: 0.2866, train_acc: 0.9047, val_acc:0.8872\n",
      "\t\ttrain_roc: 0.9590, val_roc: 0.9488, train_auprc: 0.9481, val_auprc: 0.9384\n"
     ]
    },
    {
     "name": "stderr",
     "output_type": "stream",
     "text": [
      "/home/namle/.local/lib/python3.10/site-packages/torch_geometric/warnings.py:11: UserWarning: The usage of `scatter(reduce='max')` can be accelerated via the 'torch-scatter' package, but it was not found\n",
      "  warnings.warn(message)\n"
     ]
    },
    {
     "name": "stdout",
     "output_type": "stream",
     "text": [
      "Epoch: 88 (65.9686s), train_loss: 0.2472, val_loss: 0.2850, train_acc: 0.9050, val_acc:0.8868\n",
      "\t\ttrain_roc: 0.9594, val_roc: 0.9491, train_auprc: 0.9489, val_auprc: 0.9394\n"
     ]
    },
    {
     "name": "stderr",
     "output_type": "stream",
     "text": [
      "/home/namle/.local/lib/python3.10/site-packages/torch_geometric/warnings.py:11: UserWarning: The usage of `scatter(reduce='max')` can be accelerated via the 'torch-scatter' package, but it was not found\n",
      "  warnings.warn(message)\n"
     ]
    },
    {
     "name": "stdout",
     "output_type": "stream",
     "text": [
      "Epoch: 89 (65.9228s), train_loss: 0.2466, val_loss: 0.2844, train_acc: 0.9060, val_acc:0.8880\n",
      "\t\ttrain_roc: 0.9596, val_roc: 0.9494, train_auprc: 0.9486, val_auprc: 0.9386\n"
     ]
    },
    {
     "name": "stderr",
     "output_type": "stream",
     "text": [
      "/home/namle/.local/lib/python3.10/site-packages/torch_geometric/warnings.py:11: UserWarning: The usage of `scatter(reduce='max')` can be accelerated via the 'torch-scatter' package, but it was not found\n",
      "  warnings.warn(message)\n"
     ]
    },
    {
     "name": "stdout",
     "output_type": "stream",
     "text": [
      "Saving model acc\n",
      "Epoch: 90 (65.8499s), train_loss: 0.2466, val_loss: 0.2835, train_acc: 0.9058, val_acc:0.8892\n",
      "\t\ttrain_roc: 0.9595, val_roc: 0.9497, train_auprc: 0.9483, val_auprc: 0.9396\n"
     ]
    },
    {
     "name": "stderr",
     "output_type": "stream",
     "text": [
      "/home/namle/.local/lib/python3.10/site-packages/torch_geometric/warnings.py:11: UserWarning: The usage of `scatter(reduce='max')` can be accelerated via the 'torch-scatter' package, but it was not found\n",
      "  warnings.warn(message)\n"
     ]
    },
    {
     "name": "stdout",
     "output_type": "stream",
     "text": [
      "Saving model prc\n",
      "Epoch: 91 (65.8899s), train_loss: 0.2455, val_loss: 0.2833, train_acc: 0.9065, val_acc:0.8878\n",
      "\t\ttrain_roc: 0.9599, val_roc: 0.9499, train_auprc: 0.9491, val_auprc: 0.9408\n"
     ]
    },
    {
     "name": "stderr",
     "output_type": "stream",
     "text": [
      "/home/namle/.local/lib/python3.10/site-packages/torch_geometric/warnings.py:11: UserWarning: The usage of `scatter(reduce='max')` can be accelerated via the 'torch-scatter' package, but it was not found\n",
      "  warnings.warn(message)\n"
     ]
    },
    {
     "name": "stdout",
     "output_type": "stream",
     "text": [
      "Epoch: 92 (66.1496s), train_loss: 0.2430, val_loss: 0.2841, train_acc: 0.9072, val_acc:0.8870\n",
      "\t\ttrain_roc: 0.9607, val_roc: 0.9496, train_auprc: 0.9501, val_auprc: 0.9396\n"
     ]
    },
    {
     "name": "stderr",
     "output_type": "stream",
     "text": [
      "/home/namle/.local/lib/python3.10/site-packages/torch_geometric/warnings.py:11: UserWarning: The usage of `scatter(reduce='max')` can be accelerated via the 'torch-scatter' package, but it was not found\n",
      "  warnings.warn(message)\n"
     ]
    },
    {
     "name": "stdout",
     "output_type": "stream",
     "text": [
      "Epoch: 93 (65.9613s), train_loss: 0.2430, val_loss: 0.2827, train_acc: 0.9072, val_acc:0.8885\n",
      "\t\ttrain_roc: 0.9606, val_roc: 0.9500, train_auprc: 0.9501, val_auprc: 0.9397\n"
     ]
    },
    {
     "name": "stderr",
     "output_type": "stream",
     "text": [
      "/home/namle/.local/lib/python3.10/site-packages/torch_geometric/warnings.py:11: UserWarning: The usage of `scatter(reduce='max')` can be accelerated via the 'torch-scatter' package, but it was not found\n",
      "  warnings.warn(message)\n"
     ]
    },
    {
     "name": "stdout",
     "output_type": "stream",
     "text": [
      "Saving model prc\n",
      "Saving model roc\n",
      "Epoch: 94 (66.2641s), train_loss: 0.2438, val_loss: 0.2810, train_acc: 0.9063, val_acc:0.8889\n",
      "\t\ttrain_roc: 0.9604, val_roc: 0.9516, train_auprc: 0.9499, val_auprc: 0.9424\n"
     ]
    },
    {
     "name": "stderr",
     "output_type": "stream",
     "text": [
      "/home/namle/.local/lib/python3.10/site-packages/torch_geometric/warnings.py:11: UserWarning: The usage of `scatter(reduce='max')` can be accelerated via the 'torch-scatter' package, but it was not found\n",
      "  warnings.warn(message)\n"
     ]
    },
    {
     "name": "stdout",
     "output_type": "stream",
     "text": [
      "Epoch: 95 (66.0872s), train_loss: 0.2414, val_loss: 0.2844, train_acc: 0.9073, val_acc:0.8881\n",
      "\t\ttrain_roc: 0.9611, val_roc: 0.9494, train_auprc: 0.9510, val_auprc: 0.9391\n"
     ]
    },
    {
     "name": "stderr",
     "output_type": "stream",
     "text": [
      "/home/namle/.local/lib/python3.10/site-packages/torch_geometric/warnings.py:11: UserWarning: The usage of `scatter(reduce='max')` can be accelerated via the 'torch-scatter' package, but it was not found\n",
      "  warnings.warn(message)\n"
     ]
    },
    {
     "name": "stdout",
     "output_type": "stream",
     "text": [
      "Epoch: 96 (66.0283s), train_loss: 0.2416, val_loss: 0.2835, train_acc: 0.9078, val_acc:0.8884\n",
      "\t\ttrain_roc: 0.9612, val_roc: 0.9501, train_auprc: 0.9510, val_auprc: 0.9399\n"
     ]
    },
    {
     "name": "stderr",
     "output_type": "stream",
     "text": [
      "/home/namle/.local/lib/python3.10/site-packages/torch_geometric/warnings.py:11: UserWarning: The usage of `scatter(reduce='max')` can be accelerated via the 'torch-scatter' package, but it was not found\n",
      "  warnings.warn(message)\n"
     ]
    },
    {
     "name": "stdout",
     "output_type": "stream",
     "text": [
      "Epoch: 97 (66.0330s), train_loss: 0.2397, val_loss: 0.2855, train_acc: 0.9089, val_acc:0.8874\n",
      "\t\ttrain_roc: 0.9616, val_roc: 0.9493, train_auprc: 0.9515, val_auprc: 0.9388\n"
     ]
    },
    {
     "name": "stderr",
     "output_type": "stream",
     "text": [
      "/home/namle/.local/lib/python3.10/site-packages/torch_geometric/warnings.py:11: UserWarning: The usage of `scatter(reduce='max')` can be accelerated via the 'torch-scatter' package, but it was not found\n",
      "  warnings.warn(message)\n"
     ]
    },
    {
     "name": "stdout",
     "output_type": "stream",
     "text": [
      "Epoch: 98 (65.9810s), train_loss: 0.2416, val_loss: 0.2833, train_acc: 0.9078, val_acc:0.8882\n",
      "\t\ttrain_roc: 0.9609, val_roc: 0.9506, train_auprc: 0.9502, val_auprc: 0.9410\n"
     ]
    },
    {
     "name": "stderr",
     "output_type": "stream",
     "text": [
      "/home/namle/.local/lib/python3.10/site-packages/torch_geometric/warnings.py:11: UserWarning: The usage of `scatter(reduce='max')` can be accelerated via the 'torch-scatter' package, but it was not found\n",
      "  warnings.warn(message)\n"
     ]
    },
    {
     "name": "stdout",
     "output_type": "stream",
     "text": [
      "Epoch: 99 (66.1243s), train_loss: 0.2399, val_loss: 0.2856, train_acc: 0.9088, val_acc:0.8875\n",
      "\t\ttrain_roc: 0.9617, val_roc: 0.9493, train_auprc: 0.9512, val_auprc: 0.9390\n"
     ]
    },
    {
     "name": "stderr",
     "output_type": "stream",
     "text": [
      "/home/namle/.local/lib/python3.10/site-packages/torch_geometric/warnings.py:11: UserWarning: The usage of `scatter(reduce='max')` can be accelerated via the 'torch-scatter' package, but it was not found\n",
      "  warnings.warn(message)\n"
     ]
    },
    {
     "name": "stdout",
     "output_type": "stream",
     "text": [
      "Epoch: 100 (66.1206s), train_loss: 0.2390, val_loss: 0.2835, train_acc: 0.9090, val_acc:0.8891\n",
      "\t\ttrain_roc: 0.9619, val_roc: 0.9500, train_auprc: 0.9516, val_auprc: 0.9394\n"
     ]
    },
    {
     "name": "stderr",
     "output_type": "stream",
     "text": [
      "/home/namle/.local/lib/python3.10/site-packages/torch_geometric/warnings.py:11: UserWarning: The usage of `scatter(reduce='max')` can be accelerated via the 'torch-scatter' package, but it was not found\n",
      "  warnings.warn(message)\n"
     ]
    },
    {
     "name": "stdout",
     "output_type": "stream",
     "text": [
      "Saving model acc\n",
      "Epoch: 101 (65.9244s), train_loss: 0.2376, val_loss: 0.2813, train_acc: 0.9095, val_acc:0.8896\n",
      "\t\ttrain_roc: 0.9624, val_roc: 0.9514, train_auprc: 0.9524, val_auprc: 0.9418\n"
     ]
    },
    {
     "name": "stderr",
     "output_type": "stream",
     "text": [
      "/home/namle/.local/lib/python3.10/site-packages/torch_geometric/warnings.py:11: UserWarning: The usage of `scatter(reduce='max')` can be accelerated via the 'torch-scatter' package, but it was not found\n",
      "  warnings.warn(message)\n"
     ]
    },
    {
     "name": "stdout",
     "output_type": "stream",
     "text": [
      "Epoch: 102 (66.0147s), train_loss: 0.2361, val_loss: 0.2818, train_acc: 0.9106, val_acc:0.8891\n",
      "\t\ttrain_roc: 0.9629, val_roc: 0.9508, train_auprc: 0.9528, val_auprc: 0.9418\n"
     ]
    },
    {
     "name": "stderr",
     "output_type": "stream",
     "text": [
      "/home/namle/.local/lib/python3.10/site-packages/torch_geometric/warnings.py:11: UserWarning: The usage of `scatter(reduce='max')` can be accelerated via the 'torch-scatter' package, but it was not found\n",
      "  warnings.warn(message)\n"
     ]
    },
    {
     "name": "stdout",
     "output_type": "stream",
     "text": [
      "Saving model acc\n",
      "Epoch: 103 (65.8990s), train_loss: 0.2367, val_loss: 0.2806, train_acc: 0.9101, val_acc:0.8909\n",
      "\t\ttrain_roc: 0.9626, val_roc: 0.9512, train_auprc: 0.9526, val_auprc: 0.9418\n"
     ]
    },
    {
     "name": "stderr",
     "output_type": "stream",
     "text": [
      "/home/namle/.local/lib/python3.10/site-packages/torch_geometric/warnings.py:11: UserWarning: The usage of `scatter(reduce='max')` can be accelerated via the 'torch-scatter' package, but it was not found\n",
      "  warnings.warn(message)\n"
     ]
    },
    {
     "name": "stdout",
     "output_type": "stream",
     "text": [
      "Epoch: 104 (65.9315s), train_loss: 0.2376, val_loss: 0.2814, train_acc: 0.9101, val_acc:0.8899\n",
      "\t\ttrain_roc: 0.9621, val_roc: 0.9512, train_auprc: 0.9517, val_auprc: 0.9414\n"
     ]
    },
    {
     "name": "stderr",
     "output_type": "stream",
     "text": [
      "/home/namle/.local/lib/python3.10/site-packages/torch_geometric/warnings.py:11: UserWarning: The usage of `scatter(reduce='max')` can be accelerated via the 'torch-scatter' package, but it was not found\n",
      "  warnings.warn(message)\n"
     ]
    },
    {
     "name": "stdout",
     "output_type": "stream",
     "text": [
      "Saving model prc\n",
      "Saving model roc\n",
      "Epoch: 105 (66.1868s), train_loss: 0.2363, val_loss: 0.2784, train_acc: 0.9106, val_acc:0.8907\n",
      "\t\ttrain_roc: 0.9626, val_roc: 0.9525, train_auprc: 0.9524, val_auprc: 0.9439\n"
     ]
    },
    {
     "name": "stderr",
     "output_type": "stream",
     "text": [
      "/home/namle/.local/lib/python3.10/site-packages/torch_geometric/warnings.py:11: UserWarning: The usage of `scatter(reduce='max')` can be accelerated via the 'torch-scatter' package, but it was not found\n",
      "  warnings.warn(message)\n"
     ]
    },
    {
     "name": "stdout",
     "output_type": "stream",
     "text": [
      "Epoch: 106 (66.1107s), train_loss: 0.2367, val_loss: 0.2835, train_acc: 0.9099, val_acc:0.8897\n",
      "\t\ttrain_roc: 0.9625, val_roc: 0.9501, train_auprc: 0.9523, val_auprc: 0.9397\n"
     ]
    },
    {
     "name": "stderr",
     "output_type": "stream",
     "text": [
      "/home/namle/.local/lib/python3.10/site-packages/torch_geometric/warnings.py:11: UserWarning: The usage of `scatter(reduce='max')` can be accelerated via the 'torch-scatter' package, but it was not found\n",
      "  warnings.warn(message)\n"
     ]
    },
    {
     "name": "stdout",
     "output_type": "stream",
     "text": [
      "Epoch: 107 (66.0216s), train_loss: 0.2357, val_loss: 0.2809, train_acc: 0.9105, val_acc:0.8907\n",
      "\t\ttrain_roc: 0.9627, val_roc: 0.9514, train_auprc: 0.9529, val_auprc: 0.9415\n"
     ]
    },
    {
     "name": "stderr",
     "output_type": "stream",
     "text": [
      "/home/namle/.local/lib/python3.10/site-packages/torch_geometric/warnings.py:11: UserWarning: The usage of `scatter(reduce='max')` can be accelerated via the 'torch-scatter' package, but it was not found\n",
      "  warnings.warn(message)\n"
     ]
    },
    {
     "name": "stdout",
     "output_type": "stream",
     "text": [
      "Epoch: 108 (65.9987s), train_loss: 0.2368, val_loss: 0.2806, train_acc: 0.9101, val_acc:0.8899\n",
      "\t\ttrain_roc: 0.9623, val_roc: 0.9519, train_auprc: 0.9522, val_auprc: 0.9433\n"
     ]
    },
    {
     "name": "stderr",
     "output_type": "stream",
     "text": [
      "/home/namle/.local/lib/python3.10/site-packages/torch_geometric/warnings.py:11: UserWarning: The usage of `scatter(reduce='max')` can be accelerated via the 'torch-scatter' package, but it was not found\n",
      "  warnings.warn(message)\n"
     ]
    },
    {
     "name": "stdout",
     "output_type": "stream",
     "text": [
      "Epoch: 109 (65.9369s), train_loss: 0.2344, val_loss: 0.2826, train_acc: 0.9111, val_acc:0.8896\n",
      "\t\ttrain_roc: 0.9633, val_roc: 0.9508, train_auprc: 0.9535, val_auprc: 0.9413\n"
     ]
    },
    {
     "name": "stderr",
     "output_type": "stream",
     "text": [
      "/home/namle/.local/lib/python3.10/site-packages/torch_geometric/warnings.py:11: UserWarning: The usage of `scatter(reduce='max')` can be accelerated via the 'torch-scatter' package, but it was not found\n",
      "  warnings.warn(message)\n"
     ]
    },
    {
     "name": "stdout",
     "output_type": "stream",
     "text": [
      "Epoch: 110 (65.9147s), train_loss: 0.2337, val_loss: 0.2824, train_acc: 0.9111, val_acc:0.8892\n",
      "\t\ttrain_roc: 0.9634, val_roc: 0.9512, train_auprc: 0.9535, val_auprc: 0.9423\n"
     ]
    },
    {
     "name": "stderr",
     "output_type": "stream",
     "text": [
      "/home/namle/.local/lib/python3.10/site-packages/torch_geometric/warnings.py:11: UserWarning: The usage of `scatter(reduce='max')` can be accelerated via the 'torch-scatter' package, but it was not found\n",
      "  warnings.warn(message)\n"
     ]
    },
    {
     "name": "stdout",
     "output_type": "stream",
     "text": [
      "Epoch: 111 (65.9639s), train_loss: 0.2341, val_loss: 0.2809, train_acc: 0.9110, val_acc:0.8905\n",
      "\t\ttrain_roc: 0.9633, val_roc: 0.9516, train_auprc: 0.9536, val_auprc: 0.9422\n"
     ]
    },
    {
     "name": "stderr",
     "output_type": "stream",
     "text": [
      "/home/namle/.local/lib/python3.10/site-packages/torch_geometric/warnings.py:11: UserWarning: The usage of `scatter(reduce='max')` can be accelerated via the 'torch-scatter' package, but it was not found\n",
      "  warnings.warn(message)\n"
     ]
    },
    {
     "name": "stdout",
     "output_type": "stream",
     "text": [
      "Epoch: 112 (65.9908s), train_loss: 0.2334, val_loss: 0.2805, train_acc: 0.9116, val_acc:0.8905\n",
      "\t\ttrain_roc: 0.9634, val_roc: 0.9513, train_auprc: 0.9535, val_auprc: 0.9412\n"
     ]
    },
    {
     "name": "stderr",
     "output_type": "stream",
     "text": [
      "/home/namle/.local/lib/python3.10/site-packages/torch_geometric/warnings.py:11: UserWarning: The usage of `scatter(reduce='max')` can be accelerated via the 'torch-scatter' package, but it was not found\n",
      "  warnings.warn(message)\n"
     ]
    },
    {
     "name": "stdout",
     "output_type": "stream",
     "text": [
      "Epoch: 113 (66.0465s), train_loss: 0.2332, val_loss: 0.2807, train_acc: 0.9116, val_acc:0.8891\n",
      "\t\ttrain_roc: 0.9635, val_roc: 0.9517, train_auprc: 0.9535, val_auprc: 0.9425\n"
     ]
    },
    {
     "name": "stderr",
     "output_type": "stream",
     "text": [
      "/home/namle/.local/lib/python3.10/site-packages/torch_geometric/warnings.py:11: UserWarning: The usage of `scatter(reduce='max')` can be accelerated via the 'torch-scatter' package, but it was not found\n",
      "  warnings.warn(message)\n"
     ]
    },
    {
     "name": "stdout",
     "output_type": "stream",
     "text": [
      "Epoch: 114 (65.8305s), train_loss: 0.2348, val_loss: 0.2804, train_acc: 0.9106, val_acc:0.8903\n",
      "\t\ttrain_roc: 0.9629, val_roc: 0.9514, train_auprc: 0.9531, val_auprc: 0.9417\n"
     ]
    },
    {
     "name": "stderr",
     "output_type": "stream",
     "text": [
      "/home/namle/.local/lib/python3.10/site-packages/torch_geometric/warnings.py:11: UserWarning: The usage of `scatter(reduce='max')` can be accelerated via the 'torch-scatter' package, but it was not found\n",
      "  warnings.warn(message)\n"
     ]
    },
    {
     "name": "stdout",
     "output_type": "stream",
     "text": [
      "Saving model acc\n",
      "Epoch: 115 (66.0314s), train_loss: 0.2349, val_loss: 0.2784, train_acc: 0.9105, val_acc:0.8910\n",
      "\t\ttrain_roc: 0.9629, val_roc: 0.9523, train_auprc: 0.9527, val_auprc: 0.9431\n"
     ]
    },
    {
     "name": "stderr",
     "output_type": "stream",
     "text": [
      "/home/namle/.local/lib/python3.10/site-packages/torch_geometric/warnings.py:11: UserWarning: The usage of `scatter(reduce='max')` can be accelerated via the 'torch-scatter' package, but it was not found\n",
      "  warnings.warn(message)\n"
     ]
    },
    {
     "name": "stdout",
     "output_type": "stream",
     "text": [
      "Saving model prc\n",
      "Saving model acc\n",
      "Saving model roc\n",
      "Epoch: 116 (66.0221s), train_loss: 0.2337, val_loss: 0.2759, train_acc: 0.9114, val_acc:0.8921\n",
      "\t\ttrain_roc: 0.9632, val_roc: 0.9530, train_auprc: 0.9532, val_auprc: 0.9444\n"
     ]
    },
    {
     "name": "stderr",
     "output_type": "stream",
     "text": [
      "/home/namle/.local/lib/python3.10/site-packages/torch_geometric/warnings.py:11: UserWarning: The usage of `scatter(reduce='max')` can be accelerated via the 'torch-scatter' package, but it was not found\n",
      "  warnings.warn(message)\n"
     ]
    },
    {
     "name": "stdout",
     "output_type": "stream",
     "text": [
      "Epoch: 117 (66.0030s), train_loss: 0.2323, val_loss: 0.2794, train_acc: 0.9124, val_acc:0.8914\n",
      "\t\ttrain_roc: 0.9637, val_roc: 0.9521, train_auprc: 0.9537, val_auprc: 0.9420\n"
     ]
    },
    {
     "name": "stderr",
     "output_type": "stream",
     "text": [
      "/home/namle/.local/lib/python3.10/site-packages/torch_geometric/warnings.py:11: UserWarning: The usage of `scatter(reduce='max')` can be accelerated via the 'torch-scatter' package, but it was not found\n",
      "  warnings.warn(message)\n"
     ]
    },
    {
     "name": "stdout",
     "output_type": "stream",
     "text": [
      "Epoch: 118 (65.9130s), train_loss: 0.2354, val_loss: 0.2799, train_acc: 0.9110, val_acc:0.8918\n",
      "\t\ttrain_roc: 0.9626, val_roc: 0.9513, train_auprc: 0.9522, val_auprc: 0.9413\n"
     ]
    },
    {
     "name": "stderr",
     "output_type": "stream",
     "text": [
      "/home/namle/.local/lib/python3.10/site-packages/torch_geometric/warnings.py:11: UserWarning: The usage of `scatter(reduce='max')` can be accelerated via the 'torch-scatter' package, but it was not found\n",
      "  warnings.warn(message)\n"
     ]
    },
    {
     "name": "stdout",
     "output_type": "stream",
     "text": [
      "Epoch: 119 (65.9248s), train_loss: 0.2328, val_loss: 0.2798, train_acc: 0.9116, val_acc:0.8897\n",
      "\t\ttrain_roc: 0.9636, val_roc: 0.9522, train_auprc: 0.9538, val_auprc: 0.9434\n"
     ]
    },
    {
     "name": "stderr",
     "output_type": "stream",
     "text": [
      "/home/namle/.local/lib/python3.10/site-packages/torch_geometric/warnings.py:11: UserWarning: The usage of `scatter(reduce='max')` can be accelerated via the 'torch-scatter' package, but it was not found\n",
      "  warnings.warn(message)\n"
     ]
    },
    {
     "name": "stdout",
     "output_type": "stream",
     "text": [
      "Epoch: 120 (65.8350s), train_loss: 0.2331, val_loss: 0.2816, train_acc: 0.9115, val_acc:0.8904\n",
      "\t\ttrain_roc: 0.9634, val_roc: 0.9510, train_auprc: 0.9535, val_auprc: 0.9411\n"
     ]
    },
    {
     "name": "stderr",
     "output_type": "stream",
     "text": [
      "/home/namle/.local/lib/python3.10/site-packages/torch_geometric/warnings.py:11: UserWarning: The usage of `scatter(reduce='max')` can be accelerated via the 'torch-scatter' package, but it was not found\n",
      "  warnings.warn(message)\n"
     ]
    },
    {
     "name": "stdout",
     "output_type": "stream",
     "text": [
      "Epoch: 121 (66.0738s), train_loss: 0.2313, val_loss: 0.2829, train_acc: 0.9127, val_acc:0.8902\n",
      "\t\ttrain_roc: 0.9641, val_roc: 0.9509, train_auprc: 0.9546, val_auprc: 0.9413\n"
     ]
    },
    {
     "name": "stderr",
     "output_type": "stream",
     "text": [
      "/home/namle/.local/lib/python3.10/site-packages/torch_geometric/warnings.py:11: UserWarning: The usage of `scatter(reduce='max')` can be accelerated via the 'torch-scatter' package, but it was not found\n",
      "  warnings.warn(message)\n"
     ]
    },
    {
     "name": "stdout",
     "output_type": "stream",
     "text": [
      "Epoch: 122 (66.0626s), train_loss: 0.2303, val_loss: 0.2809, train_acc: 0.9128, val_acc:0.8906\n",
      "\t\ttrain_roc: 0.9644, val_roc: 0.9514, train_auprc: 0.9550, val_auprc: 0.9419\n"
     ]
    },
    {
     "name": "stderr",
     "output_type": "stream",
     "text": [
      "/home/namle/.local/lib/python3.10/site-packages/torch_geometric/warnings.py:11: UserWarning: The usage of `scatter(reduce='max')` can be accelerated via the 'torch-scatter' package, but it was not found\n",
      "  warnings.warn(message)\n"
     ]
    },
    {
     "name": "stdout",
     "output_type": "stream",
     "text": [
      "Epoch: 123 (65.9077s), train_loss: 0.2316, val_loss: 0.2814, train_acc: 0.9125, val_acc:0.8911\n",
      "\t\ttrain_roc: 0.9639, val_roc: 0.9516, train_auprc: 0.9540, val_auprc: 0.9416\n"
     ]
    },
    {
     "name": "stderr",
     "output_type": "stream",
     "text": [
      "/home/namle/.local/lib/python3.10/site-packages/torch_geometric/warnings.py:11: UserWarning: The usage of `scatter(reduce='max')` can be accelerated via the 'torch-scatter' package, but it was not found\n",
      "  warnings.warn(message)\n"
     ]
    },
    {
     "name": "stdout",
     "output_type": "stream",
     "text": [
      "Epoch: 124 (66.1468s), train_loss: 0.2332, val_loss: 0.2808, train_acc: 0.9116, val_acc:0.8894\n",
      "\t\ttrain_roc: 0.9633, val_roc: 0.9517, train_auprc: 0.9533, val_auprc: 0.9428\n"
     ]
    },
    {
     "name": "stderr",
     "output_type": "stream",
     "text": [
      "/home/namle/.local/lib/python3.10/site-packages/torch_geometric/warnings.py:11: UserWarning: The usage of `scatter(reduce='max')` can be accelerated via the 'torch-scatter' package, but it was not found\n",
      "  warnings.warn(message)\n"
     ]
    },
    {
     "name": "stdout",
     "output_type": "stream",
     "text": [
      "Epoch: 125 (65.8658s), train_loss: 0.2311, val_loss: 0.2796, train_acc: 0.9130, val_acc:0.8917\n",
      "\t\ttrain_roc: 0.9640, val_roc: 0.9522, train_auprc: 0.9542, val_auprc: 0.9430\n"
     ]
    },
    {
     "name": "stderr",
     "output_type": "stream",
     "text": [
      "/home/namle/.local/lib/python3.10/site-packages/torch_geometric/warnings.py:11: UserWarning: The usage of `scatter(reduce='max')` can be accelerated via the 'torch-scatter' package, but it was not found\n",
      "  warnings.warn(message)\n"
     ]
    },
    {
     "name": "stdout",
     "output_type": "stream",
     "text": [
      "Saving model prc\n",
      "Saving model roc\n",
      "Epoch: 126 (66.0609s), train_loss: 0.2304, val_loss: 0.2775, train_acc: 0.9132, val_acc:0.8913\n",
      "\t\ttrain_roc: 0.9641, val_roc: 0.9531, train_auprc: 0.9544, val_auprc: 0.9447\n"
     ]
    },
    {
     "name": "stderr",
     "output_type": "stream",
     "text": [
      "/home/namle/.local/lib/python3.10/site-packages/torch_geometric/warnings.py:11: UserWarning: The usage of `scatter(reduce='max')` can be accelerated via the 'torch-scatter' package, but it was not found\n",
      "  warnings.warn(message)\n"
     ]
    },
    {
     "name": "stdout",
     "output_type": "stream",
     "text": [
      "Epoch: 127 (66.0704s), train_loss: 0.2305, val_loss: 0.2793, train_acc: 0.9129, val_acc:0.8912\n",
      "\t\ttrain_roc: 0.9642, val_roc: 0.9524, train_auprc: 0.9545, val_auprc: 0.9433\n"
     ]
    },
    {
     "name": "stderr",
     "output_type": "stream",
     "text": [
      "/home/namle/.local/lib/python3.10/site-packages/torch_geometric/warnings.py:11: UserWarning: The usage of `scatter(reduce='max')` can be accelerated via the 'torch-scatter' package, but it was not found\n",
      "  warnings.warn(message)\n"
     ]
    },
    {
     "name": "stdout",
     "output_type": "stream",
     "text": [
      "Epoch: 128 (66.0136s), train_loss: 0.2328, val_loss: 0.2817, train_acc: 0.9123, val_acc:0.8899\n",
      "\t\ttrain_roc: 0.9633, val_roc: 0.9513, train_auprc: 0.9531, val_auprc: 0.9420\n"
     ]
    },
    {
     "name": "stderr",
     "output_type": "stream",
     "text": [
      "/home/namle/.local/lib/python3.10/site-packages/torch_geometric/warnings.py:11: UserWarning: The usage of `scatter(reduce='max')` can be accelerated via the 'torch-scatter' package, but it was not found\n",
      "  warnings.warn(message)\n"
     ]
    },
    {
     "name": "stdout",
     "output_type": "stream",
     "text": [
      "Epoch: 129 (66.0169s), train_loss: 0.2285, val_loss: 0.2820, train_acc: 0.9144, val_acc:0.8905\n",
      "\t\ttrain_roc: 0.9648, val_roc: 0.9508, train_auprc: 0.9550, val_auprc: 0.9414\n"
     ]
    },
    {
     "name": "stderr",
     "output_type": "stream",
     "text": [
      "/home/namle/.local/lib/python3.10/site-packages/torch_geometric/warnings.py:11: UserWarning: The usage of `scatter(reduce='max')` can be accelerated via the 'torch-scatter' package, but it was not found\n",
      "  warnings.warn(message)\n"
     ]
    },
    {
     "name": "stdout",
     "output_type": "stream",
     "text": [
      "Epoch: 130 (65.8540s), train_loss: 0.2301, val_loss: 0.2812, train_acc: 0.9131, val_acc:0.8899\n",
      "\t\ttrain_roc: 0.9643, val_roc: 0.9520, train_auprc: 0.9548, val_auprc: 0.9432\n"
     ]
    },
    {
     "name": "stderr",
     "output_type": "stream",
     "text": [
      "/home/namle/.local/lib/python3.10/site-packages/torch_geometric/warnings.py:11: UserWarning: The usage of `scatter(reduce='max')` can be accelerated via the 'torch-scatter' package, but it was not found\n",
      "  warnings.warn(message)\n"
     ]
    },
    {
     "name": "stdout",
     "output_type": "stream",
     "text": [
      "Epoch: 131 (66.0318s), train_loss: 0.2299, val_loss: 0.2802, train_acc: 0.9129, val_acc:0.8910\n",
      "\t\ttrain_roc: 0.9644, val_roc: 0.9521, train_auprc: 0.9548, val_auprc: 0.9428\n"
     ]
    },
    {
     "name": "stderr",
     "output_type": "stream",
     "text": [
      "/home/namle/.local/lib/python3.10/site-packages/torch_geometric/warnings.py:11: UserWarning: The usage of `scatter(reduce='max')` can be accelerated via the 'torch-scatter' package, but it was not found\n",
      "  warnings.warn(message)\n"
     ]
    },
    {
     "name": "stdout",
     "output_type": "stream",
     "text": [
      "Epoch: 132 (66.1011s), train_loss: 0.2295, val_loss: 0.2791, train_acc: 0.9139, val_acc:0.8912\n",
      "\t\ttrain_roc: 0.9644, val_roc: 0.9522, train_auprc: 0.9546, val_auprc: 0.9431\n"
     ]
    },
    {
     "name": "stderr",
     "output_type": "stream",
     "text": [
      "/home/namle/.local/lib/python3.10/site-packages/torch_geometric/warnings.py:11: UserWarning: The usage of `scatter(reduce='max')` can be accelerated via the 'torch-scatter' package, but it was not found\n",
      "  warnings.warn(message)\n"
     ]
    },
    {
     "name": "stdout",
     "output_type": "stream",
     "text": [
      "Epoch: 133 (66.0058s), train_loss: 0.2302, val_loss: 0.2821, train_acc: 0.9131, val_acc:0.8911\n",
      "\t\ttrain_roc: 0.9642, val_roc: 0.9518, train_auprc: 0.9545, val_auprc: 0.9424\n"
     ]
    },
    {
     "name": "stderr",
     "output_type": "stream",
     "text": [
      "/home/namle/.local/lib/python3.10/site-packages/torch_geometric/warnings.py:11: UserWarning: The usage of `scatter(reduce='max')` can be accelerated via the 'torch-scatter' package, but it was not found\n",
      "  warnings.warn(message)\n"
     ]
    },
    {
     "name": "stdout",
     "output_type": "stream",
     "text": [
      "Epoch: 134 (65.8881s), train_loss: 0.2283, val_loss: 0.2811, train_acc: 0.9140, val_acc:0.8910\n",
      "\t\ttrain_roc: 0.9649, val_roc: 0.9517, train_auprc: 0.9557, val_auprc: 0.9421\n"
     ]
    },
    {
     "name": "stderr",
     "output_type": "stream",
     "text": [
      "/home/namle/.local/lib/python3.10/site-packages/torch_geometric/warnings.py:11: UserWarning: The usage of `scatter(reduce='max')` can be accelerated via the 'torch-scatter' package, but it was not found\n",
      "  warnings.warn(message)\n"
     ]
    },
    {
     "name": "stdout",
     "output_type": "stream",
     "text": [
      "Epoch: 135 (66.1201s), train_loss: 0.2301, val_loss: 0.2838, train_acc: 0.9132, val_acc:0.8899\n",
      "\t\ttrain_roc: 0.9643, val_roc: 0.9505, train_auprc: 0.9546, val_auprc: 0.9401\n"
     ]
    },
    {
     "name": "stderr",
     "output_type": "stream",
     "text": [
      "/home/namle/.local/lib/python3.10/site-packages/torch_geometric/warnings.py:11: UserWarning: The usage of `scatter(reduce='max')` can be accelerated via the 'torch-scatter' package, but it was not found\n",
      "  warnings.warn(message)\n"
     ]
    },
    {
     "name": "stdout",
     "output_type": "stream",
     "text": [
      "Epoch: 136 (65.9001s), train_loss: 0.2271, val_loss: 0.2817, train_acc: 0.9149, val_acc:0.8901\n",
      "\t\ttrain_roc: 0.9655, val_roc: 0.9516, train_auprc: 0.9560, val_auprc: 0.9421\n"
     ]
    },
    {
     "name": "stderr",
     "output_type": "stream",
     "text": [
      "/home/namle/.local/lib/python3.10/site-packages/torch_geometric/warnings.py:11: UserWarning: The usage of `scatter(reduce='max')` can be accelerated via the 'torch-scatter' package, but it was not found\n",
      "  warnings.warn(message)\n"
     ]
    },
    {
     "name": "stdout",
     "output_type": "stream",
     "text": [
      "Epoch: 137 (65.9584s), train_loss: 0.2295, val_loss: 0.2795, train_acc: 0.9134, val_acc:0.8906\n",
      "\t\ttrain_roc: 0.9644, val_roc: 0.9524, train_auprc: 0.9545, val_auprc: 0.9431\n"
     ]
    },
    {
     "name": "stderr",
     "output_type": "stream",
     "text": [
      "/home/namle/.local/lib/python3.10/site-packages/torch_geometric/warnings.py:11: UserWarning: The usage of `scatter(reduce='max')` can be accelerated via the 'torch-scatter' package, but it was not found\n",
      "  warnings.warn(message)\n"
     ]
    },
    {
     "name": "stdout",
     "output_type": "stream",
     "text": [
      "Saving model prc\n",
      "Epoch: 138 (66.1771s), train_loss: 0.2298, val_loss: 0.2780, train_acc: 0.9128, val_acc:0.8916\n",
      "\t\ttrain_roc: 0.9644, val_roc: 0.9529, train_auprc: 0.9549, val_auprc: 0.9447\n"
     ]
    },
    {
     "name": "stderr",
     "output_type": "stream",
     "text": [
      "/home/namle/.local/lib/python3.10/site-packages/torch_geometric/warnings.py:11: UserWarning: The usage of `scatter(reduce='max')` can be accelerated via the 'torch-scatter' package, but it was not found\n",
      "  warnings.warn(message)\n"
     ]
    },
    {
     "name": "stdout",
     "output_type": "stream",
     "text": [
      "Saving model acc\n",
      "Saving model roc\n",
      "Epoch: 139 (66.1375s), train_loss: 0.2284, val_loss: 0.2778, train_acc: 0.9140, val_acc:0.8922\n",
      "\t\ttrain_roc: 0.9648, val_roc: 0.9531, train_auprc: 0.9550, val_auprc: 0.9441\n"
     ]
    },
    {
     "name": "stderr",
     "output_type": "stream",
     "text": [
      "/home/namle/.local/lib/python3.10/site-packages/torch_geometric/warnings.py:11: UserWarning: The usage of `scatter(reduce='max')` can be accelerated via the 'torch-scatter' package, but it was not found\n",
      "  warnings.warn(message)\n"
     ]
    },
    {
     "name": "stdout",
     "output_type": "stream",
     "text": [
      "Epoch: 140 (66.0581s), train_loss: 0.2275, val_loss: 0.2802, train_acc: 0.9147, val_acc:0.8920\n",
      "\t\ttrain_roc: 0.9650, val_roc: 0.9523, train_auprc: 0.9553, val_auprc: 0.9432\n"
     ]
    },
    {
     "name": "stderr",
     "output_type": "stream",
     "text": [
      "/home/namle/.local/lib/python3.10/site-packages/torch_geometric/warnings.py:11: UserWarning: The usage of `scatter(reduce='max')` can be accelerated via the 'torch-scatter' package, but it was not found\n",
      "  warnings.warn(message)\n"
     ]
    },
    {
     "name": "stdout",
     "output_type": "stream",
     "text": [
      "Epoch: 141 (65.9093s), train_loss: 0.2295, val_loss: 0.2809, train_acc: 0.9140, val_acc:0.8901\n",
      "\t\ttrain_roc: 0.9644, val_roc: 0.9519, train_auprc: 0.9545, val_auprc: 0.9434\n"
     ]
    },
    {
     "name": "stderr",
     "output_type": "stream",
     "text": [
      "/home/namle/.local/lib/python3.10/site-packages/torch_geometric/warnings.py:11: UserWarning: The usage of `scatter(reduce='max')` can be accelerated via the 'torch-scatter' package, but it was not found\n",
      "  warnings.warn(message)\n"
     ]
    },
    {
     "name": "stdout",
     "output_type": "stream",
     "text": [
      "Epoch: 142 (66.0340s), train_loss: 0.2295, val_loss: 0.2810, train_acc: 0.9138, val_acc:0.8916\n",
      "\t\ttrain_roc: 0.9644, val_roc: 0.9518, train_auprc: 0.9543, val_auprc: 0.9423\n"
     ]
    },
    {
     "name": "stderr",
     "output_type": "stream",
     "text": [
      "/home/namle/.local/lib/python3.10/site-packages/torch_geometric/warnings.py:11: UserWarning: The usage of `scatter(reduce='max')` can be accelerated via the 'torch-scatter' package, but it was not found\n",
      "  warnings.warn(message)\n"
     ]
    },
    {
     "name": "stdout",
     "output_type": "stream",
     "text": [
      "Epoch: 143 (65.9855s), train_loss: 0.2297, val_loss: 0.2817, train_acc: 0.9135, val_acc:0.8908\n",
      "\t\ttrain_roc: 0.9645, val_roc: 0.9518, train_auprc: 0.9547, val_auprc: 0.9425\n"
     ]
    },
    {
     "name": "stderr",
     "output_type": "stream",
     "text": [
      "/home/namle/.local/lib/python3.10/site-packages/torch_geometric/warnings.py:11: UserWarning: The usage of `scatter(reduce='max')` can be accelerated via the 'torch-scatter' package, but it was not found\n",
      "  warnings.warn(message)\n"
     ]
    },
    {
     "name": "stdout",
     "output_type": "stream",
     "text": [
      "Epoch: 144 (65.9432s), train_loss: 0.2286, val_loss: 0.2799, train_acc: 0.9138, val_acc:0.8917\n",
      "\t\ttrain_roc: 0.9647, val_roc: 0.9525, train_auprc: 0.9550, val_auprc: 0.9433\n"
     ]
    },
    {
     "name": "stderr",
     "output_type": "stream",
     "text": [
      "/home/namle/.local/lib/python3.10/site-packages/torch_geometric/warnings.py:11: UserWarning: The usage of `scatter(reduce='max')` can be accelerated via the 'torch-scatter' package, but it was not found\n",
      "  warnings.warn(message)\n"
     ]
    },
    {
     "name": "stdout",
     "output_type": "stream",
     "text": [
      "Epoch: 145 (66.1892s), train_loss: 0.2286, val_loss: 0.2803, train_acc: 0.9140, val_acc:0.8910\n",
      "\t\ttrain_roc: 0.9647, val_roc: 0.9525, train_auprc: 0.9549, val_auprc: 0.9436\n"
     ]
    },
    {
     "name": "stderr",
     "output_type": "stream",
     "text": [
      "/home/namle/.local/lib/python3.10/site-packages/torch_geometric/warnings.py:11: UserWarning: The usage of `scatter(reduce='max')` can be accelerated via the 'torch-scatter' package, but it was not found\n",
      "  warnings.warn(message)\n"
     ]
    },
    {
     "name": "stdout",
     "output_type": "stream",
     "text": [
      "Epoch: 146 (66.0756s), train_loss: 0.2275, val_loss: 0.2790, train_acc: 0.9146, val_acc:0.8921\n",
      "\t\ttrain_roc: 0.9651, val_roc: 0.9528, train_auprc: 0.9556, val_auprc: 0.9439\n"
     ]
    },
    {
     "name": "stderr",
     "output_type": "stream",
     "text": [
      "/home/namle/.local/lib/python3.10/site-packages/torch_geometric/warnings.py:11: UserWarning: The usage of `scatter(reduce='max')` can be accelerated via the 'torch-scatter' package, but it was not found\n",
      "  warnings.warn(message)\n"
     ]
    },
    {
     "name": "stdout",
     "output_type": "stream",
     "text": [
      "Epoch: 147 (66.1139s), train_loss: 0.2277, val_loss: 0.2806, train_acc: 0.9144, val_acc:0.8907\n",
      "\t\ttrain_roc: 0.9651, val_roc: 0.9521, train_auprc: 0.9552, val_auprc: 0.9435\n"
     ]
    },
    {
     "name": "stderr",
     "output_type": "stream",
     "text": [
      "/home/namle/.local/lib/python3.10/site-packages/torch_geometric/warnings.py:11: UserWarning: The usage of `scatter(reduce='max')` can be accelerated via the 'torch-scatter' package, but it was not found\n",
      "  warnings.warn(message)\n"
     ]
    },
    {
     "name": "stdout",
     "output_type": "stream",
     "text": [
      "Epoch: 148 (65.9732s), train_loss: 0.2267, val_loss: 0.2809, train_acc: 0.9149, val_acc:0.8915\n",
      "\t\ttrain_roc: 0.9652, val_roc: 0.9523, train_auprc: 0.9558, val_auprc: 0.9429\n"
     ]
    },
    {
     "name": "stderr",
     "output_type": "stream",
     "text": [
      "/home/namle/.local/lib/python3.10/site-packages/torch_geometric/warnings.py:11: UserWarning: The usage of `scatter(reduce='max')` can be accelerated via the 'torch-scatter' package, but it was not found\n",
      "  warnings.warn(message)\n"
     ]
    },
    {
     "name": "stdout",
     "output_type": "stream",
     "text": [
      "Epoch: 149 (66.1147s), train_loss: 0.2292, val_loss: 0.2799, train_acc: 0.9136, val_acc:0.8920\n",
      "\t\ttrain_roc: 0.9645, val_roc: 0.9524, train_auprc: 0.9547, val_auprc: 0.9433\n"
     ]
    },
    {
     "name": "stderr",
     "output_type": "stream",
     "text": [
      "/home/namle/.local/lib/python3.10/site-packages/torch_geometric/warnings.py:11: UserWarning: The usage of `scatter(reduce='max')` can be accelerated via the 'torch-scatter' package, but it was not found\n",
      "  warnings.warn(message)\n"
     ]
    },
    {
     "name": "stdout",
     "output_type": "stream",
     "text": [
      "Epoch: 150 (66.0985s), train_loss: 0.2293, val_loss: 0.2822, train_acc: 0.9135, val_acc:0.8905\n",
      "\t\ttrain_roc: 0.9644, val_roc: 0.9514, train_auprc: 0.9549, val_auprc: 0.9419\n"
     ]
    },
    {
     "name": "stderr",
     "output_type": "stream",
     "text": [
      "/home/namle/.local/lib/python3.10/site-packages/torch_geometric/warnings.py:11: UserWarning: The usage of `scatter(reduce='max')` can be accelerated via the 'torch-scatter' package, but it was not found\n",
      "  warnings.warn(message)\n"
     ]
    },
    {
     "name": "stdout",
     "output_type": "stream",
     "text": [
      "Epoch: 151 (65.9952s), train_loss: 0.2279, val_loss: 0.2812, train_acc: 0.9144, val_acc:0.8918\n",
      "\t\ttrain_roc: 0.9649, val_roc: 0.9516, train_auprc: 0.9549, val_auprc: 0.9420\n"
     ]
    },
    {
     "name": "stderr",
     "output_type": "stream",
     "text": [
      "/home/namle/.local/lib/python3.10/site-packages/torch_geometric/warnings.py:11: UserWarning: The usage of `scatter(reduce='max')` can be accelerated via the 'torch-scatter' package, but it was not found\n",
      "  warnings.warn(message)\n"
     ]
    },
    {
     "name": "stdout",
     "output_type": "stream",
     "text": [
      "Epoch: 152 (65.9248s), train_loss: 0.2276, val_loss: 0.2797, train_acc: 0.9146, val_acc:0.8921\n",
      "\t\ttrain_roc: 0.9649, val_roc: 0.9527, train_auprc: 0.9553, val_auprc: 0.9435\n"
     ]
    },
    {
     "name": "stderr",
     "output_type": "stream",
     "text": [
      "/home/namle/.local/lib/python3.10/site-packages/torch_geometric/warnings.py:11: UserWarning: The usage of `scatter(reduce='max')` can be accelerated via the 'torch-scatter' package, but it was not found\n",
      "  warnings.warn(message)\n"
     ]
    },
    {
     "name": "stdout",
     "output_type": "stream",
     "text": [
      "Epoch: 153 (65.9331s), train_loss: 0.2278, val_loss: 0.2807, train_acc: 0.9144, val_acc:0.8918\n",
      "\t\ttrain_roc: 0.9649, val_roc: 0.9521, train_auprc: 0.9552, val_auprc: 0.9429\n"
     ]
    },
    {
     "name": "stderr",
     "output_type": "stream",
     "text": [
      "/home/namle/.local/lib/python3.10/site-packages/torch_geometric/warnings.py:11: UserWarning: The usage of `scatter(reduce='max')` can be accelerated via the 'torch-scatter' package, but it was not found\n",
      "  warnings.warn(message)\n"
     ]
    },
    {
     "name": "stdout",
     "output_type": "stream",
     "text": [
      "Epoch: 154 (66.0058s), train_loss: 0.2275, val_loss: 0.2818, train_acc: 0.9149, val_acc:0.8911\n",
      "\t\ttrain_roc: 0.9650, val_roc: 0.9517, train_auprc: 0.9549, val_auprc: 0.9420\n"
     ]
    },
    {
     "name": "stderr",
     "output_type": "stream",
     "text": [
      "/home/namle/.local/lib/python3.10/site-packages/torch_geometric/warnings.py:11: UserWarning: The usage of `scatter(reduce='max')` can be accelerated via the 'torch-scatter' package, but it was not found\n",
      "  warnings.warn(message)\n"
     ]
    },
    {
     "name": "stdout",
     "output_type": "stream",
     "text": [
      "Epoch: 155 (66.0480s), train_loss: 0.2271, val_loss: 0.2789, train_acc: 0.9147, val_acc:0.8920\n",
      "\t\ttrain_roc: 0.9652, val_roc: 0.9530, train_auprc: 0.9557, val_auprc: 0.9443\n"
     ]
    },
    {
     "name": "stderr",
     "output_type": "stream",
     "text": [
      "/home/namle/.local/lib/python3.10/site-packages/torch_geometric/warnings.py:11: UserWarning: The usage of `scatter(reduce='max')` can be accelerated via the 'torch-scatter' package, but it was not found\n",
      "  warnings.warn(message)\n"
     ]
    },
    {
     "name": "stdout",
     "output_type": "stream",
     "text": [
      "Epoch: 156 (65.8557s), train_loss: 0.2281, val_loss: 0.2816, train_acc: 0.9138, val_acc:0.8913\n",
      "\t\ttrain_roc: 0.9649, val_roc: 0.9519, train_auprc: 0.9553, val_auprc: 0.9426\n"
     ]
    },
    {
     "name": "stderr",
     "output_type": "stream",
     "text": [
      "/home/namle/.local/lib/python3.10/site-packages/torch_geometric/warnings.py:11: UserWarning: The usage of `scatter(reduce='max')` can be accelerated via the 'torch-scatter' package, but it was not found\n",
      "  warnings.warn(message)\n"
     ]
    },
    {
     "name": "stdout",
     "output_type": "stream",
     "text": [
      "Epoch: 157 (66.1080s), train_loss: 0.2267, val_loss: 0.2847, train_acc: 0.9150, val_acc:0.8893\n",
      "\t\ttrain_roc: 0.9654, val_roc: 0.9509, train_auprc: 0.9555, val_auprc: 0.9411\n"
     ]
    },
    {
     "name": "stderr",
     "output_type": "stream",
     "text": [
      "/home/namle/.local/lib/python3.10/site-packages/torch_geometric/warnings.py:11: UserWarning: The usage of `scatter(reduce='max')` can be accelerated via the 'torch-scatter' package, but it was not found\n",
      "  warnings.warn(message)\n"
     ]
    },
    {
     "name": "stdout",
     "output_type": "stream",
     "text": [
      "Epoch: 158 (66.0375s), train_loss: 0.2284, val_loss: 0.2795, train_acc: 0.9137, val_acc:0.8919\n",
      "\t\ttrain_roc: 0.9648, val_roc: 0.9528, train_auprc: 0.9552, val_auprc: 0.9442\n"
     ]
    },
    {
     "name": "stderr",
     "output_type": "stream",
     "text": [
      "/home/namle/.local/lib/python3.10/site-packages/torch_geometric/warnings.py:11: UserWarning: The usage of `scatter(reduce='max')` can be accelerated via the 'torch-scatter' package, but it was not found\n",
      "  warnings.warn(message)\n"
     ]
    },
    {
     "name": "stdout",
     "output_type": "stream",
     "text": [
      "Epoch: 159 (65.9486s), train_loss: 0.2286, val_loss: 0.2825, train_acc: 0.9135, val_acc:0.8897\n",
      "\t\ttrain_roc: 0.9647, val_roc: 0.9519, train_auprc: 0.9551, val_auprc: 0.9428\n"
     ]
    },
    {
     "name": "stderr",
     "output_type": "stream",
     "text": [
      "/home/namle/.local/lib/python3.10/site-packages/torch_geometric/warnings.py:11: UserWarning: The usage of `scatter(reduce='max')` can be accelerated via the 'torch-scatter' package, but it was not found\n",
      "  warnings.warn(message)\n"
     ]
    },
    {
     "name": "stdout",
     "output_type": "stream",
     "text": [
      "Epoch: 160 (66.1259s), train_loss: 0.2283, val_loss: 0.2816, train_acc: 0.9141, val_acc:0.8910\n",
      "\t\ttrain_roc: 0.9647, val_roc: 0.9518, train_auprc: 0.9547, val_auprc: 0.9427\n"
     ]
    },
    {
     "name": "stderr",
     "output_type": "stream",
     "text": [
      "/home/namle/.local/lib/python3.10/site-packages/torch_geometric/warnings.py:11: UserWarning: The usage of `scatter(reduce='max')` can be accelerated via the 'torch-scatter' package, but it was not found\n",
      "  warnings.warn(message)\n"
     ]
    },
    {
     "name": "stdout",
     "output_type": "stream",
     "text": [
      "Epoch: 161 (66.1378s), train_loss: 0.2264, val_loss: 0.2826, train_acc: 0.9146, val_acc:0.8913\n",
      "\t\ttrain_roc: 0.9654, val_roc: 0.9514, train_auprc: 0.9562, val_auprc: 0.9413\n"
     ]
    },
    {
     "name": "stderr",
     "output_type": "stream",
     "text": [
      "/home/namle/.local/lib/python3.10/site-packages/torch_geometric/warnings.py:11: UserWarning: The usage of `scatter(reduce='max')` can be accelerated via the 'torch-scatter' package, but it was not found\n",
      "  warnings.warn(message)\n"
     ]
    },
    {
     "name": "stdout",
     "output_type": "stream",
     "text": [
      "Epoch: 162 (65.9139s), train_loss: 0.2291, val_loss: 0.2840, train_acc: 0.9136, val_acc:0.8903\n",
      "\t\ttrain_roc: 0.9644, val_roc: 0.9511, train_auprc: 0.9547, val_auprc: 0.9412\n"
     ]
    },
    {
     "name": "stderr",
     "output_type": "stream",
     "text": [
      "/home/namle/.local/lib/python3.10/site-packages/torch_geometric/warnings.py:11: UserWarning: The usage of `scatter(reduce='max')` can be accelerated via the 'torch-scatter' package, but it was not found\n",
      "  warnings.warn(message)\n"
     ]
    },
    {
     "name": "stdout",
     "output_type": "stream",
     "text": [
      "Epoch: 163 (65.9712s), train_loss: 0.2272, val_loss: 0.2829, train_acc: 0.9146, val_acc:0.8911\n",
      "\t\ttrain_roc: 0.9651, val_roc: 0.9514, train_auprc: 0.9557, val_auprc: 0.9416\n"
     ]
    },
    {
     "name": "stderr",
     "output_type": "stream",
     "text": [
      "/home/namle/.local/lib/python3.10/site-packages/torch_geometric/warnings.py:11: UserWarning: The usage of `scatter(reduce='max')` can be accelerated via the 'torch-scatter' package, but it was not found\n",
      "  warnings.warn(message)\n"
     ]
    },
    {
     "name": "stdout",
     "output_type": "stream",
     "text": [
      "Epoch: 164 (66.1330s), train_loss: 0.2258, val_loss: 0.2816, train_acc: 0.9145, val_acc:0.8908\n",
      "\t\ttrain_roc: 0.9657, val_roc: 0.9520, train_auprc: 0.9567, val_auprc: 0.9427\n"
     ]
    },
    {
     "name": "stderr",
     "output_type": "stream",
     "text": [
      "/home/namle/.local/lib/python3.10/site-packages/torch_geometric/warnings.py:11: UserWarning: The usage of `scatter(reduce='max')` can be accelerated via the 'torch-scatter' package, but it was not found\n",
      "  warnings.warn(message)\n"
     ]
    },
    {
     "name": "stdout",
     "output_type": "stream",
     "text": [
      "Saving model acc\n",
      "Epoch: 165 (66.1242s), train_loss: 0.2282, val_loss: 0.2797, train_acc: 0.9141, val_acc:0.8925\n",
      "\t\ttrain_roc: 0.9648, val_roc: 0.9529, train_auprc: 0.9547, val_auprc: 0.9439\n"
     ]
    },
    {
     "name": "stderr",
     "output_type": "stream",
     "text": [
      "/home/namle/.local/lib/python3.10/site-packages/torch_geometric/warnings.py:11: UserWarning: The usage of `scatter(reduce='max')` can be accelerated via the 'torch-scatter' package, but it was not found\n",
      "  warnings.warn(message)\n"
     ]
    },
    {
     "name": "stdout",
     "output_type": "stream",
     "text": [
      "Epoch: 166 (66.1704s), train_loss: 0.2272, val_loss: 0.2803, train_acc: 0.9146, val_acc:0.8914\n",
      "\t\ttrain_roc: 0.9651, val_roc: 0.9527, train_auprc: 0.9554, val_auprc: 0.9435\n"
     ]
    },
    {
     "name": "stderr",
     "output_type": "stream",
     "text": [
      "/home/namle/.local/lib/python3.10/site-packages/torch_geometric/warnings.py:11: UserWarning: The usage of `scatter(reduce='max')` can be accelerated via the 'torch-scatter' package, but it was not found\n",
      "  warnings.warn(message)\n"
     ]
    },
    {
     "name": "stdout",
     "output_type": "stream",
     "text": [
      "Epoch: 167 (66.2091s), train_loss: 0.2272, val_loss: 0.2816, train_acc: 0.9150, val_acc:0.8919\n",
      "\t\ttrain_roc: 0.9650, val_roc: 0.9520, train_auprc: 0.9551, val_auprc: 0.9425\n"
     ]
    },
    {
     "name": "stderr",
     "output_type": "stream",
     "text": [
      "/home/namle/.local/lib/python3.10/site-packages/torch_geometric/warnings.py:11: UserWarning: The usage of `scatter(reduce='max')` can be accelerated via the 'torch-scatter' package, but it was not found\n",
      "  warnings.warn(message)\n"
     ]
    },
    {
     "name": "stdout",
     "output_type": "stream",
     "text": [
      "Epoch: 168 (65.9298s), train_loss: 0.2274, val_loss: 0.2841, train_acc: 0.9149, val_acc:0.8901\n",
      "\t\ttrain_roc: 0.9651, val_roc: 0.9510, train_auprc: 0.9553, val_auprc: 0.9415\n"
     ]
    },
    {
     "name": "stderr",
     "output_type": "stream",
     "text": [
      "/home/namle/.local/lib/python3.10/site-packages/torch_geometric/warnings.py:11: UserWarning: The usage of `scatter(reduce='max')` can be accelerated via the 'torch-scatter' package, but it was not found\n",
      "  warnings.warn(message)\n"
     ]
    },
    {
     "name": "stdout",
     "output_type": "stream",
     "text": [
      "Epoch: 169 (66.0769s), train_loss: 0.2264, val_loss: 0.2798, train_acc: 0.9147, val_acc:0.8919\n",
      "\t\ttrain_roc: 0.9654, val_roc: 0.9529, train_auprc: 0.9561, val_auprc: 0.9442\n"
     ]
    },
    {
     "name": "stderr",
     "output_type": "stream",
     "text": [
      "/home/namle/.local/lib/python3.10/site-packages/torch_geometric/warnings.py:11: UserWarning: The usage of `scatter(reduce='max')` can be accelerated via the 'torch-scatter' package, but it was not found\n",
      "  warnings.warn(message)\n"
     ]
    },
    {
     "name": "stdout",
     "output_type": "stream",
     "text": [
      "Epoch: 170 (65.9584s), train_loss: 0.2268, val_loss: 0.2809, train_acc: 0.9146, val_acc:0.8921\n",
      "\t\ttrain_roc: 0.9652, val_roc: 0.9523, train_auprc: 0.9559, val_auprc: 0.9429\n"
     ]
    },
    {
     "name": "stderr",
     "output_type": "stream",
     "text": [
      "/home/namle/.local/lib/python3.10/site-packages/torch_geometric/warnings.py:11: UserWarning: The usage of `scatter(reduce='max')` can be accelerated via the 'torch-scatter' package, but it was not found\n",
      "  warnings.warn(message)\n"
     ]
    },
    {
     "name": "stdout",
     "output_type": "stream",
     "text": [
      "Epoch: 171 (66.1659s), train_loss: 0.2268, val_loss: 0.2800, train_acc: 0.9145, val_acc:0.8921\n",
      "\t\ttrain_roc: 0.9654, val_roc: 0.9527, train_auprc: 0.9556, val_auprc: 0.9438\n"
     ]
    },
    {
     "name": "stderr",
     "output_type": "stream",
     "text": [
      "/home/namle/.local/lib/python3.10/site-packages/torch_geometric/warnings.py:11: UserWarning: The usage of `scatter(reduce='max')` can be accelerated via the 'torch-scatter' package, but it was not found\n",
      "  warnings.warn(message)\n"
     ]
    },
    {
     "name": "stdout",
     "output_type": "stream",
     "text": [
      "Epoch: 172 (65.9517s), train_loss: 0.2266, val_loss: 0.2806, train_acc: 0.9145, val_acc:0.8924\n",
      "\t\ttrain_roc: 0.9652, val_roc: 0.9525, train_auprc: 0.9559, val_auprc: 0.9430\n"
     ]
    },
    {
     "name": "stderr",
     "output_type": "stream",
     "text": [
      "/home/namle/.local/lib/python3.10/site-packages/torch_geometric/warnings.py:11: UserWarning: The usage of `scatter(reduce='max')` can be accelerated via the 'torch-scatter' package, but it was not found\n",
      "  warnings.warn(message)\n"
     ]
    },
    {
     "name": "stdout",
     "output_type": "stream",
     "text": [
      "Epoch: 173 (66.0024s), train_loss: 0.2263, val_loss: 0.2800, train_acc: 0.9149, val_acc:0.8921\n",
      "\t\ttrain_roc: 0.9654, val_roc: 0.9526, train_auprc: 0.9558, val_auprc: 0.9434\n"
     ]
    },
    {
     "name": "stderr",
     "output_type": "stream",
     "text": [
      "/home/namle/.local/lib/python3.10/site-packages/torch_geometric/warnings.py:11: UserWarning: The usage of `scatter(reduce='max')` can be accelerated via the 'torch-scatter' package, but it was not found\n",
      "  warnings.warn(message)\n"
     ]
    },
    {
     "name": "stdout",
     "output_type": "stream",
     "text": [
      "Saving model prc\n",
      "Saving model roc\n",
      "Epoch: 174 (66.1183s), train_loss: 0.2261, val_loss: 0.2775, train_acc: 0.9149, val_acc:0.8923\n",
      "\t\ttrain_roc: 0.9656, val_roc: 0.9538, train_auprc: 0.9562, val_auprc: 0.9453\n"
     ]
    },
    {
     "name": "stderr",
     "output_type": "stream",
     "text": [
      "/home/namle/.local/lib/python3.10/site-packages/torch_geometric/warnings.py:11: UserWarning: The usage of `scatter(reduce='max')` can be accelerated via the 'torch-scatter' package, but it was not found\n",
      "  warnings.warn(message)\n"
     ]
    },
    {
     "name": "stdout",
     "output_type": "stream",
     "text": [
      "Epoch: 175 (65.9447s), train_loss: 0.2271, val_loss: 0.2800, train_acc: 0.9144, val_acc:0.8921\n",
      "\t\ttrain_roc: 0.9652, val_roc: 0.9528, train_auprc: 0.9557, val_auprc: 0.9439\n"
     ]
    },
    {
     "name": "stderr",
     "output_type": "stream",
     "text": [
      "/home/namle/.local/lib/python3.10/site-packages/torch_geometric/warnings.py:11: UserWarning: The usage of `scatter(reduce='max')` can be accelerated via the 'torch-scatter' package, but it was not found\n",
      "  warnings.warn(message)\n"
     ]
    },
    {
     "name": "stdout",
     "output_type": "stream",
     "text": [
      "Epoch: 176 (65.9636s), train_loss: 0.2280, val_loss: 0.2792, train_acc: 0.9148, val_acc:0.8916\n",
      "\t\ttrain_roc: 0.9648, val_roc: 0.9531, train_auprc: 0.9548, val_auprc: 0.9451\n"
     ]
    },
    {
     "name": "stderr",
     "output_type": "stream",
     "text": [
      "/home/namle/.local/lib/python3.10/site-packages/torch_geometric/warnings.py:11: UserWarning: The usage of `scatter(reduce='max')` can be accelerated via the 'torch-scatter' package, but it was not found\n",
      "  warnings.warn(message)\n"
     ]
    },
    {
     "name": "stdout",
     "output_type": "stream",
     "text": [
      "Epoch: 177 (65.9122s), train_loss: 0.2276, val_loss: 0.2805, train_acc: 0.9139, val_acc:0.8916\n",
      "\t\ttrain_roc: 0.9651, val_roc: 0.9527, train_auprc: 0.9556, val_auprc: 0.9436\n"
     ]
    },
    {
     "name": "stderr",
     "output_type": "stream",
     "text": [
      "/home/namle/.local/lib/python3.10/site-packages/torch_geometric/warnings.py:11: UserWarning: The usage of `scatter(reduce='max')` can be accelerated via the 'torch-scatter' package, but it was not found\n",
      "  warnings.warn(message)\n"
     ]
    },
    {
     "name": "stdout",
     "output_type": "stream",
     "text": [
      "Epoch: 178 (66.1437s), train_loss: 0.2268, val_loss: 0.2797, train_acc: 0.9146, val_acc:0.8920\n",
      "\t\ttrain_roc: 0.9652, val_roc: 0.9528, train_auprc: 0.9560, val_auprc: 0.9442\n"
     ]
    },
    {
     "name": "stderr",
     "output_type": "stream",
     "text": [
      "/home/namle/.local/lib/python3.10/site-packages/torch_geometric/warnings.py:11: UserWarning: The usage of `scatter(reduce='max')` can be accelerated via the 'torch-scatter' package, but it was not found\n",
      "  warnings.warn(message)\n"
     ]
    },
    {
     "name": "stdout",
     "output_type": "stream",
     "text": [
      "Epoch: 179 (65.9688s), train_loss: 0.2276, val_loss: 0.2793, train_acc: 0.9148, val_acc:0.8919\n",
      "\t\ttrain_roc: 0.9650, val_roc: 0.9532, train_auprc: 0.9550, val_auprc: 0.9444\n"
     ]
    },
    {
     "name": "stderr",
     "output_type": "stream",
     "text": [
      "/home/namle/.local/lib/python3.10/site-packages/torch_geometric/warnings.py:11: UserWarning: The usage of `scatter(reduce='max')` can be accelerated via the 'torch-scatter' package, but it was not found\n",
      "  warnings.warn(message)\n"
     ]
    },
    {
     "name": "stdout",
     "output_type": "stream",
     "text": [
      "Epoch: 180 (65.9466s), train_loss: 0.2272, val_loss: 0.2834, train_acc: 0.9146, val_acc:0.8909\n",
      "\t\ttrain_roc: 0.9652, val_roc: 0.9516, train_auprc: 0.9553, val_auprc: 0.9419\n"
     ]
    },
    {
     "name": "stderr",
     "output_type": "stream",
     "text": [
      "/home/namle/.local/lib/python3.10/site-packages/torch_geometric/warnings.py:11: UserWarning: The usage of `scatter(reduce='max')` can be accelerated via the 'torch-scatter' package, but it was not found\n",
      "  warnings.warn(message)\n"
     ]
    },
    {
     "name": "stdout",
     "output_type": "stream",
     "text": [
      "Epoch: 181 (65.8741s), train_loss: 0.2279, val_loss: 0.2826, train_acc: 0.9144, val_acc:0.8903\n",
      "\t\ttrain_roc: 0.9647, val_roc: 0.9519, train_auprc: 0.9550, val_auprc: 0.9429\n"
     ]
    },
    {
     "name": "stderr",
     "output_type": "stream",
     "text": [
      "/home/namle/.local/lib/python3.10/site-packages/torch_geometric/warnings.py:11: UserWarning: The usage of `scatter(reduce='max')` can be accelerated via the 'torch-scatter' package, but it was not found\n",
      "  warnings.warn(message)\n"
     ]
    },
    {
     "name": "stdout",
     "output_type": "stream",
     "text": [
      "Epoch: 182 (66.0893s), train_loss: 0.2257, val_loss: 0.2815, train_acc: 0.9158, val_acc:0.8904\n",
      "\t\ttrain_roc: 0.9656, val_roc: 0.9520, train_auprc: 0.9559, val_auprc: 0.9433\n"
     ]
    },
    {
     "name": "stderr",
     "output_type": "stream",
     "text": [
      "/home/namle/.local/lib/python3.10/site-packages/torch_geometric/warnings.py:11: UserWarning: The usage of `scatter(reduce='max')` can be accelerated via the 'torch-scatter' package, but it was not found\n",
      "  warnings.warn(message)\n"
     ]
    },
    {
     "name": "stdout",
     "output_type": "stream",
     "text": [
      "Epoch: 183 (66.0024s), train_loss: 0.2271, val_loss: 0.2802, train_acc: 0.9147, val_acc:0.8920\n",
      "\t\ttrain_roc: 0.9651, val_roc: 0.9528, train_auprc: 0.9554, val_auprc: 0.9440\n"
     ]
    },
    {
     "name": "stderr",
     "output_type": "stream",
     "text": [
      "/home/namle/.local/lib/python3.10/site-packages/torch_geometric/warnings.py:11: UserWarning: The usage of `scatter(reduce='max')` can be accelerated via the 'torch-scatter' package, but it was not found\n",
      "  warnings.warn(message)\n"
     ]
    },
    {
     "name": "stdout",
     "output_type": "stream",
     "text": [
      "Saving model acc\n",
      "Epoch: 184 (66.0782s), train_loss: 0.2270, val_loss: 0.2790, train_acc: 0.9143, val_acc:0.8926\n",
      "\t\ttrain_roc: 0.9652, val_roc: 0.9532, train_auprc: 0.9555, val_auprc: 0.9442\n"
     ]
    },
    {
     "name": "stderr",
     "output_type": "stream",
     "text": [
      "/home/namle/.local/lib/python3.10/site-packages/torch_geometric/warnings.py:11: UserWarning: The usage of `scatter(reduce='max')` can be accelerated via the 'torch-scatter' package, but it was not found\n",
      "  warnings.warn(message)\n"
     ]
    },
    {
     "name": "stdout",
     "output_type": "stream",
     "text": [
      "Epoch: 185 (65.9759s), train_loss: 0.2247, val_loss: 0.2793, train_acc: 0.9155, val_acc:0.8920\n",
      "\t\ttrain_roc: 0.9659, val_roc: 0.9530, train_auprc: 0.9565, val_auprc: 0.9440\n"
     ]
    },
    {
     "name": "stderr",
     "output_type": "stream",
     "text": [
      "/home/namle/.local/lib/python3.10/site-packages/torch_geometric/warnings.py:11: UserWarning: The usage of `scatter(reduce='max')` can be accelerated via the 'torch-scatter' package, but it was not found\n",
      "  warnings.warn(message)\n"
     ]
    },
    {
     "name": "stdout",
     "output_type": "stream",
     "text": [
      "Epoch: 186 (65.8834s), train_loss: 0.2279, val_loss: 0.2798, train_acc: 0.9146, val_acc:0.8914\n",
      "\t\ttrain_roc: 0.9648, val_roc: 0.9529, train_auprc: 0.9547, val_auprc: 0.9440\n"
     ]
    },
    {
     "name": "stderr",
     "output_type": "stream",
     "text": [
      "/home/namle/.local/lib/python3.10/site-packages/torch_geometric/warnings.py:11: UserWarning: The usage of `scatter(reduce='max')` can be accelerated via the 'torch-scatter' package, but it was not found\n",
      "  warnings.warn(message)\n"
     ]
    },
    {
     "name": "stdout",
     "output_type": "stream",
     "text": [
      "Epoch: 187 (66.0015s), train_loss: 0.2260, val_loss: 0.2829, train_acc: 0.9152, val_acc:0.8915\n",
      "\t\ttrain_roc: 0.9654, val_roc: 0.9517, train_auprc: 0.9559, val_auprc: 0.9419\n"
     ]
    },
    {
     "name": "stderr",
     "output_type": "stream",
     "text": [
      "/home/namle/.local/lib/python3.10/site-packages/torch_geometric/warnings.py:11: UserWarning: The usage of `scatter(reduce='max')` can be accelerated via the 'torch-scatter' package, but it was not found\n",
      "  warnings.warn(message)\n"
     ]
    },
    {
     "name": "stdout",
     "output_type": "stream",
     "text": [
      "Epoch: 188 (66.1114s), train_loss: 0.2278, val_loss: 0.2836, train_acc: 0.9143, val_acc:0.8906\n",
      "\t\ttrain_roc: 0.9650, val_roc: 0.9514, train_auprc: 0.9549, val_auprc: 0.9419\n"
     ]
    },
    {
     "name": "stderr",
     "output_type": "stream",
     "text": [
      "/home/namle/.local/lib/python3.10/site-packages/torch_geometric/warnings.py:11: UserWarning: The usage of `scatter(reduce='max')` can be accelerated via the 'torch-scatter' package, but it was not found\n",
      "  warnings.warn(message)\n"
     ]
    },
    {
     "name": "stdout",
     "output_type": "stream",
     "text": [
      "Epoch: 189 (67.0950s), train_loss: 0.2277, val_loss: 0.2801, train_acc: 0.9140, val_acc:0.8918\n",
      "\t\ttrain_roc: 0.9648, val_roc: 0.9529, train_auprc: 0.9550, val_auprc: 0.9444\n"
     ]
    },
    {
     "name": "stderr",
     "output_type": "stream",
     "text": [
      "/home/namle/.local/lib/python3.10/site-packages/torch_geometric/warnings.py:11: UserWarning: The usage of `scatter(reduce='max')` can be accelerated via the 'torch-scatter' package, but it was not found\n",
      "  warnings.warn(message)\n"
     ]
    },
    {
     "name": "stdout",
     "output_type": "stream",
     "text": [
      "Epoch: 190 (65.9491s), train_loss: 0.2277, val_loss: 0.2800, train_acc: 0.9142, val_acc:0.8919\n",
      "\t\ttrain_roc: 0.9649, val_roc: 0.9526, train_auprc: 0.9549, val_auprc: 0.9436\n"
     ]
    },
    {
     "name": "stderr",
     "output_type": "stream",
     "text": [
      "/home/namle/.local/lib/python3.10/site-packages/torch_geometric/warnings.py:11: UserWarning: The usage of `scatter(reduce='max')` can be accelerated via the 'torch-scatter' package, but it was not found\n",
      "  warnings.warn(message)\n"
     ]
    },
    {
     "name": "stdout",
     "output_type": "stream",
     "text": [
      "Epoch: 191 (66.0177s), train_loss: 0.2261, val_loss: 0.2796, train_acc: 0.9149, val_acc:0.8921\n",
      "\t\ttrain_roc: 0.9653, val_roc: 0.9530, train_auprc: 0.9557, val_auprc: 0.9444\n"
     ]
    },
    {
     "name": "stderr",
     "output_type": "stream",
     "text": [
      "/home/namle/.local/lib/python3.10/site-packages/torch_geometric/warnings.py:11: UserWarning: The usage of `scatter(reduce='max')` can be accelerated via the 'torch-scatter' package, but it was not found\n",
      "  warnings.warn(message)\n"
     ]
    },
    {
     "name": "stdout",
     "output_type": "stream",
     "text": [
      "Epoch: 192 (66.0768s), train_loss: 0.2271, val_loss: 0.2790, train_acc: 0.9144, val_acc:0.8920\n",
      "\t\ttrain_roc: 0.9653, val_roc: 0.9532, train_auprc: 0.9557, val_auprc: 0.9441\n"
     ]
    },
    {
     "name": "stderr",
     "output_type": "stream",
     "text": [
      "/home/namle/.local/lib/python3.10/site-packages/torch_geometric/warnings.py:11: UserWarning: The usage of `scatter(reduce='max')` can be accelerated via the 'torch-scatter' package, but it was not found\n",
      "  warnings.warn(message)\n"
     ]
    },
    {
     "name": "stdout",
     "output_type": "stream",
     "text": [
      "Epoch: 193 (66.3973s), train_loss: 0.2257, val_loss: 0.2818, train_acc: 0.9153, val_acc:0.8913\n",
      "\t\ttrain_roc: 0.9656, val_roc: 0.9520, train_auprc: 0.9562, val_auprc: 0.9428\n"
     ]
    },
    {
     "name": "stderr",
     "output_type": "stream",
     "text": [
      "/home/namle/.local/lib/python3.10/site-packages/torch_geometric/warnings.py:11: UserWarning: The usage of `scatter(reduce='max')` can be accelerated via the 'torch-scatter' package, but it was not found\n",
      "  warnings.warn(message)\n"
     ]
    },
    {
     "name": "stdout",
     "output_type": "stream",
     "text": [
      "Saving model acc\n",
      "Epoch: 194 (65.9538s), train_loss: 0.2261, val_loss: 0.2784, train_acc: 0.9154, val_acc:0.8929\n",
      "\t\ttrain_roc: 0.9654, val_roc: 0.9534, train_auprc: 0.9557, val_auprc: 0.9446\n"
     ]
    },
    {
     "name": "stderr",
     "output_type": "stream",
     "text": [
      "/home/namle/.local/lib/python3.10/site-packages/torch_geometric/warnings.py:11: UserWarning: The usage of `scatter(reduce='max')` can be accelerated via the 'torch-scatter' package, but it was not found\n",
      "  warnings.warn(message)\n"
     ]
    },
    {
     "name": "stdout",
     "output_type": "stream",
     "text": [
      "Epoch: 195 (65.9638s), train_loss: 0.2246, val_loss: 0.2792, train_acc: 0.9156, val_acc:0.8922\n",
      "\t\ttrain_roc: 0.9662, val_roc: 0.9531, train_auprc: 0.9568, val_auprc: 0.9450\n"
     ]
    },
    {
     "name": "stderr",
     "output_type": "stream",
     "text": [
      "/home/namle/.local/lib/python3.10/site-packages/torch_geometric/warnings.py:11: UserWarning: The usage of `scatter(reduce='max')` can be accelerated via the 'torch-scatter' package, but it was not found\n",
      "  warnings.warn(message)\n"
     ]
    },
    {
     "name": "stdout",
     "output_type": "stream",
     "text": [
      "Epoch: 196 (66.1089s), train_loss: 0.2264, val_loss: 0.2824, train_acc: 0.9150, val_acc:0.8915\n",
      "\t\ttrain_roc: 0.9652, val_roc: 0.9519, train_auprc: 0.9552, val_auprc: 0.9417\n"
     ]
    },
    {
     "name": "stderr",
     "output_type": "stream",
     "text": [
      "/home/namle/.local/lib/python3.10/site-packages/torch_geometric/warnings.py:11: UserWarning: The usage of `scatter(reduce='max')` can be accelerated via the 'torch-scatter' package, but it was not found\n",
      "  warnings.warn(message)\n"
     ]
    },
    {
     "name": "stdout",
     "output_type": "stream",
     "text": [
      "Epoch: 197 (66.0346s), train_loss: 0.2257, val_loss: 0.2818, train_acc: 0.9153, val_acc:0.8920\n",
      "\t\ttrain_roc: 0.9656, val_roc: 0.9520, train_auprc: 0.9560, val_auprc: 0.9423\n"
     ]
    },
    {
     "name": "stderr",
     "output_type": "stream",
     "text": [
      "/home/namle/.local/lib/python3.10/site-packages/torch_geometric/warnings.py:11: UserWarning: The usage of `scatter(reduce='max')` can be accelerated via the 'torch-scatter' package, but it was not found\n",
      "  warnings.warn(message)\n"
     ]
    },
    {
     "name": "stdout",
     "output_type": "stream",
     "text": [
      "Epoch: 198 (66.1061s), train_loss: 0.2271, val_loss: 0.2804, train_acc: 0.9145, val_acc:0.8918\n",
      "\t\ttrain_roc: 0.9651, val_roc: 0.9527, train_auprc: 0.9553, val_auprc: 0.9436\n"
     ]
    },
    {
     "name": "stderr",
     "output_type": "stream",
     "text": [
      "/home/namle/.local/lib/python3.10/site-packages/torch_geometric/warnings.py:11: UserWarning: The usage of `scatter(reduce='max')` can be accelerated via the 'torch-scatter' package, but it was not found\n",
      "  warnings.warn(message)\n"
     ]
    },
    {
     "name": "stdout",
     "output_type": "stream",
     "text": [
      "Epoch: 199 (66.0311s), train_loss: 0.2266, val_loss: 0.2804, train_acc: 0.9151, val_acc:0.8916\n",
      "\t\ttrain_roc: 0.9654, val_roc: 0.9528, train_auprc: 0.9555, val_auprc: 0.9439\n"
     ]
    },
    {
     "name": "stderr",
     "output_type": "stream",
     "text": [
      "/home/namle/.local/lib/python3.10/site-packages/torch_geometric/warnings.py:11: UserWarning: The usage of `scatter(reduce='max')` can be accelerated via the 'torch-scatter' package, but it was not found\n",
      "  warnings.warn(message)\n"
     ]
    },
    {
     "name": "stdout",
     "output_type": "stream",
     "text": [
      "Epoch: 200 (66.1763s), train_loss: 0.2279, val_loss: 0.2813, train_acc: 0.9147, val_acc:0.8911\n",
      "\t\ttrain_roc: 0.9648, val_roc: 0.9524, train_auprc: 0.9546, val_auprc: 0.9432\n"
     ]
    },
    {
     "name": "stderr",
     "output_type": "stream",
     "text": [
      "/home/namle/.local/lib/python3.10/site-packages/torch_geometric/warnings.py:11: UserWarning: The usage of `scatter(reduce='max')` can be accelerated via the 'torch-scatter' package, but it was not found\n",
      "  warnings.warn(message)\n"
     ]
    },
    {
     "name": "stdout",
     "output_type": "stream",
     "text": [
      "Epoch: 201 (66.0985s), train_loss: 0.2269, val_loss: 0.2838, train_acc: 0.9147, val_acc:0.8908\n",
      "\t\ttrain_roc: 0.9651, val_roc: 0.9513, train_auprc: 0.9556, val_auprc: 0.9413\n"
     ]
    },
    {
     "name": "stderr",
     "output_type": "stream",
     "text": [
      "/home/namle/.local/lib/python3.10/site-packages/torch_geometric/warnings.py:11: UserWarning: The usage of `scatter(reduce='max')` can be accelerated via the 'torch-scatter' package, but it was not found\n",
      "  warnings.warn(message)\n"
     ]
    },
    {
     "name": "stdout",
     "output_type": "stream",
     "text": [
      "Epoch: 202 (66.0985s), train_loss: 0.2251, val_loss: 0.2798, train_acc: 0.9156, val_acc:0.8919\n",
      "\t\ttrain_roc: 0.9657, val_roc: 0.9528, train_auprc: 0.9563, val_auprc: 0.9436\n"
     ]
    },
    {
     "name": "stderr",
     "output_type": "stream",
     "text": [
      "/home/namle/.local/lib/python3.10/site-packages/torch_geometric/warnings.py:11: UserWarning: The usage of `scatter(reduce='max')` can be accelerated via the 'torch-scatter' package, but it was not found\n",
      "  warnings.warn(message)\n"
     ]
    },
    {
     "name": "stdout",
     "output_type": "stream",
     "text": [
      "Epoch: 203 (66.0869s), train_loss: 0.2261, val_loss: 0.2797, train_acc: 0.9149, val_acc:0.8920\n",
      "\t\ttrain_roc: 0.9655, val_roc: 0.9529, train_auprc: 0.9561, val_auprc: 0.9439\n"
     ]
    },
    {
     "name": "stderr",
     "output_type": "stream",
     "text": [
      "/home/namle/.local/lib/python3.10/site-packages/torch_geometric/warnings.py:11: UserWarning: The usage of `scatter(reduce='max')` can be accelerated via the 'torch-scatter' package, but it was not found\n",
      "  warnings.warn(message)\n"
     ]
    },
    {
     "name": "stdout",
     "output_type": "stream",
     "text": [
      "Epoch: 204 (66.1174s), train_loss: 0.2268, val_loss: 0.2831, train_acc: 0.9148, val_acc:0.8915\n",
      "\t\ttrain_roc: 0.9651, val_roc: 0.9517, train_auprc: 0.9556, val_auprc: 0.9414\n"
     ]
    },
    {
     "name": "stderr",
     "output_type": "stream",
     "text": [
      "/home/namle/.local/lib/python3.10/site-packages/torch_geometric/warnings.py:11: UserWarning: The usage of `scatter(reduce='max')` can be accelerated via the 'torch-scatter' package, but it was not found\n",
      "  warnings.warn(message)\n"
     ]
    },
    {
     "name": "stdout",
     "output_type": "stream",
     "text": [
      "Epoch: 205 (66.0547s), train_loss: 0.2263, val_loss: 0.2799, train_acc: 0.9148, val_acc:0.8922\n",
      "\t\ttrain_roc: 0.9655, val_roc: 0.9529, train_auprc: 0.9557, val_auprc: 0.9438\n"
     ]
    },
    {
     "name": "stderr",
     "output_type": "stream",
     "text": [
      "/home/namle/.local/lib/python3.10/site-packages/torch_geometric/warnings.py:11: UserWarning: The usage of `scatter(reduce='max')` can be accelerated via the 'torch-scatter' package, but it was not found\n",
      "  warnings.warn(message)\n"
     ]
    },
    {
     "name": "stdout",
     "output_type": "stream",
     "text": [
      "Epoch: 206 (66.1650s), train_loss: 0.2274, val_loss: 0.2805, train_acc: 0.9147, val_acc:0.8916\n",
      "\t\ttrain_roc: 0.9650, val_roc: 0.9527, train_auprc: 0.9551, val_auprc: 0.9432\n"
     ]
    },
    {
     "name": "stderr",
     "output_type": "stream",
     "text": [
      "/home/namle/.local/lib/python3.10/site-packages/torch_geometric/warnings.py:11: UserWarning: The usage of `scatter(reduce='max')` can be accelerated via the 'torch-scatter' package, but it was not found\n",
      "  warnings.warn(message)\n"
     ]
    },
    {
     "name": "stdout",
     "output_type": "stream",
     "text": [
      "Epoch: 207 (66.0805s), train_loss: 0.2258, val_loss: 0.2810, train_acc: 0.9154, val_acc:0.8920\n",
      "\t\ttrain_roc: 0.9656, val_roc: 0.9523, train_auprc: 0.9560, val_auprc: 0.9431\n"
     ]
    },
    {
     "name": "stderr",
     "output_type": "stream",
     "text": [
      "/home/namle/.local/lib/python3.10/site-packages/torch_geometric/warnings.py:11: UserWarning: The usage of `scatter(reduce='max')` can be accelerated via the 'torch-scatter' package, but it was not found\n",
      "  warnings.warn(message)\n"
     ]
    },
    {
     "name": "stdout",
     "output_type": "stream",
     "text": [
      "Epoch: 208 (66.0053s), train_loss: 0.2254, val_loss: 0.2824, train_acc: 0.9156, val_acc:0.8912\n",
      "\t\ttrain_roc: 0.9657, val_roc: 0.9517, train_auprc: 0.9562, val_auprc: 0.9425\n"
     ]
    },
    {
     "name": "stderr",
     "output_type": "stream",
     "text": [
      "/home/namle/.local/lib/python3.10/site-packages/torch_geometric/warnings.py:11: UserWarning: The usage of `scatter(reduce='max')` can be accelerated via the 'torch-scatter' package, but it was not found\n",
      "  warnings.warn(message)\n"
     ]
    },
    {
     "name": "stdout",
     "output_type": "stream",
     "text": [
      "Epoch: 209 (65.9074s), train_loss: 0.2258, val_loss: 0.2841, train_acc: 0.9152, val_acc:0.8910\n",
      "\t\ttrain_roc: 0.9655, val_roc: 0.9511, train_auprc: 0.9561, val_auprc: 0.9412\n"
     ]
    },
    {
     "name": "stderr",
     "output_type": "stream",
     "text": [
      "/home/namle/.local/lib/python3.10/site-packages/torch_geometric/warnings.py:11: UserWarning: The usage of `scatter(reduce='max')` can be accelerated via the 'torch-scatter' package, but it was not found\n",
      "  warnings.warn(message)\n"
     ]
    },
    {
     "name": "stdout",
     "output_type": "stream",
     "text": [
      "Epoch: 210 (66.1610s), train_loss: 0.2280, val_loss: 0.2814, train_acc: 0.9140, val_acc:0.8915\n",
      "\t\ttrain_roc: 0.9648, val_roc: 0.9525, train_auprc: 0.9550, val_auprc: 0.9431\n"
     ]
    },
    {
     "name": "stderr",
     "output_type": "stream",
     "text": [
      "/home/namle/.local/lib/python3.10/site-packages/torch_geometric/warnings.py:11: UserWarning: The usage of `scatter(reduce='max')` can be accelerated via the 'torch-scatter' package, but it was not found\n",
      "  warnings.warn(message)\n"
     ]
    },
    {
     "name": "stdout",
     "output_type": "stream",
     "text": [
      "Epoch: 211 (66.1354s), train_loss: 0.2256, val_loss: 0.2801, train_acc: 0.9151, val_acc:0.8921\n",
      "\t\ttrain_roc: 0.9657, val_roc: 0.9528, train_auprc: 0.9564, val_auprc: 0.9439\n"
     ]
    },
    {
     "name": "stderr",
     "output_type": "stream",
     "text": [
      "/home/namle/.local/lib/python3.10/site-packages/torch_geometric/warnings.py:11: UserWarning: The usage of `scatter(reduce='max')` can be accelerated via the 'torch-scatter' package, but it was not found\n",
      "  warnings.warn(message)\n"
     ]
    },
    {
     "name": "stdout",
     "output_type": "stream",
     "text": [
      "Epoch: 212 (66.0217s), train_loss: 0.2267, val_loss: 0.2804, train_acc: 0.9151, val_acc:0.8917\n",
      "\t\ttrain_roc: 0.9653, val_roc: 0.9526, train_auprc: 0.9552, val_auprc: 0.9439\n"
     ]
    },
    {
     "name": "stderr",
     "output_type": "stream",
     "text": [
      "/home/namle/.local/lib/python3.10/site-packages/torch_geometric/warnings.py:11: UserWarning: The usage of `scatter(reduce='max')` can be accelerated via the 'torch-scatter' package, but it was not found\n",
      "  warnings.warn(message)\n"
     ]
    },
    {
     "name": "stdout",
     "output_type": "stream",
     "text": [
      "Epoch: 213 (65.9774s), train_loss: 0.2268, val_loss: 0.2814, train_acc: 0.9140, val_acc:0.8913\n",
      "\t\ttrain_roc: 0.9652, val_roc: 0.9523, train_auprc: 0.9559, val_auprc: 0.9434\n"
     ]
    },
    {
     "name": "stderr",
     "output_type": "stream",
     "text": [
      "/home/namle/.local/lib/python3.10/site-packages/torch_geometric/warnings.py:11: UserWarning: The usage of `scatter(reduce='max')` can be accelerated via the 'torch-scatter' package, but it was not found\n",
      "  warnings.warn(message)\n"
     ]
    },
    {
     "name": "stdout",
     "output_type": "stream",
     "text": [
      "Epoch: 214 (66.1307s), train_loss: 0.2266, val_loss: 0.2843, train_acc: 0.9148, val_acc:0.8897\n",
      "\t\ttrain_roc: 0.9652, val_roc: 0.9512, train_auprc: 0.9554, val_auprc: 0.9418\n"
     ]
    },
    {
     "name": "stderr",
     "output_type": "stream",
     "text": [
      "/home/namle/.local/lib/python3.10/site-packages/torch_geometric/warnings.py:11: UserWarning: The usage of `scatter(reduce='max')` can be accelerated via the 'torch-scatter' package, but it was not found\n",
      "  warnings.warn(message)\n"
     ]
    },
    {
     "name": "stdout",
     "output_type": "stream",
     "text": [
      "Epoch: 215 (66.0483s), train_loss: 0.2247, val_loss: 0.2804, train_acc: 0.9157, val_acc:0.8914\n",
      "\t\ttrain_roc: 0.9660, val_roc: 0.9527, train_auprc: 0.9567, val_auprc: 0.9442\n"
     ]
    },
    {
     "name": "stderr",
     "output_type": "stream",
     "text": [
      "/home/namle/.local/lib/python3.10/site-packages/torch_geometric/warnings.py:11: UserWarning: The usage of `scatter(reduce='max')` can be accelerated via the 'torch-scatter' package, but it was not found\n",
      "  warnings.warn(message)\n"
     ]
    },
    {
     "name": "stdout",
     "output_type": "stream",
     "text": [
      "Saving model acc\n",
      "Epoch: 216 (66.0793s), train_loss: 0.2248, val_loss: 0.2787, train_acc: 0.9158, val_acc:0.8929\n",
      "\t\ttrain_roc: 0.9659, val_roc: 0.9534, train_auprc: 0.9564, val_auprc: 0.9445\n"
     ]
    },
    {
     "name": "stderr",
     "output_type": "stream",
     "text": [
      "/home/namle/.local/lib/python3.10/site-packages/torch_geometric/warnings.py:11: UserWarning: The usage of `scatter(reduce='max')` can be accelerated via the 'torch-scatter' package, but it was not found\n",
      "  warnings.warn(message)\n"
     ]
    },
    {
     "name": "stdout",
     "output_type": "stream",
     "text": [
      "Epoch: 217 (65.9793s), train_loss: 0.2269, val_loss: 0.2816, train_acc: 0.9150, val_acc:0.8909\n",
      "\t\ttrain_roc: 0.9651, val_roc: 0.9521, train_auprc: 0.9551, val_auprc: 0.9429\n"
     ]
    },
    {
     "name": "stderr",
     "output_type": "stream",
     "text": [
      "/home/namle/.local/lib/python3.10/site-packages/torch_geometric/warnings.py:11: UserWarning: The usage of `scatter(reduce='max')` can be accelerated via the 'torch-scatter' package, but it was not found\n",
      "  warnings.warn(message)\n"
     ]
    },
    {
     "name": "stdout",
     "output_type": "stream",
     "text": [
      "Epoch: 218 (66.0142s), train_loss: 0.2275, val_loss: 0.2816, train_acc: 0.9143, val_acc:0.8917\n",
      "\t\ttrain_roc: 0.9650, val_roc: 0.9521, train_auprc: 0.9554, val_auprc: 0.9425\n"
     ]
    },
    {
     "name": "stderr",
     "output_type": "stream",
     "text": [
      "/home/namle/.local/lib/python3.10/site-packages/torch_geometric/warnings.py:11: UserWarning: The usage of `scatter(reduce='max')` can be accelerated via the 'torch-scatter' package, but it was not found\n",
      "  warnings.warn(message)\n"
     ]
    },
    {
     "name": "stdout",
     "output_type": "stream",
     "text": [
      "Saving model prc\n",
      "Saving model acc\n",
      "Saving model roc\n",
      "Epoch: 219 (66.0167s), train_loss: 0.2268, val_loss: 0.2771, train_acc: 0.9147, val_acc:0.8931\n",
      "\t\ttrain_roc: 0.9653, val_roc: 0.9539, train_auprc: 0.9556, val_auprc: 0.9459\n"
     ]
    },
    {
     "name": "stderr",
     "output_type": "stream",
     "text": [
      "/home/namle/.local/lib/python3.10/site-packages/torch_geometric/warnings.py:11: UserWarning: The usage of `scatter(reduce='max')` can be accelerated via the 'torch-scatter' package, but it was not found\n",
      "  warnings.warn(message)\n"
     ]
    },
    {
     "name": "stdout",
     "output_type": "stream",
     "text": [
      "Epoch: 220 (66.0751s), train_loss: 0.2265, val_loss: 0.2799, train_acc: 0.9149, val_acc:0.8919\n",
      "\t\ttrain_roc: 0.9654, val_roc: 0.9528, train_auprc: 0.9557, val_auprc: 0.9438\n"
     ]
    },
    {
     "name": "stderr",
     "output_type": "stream",
     "text": [
      "/home/namle/.local/lib/python3.10/site-packages/torch_geometric/warnings.py:11: UserWarning: The usage of `scatter(reduce='max')` can be accelerated via the 'torch-scatter' package, but it was not found\n",
      "  warnings.warn(message)\n"
     ]
    },
    {
     "name": "stdout",
     "output_type": "stream",
     "text": [
      "Epoch: 221 (66.1291s), train_loss: 0.2262, val_loss: 0.2816, train_acc: 0.9149, val_acc:0.8910\n",
      "\t\ttrain_roc: 0.9654, val_roc: 0.9523, train_auprc: 0.9560, val_auprc: 0.9435\n"
     ]
    },
    {
     "name": "stderr",
     "output_type": "stream",
     "text": [
      "/home/namle/.local/lib/python3.10/site-packages/torch_geometric/warnings.py:11: UserWarning: The usage of `scatter(reduce='max')` can be accelerated via the 'torch-scatter' package, but it was not found\n",
      "  warnings.warn(message)\n"
     ]
    },
    {
     "name": "stdout",
     "output_type": "stream",
     "text": [
      "Epoch: 222 (65.9556s), train_loss: 0.2265, val_loss: 0.2781, train_acc: 0.9152, val_acc:0.8930\n",
      "\t\ttrain_roc: 0.9652, val_roc: 0.9537, train_auprc: 0.9553, val_auprc: 0.9449\n"
     ]
    },
    {
     "name": "stderr",
     "output_type": "stream",
     "text": [
      "/home/namle/.local/lib/python3.10/site-packages/torch_geometric/warnings.py:11: UserWarning: The usage of `scatter(reduce='max')` can be accelerated via the 'torch-scatter' package, but it was not found\n",
      "  warnings.warn(message)\n"
     ]
    },
    {
     "name": "stdout",
     "output_type": "stream",
     "text": [
      "Epoch: 223 (65.9389s), train_loss: 0.2270, val_loss: 0.2834, train_acc: 0.9143, val_acc:0.8908\n",
      "\t\ttrain_roc: 0.9651, val_roc: 0.9515, train_auprc: 0.9553, val_auprc: 0.9418\n"
     ]
    },
    {
     "name": "stderr",
     "output_type": "stream",
     "text": [
      "/home/namle/.local/lib/python3.10/site-packages/torch_geometric/warnings.py:11: UserWarning: The usage of `scatter(reduce='max')` can be accelerated via the 'torch-scatter' package, but it was not found\n",
      "  warnings.warn(message)\n"
     ]
    },
    {
     "name": "stdout",
     "output_type": "stream",
     "text": [
      "Epoch: 224 (65.9726s), train_loss: 0.2259, val_loss: 0.2828, train_acc: 0.9157, val_acc:0.8913\n",
      "\t\ttrain_roc: 0.9655, val_roc: 0.9516, train_auprc: 0.9558, val_auprc: 0.9419\n"
     ]
    },
    {
     "name": "stderr",
     "output_type": "stream",
     "text": [
      "/home/namle/.local/lib/python3.10/site-packages/torch_geometric/warnings.py:11: UserWarning: The usage of `scatter(reduce='max')` can be accelerated via the 'torch-scatter' package, but it was not found\n",
      "  warnings.warn(message)\n"
     ]
    },
    {
     "name": "stdout",
     "output_type": "stream",
     "text": [
      "Epoch: 225 (66.0554s), train_loss: 0.2280, val_loss: 0.2798, train_acc: 0.9137, val_acc:0.8918\n",
      "\t\ttrain_roc: 0.9648, val_roc: 0.9533, train_auprc: 0.9551, val_auprc: 0.9440\n"
     ]
    },
    {
     "name": "stderr",
     "output_type": "stream",
     "text": [
      "/home/namle/.local/lib/python3.10/site-packages/torch_geometric/warnings.py:11: UserWarning: The usage of `scatter(reduce='max')` can be accelerated via the 'torch-scatter' package, but it was not found\n",
      "  warnings.warn(message)\n"
     ]
    },
    {
     "name": "stdout",
     "output_type": "stream",
     "text": [
      "Epoch: 226 (65.9391s), train_loss: 0.2253, val_loss: 0.2802, train_acc: 0.9158, val_acc:0.8925\n",
      "\t\ttrain_roc: 0.9658, val_roc: 0.9527, train_auprc: 0.9561, val_auprc: 0.9434\n"
     ]
    },
    {
     "name": "stderr",
     "output_type": "stream",
     "text": [
      "/home/namle/.local/lib/python3.10/site-packages/torch_geometric/warnings.py:11: UserWarning: The usage of `scatter(reduce='max')` can be accelerated via the 'torch-scatter' package, but it was not found\n",
      "  warnings.warn(message)\n"
     ]
    },
    {
     "name": "stdout",
     "output_type": "stream",
     "text": [
      "Epoch: 227 (65.9945s), train_loss: 0.2253, val_loss: 0.2818, train_acc: 0.9153, val_acc:0.8913\n",
      "\t\ttrain_roc: 0.9657, val_roc: 0.9521, train_auprc: 0.9563, val_auprc: 0.9433\n"
     ]
    },
    {
     "name": "stderr",
     "output_type": "stream",
     "text": [
      "/home/namle/.local/lib/python3.10/site-packages/torch_geometric/warnings.py:11: UserWarning: The usage of `scatter(reduce='max')` can be accelerated via the 'torch-scatter' package, but it was not found\n",
      "  warnings.warn(message)\n"
     ]
    },
    {
     "name": "stdout",
     "output_type": "stream",
     "text": [
      "Epoch: 228 (66.0035s), train_loss: 0.2264, val_loss: 0.2810, train_acc: 0.9147, val_acc:0.8917\n",
      "\t\ttrain_roc: 0.9654, val_roc: 0.9526, train_auprc: 0.9557, val_auprc: 0.9434\n"
     ]
    },
    {
     "name": "stderr",
     "output_type": "stream",
     "text": [
      "/home/namle/.local/lib/python3.10/site-packages/torch_geometric/warnings.py:11: UserWarning: The usage of `scatter(reduce='max')` can be accelerated via the 'torch-scatter' package, but it was not found\n",
      "  warnings.warn(message)\n"
     ]
    },
    {
     "name": "stdout",
     "output_type": "stream",
     "text": [
      "Epoch: 229 (66.2717s), train_loss: 0.2268, val_loss: 0.2798, train_acc: 0.9149, val_acc:0.8922\n",
      "\t\ttrain_roc: 0.9652, val_roc: 0.9528, train_auprc: 0.9558, val_auprc: 0.9442\n"
     ]
    },
    {
     "name": "stderr",
     "output_type": "stream",
     "text": [
      "/home/namle/.local/lib/python3.10/site-packages/torch_geometric/warnings.py:11: UserWarning: The usage of `scatter(reduce='max')` can be accelerated via the 'torch-scatter' package, but it was not found\n",
      "  warnings.warn(message)\n"
     ]
    },
    {
     "name": "stdout",
     "output_type": "stream",
     "text": [
      "Epoch: 230 (65.9475s), train_loss: 0.2258, val_loss: 0.2787, train_acc: 0.9158, val_acc:0.8928\n",
      "\t\ttrain_roc: 0.9656, val_roc: 0.9532, train_auprc: 0.9558, val_auprc: 0.9441\n"
     ]
    },
    {
     "name": "stderr",
     "output_type": "stream",
     "text": [
      "/home/namle/.local/lib/python3.10/site-packages/torch_geometric/warnings.py:11: UserWarning: The usage of `scatter(reduce='max')` can be accelerated via the 'torch-scatter' package, but it was not found\n",
      "  warnings.warn(message)\n"
     ]
    },
    {
     "name": "stdout",
     "output_type": "stream",
     "text": [
      "Epoch: 231 (66.0369s), train_loss: 0.2269, val_loss: 0.2821, train_acc: 0.9149, val_acc:0.8922\n",
      "\t\ttrain_roc: 0.9651, val_roc: 0.9519, train_auprc: 0.9553, val_auprc: 0.9424\n"
     ]
    },
    {
     "name": "stderr",
     "output_type": "stream",
     "text": [
      "/home/namle/.local/lib/python3.10/site-packages/torch_geometric/warnings.py:11: UserWarning: The usage of `scatter(reduce='max')` can be accelerated via the 'torch-scatter' package, but it was not found\n",
      "  warnings.warn(message)\n"
     ]
    },
    {
     "name": "stdout",
     "output_type": "stream",
     "text": [
      "Epoch: 232 (66.0037s), train_loss: 0.2252, val_loss: 0.2816, train_acc: 0.9155, val_acc:0.8912\n",
      "\t\ttrain_roc: 0.9657, val_roc: 0.9522, train_auprc: 0.9560, val_auprc: 0.9432\n"
     ]
    },
    {
     "name": "stderr",
     "output_type": "stream",
     "text": [
      "/home/namle/.local/lib/python3.10/site-packages/torch_geometric/warnings.py:11: UserWarning: The usage of `scatter(reduce='max')` can be accelerated via the 'torch-scatter' package, but it was not found\n",
      "  warnings.warn(message)\n"
     ]
    },
    {
     "name": "stdout",
     "output_type": "stream",
     "text": [
      "Epoch: 233 (66.0250s), train_loss: 0.2253, val_loss: 0.2776, train_acc: 0.9153, val_acc:0.8926\n",
      "\t\ttrain_roc: 0.9657, val_roc: 0.9538, train_auprc: 0.9563, val_auprc: 0.9456\n"
     ]
    },
    {
     "name": "stderr",
     "output_type": "stream",
     "text": [
      "/home/namle/.local/lib/python3.10/site-packages/torch_geometric/warnings.py:11: UserWarning: The usage of `scatter(reduce='max')` can be accelerated via the 'torch-scatter' package, but it was not found\n",
      "  warnings.warn(message)\n"
     ]
    },
    {
     "name": "stdout",
     "output_type": "stream",
     "text": [
      "Epoch: 234 (66.0070s), train_loss: 0.2275, val_loss: 0.2788, train_acc: 0.9144, val_acc:0.8925\n",
      "\t\ttrain_roc: 0.9650, val_roc: 0.9533, train_auprc: 0.9554, val_auprc: 0.9450\n"
     ]
    },
    {
     "name": "stderr",
     "output_type": "stream",
     "text": [
      "/home/namle/.local/lib/python3.10/site-packages/torch_geometric/warnings.py:11: UserWarning: The usage of `scatter(reduce='max')` can be accelerated via the 'torch-scatter' package, but it was not found\n",
      "  warnings.warn(message)\n"
     ]
    },
    {
     "name": "stdout",
     "output_type": "stream",
     "text": [
      "Epoch: 235 (66.1142s), train_loss: 0.2254, val_loss: 0.2797, train_acc: 0.9154, val_acc:0.8921\n",
      "\t\ttrain_roc: 0.9657, val_roc: 0.9529, train_auprc: 0.9561, val_auprc: 0.9442\n"
     ]
    },
    {
     "name": "stderr",
     "output_type": "stream",
     "text": [
      "/home/namle/.local/lib/python3.10/site-packages/torch_geometric/warnings.py:11: UserWarning: The usage of `scatter(reduce='max')` can be accelerated via the 'torch-scatter' package, but it was not found\n",
      "  warnings.warn(message)\n"
     ]
    },
    {
     "name": "stdout",
     "output_type": "stream",
     "text": [
      "Epoch: 236 (65.9066s), train_loss: 0.2262, val_loss: 0.2806, train_acc: 0.9151, val_acc:0.8912\n",
      "\t\ttrain_roc: 0.9654, val_roc: 0.9525, train_auprc: 0.9558, val_auprc: 0.9437\n"
     ]
    },
    {
     "name": "stderr",
     "output_type": "stream",
     "text": [
      "/home/namle/.local/lib/python3.10/site-packages/torch_geometric/warnings.py:11: UserWarning: The usage of `scatter(reduce='max')` can be accelerated via the 'torch-scatter' package, but it was not found\n",
      "  warnings.warn(message)\n"
     ]
    },
    {
     "name": "stdout",
     "output_type": "stream",
     "text": [
      "Epoch: 237 (65.9116s), train_loss: 0.2277, val_loss: 0.2811, train_acc: 0.9150, val_acc:0.8919\n",
      "\t\ttrain_roc: 0.9648, val_roc: 0.9523, train_auprc: 0.9547, val_auprc: 0.9427\n"
     ]
    },
    {
     "name": "stderr",
     "output_type": "stream",
     "text": [
      "/home/namle/.local/lib/python3.10/site-packages/torch_geometric/warnings.py:11: UserWarning: The usage of `scatter(reduce='max')` can be accelerated via the 'torch-scatter' package, but it was not found\n",
      "  warnings.warn(message)\n"
     ]
    },
    {
     "name": "stdout",
     "output_type": "stream",
     "text": [
      "Epoch: 238 (65.8604s), train_loss: 0.2262, val_loss: 0.2816, train_acc: 0.9151, val_acc:0.8910\n",
      "\t\ttrain_roc: 0.9653, val_roc: 0.9523, train_auprc: 0.9558, val_auprc: 0.9432\n"
     ]
    },
    {
     "name": "stderr",
     "output_type": "stream",
     "text": [
      "/home/namle/.local/lib/python3.10/site-packages/torch_geometric/warnings.py:11: UserWarning: The usage of `scatter(reduce='max')` can be accelerated via the 'torch-scatter' package, but it was not found\n",
      "  warnings.warn(message)\n"
     ]
    },
    {
     "name": "stdout",
     "output_type": "stream",
     "text": [
      "Epoch: 239 (66.0165s), train_loss: 0.2261, val_loss: 0.2814, train_acc: 0.9148, val_acc:0.8911\n",
      "\t\ttrain_roc: 0.9655, val_roc: 0.9522, train_auprc: 0.9563, val_auprc: 0.9432\n"
     ]
    },
    {
     "name": "stderr",
     "output_type": "stream",
     "text": [
      "/home/namle/.local/lib/python3.10/site-packages/torch_geometric/warnings.py:11: UserWarning: The usage of `scatter(reduce='max')` can be accelerated via the 'torch-scatter' package, but it was not found\n",
      "  warnings.warn(message)\n"
     ]
    },
    {
     "name": "stdout",
     "output_type": "stream",
     "text": [
      "Epoch: 240 (66.1412s), train_loss: 0.2247, val_loss: 0.2817, train_acc: 0.9156, val_acc:0.8908\n",
      "\t\ttrain_roc: 0.9661, val_roc: 0.9521, train_auprc: 0.9569, val_auprc: 0.9435\n"
     ]
    },
    {
     "name": "stderr",
     "output_type": "stream",
     "text": [
      "/home/namle/.local/lib/python3.10/site-packages/torch_geometric/warnings.py:11: UserWarning: The usage of `scatter(reduce='max')` can be accelerated via the 'torch-scatter' package, but it was not found\n",
      "  warnings.warn(message)\n"
     ]
    },
    {
     "name": "stdout",
     "output_type": "stream",
     "text": [
      "Epoch: 241 (65.9957s), train_loss: 0.2269, val_loss: 0.2809, train_acc: 0.9150, val_acc:0.8911\n",
      "\t\ttrain_roc: 0.9652, val_roc: 0.9523, train_auprc: 0.9552, val_auprc: 0.9433\n"
     ]
    },
    {
     "name": "stderr",
     "output_type": "stream",
     "text": [
      "/home/namle/.local/lib/python3.10/site-packages/torch_geometric/warnings.py:11: UserWarning: The usage of `scatter(reduce='max')` can be accelerated via the 'torch-scatter' package, but it was not found\n",
      "  warnings.warn(message)\n"
     ]
    },
    {
     "name": "stdout",
     "output_type": "stream",
     "text": [
      "Epoch: 242 (66.1749s), train_loss: 0.2262, val_loss: 0.2830, train_acc: 0.9152, val_acc:0.8914\n",
      "\t\ttrain_roc: 0.9654, val_roc: 0.9516, train_auprc: 0.9556, val_auprc: 0.9417\n"
     ]
    },
    {
     "name": "stderr",
     "output_type": "stream",
     "text": [
      "/home/namle/.local/lib/python3.10/site-packages/torch_geometric/warnings.py:11: UserWarning: The usage of `scatter(reduce='max')` can be accelerated via the 'torch-scatter' package, but it was not found\n",
      "  warnings.warn(message)\n"
     ]
    },
    {
     "name": "stdout",
     "output_type": "stream",
     "text": [
      "Epoch: 243 (65.8891s), train_loss: 0.2261, val_loss: 0.2820, train_acc: 0.9152, val_acc:0.8921\n",
      "\t\ttrain_roc: 0.9655, val_roc: 0.9518, train_auprc: 0.9560, val_auprc: 0.9419\n"
     ]
    },
    {
     "name": "stderr",
     "output_type": "stream",
     "text": [
      "/home/namle/.local/lib/python3.10/site-packages/torch_geometric/warnings.py:11: UserWarning: The usage of `scatter(reduce='max')` can be accelerated via the 'torch-scatter' package, but it was not found\n",
      "  warnings.warn(message)\n"
     ]
    },
    {
     "name": "stdout",
     "output_type": "stream",
     "text": [
      "Epoch: 244 (66.0533s), train_loss: 0.2262, val_loss: 0.2805, train_acc: 0.9147, val_acc:0.8922\n",
      "\t\ttrain_roc: 0.9654, val_roc: 0.9527, train_auprc: 0.9560, val_auprc: 0.9437\n"
     ]
    },
    {
     "name": "stderr",
     "output_type": "stream",
     "text": [
      "/home/namle/.local/lib/python3.10/site-packages/torch_geometric/warnings.py:11: UserWarning: The usage of `scatter(reduce='max')` can be accelerated via the 'torch-scatter' package, but it was not found\n",
      "  warnings.warn(message)\n"
     ]
    },
    {
     "name": "stdout",
     "output_type": "stream",
     "text": [
      "Epoch: 245 (65.9350s), train_loss: 0.2269, val_loss: 0.2805, train_acc: 0.9144, val_acc:0.8921\n",
      "\t\ttrain_roc: 0.9653, val_roc: 0.9529, train_auprc: 0.9556, val_auprc: 0.9437\n"
     ]
    },
    {
     "name": "stderr",
     "output_type": "stream",
     "text": [
      "/home/namle/.local/lib/python3.10/site-packages/torch_geometric/warnings.py:11: UserWarning: The usage of `scatter(reduce='max')` can be accelerated via the 'torch-scatter' package, but it was not found\n",
      "  warnings.warn(message)\n"
     ]
    },
    {
     "name": "stdout",
     "output_type": "stream",
     "text": [
      "Epoch: 246 (66.0758s), train_loss: 0.2270, val_loss: 0.2802, train_acc: 0.9146, val_acc:0.8924\n",
      "\t\ttrain_roc: 0.9652, val_roc: 0.9528, train_auprc: 0.9556, val_auprc: 0.9436\n"
     ]
    },
    {
     "name": "stderr",
     "output_type": "stream",
     "text": [
      "/home/namle/.local/lib/python3.10/site-packages/torch_geometric/warnings.py:11: UserWarning: The usage of `scatter(reduce='max')` can be accelerated via the 'torch-scatter' package, but it was not found\n",
      "  warnings.warn(message)\n"
     ]
    },
    {
     "name": "stdout",
     "output_type": "stream",
     "text": [
      "Epoch: 247 (65.9210s), train_loss: 0.2265, val_loss: 0.2785, train_acc: 0.9153, val_acc:0.8920\n",
      "\t\ttrain_roc: 0.9653, val_roc: 0.9535, train_auprc: 0.9553, val_auprc: 0.9452\n"
     ]
    },
    {
     "name": "stderr",
     "output_type": "stream",
     "text": [
      "/home/namle/.local/lib/python3.10/site-packages/torch_geometric/warnings.py:11: UserWarning: The usage of `scatter(reduce='max')` can be accelerated via the 'torch-scatter' package, but it was not found\n",
      "  warnings.warn(message)\n"
     ]
    },
    {
     "name": "stdout",
     "output_type": "stream",
     "text": [
      "Epoch: 248 (65.9816s), train_loss: 0.2267, val_loss: 0.2814, train_acc: 0.9147, val_acc:0.8915\n",
      "\t\ttrain_roc: 0.9652, val_roc: 0.9522, train_auprc: 0.9559, val_auprc: 0.9428\n"
     ]
    },
    {
     "name": "stderr",
     "output_type": "stream",
     "text": [
      "/home/namle/.local/lib/python3.10/site-packages/torch_geometric/warnings.py:11: UserWarning: The usage of `scatter(reduce='max')` can be accelerated via the 'torch-scatter' package, but it was not found\n",
      "  warnings.warn(message)\n"
     ]
    },
    {
     "name": "stdout",
     "output_type": "stream",
     "text": [
      "Epoch: 249 (66.0987s), train_loss: 0.2259, val_loss: 0.2820, train_acc: 0.9152, val_acc:0.8918\n",
      "\t\ttrain_roc: 0.9655, val_roc: 0.9519, train_auprc: 0.9560, val_auprc: 0.9426\n"
     ]
    },
    {
     "name": "stderr",
     "output_type": "stream",
     "text": [
      "/home/namle/.local/lib/python3.10/site-packages/torch_geometric/warnings.py:11: UserWarning: The usage of `scatter(reduce='max')` can be accelerated via the 'torch-scatter' package, but it was not found\n",
      "  warnings.warn(message)\n"
     ]
    },
    {
     "name": "stdout",
     "output_type": "stream",
     "text": [
      "Epoch: 250 (65.8365s), train_loss: 0.2268, val_loss: 0.2831, train_acc: 0.9148, val_acc:0.8915\n",
      "\t\ttrain_roc: 0.9652, val_roc: 0.9516, train_auprc: 0.9557, val_auprc: 0.9420\n"
     ]
    },
    {
     "name": "stderr",
     "output_type": "stream",
     "text": [
      "/home/namle/.local/lib/python3.10/site-packages/torch_geometric/warnings.py:11: UserWarning: The usage of `scatter(reduce='max')` can be accelerated via the 'torch-scatter' package, but it was not found\n",
      "  warnings.warn(message)\n"
     ]
    },
    {
     "name": "stdout",
     "output_type": "stream",
     "text": [
      "Epoch: 251 (65.9752s), train_loss: 0.2271, val_loss: 0.2811, train_acc: 0.9145, val_acc:0.8924\n",
      "\t\ttrain_roc: 0.9652, val_roc: 0.9524, train_auprc: 0.9555, val_auprc: 0.9428\n"
     ]
    },
    {
     "name": "stderr",
     "output_type": "stream",
     "text": [
      "/home/namle/.local/lib/python3.10/site-packages/torch_geometric/warnings.py:11: UserWarning: The usage of `scatter(reduce='max')` can be accelerated via the 'torch-scatter' package, but it was not found\n",
      "  warnings.warn(message)\n"
     ]
    },
    {
     "name": "stdout",
     "output_type": "stream",
     "text": [
      "Epoch: 252 (65.9598s), train_loss: 0.2251, val_loss: 0.2790, train_acc: 0.9156, val_acc:0.8919\n",
      "\t\ttrain_roc: 0.9658, val_roc: 0.9532, train_auprc: 0.9562, val_auprc: 0.9445\n"
     ]
    },
    {
     "name": "stderr",
     "output_type": "stream",
     "text": [
      "/home/namle/.local/lib/python3.10/site-packages/torch_geometric/warnings.py:11: UserWarning: The usage of `scatter(reduce='max')` can be accelerated via the 'torch-scatter' package, but it was not found\n",
      "  warnings.warn(message)\n"
     ]
    },
    {
     "name": "stdout",
     "output_type": "stream",
     "text": [
      "Epoch: 253 (66.2396s), train_loss: 0.2266, val_loss: 0.2806, train_acc: 0.9149, val_acc:0.8923\n",
      "\t\ttrain_roc: 0.9653, val_roc: 0.9528, train_auprc: 0.9555, val_auprc: 0.9437\n"
     ]
    },
    {
     "name": "stderr",
     "output_type": "stream",
     "text": [
      "/home/namle/.local/lib/python3.10/site-packages/torch_geometric/warnings.py:11: UserWarning: The usage of `scatter(reduce='max')` can be accelerated via the 'torch-scatter' package, but it was not found\n",
      "  warnings.warn(message)\n"
     ]
    },
    {
     "name": "stdout",
     "output_type": "stream",
     "text": [
      "Epoch: 254 (65.8472s), train_loss: 0.2263, val_loss: 0.2808, train_acc: 0.9156, val_acc:0.8919\n",
      "\t\ttrain_roc: 0.9653, val_roc: 0.9525, train_auprc: 0.9556, val_auprc: 0.9435\n"
     ]
    },
    {
     "name": "stderr",
     "output_type": "stream",
     "text": [
      "/home/namle/.local/lib/python3.10/site-packages/torch_geometric/warnings.py:11: UserWarning: The usage of `scatter(reduce='max')` can be accelerated via the 'torch-scatter' package, but it was not found\n",
      "  warnings.warn(message)\n"
     ]
    },
    {
     "name": "stdout",
     "output_type": "stream",
     "text": [
      "Epoch: 255 (65.9517s), train_loss: 0.2252, val_loss: 0.2812, train_acc: 0.9157, val_acc:0.8921\n",
      "\t\ttrain_roc: 0.9657, val_roc: 0.9524, train_auprc: 0.9561, val_auprc: 0.9426\n"
     ]
    },
    {
     "name": "stderr",
     "output_type": "stream",
     "text": [
      "/home/namle/.local/lib/python3.10/site-packages/torch_geometric/warnings.py:11: UserWarning: The usage of `scatter(reduce='max')` can be accelerated via the 'torch-scatter' package, but it was not found\n",
      "  warnings.warn(message)\n"
     ]
    },
    {
     "name": "stdout",
     "output_type": "stream",
     "text": [
      "Epoch: 256 (66.1049s), train_loss: 0.2275, val_loss: 0.2831, train_acc: 0.9144, val_acc:0.8906\n",
      "\t\ttrain_roc: 0.9650, val_roc: 0.9518, train_auprc: 0.9552, val_auprc: 0.9424\n"
     ]
    },
    {
     "name": "stderr",
     "output_type": "stream",
     "text": [
      "/home/namle/.local/lib/python3.10/site-packages/torch_geometric/warnings.py:11: UserWarning: The usage of `scatter(reduce='max')` can be accelerated via the 'torch-scatter' package, but it was not found\n",
      "  warnings.warn(message)\n"
     ]
    },
    {
     "name": "stdout",
     "output_type": "stream",
     "text": [
      "Epoch: 257 (66.0277s), train_loss: 0.2283, val_loss: 0.2835, train_acc: 0.9144, val_acc:0.8904\n",
      "\t\ttrain_roc: 0.9646, val_roc: 0.9517, train_auprc: 0.9541, val_auprc: 0.9423\n"
     ]
    },
    {
     "name": "stderr",
     "output_type": "stream",
     "text": [
      "/home/namle/.local/lib/python3.10/site-packages/torch_geometric/warnings.py:11: UserWarning: The usage of `scatter(reduce='max')` can be accelerated via the 'torch-scatter' package, but it was not found\n",
      "  warnings.warn(message)\n"
     ]
    },
    {
     "name": "stdout",
     "output_type": "stream",
     "text": [
      "Epoch: 258 (66.1357s), train_loss: 0.2262, val_loss: 0.2810, train_acc: 0.9153, val_acc:0.8917\n",
      "\t\ttrain_roc: 0.9652, val_roc: 0.9525, train_auprc: 0.9555, val_auprc: 0.9433\n"
     ]
    },
    {
     "name": "stderr",
     "output_type": "stream",
     "text": [
      "/home/namle/.local/lib/python3.10/site-packages/torch_geometric/warnings.py:11: UserWarning: The usage of `scatter(reduce='max')` can be accelerated via the 'torch-scatter' package, but it was not found\n",
      "  warnings.warn(message)\n"
     ]
    },
    {
     "name": "stdout",
     "output_type": "stream",
     "text": [
      "Epoch: 259 (66.0021s), train_loss: 0.2256, val_loss: 0.2811, train_acc: 0.9158, val_acc:0.8918\n",
      "\t\ttrain_roc: 0.9656, val_roc: 0.9525, train_auprc: 0.9560, val_auprc: 0.9435\n"
     ]
    },
    {
     "name": "stderr",
     "output_type": "stream",
     "text": [
      "/home/namle/.local/lib/python3.10/site-packages/torch_geometric/warnings.py:11: UserWarning: The usage of `scatter(reduce='max')` can be accelerated via the 'torch-scatter' package, but it was not found\n",
      "  warnings.warn(message)\n"
     ]
    },
    {
     "name": "stdout",
     "output_type": "stream",
     "text": [
      "Epoch: 260 (66.0449s), train_loss: 0.2269, val_loss: 0.2811, train_acc: 0.9152, val_acc:0.8918\n",
      "\t\ttrain_roc: 0.9651, val_roc: 0.9523, train_auprc: 0.9553, val_auprc: 0.9430\n"
     ]
    },
    {
     "name": "stderr",
     "output_type": "stream",
     "text": [
      "/home/namle/.local/lib/python3.10/site-packages/torch_geometric/warnings.py:11: UserWarning: The usage of `scatter(reduce='max')` can be accelerated via the 'torch-scatter' package, but it was not found\n",
      "  warnings.warn(message)\n"
     ]
    },
    {
     "name": "stdout",
     "output_type": "stream",
     "text": [
      "Epoch: 261 (66.0296s), train_loss: 0.2266, val_loss: 0.2787, train_acc: 0.9148, val_acc:0.8924\n",
      "\t\ttrain_roc: 0.9653, val_roc: 0.9535, train_auprc: 0.9555, val_auprc: 0.9448\n"
     ]
    },
    {
     "name": "stderr",
     "output_type": "stream",
     "text": [
      "/home/namle/.local/lib/python3.10/site-packages/torch_geometric/warnings.py:11: UserWarning: The usage of `scatter(reduce='max')` can be accelerated via the 'torch-scatter' package, but it was not found\n",
      "  warnings.warn(message)\n"
     ]
    },
    {
     "name": "stdout",
     "output_type": "stream",
     "text": [
      "Epoch: 262 (66.0445s), train_loss: 0.2259, val_loss: 0.2822, train_acc: 0.9154, val_acc:0.8904\n",
      "\t\ttrain_roc: 0.9654, val_roc: 0.9522, train_auprc: 0.9555, val_auprc: 0.9431\n"
     ]
    },
    {
     "name": "stderr",
     "output_type": "stream",
     "text": [
      "/home/namle/.local/lib/python3.10/site-packages/torch_geometric/warnings.py:11: UserWarning: The usage of `scatter(reduce='max')` can be accelerated via the 'torch-scatter' package, but it was not found\n",
      "  warnings.warn(message)\n"
     ]
    },
    {
     "name": "stdout",
     "output_type": "stream",
     "text": [
      "Epoch: 263 (66.4664s), train_loss: 0.2261, val_loss: 0.2791, train_acc: 0.9155, val_acc:0.8921\n",
      "\t\ttrain_roc: 0.9654, val_roc: 0.9532, train_auprc: 0.9556, val_auprc: 0.9445\n"
     ]
    },
    {
     "name": "stderr",
     "output_type": "stream",
     "text": [
      "/home/namle/.local/lib/python3.10/site-packages/torch_geometric/warnings.py:11: UserWarning: The usage of `scatter(reduce='max')` can be accelerated via the 'torch-scatter' package, but it was not found\n",
      "  warnings.warn(message)\n"
     ]
    },
    {
     "name": "stdout",
     "output_type": "stream",
     "text": [
      "Epoch: 264 (66.3412s), train_loss: 0.2246, val_loss: 0.2830, train_acc: 0.9161, val_acc:0.8901\n",
      "\t\ttrain_roc: 0.9659, val_roc: 0.9517, train_auprc: 0.9562, val_auprc: 0.9423\n"
     ]
    },
    {
     "name": "stderr",
     "output_type": "stream",
     "text": [
      "/home/namle/.local/lib/python3.10/site-packages/torch_geometric/warnings.py:11: UserWarning: The usage of `scatter(reduce='max')` can be accelerated via the 'torch-scatter' package, but it was not found\n",
      "  warnings.warn(message)\n"
     ]
    },
    {
     "name": "stdout",
     "output_type": "stream",
     "text": [
      "Epoch: 265 (66.0435s), train_loss: 0.2261, val_loss: 0.2786, train_acc: 0.9151, val_acc:0.8916\n",
      "\t\ttrain_roc: 0.9653, val_roc: 0.9536, train_auprc: 0.9556, val_auprc: 0.9449\n"
     ]
    },
    {
     "name": "stderr",
     "output_type": "stream",
     "text": [
      "/home/namle/.local/lib/python3.10/site-packages/torch_geometric/warnings.py:11: UserWarning: The usage of `scatter(reduce='max')` can be accelerated via the 'torch-scatter' package, but it was not found\n",
      "  warnings.warn(message)\n"
     ]
    },
    {
     "name": "stdout",
     "output_type": "stream",
     "text": [
      "Epoch: 266 (65.9247s), train_loss: 0.2272, val_loss: 0.2792, train_acc: 0.9145, val_acc:0.8921\n",
      "\t\ttrain_roc: 0.9650, val_roc: 0.9531, train_auprc: 0.9553, val_auprc: 0.9444\n"
     ]
    },
    {
     "name": "stderr",
     "output_type": "stream",
     "text": [
      "/home/namle/.local/lib/python3.10/site-packages/torch_geometric/warnings.py:11: UserWarning: The usage of `scatter(reduce='max')` can be accelerated via the 'torch-scatter' package, but it was not found\n",
      "  warnings.warn(message)\n"
     ]
    },
    {
     "name": "stdout",
     "output_type": "stream",
     "text": [
      "Epoch: 267 (66.0534s), train_loss: 0.2263, val_loss: 0.2806, train_acc: 0.9155, val_acc:0.8921\n",
      "\t\ttrain_roc: 0.9652, val_roc: 0.9526, train_auprc: 0.9552, val_auprc: 0.9433\n"
     ]
    },
    {
     "name": "stderr",
     "output_type": "stream",
     "text": [
      "/home/namle/.local/lib/python3.10/site-packages/torch_geometric/warnings.py:11: UserWarning: The usage of `scatter(reduce='max')` can be accelerated via the 'torch-scatter' package, but it was not found\n",
      "  warnings.warn(message)\n"
     ]
    },
    {
     "name": "stdout",
     "output_type": "stream",
     "text": [
      "Epoch: 268 (65.9502s), train_loss: 0.2250, val_loss: 0.2796, train_acc: 0.9155, val_acc:0.8921\n",
      "\t\ttrain_roc: 0.9658, val_roc: 0.9531, train_auprc: 0.9564, val_auprc: 0.9445\n"
     ]
    },
    {
     "name": "stderr",
     "output_type": "stream",
     "text": [
      "/home/namle/.local/lib/python3.10/site-packages/torch_geometric/warnings.py:11: UserWarning: The usage of `scatter(reduce='max')` can be accelerated via the 'torch-scatter' package, but it was not found\n",
      "  warnings.warn(message)\n"
     ]
    },
    {
     "name": "stdout",
     "output_type": "stream",
     "text": [
      "Epoch: 269 (66.1507s), train_loss: 0.2262, val_loss: 0.2831, train_acc: 0.9148, val_acc:0.8905\n",
      "\t\ttrain_roc: 0.9654, val_roc: 0.9515, train_auprc: 0.9559, val_auprc: 0.9419\n"
     ]
    },
    {
     "name": "stderr",
     "output_type": "stream",
     "text": [
      "/home/namle/.local/lib/python3.10/site-packages/torch_geometric/warnings.py:11: UserWarning: The usage of `scatter(reduce='max')` can be accelerated via the 'torch-scatter' package, but it was not found\n",
      "  warnings.warn(message)\n"
     ]
    },
    {
     "name": "stdout",
     "output_type": "stream",
     "text": [
      "Epoch: 270 (66.1714s), train_loss: 0.2262, val_loss: 0.2796, train_acc: 0.9152, val_acc:0.8922\n",
      "\t\ttrain_roc: 0.9654, val_roc: 0.9531, train_auprc: 0.9557, val_auprc: 0.9441\n"
     ]
    },
    {
     "name": "stderr",
     "output_type": "stream",
     "text": [
      "/home/namle/.local/lib/python3.10/site-packages/torch_geometric/warnings.py:11: UserWarning: The usage of `scatter(reduce='max')` can be accelerated via the 'torch-scatter' package, but it was not found\n",
      "  warnings.warn(message)\n"
     ]
    },
    {
     "name": "stdout",
     "output_type": "stream",
     "text": [
      "Epoch: 271 (66.0630s), train_loss: 0.2267, val_loss: 0.2799, train_acc: 0.9151, val_acc:0.8917\n",
      "\t\ttrain_roc: 0.9652, val_roc: 0.9529, train_auprc: 0.9553, val_auprc: 0.9441\n"
     ]
    },
    {
     "name": "stderr",
     "output_type": "stream",
     "text": [
      "/home/namle/.local/lib/python3.10/site-packages/torch_geometric/warnings.py:11: UserWarning: The usage of `scatter(reduce='max')` can be accelerated via the 'torch-scatter' package, but it was not found\n",
      "  warnings.warn(message)\n"
     ]
    },
    {
     "name": "stdout",
     "output_type": "stream",
     "text": [
      "Epoch: 272 (66.0712s), train_loss: 0.2247, val_loss: 0.2815, train_acc: 0.9161, val_acc:0.8923\n",
      "\t\ttrain_roc: 0.9659, val_roc: 0.9522, train_auprc: 0.9565, val_auprc: 0.9423\n"
     ]
    },
    {
     "name": "stderr",
     "output_type": "stream",
     "text": [
      "/home/namle/.local/lib/python3.10/site-packages/torch_geometric/warnings.py:11: UserWarning: The usage of `scatter(reduce='max')` can be accelerated via the 'torch-scatter' package, but it was not found\n",
      "  warnings.warn(message)\n"
     ]
    },
    {
     "name": "stdout",
     "output_type": "stream",
     "text": [
      "Epoch: 273 (65.9895s), train_loss: 0.2255, val_loss: 0.2833, train_acc: 0.9154, val_acc:0.8896\n",
      "\t\ttrain_roc: 0.9657, val_roc: 0.9517, train_auprc: 0.9563, val_auprc: 0.9426\n"
     ]
    },
    {
     "name": "stderr",
     "output_type": "stream",
     "text": [
      "/home/namle/.local/lib/python3.10/site-packages/torch_geometric/warnings.py:11: UserWarning: The usage of `scatter(reduce='max')` can be accelerated via the 'torch-scatter' package, but it was not found\n",
      "  warnings.warn(message)\n"
     ]
    },
    {
     "name": "stdout",
     "output_type": "stream",
     "text": [
      "Epoch: 274 (66.1106s), train_loss: 0.2251, val_loss: 0.2808, train_acc: 0.9157, val_acc:0.8906\n",
      "\t\ttrain_roc: 0.9657, val_roc: 0.9525, train_auprc: 0.9563, val_auprc: 0.9446\n"
     ]
    },
    {
     "name": "stderr",
     "output_type": "stream",
     "text": [
      "/home/namle/.local/lib/python3.10/site-packages/torch_geometric/warnings.py:11: UserWarning: The usage of `scatter(reduce='max')` can be accelerated via the 'torch-scatter' package, but it was not found\n",
      "  warnings.warn(message)\n"
     ]
    },
    {
     "name": "stdout",
     "output_type": "stream",
     "text": [
      "Epoch: 275 (66.1059s), train_loss: 0.2257, val_loss: 0.2780, train_acc: 0.9160, val_acc:0.8929\n",
      "\t\ttrain_roc: 0.9655, val_roc: 0.9535, train_auprc: 0.9557, val_auprc: 0.9448\n"
     ]
    },
    {
     "name": "stderr",
     "output_type": "stream",
     "text": [
      "/home/namle/.local/lib/python3.10/site-packages/torch_geometric/warnings.py:11: UserWarning: The usage of `scatter(reduce='max')` can be accelerated via the 'torch-scatter' package, but it was not found\n",
      "  warnings.warn(message)\n"
     ]
    },
    {
     "name": "stdout",
     "output_type": "stream",
     "text": [
      "Epoch: 276 (66.1189s), train_loss: 0.2251, val_loss: 0.2830, train_acc: 0.9158, val_acc:0.8908\n",
      "\t\ttrain_roc: 0.9659, val_roc: 0.9518, train_auprc: 0.9566, val_auprc: 0.9414\n"
     ]
    },
    {
     "name": "stderr",
     "output_type": "stream",
     "text": [
      "/home/namle/.local/lib/python3.10/site-packages/torch_geometric/warnings.py:11: UserWarning: The usage of `scatter(reduce='max')` can be accelerated via the 'torch-scatter' package, but it was not found\n",
      "  warnings.warn(message)\n"
     ]
    },
    {
     "name": "stdout",
     "output_type": "stream",
     "text": [
      "Epoch: 277 (66.0916s), train_loss: 0.2260, val_loss: 0.2798, train_acc: 0.9156, val_acc:0.8921\n",
      "\t\ttrain_roc: 0.9653, val_roc: 0.9528, train_auprc: 0.9556, val_auprc: 0.9435\n"
     ]
    },
    {
     "name": "stderr",
     "output_type": "stream",
     "text": [
      "/home/namle/.local/lib/python3.10/site-packages/torch_geometric/warnings.py:11: UserWarning: The usage of `scatter(reduce='max')` can be accelerated via the 'torch-scatter' package, but it was not found\n",
      "  warnings.warn(message)\n"
     ]
    },
    {
     "name": "stdout",
     "output_type": "stream",
     "text": [
      "Epoch: 278 (65.9037s), train_loss: 0.2255, val_loss: 0.2819, train_acc: 0.9152, val_acc:0.8916\n",
      "\t\ttrain_roc: 0.9656, val_roc: 0.9522, train_auprc: 0.9563, val_auprc: 0.9423\n"
     ]
    },
    {
     "name": "stderr",
     "output_type": "stream",
     "text": [
      "/home/namle/.local/lib/python3.10/site-packages/torch_geometric/warnings.py:11: UserWarning: The usage of `scatter(reduce='max')` can be accelerated via the 'torch-scatter' package, but it was not found\n",
      "  warnings.warn(message)\n"
     ]
    },
    {
     "name": "stdout",
     "output_type": "stream",
     "text": [
      "Epoch: 279 (65.9542s), train_loss: 0.2246, val_loss: 0.2810, train_acc: 0.9158, val_acc:0.8919\n",
      "\t\ttrain_roc: 0.9660, val_roc: 0.9526, train_auprc: 0.9569, val_auprc: 0.9434\n"
     ]
    },
    {
     "name": "stderr",
     "output_type": "stream",
     "text": [
      "/home/namle/.local/lib/python3.10/site-packages/torch_geometric/warnings.py:11: UserWarning: The usage of `scatter(reduce='max')` can be accelerated via the 'torch-scatter' package, but it was not found\n",
      "  warnings.warn(message)\n"
     ]
    },
    {
     "name": "stdout",
     "output_type": "stream",
     "text": [
      "Epoch: 280 (65.8882s), train_loss: 0.2267, val_loss: 0.2824, train_acc: 0.9147, val_acc:0.8903\n",
      "\t\ttrain_roc: 0.9654, val_roc: 0.9519, train_auprc: 0.9561, val_auprc: 0.9429\n"
     ]
    },
    {
     "name": "stderr",
     "output_type": "stream",
     "text": [
      "/home/namle/.local/lib/python3.10/site-packages/torch_geometric/warnings.py:11: UserWarning: The usage of `scatter(reduce='max')` can be accelerated via the 'torch-scatter' package, but it was not found\n",
      "  warnings.warn(message)\n"
     ]
    },
    {
     "name": "stdout",
     "output_type": "stream",
     "text": [
      "Epoch: 281 (66.1630s), train_loss: 0.2255, val_loss: 0.2791, train_acc: 0.9148, val_acc:0.8930\n",
      "\t\ttrain_roc: 0.9657, val_roc: 0.9534, train_auprc: 0.9567, val_auprc: 0.9448\n"
     ]
    },
    {
     "name": "stderr",
     "output_type": "stream",
     "text": [
      "/home/namle/.local/lib/python3.10/site-packages/torch_geometric/warnings.py:11: UserWarning: The usage of `scatter(reduce='max')` can be accelerated via the 'torch-scatter' package, but it was not found\n",
      "  warnings.warn(message)\n"
     ]
    },
    {
     "name": "stdout",
     "output_type": "stream",
     "text": [
      "Epoch: 282 (65.9215s), train_loss: 0.2260, val_loss: 0.2801, train_acc: 0.9154, val_acc:0.8924\n",
      "\t\ttrain_roc: 0.9653, val_roc: 0.9528, train_auprc: 0.9556, val_auprc: 0.9436\n"
     ]
    },
    {
     "name": "stderr",
     "output_type": "stream",
     "text": [
      "/home/namle/.local/lib/python3.10/site-packages/torch_geometric/warnings.py:11: UserWarning: The usage of `scatter(reduce='max')` can be accelerated via the 'torch-scatter' package, but it was not found\n",
      "  warnings.warn(message)\n"
     ]
    },
    {
     "name": "stdout",
     "output_type": "stream",
     "text": [
      "Epoch: 283 (65.9898s), train_loss: 0.2248, val_loss: 0.2828, train_acc: 0.9157, val_acc:0.8909\n",
      "\t\ttrain_roc: 0.9658, val_roc: 0.9517, train_auprc: 0.9566, val_auprc: 0.9421\n"
     ]
    },
    {
     "name": "stderr",
     "output_type": "stream",
     "text": [
      "/home/namle/.local/lib/python3.10/site-packages/torch_geometric/warnings.py:11: UserWarning: The usage of `scatter(reduce='max')` can be accelerated via the 'torch-scatter' package, but it was not found\n",
      "  warnings.warn(message)\n"
     ]
    },
    {
     "name": "stdout",
     "output_type": "stream",
     "text": [
      "Epoch: 284 (66.1649s), train_loss: 0.2255, val_loss: 0.2821, train_acc: 0.9153, val_acc:0.8907\n",
      "\t\ttrain_roc: 0.9657, val_roc: 0.9521, train_auprc: 0.9565, val_auprc: 0.9432\n"
     ]
    },
    {
     "name": "stderr",
     "output_type": "stream",
     "text": [
      "/home/namle/.local/lib/python3.10/site-packages/torch_geometric/warnings.py:11: UserWarning: The usage of `scatter(reduce='max')` can be accelerated via the 'torch-scatter' package, but it was not found\n",
      "  warnings.warn(message)\n"
     ]
    },
    {
     "name": "stdout",
     "output_type": "stream",
     "text": [
      "Epoch: 285 (66.0078s), train_loss: 0.2266, val_loss: 0.2831, train_acc: 0.9153, val_acc:0.8902\n",
      "\t\ttrain_roc: 0.9652, val_roc: 0.9516, train_auprc: 0.9554, val_auprc: 0.9426\n"
     ]
    },
    {
     "name": "stderr",
     "output_type": "stream",
     "text": [
      "/home/namle/.local/lib/python3.10/site-packages/torch_geometric/warnings.py:11: UserWarning: The usage of `scatter(reduce='max')` can be accelerated via the 'torch-scatter' package, but it was not found\n",
      "  warnings.warn(message)\n"
     ]
    },
    {
     "name": "stdout",
     "output_type": "stream",
     "text": [
      "Epoch: 286 (65.9746s), train_loss: 0.2257, val_loss: 0.2816, train_acc: 0.9156, val_acc:0.8920\n",
      "\t\ttrain_roc: 0.9657, val_roc: 0.9523, train_auprc: 0.9561, val_auprc: 0.9424\n"
     ]
    },
    {
     "name": "stderr",
     "output_type": "stream",
     "text": [
      "/home/namle/.local/lib/python3.10/site-packages/torch_geometric/warnings.py:11: UserWarning: The usage of `scatter(reduce='max')` can be accelerated via the 'torch-scatter' package, but it was not found\n",
      "  warnings.warn(message)\n"
     ]
    },
    {
     "name": "stdout",
     "output_type": "stream",
     "text": [
      "Epoch: 287 (65.9768s), train_loss: 0.2264, val_loss: 0.2825, train_acc: 0.9149, val_acc:0.8904\n",
      "\t\ttrain_roc: 0.9653, val_roc: 0.9520, train_auprc: 0.9558, val_auprc: 0.9431\n"
     ]
    },
    {
     "name": "stderr",
     "output_type": "stream",
     "text": [
      "/home/namle/.local/lib/python3.10/site-packages/torch_geometric/warnings.py:11: UserWarning: The usage of `scatter(reduce='max')` can be accelerated via the 'torch-scatter' package, but it was not found\n",
      "  warnings.warn(message)\n"
     ]
    },
    {
     "name": "stdout",
     "output_type": "stream",
     "text": [
      "Epoch: 288 (66.0960s), train_loss: 0.2269, val_loss: 0.2806, train_acc: 0.9148, val_acc:0.8917\n",
      "\t\ttrain_roc: 0.9651, val_roc: 0.9528, train_auprc: 0.9550, val_auprc: 0.9435\n"
     ]
    },
    {
     "name": "stderr",
     "output_type": "stream",
     "text": [
      "/home/namle/.local/lib/python3.10/site-packages/torch_geometric/warnings.py:11: UserWarning: The usage of `scatter(reduce='max')` can be accelerated via the 'torch-scatter' package, but it was not found\n",
      "  warnings.warn(message)\n"
     ]
    },
    {
     "name": "stdout",
     "output_type": "stream",
     "text": [
      "Epoch: 289 (65.9509s), train_loss: 0.2274, val_loss: 0.2843, train_acc: 0.9143, val_acc:0.8899\n",
      "\t\ttrain_roc: 0.9650, val_roc: 0.9513, train_auprc: 0.9553, val_auprc: 0.9418\n"
     ]
    },
    {
     "name": "stderr",
     "output_type": "stream",
     "text": [
      "/home/namle/.local/lib/python3.10/site-packages/torch_geometric/warnings.py:11: UserWarning: The usage of `scatter(reduce='max')` can be accelerated via the 'torch-scatter' package, but it was not found\n",
      "  warnings.warn(message)\n"
     ]
    },
    {
     "name": "stdout",
     "output_type": "stream",
     "text": [
      "Epoch: 290 (66.0463s), train_loss: 0.2265, val_loss: 0.2835, train_acc: 0.9152, val_acc:0.8908\n",
      "\t\ttrain_roc: 0.9654, val_roc: 0.9516, train_auprc: 0.9556, val_auprc: 0.9418\n"
     ]
    },
    {
     "name": "stderr",
     "output_type": "stream",
     "text": [
      "/home/namle/.local/lib/python3.10/site-packages/torch_geometric/warnings.py:11: UserWarning: The usage of `scatter(reduce='max')` can be accelerated via the 'torch-scatter' package, but it was not found\n",
      "  warnings.warn(message)\n"
     ]
    },
    {
     "name": "stdout",
     "output_type": "stream",
     "text": [
      "Epoch: 291 (65.9581s), train_loss: 0.2259, val_loss: 0.2819, train_acc: 0.9158, val_acc:0.8916\n",
      "\t\ttrain_roc: 0.9655, val_roc: 0.9521, train_auprc: 0.9558, val_auprc: 0.9426\n"
     ]
    },
    {
     "name": "stderr",
     "output_type": "stream",
     "text": [
      "/home/namle/.local/lib/python3.10/site-packages/torch_geometric/warnings.py:11: UserWarning: The usage of `scatter(reduce='max')` can be accelerated via the 'torch-scatter' package, but it was not found\n",
      "  warnings.warn(message)\n"
     ]
    },
    {
     "name": "stdout",
     "output_type": "stream",
     "text": [
      "Epoch: 292 (65.8075s), train_loss: 0.2291, val_loss: 0.2802, train_acc: 0.9143, val_acc:0.8916\n",
      "\t\ttrain_roc: 0.9643, val_roc: 0.9527, train_auprc: 0.9540, val_auprc: 0.9440\n"
     ]
    },
    {
     "name": "stderr",
     "output_type": "stream",
     "text": [
      "/home/namle/.local/lib/python3.10/site-packages/torch_geometric/warnings.py:11: UserWarning: The usage of `scatter(reduce='max')` can be accelerated via the 'torch-scatter' package, but it was not found\n",
      "  warnings.warn(message)\n"
     ]
    },
    {
     "name": "stdout",
     "output_type": "stream",
     "text": [
      "Epoch: 293 (65.9791s), train_loss: 0.2269, val_loss: 0.2789, train_acc: 0.9147, val_acc:0.8927\n",
      "\t\ttrain_roc: 0.9652, val_roc: 0.9533, train_auprc: 0.9553, val_auprc: 0.9445\n"
     ]
    },
    {
     "name": "stderr",
     "output_type": "stream",
     "text": [
      "/home/namle/.local/lib/python3.10/site-packages/torch_geometric/warnings.py:11: UserWarning: The usage of `scatter(reduce='max')` can be accelerated via the 'torch-scatter' package, but it was not found\n",
      "  warnings.warn(message)\n"
     ]
    },
    {
     "name": "stdout",
     "output_type": "stream",
     "text": [
      "Epoch: 294 (65.9256s), train_loss: 0.2255, val_loss: 0.2780, train_acc: 0.9156, val_acc:0.8928\n",
      "\t\ttrain_roc: 0.9655, val_roc: 0.9537, train_auprc: 0.9558, val_auprc: 0.9453\n"
     ]
    },
    {
     "name": "stderr",
     "output_type": "stream",
     "text": [
      "/home/namle/.local/lib/python3.10/site-packages/torch_geometric/warnings.py:11: UserWarning: The usage of `scatter(reduce='max')` can be accelerated via the 'torch-scatter' package, but it was not found\n",
      "  warnings.warn(message)\n"
     ]
    },
    {
     "name": "stdout",
     "output_type": "stream",
     "text": [
      "Epoch: 295 (66.0606s), train_loss: 0.2273, val_loss: 0.2814, train_acc: 0.9148, val_acc:0.8918\n",
      "\t\ttrain_roc: 0.9651, val_roc: 0.9524, train_auprc: 0.9551, val_auprc: 0.9429\n"
     ]
    },
    {
     "name": "stderr",
     "output_type": "stream",
     "text": [
      "/home/namle/.local/lib/python3.10/site-packages/torch_geometric/warnings.py:11: UserWarning: The usage of `scatter(reduce='max')` can be accelerated via the 'torch-scatter' package, but it was not found\n",
      "  warnings.warn(message)\n"
     ]
    },
    {
     "name": "stdout",
     "output_type": "stream",
     "text": [
      "Epoch: 296 (66.2586s), train_loss: 0.2266, val_loss: 0.2820, train_acc: 0.9147, val_acc:0.8918\n",
      "\t\ttrain_roc: 0.9653, val_roc: 0.9520, train_auprc: 0.9557, val_auprc: 0.9426\n"
     ]
    },
    {
     "name": "stderr",
     "output_type": "stream",
     "text": [
      "/home/namle/.local/lib/python3.10/site-packages/torch_geometric/warnings.py:11: UserWarning: The usage of `scatter(reduce='max')` can be accelerated via the 'torch-scatter' package, but it was not found\n",
      "  warnings.warn(message)\n"
     ]
    },
    {
     "name": "stdout",
     "output_type": "stream",
     "text": [
      "Epoch: 297 (66.1857s), train_loss: 0.2261, val_loss: 0.2823, train_acc: 0.9151, val_acc:0.8908\n",
      "\t\ttrain_roc: 0.9655, val_roc: 0.9520, train_auprc: 0.9560, val_auprc: 0.9423\n"
     ]
    },
    {
     "name": "stderr",
     "output_type": "stream",
     "text": [
      "/home/namle/.local/lib/python3.10/site-packages/torch_geometric/warnings.py:11: UserWarning: The usage of `scatter(reduce='max')` can be accelerated via the 'torch-scatter' package, but it was not found\n",
      "  warnings.warn(message)\n"
     ]
    },
    {
     "name": "stdout",
     "output_type": "stream",
     "text": [
      "Epoch: 298 (66.0786s), train_loss: 0.2267, val_loss: 0.2805, train_acc: 0.9150, val_acc:0.8913\n",
      "\t\ttrain_roc: 0.9652, val_roc: 0.9525, train_auprc: 0.9554, val_auprc: 0.9435\n"
     ]
    },
    {
     "name": "stderr",
     "output_type": "stream",
     "text": [
      "/home/namle/.local/lib/python3.10/site-packages/torch_geometric/warnings.py:11: UserWarning: The usage of `scatter(reduce='max')` can be accelerated via the 'torch-scatter' package, but it was not found\n",
      "  warnings.warn(message)\n"
     ]
    },
    {
     "name": "stdout",
     "output_type": "stream",
     "text": [
      "Epoch: 299 (65.8187s), train_loss: 0.2259, val_loss: 0.2835, train_acc: 0.9157, val_acc:0.8903\n",
      "\t\ttrain_roc: 0.9656, val_roc: 0.9514, train_auprc: 0.9558, val_auprc: 0.9424\n"
     ]
    },
    {
     "name": "stderr",
     "output_type": "stream",
     "text": [
      "/home/namle/.local/lib/python3.10/site-packages/torch_geometric/warnings.py:11: UserWarning: The usage of `scatter(reduce='max')` can be accelerated via the 'torch-scatter' package, but it was not found\n",
      "  warnings.warn(message)\n"
     ]
    },
    {
     "name": "stdout",
     "output_type": "stream",
     "text": [
      "Epoch: 300 (65.9100s), train_loss: 0.2277, val_loss: 0.2813, train_acc: 0.9139, val_acc:0.8910\n",
      "\t\ttrain_roc: 0.9649, val_roc: 0.9522, train_auprc: 0.9556, val_auprc: 0.9434\n"
     ]
    }
   ],
   "source": [
    "if mode == \"train\":\n",
    "  # Train\n",
    "  train(\n",
    "      model,\n",
    "      train_data_loader,\n",
    "      val_data_loader,\n",
    "      loss,\n",
    "      optimizer,\n",
    "      n_epochs,\n",
    "      device,\n",
    "      scheduler,\n",
    "  )\n"
   ]
  },
  {
   "cell_type": "code",
   "execution_count": 19,
   "metadata": {
    "id": "f04DujiWugRa"
   },
   "outputs": [
    {
     "name": "stdout",
     "output_type": "stream",
     "text": [
      "SSI_DDI(\n",
      "  (initial_norm): LayerNorm(55, affine=True, mode=graph)\n",
      "  (net_norms): ModuleList(\n",
      "    (0-4): 5 x LayerNorm(64, affine=True, mode=graph)\n",
      "  )\n",
      "  (block0): SSI_DDI_Block(\n",
      "    (conv): GATConv(55, 32, heads=2)\n",
      "    (readout): SAGPooling(GraphConv, 64, min_score=-1, multiplier=1.0)\n",
      "  )\n",
      "  (block1): SSI_DDI_Block(\n",
      "    (conv): GATConv(64, 32, heads=2)\n",
      "    (readout): SAGPooling(GraphConv, 64, min_score=-1, multiplier=1.0)\n",
      "  )\n",
      "  (block2): SSI_DDI_Block(\n",
      "    (conv): GATConv(64, 32, heads=2)\n",
      "    (readout): SAGPooling(GraphConv, 64, min_score=-1, multiplier=1.0)\n",
      "  )\n",
      "  (block3): SSI_DDI_Block(\n",
      "    (conv): GATConv(64, 32, heads=2)\n",
      "    (readout): SAGPooling(GraphConv, 64, min_score=-1, multiplier=1.0)\n",
      "  )\n",
      "  (block4): SSI_DDI_Block(\n",
      "    (conv): GATConv(64, 32, heads=2)\n",
      "    (readout): SAGPooling(GraphConv, 64, min_score=-1, multiplier=1.0)\n",
      "  )\n",
      "  (co_attention): MultiheadCoAttentionLayer(\n",
      "    (W_q): ParameterList(\n",
      "        (0): Parameter containing: [torch.float32 of size 64x32 (cuda:0)]\n",
      "        (1): Parameter containing: [torch.float32 of size 64x32 (cuda:0)]\n",
      "        (2): Parameter containing: [torch.float32 of size 64x32 (cuda:0)]\n",
      "        (3): Parameter containing: [torch.float32 of size 64x32 (cuda:0)]\n",
      "    )\n",
      "    (W_k): ParameterList(\n",
      "        (0): Parameter containing: [torch.float32 of size 64x32 (cuda:0)]\n",
      "        (1): Parameter containing: [torch.float32 of size 64x32 (cuda:0)]\n",
      "        (2): Parameter containing: [torch.float32 of size 64x32 (cuda:0)]\n",
      "        (3): Parameter containing: [torch.float32 of size 64x32 (cuda:0)]\n",
      "    )\n",
      "    (bias): ParameterList(\n",
      "        (0): Parameter containing: [torch.float32 of size 32 (cuda:0)]\n",
      "        (1): Parameter containing: [torch.float32 of size 32 (cuda:0)]\n",
      "        (2): Parameter containing: [torch.float32 of size 32 (cuda:0)]\n",
      "        (3): Parameter containing: [torch.float32 of size 32 (cuda:0)]\n",
      "    )\n",
      "    (dropout): Dropout(p=0.1, inplace=False)\n",
      "  )\n",
      "  (KGE): RESCAL(86, torch.Size([86, 4096]))\n",
      ")\n",
      "Starting predicting at 2024-10-25 12:08:35.449010\n",
      "Device cuda\n"
     ]
    },
    {
     "name": "stderr",
     "output_type": "stream",
     "text": [
      "/tmp/ipykernel_205991/3147495905.py:2: FutureWarning: You are using `torch.load` with `weights_only=False` (the current default value), which uses the default pickle module implicitly. It is possible to construct malicious pickle data which will execute arbitrary code during unpickling (See https://github.com/pytorch/pytorch/blob/main/SECURITY.md#untrusted-models for more details). In a future release, the default value for `weights_only` will be flipped to `True`. This limits the functions that could be executed during unpickling. Arbitrary objects will no longer be allowed to be loaded via this mode unless they are explicitly allowlisted by the user via `torch.serialization.add_safe_globals`. We recommend you start setting `weights_only=True` for any use case where you don't have full control of the loaded file. Please open an issue on GitHub for any issues related to this experimental feature.\n",
      "  model = torch.load(model_acc_file)\n"
     ]
    },
    {
     "name": "stdout",
     "output_type": "stream",
     "text": [
      "Test Accuracy: 0.8953\n",
      "Test ROC AUC: 0.9531\n",
      "Test PRC AUC: 0.9430\n"
     ]
    }
   ],
   "source": [
    "# Predict\n",
    "model = torch.load(model_acc_file)\n",
    "print(model)\n",
    "model.to(device=device)\n",
    "predict(model, test_data_loader, device)"
   ]
  },
  {
   "cell_type": "code",
   "execution_count": null,
   "metadata": {},
   "outputs": [],
   "source": []
  }
 ],
 "metadata": {
  "accelerator": "GPU",
  "colab": {
   "authorship_tag": "ABX9TyPrjMB1qWDzpoQ4nNpP4AfV",
   "gpuType": "T4",
   "mount_file_id": "1SgLTMIysgeGUK6s_GjIn2Ssygt0A5LZV",
   "provenance": []
  },
  "kernelspec": {
   "display_name": "Python 3 (ipykernel)",
   "language": "python",
   "name": "python3"
  },
  "language_info": {
   "codemirror_mode": {
    "name": "ipython",
    "version": 3
   },
   "file_extension": ".py",
   "mimetype": "text/x-python",
   "name": "python",
   "nbconvert_exporter": "python",
   "pygments_lexer": "ipython3",
   "version": "3.10.12"
  }
 },
 "nbformat": 4,
 "nbformat_minor": 4
}
