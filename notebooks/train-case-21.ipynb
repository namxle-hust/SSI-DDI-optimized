{
 "cells": [
  {
   "cell_type": "code",
   "execution_count": 1,
   "metadata": {
    "colab": {
     "base_uri": "https://localhost:8080/"
    },
    "executionInfo": {
     "elapsed": 10617,
     "status": "ok",
     "timestamp": 1729307085000,
     "user": {
      "displayName": "Nam Le",
      "userId": "10910051602335296858"
     },
     "user_tz": -420
    },
    "id": "k4UhRVN-PNYi",
    "outputId": "3a910cb5-bb67-4fa2-d833-c4790dab293c"
   },
   "outputs": [],
   "source": [
    "# !pip install torch_geometric rdkit torch"
   ]
  },
  {
   "cell_type": "code",
   "execution_count": 2,
   "metadata": {
    "id": "YKUU9J_HnRwg"
   },
   "outputs": [],
   "source": [
    "from datetime import datetime\n",
    "import time\n",
    "import argparse\n",
    "import sys\n",
    "import torch\n",
    "from torch import optim\n",
    "from torch import nn\n",
    "import torch.nn.functional as F\n",
    "from sklearn import metrics\n",
    "import pandas as pd\n",
    "import numpy as np\n",
    "from torch.nn.modules.container import ModuleList\n",
    "from torch_geometric.nn import (\n",
    "    GATConv,\n",
    "    SAGPooling,\n",
    "    LayerNorm,\n",
    "    global_mean_pool,\n",
    "    max_pool_neighbor_x,\n",
    "    global_add_pool,\n",
    ")\n"
   ]
  },
  {
   "cell_type": "code",
   "execution_count": 3,
   "metadata": {},
   "outputs": [],
   "source": [
    "# Directory configuration\n",
    "data_dir = \"data\"\n",
    "model_dir = \"models\"\n",
    "model_name = \"case21\"\n",
    "\n",
    "# sys.path.append('/content/drive/MyDrive/Colab Notebooks')"
   ]
  },
  {
   "cell_type": "code",
   "execution_count": 4,
   "metadata": {},
   "outputs": [],
   "source": [
    "####### Tunning parameters #######\n",
    "\n",
    "# Number of epochs\n",
    "n_epochs = 300\n",
    "\n",
    "# SagPooling ratio & min score. \n",
    "# Set sp_ratio to None to disable ratio in SagPooling\n",
    "sp_ratio = None\n",
    "sp_min_score = None\n",
    "\n",
    "# Enable using gpu\n",
    "use_cuda = True\n",
    "\n",
    "# Use activation function for CoAttention Layer\n",
    "use_activation_fn = False\n",
    "\n",
    "# Use ComplEx instead of RESCAL\n",
    "use_ComplEx = True\n",
    "\n",
    "# Use improved CoAttention Layer\n",
    "# Could be \"original\" || \"improved\" || \"multihead\"\n",
    "co_attention_method = \"multihead\"\n",
    "\n",
    "# Use Explicit Valence\n",
    "use_explicit_valence = False\n",
    "\n",
    "# Number of GAT layers\n",
    "num_GAT_layers = 5\n",
    "\n",
    "# Number of GAT multiheads\n",
    "num_GAT_multiheads = 2\n",
    "\n",
    "#################################"
   ]
  },
  {
   "cell_type": "code",
   "execution_count": 5,
   "metadata": {
    "colab": {
     "base_uri": "https://localhost:8080/"
    },
    "executionInfo": {
     "elapsed": 14083,
     "status": "ok",
     "timestamp": 1729307119217,
     "user": {
      "displayName": "Nam Le",
      "userId": "10910051602335296858"
     },
     "user_tz": -420
    },
    "id": "Ws9OIlmzPrsJ",
    "outputId": "f4ec9a42-5720-436e-fa2a-544d564381c4"
   },
   "outputs": [
    {
     "name": "stderr",
     "output_type": "stream",
     "text": [
      "/mnt/d/Documents/Github/glsofort/SSI-DDI-test/notebook/data_preprocessing.py:113: UserWarning: The use of `x.T` on tensors of dimension other than 2 to reverse their shape is deprecated and it will throw an error in a future release. Consider `x.mT` to transpose batches of matrices or `x.permute(*torch.arange(x.ndim - 1, -1, -1))` to reverse the dimensions of a tensor. (Triggered internally at ../aten/src/ATen/native/TensorShape.cpp:3683.)\n",
      "  return undirected_edge_list.T, features\n"
     ]
    }
   ],
   "source": [
    "# If using explicit valence feature\n",
    "if use_explicit_valence:\n",
    "    from data_preprocessing_explicit_valence import DrugDataset, DrugDataLoader, TOTAL_ATOM_FEATS\n",
    "else:\n",
    "    from data_preprocessing import DrugDataset, DrugDataLoader, TOTAL_ATOM_FEATS"
   ]
  },
  {
   "cell_type": "code",
   "execution_count": 6,
   "metadata": {},
   "outputs": [
    {
     "name": "stdout",
     "output_type": "stream",
     "text": [
      "cuda\n",
      "Epochs: 300\n",
      "Total of atom features: 55\n"
     ]
    }
   ],
   "source": [
    "mode = \"train\"\n",
    "\n",
    "n_atom_feats = TOTAL_ATOM_FEATS\n",
    "# Not use\n",
    "n_atom_hid = 64\n",
    "# Total interactions information in the Interaction_information.csv\n",
    "rel_total = 86\n",
    "lr = 1e-2\n",
    "weight_decay = 5e-4\n",
    "neg_samples = 1\n",
    "# Represents the number of samples (or graph instances) loaded in each batch during the training process.\n",
    "batch_size = 1024\n",
    "data_size_ratio = 1\n",
    "kge_dim = 64\n",
    "\n",
    "device = \"cuda\" if torch.cuda.is_available() and use_cuda else \"cpu\"\n",
    "\n",
    "print(device)\n",
    "print(f\"Epochs: {n_epochs}\")\n",
    "print(f\"Total of atom features: {TOTAL_ATOM_FEATS}\")"
   ]
  },
  {
   "cell_type": "code",
   "execution_count": 7,
   "metadata": {},
   "outputs": [],
   "source": [
    "def print_tunning_parameters():\n",
    "    print()\n",
    "    print(\"####### Tunning parameters #######\")\n",
    "    print()\n",
    "    \n",
    "    print(\"n_epochs =\", n_epochs)\n",
    "    print(\"use_cuda =\", use_cuda)\n",
    "    print()\n",
    "    print(\"num_GAT_layers = \", num_GAT_layers)\n",
    "    print(\"num_GAT_multiheads = \", num_GAT_multiheads)\n",
    "    print()\n",
    "    print(\"sp_ratio =\", sp_ratio)\n",
    "    print(\"sp_min_score =\", sp_min_score)\n",
    "    print()\n",
    "    print(\"use_explicit_valence =\", use_explicit_valence)\n",
    "    print()\n",
    "    print(\"use_activation_fn =\", use_activation_fn)\n",
    "    print()\n",
    "    print(\"use_ComplEx =\", use_ComplEx)\n",
    "    print()\n",
    "    print(\"co_attention_method =\", co_attention_method)\n",
    "    \n",
    "    print()\n",
    "    print(\"#################################\")\n",
    "    print()\n"
   ]
  },
  {
   "cell_type": "code",
   "execution_count": 8,
   "metadata": {
    "id": "qfaqIm8ZOwx9"
   },
   "outputs": [],
   "source": [
    "class CoAttentionLayer(nn.Module):\n",
    "    def __init__(self, n_features, use_activation_fn=True):\n",
    "        super().__init__()\n",
    "        self.n_features = n_features\n",
    "        self.w_q = nn.Parameter(torch.zeros(n_features, n_features // 2))\n",
    "        self.w_k = nn.Parameter(torch.zeros(n_features, n_features // 2))\n",
    "        self.bias = nn.Parameter(torch.zeros(n_features // 2))\n",
    "        self.a = nn.Parameter(torch.zeros(n_features // 2))\n",
    "        self.use_activation_fn = use_activation_fn\n",
    "\n",
    "        nn.init.xavier_uniform_(self.w_q)\n",
    "        nn.init.xavier_uniform_(self.w_k)\n",
    "        nn.init.xavier_uniform_(self.bias.view(*self.bias.shape, -1))\n",
    "        nn.init.xavier_uniform_(self.a.view(*self.a.shape, -1))\n",
    "\n",
    "    def forward(self, receiver, attendant):\n",
    "        # receiver.shape  = (1024, 4, 64)\n",
    "        # attendant.shape = (1024, 4, 64)\n",
    "        keys = receiver @ self.w_k\n",
    "        queries = attendant @ self.w_q\n",
    "        # values = receiver @ self.w_v\n",
    "        values = receiver\n",
    "\n",
    "        # queries.shape = (1024, 4, 32)\n",
    "        # keys.shape = (1024, 4, 32)\n",
    "        e_activations = queries.unsqueeze(-3) + keys.unsqueeze(-2) + self.bias\n",
    "        if self.use_activation_fn:\n",
    "            e_scores = torch.tanh(e_activations) @ self.a\n",
    "        else:\n",
    "            e_scores = e_activations @ self.a\n",
    "        attentions = e_scores\n",
    "\n",
    "        return attentions\n",
    "\n",
    "\n",
    "class MultiheadCoAttentionLayer(nn.Module):\n",
    "    def __init__(self, n_features, use_activation_fn=True, dropout=0.1, n_heads=2):\n",
    "        super().__init__()\n",
    "        self.n_features = n_features\n",
    "        self.n_heads = n_heads\n",
    "\n",
    "        \n",
    "        self.W_q = nn.ParameterList([torch.zeros(self.n_features, self.n_features // n_heads) for _ in range(n_heads)])\n",
    "        self.W_k = nn.ParameterList([torch.zeros(self.n_features, self.n_features // n_heads) for _ in range(n_heads)])\n",
    "        \n",
    "        self.a = nn.Parameter(torch.zeros(self.n_features))\n",
    "        self.bias = nn.ParameterList([torch.zeros(self.n_features // n_heads) for _ in range(n_heads)])\n",
    "        \n",
    "        self.use_activation_fn = use_activation_fn\n",
    "\n",
    "        self.dropout = nn.Dropout(dropout)\n",
    "\n",
    "        for i in range(n_heads):\n",
    "            nn.init.xavier_uniform_(self.W_q[i])\n",
    "            nn.init.xavier_uniform_(self.W_k[i])\n",
    "            nn.init.xavier_uniform_(self.bias[i].view(*self.bias[i].shape, -1))\n",
    "        \n",
    "        nn.init.xavier_uniform_(self.a.view(*self.a.shape, -1))\n",
    "\n",
    "    def forward(self, receiver, attendant):\n",
    "        # receiver.shape  = (1024, 4, 64)\n",
    "        # attendant.shape = (1024, 4, 64)\n",
    "\n",
    "        # Compute attention score for each head\n",
    "        head_outputs = []\n",
    "        for i in range(self.n_heads):\n",
    "            keys = receiver @ self.W_k[i]\n",
    "            queries = attendant @ self.W_q[i]\n",
    "            # print(\"keys.shape = \", keys.shape)\n",
    "            e_activations = queries.unsqueeze(-3) + keys.unsqueeze(-2) + self.bias[i]\n",
    "            # print(\"e_activations.shape = \", e_activations.shape)\n",
    "            head_outputs.append(e_activations)\n",
    "\n",
    "        # Average the outputs from all heads\n",
    "        # e_activations_avg.shape = (1024, 4, 4, 32)\n",
    "        e_activations_avg = torch.cat(head_outputs, dim=-1)\n",
    "        # print(\"e_activations_avg.shape = \", e_activations_avg.shape)\n",
    "        \n",
    "        if self.use_activation_fn:\n",
    "            e_scores = torch.tanh(e_activations_avg) @ self.a\n",
    "        else:\n",
    "            e_scores = e_activations_avg @ self.a\n",
    "\n",
    "        # attentions.shape = (1024, 4, 4)\n",
    "        attentions = e_scores\n",
    "\n",
    "        return attentions\n",
    "\n",
    "class CoAttentionLayerImproved(nn.Module):\n",
    "    def __init__(self, n_features, use_activation_fn=True, dropout=0.1, n_heads=2):\n",
    "        super().__init__()\n",
    "        self.n_features = n_features\n",
    "        self.n_heads = n_heads\n",
    "        self.head_dim = n_features // n_heads\n",
    "\n",
    "        # Projects for queries and keys per head\n",
    "        self.w_q = nn.Parameter(torch.zeros(self.head_dim, self.head_dim // 2))\n",
    "        self.w_k = nn.Parameter(torch.zeros(self.head_dim, self.head_dim // 2))\n",
    "        self.bias = nn.Parameter(torch.zeros(self.n_features // 2))\n",
    "        self.a = nn.Parameter(torch.zeros(self.n_features // 2))\n",
    "        self.use_activation_fn = use_activation_fn\n",
    "\n",
    "        self.dropout = nn.Dropout(dropout)\n",
    "\n",
    "        nn.init.xavier_uniform_(self.w_q)\n",
    "        nn.init.xavier_uniform_(self.w_k)\n",
    "        nn.init.xavier_uniform_(self.bias.view(*self.bias.shape, -1))\n",
    "        nn.init.xavier_uniform_(self.a.view(*self.a.shape, -1))\n",
    "\n",
    "    def forward(self, receiver, attendant):\n",
    "        # receiver.shape  = (1024, 4, 64)\n",
    "        # attendant.shape = (1024, 4, 64)\n",
    "\n",
    "        # Split reciever and attendant into multiple heads\n",
    "        batch_size, gat_size, n_features = receiver.shape\n",
    "        receiver = receiver.view(batch_size, gat_size, self.n_heads, self.head_dim)\n",
    "        attendant = attendant.view(batch_size, gat_size, self.n_heads, self.head_dim)\n",
    "        \n",
    "        # Compute keys and queries per head\n",
    "        # receiver.shape  = (1024, 4, 2, 32)\n",
    "        # attendant.shape = (1024, 4, 2, 32)\n",
    "        \n",
    "        # self.w_k.shape  = (32, 16)\n",
    "        # self.w_q.shape  = (32, 16)\n",
    "        \n",
    "        # self.keys.shape     = (1024, 4, 2, 16)\n",
    "        # self.queries.shape  = (1024, 4, 2, 16)\n",
    "        keys = receiver @ self.w_k\n",
    "        queries = attendant @ self.w_q\n",
    "\n",
    "        # self.keys.shape     = (1024, 4, 32)\n",
    "        # self.queries.shape  = (1024, 4, 32)\n",
    "        keys    = keys.view(batch_size, gat_size, self.head_dim)\n",
    "        queries = queries.view(batch_size, gat_size, self.head_dim)\n",
    "        # print(\"keys.shape\", keys.shape)\n",
    "        # print(\"queries.shape\", queries.shape)\n",
    "\n",
    "        # e_activations.shape = (1024, 4, 4, 32)\n",
    "        # self.a.shape = (32,)\n",
    "        e_activations = queries.unsqueeze(-3) + keys.unsqueeze(-2) + self.bias\n",
    "        if self.use_activation_fn:\n",
    "            e_scores = torch.tanh(e_activations) @ self.a\n",
    "        else:\n",
    "            e_scores = e_activations @ self.a\n",
    "\n",
    "        # attentions.shape = (1024, 4, 4)\n",
    "        attentions = e_scores\n",
    "\n",
    "        return attentions\n",
    "\n",
    "\n",
    "class RESCAL(nn.Module):\n",
    "    def __init__(self, n_rels, n_features):\n",
    "        \"\"\"\n",
    "        n_rels: number of relations = 86\n",
    "        n_features: kge_dim = 64\n",
    "        \"\"\"\n",
    "        super().__init__()\n",
    "        self.n_rels = n_rels\n",
    "        self.n_features = n_features\n",
    "        # Embedding layer\n",
    "        self.rel_emb = nn.Embedding(self.n_rels, n_features * n_features)\n",
    "        #  Initializes the embedding weights with the Xavier uniform distribution, which helps maintain the scale of gradients during training\n",
    "        nn.init.xavier_uniform_(self.rel_emb.weight)\n",
    "\n",
    "    def forward(self, heads, tails, rels, alpha_scores):\n",
    "        rels = self.rel_emb(rels)\n",
    "        rels = F.normalize(rels, dim=-1)\n",
    "        heads = F.normalize(heads, dim=-1)\n",
    "        tails = F.normalize(tails, dim=-1)\n",
    "        # print(rels.shape)\n",
    "        # Convert shape (1024, 4096) to (1024, 64, 64) for dot product\n",
    "        rels = rels.view(-1, self.n_features, self.n_features)\n",
    "        # print(rels.shape)\n",
    "        # (1024, 4, 64) @ (1024, 64, 64) = (1024, 4, 64) @ (1024, 64, 4) = (1024, 4, 4)\n",
    "        scores = heads @ rels @ tails.transpose(-2, -1)\n",
    "\n",
    "        # alpha_scores.shape = (1024, 4, 4)\n",
    "        # scores.shape = (1024, 4, 4)\n",
    "        if alpha_scores is not None:\n",
    "            scores = alpha_scores * scores\n",
    "        # print(scores.shape)\n",
    "        \n",
    "        # sum the last 2 dimensions\n",
    "        scores = scores.sum(dim=(-2, -1))\n",
    "        \n",
    "        # print(scores.shape)\n",
    "        # Shape(1024,)\n",
    "        return scores\n",
    "\n",
    "    def __repr__(self):\n",
    "        return f\"{self.__class__.__name__}({self.n_rels}, {self.rel_emb.weight.shape})\"\n",
    "\n",
    "\n",
    "\n",
    "class ComplEx(nn.Module):\n",
    "    def __init__(self, n_rels, n_features):\n",
    "        super().__init__()\n",
    "        self.n_rels = n_rels\n",
    "        self.n_features = n_features\n",
    "    \n",
    "        # Relation embeddings are also complex\n",
    "        self.rel_real = nn.Embedding(self.n_rels, (self.n_features // 2) * (self.n_features // 2))\n",
    "        self.rel_imag = nn.Embedding(self.n_rels, (self.n_features // 2) * (self.n_features // 2))\n",
    "        \n",
    "        # Initialize embeddings\n",
    "        nn.init.xavier_uniform_(self.rel_real.weight)\n",
    "        nn.init.xavier_uniform_(self.rel_imag.weight)\n",
    "\n",
    "    def forward(self, heads, tails, rels, alpha_scores=None):\n",
    "        # Preprocess\n",
    "        # heads = F.normalize(heads, dim=-1)\n",
    "        # tails = F.normalize(tails, dim=-1)\n",
    "        \n",
    "        r_real, r_imag = self.rel_real(rels), self.rel_imag(rels)\n",
    "        r_real = F.normalize(r_real, dim=-1)\n",
    "        r_imag = F.normalize(r_imag, dim=-1)\n",
    "        # print(r_real.shape)\n",
    "        r_real = r_real.view(-1, self.n_features // 2, self.n_features // 2)\n",
    "        r_imag = r_imag.view(-1, self.n_features // 2, self.n_features // 2)\n",
    "        # print(r_real.shape)\n",
    "        # Split heads and tails to imaginary parts\n",
    "        h_real, h_imag = heads[..., :self.n_features // 2], heads[..., self.n_features // 2:]\n",
    "        t_real, t_imag = tails[..., :self.n_features // 2], heads[..., self.n_features // 2:]\n",
    "\n",
    "        h_real, h_imag = F.normalize(h_real, dim=-1), F.normalize(h_imag, dim=-1)\n",
    "        t_real, t_imag = F.normalize(t_real, dim=-1), F.normalize(t_imag, dim=-1)\n",
    "\n",
    "        # ComplEx scoring functionn\n",
    "        first_part_score = h_real @ r_real @ t_real.transpose(-2, -1)\n",
    "        second_part_score = h_real @ r_imag @ t_imag.transpose(-2, -1)\n",
    "        third_part_score = h_imag @ r_real @ t_imag.transpose(-2, -1)\n",
    "        fourth_part_score = h_imag @ r_imag @ t_real.transpose(-2, -1)\n",
    "\n",
    "        scores = first_part_score + second_part_score + third_part_score + fourth_part_score\n",
    "        \n",
    "        # If alpha_scores is provided, apply it\n",
    "        if alpha_scores is not None:\n",
    "            scores = alpha_scores * scores\n",
    "\n",
    "        scores = scores.sum(dim=(-2, -1))\n",
    "        \n",
    "        return scores\n",
    "\n",
    "    def __repr__(self):\n",
    "        return f\"{self.__class__.__name__}({self.n_rels}, {self.rel_real.weight.shape}, {self.rel_imag.weight.shape})\"\n"
   ]
  },
  {
   "cell_type": "code",
   "execution_count": 9,
   "metadata": {
    "id": "CWV8Vy2YRXQA"
   },
   "outputs": [],
   "source": [
    "class SSI_DDI(nn.Module):\n",
    "    def __init__(\n",
    "        self,\n",
    "        in_features,\n",
    "        hidd_dim,\n",
    "        kge_dim,\n",
    "        rel_total,\n",
    "        heads_out_feat_params,\n",
    "        blocks_params,\n",
    "        sp_ratio,\n",
    "        use_activation_fn,\n",
    "        use_ComplEx,\n",
    "        sp_min_score,\n",
    "        co_attention_method,\n",
    "    ):\n",
    "        \"\"\"\n",
    "        blocks_params: list of number layers for multi-head attentions\n",
    "        \"\"\"\n",
    "        super().__init__()\n",
    "        self.in_features = in_features\n",
    "        # not using this one\n",
    "        self.hidd_dim = hidd_dim\n",
    "        self.rel_total = rel_total\n",
    "        self.kge_dim = kge_dim\n",
    "        self.n_blocks = len(blocks_params)\n",
    "\n",
    "        self.initial_norm = LayerNorm(self.in_features)\n",
    "        self.blocks = []\n",
    "        self.use_activation_fn = use_activation_fn\n",
    "        self.use_ComplEx = use_ComplEx\n",
    "        # Layer normalization list\n",
    "        self.net_norms = ModuleList()\n",
    "        for i, (head_out_feats, n_heads) in enumerate(\n",
    "            zip(heads_out_feat_params, blocks_params)\n",
    "        ):\n",
    "            block = SSI_DDI_Block(\n",
    "                n_heads, in_features, head_out_feats, final_out_feats=self.hidd_dim, sp_ratio=sp_ratio, sp_min_score=sp_min_score\n",
    "            )\n",
    "            self.add_module(f\"block{i}\", block)\n",
    "            self.blocks.append(block)\n",
    "            self.net_norms.append(LayerNorm(head_out_feats * n_heads))\n",
    "            in_features = head_out_feats * n_heads\n",
    "\n",
    "        if co_attention_method == \"multihead\":\n",
    "            self.co_attention = MultiheadCoAttentionLayer(self.kge_dim, self.use_activation_fn)\n",
    "        elif co_attention_method == \"improved\":\n",
    "            self.co_attention = CoAttentionLayerImproved(self.kge_dim, self.use_activation_fn)\n",
    "        else:\n",
    "            self.co_attention = CoAttentionLayer(self.kge_dim, self.use_activation_fn)\n",
    "            \n",
    "        if self.use_ComplEx:\n",
    "            self.KGE = ComplEx(self.rel_total, self.kge_dim)\n",
    "        else:\n",
    "            self.KGE = RESCAL(self.rel_total, self.kge_dim)\n",
    "\n",
    "    def forward(self, triples):\n",
    "        h_data, t_data, rels = triples\n",
    "\n",
    "        h_data.x = self.initial_norm(h_data.x, h_data.batch)\n",
    "        t_data.x = self.initial_norm(t_data.x, t_data.batch)\n",
    "\n",
    "        repr_h = []\n",
    "        repr_t = []\n",
    "\n",
    "        for i, block in enumerate(self.blocks):\n",
    "            out1, out2 = block(h_data), block(t_data)\n",
    "\n",
    "            h_data = out1[0]\n",
    "            t_data = out2[0]\n",
    "            r_h = out1[1]\n",
    "            r_t = out2[1]\n",
    "\n",
    "            repr_h.append(r_h)\n",
    "            repr_t.append(r_t)\n",
    "\n",
    "            h_data.x = F.elu(self.net_norms[i](h_data.x, h_data.batch))\n",
    "            t_data.x = F.elu(self.net_norms[i](t_data.x, t_data.batch))\n",
    "\n",
    "        repr_h = torch.stack(repr_h, dim=-2)\n",
    "        repr_t = torch.stack(repr_t, dim=-2)\n",
    "\n",
    "        kge_heads = repr_h\n",
    "        kge_tails = repr_t\n",
    "\n",
    "        attentions = self.co_attention(kge_heads, kge_tails)\n",
    "        # attentions = None\n",
    "        scores = self.KGE(kge_heads, kge_tails, rels, attentions)\n",
    "\n",
    "        return scores\n",
    "\n",
    "\n",
    "class SSI_DDI_Block(nn.Module):\n",
    "    def __init__(self, n_heads, in_features, head_out_feats, final_out_feats, sp_ratio, sp_min_score):\n",
    "        \"\"\"\n",
    "        n_heades: number of multi-head attentions = 2\n",
    "        in_features: number of features = 55 . For explicit valence use, number of features = 56.\n",
    "        head_out_feats: number of out features. For 4 layers: [32, 32, 32, 32]\n",
    "        sp_ratio: SAGPooling ratio\n",
    "        \"\"\"\n",
    "        super().__init__()\n",
    "        self.n_heads = n_heads\n",
    "        self.in_features = in_features\n",
    "        self.out_features = head_out_feats\n",
    "        self.conv = GATConv(in_features, head_out_feats, n_heads)\n",
    "        # SAGPooling: Ranks nodes based on self-attention scores\n",
    "\n",
    "        if sp_ratio is None and sp_min_score is None:\n",
    "            self.readout = SAGPooling(n_heads * head_out_feats, min_score=-1)\n",
    "        else:\n",
    "            if sp_ratio is not None:\n",
    "                self.readout = SAGPooling(n_heads * head_out_feats, min_score=sp_min_score, ratio=sp_ratio)\n",
    "            else:\n",
    "                self.readout = SAGPooling(n_heads * head_out_feats, min_score=sp_min_score)\n",
    "\n",
    "    def forward(self, data):\n",
    "        data.x = self.conv(data.x, data.edge_index)\n",
    "        # Call SAGPooling here\n",
    "        # If min_score = -1 so nodes will not be filtered out, basically redudant for using the SAGPooling.\n",
    "        att_x, att_edge_index, att_edge_attr, att_batch, att_perm, att_scores = (\n",
    "            self.readout(data.x, data.edge_index, batch=data.batch)\n",
    "        )\n",
    "        # Aggregates the pooled node features (att_x) across the graph to obtain a global representation\n",
    "        global_graph_emb = global_add_pool(att_x, att_batch)\n",
    "\n",
    "        # data = max_pool_neighbor_x(data)\n",
    "        return data, global_graph_emb\n"
   ]
  },
  {
   "cell_type": "code",
   "execution_count": 10,
   "metadata": {
    "id": "ZT2vnlWzR6FD"
   },
   "outputs": [],
   "source": [
    "class SigmoidLoss(nn.Module):\n",
    "    def __init__(self, adv_temperature=None):\n",
    "        super().__init__()\n",
    "        self.adv_temperature = adv_temperature\n",
    "\n",
    "    def forward(self, p_scores, n_scores):\n",
    "        if self.adv_temperature:\n",
    "            weights = F.softmax(self.adv_temperature * n_scores, dim=-1).detach()\n",
    "            n_scores = weights * n_scores\n",
    "        p_loss = -F.logsigmoid(p_scores).mean()\n",
    "        n_loss = -F.logsigmoid(-n_scores).mean()\n",
    "\n",
    "        return (p_loss + n_loss) / 2, p_loss, n_loss\n"
   ]
  },
  {
   "cell_type": "code",
   "execution_count": 11,
   "metadata": {
    "colab": {
     "base_uri": "https://localhost:8080/"
    },
    "executionInfo": {
     "elapsed": 5412,
     "status": "ok",
     "timestamp": 1729307124627,
     "user": {
      "displayName": "Nam Le",
      "userId": "10910051602335296858"
     },
     "user_tz": -420
    },
    "id": "iokMMRiStLG2",
    "outputId": "afa67e5a-4edb-4c3a-ee51-e0a261f743f6"
   },
   "outputs": [
    {
     "name": "stdout",
     "output_type": "stream",
     "text": [
      "Training with 115185 samples, validating with 38348, and testing with 38337\n"
     ]
    }
   ],
   "source": [
    "df_ddi_train = pd.read_csv(f\"{data_dir}/ddi_training.csv\")\n",
    "df_ddi_val = pd.read_csv(f\"{data_dir}/ddi_validation.csv\")\n",
    "df_ddi_test = pd.read_csv(f\"{data_dir}/ddi_test.csv\")\n",
    "\n",
    "\n",
    "train_tup = [\n",
    "    (h, t, r)\n",
    "    for h, t, r in zip(df_ddi_train[\"d1\"], df_ddi_train[\"d2\"], df_ddi_train[\"type\"])\n",
    "]\n",
    "val_tup = [\n",
    "    (h, t, r) for h, t, r in zip(df_ddi_val[\"d1\"], df_ddi_val[\"d2\"], df_ddi_val[\"type\"])\n",
    "]\n",
    "test_tup = [\n",
    "    (h, t, r)\n",
    "    for h, t, r in zip(df_ddi_test[\"d1\"], df_ddi_test[\"d2\"], df_ddi_test[\"type\"])\n",
    "]\n",
    "\n",
    "train_data = DrugDataset(train_tup, ratio=data_size_ratio, neg_ent=neg_samples)\n",
    "val_data = DrugDataset(val_tup, ratio=data_size_ratio, disjoint_split=False)\n",
    "test_data = DrugDataset(test_tup, disjoint_split=False)\n",
    "\n",
    "print(\n",
    "    f\"Training with {len(train_data)} samples, validating with {len(val_data)}, and testing with {len(test_data)}\"\n",
    ")\n",
    "\n",
    "train_data_loader = DrugDataLoader(train_data, batch_size=batch_size, shuffle=True)\n",
    "val_data_loader = DrugDataLoader(val_data, batch_size=batch_size * 3)\n",
    "test_data_loader = DrugDataLoader(test_data, batch_size=batch_size * 3)\n"
   ]
  },
  {
   "cell_type": "code",
   "execution_count": 12,
   "metadata": {
    "id": "7jJxwTGhtwRE"
   },
   "outputs": [],
   "source": [
    "def do_compute(model, batch, device, training=True):\n",
    "    \"\"\"\n",
    "    *batch: (pos_tri, neg_tri)\n",
    "    *pos/neg_tri: (batch_h, batch_t, batch_r)\n",
    "    \"\"\"\n",
    "    probas_pred, ground_truth = [], []\n",
    "    pos_tri, neg_tri = batch\n",
    "\n",
    "    pos_tri = [tensor.to(device=device) for tensor in pos_tri]\n",
    "    p_score = model(pos_tri)\n",
    "    probas_pred.append(torch.sigmoid(p_score.detach()).cpu())\n",
    "    ground_truth.append(np.ones(len(p_score)))\n",
    "\n",
    "    neg_tri = [tensor.to(device=device) for tensor in neg_tri]\n",
    "    n_score = model(neg_tri)\n",
    "    probas_pred.append(torch.sigmoid(n_score.detach()).cpu())\n",
    "    ground_truth.append(np.zeros(len(n_score)))\n",
    "\n",
    "    probas_pred = np.concatenate(probas_pred)\n",
    "    ground_truth = np.concatenate(ground_truth)\n",
    "\n",
    "    return p_score, n_score, probas_pred, ground_truth\n",
    "\n",
    "\n",
    "def do_compute_metrics(probas_pred, target):\n",
    "\n",
    "    pred = (probas_pred >= 0.5).astype(np.int64)\n",
    "\n",
    "    acc = metrics.accuracy_score(target, pred)\n",
    "    auc_roc = metrics.roc_auc_score(target, probas_pred)\n",
    "    f1_score = metrics.f1_score(target, pred)\n",
    "\n",
    "    p, r, t = metrics.precision_recall_curve(target, probas_pred)\n",
    "    auc_prc = metrics.auc(r, p)\n",
    "\n",
    "    return acc, auc_roc, auc_prc"
   ]
  },
  {
   "cell_type": "code",
   "execution_count": 13,
   "metadata": {},
   "outputs": [],
   "source": [
    "import csv\n",
    "def export_metrics(train_metrics, val_metrics, epoch):\n",
    "    train_metrics_dir = \"train_metrics\"\n",
    "    metrics_file = f\"{train_metrics_dir}/{model_name}.csv\"\n",
    "    train_loss, train_acc, train_auc_roc, train_auc_prc = train_metrics\n",
    "    val_loss, val_acc, val_auc_roc, val_auc_prc = val_metrics\n",
    "\n",
    "    data = [epoch, train_loss, train_acc, train_auc_roc, train_auc_prc, val_loss, val_acc, val_auc_roc, val_auc_prc]\n",
    "    header = [\"epoch\", \"train_loss\", \"train_acc\", \"train_auc_roc\", \"train_auc_prc\", \"val_loss\", \"val_acc\", \"val_auc_roc\", \"val_auc_prc\"]\n",
    "    \n",
    "    if epoch == 1:\n",
    "        with open(metrics_file, 'w', newline='') as file:\n",
    "            writer = csv.writer(file)\n",
    "            # Write the header\n",
    "            writer.writerow(header)\n",
    "            # Write the data rows\n",
    "            writer.writerow(data)\n",
    "    else:\n",
    "        with open(metrics_file, 'a', newline='') as file:\n",
    "            writer = csv.writer(file)\n",
    "            # Write the data to the file\n",
    "            writer.writerow(data)\n",
    "    \n",
    "    "
   ]
  },
  {
   "cell_type": "code",
   "execution_count": 14,
   "metadata": {},
   "outputs": [],
   "source": [
    "model_acc_file = f\"{model_dir}/acc/{model_name}.pth\"\n",
    "model_roc_file = f\"{model_dir}/roc/{model_name}.pth\"\n",
    "model_prc_file = f\"{model_dir}/prc/{model_name}.pth\"\n",
    "\n",
    "def save_model(best, current, met_type):\n",
    "    model_file = model_prc_file\n",
    "    if met_type == \"acc\":\n",
    "        model_file = model_acc_file\n",
    "    elif met_type == \"roc\":\n",
    "        model_file = model_roc_file\n",
    "        \n",
    "    if best < current:\n",
    "        print(f\"Saving model {met_type}\")\n",
    "        best = current\n",
    "        torch.save(model, model_file)\n",
    "    return best"
   ]
  },
  {
   "cell_type": "code",
   "execution_count": 15,
   "metadata": {
    "id": "EV5GTDPktz_h"
   },
   "outputs": [],
   "source": [
    "def train(\n",
    "    model,\n",
    "    train_data_loader,\n",
    "    val_data_loader,\n",
    "    loss_fn,\n",
    "    optimizer,\n",
    "    n_epochs,\n",
    "    device,\n",
    "    scheduler=None,\n",
    "):\n",
    "    print(\"Starting training at:\", datetime.today())\n",
    "    print(\"Device:\", device)\n",
    "    print_tunning_parameters()\n",
    "    best_val_prc = 0\n",
    "    best_val_acc = 0\n",
    "    best_val_roc = 0\n",
    "    for i in range(1, n_epochs + 1):\n",
    "        start = time.time()\n",
    "        train_loss = 0\n",
    "        train_loss_pos = 0\n",
    "        train_loss_neg = 0\n",
    "        val_loss = 0\n",
    "        val_loss_pos = 0\n",
    "        val_loss_neg = 0\n",
    "        train_probas_pred = []\n",
    "        train_ground_truth = []\n",
    "        val_probas_pred = []\n",
    "        val_ground_truth = []\n",
    "\n",
    "        for batch in train_data_loader:\n",
    "            # print(len(batch))\n",
    "            model.train()\n",
    "            p_score, n_score, probas_pred, ground_truth = do_compute(model, batch, device)\n",
    "            train_probas_pred.append(probas_pred)\n",
    "            train_ground_truth.append(ground_truth)\n",
    "            loss, loss_p, loss_n = loss_fn(p_score, n_score)\n",
    "\n",
    "            optimizer.zero_grad()\n",
    "            loss.backward()\n",
    "            optimizer.step()\n",
    "\n",
    "            train_loss += loss.item() * len(p_score)\n",
    "        train_loss /= len(train_data)\n",
    "\n",
    "        with torch.no_grad():\n",
    "            train_probas_pred = np.concatenate(train_probas_pred)\n",
    "            train_ground_truth = np.concatenate(train_ground_truth)\n",
    "\n",
    "            train_acc, train_auc_roc, train_auc_prc = do_compute_metrics(\n",
    "                train_probas_pred, train_ground_truth\n",
    "            )\n",
    "\n",
    "            for batch in val_data_loader:\n",
    "                model.eval()\n",
    "                p_score, n_score, probas_pred, ground_truth = do_compute(model, batch, device)\n",
    "                val_probas_pred.append(probas_pred)\n",
    "                val_ground_truth.append(ground_truth)\n",
    "                loss, loss_p, loss_n = loss_fn(p_score, n_score)\n",
    "                val_loss += loss.item() * len(p_score)\n",
    "\n",
    "            val_loss /= len(val_data)\n",
    "            val_probas_pred = np.concatenate(val_probas_pred)\n",
    "            val_ground_truth = np.concatenate(val_ground_truth)\n",
    "            val_acc, val_auc_roc, val_auc_prc = do_compute_metrics(\n",
    "                val_probas_pred, val_ground_truth\n",
    "            )\n",
    "            \n",
    "            # Save model if this is the best so far\n",
    "            best_val_prc = save_model(best_val_prc, val_auc_prc, \"prc\")\n",
    "            best_val_acc = save_model(best_val_acc, val_acc, \"acc\")\n",
    "            best_val_roc = save_model(best_val_roc, val_auc_roc, \"roc\")\n",
    "\n",
    "        if scheduler:\n",
    "            # print('scheduling')\n",
    "            scheduler.step()\n",
    "\n",
    "        # Exporting metrics for later plots\n",
    "        train_metrics = (train_loss, train_acc, train_auc_roc, train_auc_prc)\n",
    "        val_metrics = (val_loss, val_acc, val_auc_roc, val_auc_prc)\n",
    "        export_metrics(train_metrics, val_metrics, i)\n",
    "        \n",
    "        print(\n",
    "            f\"Epoch: {i} ({time.time() - start:.4f}s), train_loss: {train_loss:.4f}, val_loss: {val_loss:.4f},\"\n",
    "            f\" train_acc: {train_acc:.4f}, val_acc:{val_acc:.4f}\"\n",
    "        )\n",
    "        print(\n",
    "            f\"\\t\\ttrain_roc: {train_auc_roc:.4f}, val_roc: {val_auc_roc:.4f}, train_auprc: {train_auc_prc:.4f}, val_auprc: {val_auc_prc:.4f}\"\n",
    "        )\n",
    "\n",
    "    return model"
   ]
  },
  {
   "cell_type": "code",
   "execution_count": 16,
   "metadata": {
    "id": "ZwBcoUHEuAtJ"
   },
   "outputs": [],
   "source": [
    "def predict(model, test_data_loader, device):\n",
    "    print('Starting predicting at', datetime.today())\n",
    "    print('Device', device)\n",
    "\n",
    "    test_probas_pred = []\n",
    "    test_ground_truth = []\n",
    "\n",
    "    # Switch to evaluation mode\n",
    "    model.eval()\n",
    "\n",
    "    with torch.no_grad():  # No need to calculate gradients during testing\n",
    "        for batch in test_data_loader:\n",
    "            # Get predictions and ground truth for the batch\n",
    "            p_score, n_score, probas_pred, ground_truth = do_compute(model, batch, device, training=False)\n",
    "\n",
    "            # Append the predictions and ground truths\n",
    "            test_probas_pred.append(probas_pred)\n",
    "            test_ground_truth.append(ground_truth)\n",
    "\n",
    "\n",
    "    # Concatenate the results for the entire test dataset\n",
    "    test_probas_pred = np.concatenate(test_probas_pred)\n",
    "    test_ground_truth = np.concatenate(test_ground_truth)\n",
    "\n",
    "    # Calculate the metrics for the test dataset\n",
    "    test_acc, test_auc_roc, test_auc_prc = do_compute_metrics(test_probas_pred, test_ground_truth)\n",
    "\n",
    "    print(f'Test Accuracy: {test_acc:.4f}')\n",
    "    print(f'Test ROC AUC: {test_auc_roc:.4f}')\n",
    "    print(f'Test PRC AUC: {test_auc_prc:.4f}')"
   ]
  },
  {
   "cell_type": "code",
   "execution_count": 17,
   "metadata": {
    "colab": {
     "base_uri": "https://localhost:8080/"
    },
    "executionInfo": {
     "elapsed": 722,
     "status": "ok",
     "timestamp": 1729307125347,
     "user": {
      "displayName": "Nam Le",
      "userId": "10910051602335296858"
     },
     "user_tz": -420
    },
    "id": "PQ1H7udUuFMT",
    "outputId": "4519f4c7-6ad4-4d20-b66d-a5f26cdab691"
   },
   "outputs": [
    {
     "name": "stdout",
     "output_type": "stream",
     "text": [
      "SSI_DDI(\n",
      "  (initial_norm): LayerNorm(55, affine=True, mode=graph)\n",
      "  (net_norms): ModuleList(\n",
      "    (0-4): 5 x LayerNorm(64, affine=True, mode=graph)\n",
      "  )\n",
      "  (block0): SSI_DDI_Block(\n",
      "    (conv): GATConv(55, 32, heads=2)\n",
      "    (readout): SAGPooling(GraphConv, 64, min_score=-1, multiplier=1.0)\n",
      "  )\n",
      "  (block1): SSI_DDI_Block(\n",
      "    (conv): GATConv(64, 32, heads=2)\n",
      "    (readout): SAGPooling(GraphConv, 64, min_score=-1, multiplier=1.0)\n",
      "  )\n",
      "  (block2): SSI_DDI_Block(\n",
      "    (conv): GATConv(64, 32, heads=2)\n",
      "    (readout): SAGPooling(GraphConv, 64, min_score=-1, multiplier=1.0)\n",
      "  )\n",
      "  (block3): SSI_DDI_Block(\n",
      "    (conv): GATConv(64, 32, heads=2)\n",
      "    (readout): SAGPooling(GraphConv, 64, min_score=-1, multiplier=1.0)\n",
      "  )\n",
      "  (block4): SSI_DDI_Block(\n",
      "    (conv): GATConv(64, 32, heads=2)\n",
      "    (readout): SAGPooling(GraphConv, 64, min_score=-1, multiplier=1.0)\n",
      "  )\n",
      "  (co_attention): MultiheadCoAttentionLayer(\n",
      "    (W_q): ParameterList(\n",
      "        (0): Parameter containing: [torch.float32 of size 64x32]\n",
      "        (1): Parameter containing: [torch.float32 of size 64x32]\n",
      "    )\n",
      "    (W_k): ParameterList(\n",
      "        (0): Parameter containing: [torch.float32 of size 64x32]\n",
      "        (1): Parameter containing: [torch.float32 of size 64x32]\n",
      "    )\n",
      "    (bias): ParameterList(\n",
      "        (0): Parameter containing: [torch.float32 of size 32]\n",
      "        (1): Parameter containing: [torch.float32 of size 32]\n",
      "    )\n",
      "    (dropout): Dropout(p=0.1, inplace=False)\n",
      "  )\n",
      "  (KGE): ComplEx(86, torch.Size([86, 1024]), torch.Size([86, 1024]))\n",
      ")\n"
     ]
    }
   ],
   "source": [
    "heads_out_feat_params = []\n",
    "block_params = []\n",
    "\n",
    "for _ in range(num_GAT_layers):\n",
    "    heads_out_feat_params.append(kge_dim // 2)\n",
    "    block_params.append(num_GAT_multiheads)\n",
    "\n",
    "if mode == \"train\":\n",
    "    model = SSI_DDI(\n",
    "        n_atom_feats,\n",
    "        n_atom_hid,\n",
    "        kge_dim,\n",
    "        rel_total,\n",
    "        heads_out_feat_params=heads_out_feat_params,\n",
    "        blocks_params=block_params,\n",
    "        sp_ratio=sp_ratio,\n",
    "        use_activation_fn=use_activation_fn,\n",
    "        use_ComplEx=use_ComplEx,\n",
    "        sp_min_score=sp_min_score,\n",
    "        co_attention_method=co_attention_method,\n",
    "    )\n",
    "    loss = SigmoidLoss()\n",
    "    optimizer = optim.Adam(model.parameters(), lr=lr, weight_decay=weight_decay)\n",
    "    scheduler = optim.lr_scheduler.LambdaLR(optimizer, lambda epoch: 0.96 ** (epoch))\n",
    "    print(model)\n",
    "    model.to(device=device)"
   ]
  },
  {
   "cell_type": "code",
   "execution_count": 18,
   "metadata": {
    "colab": {
     "base_uri": "https://localhost:8080/"
    },
    "id": "JvcD5xd_uVbL",
    "outputId": "20e29f96-e964-4647-8a0e-5f46bed80a06"
   },
   "outputs": [
    {
     "name": "stdout",
     "output_type": "stream",
     "text": [
      "Starting training at: 2024-10-29 00:24:49.272479\n",
      "Device: cuda\n",
      "\n",
      "####### Tunning parameters #######\n",
      "\n",
      "n_epochs = 300\n",
      "use_cuda = True\n",
      "\n",
      "num_GAT_layers =  5\n",
      "num_GAT_multiheads =  2\n",
      "\n",
      "sp_ratio = None\n",
      "sp_min_score = None\n",
      "\n",
      "use_explicit_valence = False\n",
      "\n",
      "use_activation_fn = False\n",
      "\n",
      "use_ComplEx = True\n",
      "\n",
      "co_attention_method = multihead\n",
      "\n",
      "#################################\n",
      "\n"
     ]
    },
    {
     "name": "stderr",
     "output_type": "stream",
     "text": [
      "/home/namle/.local/lib/python3.10/site-packages/torch_geometric/warnings.py:11: UserWarning: The usage of `scatter(reduce='max')` can be accelerated via the 'torch-scatter' package, but it was not found\n",
      "  warnings.warn(message)\n"
     ]
    },
    {
     "name": "stdout",
     "output_type": "stream",
     "text": [
      "Saving model prc\n",
      "Saving model acc\n",
      "Saving model roc\n",
      "Epoch: 1 (70.3520s), train_loss: 0.7408, val_loss: 0.6648, train_acc: 0.5451, val_acc:0.5885\n",
      "\t\ttrain_roc: 0.5604, val_roc: 0.6308, train_auprc: 0.5422, val_auprc: 0.6187\n"
     ]
    },
    {
     "name": "stderr",
     "output_type": "stream",
     "text": [
      "/home/namle/.local/lib/python3.10/site-packages/torch_geometric/warnings.py:11: UserWarning: The usage of `scatter(reduce='max')` can be accelerated via the 'torch-scatter' package, but it was not found\n",
      "  warnings.warn(message)\n"
     ]
    },
    {
     "name": "stdout",
     "output_type": "stream",
     "text": [
      "Saving model prc\n",
      "Saving model acc\n",
      "Saving model roc\n",
      "Epoch: 2 (66.3390s), train_loss: 0.6443, val_loss: 0.6208, train_acc: 0.6147, val_acc:0.6397\n",
      "\t\ttrain_roc: 0.6679, val_roc: 0.7046, train_auprc: 0.6527, val_auprc: 0.6890\n"
     ]
    },
    {
     "name": "stderr",
     "output_type": "stream",
     "text": [
      "/home/namle/.local/lib/python3.10/site-packages/torch_geometric/warnings.py:11: UserWarning: The usage of `scatter(reduce='max')` can be accelerated via the 'torch-scatter' package, but it was not found\n",
      "  warnings.warn(message)\n"
     ]
    },
    {
     "name": "stdout",
     "output_type": "stream",
     "text": [
      "Saving model prc\n",
      "Saving model acc\n",
      "Saving model roc\n",
      "Epoch: 3 (67.7525s), train_loss: 0.6023, val_loss: 0.5850, train_acc: 0.6634, val_acc:0.6848\n",
      "\t\ttrain_roc: 0.7301, val_roc: 0.7533, train_auprc: 0.7127, val_auprc: 0.7316\n"
     ]
    },
    {
     "name": "stderr",
     "output_type": "stream",
     "text": [
      "/home/namle/.local/lib/python3.10/site-packages/torch_geometric/warnings.py:11: UserWarning: The usage of `scatter(reduce='max')` can be accelerated via the 'torch-scatter' package, but it was not found\n",
      "  warnings.warn(message)\n"
     ]
    },
    {
     "name": "stdout",
     "output_type": "stream",
     "text": [
      "Saving model prc\n",
      "Saving model acc\n",
      "Saving model roc\n",
      "Epoch: 4 (66.5153s), train_loss: 0.5664, val_loss: 0.5502, train_acc: 0.6995, val_acc:0.7149\n",
      "\t\ttrain_roc: 0.7730, val_roc: 0.7923, train_auprc: 0.7523, val_auprc: 0.7717\n"
     ]
    },
    {
     "name": "stderr",
     "output_type": "stream",
     "text": [
      "/home/namle/.local/lib/python3.10/site-packages/torch_geometric/warnings.py:11: UserWarning: The usage of `scatter(reduce='max')` can be accelerated via the 'torch-scatter' package, but it was not found\n",
      "  warnings.warn(message)\n"
     ]
    },
    {
     "name": "stdout",
     "output_type": "stream",
     "text": [
      "Saving model prc\n",
      "Saving model acc\n",
      "Saving model roc\n",
      "Epoch: 5 (66.6605s), train_loss: 0.5367, val_loss: 0.5329, train_acc: 0.7282, val_acc:0.7235\n",
      "\t\ttrain_roc: 0.8036, val_roc: 0.8054, train_auprc: 0.7817, val_auprc: 0.7837\n"
     ]
    },
    {
     "name": "stderr",
     "output_type": "stream",
     "text": [
      "/home/namle/.local/lib/python3.10/site-packages/torch_geometric/warnings.py:11: UserWarning: The usage of `scatter(reduce='max')` can be accelerated via the 'torch-scatter' package, but it was not found\n",
      "  warnings.warn(message)\n"
     ]
    },
    {
     "name": "stdout",
     "output_type": "stream",
     "text": [
      "Saving model prc\n",
      "Saving model acc\n",
      "Saving model roc\n",
      "Epoch: 6 (67.9201s), train_loss: 0.5163, val_loss: 0.5174, train_acc: 0.7445, val_acc:0.7423\n",
      "\t\ttrain_roc: 0.8214, val_roc: 0.8211, train_auprc: 0.7992, val_auprc: 0.8003\n"
     ]
    },
    {
     "name": "stderr",
     "output_type": "stream",
     "text": [
      "/home/namle/.local/lib/python3.10/site-packages/torch_geometric/warnings.py:11: UserWarning: The usage of `scatter(reduce='max')` can be accelerated via the 'torch-scatter' package, but it was not found\n",
      "  warnings.warn(message)\n"
     ]
    },
    {
     "name": "stdout",
     "output_type": "stream",
     "text": [
      "Saving model prc\n",
      "Saving model acc\n",
      "Saving model roc\n",
      "Epoch: 7 (70.4406s), train_loss: 0.4985, val_loss: 0.5019, train_acc: 0.7577, val_acc:0.7584\n",
      "\t\ttrain_roc: 0.8357, val_roc: 0.8349, train_auprc: 0.8149, val_auprc: 0.8115\n"
     ]
    },
    {
     "name": "stderr",
     "output_type": "stream",
     "text": [
      "/home/namle/.local/lib/python3.10/site-packages/torch_geometric/warnings.py:11: UserWarning: The usage of `scatter(reduce='max')` can be accelerated via the 'torch-scatter' package, but it was not found\n",
      "  warnings.warn(message)\n"
     ]
    },
    {
     "name": "stdout",
     "output_type": "stream",
     "text": [
      "Saving model prc\n",
      "Saving model acc\n",
      "Saving model roc\n",
      "Epoch: 8 (66.9533s), train_loss: 0.4871, val_loss: 0.4870, train_acc: 0.7667, val_acc:0.7669\n",
      "\t\ttrain_roc: 0.8446, val_roc: 0.8436, train_auprc: 0.8233, val_auprc: 0.8215\n"
     ]
    },
    {
     "name": "stderr",
     "output_type": "stream",
     "text": [
      "/home/namle/.local/lib/python3.10/site-packages/torch_geometric/warnings.py:11: UserWarning: The usage of `scatter(reduce='max')` can be accelerated via the 'torch-scatter' package, but it was not found\n",
      "  warnings.warn(message)\n"
     ]
    },
    {
     "name": "stdout",
     "output_type": "stream",
     "text": [
      "Saving model prc\n",
      "Saving model acc\n",
      "Saving model roc\n",
      "Epoch: 9 (67.9793s), train_loss: 0.4766, val_loss: 0.4771, train_acc: 0.7749, val_acc:0.7711\n",
      "\t\ttrain_roc: 0.8523, val_roc: 0.8519, train_auprc: 0.8307, val_auprc: 0.8311\n"
     ]
    },
    {
     "name": "stderr",
     "output_type": "stream",
     "text": [
      "/home/namle/.local/lib/python3.10/site-packages/torch_geometric/warnings.py:11: UserWarning: The usage of `scatter(reduce='max')` can be accelerated via the 'torch-scatter' package, but it was not found\n",
      "  warnings.warn(message)\n"
     ]
    },
    {
     "name": "stdout",
     "output_type": "stream",
     "text": [
      "Saving model prc\n",
      "Saving model acc\n",
      "Saving model roc\n",
      "Epoch: 10 (66.3765s), train_loss: 0.4650, val_loss: 0.4628, train_acc: 0.7817, val_acc:0.7856\n",
      "\t\ttrain_roc: 0.8597, val_roc: 0.8629, train_auprc: 0.8390, val_auprc: 0.8428\n"
     ]
    },
    {
     "name": "stderr",
     "output_type": "stream",
     "text": [
      "/home/namle/.local/lib/python3.10/site-packages/torch_geometric/warnings.py:11: UserWarning: The usage of `scatter(reduce='max')` can be accelerated via the 'torch-scatter' package, but it was not found\n",
      "  warnings.warn(message)\n"
     ]
    },
    {
     "name": "stdout",
     "output_type": "stream",
     "text": [
      "Epoch: 11 (66.6293s), train_loss: 0.4560, val_loss: 0.4609, train_acc: 0.7888, val_acc:0.7840\n",
      "\t\ttrain_roc: 0.8658, val_roc: 0.8624, train_auprc: 0.8451, val_auprc: 0.8419\n"
     ]
    },
    {
     "name": "stderr",
     "output_type": "stream",
     "text": [
      "/home/namle/.local/lib/python3.10/site-packages/torch_geometric/warnings.py:11: UserWarning: The usage of `scatter(reduce='max')` can be accelerated via the 'torch-scatter' package, but it was not found\n",
      "  warnings.warn(message)\n"
     ]
    },
    {
     "name": "stdout",
     "output_type": "stream",
     "text": [
      "Saving model prc\n",
      "Saving model acc\n",
      "Saving model roc\n",
      "Epoch: 12 (66.2723s), train_loss: 0.4501, val_loss: 0.4446, train_acc: 0.7916, val_acc:0.7976\n",
      "\t\ttrain_roc: 0.8697, val_roc: 0.8738, train_auprc: 0.8492, val_auprc: 0.8551\n"
     ]
    },
    {
     "name": "stderr",
     "output_type": "stream",
     "text": [
      "/home/namle/.local/lib/python3.10/site-packages/torch_geometric/warnings.py:11: UserWarning: The usage of `scatter(reduce='max')` can be accelerated via the 'torch-scatter' package, but it was not found\n",
      "  warnings.warn(message)\n"
     ]
    },
    {
     "name": "stdout",
     "output_type": "stream",
     "text": [
      "Saving model roc\n",
      "Epoch: 13 (66.3771s), train_loss: 0.4379, val_loss: 0.4440, train_acc: 0.8014, val_acc:0.7970\n",
      "\t\ttrain_roc: 0.8774, val_roc: 0.8739, train_auprc: 0.8575, val_auprc: 0.8517\n"
     ]
    },
    {
     "name": "stderr",
     "output_type": "stream",
     "text": [
      "/home/namle/.local/lib/python3.10/site-packages/torch_geometric/warnings.py:11: UserWarning: The usage of `scatter(reduce='max')` can be accelerated via the 'torch-scatter' package, but it was not found\n",
      "  warnings.warn(message)\n"
     ]
    },
    {
     "name": "stdout",
     "output_type": "stream",
     "text": [
      "Saving model prc\n",
      "Saving model acc\n",
      "Saving model roc\n",
      "Epoch: 14 (66.3709s), train_loss: 0.4311, val_loss: 0.4394, train_acc: 0.8046, val_acc:0.7986\n",
      "\t\ttrain_roc: 0.8813, val_roc: 0.8780, train_auprc: 0.8621, val_auprc: 0.8577\n"
     ]
    },
    {
     "name": "stderr",
     "output_type": "stream",
     "text": [
      "/home/namle/.local/lib/python3.10/site-packages/torch_geometric/warnings.py:11: UserWarning: The usage of `scatter(reduce='max')` can be accelerated via the 'torch-scatter' package, but it was not found\n",
      "  warnings.warn(message)\n"
     ]
    },
    {
     "name": "stdout",
     "output_type": "stream",
     "text": [
      "Saving model prc\n",
      "Saving model acc\n",
      "Saving model roc\n",
      "Epoch: 15 (66.6112s), train_loss: 0.4237, val_loss: 0.4265, train_acc: 0.8104, val_acc:0.8081\n",
      "\t\ttrain_roc: 0.8861, val_roc: 0.8852, train_auprc: 0.8669, val_auprc: 0.8667\n"
     ]
    },
    {
     "name": "stderr",
     "output_type": "stream",
     "text": [
      "/home/namle/.local/lib/python3.10/site-packages/torch_geometric/warnings.py:11: UserWarning: The usage of `scatter(reduce='max')` can be accelerated via the 'torch-scatter' package, but it was not found\n",
      "  warnings.warn(message)\n"
     ]
    },
    {
     "name": "stdout",
     "output_type": "stream",
     "text": [
      "Saving model prc\n",
      "Saving model acc\n",
      "Saving model roc\n",
      "Epoch: 16 (66.3308s), train_loss: 0.4180, val_loss: 0.4207, train_acc: 0.8131, val_acc:0.8110\n",
      "\t\ttrain_roc: 0.8889, val_roc: 0.8884, train_auprc: 0.8695, val_auprc: 0.8713\n"
     ]
    },
    {
     "name": "stderr",
     "output_type": "stream",
     "text": [
      "/home/namle/.local/lib/python3.10/site-packages/torch_geometric/warnings.py:11: UserWarning: The usage of `scatter(reduce='max')` can be accelerated via the 'torch-scatter' package, but it was not found\n",
      "  warnings.warn(message)\n"
     ]
    },
    {
     "name": "stdout",
     "output_type": "stream",
     "text": [
      "Saving model acc\n",
      "Saving model roc\n",
      "Epoch: 17 (66.3838s), train_loss: 0.4087, val_loss: 0.4196, train_acc: 0.8191, val_acc:0.8124\n",
      "\t\ttrain_roc: 0.8943, val_roc: 0.8893, train_auprc: 0.8755, val_auprc: 0.8702\n"
     ]
    },
    {
     "name": "stderr",
     "output_type": "stream",
     "text": [
      "/home/namle/.local/lib/python3.10/site-packages/torch_geometric/warnings.py:11: UserWarning: The usage of `scatter(reduce='max')` can be accelerated via the 'torch-scatter' package, but it was not found\n",
      "  warnings.warn(message)\n"
     ]
    },
    {
     "name": "stdout",
     "output_type": "stream",
     "text": [
      "Saving model prc\n",
      "Saving model acc\n",
      "Saving model roc\n",
      "Epoch: 18 (66.3434s), train_loss: 0.4042, val_loss: 0.4015, train_acc: 0.8207, val_acc:0.8228\n",
      "\t\ttrain_roc: 0.8963, val_roc: 0.8990, train_auprc: 0.8778, val_auprc: 0.8822\n"
     ]
    },
    {
     "name": "stderr",
     "output_type": "stream",
     "text": [
      "/home/namle/.local/lib/python3.10/site-packages/torch_geometric/warnings.py:11: UserWarning: The usage of `scatter(reduce='max')` can be accelerated via the 'torch-scatter' package, but it was not found\n",
      "  warnings.warn(message)\n"
     ]
    },
    {
     "name": "stdout",
     "output_type": "stream",
     "text": [
      "Saving model acc\n",
      "Saving model roc\n",
      "Epoch: 19 (66.4792s), train_loss: 0.3984, val_loss: 0.3994, train_acc: 0.8253, val_acc:0.8234\n",
      "\t\ttrain_roc: 0.8996, val_roc: 0.8998, train_auprc: 0.8811, val_auprc: 0.8819\n"
     ]
    },
    {
     "name": "stderr",
     "output_type": "stream",
     "text": [
      "/home/namle/.local/lib/python3.10/site-packages/torch_geometric/warnings.py:11: UserWarning: The usage of `scatter(reduce='max')` can be accelerated via the 'torch-scatter' package, but it was not found\n",
      "  warnings.warn(message)\n"
     ]
    },
    {
     "name": "stdout",
     "output_type": "stream",
     "text": [
      "Saving model prc\n",
      "Saving model acc\n",
      "Saving model roc\n",
      "Epoch: 20 (66.4813s), train_loss: 0.3935, val_loss: 0.3985, train_acc: 0.8275, val_acc:0.8268\n",
      "\t\ttrain_roc: 0.9021, val_roc: 0.8998, train_auprc: 0.8833, val_auprc: 0.8835\n"
     ]
    },
    {
     "name": "stderr",
     "output_type": "stream",
     "text": [
      "/home/namle/.local/lib/python3.10/site-packages/torch_geometric/warnings.py:11: UserWarning: The usage of `scatter(reduce='max')` can be accelerated via the 'torch-scatter' package, but it was not found\n",
      "  warnings.warn(message)\n"
     ]
    },
    {
     "name": "stdout",
     "output_type": "stream",
     "text": [
      "Epoch: 21 (66.3280s), train_loss: 0.3887, val_loss: 0.4001, train_acc: 0.8300, val_acc:0.8247\n",
      "\t\ttrain_roc: 0.9043, val_roc: 0.8988, train_auprc: 0.8865, val_auprc: 0.8795\n"
     ]
    },
    {
     "name": "stderr",
     "output_type": "stream",
     "text": [
      "/home/namle/.local/lib/python3.10/site-packages/torch_geometric/warnings.py:11: UserWarning: The usage of `scatter(reduce='max')` can be accelerated via the 'torch-scatter' package, but it was not found\n",
      "  warnings.warn(message)\n"
     ]
    },
    {
     "name": "stdout",
     "output_type": "stream",
     "text": [
      "Saving model prc\n",
      "Saving model acc\n",
      "Saving model roc\n",
      "Epoch: 22 (66.2702s), train_loss: 0.3829, val_loss: 0.3880, train_acc: 0.8339, val_acc:0.8327\n",
      "\t\ttrain_roc: 0.9075, val_roc: 0.9057, train_auprc: 0.8894, val_auprc: 0.8891\n"
     ]
    },
    {
     "name": "stderr",
     "output_type": "stream",
     "text": [
      "/home/namle/.local/lib/python3.10/site-packages/torch_geometric/warnings.py:11: UserWarning: The usage of `scatter(reduce='max')` can be accelerated via the 'torch-scatter' package, but it was not found\n",
      "  warnings.warn(message)\n"
     ]
    },
    {
     "name": "stdout",
     "output_type": "stream",
     "text": [
      "Epoch: 23 (66.3650s), train_loss: 0.3766, val_loss: 0.3874, train_acc: 0.8380, val_acc:0.8326\n",
      "\t\ttrain_roc: 0.9108, val_roc: 0.9057, train_auprc: 0.8935, val_auprc: 0.8866\n"
     ]
    },
    {
     "name": "stderr",
     "output_type": "stream",
     "text": [
      "/home/namle/.local/lib/python3.10/site-packages/torch_geometric/warnings.py:11: UserWarning: The usage of `scatter(reduce='max')` can be accelerated via the 'torch-scatter' package, but it was not found\n",
      "  warnings.warn(message)\n"
     ]
    },
    {
     "name": "stdout",
     "output_type": "stream",
     "text": [
      "Saving model prc\n",
      "Saving model acc\n",
      "Saving model roc\n",
      "Epoch: 24 (66.3960s), train_loss: 0.3732, val_loss: 0.3800, train_acc: 0.8395, val_acc:0.8330\n",
      "\t\ttrain_roc: 0.9119, val_roc: 0.9105, train_auprc: 0.8945, val_auprc: 0.8957\n"
     ]
    },
    {
     "name": "stderr",
     "output_type": "stream",
     "text": [
      "/home/namle/.local/lib/python3.10/site-packages/torch_geometric/warnings.py:11: UserWarning: The usage of `scatter(reduce='max')` can be accelerated via the 'torch-scatter' package, but it was not found\n",
      "  warnings.warn(message)\n"
     ]
    },
    {
     "name": "stdout",
     "output_type": "stream",
     "text": [
      "Saving model acc\n",
      "Saving model roc\n",
      "Epoch: 25 (66.2577s), train_loss: 0.3668, val_loss: 0.3746, train_acc: 0.8428, val_acc:0.8377\n",
      "\t\ttrain_roc: 0.9149, val_roc: 0.9115, train_auprc: 0.8982, val_auprc: 0.8956\n"
     ]
    },
    {
     "name": "stderr",
     "output_type": "stream",
     "text": [
      "/home/namle/.local/lib/python3.10/site-packages/torch_geometric/warnings.py:11: UserWarning: The usage of `scatter(reduce='max')` can be accelerated via the 'torch-scatter' package, but it was not found\n",
      "  warnings.warn(message)\n"
     ]
    },
    {
     "name": "stdout",
     "output_type": "stream",
     "text": [
      "Saving model prc\n",
      "Saving model acc\n",
      "Saving model roc\n",
      "Epoch: 26 (66.4174s), train_loss: 0.3679, val_loss: 0.3676, train_acc: 0.8422, val_acc:0.8414\n",
      "\t\ttrain_roc: 0.9143, val_roc: 0.9152, train_auprc: 0.8975, val_auprc: 0.9003\n"
     ]
    },
    {
     "name": "stderr",
     "output_type": "stream",
     "text": [
      "/home/namle/.local/lib/python3.10/site-packages/torch_geometric/warnings.py:11: UserWarning: The usage of `scatter(reduce='max')` can be accelerated via the 'torch-scatter' package, but it was not found\n",
      "  warnings.warn(message)\n"
     ]
    },
    {
     "name": "stdout",
     "output_type": "stream",
     "text": [
      "Epoch: 27 (66.4600s), train_loss: 0.3591, val_loss: 0.3716, train_acc: 0.8459, val_acc:0.8407\n",
      "\t\ttrain_roc: 0.9183, val_roc: 0.9141, train_auprc: 0.9025, val_auprc: 0.8978\n"
     ]
    },
    {
     "name": "stderr",
     "output_type": "stream",
     "text": [
      "/home/namle/.local/lib/python3.10/site-packages/torch_geometric/warnings.py:11: UserWarning: The usage of `scatter(reduce='max')` can be accelerated via the 'torch-scatter' package, but it was not found\n",
      "  warnings.warn(message)\n"
     ]
    },
    {
     "name": "stdout",
     "output_type": "stream",
     "text": [
      "Saving model prc\n",
      "Saving model acc\n",
      "Saving model roc\n",
      "Epoch: 28 (66.3314s), train_loss: 0.3541, val_loss: 0.3659, train_acc: 0.8505, val_acc:0.8456\n",
      "\t\ttrain_roc: 0.9212, val_roc: 0.9168, train_auprc: 0.9046, val_auprc: 0.9016\n"
     ]
    },
    {
     "name": "stderr",
     "output_type": "stream",
     "text": [
      "/home/namle/.local/lib/python3.10/site-packages/torch_geometric/warnings.py:11: UserWarning: The usage of `scatter(reduce='max')` can be accelerated via the 'torch-scatter' package, but it was not found\n",
      "  warnings.warn(message)\n"
     ]
    },
    {
     "name": "stdout",
     "output_type": "stream",
     "text": [
      "Saving model prc\n",
      "Saving model acc\n",
      "Saving model roc\n",
      "Epoch: 29 (66.3786s), train_loss: 0.3507, val_loss: 0.3600, train_acc: 0.8519, val_acc:0.8466\n",
      "\t\ttrain_roc: 0.9220, val_roc: 0.9181, train_auprc: 0.9060, val_auprc: 0.9034\n"
     ]
    },
    {
     "name": "stderr",
     "output_type": "stream",
     "text": [
      "/home/namle/.local/lib/python3.10/site-packages/torch_geometric/warnings.py:11: UserWarning: The usage of `scatter(reduce='max')` can be accelerated via the 'torch-scatter' package, but it was not found\n",
      "  warnings.warn(message)\n"
     ]
    },
    {
     "name": "stdout",
     "output_type": "stream",
     "text": [
      "Saving model prc\n",
      "Saving model acc\n",
      "Saving model roc\n",
      "Epoch: 30 (66.5069s), train_loss: 0.3463, val_loss: 0.3590, train_acc: 0.8551, val_acc:0.8496\n",
      "\t\ttrain_roc: 0.9243, val_roc: 0.9193, train_auprc: 0.9085, val_auprc: 0.9040\n"
     ]
    },
    {
     "name": "stderr",
     "output_type": "stream",
     "text": [
      "/home/namle/.local/lib/python3.10/site-packages/torch_geometric/warnings.py:11: UserWarning: The usage of `scatter(reduce='max')` can be accelerated via the 'torch-scatter' package, but it was not found\n",
      "  warnings.warn(message)\n"
     ]
    },
    {
     "name": "stdout",
     "output_type": "stream",
     "text": [
      "Saving model prc\n",
      "Saving model acc\n",
      "Saving model roc\n",
      "Epoch: 31 (66.3995s), train_loss: 0.3441, val_loss: 0.3509, train_acc: 0.8564, val_acc:0.8501\n",
      "\t\ttrain_roc: 0.9250, val_roc: 0.9228, train_auprc: 0.9091, val_auprc: 0.9084\n"
     ]
    },
    {
     "name": "stderr",
     "output_type": "stream",
     "text": [
      "/home/namle/.local/lib/python3.10/site-packages/torch_geometric/warnings.py:11: UserWarning: The usage of `scatter(reduce='max')` can be accelerated via the 'torch-scatter' package, but it was not found\n",
      "  warnings.warn(message)\n"
     ]
    },
    {
     "name": "stdout",
     "output_type": "stream",
     "text": [
      "Saving model prc\n",
      "Saving model acc\n",
      "Saving model roc\n",
      "Epoch: 32 (67.0502s), train_loss: 0.3379, val_loss: 0.3494, train_acc: 0.8584, val_acc:0.8521\n",
      "\t\ttrain_roc: 0.9277, val_roc: 0.9230, train_auprc: 0.9124, val_auprc: 0.9090\n"
     ]
    },
    {
     "name": "stderr",
     "output_type": "stream",
     "text": [
      "/home/namle/.local/lib/python3.10/site-packages/torch_geometric/warnings.py:11: UserWarning: The usage of `scatter(reduce='max')` can be accelerated via the 'torch-scatter' package, but it was not found\n",
      "  warnings.warn(message)\n"
     ]
    },
    {
     "name": "stdout",
     "output_type": "stream",
     "text": [
      "Saving model prc\n",
      "Saving model acc\n",
      "Saving model roc\n",
      "Epoch: 33 (66.6199s), train_loss: 0.3349, val_loss: 0.3490, train_acc: 0.8597, val_acc:0.8535\n",
      "\t\ttrain_roc: 0.9291, val_roc: 0.9241, train_auprc: 0.9141, val_auprc: 0.9092\n"
     ]
    },
    {
     "name": "stderr",
     "output_type": "stream",
     "text": [
      "/home/namle/.local/lib/python3.10/site-packages/torch_geometric/warnings.py:11: UserWarning: The usage of `scatter(reduce='max')` can be accelerated via the 'torch-scatter' package, but it was not found\n",
      "  warnings.warn(message)\n"
     ]
    },
    {
     "name": "stdout",
     "output_type": "stream",
     "text": [
      "Saving model prc\n",
      "Saving model acc\n",
      "Saving model roc\n",
      "Epoch: 34 (66.4127s), train_loss: 0.3306, val_loss: 0.3433, train_acc: 0.8633, val_acc:0.8572\n",
      "\t\ttrain_roc: 0.9306, val_roc: 0.9258, train_auprc: 0.9160, val_auprc: 0.9108\n"
     ]
    },
    {
     "name": "stderr",
     "output_type": "stream",
     "text": [
      "/home/namle/.local/lib/python3.10/site-packages/torch_geometric/warnings.py:11: UserWarning: The usage of `scatter(reduce='max')` can be accelerated via the 'torch-scatter' package, but it was not found\n",
      "  warnings.warn(message)\n"
     ]
    },
    {
     "name": "stdout",
     "output_type": "stream",
     "text": [
      "Saving model prc\n",
      "Saving model roc\n",
      "Epoch: 35 (66.3732s), train_loss: 0.3260, val_loss: 0.3437, train_acc: 0.8654, val_acc:0.8569\n",
      "\t\ttrain_roc: 0.9324, val_roc: 0.9268, train_auprc: 0.9178, val_auprc: 0.9131\n"
     ]
    },
    {
     "name": "stderr",
     "output_type": "stream",
     "text": [
      "/home/namle/.local/lib/python3.10/site-packages/torch_geometric/warnings.py:11: UserWarning: The usage of `scatter(reduce='max')` can be accelerated via the 'torch-scatter' package, but it was not found\n",
      "  warnings.warn(message)\n"
     ]
    },
    {
     "name": "stdout",
     "output_type": "stream",
     "text": [
      "Saving model prc\n",
      "Saving model acc\n",
      "Saving model roc\n",
      "Epoch: 36 (66.4885s), train_loss: 0.3242, val_loss: 0.3398, train_acc: 0.8655, val_acc:0.8588\n",
      "\t\ttrain_roc: 0.9332, val_roc: 0.9276, train_auprc: 0.9190, val_auprc: 0.9144\n"
     ]
    },
    {
     "name": "stderr",
     "output_type": "stream",
     "text": [
      "/home/namle/.local/lib/python3.10/site-packages/torch_geometric/warnings.py:11: UserWarning: The usage of `scatter(reduce='max')` can be accelerated via the 'torch-scatter' package, but it was not found\n",
      "  warnings.warn(message)\n"
     ]
    },
    {
     "name": "stdout",
     "output_type": "stream",
     "text": [
      "Saving model prc\n",
      "Saving model acc\n",
      "Saving model roc\n",
      "Epoch: 37 (66.2978s), train_loss: 0.3206, val_loss: 0.3347, train_acc: 0.8673, val_acc:0.8608\n",
      "\t\ttrain_roc: 0.9347, val_roc: 0.9302, train_auprc: 0.9207, val_auprc: 0.9171\n"
     ]
    },
    {
     "name": "stderr",
     "output_type": "stream",
     "text": [
      "/home/namle/.local/lib/python3.10/site-packages/torch_geometric/warnings.py:11: UserWarning: The usage of `scatter(reduce='max')` can be accelerated via the 'torch-scatter' package, but it was not found\n",
      "  warnings.warn(message)\n"
     ]
    },
    {
     "name": "stdout",
     "output_type": "stream",
     "text": [
      "Saving model prc\n",
      "Saving model acc\n",
      "Saving model roc\n",
      "Epoch: 38 (66.5613s), train_loss: 0.3171, val_loss: 0.3289, train_acc: 0.8695, val_acc:0.8642\n",
      "\t\ttrain_roc: 0.9362, val_roc: 0.9320, train_auprc: 0.9225, val_auprc: 0.9190\n"
     ]
    },
    {
     "name": "stderr",
     "output_type": "stream",
     "text": [
      "/home/namle/.local/lib/python3.10/site-packages/torch_geometric/warnings.py:11: UserWarning: The usage of `scatter(reduce='max')` can be accelerated via the 'torch-scatter' package, but it was not found\n",
      "  warnings.warn(message)\n"
     ]
    },
    {
     "name": "stdout",
     "output_type": "stream",
     "text": [
      "Saving model prc\n",
      "Saving model roc\n",
      "Epoch: 39 (66.4033s), train_loss: 0.3153, val_loss: 0.3260, train_acc: 0.8706, val_acc:0.8642\n",
      "\t\ttrain_roc: 0.9369, val_roc: 0.9340, train_auprc: 0.9226, val_auprc: 0.9227\n"
     ]
    },
    {
     "name": "stderr",
     "output_type": "stream",
     "text": [
      "/home/namle/.local/lib/python3.10/site-packages/torch_geometric/warnings.py:11: UserWarning: The usage of `scatter(reduce='max')` can be accelerated via the 'torch-scatter' package, but it was not found\n",
      "  warnings.warn(message)\n"
     ]
    },
    {
     "name": "stdout",
     "output_type": "stream",
     "text": [
      "Saving model acc\n",
      "Epoch: 40 (66.2882s), train_loss: 0.3104, val_loss: 0.3300, train_acc: 0.8717, val_acc:0.8664\n",
      "\t\ttrain_roc: 0.9383, val_roc: 0.9321, train_auprc: 0.9254, val_auprc: 0.9186\n"
     ]
    },
    {
     "name": "stderr",
     "output_type": "stream",
     "text": [
      "/home/namle/.local/lib/python3.10/site-packages/torch_geometric/warnings.py:11: UserWarning: The usage of `scatter(reduce='max')` can be accelerated via the 'torch-scatter' package, but it was not found\n",
      "  warnings.warn(message)\n"
     ]
    },
    {
     "name": "stdout",
     "output_type": "stream",
     "text": [
      "Epoch: 41 (66.3794s), train_loss: 0.3066, val_loss: 0.3246, train_acc: 0.8747, val_acc:0.8659\n",
      "\t\ttrain_roc: 0.9399, val_roc: 0.9339, train_auprc: 0.9268, val_auprc: 0.9215\n"
     ]
    },
    {
     "name": "stderr",
     "output_type": "stream",
     "text": [
      "/home/namle/.local/lib/python3.10/site-packages/torch_geometric/warnings.py:11: UserWarning: The usage of `scatter(reduce='max')` can be accelerated via the 'torch-scatter' package, but it was not found\n",
      "  warnings.warn(message)\n"
     ]
    },
    {
     "name": "stdout",
     "output_type": "stream",
     "text": [
      "Saving model acc\n",
      "Saving model roc\n",
      "Epoch: 42 (66.1880s), train_loss: 0.3049, val_loss: 0.3230, train_acc: 0.8760, val_acc:0.8697\n",
      "\t\ttrain_roc: 0.9406, val_roc: 0.9344, train_auprc: 0.9269, val_auprc: 0.9215\n"
     ]
    },
    {
     "name": "stderr",
     "output_type": "stream",
     "text": [
      "/home/namle/.local/lib/python3.10/site-packages/torch_geometric/warnings.py:11: UserWarning: The usage of `scatter(reduce='max')` can be accelerated via the 'torch-scatter' package, but it was not found\n",
      "  warnings.warn(message)\n"
     ]
    },
    {
     "name": "stdout",
     "output_type": "stream",
     "text": [
      "Epoch: 43 (66.2223s), train_loss: 0.3013, val_loss: 0.3244, train_acc: 0.8778, val_acc:0.8667\n",
      "\t\ttrain_roc: 0.9422, val_roc: 0.9341, train_auprc: 0.9290, val_auprc: 0.9216\n"
     ]
    },
    {
     "name": "stderr",
     "output_type": "stream",
     "text": [
      "/home/namle/.local/lib/python3.10/site-packages/torch_geometric/warnings.py:11: UserWarning: The usage of `scatter(reduce='max')` can be accelerated via the 'torch-scatter' package, but it was not found\n",
      "  warnings.warn(message)\n"
     ]
    },
    {
     "name": "stdout",
     "output_type": "stream",
     "text": [
      "Saving model prc\n",
      "Saving model acc\n",
      "Saving model roc\n",
      "Epoch: 44 (66.5262s), train_loss: 0.3021, val_loss: 0.3180, train_acc: 0.8777, val_acc:0.8704\n",
      "\t\ttrain_roc: 0.9417, val_roc: 0.9366, train_auprc: 0.9280, val_auprc: 0.9243\n"
     ]
    },
    {
     "name": "stderr",
     "output_type": "stream",
     "text": [
      "/home/namle/.local/lib/python3.10/site-packages/torch_geometric/warnings.py:11: UserWarning: The usage of `scatter(reduce='max')` can be accelerated via the 'torch-scatter' package, but it was not found\n",
      "  warnings.warn(message)\n"
     ]
    },
    {
     "name": "stdout",
     "output_type": "stream",
     "text": [
      "Saving model prc\n",
      "Saving model acc\n",
      "Saving model roc\n",
      "Epoch: 45 (66.2878s), train_loss: 0.2965, val_loss: 0.3142, train_acc: 0.8794, val_acc:0.8724\n",
      "\t\ttrain_roc: 0.9437, val_roc: 0.9382, train_auprc: 0.9309, val_auprc: 0.9266\n"
     ]
    },
    {
     "name": "stderr",
     "output_type": "stream",
     "text": [
      "/home/namle/.local/lib/python3.10/site-packages/torch_geometric/warnings.py:11: UserWarning: The usage of `scatter(reduce='max')` can be accelerated via the 'torch-scatter' package, but it was not found\n",
      "  warnings.warn(message)\n"
     ]
    },
    {
     "name": "stdout",
     "output_type": "stream",
     "text": [
      "Epoch: 46 (65.8844s), train_loss: 0.2920, val_loss: 0.3211, train_acc: 0.8815, val_acc:0.8676\n",
      "\t\ttrain_roc: 0.9452, val_roc: 0.9369, train_auprc: 0.9330, val_auprc: 0.9237\n"
     ]
    },
    {
     "name": "stderr",
     "output_type": "stream",
     "text": [
      "/home/namle/.local/lib/python3.10/site-packages/torch_geometric/warnings.py:11: UserWarning: The usage of `scatter(reduce='max')` can be accelerated via the 'torch-scatter' package, but it was not found\n",
      "  warnings.warn(message)\n"
     ]
    },
    {
     "name": "stdout",
     "output_type": "stream",
     "text": [
      "Saving model prc\n",
      "Saving model roc\n",
      "Epoch: 47 (65.7685s), train_loss: 0.2908, val_loss: 0.3133, train_acc: 0.8832, val_acc:0.8720\n",
      "\t\ttrain_roc: 0.9458, val_roc: 0.9396, train_auprc: 0.9334, val_auprc: 0.9285\n"
     ]
    },
    {
     "name": "stderr",
     "output_type": "stream",
     "text": [
      "/home/namle/.local/lib/python3.10/site-packages/torch_geometric/warnings.py:11: UserWarning: The usage of `scatter(reduce='max')` can be accelerated via the 'torch-scatter' package, but it was not found\n",
      "  warnings.warn(message)\n"
     ]
    },
    {
     "name": "stdout",
     "output_type": "stream",
     "text": [
      "Saving model prc\n",
      "Saving model acc\n",
      "Saving model roc\n",
      "Epoch: 48 (65.8618s), train_loss: 0.2869, val_loss: 0.3033, train_acc: 0.8851, val_acc:0.8767\n",
      "\t\ttrain_roc: 0.9472, val_roc: 0.9425, train_auprc: 0.9347, val_auprc: 0.9317\n"
     ]
    },
    {
     "name": "stderr",
     "output_type": "stream",
     "text": [
      "/home/namle/.local/lib/python3.10/site-packages/torch_geometric/warnings.py:11: UserWarning: The usage of `scatter(reduce='max')` can be accelerated via the 'torch-scatter' package, but it was not found\n",
      "  warnings.warn(message)\n"
     ]
    },
    {
     "name": "stdout",
     "output_type": "stream",
     "text": [
      "Epoch: 49 (65.9248s), train_loss: 0.2838, val_loss: 0.3048, train_acc: 0.8870, val_acc:0.8766\n",
      "\t\ttrain_roc: 0.9481, val_roc: 0.9418, train_auprc: 0.9358, val_auprc: 0.9303\n"
     ]
    },
    {
     "name": "stderr",
     "output_type": "stream",
     "text": [
      "/home/namle/.local/lib/python3.10/site-packages/torch_geometric/warnings.py:11: UserWarning: The usage of `scatter(reduce='max')` can be accelerated via the 'torch-scatter' package, but it was not found\n",
      "  warnings.warn(message)\n"
     ]
    },
    {
     "name": "stdout",
     "output_type": "stream",
     "text": [
      "Epoch: 50 (65.8571s), train_loss: 0.2829, val_loss: 0.3082, train_acc: 0.8866, val_acc:0.8734\n",
      "\t\ttrain_roc: 0.9483, val_roc: 0.9410, train_auprc: 0.9360, val_auprc: 0.9313\n"
     ]
    },
    {
     "name": "stderr",
     "output_type": "stream",
     "text": [
      "/home/namle/.local/lib/python3.10/site-packages/torch_geometric/warnings.py:11: UserWarning: The usage of `scatter(reduce='max')` can be accelerated via the 'torch-scatter' package, but it was not found\n",
      "  warnings.warn(message)\n"
     ]
    },
    {
     "name": "stdout",
     "output_type": "stream",
     "text": [
      "Saving model acc\n",
      "Saving model roc\n",
      "Epoch: 51 (65.8510s), train_loss: 0.2786, val_loss: 0.3012, train_acc: 0.8887, val_acc:0.8799\n",
      "\t\ttrain_roc: 0.9499, val_roc: 0.9428, train_auprc: 0.9381, val_auprc: 0.9312\n"
     ]
    },
    {
     "name": "stderr",
     "output_type": "stream",
     "text": [
      "/home/namle/.local/lib/python3.10/site-packages/torch_geometric/warnings.py:11: UserWarning: The usage of `scatter(reduce='max')` can be accelerated via the 'torch-scatter' package, but it was not found\n",
      "  warnings.warn(message)\n"
     ]
    },
    {
     "name": "stdout",
     "output_type": "stream",
     "text": [
      "Saving model prc\n",
      "Saving model acc\n",
      "Saving model roc\n",
      "Epoch: 52 (65.9592s), train_loss: 0.2785, val_loss: 0.2944, train_acc: 0.8892, val_acc:0.8821\n",
      "\t\ttrain_roc: 0.9498, val_roc: 0.9456, train_auprc: 0.9379, val_auprc: 0.9354\n"
     ]
    },
    {
     "name": "stderr",
     "output_type": "stream",
     "text": [
      "/home/namle/.local/lib/python3.10/site-packages/torch_geometric/warnings.py:11: UserWarning: The usage of `scatter(reduce='max')` can be accelerated via the 'torch-scatter' package, but it was not found\n",
      "  warnings.warn(message)\n"
     ]
    },
    {
     "name": "stdout",
     "output_type": "stream",
     "text": [
      "Epoch: 53 (65.8168s), train_loss: 0.2760, val_loss: 0.2966, train_acc: 0.8904, val_acc:0.8817\n",
      "\t\ttrain_roc: 0.9508, val_roc: 0.9448, train_auprc: 0.9388, val_auprc: 0.9340\n"
     ]
    },
    {
     "name": "stderr",
     "output_type": "stream",
     "text": [
      "/home/namle/.local/lib/python3.10/site-packages/torch_geometric/warnings.py:11: UserWarning: The usage of `scatter(reduce='max')` can be accelerated via the 'torch-scatter' package, but it was not found\n",
      "  warnings.warn(message)\n"
     ]
    },
    {
     "name": "stdout",
     "output_type": "stream",
     "text": [
      "Epoch: 54 (65.6849s), train_loss: 0.2746, val_loss: 0.3006, train_acc: 0.8910, val_acc:0.8789\n",
      "\t\ttrain_roc: 0.9510, val_roc: 0.9434, train_auprc: 0.9394, val_auprc: 0.9325\n"
     ]
    },
    {
     "name": "stderr",
     "output_type": "stream",
     "text": [
      "/home/namle/.local/lib/python3.10/site-packages/torch_geometric/warnings.py:11: UserWarning: The usage of `scatter(reduce='max')` can be accelerated via the 'torch-scatter' package, but it was not found\n",
      "  warnings.warn(message)\n"
     ]
    },
    {
     "name": "stdout",
     "output_type": "stream",
     "text": [
      "Saving model acc\n",
      "Epoch: 55 (66.0931s), train_loss: 0.2727, val_loss: 0.2960, train_acc: 0.8917, val_acc:0.8828\n",
      "\t\ttrain_roc: 0.9519, val_roc: 0.9447, train_auprc: 0.9400, val_auprc: 0.9339\n"
     ]
    },
    {
     "name": "stderr",
     "output_type": "stream",
     "text": [
      "/home/namle/.local/lib/python3.10/site-packages/torch_geometric/warnings.py:11: UserWarning: The usage of `scatter(reduce='max')` can be accelerated via the 'torch-scatter' package, but it was not found\n",
      "  warnings.warn(message)\n"
     ]
    },
    {
     "name": "stdout",
     "output_type": "stream",
     "text": [
      "Saving model prc\n",
      "Saving model acc\n",
      "Saving model roc\n",
      "Epoch: 56 (65.9460s), train_loss: 0.2689, val_loss: 0.2907, train_acc: 0.8945, val_acc:0.8830\n",
      "\t\ttrain_roc: 0.9527, val_roc: 0.9470, train_auprc: 0.9413, val_auprc: 0.9368\n"
     ]
    },
    {
     "name": "stderr",
     "output_type": "stream",
     "text": [
      "/home/namle/.local/lib/python3.10/site-packages/torch_geometric/warnings.py:11: UserWarning: The usage of `scatter(reduce='max')` can be accelerated via the 'torch-scatter' package, but it was not found\n",
      "  warnings.warn(message)\n"
     ]
    },
    {
     "name": "stdout",
     "output_type": "stream",
     "text": [
      "Saving model prc\n",
      "Saving model acc\n",
      "Saving model roc\n",
      "Epoch: 57 (66.0139s), train_loss: 0.2657, val_loss: 0.2899, train_acc: 0.8946, val_acc:0.8837\n",
      "\t\ttrain_roc: 0.9539, val_roc: 0.9474, train_auprc: 0.9428, val_auprc: 0.9378\n"
     ]
    },
    {
     "name": "stderr",
     "output_type": "stream",
     "text": [
      "/home/namle/.local/lib/python3.10/site-packages/torch_geometric/warnings.py:11: UserWarning: The usage of `scatter(reduce='max')` can be accelerated via the 'torch-scatter' package, but it was not found\n",
      "  warnings.warn(message)\n"
     ]
    },
    {
     "name": "stdout",
     "output_type": "stream",
     "text": [
      "Saving model acc\n",
      "Saving model roc\n",
      "Epoch: 58 (65.9779s), train_loss: 0.2646, val_loss: 0.2907, train_acc: 0.8954, val_acc:0.8842\n",
      "\t\ttrain_roc: 0.9543, val_roc: 0.9475, train_auprc: 0.9433, val_auprc: 0.9372\n"
     ]
    },
    {
     "name": "stderr",
     "output_type": "stream",
     "text": [
      "/home/namle/.local/lib/python3.10/site-packages/torch_geometric/warnings.py:11: UserWarning: The usage of `scatter(reduce='max')` can be accelerated via the 'torch-scatter' package, but it was not found\n",
      "  warnings.warn(message)\n"
     ]
    },
    {
     "name": "stdout",
     "output_type": "stream",
     "text": [
      "Epoch: 59 (66.1151s), train_loss: 0.2635, val_loss: 0.2913, train_acc: 0.8964, val_acc:0.8831\n",
      "\t\ttrain_roc: 0.9545, val_roc: 0.9465, train_auprc: 0.9435, val_auprc: 0.9362\n"
     ]
    },
    {
     "name": "stderr",
     "output_type": "stream",
     "text": [
      "/home/namle/.local/lib/python3.10/site-packages/torch_geometric/warnings.py:11: UserWarning: The usage of `scatter(reduce='max')` can be accelerated via the 'torch-scatter' package, but it was not found\n",
      "  warnings.warn(message)\n"
     ]
    },
    {
     "name": "stdout",
     "output_type": "stream",
     "text": [
      "Saving model acc\n",
      "Epoch: 60 (65.9712s), train_loss: 0.2573, val_loss: 0.2928, train_acc: 0.8990, val_acc:0.8843\n",
      "\t\ttrain_roc: 0.9567, val_roc: 0.9468, train_auprc: 0.9464, val_auprc: 0.9358\n"
     ]
    },
    {
     "name": "stderr",
     "output_type": "stream",
     "text": [
      "/home/namle/.local/lib/python3.10/site-packages/torch_geometric/warnings.py:11: UserWarning: The usage of `scatter(reduce='max')` can be accelerated via the 'torch-scatter' package, but it was not found\n",
      "  warnings.warn(message)\n"
     ]
    },
    {
     "name": "stdout",
     "output_type": "stream",
     "text": [
      "Epoch: 61 (65.9615s), train_loss: 0.2601, val_loss: 0.2939, train_acc: 0.8980, val_acc:0.8813\n",
      "\t\ttrain_roc: 0.9557, val_roc: 0.9464, train_auprc: 0.9445, val_auprc: 0.9362\n"
     ]
    },
    {
     "name": "stderr",
     "output_type": "stream",
     "text": [
      "/home/namle/.local/lib/python3.10/site-packages/torch_geometric/warnings.py:11: UserWarning: The usage of `scatter(reduce='max')` can be accelerated via the 'torch-scatter' package, but it was not found\n",
      "  warnings.warn(message)\n"
     ]
    },
    {
     "name": "stdout",
     "output_type": "stream",
     "text": [
      "Saving model prc\n",
      "Saving model acc\n",
      "Saving model roc\n",
      "Epoch: 62 (65.8790s), train_loss: 0.2564, val_loss: 0.2853, train_acc: 0.8999, val_acc:0.8871\n",
      "\t\ttrain_roc: 0.9568, val_roc: 0.9490, train_auprc: 0.9461, val_auprc: 0.9395\n"
     ]
    },
    {
     "name": "stderr",
     "output_type": "stream",
     "text": [
      "/home/namle/.local/lib/python3.10/site-packages/torch_geometric/warnings.py:11: UserWarning: The usage of `scatter(reduce='max')` can be accelerated via the 'torch-scatter' package, but it was not found\n",
      "  warnings.warn(message)\n"
     ]
    },
    {
     "name": "stdout",
     "output_type": "stream",
     "text": [
      "Saving model prc\n",
      "Saving model acc\n",
      "Saving model roc\n",
      "Epoch: 63 (65.9258s), train_loss: 0.2528, val_loss: 0.2818, train_acc: 0.9016, val_acc:0.8884\n",
      "\t\ttrain_roc: 0.9579, val_roc: 0.9505, train_auprc: 0.9477, val_auprc: 0.9417\n"
     ]
    },
    {
     "name": "stderr",
     "output_type": "stream",
     "text": [
      "/home/namle/.local/lib/python3.10/site-packages/torch_geometric/warnings.py:11: UserWarning: The usage of `scatter(reduce='max')` can be accelerated via the 'torch-scatter' package, but it was not found\n",
      "  warnings.warn(message)\n"
     ]
    },
    {
     "name": "stdout",
     "output_type": "stream",
     "text": [
      "Saving model prc\n",
      "Saving model acc\n",
      "Saving model roc\n",
      "Epoch: 64 (65.8855s), train_loss: 0.2525, val_loss: 0.2793, train_acc: 0.9010, val_acc:0.8898\n",
      "\t\ttrain_roc: 0.9578, val_roc: 0.9514, train_auprc: 0.9475, val_auprc: 0.9429\n"
     ]
    },
    {
     "name": "stderr",
     "output_type": "stream",
     "text": [
      "/home/namle/.local/lib/python3.10/site-packages/torch_geometric/warnings.py:11: UserWarning: The usage of `scatter(reduce='max')` can be accelerated via the 'torch-scatter' package, but it was not found\n",
      "  warnings.warn(message)\n"
     ]
    },
    {
     "name": "stdout",
     "output_type": "stream",
     "text": [
      "Epoch: 65 (65.9430s), train_loss: 0.2507, val_loss: 0.2836, train_acc: 0.9020, val_acc:0.8877\n",
      "\t\ttrain_roc: 0.9584, val_roc: 0.9501, train_auprc: 0.9482, val_auprc: 0.9409\n"
     ]
    },
    {
     "name": "stderr",
     "output_type": "stream",
     "text": [
      "/home/namle/.local/lib/python3.10/site-packages/torch_geometric/warnings.py:11: UserWarning: The usage of `scatter(reduce='max')` can be accelerated via the 'torch-scatter' package, but it was not found\n",
      "  warnings.warn(message)\n"
     ]
    },
    {
     "name": "stdout",
     "output_type": "stream",
     "text": [
      "Saving model acc\n",
      "Epoch: 66 (66.0909s), train_loss: 0.2483, val_loss: 0.2803, train_acc: 0.9034, val_acc:0.8901\n",
      "\t\ttrain_roc: 0.9596, val_roc: 0.9505, train_auprc: 0.9495, val_auprc: 0.9402\n"
     ]
    },
    {
     "name": "stderr",
     "output_type": "stream",
     "text": [
      "/home/namle/.local/lib/python3.10/site-packages/torch_geometric/warnings.py:11: UserWarning: The usage of `scatter(reduce='max')` can be accelerated via the 'torch-scatter' package, but it was not found\n",
      "  warnings.warn(message)\n"
     ]
    },
    {
     "name": "stdout",
     "output_type": "stream",
     "text": [
      "Saving model acc\n",
      "Saving model roc\n",
      "Epoch: 67 (65.8622s), train_loss: 0.2456, val_loss: 0.2774, train_acc: 0.9042, val_acc:0.8918\n",
      "\t\ttrain_roc: 0.9600, val_roc: 0.9517, train_auprc: 0.9503, val_auprc: 0.9427\n"
     ]
    },
    {
     "name": "stderr",
     "output_type": "stream",
     "text": [
      "/home/namle/.local/lib/python3.10/site-packages/torch_geometric/warnings.py:11: UserWarning: The usage of `scatter(reduce='max')` can be accelerated via the 'torch-scatter' package, but it was not found\n",
      "  warnings.warn(message)\n"
     ]
    },
    {
     "name": "stdout",
     "output_type": "stream",
     "text": [
      "Epoch: 68 (66.4779s), train_loss: 0.2441, val_loss: 0.2853, train_acc: 0.9047, val_acc:0.8870\n",
      "\t\ttrain_roc: 0.9605, val_roc: 0.9502, train_auprc: 0.9509, val_auprc: 0.9400\n"
     ]
    },
    {
     "name": "stderr",
     "output_type": "stream",
     "text": [
      "/home/namle/.local/lib/python3.10/site-packages/torch_geometric/warnings.py:11: UserWarning: The usage of `scatter(reduce='max')` can be accelerated via the 'torch-scatter' package, but it was not found\n",
      "  warnings.warn(message)\n"
     ]
    },
    {
     "name": "stdout",
     "output_type": "stream",
     "text": [
      "Epoch: 69 (66.0853s), train_loss: 0.2431, val_loss: 0.2784, train_acc: 0.9061, val_acc:0.8907\n",
      "\t\ttrain_roc: 0.9607, val_roc: 0.9516, train_auprc: 0.9508, val_auprc: 0.9425\n"
     ]
    },
    {
     "name": "stderr",
     "output_type": "stream",
     "text": [
      "/home/namle/.local/lib/python3.10/site-packages/torch_geometric/warnings.py:11: UserWarning: The usage of `scatter(reduce='max')` can be accelerated via the 'torch-scatter' package, but it was not found\n",
      "  warnings.warn(message)\n"
     ]
    },
    {
     "name": "stdout",
     "output_type": "stream",
     "text": [
      "Epoch: 70 (66.0039s), train_loss: 0.2430, val_loss: 0.2808, train_acc: 0.9056, val_acc:0.8906\n",
      "\t\ttrain_roc: 0.9608, val_roc: 0.9515, train_auprc: 0.9510, val_auprc: 0.9419\n"
     ]
    },
    {
     "name": "stderr",
     "output_type": "stream",
     "text": [
      "/home/namle/.local/lib/python3.10/site-packages/torch_geometric/warnings.py:11: UserWarning: The usage of `scatter(reduce='max')` can be accelerated via the 'torch-scatter' package, but it was not found\n",
      "  warnings.warn(message)\n"
     ]
    },
    {
     "name": "stdout",
     "output_type": "stream",
     "text": [
      "Saving model prc\n",
      "Saving model acc\n",
      "Saving model roc\n",
      "Epoch: 71 (65.9191s), train_loss: 0.2415, val_loss: 0.2773, train_acc: 0.9062, val_acc:0.8922\n",
      "\t\ttrain_roc: 0.9610, val_roc: 0.9520, train_auprc: 0.9511, val_auprc: 0.9431\n"
     ]
    },
    {
     "name": "stderr",
     "output_type": "stream",
     "text": [
      "/home/namle/.local/lib/python3.10/site-packages/torch_geometric/warnings.py:11: UserWarning: The usage of `scatter(reduce='max')` can be accelerated via the 'torch-scatter' package, but it was not found\n",
      "  warnings.warn(message)\n"
     ]
    },
    {
     "name": "stdout",
     "output_type": "stream",
     "text": [
      "Saving model prc\n",
      "Saving model acc\n",
      "Saving model roc\n",
      "Epoch: 72 (66.1911s), train_loss: 0.2394, val_loss: 0.2768, train_acc: 0.9074, val_acc:0.8928\n",
      "\t\ttrain_roc: 0.9618, val_roc: 0.9524, train_auprc: 0.9524, val_auprc: 0.9433\n"
     ]
    },
    {
     "name": "stderr",
     "output_type": "stream",
     "text": [
      "/home/namle/.local/lib/python3.10/site-packages/torch_geometric/warnings.py:11: UserWarning: The usage of `scatter(reduce='max')` can be accelerated via the 'torch-scatter' package, but it was not found\n",
      "  warnings.warn(message)\n"
     ]
    },
    {
     "name": "stdout",
     "output_type": "stream",
     "text": [
      "Saving model prc\n",
      "Saving model acc\n",
      "Saving model roc\n",
      "Epoch: 73 (66.1968s), train_loss: 0.2370, val_loss: 0.2746, train_acc: 0.9086, val_acc:0.8951\n",
      "\t\ttrain_roc: 0.9624, val_roc: 0.9536, train_auprc: 0.9525, val_auprc: 0.9446\n"
     ]
    },
    {
     "name": "stderr",
     "output_type": "stream",
     "text": [
      "/home/namle/.local/lib/python3.10/site-packages/torch_geometric/warnings.py:11: UserWarning: The usage of `scatter(reduce='max')` can be accelerated via the 'torch-scatter' package, but it was not found\n",
      "  warnings.warn(message)\n"
     ]
    },
    {
     "name": "stdout",
     "output_type": "stream",
     "text": [
      "Epoch: 74 (66.0251s), train_loss: 0.2359, val_loss: 0.2801, train_acc: 0.9100, val_acc:0.8924\n",
      "\t\ttrain_roc: 0.9628, val_roc: 0.9515, train_auprc: 0.9531, val_auprc: 0.9415\n"
     ]
    },
    {
     "name": "stderr",
     "output_type": "stream",
     "text": [
      "/home/namle/.local/lib/python3.10/site-packages/torch_geometric/warnings.py:11: UserWarning: The usage of `scatter(reduce='max')` can be accelerated via the 'torch-scatter' package, but it was not found\n",
      "  warnings.warn(message)\n"
     ]
    },
    {
     "name": "stdout",
     "output_type": "stream",
     "text": [
      "Epoch: 75 (65.9609s), train_loss: 0.2359, val_loss: 0.2773, train_acc: 0.9088, val_acc:0.8923\n",
      "\t\ttrain_roc: 0.9628, val_roc: 0.9527, train_auprc: 0.9533, val_auprc: 0.9432\n"
     ]
    },
    {
     "name": "stderr",
     "output_type": "stream",
     "text": [
      "/home/namle/.local/lib/python3.10/site-packages/torch_geometric/warnings.py:11: UserWarning: The usage of `scatter(reduce='max')` can be accelerated via the 'torch-scatter' package, but it was not found\n",
      "  warnings.warn(message)\n"
     ]
    },
    {
     "name": "stdout",
     "output_type": "stream",
     "text": [
      "Saving model prc\n",
      "Saving model acc\n",
      "Saving model roc\n",
      "Epoch: 76 (65.9052s), train_loss: 0.2365, val_loss: 0.2697, train_acc: 0.9089, val_acc:0.8956\n",
      "\t\ttrain_roc: 0.9625, val_roc: 0.9550, train_auprc: 0.9529, val_auprc: 0.9477\n"
     ]
    },
    {
     "name": "stderr",
     "output_type": "stream",
     "text": [
      "/home/namle/.local/lib/python3.10/site-packages/torch_geometric/warnings.py:11: UserWarning: The usage of `scatter(reduce='max')` can be accelerated via the 'torch-scatter' package, but it was not found\n",
      "  warnings.warn(message)\n"
     ]
    },
    {
     "name": "stdout",
     "output_type": "stream",
     "text": [
      "Epoch: 77 (65.9762s), train_loss: 0.2342, val_loss: 0.2761, train_acc: 0.9099, val_acc:0.8932\n",
      "\t\ttrain_roc: 0.9633, val_roc: 0.9536, train_auprc: 0.9538, val_auprc: 0.9448\n"
     ]
    },
    {
     "name": "stderr",
     "output_type": "stream",
     "text": [
      "/home/namle/.local/lib/python3.10/site-packages/torch_geometric/warnings.py:11: UserWarning: The usage of `scatter(reduce='max')` can be accelerated via the 'torch-scatter' package, but it was not found\n",
      "  warnings.warn(message)\n"
     ]
    },
    {
     "name": "stdout",
     "output_type": "stream",
     "text": [
      "Epoch: 78 (65.8996s), train_loss: 0.2294, val_loss: 0.2744, train_acc: 0.9121, val_acc:0.8939\n",
      "\t\ttrain_roc: 0.9647, val_roc: 0.9534, train_auprc: 0.9555, val_auprc: 0.9450\n"
     ]
    },
    {
     "name": "stderr",
     "output_type": "stream",
     "text": [
      "/home/namle/.local/lib/python3.10/site-packages/torch_geometric/warnings.py:11: UserWarning: The usage of `scatter(reduce='max')` can be accelerated via the 'torch-scatter' package, but it was not found\n",
      "  warnings.warn(message)\n"
     ]
    },
    {
     "name": "stdout",
     "output_type": "stream",
     "text": [
      "Epoch: 79 (65.9091s), train_loss: 0.2290, val_loss: 0.2728, train_acc: 0.9123, val_acc:0.8951\n",
      "\t\ttrain_roc: 0.9648, val_roc: 0.9546, train_auprc: 0.9558, val_auprc: 0.9466\n"
     ]
    },
    {
     "name": "stderr",
     "output_type": "stream",
     "text": [
      "/home/namle/.local/lib/python3.10/site-packages/torch_geometric/warnings.py:11: UserWarning: The usage of `scatter(reduce='max')` can be accelerated via the 'torch-scatter' package, but it was not found\n",
      "  warnings.warn(message)\n"
     ]
    },
    {
     "name": "stdout",
     "output_type": "stream",
     "text": [
      "Epoch: 80 (65.8364s), train_loss: 0.2299, val_loss: 0.2721, train_acc: 0.9123, val_acc:0.8951\n",
      "\t\ttrain_roc: 0.9643, val_roc: 0.9545, train_auprc: 0.9548, val_auprc: 0.9459\n"
     ]
    },
    {
     "name": "stderr",
     "output_type": "stream",
     "text": [
      "/home/namle/.local/lib/python3.10/site-packages/torch_geometric/warnings.py:11: UserWarning: The usage of `scatter(reduce='max')` can be accelerated via the 'torch-scatter' package, but it was not found\n",
      "  warnings.warn(message)\n"
     ]
    },
    {
     "name": "stdout",
     "output_type": "stream",
     "text": [
      "Saving model acc\n",
      "Saving model roc\n",
      "Epoch: 81 (66.0154s), train_loss: 0.2276, val_loss: 0.2686, train_acc: 0.9125, val_acc:0.8963\n",
      "\t\ttrain_roc: 0.9650, val_roc: 0.9553, train_auprc: 0.9561, val_auprc: 0.9471\n"
     ]
    },
    {
     "name": "stderr",
     "output_type": "stream",
     "text": [
      "/home/namle/.local/lib/python3.10/site-packages/torch_geometric/warnings.py:11: UserWarning: The usage of `scatter(reduce='max')` can be accelerated via the 'torch-scatter' package, but it was not found\n",
      "  warnings.warn(message)\n"
     ]
    },
    {
     "name": "stdout",
     "output_type": "stream",
     "text": [
      "Saving model prc\n",
      "Saving model acc\n",
      "Saving model roc\n",
      "Epoch: 82 (66.2731s), train_loss: 0.2274, val_loss: 0.2675, train_acc: 0.9132, val_acc:0.8973\n",
      "\t\ttrain_roc: 0.9651, val_roc: 0.9559, train_auprc: 0.9559, val_auprc: 0.9483\n"
     ]
    },
    {
     "name": "stderr",
     "output_type": "stream",
     "text": [
      "/home/namle/.local/lib/python3.10/site-packages/torch_geometric/warnings.py:11: UserWarning: The usage of `scatter(reduce='max')` can be accelerated via the 'torch-scatter' package, but it was not found\n",
      "  warnings.warn(message)\n"
     ]
    },
    {
     "name": "stdout",
     "output_type": "stream",
     "text": [
      "Epoch: 83 (65.9026s), train_loss: 0.2265, val_loss: 0.2704, train_acc: 0.9138, val_acc:0.8965\n",
      "\t\ttrain_roc: 0.9652, val_roc: 0.9552, train_auprc: 0.9560, val_auprc: 0.9470\n"
     ]
    },
    {
     "name": "stderr",
     "output_type": "stream",
     "text": [
      "/home/namle/.local/lib/python3.10/site-packages/torch_geometric/warnings.py:11: UserWarning: The usage of `scatter(reduce='max')` can be accelerated via the 'torch-scatter' package, but it was not found\n",
      "  warnings.warn(message)\n"
     ]
    },
    {
     "name": "stdout",
     "output_type": "stream",
     "text": [
      "Epoch: 84 (65.7823s), train_loss: 0.2236, val_loss: 0.2706, train_acc: 0.9147, val_acc:0.8960\n",
      "\t\ttrain_roc: 0.9661, val_roc: 0.9556, train_auprc: 0.9575, val_auprc: 0.9474\n"
     ]
    },
    {
     "name": "stderr",
     "output_type": "stream",
     "text": [
      "/home/namle/.local/lib/python3.10/site-packages/torch_geometric/warnings.py:11: UserWarning: The usage of `scatter(reduce='max')` can be accelerated via the 'torch-scatter' package, but it was not found\n",
      "  warnings.warn(message)\n"
     ]
    },
    {
     "name": "stdout",
     "output_type": "stream",
     "text": [
      "Saving model prc\n",
      "Saving model roc\n",
      "Epoch: 85 (65.9994s), train_loss: 0.2248, val_loss: 0.2683, train_acc: 0.9142, val_acc:0.8968\n",
      "\t\ttrain_roc: 0.9656, val_roc: 0.9560, train_auprc: 0.9568, val_auprc: 0.9483\n"
     ]
    },
    {
     "name": "stderr",
     "output_type": "stream",
     "text": [
      "/home/namle/.local/lib/python3.10/site-packages/torch_geometric/warnings.py:11: UserWarning: The usage of `scatter(reduce='max')` can be accelerated via the 'torch-scatter' package, but it was not found\n",
      "  warnings.warn(message)\n"
     ]
    },
    {
     "name": "stdout",
     "output_type": "stream",
     "text": [
      "Saving model prc\n",
      "Saving model acc\n",
      "Saving model roc\n",
      "Epoch: 86 (65.9110s), train_loss: 0.2230, val_loss: 0.2655, train_acc: 0.9145, val_acc:0.8991\n",
      "\t\ttrain_roc: 0.9661, val_roc: 0.9566, train_auprc: 0.9576, val_auprc: 0.9487\n"
     ]
    },
    {
     "name": "stderr",
     "output_type": "stream",
     "text": [
      "/home/namle/.local/lib/python3.10/site-packages/torch_geometric/warnings.py:11: UserWarning: The usage of `scatter(reduce='max')` can be accelerated via the 'torch-scatter' package, but it was not found\n",
      "  warnings.warn(message)\n"
     ]
    },
    {
     "name": "stdout",
     "output_type": "stream",
     "text": [
      "Saving model prc\n",
      "Saving model roc\n",
      "Epoch: 87 (66.2215s), train_loss: 0.2215, val_loss: 0.2669, train_acc: 0.9152, val_acc:0.8980\n",
      "\t\ttrain_roc: 0.9666, val_roc: 0.9568, train_auprc: 0.9583, val_auprc: 0.9491\n"
     ]
    },
    {
     "name": "stderr",
     "output_type": "stream",
     "text": [
      "/home/namle/.local/lib/python3.10/site-packages/torch_geometric/warnings.py:11: UserWarning: The usage of `scatter(reduce='max')` can be accelerated via the 'torch-scatter' package, but it was not found\n",
      "  warnings.warn(message)\n"
     ]
    },
    {
     "name": "stdout",
     "output_type": "stream",
     "text": [
      "Epoch: 88 (65.8137s), train_loss: 0.2239, val_loss: 0.2688, train_acc: 0.9149, val_acc:0.8965\n",
      "\t\ttrain_roc: 0.9657, val_roc: 0.9555, train_auprc: 0.9565, val_auprc: 0.9471\n"
     ]
    },
    {
     "name": "stderr",
     "output_type": "stream",
     "text": [
      "/home/namle/.local/lib/python3.10/site-packages/torch_geometric/warnings.py:11: UserWarning: The usage of `scatter(reduce='max')` can be accelerated via the 'torch-scatter' package, but it was not found\n",
      "  warnings.warn(message)\n"
     ]
    },
    {
     "name": "stdout",
     "output_type": "stream",
     "text": [
      "Saving model acc\n",
      "Saving model roc\n",
      "Epoch: 89 (66.1067s), train_loss: 0.2190, val_loss: 0.2645, train_acc: 0.9165, val_acc:0.8994\n",
      "\t\ttrain_roc: 0.9673, val_roc: 0.9569, train_auprc: 0.9591, val_auprc: 0.9489\n"
     ]
    },
    {
     "name": "stderr",
     "output_type": "stream",
     "text": [
      "/home/namle/.local/lib/python3.10/site-packages/torch_geometric/warnings.py:11: UserWarning: The usage of `scatter(reduce='max')` can be accelerated via the 'torch-scatter' package, but it was not found\n",
      "  warnings.warn(message)\n"
     ]
    },
    {
     "name": "stdout",
     "output_type": "stream",
     "text": [
      "Saving model prc\n",
      "Saving model acc\n",
      "Saving model roc\n",
      "Epoch: 90 (66.0964s), train_loss: 0.2197, val_loss: 0.2630, train_acc: 0.9161, val_acc:0.9002\n",
      "\t\ttrain_roc: 0.9669, val_roc: 0.9577, train_auprc: 0.9586, val_auprc: 0.9503\n"
     ]
    },
    {
     "name": "stderr",
     "output_type": "stream",
     "text": [
      "/home/namle/.local/lib/python3.10/site-packages/torch_geometric/warnings.py:11: UserWarning: The usage of `scatter(reduce='max')` can be accelerated via the 'torch-scatter' package, but it was not found\n",
      "  warnings.warn(message)\n"
     ]
    },
    {
     "name": "stdout",
     "output_type": "stream",
     "text": [
      "Epoch: 91 (66.0160s), train_loss: 0.2196, val_loss: 0.2646, train_acc: 0.9164, val_acc:0.8997\n",
      "\t\ttrain_roc: 0.9669, val_roc: 0.9576, train_auprc: 0.9583, val_auprc: 0.9498\n"
     ]
    },
    {
     "name": "stderr",
     "output_type": "stream",
     "text": [
      "/home/namle/.local/lib/python3.10/site-packages/torch_geometric/warnings.py:11: UserWarning: The usage of `scatter(reduce='max')` can be accelerated via the 'torch-scatter' package, but it was not found\n",
      "  warnings.warn(message)\n"
     ]
    },
    {
     "name": "stdout",
     "output_type": "stream",
     "text": [
      "Saving model acc\n",
      "Saving model roc\n",
      "Epoch: 92 (66.0263s), train_loss: 0.2199, val_loss: 0.2643, train_acc: 0.9159, val_acc:0.9007\n",
      "\t\ttrain_roc: 0.9670, val_roc: 0.9579, train_auprc: 0.9583, val_auprc: 0.9500\n"
     ]
    },
    {
     "name": "stderr",
     "output_type": "stream",
     "text": [
      "/home/namle/.local/lib/python3.10/site-packages/torch_geometric/warnings.py:11: UserWarning: The usage of `scatter(reduce='max')` can be accelerated via the 'torch-scatter' package, but it was not found\n",
      "  warnings.warn(message)\n"
     ]
    },
    {
     "name": "stdout",
     "output_type": "stream",
     "text": [
      "Epoch: 93 (65.9615s), train_loss: 0.2167, val_loss: 0.2671, train_acc: 0.9175, val_acc:0.8985\n",
      "\t\ttrain_roc: 0.9679, val_roc: 0.9571, train_auprc: 0.9596, val_auprc: 0.9493\n"
     ]
    },
    {
     "name": "stderr",
     "output_type": "stream",
     "text": [
      "/home/namle/.local/lib/python3.10/site-packages/torch_geometric/warnings.py:11: UserWarning: The usage of `scatter(reduce='max')` can be accelerated via the 'torch-scatter' package, but it was not found\n",
      "  warnings.warn(message)\n"
     ]
    },
    {
     "name": "stdout",
     "output_type": "stream",
     "text": [
      "Epoch: 94 (66.1363s), train_loss: 0.2163, val_loss: 0.2660, train_acc: 0.9178, val_acc:0.9002\n",
      "\t\ttrain_roc: 0.9679, val_roc: 0.9571, train_auprc: 0.9596, val_auprc: 0.9494\n"
     ]
    },
    {
     "name": "stderr",
     "output_type": "stream",
     "text": [
      "/home/namle/.local/lib/python3.10/site-packages/torch_geometric/warnings.py:11: UserWarning: The usage of `scatter(reduce='max')` can be accelerated via the 'torch-scatter' package, but it was not found\n",
      "  warnings.warn(message)\n"
     ]
    },
    {
     "name": "stdout",
     "output_type": "stream",
     "text": [
      "Saving model prc\n",
      "Saving model roc\n",
      "Epoch: 95 (66.0293s), train_loss: 0.2164, val_loss: 0.2657, train_acc: 0.9182, val_acc:0.8997\n",
      "\t\ttrain_roc: 0.9679, val_roc: 0.9579, train_auprc: 0.9595, val_auprc: 0.9507\n"
     ]
    },
    {
     "name": "stderr",
     "output_type": "stream",
     "text": [
      "/home/namle/.local/lib/python3.10/site-packages/torch_geometric/warnings.py:11: UserWarning: The usage of `scatter(reduce='max')` can be accelerated via the 'torch-scatter' package, but it was not found\n",
      "  warnings.warn(message)\n"
     ]
    },
    {
     "name": "stdout",
     "output_type": "stream",
     "text": [
      "Epoch: 96 (65.9763s), train_loss: 0.2143, val_loss: 0.2671, train_acc: 0.9187, val_acc:0.8992\n",
      "\t\ttrain_roc: 0.9686, val_roc: 0.9567, train_auprc: 0.9605, val_auprc: 0.9484\n"
     ]
    },
    {
     "name": "stderr",
     "output_type": "stream",
     "text": [
      "/home/namle/.local/lib/python3.10/site-packages/torch_geometric/warnings.py:11: UserWarning: The usage of `scatter(reduce='max')` can be accelerated via the 'torch-scatter' package, but it was not found\n",
      "  warnings.warn(message)\n"
     ]
    },
    {
     "name": "stdout",
     "output_type": "stream",
     "text": [
      "Saving model acc\n",
      "Saving model roc\n",
      "Epoch: 97 (65.9679s), train_loss: 0.2147, val_loss: 0.2623, train_acc: 0.9190, val_acc:0.9009\n",
      "\t\ttrain_roc: 0.9684, val_roc: 0.9582, train_auprc: 0.9597, val_auprc: 0.9502\n"
     ]
    },
    {
     "name": "stderr",
     "output_type": "stream",
     "text": [
      "/home/namle/.local/lib/python3.10/site-packages/torch_geometric/warnings.py:11: UserWarning: The usage of `scatter(reduce='max')` can be accelerated via the 'torch-scatter' package, but it was not found\n",
      "  warnings.warn(message)\n"
     ]
    },
    {
     "name": "stdout",
     "output_type": "stream",
     "text": [
      "Saving model prc\n",
      "Saving model acc\n",
      "Saving model roc\n",
      "Epoch: 98 (65.8499s), train_loss: 0.2144, val_loss: 0.2611, train_acc: 0.9188, val_acc:0.9014\n",
      "\t\ttrain_roc: 0.9684, val_roc: 0.9584, train_auprc: 0.9601, val_auprc: 0.9513\n"
     ]
    },
    {
     "name": "stderr",
     "output_type": "stream",
     "text": [
      "/home/namle/.local/lib/python3.10/site-packages/torch_geometric/warnings.py:11: UserWarning: The usage of `scatter(reduce='max')` can be accelerated via the 'torch-scatter' package, but it was not found\n",
      "  warnings.warn(message)\n"
     ]
    },
    {
     "name": "stdout",
     "output_type": "stream",
     "text": [
      "Epoch: 99 (66.0134s), train_loss: 0.2148, val_loss: 0.2646, train_acc: 0.9188, val_acc:0.8990\n",
      "\t\ttrain_roc: 0.9683, val_roc: 0.9578, train_auprc: 0.9597, val_auprc: 0.9503\n"
     ]
    },
    {
     "name": "stderr",
     "output_type": "stream",
     "text": [
      "/home/namle/.local/lib/python3.10/site-packages/torch_geometric/warnings.py:11: UserWarning: The usage of `scatter(reduce='max')` can be accelerated via the 'torch-scatter' package, but it was not found\n",
      "  warnings.warn(message)\n"
     ]
    },
    {
     "name": "stdout",
     "output_type": "stream",
     "text": [
      "Epoch: 100 (66.0017s), train_loss: 0.2123, val_loss: 0.2636, train_acc: 0.9191, val_acc:0.8998\n",
      "\t\ttrain_roc: 0.9690, val_roc: 0.9580, train_auprc: 0.9609, val_auprc: 0.9508\n"
     ]
    },
    {
     "name": "stderr",
     "output_type": "stream",
     "text": [
      "/home/namle/.local/lib/python3.10/site-packages/torch_geometric/warnings.py:11: UserWarning: The usage of `scatter(reduce='max')` can be accelerated via the 'torch-scatter' package, but it was not found\n",
      "  warnings.warn(message)\n"
     ]
    },
    {
     "name": "stdout",
     "output_type": "stream",
     "text": [
      "Saving model acc\n",
      "Epoch: 101 (65.9150s), train_loss: 0.2127, val_loss: 0.2632, train_acc: 0.9198, val_acc:0.9014\n",
      "\t\ttrain_roc: 0.9687, val_roc: 0.9582, train_auprc: 0.9607, val_auprc: 0.9502\n"
     ]
    },
    {
     "name": "stderr",
     "output_type": "stream",
     "text": [
      "/home/namle/.local/lib/python3.10/site-packages/torch_geometric/warnings.py:11: UserWarning: The usage of `scatter(reduce='max')` can be accelerated via the 'torch-scatter' package, but it was not found\n",
      "  warnings.warn(message)\n"
     ]
    },
    {
     "name": "stdout",
     "output_type": "stream",
     "text": [
      "Saving model prc\n",
      "Epoch: 102 (66.1908s), train_loss: 0.2119, val_loss: 0.2632, train_acc: 0.9198, val_acc:0.9008\n",
      "\t\ttrain_roc: 0.9688, val_roc: 0.9584, train_auprc: 0.9607, val_auprc: 0.9514\n"
     ]
    },
    {
     "name": "stderr",
     "output_type": "stream",
     "text": [
      "/home/namle/.local/lib/python3.10/site-packages/torch_geometric/warnings.py:11: UserWarning: The usage of `scatter(reduce='max')` can be accelerated via the 'torch-scatter' package, but it was not found\n",
      "  warnings.warn(message)\n"
     ]
    },
    {
     "name": "stdout",
     "output_type": "stream",
     "text": [
      "Epoch: 103 (65.7356s), train_loss: 0.2103, val_loss: 0.2632, train_acc: 0.9204, val_acc:0.9003\n",
      "\t\ttrain_roc: 0.9696, val_roc: 0.9584, train_auprc: 0.9615, val_auprc: 0.9512\n"
     ]
    },
    {
     "name": "stderr",
     "output_type": "stream",
     "text": [
      "/home/namle/.local/lib/python3.10/site-packages/torch_geometric/warnings.py:11: UserWarning: The usage of `scatter(reduce='max')` can be accelerated via the 'torch-scatter' package, but it was not found\n",
      "  warnings.warn(message)\n"
     ]
    },
    {
     "name": "stdout",
     "output_type": "stream",
     "text": [
      "Saving model roc\n",
      "Epoch: 104 (65.7519s), train_loss: 0.2101, val_loss: 0.2612, train_acc: 0.9205, val_acc:0.9012\n",
      "\t\ttrain_roc: 0.9696, val_roc: 0.9585, train_auprc: 0.9615, val_auprc: 0.9512\n"
     ]
    },
    {
     "name": "stderr",
     "output_type": "stream",
     "text": [
      "/home/namle/.local/lib/python3.10/site-packages/torch_geometric/warnings.py:11: UserWarning: The usage of `scatter(reduce='max')` can be accelerated via the 'torch-scatter' package, but it was not found\n",
      "  warnings.warn(message)\n"
     ]
    },
    {
     "name": "stdout",
     "output_type": "stream",
     "text": [
      "Saving model prc\n",
      "Saving model roc\n",
      "Epoch: 105 (65.8072s), train_loss: 0.2118, val_loss: 0.2624, train_acc: 0.9206, val_acc:0.9012\n",
      "\t\ttrain_roc: 0.9689, val_roc: 0.9586, train_auprc: 0.9603, val_auprc: 0.9516\n"
     ]
    },
    {
     "name": "stderr",
     "output_type": "stream",
     "text": [
      "/home/namle/.local/lib/python3.10/site-packages/torch_geometric/warnings.py:11: UserWarning: The usage of `scatter(reduce='max')` can be accelerated via the 'torch-scatter' package, but it was not found\n",
      "  warnings.warn(message)\n"
     ]
    },
    {
     "name": "stdout",
     "output_type": "stream",
     "text": [
      "Saving model prc\n",
      "Saving model acc\n",
      "Saving model roc\n",
      "Epoch: 106 (66.0185s), train_loss: 0.2083, val_loss: 0.2596, train_acc: 0.9216, val_acc:0.9024\n",
      "\t\ttrain_roc: 0.9700, val_roc: 0.9597, train_auprc: 0.9620, val_auprc: 0.9526\n"
     ]
    },
    {
     "name": "stderr",
     "output_type": "stream",
     "text": [
      "/home/namle/.local/lib/python3.10/site-packages/torch_geometric/warnings.py:11: UserWarning: The usage of `scatter(reduce='max')` can be accelerated via the 'torch-scatter' package, but it was not found\n",
      "  warnings.warn(message)\n"
     ]
    },
    {
     "name": "stdout",
     "output_type": "stream",
     "text": [
      "Epoch: 107 (65.7954s), train_loss: 0.2069, val_loss: 0.2633, train_acc: 0.9219, val_acc:0.9019\n",
      "\t\ttrain_roc: 0.9704, val_roc: 0.9588, train_auprc: 0.9628, val_auprc: 0.9516\n"
     ]
    },
    {
     "name": "stderr",
     "output_type": "stream",
     "text": [
      "/home/namle/.local/lib/python3.10/site-packages/torch_geometric/warnings.py:11: UserWarning: The usage of `scatter(reduce='max')` can be accelerated via the 'torch-scatter' package, but it was not found\n",
      "  warnings.warn(message)\n"
     ]
    },
    {
     "name": "stdout",
     "output_type": "stream",
     "text": [
      "Epoch: 108 (65.8955s), train_loss: 0.2099, val_loss: 0.2628, train_acc: 0.9202, val_acc:0.9019\n",
      "\t\ttrain_roc: 0.9695, val_roc: 0.9590, train_auprc: 0.9616, val_auprc: 0.9524\n"
     ]
    },
    {
     "name": "stderr",
     "output_type": "stream",
     "text": [
      "/home/namle/.local/lib/python3.10/site-packages/torch_geometric/warnings.py:11: UserWarning: The usage of `scatter(reduce='max')` can be accelerated via the 'torch-scatter' package, but it was not found\n",
      "  warnings.warn(message)\n"
     ]
    },
    {
     "name": "stdout",
     "output_type": "stream",
     "text": [
      "Epoch: 109 (65.9428s), train_loss: 0.2102, val_loss: 0.2626, train_acc: 0.9205, val_acc:0.9015\n",
      "\t\ttrain_roc: 0.9694, val_roc: 0.9587, train_auprc: 0.9611, val_auprc: 0.9514\n"
     ]
    },
    {
     "name": "stderr",
     "output_type": "stream",
     "text": [
      "/home/namle/.local/lib/python3.10/site-packages/torch_geometric/warnings.py:11: UserWarning: The usage of `scatter(reduce='max')` can be accelerated via the 'torch-scatter' package, but it was not found\n",
      "  warnings.warn(message)\n"
     ]
    },
    {
     "name": "stdout",
     "output_type": "stream",
     "text": [
      "Epoch: 110 (65.8559s), train_loss: 0.2077, val_loss: 0.2642, train_acc: 0.9212, val_acc:0.9003\n",
      "\t\ttrain_roc: 0.9700, val_roc: 0.9585, train_auprc: 0.9620, val_auprc: 0.9515\n"
     ]
    },
    {
     "name": "stderr",
     "output_type": "stream",
     "text": [
      "/home/namle/.local/lib/python3.10/site-packages/torch_geometric/warnings.py:11: UserWarning: The usage of `scatter(reduce='max')` can be accelerated via the 'torch-scatter' package, but it was not found\n",
      "  warnings.warn(message)\n"
     ]
    },
    {
     "name": "stdout",
     "output_type": "stream",
     "text": [
      "Epoch: 111 (65.8256s), train_loss: 0.2096, val_loss: 0.2621, train_acc: 0.9213, val_acc:0.9016\n",
      "\t\ttrain_roc: 0.9694, val_roc: 0.9591, train_auprc: 0.9610, val_auprc: 0.9523\n"
     ]
    },
    {
     "name": "stderr",
     "output_type": "stream",
     "text": [
      "/home/namle/.local/lib/python3.10/site-packages/torch_geometric/warnings.py:11: UserWarning: The usage of `scatter(reduce='max')` can be accelerated via the 'torch-scatter' package, but it was not found\n",
      "  warnings.warn(message)\n"
     ]
    },
    {
     "name": "stdout",
     "output_type": "stream",
     "text": [
      "Saving model prc\n",
      "Saving model roc\n",
      "Epoch: 112 (65.7849s), train_loss: 0.2074, val_loss: 0.2605, train_acc: 0.9219, val_acc:0.9024\n",
      "\t\ttrain_roc: 0.9701, val_roc: 0.9599, train_auprc: 0.9623, val_auprc: 0.9530\n"
     ]
    },
    {
     "name": "stderr",
     "output_type": "stream",
     "text": [
      "/home/namle/.local/lib/python3.10/site-packages/torch_geometric/warnings.py:11: UserWarning: The usage of `scatter(reduce='max')` can be accelerated via the 'torch-scatter' package, but it was not found\n",
      "  warnings.warn(message)\n"
     ]
    },
    {
     "name": "stdout",
     "output_type": "stream",
     "text": [
      "Saving model prc\n",
      "Saving model acc\n",
      "Saving model roc\n",
      "Epoch: 113 (65.8511s), train_loss: 0.2069, val_loss: 0.2581, train_acc: 0.9218, val_acc:0.9037\n",
      "\t\ttrain_roc: 0.9702, val_roc: 0.9602, train_auprc: 0.9623, val_auprc: 0.9534\n"
     ]
    },
    {
     "name": "stderr",
     "output_type": "stream",
     "text": [
      "/home/namle/.local/lib/python3.10/site-packages/torch_geometric/warnings.py:11: UserWarning: The usage of `scatter(reduce='max')` can be accelerated via the 'torch-scatter' package, but it was not found\n",
      "  warnings.warn(message)\n"
     ]
    },
    {
     "name": "stdout",
     "output_type": "stream",
     "text": [
      "Epoch: 114 (65.9053s), train_loss: 0.2059, val_loss: 0.2630, train_acc: 0.9228, val_acc:0.9019\n",
      "\t\ttrain_roc: 0.9706, val_roc: 0.9589, train_auprc: 0.9627, val_auprc: 0.9516\n"
     ]
    },
    {
     "name": "stderr",
     "output_type": "stream",
     "text": [
      "/home/namle/.local/lib/python3.10/site-packages/torch_geometric/warnings.py:11: UserWarning: The usage of `scatter(reduce='max')` can be accelerated via the 'torch-scatter' package, but it was not found\n",
      "  warnings.warn(message)\n"
     ]
    },
    {
     "name": "stdout",
     "output_type": "stream",
     "text": [
      "Epoch: 115 (65.8868s), train_loss: 0.2061, val_loss: 0.2591, train_acc: 0.9223, val_acc:0.9034\n",
      "\t\ttrain_roc: 0.9704, val_roc: 0.9599, train_auprc: 0.9626, val_auprc: 0.9529\n"
     ]
    },
    {
     "name": "stderr",
     "output_type": "stream",
     "text": [
      "/home/namle/.local/lib/python3.10/site-packages/torch_geometric/warnings.py:11: UserWarning: The usage of `scatter(reduce='max')` can be accelerated via the 'torch-scatter' package, but it was not found\n",
      "  warnings.warn(message)\n"
     ]
    },
    {
     "name": "stdout",
     "output_type": "stream",
     "text": [
      "Epoch: 116 (65.8640s), train_loss: 0.2061, val_loss: 0.2637, train_acc: 0.9226, val_acc:0.9019\n",
      "\t\ttrain_roc: 0.9704, val_roc: 0.9584, train_auprc: 0.9623, val_auprc: 0.9504\n"
     ]
    },
    {
     "name": "stderr",
     "output_type": "stream",
     "text": [
      "/home/namle/.local/lib/python3.10/site-packages/torch_geometric/warnings.py:11: UserWarning: The usage of `scatter(reduce='max')` can be accelerated via the 'torch-scatter' package, but it was not found\n",
      "  warnings.warn(message)\n"
     ]
    },
    {
     "name": "stdout",
     "output_type": "stream",
     "text": [
      "Epoch: 117 (65.9698s), train_loss: 0.2054, val_loss: 0.2643, train_acc: 0.9222, val_acc:0.9009\n",
      "\t\ttrain_roc: 0.9707, val_roc: 0.9586, train_auprc: 0.9630, val_auprc: 0.9511\n"
     ]
    },
    {
     "name": "stderr",
     "output_type": "stream",
     "text": [
      "/home/namle/.local/lib/python3.10/site-packages/torch_geometric/warnings.py:11: UserWarning: The usage of `scatter(reduce='max')` can be accelerated via the 'torch-scatter' package, but it was not found\n",
      "  warnings.warn(message)\n"
     ]
    },
    {
     "name": "stdout",
     "output_type": "stream",
     "text": [
      "Epoch: 118 (66.0548s), train_loss: 0.2041, val_loss: 0.2612, train_acc: 0.9232, val_acc:0.9025\n",
      "\t\ttrain_roc: 0.9710, val_roc: 0.9595, train_auprc: 0.9633, val_auprc: 0.9526\n"
     ]
    },
    {
     "name": "stderr",
     "output_type": "stream",
     "text": [
      "/home/namle/.local/lib/python3.10/site-packages/torch_geometric/warnings.py:11: UserWarning: The usage of `scatter(reduce='max')` can be accelerated via the 'torch-scatter' package, but it was not found\n",
      "  warnings.warn(message)\n"
     ]
    },
    {
     "name": "stdout",
     "output_type": "stream",
     "text": [
      "Saving model acc\n",
      "Saving model roc\n",
      "Epoch: 119 (65.8173s), train_loss: 0.2047, val_loss: 0.2592, train_acc: 0.9232, val_acc:0.9043\n",
      "\t\ttrain_roc: 0.9708, val_roc: 0.9603, train_auprc: 0.9630, val_auprc: 0.9533\n"
     ]
    },
    {
     "name": "stderr",
     "output_type": "stream",
     "text": [
      "/home/namle/.local/lib/python3.10/site-packages/torch_geometric/warnings.py:11: UserWarning: The usage of `scatter(reduce='max')` can be accelerated via the 'torch-scatter' package, but it was not found\n",
      "  warnings.warn(message)\n"
     ]
    },
    {
     "name": "stdout",
     "output_type": "stream",
     "text": [
      "Epoch: 120 (65.9525s), train_loss: 0.2031, val_loss: 0.2649, train_acc: 0.9237, val_acc:0.9018\n",
      "\t\ttrain_roc: 0.9712, val_roc: 0.9583, train_auprc: 0.9634, val_auprc: 0.9507\n"
     ]
    },
    {
     "name": "stderr",
     "output_type": "stream",
     "text": [
      "/home/namle/.local/lib/python3.10/site-packages/torch_geometric/warnings.py:11: UserWarning: The usage of `scatter(reduce='max')` can be accelerated via the 'torch-scatter' package, but it was not found\n",
      "  warnings.warn(message)\n"
     ]
    },
    {
     "name": "stdout",
     "output_type": "stream",
     "text": [
      "Epoch: 121 (66.0762s), train_loss: 0.2059, val_loss: 0.2597, train_acc: 0.9226, val_acc:0.9026\n",
      "\t\ttrain_roc: 0.9703, val_roc: 0.9599, train_auprc: 0.9622, val_auprc: 0.9531\n"
     ]
    },
    {
     "name": "stderr",
     "output_type": "stream",
     "text": [
      "/home/namle/.local/lib/python3.10/site-packages/torch_geometric/warnings.py:11: UserWarning: The usage of `scatter(reduce='max')` can be accelerated via the 'torch-scatter' package, but it was not found\n",
      "  warnings.warn(message)\n"
     ]
    },
    {
     "name": "stdout",
     "output_type": "stream",
     "text": [
      "Epoch: 122 (65.7057s), train_loss: 0.2059, val_loss: 0.2619, train_acc: 0.9226, val_acc:0.9027\n",
      "\t\ttrain_roc: 0.9703, val_roc: 0.9600, train_auprc: 0.9619, val_auprc: 0.9530\n"
     ]
    },
    {
     "name": "stderr",
     "output_type": "stream",
     "text": [
      "/home/namle/.local/lib/python3.10/site-packages/torch_geometric/warnings.py:11: UserWarning: The usage of `scatter(reduce='max')` can be accelerated via the 'torch-scatter' package, but it was not found\n",
      "  warnings.warn(message)\n"
     ]
    },
    {
     "name": "stdout",
     "output_type": "stream",
     "text": [
      "Saving model prc\n",
      "Saving model roc\n",
      "Epoch: 123 (66.0881s), train_loss: 0.2047, val_loss: 0.2587, train_acc: 0.9231, val_acc:0.9040\n",
      "\t\ttrain_roc: 0.9707, val_roc: 0.9605, train_auprc: 0.9627, val_auprc: 0.9540\n"
     ]
    },
    {
     "name": "stderr",
     "output_type": "stream",
     "text": [
      "/home/namle/.local/lib/python3.10/site-packages/torch_geometric/warnings.py:11: UserWarning: The usage of `scatter(reduce='max')` can be accelerated via the 'torch-scatter' package, but it was not found\n",
      "  warnings.warn(message)\n"
     ]
    },
    {
     "name": "stdout",
     "output_type": "stream",
     "text": [
      "Epoch: 124 (65.8850s), train_loss: 0.2030, val_loss: 0.2610, train_acc: 0.9237, val_acc:0.9036\n",
      "\t\ttrain_roc: 0.9713, val_roc: 0.9600, train_auprc: 0.9637, val_auprc: 0.9527\n"
     ]
    },
    {
     "name": "stderr",
     "output_type": "stream",
     "text": [
      "/home/namle/.local/lib/python3.10/site-packages/torch_geometric/warnings.py:11: UserWarning: The usage of `scatter(reduce='max')` can be accelerated via the 'torch-scatter' package, but it was not found\n",
      "  warnings.warn(message)\n"
     ]
    },
    {
     "name": "stdout",
     "output_type": "stream",
     "text": [
      "Epoch: 125 (65.9609s), train_loss: 0.2043, val_loss: 0.2659, train_acc: 0.9232, val_acc:0.9009\n",
      "\t\ttrain_roc: 0.9708, val_roc: 0.9585, train_auprc: 0.9629, val_auprc: 0.9510\n"
     ]
    },
    {
     "name": "stderr",
     "output_type": "stream",
     "text": [
      "/home/namle/.local/lib/python3.10/site-packages/torch_geometric/warnings.py:11: UserWarning: The usage of `scatter(reduce='max')` can be accelerated via the 'torch-scatter' package, but it was not found\n",
      "  warnings.warn(message)\n"
     ]
    },
    {
     "name": "stdout",
     "output_type": "stream",
     "text": [
      "Epoch: 126 (66.0800s), train_loss: 0.2047, val_loss: 0.2600, train_acc: 0.9233, val_acc:0.9035\n",
      "\t\ttrain_roc: 0.9707, val_roc: 0.9601, train_auprc: 0.9625, val_auprc: 0.9531\n"
     ]
    },
    {
     "name": "stderr",
     "output_type": "stream",
     "text": [
      "/home/namle/.local/lib/python3.10/site-packages/torch_geometric/warnings.py:11: UserWarning: The usage of `scatter(reduce='max')` can be accelerated via the 'torch-scatter' package, but it was not found\n",
      "  warnings.warn(message)\n"
     ]
    },
    {
     "name": "stdout",
     "output_type": "stream",
     "text": [
      "Saving model roc\n",
      "Epoch: 127 (65.8554s), train_loss: 0.2023, val_loss: 0.2592, train_acc: 0.9239, val_acc:0.9038\n",
      "\t\ttrain_roc: 0.9714, val_roc: 0.9606, train_auprc: 0.9636, val_auprc: 0.9538\n"
     ]
    },
    {
     "name": "stderr",
     "output_type": "stream",
     "text": [
      "/home/namle/.local/lib/python3.10/site-packages/torch_geometric/warnings.py:11: UserWarning: The usage of `scatter(reduce='max')` can be accelerated via the 'torch-scatter' package, but it was not found\n",
      "  warnings.warn(message)\n"
     ]
    },
    {
     "name": "stdout",
     "output_type": "stream",
     "text": [
      "Epoch: 128 (65.9245s), train_loss: 0.2018, val_loss: 0.2623, train_acc: 0.9244, val_acc:0.9033\n",
      "\t\ttrain_roc: 0.9714, val_roc: 0.9597, train_auprc: 0.9637, val_auprc: 0.9520\n"
     ]
    },
    {
     "name": "stderr",
     "output_type": "stream",
     "text": [
      "/home/namle/.local/lib/python3.10/site-packages/torch_geometric/warnings.py:11: UserWarning: The usage of `scatter(reduce='max')` can be accelerated via the 'torch-scatter' package, but it was not found\n",
      "  warnings.warn(message)\n"
     ]
    },
    {
     "name": "stdout",
     "output_type": "stream",
     "text": [
      "Epoch: 129 (66.0019s), train_loss: 0.2021, val_loss: 0.2636, train_acc: 0.9243, val_acc:0.9027\n",
      "\t\ttrain_roc: 0.9714, val_roc: 0.9593, train_auprc: 0.9637, val_auprc: 0.9515\n"
     ]
    },
    {
     "name": "stderr",
     "output_type": "stream",
     "text": [
      "/home/namle/.local/lib/python3.10/site-packages/torch_geometric/warnings.py:11: UserWarning: The usage of `scatter(reduce='max')` can be accelerated via the 'torch-scatter' package, but it was not found\n",
      "  warnings.warn(message)\n"
     ]
    },
    {
     "name": "stdout",
     "output_type": "stream",
     "text": [
      "Epoch: 130 (65.8607s), train_loss: 0.2008, val_loss: 0.2621, train_acc: 0.9248, val_acc:0.9032\n",
      "\t\ttrain_roc: 0.9718, val_roc: 0.9594, train_auprc: 0.9645, val_auprc: 0.9522\n"
     ]
    },
    {
     "name": "stderr",
     "output_type": "stream",
     "text": [
      "/home/namle/.local/lib/python3.10/site-packages/torch_geometric/warnings.py:11: UserWarning: The usage of `scatter(reduce='max')` can be accelerated via the 'torch-scatter' package, but it was not found\n",
      "  warnings.warn(message)\n"
     ]
    },
    {
     "name": "stdout",
     "output_type": "stream",
     "text": [
      "Epoch: 131 (65.8832s), train_loss: 0.2015, val_loss: 0.2626, train_acc: 0.9247, val_acc:0.9025\n",
      "\t\ttrain_roc: 0.9715, val_roc: 0.9593, train_auprc: 0.9637, val_auprc: 0.9519\n"
     ]
    },
    {
     "name": "stderr",
     "output_type": "stream",
     "text": [
      "/home/namle/.local/lib/python3.10/site-packages/torch_geometric/warnings.py:11: UserWarning: The usage of `scatter(reduce='max')` can be accelerated via the 'torch-scatter' package, but it was not found\n",
      "  warnings.warn(message)\n"
     ]
    },
    {
     "name": "stdout",
     "output_type": "stream",
     "text": [
      "Saving model acc\n",
      "Epoch: 132 (65.9168s), train_loss: 0.2011, val_loss: 0.2613, train_acc: 0.9244, val_acc:0.9050\n",
      "\t\ttrain_roc: 0.9717, val_roc: 0.9600, train_auprc: 0.9640, val_auprc: 0.9524\n"
     ]
    },
    {
     "name": "stderr",
     "output_type": "stream",
     "text": [
      "/home/namle/.local/lib/python3.10/site-packages/torch_geometric/warnings.py:11: UserWarning: The usage of `scatter(reduce='max')` can be accelerated via the 'torch-scatter' package, but it was not found\n",
      "  warnings.warn(message)\n"
     ]
    },
    {
     "name": "stdout",
     "output_type": "stream",
     "text": [
      "Epoch: 133 (66.0880s), train_loss: 0.2010, val_loss: 0.2626, train_acc: 0.9248, val_acc:0.9038\n",
      "\t\ttrain_roc: 0.9717, val_roc: 0.9597, train_auprc: 0.9640, val_auprc: 0.9525\n"
     ]
    },
    {
     "name": "stderr",
     "output_type": "stream",
     "text": [
      "/home/namle/.local/lib/python3.10/site-packages/torch_geometric/warnings.py:11: UserWarning: The usage of `scatter(reduce='max')` can be accelerated via the 'torch-scatter' package, but it was not found\n",
      "  warnings.warn(message)\n"
     ]
    },
    {
     "name": "stdout",
     "output_type": "stream",
     "text": [
      "Epoch: 134 (65.9573s), train_loss: 0.2003, val_loss: 0.2640, train_acc: 0.9252, val_acc:0.9026\n",
      "\t\ttrain_roc: 0.9718, val_roc: 0.9595, train_auprc: 0.9642, val_auprc: 0.9521\n"
     ]
    },
    {
     "name": "stderr",
     "output_type": "stream",
     "text": [
      "/home/namle/.local/lib/python3.10/site-packages/torch_geometric/warnings.py:11: UserWarning: The usage of `scatter(reduce='max')` can be accelerated via the 'torch-scatter' package, but it was not found\n",
      "  warnings.warn(message)\n"
     ]
    },
    {
     "name": "stdout",
     "output_type": "stream",
     "text": [
      "Epoch: 135 (65.9226s), train_loss: 0.2021, val_loss: 0.2601, train_acc: 0.9243, val_acc:0.9045\n",
      "\t\ttrain_roc: 0.9712, val_roc: 0.9603, train_auprc: 0.9633, val_auprc: 0.9535\n"
     ]
    },
    {
     "name": "stderr",
     "output_type": "stream",
     "text": [
      "/home/namle/.local/lib/python3.10/site-packages/torch_geometric/warnings.py:11: UserWarning: The usage of `scatter(reduce='max')` can be accelerated via the 'torch-scatter' package, but it was not found\n",
      "  warnings.warn(message)\n"
     ]
    },
    {
     "name": "stdout",
     "output_type": "stream",
     "text": [
      "Saving model prc\n",
      "Saving model roc\n",
      "Epoch: 136 (66.0663s), train_loss: 0.2008, val_loss: 0.2599, train_acc: 0.9240, val_acc:0.9031\n",
      "\t\ttrain_roc: 0.9718, val_roc: 0.9608, train_auprc: 0.9644, val_auprc: 0.9546\n"
     ]
    },
    {
     "name": "stderr",
     "output_type": "stream",
     "text": [
      "/home/namle/.local/lib/python3.10/site-packages/torch_geometric/warnings.py:11: UserWarning: The usage of `scatter(reduce='max')` can be accelerated via the 'torch-scatter' package, but it was not found\n",
      "  warnings.warn(message)\n"
     ]
    },
    {
     "name": "stdout",
     "output_type": "stream",
     "text": [
      "Epoch: 137 (66.2274s), train_loss: 0.1997, val_loss: 0.2641, train_acc: 0.9255, val_acc:0.9030\n",
      "\t\ttrain_roc: 0.9720, val_roc: 0.9591, train_auprc: 0.9642, val_auprc: 0.9512\n"
     ]
    },
    {
     "name": "stderr",
     "output_type": "stream",
     "text": [
      "/home/namle/.local/lib/python3.10/site-packages/torch_geometric/warnings.py:11: UserWarning: The usage of `scatter(reduce='max')` can be accelerated via the 'torch-scatter' package, but it was not found\n",
      "  warnings.warn(message)\n"
     ]
    },
    {
     "name": "stdout",
     "output_type": "stream",
     "text": [
      "Epoch: 138 (65.9790s), train_loss: 0.2027, val_loss: 0.2608, train_acc: 0.9240, val_acc:0.9036\n",
      "\t\ttrain_roc: 0.9711, val_roc: 0.9604, train_auprc: 0.9633, val_auprc: 0.9539\n"
     ]
    },
    {
     "name": "stderr",
     "output_type": "stream",
     "text": [
      "/home/namle/.local/lib/python3.10/site-packages/torch_geometric/warnings.py:11: UserWarning: The usage of `scatter(reduce='max')` can be accelerated via the 'torch-scatter' package, but it was not found\n",
      "  warnings.warn(message)\n"
     ]
    },
    {
     "name": "stdout",
     "output_type": "stream",
     "text": [
      "Epoch: 139 (66.2604s), train_loss: 0.1996, val_loss: 0.2644, train_acc: 0.9251, val_acc:0.9024\n",
      "\t\ttrain_roc: 0.9721, val_roc: 0.9590, train_auprc: 0.9645, val_auprc: 0.9519\n"
     ]
    },
    {
     "name": "stderr",
     "output_type": "stream",
     "text": [
      "/home/namle/.local/lib/python3.10/site-packages/torch_geometric/warnings.py:11: UserWarning: The usage of `scatter(reduce='max')` can be accelerated via the 'torch-scatter' package, but it was not found\n",
      "  warnings.warn(message)\n"
     ]
    },
    {
     "name": "stdout",
     "output_type": "stream",
     "text": [
      "Epoch: 140 (66.0073s), train_loss: 0.2005, val_loss: 0.2626, train_acc: 0.9252, val_acc:0.9033\n",
      "\t\ttrain_roc: 0.9718, val_roc: 0.9595, train_auprc: 0.9640, val_auprc: 0.9526\n"
     ]
    },
    {
     "name": "stderr",
     "output_type": "stream",
     "text": [
      "/home/namle/.local/lib/python3.10/site-packages/torch_geometric/warnings.py:11: UserWarning: The usage of `scatter(reduce='max')` can be accelerated via the 'torch-scatter' package, but it was not found\n",
      "  warnings.warn(message)\n"
     ]
    },
    {
     "name": "stdout",
     "output_type": "stream",
     "text": [
      "Epoch: 141 (65.7656s), train_loss: 0.2020, val_loss: 0.2631, train_acc: 0.9243, val_acc:0.9027\n",
      "\t\ttrain_roc: 0.9713, val_roc: 0.9596, train_auprc: 0.9635, val_auprc: 0.9526\n"
     ]
    },
    {
     "name": "stderr",
     "output_type": "stream",
     "text": [
      "/home/namle/.local/lib/python3.10/site-packages/torch_geometric/warnings.py:11: UserWarning: The usage of `scatter(reduce='max')` can be accelerated via the 'torch-scatter' package, but it was not found\n",
      "  warnings.warn(message)\n"
     ]
    },
    {
     "name": "stdout",
     "output_type": "stream",
     "text": [
      "Epoch: 142 (65.7914s), train_loss: 0.2005, val_loss: 0.2645, train_acc: 0.9249, val_acc:0.9026\n",
      "\t\ttrain_roc: 0.9717, val_roc: 0.9595, train_auprc: 0.9641, val_auprc: 0.9521\n"
     ]
    },
    {
     "name": "stderr",
     "output_type": "stream",
     "text": [
      "/home/namle/.local/lib/python3.10/site-packages/torch_geometric/warnings.py:11: UserWarning: The usage of `scatter(reduce='max')` can be accelerated via the 'torch-scatter' package, but it was not found\n",
      "  warnings.warn(message)\n"
     ]
    },
    {
     "name": "stdout",
     "output_type": "stream",
     "text": [
      "Epoch: 143 (65.8856s), train_loss: 0.2009, val_loss: 0.2631, train_acc: 0.9248, val_acc:0.9031\n",
      "\t\ttrain_roc: 0.9716, val_roc: 0.9597, train_auprc: 0.9638, val_auprc: 0.9527\n"
     ]
    },
    {
     "name": "stderr",
     "output_type": "stream",
     "text": [
      "/home/namle/.local/lib/python3.10/site-packages/torch_geometric/warnings.py:11: UserWarning: The usage of `scatter(reduce='max')` can be accelerated via the 'torch-scatter' package, but it was not found\n",
      "  warnings.warn(message)\n"
     ]
    },
    {
     "name": "stdout",
     "output_type": "stream",
     "text": [
      "Epoch: 144 (66.2361s), train_loss: 0.2010, val_loss: 0.2648, train_acc: 0.9251, val_acc:0.9031\n",
      "\t\ttrain_roc: 0.9715, val_roc: 0.9591, train_auprc: 0.9634, val_auprc: 0.9516\n"
     ]
    },
    {
     "name": "stderr",
     "output_type": "stream",
     "text": [
      "/home/namle/.local/lib/python3.10/site-packages/torch_geometric/warnings.py:11: UserWarning: The usage of `scatter(reduce='max')` can be accelerated via the 'torch-scatter' package, but it was not found\n",
      "  warnings.warn(message)\n"
     ]
    },
    {
     "name": "stdout",
     "output_type": "stream",
     "text": [
      "Epoch: 145 (65.8211s), train_loss: 0.1999, val_loss: 0.2635, train_acc: 0.9254, val_acc:0.9025\n",
      "\t\ttrain_roc: 0.9720, val_roc: 0.9595, train_auprc: 0.9643, val_auprc: 0.9523\n"
     ]
    },
    {
     "name": "stderr",
     "output_type": "stream",
     "text": [
      "/home/namle/.local/lib/python3.10/site-packages/torch_geometric/warnings.py:11: UserWarning: The usage of `scatter(reduce='max')` can be accelerated via the 'torch-scatter' package, but it was not found\n",
      "  warnings.warn(message)\n"
     ]
    },
    {
     "name": "stdout",
     "output_type": "stream",
     "text": [
      "Saving model roc\n",
      "Epoch: 146 (65.8128s), train_loss: 0.1990, val_loss: 0.2588, train_acc: 0.9256, val_acc:0.9044\n",
      "\t\ttrain_roc: 0.9722, val_roc: 0.9609, train_auprc: 0.9647, val_auprc: 0.9543\n"
     ]
    },
    {
     "name": "stderr",
     "output_type": "stream",
     "text": [
      "/home/namle/.local/lib/python3.10/site-packages/torch_geometric/warnings.py:11: UserWarning: The usage of `scatter(reduce='max')` can be accelerated via the 'torch-scatter' package, but it was not found\n",
      "  warnings.warn(message)\n"
     ]
    },
    {
     "name": "stdout",
     "output_type": "stream",
     "text": [
      "Epoch: 147 (66.1289s), train_loss: 0.1993, val_loss: 0.2611, train_acc: 0.9257, val_acc:0.9040\n",
      "\t\ttrain_roc: 0.9721, val_roc: 0.9602, train_auprc: 0.9645, val_auprc: 0.9532\n"
     ]
    },
    {
     "name": "stderr",
     "output_type": "stream",
     "text": [
      "/home/namle/.local/lib/python3.10/site-packages/torch_geometric/warnings.py:11: UserWarning: The usage of `scatter(reduce='max')` can be accelerated via the 'torch-scatter' package, but it was not found\n",
      "  warnings.warn(message)\n"
     ]
    },
    {
     "name": "stdout",
     "output_type": "stream",
     "text": [
      "Epoch: 148 (66.0072s), train_loss: 0.1999, val_loss: 0.2628, train_acc: 0.9253, val_acc:0.9028\n",
      "\t\ttrain_roc: 0.9719, val_roc: 0.9599, train_auprc: 0.9641, val_auprc: 0.9530\n"
     ]
    },
    {
     "name": "stderr",
     "output_type": "stream",
     "text": [
      "/home/namle/.local/lib/python3.10/site-packages/torch_geometric/warnings.py:11: UserWarning: The usage of `scatter(reduce='max')` can be accelerated via the 'torch-scatter' package, but it was not found\n",
      "  warnings.warn(message)\n"
     ]
    },
    {
     "name": "stdout",
     "output_type": "stream",
     "text": [
      "Epoch: 149 (65.9987s), train_loss: 0.2004, val_loss: 0.2611, train_acc: 0.9254, val_acc:0.9039\n",
      "\t\ttrain_roc: 0.9717, val_roc: 0.9603, train_auprc: 0.9639, val_auprc: 0.9535\n"
     ]
    },
    {
     "name": "stderr",
     "output_type": "stream",
     "text": [
      "/home/namle/.local/lib/python3.10/site-packages/torch_geometric/warnings.py:11: UserWarning: The usage of `scatter(reduce='max')` can be accelerated via the 'torch-scatter' package, but it was not found\n",
      "  warnings.warn(message)\n"
     ]
    },
    {
     "name": "stdout",
     "output_type": "stream",
     "text": [
      "Epoch: 150 (66.1518s), train_loss: 0.2005, val_loss: 0.2606, train_acc: 0.9252, val_acc:0.9034\n",
      "\t\ttrain_roc: 0.9717, val_roc: 0.9605, train_auprc: 0.9639, val_auprc: 0.9540\n"
     ]
    },
    {
     "name": "stderr",
     "output_type": "stream",
     "text": [
      "/home/namle/.local/lib/python3.10/site-packages/torch_geometric/warnings.py:11: UserWarning: The usage of `scatter(reduce='max')` can be accelerated via the 'torch-scatter' package, but it was not found\n",
      "  warnings.warn(message)\n"
     ]
    },
    {
     "name": "stdout",
     "output_type": "stream",
     "text": [
      "Epoch: 151 (65.9524s), train_loss: 0.1997, val_loss: 0.2617, train_acc: 0.9253, val_acc:0.9037\n",
      "\t\ttrain_roc: 0.9720, val_roc: 0.9602, train_auprc: 0.9645, val_auprc: 0.9533\n"
     ]
    },
    {
     "name": "stderr",
     "output_type": "stream",
     "text": [
      "/home/namle/.local/lib/python3.10/site-packages/torch_geometric/warnings.py:11: UserWarning: The usage of `scatter(reduce='max')` can be accelerated via the 'torch-scatter' package, but it was not found\n",
      "  warnings.warn(message)\n"
     ]
    },
    {
     "name": "stdout",
     "output_type": "stream",
     "text": [
      "Saving model prc\n",
      "Saving model acc\n",
      "Saving model roc\n",
      "Epoch: 152 (65.6937s), train_loss: 0.1984, val_loss: 0.2572, train_acc: 0.9261, val_acc:0.9051\n",
      "\t\ttrain_roc: 0.9723, val_roc: 0.9616, train_auprc: 0.9650, val_auprc: 0.9553\n"
     ]
    },
    {
     "name": "stderr",
     "output_type": "stream",
     "text": [
      "/home/namle/.local/lib/python3.10/site-packages/torch_geometric/warnings.py:11: UserWarning: The usage of `scatter(reduce='max')` can be accelerated via the 'torch-scatter' package, but it was not found\n",
      "  warnings.warn(message)\n"
     ]
    },
    {
     "name": "stdout",
     "output_type": "stream",
     "text": [
      "Epoch: 153 (65.7462s), train_loss: 0.1990, val_loss: 0.2624, train_acc: 0.9255, val_acc:0.9030\n",
      "\t\ttrain_roc: 0.9722, val_roc: 0.9598, train_auprc: 0.9647, val_auprc: 0.9534\n"
     ]
    },
    {
     "name": "stderr",
     "output_type": "stream",
     "text": [
      "/home/namle/.local/lib/python3.10/site-packages/torch_geometric/warnings.py:11: UserWarning: The usage of `scatter(reduce='max')` can be accelerated via the 'torch-scatter' package, but it was not found\n",
      "  warnings.warn(message)\n"
     ]
    },
    {
     "name": "stdout",
     "output_type": "stream",
     "text": [
      "Epoch: 154 (65.9703s), train_loss: 0.1995, val_loss: 0.2606, train_acc: 0.9256, val_acc:0.9043\n",
      "\t\ttrain_roc: 0.9720, val_roc: 0.9607, train_auprc: 0.9645, val_auprc: 0.9541\n"
     ]
    },
    {
     "name": "stderr",
     "output_type": "stream",
     "text": [
      "/home/namle/.local/lib/python3.10/site-packages/torch_geometric/warnings.py:11: UserWarning: The usage of `scatter(reduce='max')` can be accelerated via the 'torch-scatter' package, but it was not found\n",
      "  warnings.warn(message)\n"
     ]
    },
    {
     "name": "stdout",
     "output_type": "stream",
     "text": [
      "Epoch: 155 (65.9184s), train_loss: 0.1996, val_loss: 0.2624, train_acc: 0.9254, val_acc:0.9029\n",
      "\t\ttrain_roc: 0.9720, val_roc: 0.9599, train_auprc: 0.9642, val_auprc: 0.9532\n"
     ]
    },
    {
     "name": "stderr",
     "output_type": "stream",
     "text": [
      "/home/namle/.local/lib/python3.10/site-packages/torch_geometric/warnings.py:11: UserWarning: The usage of `scatter(reduce='max')` can be accelerated via the 'torch-scatter' package, but it was not found\n",
      "  warnings.warn(message)\n"
     ]
    },
    {
     "name": "stdout",
     "output_type": "stream",
     "text": [
      "Epoch: 156 (65.8828s), train_loss: 0.1991, val_loss: 0.2613, train_acc: 0.9253, val_acc:0.9038\n",
      "\t\ttrain_roc: 0.9722, val_roc: 0.9604, train_auprc: 0.9647, val_auprc: 0.9537\n"
     ]
    },
    {
     "name": "stderr",
     "output_type": "stream",
     "text": [
      "/home/namle/.local/lib/python3.10/site-packages/torch_geometric/warnings.py:11: UserWarning: The usage of `scatter(reduce='max')` can be accelerated via the 'torch-scatter' package, but it was not found\n",
      "  warnings.warn(message)\n"
     ]
    },
    {
     "name": "stdout",
     "output_type": "stream",
     "text": [
      "Epoch: 158 (66.0775s), train_loss: 0.1990, val_loss: 0.2618, train_acc: 0.9256, val_acc:0.9040\n",
      "\t\ttrain_roc: 0.9722, val_roc: 0.9603, train_auprc: 0.9645, val_auprc: 0.9534\n"
     ]
    },
    {
     "name": "stderr",
     "output_type": "stream",
     "text": [
      "/home/namle/.local/lib/python3.10/site-packages/torch_geometric/warnings.py:11: UserWarning: The usage of `scatter(reduce='max')` can be accelerated via the 'torch-scatter' package, but it was not found\n",
      "  warnings.warn(message)\n"
     ]
    },
    {
     "name": "stdout",
     "output_type": "stream",
     "text": [
      "Epoch: 159 (65.9152s), train_loss: 0.1988, val_loss: 0.2608, train_acc: 0.9253, val_acc:0.9039\n",
      "\t\ttrain_roc: 0.9722, val_roc: 0.9606, train_auprc: 0.9646, val_auprc: 0.9538\n"
     ]
    },
    {
     "name": "stderr",
     "output_type": "stream",
     "text": [
      "/home/namle/.local/lib/python3.10/site-packages/torch_geometric/warnings.py:11: UserWarning: The usage of `scatter(reduce='max')` can be accelerated via the 'torch-scatter' package, but it was not found\n",
      "  warnings.warn(message)\n"
     ]
    },
    {
     "name": "stdout",
     "output_type": "stream",
     "text": [
      "Epoch: 160 (65.9237s), train_loss: 0.1977, val_loss: 0.2617, train_acc: 0.9262, val_acc:0.9028\n",
      "\t\ttrain_roc: 0.9726, val_roc: 0.9604, train_auprc: 0.9652, val_auprc: 0.9539\n"
     ]
    },
    {
     "name": "stderr",
     "output_type": "stream",
     "text": [
      "/home/namle/.local/lib/python3.10/site-packages/torch_geometric/warnings.py:11: UserWarning: The usage of `scatter(reduce='max')` can be accelerated via the 'torch-scatter' package, but it was not found\n",
      "  warnings.warn(message)\n"
     ]
    },
    {
     "name": "stdout",
     "output_type": "stream",
     "text": [
      "Epoch: 161 (65.9087s), train_loss: 0.1981, val_loss: 0.2618, train_acc: 0.9262, val_acc:0.9028\n",
      "\t\ttrain_roc: 0.9724, val_roc: 0.9605, train_auprc: 0.9647, val_auprc: 0.9539\n"
     ]
    },
    {
     "name": "stderr",
     "output_type": "stream",
     "text": [
      "/home/namle/.local/lib/python3.10/site-packages/torch_geometric/warnings.py:11: UserWarning: The usage of `scatter(reduce='max')` can be accelerated via the 'torch-scatter' package, but it was not found\n",
      "  warnings.warn(message)\n"
     ]
    },
    {
     "name": "stdout",
     "output_type": "stream",
     "text": [
      "Epoch: 162 (65.9388s), train_loss: 0.1966, val_loss: 0.2595, train_acc: 0.9268, val_acc:0.9040\n",
      "\t\ttrain_roc: 0.9729, val_roc: 0.9610, train_auprc: 0.9655, val_auprc: 0.9551\n"
     ]
    },
    {
     "name": "stderr",
     "output_type": "stream",
     "text": [
      "/home/namle/.local/lib/python3.10/site-packages/torch_geometric/warnings.py:11: UserWarning: The usage of `scatter(reduce='max')` can be accelerated via the 'torch-scatter' package, but it was not found\n",
      "  warnings.warn(message)\n"
     ]
    },
    {
     "name": "stdout",
     "output_type": "stream",
     "text": [
      "Epoch: 163 (65.9243s), train_loss: 0.1978, val_loss: 0.2631, train_acc: 0.9263, val_acc:0.9040\n",
      "\t\ttrain_roc: 0.9724, val_roc: 0.9597, train_auprc: 0.9650, val_auprc: 0.9521\n"
     ]
    },
    {
     "name": "stderr",
     "output_type": "stream",
     "text": [
      "/home/namle/.local/lib/python3.10/site-packages/torch_geometric/warnings.py:11: UserWarning: The usage of `scatter(reduce='max')` can be accelerated via the 'torch-scatter' package, but it was not found\n",
      "  warnings.warn(message)\n"
     ]
    },
    {
     "name": "stdout",
     "output_type": "stream",
     "text": [
      "Epoch: 164 (66.1224s), train_loss: 0.1981, val_loss: 0.2606, train_acc: 0.9259, val_acc:0.9037\n",
      "\t\ttrain_roc: 0.9724, val_roc: 0.9608, train_auprc: 0.9649, val_auprc: 0.9544\n"
     ]
    },
    {
     "name": "stderr",
     "output_type": "stream",
     "text": [
      "/home/namle/.local/lib/python3.10/site-packages/torch_geometric/warnings.py:11: UserWarning: The usage of `scatter(reduce='max')` can be accelerated via the 'torch-scatter' package, but it was not found\n",
      "  warnings.warn(message)\n"
     ]
    },
    {
     "name": "stdout",
     "output_type": "stream",
     "text": [
      "Epoch: 165 (66.0309s), train_loss: 0.1987, val_loss: 0.2611, train_acc: 0.9262, val_acc:0.9030\n",
      "\t\ttrain_roc: 0.9720, val_roc: 0.9606, train_auprc: 0.9642, val_auprc: 0.9541\n"
     ]
    },
    {
     "name": "stderr",
     "output_type": "stream",
     "text": [
      "/home/namle/.local/lib/python3.10/site-packages/torch_geometric/warnings.py:11: UserWarning: The usage of `scatter(reduce='max')` can be accelerated via the 'torch-scatter' package, but it was not found\n",
      "  warnings.warn(message)\n"
     ]
    },
    {
     "name": "stdout",
     "output_type": "stream",
     "text": [
      "Saving model prc\n",
      "Saving model roc\n",
      "Epoch: 166 (65.8188s), train_loss: 0.1978, val_loss: 0.2576, train_acc: 0.9265, val_acc:0.9039\n",
      "\t\ttrain_roc: 0.9725, val_roc: 0.9618, train_auprc: 0.9648, val_auprc: 0.9560\n"
     ]
    },
    {
     "name": "stderr",
     "output_type": "stream",
     "text": [
      "/home/namle/.local/lib/python3.10/site-packages/torch_geometric/warnings.py:11: UserWarning: The usage of `scatter(reduce='max')` can be accelerated via the 'torch-scatter' package, but it was not found\n",
      "  warnings.warn(message)\n"
     ]
    },
    {
     "name": "stdout",
     "output_type": "stream",
     "text": [
      "Epoch: 167 (65.7401s), train_loss: 0.1993, val_loss: 0.2623, train_acc: 0.9256, val_acc:0.9028\n",
      "\t\ttrain_roc: 0.9720, val_roc: 0.9602, train_auprc: 0.9640, val_auprc: 0.9537\n"
     ]
    },
    {
     "name": "stderr",
     "output_type": "stream",
     "text": [
      "/home/namle/.local/lib/python3.10/site-packages/torch_geometric/warnings.py:11: UserWarning: The usage of `scatter(reduce='max')` can be accelerated via the 'torch-scatter' package, but it was not found\n",
      "  warnings.warn(message)\n"
     ]
    },
    {
     "name": "stdout",
     "output_type": "stream",
     "text": [
      "Epoch: 168 (66.0246s), train_loss: 0.1984, val_loss: 0.2611, train_acc: 0.9260, val_acc:0.9037\n",
      "\t\ttrain_roc: 0.9721, val_roc: 0.9604, train_auprc: 0.9644, val_auprc: 0.9537\n"
     ]
    },
    {
     "name": "stderr",
     "output_type": "stream",
     "text": [
      "/home/namle/.local/lib/python3.10/site-packages/torch_geometric/warnings.py:11: UserWarning: The usage of `scatter(reduce='max')` can be accelerated via the 'torch-scatter' package, but it was not found\n",
      "  warnings.warn(message)\n"
     ]
    },
    {
     "name": "stdout",
     "output_type": "stream",
     "text": [
      "Epoch: 169 (65.8376s), train_loss: 0.1993, val_loss: 0.2613, train_acc: 0.9254, val_acc:0.9031\n",
      "\t\ttrain_roc: 0.9721, val_roc: 0.9604, train_auprc: 0.9646, val_auprc: 0.9539\n"
     ]
    },
    {
     "name": "stderr",
     "output_type": "stream",
     "text": [
      "/home/namle/.local/lib/python3.10/site-packages/torch_geometric/warnings.py:11: UserWarning: The usage of `scatter(reduce='max')` can be accelerated via the 'torch-scatter' package, but it was not found\n",
      "  warnings.warn(message)\n"
     ]
    },
    {
     "name": "stdout",
     "output_type": "stream",
     "text": [
      "Epoch: 170 (66.1197s), train_loss: 0.1997, val_loss: 0.2628, train_acc: 0.9257, val_acc:0.9030\n",
      "\t\ttrain_roc: 0.9718, val_roc: 0.9599, train_auprc: 0.9639, val_auprc: 0.9532\n"
     ]
    },
    {
     "name": "stderr",
     "output_type": "stream",
     "text": [
      "/home/namle/.local/lib/python3.10/site-packages/torch_geometric/warnings.py:11: UserWarning: The usage of `scatter(reduce='max')` can be accelerated via the 'torch-scatter' package, but it was not found\n",
      "  warnings.warn(message)\n"
     ]
    },
    {
     "name": "stdout",
     "output_type": "stream",
     "text": [
      "Epoch: 171 (65.8904s), train_loss: 0.1977, val_loss: 0.2621, train_acc: 0.9266, val_acc:0.9030\n",
      "\t\ttrain_roc: 0.9725, val_roc: 0.9601, train_auprc: 0.9647, val_auprc: 0.9532\n"
     ]
    },
    {
     "name": "stderr",
     "output_type": "stream",
     "text": [
      "/home/namle/.local/lib/python3.10/site-packages/torch_geometric/warnings.py:11: UserWarning: The usage of `scatter(reduce='max')` can be accelerated via the 'torch-scatter' package, but it was not found\n",
      "  warnings.warn(message)\n"
     ]
    },
    {
     "name": "stdout",
     "output_type": "stream",
     "text": [
      "Epoch: 172 (66.0671s), train_loss: 0.1984, val_loss: 0.2642, train_acc: 0.9259, val_acc:0.9035\n",
      "\t\ttrain_roc: 0.9723, val_roc: 0.9595, train_auprc: 0.9646, val_auprc: 0.9522\n"
     ]
    },
    {
     "name": "stderr",
     "output_type": "stream",
     "text": [
      "/home/namle/.local/lib/python3.10/site-packages/torch_geometric/warnings.py:11: UserWarning: The usage of `scatter(reduce='max')` can be accelerated via the 'torch-scatter' package, but it was not found\n",
      "  warnings.warn(message)\n"
     ]
    },
    {
     "name": "stdout",
     "output_type": "stream",
     "text": [
      "Epoch: 173 (66.1222s), train_loss: 0.1987, val_loss: 0.2617, train_acc: 0.9257, val_acc:0.9026\n",
      "\t\ttrain_roc: 0.9722, val_roc: 0.9605, train_auprc: 0.9645, val_auprc: 0.9541\n"
     ]
    },
    {
     "name": "stderr",
     "output_type": "stream",
     "text": [
      "/home/namle/.local/lib/python3.10/site-packages/torch_geometric/warnings.py:11: UserWarning: The usage of `scatter(reduce='max')` can be accelerated via the 'torch-scatter' package, but it was not found\n",
      "  warnings.warn(message)\n"
     ]
    },
    {
     "name": "stdout",
     "output_type": "stream",
     "text": [
      "Epoch: 174 (66.1032s), train_loss: 0.1972, val_loss: 0.2617, train_acc: 0.9263, val_acc:0.9030\n",
      "\t\ttrain_roc: 0.9726, val_roc: 0.9604, train_auprc: 0.9650, val_auprc: 0.9534\n"
     ]
    },
    {
     "name": "stderr",
     "output_type": "stream",
     "text": [
      "/home/namle/.local/lib/python3.10/site-packages/torch_geometric/warnings.py:11: UserWarning: The usage of `scatter(reduce='max')` can be accelerated via the 'torch-scatter' package, but it was not found\n",
      "  warnings.warn(message)\n"
     ]
    },
    {
     "name": "stdout",
     "output_type": "stream",
     "text": [
      "Epoch: 175 (66.3075s), train_loss: 0.1974, val_loss: 0.2627, train_acc: 0.9263, val_acc:0.9036\n",
      "\t\ttrain_roc: 0.9725, val_roc: 0.9600, train_auprc: 0.9651, val_auprc: 0.9534\n"
     ]
    },
    {
     "name": "stderr",
     "output_type": "stream",
     "text": [
      "/home/namle/.local/lib/python3.10/site-packages/torch_geometric/warnings.py:11: UserWarning: The usage of `scatter(reduce='max')` can be accelerated via the 'torch-scatter' package, but it was not found\n",
      "  warnings.warn(message)\n"
     ]
    },
    {
     "name": "stdout",
     "output_type": "stream",
     "text": [
      "Epoch: 176 (66.0287s), train_loss: 0.1982, val_loss: 0.2611, train_acc: 0.9261, val_acc:0.9039\n",
      "\t\ttrain_roc: 0.9723, val_roc: 0.9607, train_auprc: 0.9645, val_auprc: 0.9544\n"
     ]
    },
    {
     "name": "stderr",
     "output_type": "stream",
     "text": [
      "/home/namle/.local/lib/python3.10/site-packages/torch_geometric/warnings.py:11: UserWarning: The usage of `scatter(reduce='max')` can be accelerated via the 'torch-scatter' package, but it was not found\n",
      "  warnings.warn(message)\n"
     ]
    },
    {
     "name": "stdout",
     "output_type": "stream",
     "text": [
      "Epoch: 177 (67.0680s), train_loss: 0.1976, val_loss: 0.2604, train_acc: 0.9266, val_acc:0.9038\n",
      "\t\ttrain_roc: 0.9724, val_roc: 0.9607, train_auprc: 0.9646, val_auprc: 0.9542\n"
     ]
    },
    {
     "name": "stderr",
     "output_type": "stream",
     "text": [
      "/home/namle/.local/lib/python3.10/site-packages/torch_geometric/warnings.py:11: UserWarning: The usage of `scatter(reduce='max')` can be accelerated via the 'torch-scatter' package, but it was not found\n",
      "  warnings.warn(message)\n"
     ]
    },
    {
     "name": "stdout",
     "output_type": "stream",
     "text": [
      "Epoch: 178 (66.7289s), train_loss: 0.1971, val_loss: 0.2628, train_acc: 0.9270, val_acc:0.9029\n",
      "\t\ttrain_roc: 0.9726, val_roc: 0.9601, train_auprc: 0.9651, val_auprc: 0.9532\n"
     ]
    },
    {
     "name": "stderr",
     "output_type": "stream",
     "text": [
      "/home/namle/.local/lib/python3.10/site-packages/torch_geometric/warnings.py:11: UserWarning: The usage of `scatter(reduce='max')` can be accelerated via the 'torch-scatter' package, but it was not found\n",
      "  warnings.warn(message)\n"
     ]
    },
    {
     "name": "stdout",
     "output_type": "stream",
     "text": [
      "Epoch: 179 (65.9242s), train_loss: 0.1977, val_loss: 0.2603, train_acc: 0.9261, val_acc:0.9040\n",
      "\t\ttrain_roc: 0.9724, val_roc: 0.9609, train_auprc: 0.9649, val_auprc: 0.9548\n"
     ]
    },
    {
     "name": "stderr",
     "output_type": "stream",
     "text": [
      "/home/namle/.local/lib/python3.10/site-packages/torch_geometric/warnings.py:11: UserWarning: The usage of `scatter(reduce='max')` can be accelerated via the 'torch-scatter' package, but it was not found\n",
      "  warnings.warn(message)\n"
     ]
    },
    {
     "name": "stdout",
     "output_type": "stream",
     "text": [
      "Epoch: 180 (65.8933s), train_loss: 0.1961, val_loss: 0.2610, train_acc: 0.9264, val_acc:0.9045\n",
      "\t\ttrain_roc: 0.9731, val_roc: 0.9608, train_auprc: 0.9660, val_auprc: 0.9538\n"
     ]
    },
    {
     "name": "stderr",
     "output_type": "stream",
     "text": [
      "/home/namle/.local/lib/python3.10/site-packages/torch_geometric/warnings.py:11: UserWarning: The usage of `scatter(reduce='max')` can be accelerated via the 'torch-scatter' package, but it was not found\n",
      "  warnings.warn(message)\n"
     ]
    },
    {
     "name": "stdout",
     "output_type": "stream",
     "text": [
      "Epoch: 181 (65.9387s), train_loss: 0.1994, val_loss: 0.2654, train_acc: 0.9254, val_acc:0.9027\n",
      "\t\ttrain_roc: 0.9720, val_roc: 0.9592, train_auprc: 0.9641, val_auprc: 0.9517\n"
     ]
    },
    {
     "name": "stderr",
     "output_type": "stream",
     "text": [
      "/home/namle/.local/lib/python3.10/site-packages/torch_geometric/warnings.py:11: UserWarning: The usage of `scatter(reduce='max')` can be accelerated via the 'torch-scatter' package, but it was not found\n",
      "  warnings.warn(message)\n"
     ]
    },
    {
     "name": "stdout",
     "output_type": "stream",
     "text": [
      "Epoch: 182 (66.0689s), train_loss: 0.1992, val_loss: 0.2598, train_acc: 0.9253, val_acc:0.9042\n",
      "\t\ttrain_roc: 0.9721, val_roc: 0.9612, train_auprc: 0.9644, val_auprc: 0.9549\n"
     ]
    },
    {
     "name": "stderr",
     "output_type": "stream",
     "text": [
      "/home/namle/.local/lib/python3.10/site-packages/torch_geometric/warnings.py:11: UserWarning: The usage of `scatter(reduce='max')` can be accelerated via the 'torch-scatter' package, but it was not found\n",
      "  warnings.warn(message)\n"
     ]
    },
    {
     "name": "stdout",
     "output_type": "stream",
     "text": [
      "Epoch: 183 (65.9916s), train_loss: 0.1988, val_loss: 0.2623, train_acc: 0.9264, val_acc:0.9037\n",
      "\t\ttrain_roc: 0.9720, val_roc: 0.9602, train_auprc: 0.9639, val_auprc: 0.9535\n"
     ]
    },
    {
     "name": "stderr",
     "output_type": "stream",
     "text": [
      "/home/namle/.local/lib/python3.10/site-packages/torch_geometric/warnings.py:11: UserWarning: The usage of `scatter(reduce='max')` can be accelerated via the 'torch-scatter' package, but it was not found\n",
      "  warnings.warn(message)\n"
     ]
    },
    {
     "name": "stdout",
     "output_type": "stream",
     "text": [
      "Epoch: 184 (65.7285s), train_loss: 0.1967, val_loss: 0.2603, train_acc: 0.9268, val_acc:0.9047\n",
      "\t\ttrain_roc: 0.9726, val_roc: 0.9609, train_auprc: 0.9652, val_auprc: 0.9538\n"
     ]
    },
    {
     "name": "stderr",
     "output_type": "stream",
     "text": [
      "/home/namle/.local/lib/python3.10/site-packages/torch_geometric/warnings.py:11: UserWarning: The usage of `scatter(reduce='max')` can be accelerated via the 'torch-scatter' package, but it was not found\n",
      "  warnings.warn(message)\n"
     ]
    },
    {
     "name": "stdout",
     "output_type": "stream",
     "text": [
      "Epoch: 185 (65.9886s), train_loss: 0.1982, val_loss: 0.2633, train_acc: 0.9259, val_acc:0.9027\n",
      "\t\ttrain_roc: 0.9723, val_roc: 0.9599, train_auprc: 0.9646, val_auprc: 0.9533\n"
     ]
    },
    {
     "name": "stderr",
     "output_type": "stream",
     "text": [
      "/home/namle/.local/lib/python3.10/site-packages/torch_geometric/warnings.py:11: UserWarning: The usage of `scatter(reduce='max')` can be accelerated via the 'torch-scatter' package, but it was not found\n",
      "  warnings.warn(message)\n"
     ]
    },
    {
     "name": "stdout",
     "output_type": "stream",
     "text": [
      "Epoch: 186 (65.8919s), train_loss: 0.1991, val_loss: 0.2618, train_acc: 0.9261, val_acc:0.9036\n",
      "\t\ttrain_roc: 0.9719, val_roc: 0.9603, train_auprc: 0.9638, val_auprc: 0.9534\n"
     ]
    },
    {
     "name": "stderr",
     "output_type": "stream",
     "text": [
      "/home/namle/.local/lib/python3.10/site-packages/torch_geometric/warnings.py:11: UserWarning: The usage of `scatter(reduce='max')` can be accelerated via the 'torch-scatter' package, but it was not found\n",
      "  warnings.warn(message)\n"
     ]
    },
    {
     "name": "stdout",
     "output_type": "stream",
     "text": [
      "Epoch: 187 (65.6700s), train_loss: 0.1976, val_loss: 0.2618, train_acc: 0.9263, val_acc:0.9032\n",
      "\t\ttrain_roc: 0.9725, val_roc: 0.9605, train_auprc: 0.9650, val_auprc: 0.9543\n"
     ]
    },
    {
     "name": "stderr",
     "output_type": "stream",
     "text": [
      "/home/namle/.local/lib/python3.10/site-packages/torch_geometric/warnings.py:11: UserWarning: The usage of `scatter(reduce='max')` can be accelerated via the 'torch-scatter' package, but it was not found\n",
      "  warnings.warn(message)\n"
     ]
    },
    {
     "name": "stdout",
     "output_type": "stream",
     "text": [
      "Epoch: 188 (65.7089s), train_loss: 0.1965, val_loss: 0.2641, train_acc: 0.9269, val_acc:0.9023\n",
      "\t\ttrain_roc: 0.9728, val_roc: 0.9597, train_auprc: 0.9652, val_auprc: 0.9529\n"
     ]
    },
    {
     "name": "stderr",
     "output_type": "stream",
     "text": [
      "/home/namle/.local/lib/python3.10/site-packages/torch_geometric/warnings.py:11: UserWarning: The usage of `scatter(reduce='max')` can be accelerated via the 'torch-scatter' package, but it was not found\n",
      "  warnings.warn(message)\n"
     ]
    },
    {
     "name": "stdout",
     "output_type": "stream",
     "text": [
      "Epoch: 189 (65.8257s), train_loss: 0.1982, val_loss: 0.2607, train_acc: 0.9264, val_acc:0.9039\n",
      "\t\ttrain_roc: 0.9722, val_roc: 0.9611, train_auprc: 0.9646, val_auprc: 0.9545\n"
     ]
    },
    {
     "name": "stderr",
     "output_type": "stream",
     "text": [
      "/home/namle/.local/lib/python3.10/site-packages/torch_geometric/warnings.py:11: UserWarning: The usage of `scatter(reduce='max')` can be accelerated via the 'torch-scatter' package, but it was not found\n",
      "  warnings.warn(message)\n"
     ]
    },
    {
     "name": "stdout",
     "output_type": "stream",
     "text": [
      "Epoch: 190 (65.5288s), train_loss: 0.1971, val_loss: 0.2651, train_acc: 0.9258, val_acc:0.9017\n",
      "\t\ttrain_roc: 0.9728, val_roc: 0.9595, train_auprc: 0.9653, val_auprc: 0.9523\n"
     ]
    },
    {
     "name": "stderr",
     "output_type": "stream",
     "text": [
      "/home/namle/.local/lib/python3.10/site-packages/torch_geometric/warnings.py:11: UserWarning: The usage of `scatter(reduce='max')` can be accelerated via the 'torch-scatter' package, but it was not found\n",
      "  warnings.warn(message)\n"
     ]
    },
    {
     "name": "stdout",
     "output_type": "stream",
     "text": [
      "Epoch: 191 (65.7696s), train_loss: 0.1985, val_loss: 0.2616, train_acc: 0.9263, val_acc:0.9033\n",
      "\t\ttrain_roc: 0.9721, val_roc: 0.9606, train_auprc: 0.9641, val_auprc: 0.9543\n"
     ]
    },
    {
     "name": "stderr",
     "output_type": "stream",
     "text": [
      "/home/namle/.local/lib/python3.10/site-packages/torch_geometric/warnings.py:11: UserWarning: The usage of `scatter(reduce='max')` can be accelerated via the 'torch-scatter' package, but it was not found\n",
      "  warnings.warn(message)\n"
     ]
    },
    {
     "name": "stdout",
     "output_type": "stream",
     "text": [
      "Epoch: 192 (65.7066s), train_loss: 0.1982, val_loss: 0.2616, train_acc: 0.9259, val_acc:0.9034\n",
      "\t\ttrain_roc: 0.9724, val_roc: 0.9607, train_auprc: 0.9648, val_auprc: 0.9540\n"
     ]
    },
    {
     "name": "stderr",
     "output_type": "stream",
     "text": [
      "/home/namle/.local/lib/python3.10/site-packages/torch_geometric/warnings.py:11: UserWarning: The usage of `scatter(reduce='max')` can be accelerated via the 'torch-scatter' package, but it was not found\n",
      "  warnings.warn(message)\n"
     ]
    },
    {
     "name": "stdout",
     "output_type": "stream",
     "text": [
      "Epoch: 193 (65.7710s), train_loss: 0.1988, val_loss: 0.2621, train_acc: 0.9260, val_acc:0.9036\n",
      "\t\ttrain_roc: 0.9722, val_roc: 0.9604, train_auprc: 0.9643, val_auprc: 0.9536\n"
     ]
    },
    {
     "name": "stderr",
     "output_type": "stream",
     "text": [
      "/home/namle/.local/lib/python3.10/site-packages/torch_geometric/warnings.py:11: UserWarning: The usage of `scatter(reduce='max')` can be accelerated via the 'torch-scatter' package, but it was not found\n",
      "  warnings.warn(message)\n"
     ]
    },
    {
     "name": "stdout",
     "output_type": "stream",
     "text": [
      "Epoch: 194 (65.6539s), train_loss: 0.1975, val_loss: 0.2604, train_acc: 0.9263, val_acc:0.9040\n",
      "\t\ttrain_roc: 0.9725, val_roc: 0.9609, train_auprc: 0.9649, val_auprc: 0.9546\n"
     ]
    },
    {
     "name": "stderr",
     "output_type": "stream",
     "text": [
      "/home/namle/.local/lib/python3.10/site-packages/torch_geometric/warnings.py:11: UserWarning: The usage of `scatter(reduce='max')` can be accelerated via the 'torch-scatter' package, but it was not found\n",
      "  warnings.warn(message)\n"
     ]
    },
    {
     "name": "stdout",
     "output_type": "stream",
     "text": [
      "Epoch: 195 (65.6371s), train_loss: 0.1980, val_loss: 0.2619, train_acc: 0.9262, val_acc:0.9034\n",
      "\t\ttrain_roc: 0.9722, val_roc: 0.9606, train_auprc: 0.9644, val_auprc: 0.9539\n"
     ]
    },
    {
     "name": "stderr",
     "output_type": "stream",
     "text": [
      "/home/namle/.local/lib/python3.10/site-packages/torch_geometric/warnings.py:11: UserWarning: The usage of `scatter(reduce='max')` can be accelerated via the 'torch-scatter' package, but it was not found\n",
      "  warnings.warn(message)\n"
     ]
    },
    {
     "name": "stdout",
     "output_type": "stream",
     "text": [
      "Epoch: 196 (65.8680s), train_loss: 0.1972, val_loss: 0.2608, train_acc: 0.9262, val_acc:0.9048\n",
      "\t\ttrain_roc: 0.9726, val_roc: 0.9606, train_auprc: 0.9652, val_auprc: 0.9538\n"
     ]
    },
    {
     "name": "stderr",
     "output_type": "stream",
     "text": [
      "/home/namle/.local/lib/python3.10/site-packages/torch_geometric/warnings.py:11: UserWarning: The usage of `scatter(reduce='max')` can be accelerated via the 'torch-scatter' package, but it was not found\n",
      "  warnings.warn(message)\n"
     ]
    },
    {
     "name": "stdout",
     "output_type": "stream",
     "text": [
      "Epoch: 197 (65.5499s), train_loss: 0.1970, val_loss: 0.2610, train_acc: 0.9267, val_acc:0.9047\n",
      "\t\ttrain_roc: 0.9726, val_roc: 0.9607, train_auprc: 0.9651, val_auprc: 0.9540\n"
     ]
    },
    {
     "name": "stderr",
     "output_type": "stream",
     "text": [
      "/home/namle/.local/lib/python3.10/site-packages/torch_geometric/warnings.py:11: UserWarning: The usage of `scatter(reduce='max')` can be accelerated via the 'torch-scatter' package, but it was not found\n",
      "  warnings.warn(message)\n"
     ]
    },
    {
     "name": "stdout",
     "output_type": "stream",
     "text": [
      "Epoch: 198 (65.9269s), train_loss: 0.1974, val_loss: 0.2629, train_acc: 0.9262, val_acc:0.9031\n",
      "\t\ttrain_roc: 0.9726, val_roc: 0.9601, train_auprc: 0.9651, val_auprc: 0.9535\n"
     ]
    },
    {
     "name": "stderr",
     "output_type": "stream",
     "text": [
      "/home/namle/.local/lib/python3.10/site-packages/torch_geometric/warnings.py:11: UserWarning: The usage of `scatter(reduce='max')` can be accelerated via the 'torch-scatter' package, but it was not found\n",
      "  warnings.warn(message)\n"
     ]
    },
    {
     "name": "stdout",
     "output_type": "stream",
     "text": [
      "Epoch: 199 (65.7394s), train_loss: 0.1960, val_loss: 0.2636, train_acc: 0.9270, val_acc:0.9031\n",
      "\t\ttrain_roc: 0.9730, val_roc: 0.9598, train_auprc: 0.9656, val_auprc: 0.9530\n"
     ]
    },
    {
     "name": "stderr",
     "output_type": "stream",
     "text": [
      "/home/namle/.local/lib/python3.10/site-packages/torch_geometric/warnings.py:11: UserWarning: The usage of `scatter(reduce='max')` can be accelerated via the 'torch-scatter' package, but it was not found\n",
      "  warnings.warn(message)\n"
     ]
    },
    {
     "name": "stdout",
     "output_type": "stream",
     "text": [
      "Epoch: 200 (65.7245s), train_loss: 0.1977, val_loss: 0.2610, train_acc: 0.9266, val_acc:0.9040\n",
      "\t\ttrain_roc: 0.9724, val_roc: 0.9606, train_auprc: 0.9647, val_auprc: 0.9539\n"
     ]
    },
    {
     "name": "stderr",
     "output_type": "stream",
     "text": [
      "/home/namle/.local/lib/python3.10/site-packages/torch_geometric/warnings.py:11: UserWarning: The usage of `scatter(reduce='max')` can be accelerated via the 'torch-scatter' package, but it was not found\n",
      "  warnings.warn(message)\n"
     ]
    },
    {
     "name": "stdout",
     "output_type": "stream",
     "text": [
      "Epoch: 201 (65.6936s), train_loss: 0.1971, val_loss: 0.2639, train_acc: 0.9266, val_acc:0.9033\n",
      "\t\ttrain_roc: 0.9725, val_roc: 0.9595, train_auprc: 0.9649, val_auprc: 0.9518\n"
     ]
    },
    {
     "name": "stderr",
     "output_type": "stream",
     "text": [
      "/home/namle/.local/lib/python3.10/site-packages/torch_geometric/warnings.py:11: UserWarning: The usage of `scatter(reduce='max')` can be accelerated via the 'torch-scatter' package, but it was not found\n",
      "  warnings.warn(message)\n"
     ]
    },
    {
     "name": "stdout",
     "output_type": "stream",
     "text": [
      "Epoch: 202 (65.8283s), train_loss: 0.1991, val_loss: 0.2624, train_acc: 0.9262, val_acc:0.9033\n",
      "\t\ttrain_roc: 0.9719, val_roc: 0.9603, train_auprc: 0.9638, val_auprc: 0.9541\n"
     ]
    },
    {
     "name": "stderr",
     "output_type": "stream",
     "text": [
      "/home/namle/.local/lib/python3.10/site-packages/torch_geometric/warnings.py:11: UserWarning: The usage of `scatter(reduce='max')` can be accelerated via the 'torch-scatter' package, but it was not found\n",
      "  warnings.warn(message)\n"
     ]
    },
    {
     "name": "stdout",
     "output_type": "stream",
     "text": [
      "Epoch: 203 (66.0427s), train_loss: 0.1982, val_loss: 0.2612, train_acc: 0.9262, val_acc:0.9041\n",
      "\t\ttrain_roc: 0.9723, val_roc: 0.9606, train_auprc: 0.9644, val_auprc: 0.9536\n"
     ]
    },
    {
     "name": "stderr",
     "output_type": "stream",
     "text": [
      "/home/namle/.local/lib/python3.10/site-packages/torch_geometric/warnings.py:11: UserWarning: The usage of `scatter(reduce='max')` can be accelerated via the 'torch-scatter' package, but it was not found\n",
      "  warnings.warn(message)\n"
     ]
    },
    {
     "name": "stdout",
     "output_type": "stream",
     "text": [
      "Epoch: 204 (65.6288s), train_loss: 0.1992, val_loss: 0.2636, train_acc: 0.9255, val_acc:0.9031\n",
      "\t\ttrain_roc: 0.9719, val_roc: 0.9599, train_auprc: 0.9641, val_auprc: 0.9529\n"
     ]
    },
    {
     "name": "stderr",
     "output_type": "stream",
     "text": [
      "/home/namle/.local/lib/python3.10/site-packages/torch_geometric/warnings.py:11: UserWarning: The usage of `scatter(reduce='max')` can be accelerated via the 'torch-scatter' package, but it was not found\n",
      "  warnings.warn(message)\n"
     ]
    },
    {
     "name": "stdout",
     "output_type": "stream",
     "text": [
      "Epoch: 205 (65.9584s), train_loss: 0.1975, val_loss: 0.2645, train_acc: 0.9261, val_acc:0.9032\n",
      "\t\ttrain_roc: 0.9725, val_roc: 0.9594, train_auprc: 0.9648, val_auprc: 0.9518\n"
     ]
    },
    {
     "name": "stderr",
     "output_type": "stream",
     "text": [
      "/home/namle/.local/lib/python3.10/site-packages/torch_geometric/warnings.py:11: UserWarning: The usage of `scatter(reduce='max')` can be accelerated via the 'torch-scatter' package, but it was not found\n",
      "  warnings.warn(message)\n"
     ]
    },
    {
     "name": "stdout",
     "output_type": "stream",
     "text": [
      "Epoch: 206 (65.6946s), train_loss: 0.1982, val_loss: 0.2628, train_acc: 0.9259, val_acc:0.9029\n",
      "\t\ttrain_roc: 0.9723, val_roc: 0.9600, train_auprc: 0.9645, val_auprc: 0.9536\n"
     ]
    },
    {
     "name": "stderr",
     "output_type": "stream",
     "text": [
      "/home/namle/.local/lib/python3.10/site-packages/torch_geometric/warnings.py:11: UserWarning: The usage of `scatter(reduce='max')` can be accelerated via the 'torch-scatter' package, but it was not found\n",
      "  warnings.warn(message)\n"
     ]
    },
    {
     "name": "stdout",
     "output_type": "stream",
     "text": [
      "Epoch: 207 (65.8561s), train_loss: 0.1971, val_loss: 0.2644, train_acc: 0.9271, val_acc:0.9026\n",
      "\t\ttrain_roc: 0.9724, val_roc: 0.9594, train_auprc: 0.9645, val_auprc: 0.9522\n"
     ]
    },
    {
     "name": "stderr",
     "output_type": "stream",
     "text": [
      "/home/namle/.local/lib/python3.10/site-packages/torch_geometric/warnings.py:11: UserWarning: The usage of `scatter(reduce='max')` can be accelerated via the 'torch-scatter' package, but it was not found\n",
      "  warnings.warn(message)\n"
     ]
    },
    {
     "name": "stdout",
     "output_type": "stream",
     "text": [
      "Epoch: 208 (65.8182s), train_loss: 0.1981, val_loss: 0.2641, train_acc: 0.9258, val_acc:0.9030\n",
      "\t\ttrain_roc: 0.9723, val_roc: 0.9597, train_auprc: 0.9648, val_auprc: 0.9521\n"
     ]
    },
    {
     "name": "stderr",
     "output_type": "stream",
     "text": [
      "/home/namle/.local/lib/python3.10/site-packages/torch_geometric/warnings.py:11: UserWarning: The usage of `scatter(reduce='max')` can be accelerated via the 'torch-scatter' package, but it was not found\n",
      "  warnings.warn(message)\n"
     ]
    },
    {
     "name": "stdout",
     "output_type": "stream",
     "text": [
      "Epoch: 209 (65.8535s), train_loss: 0.1981, val_loss: 0.2633, train_acc: 0.9256, val_acc:0.9035\n",
      "\t\ttrain_roc: 0.9723, val_roc: 0.9598, train_auprc: 0.9647, val_auprc: 0.9524\n"
     ]
    },
    {
     "name": "stderr",
     "output_type": "stream",
     "text": [
      "/home/namle/.local/lib/python3.10/site-packages/torch_geometric/warnings.py:11: UserWarning: The usage of `scatter(reduce='max')` can be accelerated via the 'torch-scatter' package, but it was not found\n",
      "  warnings.warn(message)\n"
     ]
    },
    {
     "name": "stdout",
     "output_type": "stream",
     "text": [
      "Saving model acc\n",
      "Epoch: 210 (65.8106s), train_loss: 0.1962, val_loss: 0.2585, train_acc: 0.9269, val_acc:0.9052\n",
      "\t\ttrain_roc: 0.9728, val_roc: 0.9615, train_auprc: 0.9653, val_auprc: 0.9547\n"
     ]
    },
    {
     "name": "stderr",
     "output_type": "stream",
     "text": [
      "/home/namle/.local/lib/python3.10/site-packages/torch_geometric/warnings.py:11: UserWarning: The usage of `scatter(reduce='max')` can be accelerated via the 'torch-scatter' package, but it was not found\n",
      "  warnings.warn(message)\n"
     ]
    },
    {
     "name": "stdout",
     "output_type": "stream",
     "text": [
      "Epoch: 211 (65.6907s), train_loss: 0.1986, val_loss: 0.2613, train_acc: 0.9262, val_acc:0.9032\n",
      "\t\ttrain_roc: 0.9722, val_roc: 0.9606, train_auprc: 0.9642, val_auprc: 0.9540\n"
     ]
    },
    {
     "name": "stderr",
     "output_type": "stream",
     "text": [
      "/home/namle/.local/lib/python3.10/site-packages/torch_geometric/warnings.py:11: UserWarning: The usage of `scatter(reduce='max')` can be accelerated via the 'torch-scatter' package, but it was not found\n",
      "  warnings.warn(message)\n"
     ]
    },
    {
     "name": "stdout",
     "output_type": "stream",
     "text": [
      "Epoch: 212 (65.7156s), train_loss: 0.1975, val_loss: 0.2639, train_acc: 0.9265, val_acc:0.9019\n",
      "\t\ttrain_roc: 0.9724, val_roc: 0.9599, train_auprc: 0.9647, val_auprc: 0.9533\n"
     ]
    },
    {
     "name": "stderr",
     "output_type": "stream",
     "text": [
      "/home/namle/.local/lib/python3.10/site-packages/torch_geometric/warnings.py:11: UserWarning: The usage of `scatter(reduce='max')` can be accelerated via the 'torch-scatter' package, but it was not found\n",
      "  warnings.warn(message)\n"
     ]
    },
    {
     "name": "stdout",
     "output_type": "stream",
     "text": [
      "Epoch: 213 (65.8398s), train_loss: 0.1976, val_loss: 0.2634, train_acc: 0.9264, val_acc:0.9025\n",
      "\t\ttrain_roc: 0.9725, val_roc: 0.9600, train_auprc: 0.9646, val_auprc: 0.9529\n"
     ]
    },
    {
     "name": "stderr",
     "output_type": "stream",
     "text": [
      "/home/namle/.local/lib/python3.10/site-packages/torch_geometric/warnings.py:11: UserWarning: The usage of `scatter(reduce='max')` can be accelerated via the 'torch-scatter' package, but it was not found\n",
      "  warnings.warn(message)\n"
     ]
    },
    {
     "name": "stdout",
     "output_type": "stream",
     "text": [
      "Epoch: 214 (65.8848s), train_loss: 0.1976, val_loss: 0.2607, train_acc: 0.9263, val_acc:0.9040\n",
      "\t\ttrain_roc: 0.9725, val_roc: 0.9607, train_auprc: 0.9649, val_auprc: 0.9539\n"
     ]
    },
    {
     "name": "stderr",
     "output_type": "stream",
     "text": [
      "/home/namle/.local/lib/python3.10/site-packages/torch_geometric/warnings.py:11: UserWarning: The usage of `scatter(reduce='max')` can be accelerated via the 'torch-scatter' package, but it was not found\n",
      "  warnings.warn(message)\n"
     ]
    },
    {
     "name": "stdout",
     "output_type": "stream",
     "text": [
      "Epoch: 215 (65.7734s), train_loss: 0.1980, val_loss: 0.2616, train_acc: 0.9259, val_acc:0.9035\n",
      "\t\ttrain_roc: 0.9723, val_roc: 0.9606, train_auprc: 0.9646, val_auprc: 0.9538\n"
     ]
    },
    {
     "name": "stderr",
     "output_type": "stream",
     "text": [
      "/home/namle/.local/lib/python3.10/site-packages/torch_geometric/warnings.py:11: UserWarning: The usage of `scatter(reduce='max')` can be accelerated via the 'torch-scatter' package, but it was not found\n",
      "  warnings.warn(message)\n"
     ]
    },
    {
     "name": "stdout",
     "output_type": "stream",
     "text": [
      "Epoch: 216 (65.7713s), train_loss: 0.1979, val_loss: 0.2614, train_acc: 0.9262, val_acc:0.9038\n",
      "\t\ttrain_roc: 0.9723, val_roc: 0.9605, train_auprc: 0.9646, val_auprc: 0.9538\n"
     ]
    },
    {
     "name": "stderr",
     "output_type": "stream",
     "text": [
      "/home/namle/.local/lib/python3.10/site-packages/torch_geometric/warnings.py:11: UserWarning: The usage of `scatter(reduce='max')` can be accelerated via the 'torch-scatter' package, but it was not found\n",
      "  warnings.warn(message)\n"
     ]
    },
    {
     "name": "stdout",
     "output_type": "stream",
     "text": [
      "Epoch: 217 (65.7865s), train_loss: 0.1975, val_loss: 0.2606, train_acc: 0.9260, val_acc:0.9039\n",
      "\t\ttrain_roc: 0.9726, val_roc: 0.9610, train_auprc: 0.9650, val_auprc: 0.9539\n"
     ]
    },
    {
     "name": "stderr",
     "output_type": "stream",
     "text": [
      "/home/namle/.local/lib/python3.10/site-packages/torch_geometric/warnings.py:11: UserWarning: The usage of `scatter(reduce='max')` can be accelerated via the 'torch-scatter' package, but it was not found\n",
      "  warnings.warn(message)\n"
     ]
    },
    {
     "name": "stdout",
     "output_type": "stream",
     "text": [
      "Epoch: 218 (66.0586s), train_loss: 0.1964, val_loss: 0.2630, train_acc: 0.9272, val_acc:0.9027\n",
      "\t\ttrain_roc: 0.9728, val_roc: 0.9601, train_auprc: 0.9652, val_auprc: 0.9534\n"
     ]
    },
    {
     "name": "stderr",
     "output_type": "stream",
     "text": [
      "/home/namle/.local/lib/python3.10/site-packages/torch_geometric/warnings.py:11: UserWarning: The usage of `scatter(reduce='max')` can be accelerated via the 'torch-scatter' package, but it was not found\n",
      "  warnings.warn(message)\n"
     ]
    },
    {
     "name": "stdout",
     "output_type": "stream",
     "text": [
      "Epoch: 219 (66.1122s), train_loss: 0.1985, val_loss: 0.2638, train_acc: 0.9259, val_acc:0.9033\n",
      "\t\ttrain_roc: 0.9721, val_roc: 0.9596, train_auprc: 0.9641, val_auprc: 0.9525\n"
     ]
    },
    {
     "name": "stderr",
     "output_type": "stream",
     "text": [
      "/home/namle/.local/lib/python3.10/site-packages/torch_geometric/warnings.py:11: UserWarning: The usage of `scatter(reduce='max')` can be accelerated via the 'torch-scatter' package, but it was not found\n",
      "  warnings.warn(message)\n"
     ]
    },
    {
     "name": "stdout",
     "output_type": "stream",
     "text": [
      "Epoch: 220 (65.9142s), train_loss: 0.1985, val_loss: 0.2611, train_acc: 0.9256, val_acc:0.9039\n",
      "\t\ttrain_roc: 0.9722, val_roc: 0.9607, train_auprc: 0.9644, val_auprc: 0.9544\n"
     ]
    },
    {
     "name": "stderr",
     "output_type": "stream",
     "text": [
      "/home/namle/.local/lib/python3.10/site-packages/torch_geometric/warnings.py:11: UserWarning: The usage of `scatter(reduce='max')` can be accelerated via the 'torch-scatter' package, but it was not found\n",
      "  warnings.warn(message)\n"
     ]
    },
    {
     "name": "stdout",
     "output_type": "stream",
     "text": [
      "Epoch: 221 (66.0902s), train_loss: 0.1964, val_loss: 0.2645, train_acc: 0.9269, val_acc:0.9023\n",
      "\t\ttrain_roc: 0.9728, val_roc: 0.9593, train_auprc: 0.9654, val_auprc: 0.9523\n"
     ]
    },
    {
     "name": "stderr",
     "output_type": "stream",
     "text": [
      "/home/namle/.local/lib/python3.10/site-packages/torch_geometric/warnings.py:11: UserWarning: The usage of `scatter(reduce='max')` can be accelerated via the 'torch-scatter' package, but it was not found\n",
      "  warnings.warn(message)\n"
     ]
    },
    {
     "name": "stdout",
     "output_type": "stream",
     "text": [
      "Epoch: 222 (66.0196s), train_loss: 0.1966, val_loss: 0.2639, train_acc: 0.9265, val_acc:0.9026\n",
      "\t\ttrain_roc: 0.9729, val_roc: 0.9597, train_auprc: 0.9655, val_auprc: 0.9523\n"
     ]
    },
    {
     "name": "stderr",
     "output_type": "stream",
     "text": [
      "/home/namle/.local/lib/python3.10/site-packages/torch_geometric/warnings.py:11: UserWarning: The usage of `scatter(reduce='max')` can be accelerated via the 'torch-scatter' package, but it was not found\n",
      "  warnings.warn(message)\n"
     ]
    },
    {
     "name": "stdout",
     "output_type": "stream",
     "text": [
      "Epoch: 223 (65.8668s), train_loss: 0.1964, val_loss: 0.2632, train_acc: 0.9268, val_acc:0.9029\n",
      "\t\ttrain_roc: 0.9728, val_roc: 0.9600, train_auprc: 0.9654, val_auprc: 0.9533\n"
     ]
    },
    {
     "name": "stderr",
     "output_type": "stream",
     "text": [
      "/home/namle/.local/lib/python3.10/site-packages/torch_geometric/warnings.py:11: UserWarning: The usage of `scatter(reduce='max')` can be accelerated via the 'torch-scatter' package, but it was not found\n",
      "  warnings.warn(message)\n"
     ]
    },
    {
     "name": "stdout",
     "output_type": "stream",
     "text": [
      "Epoch: 224 (66.0334s), train_loss: 0.1964, val_loss: 0.2587, train_acc: 0.9270, val_acc:0.9049\n",
      "\t\ttrain_roc: 0.9727, val_roc: 0.9615, train_auprc: 0.9652, val_auprc: 0.9553\n"
     ]
    },
    {
     "name": "stderr",
     "output_type": "stream",
     "text": [
      "/home/namle/.local/lib/python3.10/site-packages/torch_geometric/warnings.py:11: UserWarning: The usage of `scatter(reduce='max')` can be accelerated via the 'torch-scatter' package, but it was not found\n",
      "  warnings.warn(message)\n"
     ]
    },
    {
     "name": "stdout",
     "output_type": "stream",
     "text": [
      "Epoch: 225 (65.9967s), train_loss: 0.1971, val_loss: 0.2594, train_acc: 0.9267, val_acc:0.9045\n",
      "\t\ttrain_roc: 0.9726, val_roc: 0.9613, train_auprc: 0.9652, val_auprc: 0.9546\n"
     ]
    },
    {
     "name": "stderr",
     "output_type": "stream",
     "text": [
      "/home/namle/.local/lib/python3.10/site-packages/torch_geometric/warnings.py:11: UserWarning: The usage of `scatter(reduce='max')` can be accelerated via the 'torch-scatter' package, but it was not found\n",
      "  warnings.warn(message)\n"
     ]
    },
    {
     "name": "stdout",
     "output_type": "stream",
     "text": [
      "Epoch: 226 (65.9851s), train_loss: 0.1963, val_loss: 0.2630, train_acc: 0.9270, val_acc:0.9028\n",
      "\t\ttrain_roc: 0.9729, val_roc: 0.9600, train_auprc: 0.9652, val_auprc: 0.9531\n"
     ]
    },
    {
     "name": "stderr",
     "output_type": "stream",
     "text": [
      "/home/namle/.local/lib/python3.10/site-packages/torch_geometric/warnings.py:11: UserWarning: The usage of `scatter(reduce='max')` can be accelerated via the 'torch-scatter' package, but it was not found\n",
      "  warnings.warn(message)\n"
     ]
    },
    {
     "name": "stdout",
     "output_type": "stream",
     "text": [
      "Epoch: 227 (65.9558s), train_loss: 0.1972, val_loss: 0.2625, train_acc: 0.9264, val_acc:0.9023\n",
      "\t\ttrain_roc: 0.9725, val_roc: 0.9601, train_auprc: 0.9652, val_auprc: 0.9534\n"
     ]
    },
    {
     "name": "stderr",
     "output_type": "stream",
     "text": [
      "/home/namle/.local/lib/python3.10/site-packages/torch_geometric/warnings.py:11: UserWarning: The usage of `scatter(reduce='max')` can be accelerated via the 'torch-scatter' package, but it was not found\n",
      "  warnings.warn(message)\n"
     ]
    },
    {
     "name": "stdout",
     "output_type": "stream",
     "text": [
      "Epoch: 228 (66.0941s), train_loss: 0.1976, val_loss: 0.2606, train_acc: 0.9261, val_acc:0.9041\n",
      "\t\ttrain_roc: 0.9724, val_roc: 0.9608, train_auprc: 0.9648, val_auprc: 0.9545\n"
     ]
    },
    {
     "name": "stderr",
     "output_type": "stream",
     "text": [
      "/home/namle/.local/lib/python3.10/site-packages/torch_geometric/warnings.py:11: UserWarning: The usage of `scatter(reduce='max')` can be accelerated via the 'torch-scatter' package, but it was not found\n",
      "  warnings.warn(message)\n"
     ]
    },
    {
     "name": "stdout",
     "output_type": "stream",
     "text": [
      "Epoch: 229 (66.1100s), train_loss: 0.1966, val_loss: 0.2588, train_acc: 0.9263, val_acc:0.9052\n",
      "\t\ttrain_roc: 0.9728, val_roc: 0.9613, train_auprc: 0.9657, val_auprc: 0.9547\n"
     ]
    },
    {
     "name": "stderr",
     "output_type": "stream",
     "text": [
      "/home/namle/.local/lib/python3.10/site-packages/torch_geometric/warnings.py:11: UserWarning: The usage of `scatter(reduce='max')` can be accelerated via the 'torch-scatter' package, but it was not found\n",
      "  warnings.warn(message)\n"
     ]
    },
    {
     "name": "stdout",
     "output_type": "stream",
     "text": [
      "Epoch: 230 (66.0554s), train_loss: 0.1968, val_loss: 0.2639, train_acc: 0.9266, val_acc:0.9022\n",
      "\t\ttrain_roc: 0.9726, val_roc: 0.9598, train_auprc: 0.9650, val_auprc: 0.9529\n"
     ]
    },
    {
     "name": "stderr",
     "output_type": "stream",
     "text": [
      "/home/namle/.local/lib/python3.10/site-packages/torch_geometric/warnings.py:11: UserWarning: The usage of `scatter(reduce='max')` can be accelerated via the 'torch-scatter' package, but it was not found\n",
      "  warnings.warn(message)\n"
     ]
    },
    {
     "name": "stdout",
     "output_type": "stream",
     "text": [
      "Epoch: 231 (66.0024s), train_loss: 0.1977, val_loss: 0.2650, train_acc: 0.9264, val_acc:0.9020\n",
      "\t\ttrain_roc: 0.9724, val_roc: 0.9594, train_auprc: 0.9647, val_auprc: 0.9525\n"
     ]
    },
    {
     "name": "stderr",
     "output_type": "stream",
     "text": [
      "/home/namle/.local/lib/python3.10/site-packages/torch_geometric/warnings.py:11: UserWarning: The usage of `scatter(reduce='max')` can be accelerated via the 'torch-scatter' package, but it was not found\n",
      "  warnings.warn(message)\n"
     ]
    },
    {
     "name": "stdout",
     "output_type": "stream",
     "text": [
      "Epoch: 232 (66.0250s), train_loss: 0.1981, val_loss: 0.2637, train_acc: 0.9262, val_acc:0.9027\n",
      "\t\ttrain_roc: 0.9722, val_roc: 0.9599, train_auprc: 0.9646, val_auprc: 0.9524\n"
     ]
    },
    {
     "name": "stderr",
     "output_type": "stream",
     "text": [
      "/home/namle/.local/lib/python3.10/site-packages/torch_geometric/warnings.py:11: UserWarning: The usage of `scatter(reduce='max')` can be accelerated via the 'torch-scatter' package, but it was not found\n",
      "  warnings.warn(message)\n"
     ]
    },
    {
     "name": "stdout",
     "output_type": "stream",
     "text": [
      "Epoch: 233 (65.9130s), train_loss: 0.1978, val_loss: 0.2627, train_acc: 0.9258, val_acc:0.9027\n",
      "\t\ttrain_roc: 0.9725, val_roc: 0.9602, train_auprc: 0.9650, val_auprc: 0.9534\n"
     ]
    },
    {
     "name": "stderr",
     "output_type": "stream",
     "text": [
      "/home/namle/.local/lib/python3.10/site-packages/torch_geometric/warnings.py:11: UserWarning: The usage of `scatter(reduce='max')` can be accelerated via the 'torch-scatter' package, but it was not found\n",
      "  warnings.warn(message)\n"
     ]
    },
    {
     "name": "stdout",
     "output_type": "stream",
     "text": [
      "Epoch: 234 (65.8087s), train_loss: 0.1958, val_loss: 0.2635, train_acc: 0.9272, val_acc:0.9028\n",
      "\t\ttrain_roc: 0.9730, val_roc: 0.9598, train_auprc: 0.9656, val_auprc: 0.9528\n"
     ]
    },
    {
     "name": "stderr",
     "output_type": "stream",
     "text": [
      "/home/namle/.local/lib/python3.10/site-packages/torch_geometric/warnings.py:11: UserWarning: The usage of `scatter(reduce='max')` can be accelerated via the 'torch-scatter' package, but it was not found\n",
      "  warnings.warn(message)\n"
     ]
    },
    {
     "name": "stdout",
     "output_type": "stream",
     "text": [
      "Epoch: 235 (66.3531s), train_loss: 0.1981, val_loss: 0.2607, train_acc: 0.9260, val_acc:0.9039\n",
      "\t\ttrain_roc: 0.9723, val_roc: 0.9609, train_auprc: 0.9645, val_auprc: 0.9544\n"
     ]
    },
    {
     "name": "stderr",
     "output_type": "stream",
     "text": [
      "/home/namle/.local/lib/python3.10/site-packages/torch_geometric/warnings.py:11: UserWarning: The usage of `scatter(reduce='max')` can be accelerated via the 'torch-scatter' package, but it was not found\n",
      "  warnings.warn(message)\n"
     ]
    },
    {
     "name": "stdout",
     "output_type": "stream",
     "text": [
      "Epoch: 236 (65.9606s), train_loss: 0.1972, val_loss: 0.2644, train_acc: 0.9261, val_acc:0.9022\n",
      "\t\ttrain_roc: 0.9726, val_roc: 0.9594, train_auprc: 0.9650, val_auprc: 0.9523\n"
     ]
    },
    {
     "name": "stderr",
     "output_type": "stream",
     "text": [
      "/home/namle/.local/lib/python3.10/site-packages/torch_geometric/warnings.py:11: UserWarning: The usage of `scatter(reduce='max')` can be accelerated via the 'torch-scatter' package, but it was not found\n",
      "  warnings.warn(message)\n"
     ]
    },
    {
     "name": "stdout",
     "output_type": "stream",
     "text": [
      "Epoch: 237 (65.8940s), train_loss: 0.1970, val_loss: 0.2623, train_acc: 0.9265, val_acc:0.9039\n",
      "\t\ttrain_roc: 0.9727, val_roc: 0.9604, train_auprc: 0.9651, val_auprc: 0.9528\n"
     ]
    },
    {
     "name": "stderr",
     "output_type": "stream",
     "text": [
      "/home/namle/.local/lib/python3.10/site-packages/torch_geometric/warnings.py:11: UserWarning: The usage of `scatter(reduce='max')` can be accelerated via the 'torch-scatter' package, but it was not found\n",
      "  warnings.warn(message)\n"
     ]
    },
    {
     "name": "stdout",
     "output_type": "stream",
     "text": [
      "Epoch: 238 (65.8968s), train_loss: 0.1975, val_loss: 0.2642, train_acc: 0.9261, val_acc:0.9023\n",
      "\t\ttrain_roc: 0.9726, val_roc: 0.9596, train_auprc: 0.9651, val_auprc: 0.9527\n"
     ]
    },
    {
     "name": "stderr",
     "output_type": "stream",
     "text": [
      "/home/namle/.local/lib/python3.10/site-packages/torch_geometric/warnings.py:11: UserWarning: The usage of `scatter(reduce='max')` can be accelerated via the 'torch-scatter' package, but it was not found\n",
      "  warnings.warn(message)\n"
     ]
    },
    {
     "name": "stdout",
     "output_type": "stream",
     "text": [
      "Epoch: 239 (66.0945s), train_loss: 0.1978, val_loss: 0.2622, train_acc: 0.9260, val_acc:0.9034\n",
      "\t\ttrain_roc: 0.9725, val_roc: 0.9603, train_auprc: 0.9648, val_auprc: 0.9533\n"
     ]
    },
    {
     "name": "stderr",
     "output_type": "stream",
     "text": [
      "/home/namle/.local/lib/python3.10/site-packages/torch_geometric/warnings.py:11: UserWarning: The usage of `scatter(reduce='max')` can be accelerated via the 'torch-scatter' package, but it was not found\n",
      "  warnings.warn(message)\n"
     ]
    },
    {
     "name": "stdout",
     "output_type": "stream",
     "text": [
      "Epoch: 240 (65.9881s), train_loss: 0.1977, val_loss: 0.2611, train_acc: 0.9260, val_acc:0.9043\n",
      "\t\ttrain_roc: 0.9724, val_roc: 0.9607, train_auprc: 0.9647, val_auprc: 0.9537\n"
     ]
    },
    {
     "name": "stderr",
     "output_type": "stream",
     "text": [
      "/home/namle/.local/lib/python3.10/site-packages/torch_geometric/warnings.py:11: UserWarning: The usage of `scatter(reduce='max')` can be accelerated via the 'torch-scatter' package, but it was not found\n",
      "  warnings.warn(message)\n"
     ]
    },
    {
     "name": "stdout",
     "output_type": "stream",
     "text": [
      "Epoch: 241 (65.9807s), train_loss: 0.1997, val_loss: 0.2628, train_acc: 0.9251, val_acc:0.9035\n",
      "\t\ttrain_roc: 0.9718, val_roc: 0.9601, train_auprc: 0.9642, val_auprc: 0.9530\n"
     ]
    },
    {
     "name": "stderr",
     "output_type": "stream",
     "text": [
      "/home/namle/.local/lib/python3.10/site-packages/torch_geometric/warnings.py:11: UserWarning: The usage of `scatter(reduce='max')` can be accelerated via the 'torch-scatter' package, but it was not found\n",
      "  warnings.warn(message)\n"
     ]
    },
    {
     "name": "stdout",
     "output_type": "stream",
     "text": [
      "Epoch: 242 (66.0501s), train_loss: 0.1958, val_loss: 0.2641, train_acc: 0.9268, val_acc:0.9028\n",
      "\t\ttrain_roc: 0.9730, val_roc: 0.9595, train_auprc: 0.9658, val_auprc: 0.9522\n"
     ]
    },
    {
     "name": "stderr",
     "output_type": "stream",
     "text": [
      "/home/namle/.local/lib/python3.10/site-packages/torch_geometric/warnings.py:11: UserWarning: The usage of `scatter(reduce='max')` can be accelerated via the 'torch-scatter' package, but it was not found\n",
      "  warnings.warn(message)\n"
     ]
    },
    {
     "name": "stdout",
     "output_type": "stream",
     "text": [
      "Epoch: 243 (65.7602s), train_loss: 0.1975, val_loss: 0.2605, train_acc: 0.9256, val_acc:0.9037\n",
      "\t\ttrain_roc: 0.9726, val_roc: 0.9609, train_auprc: 0.9653, val_auprc: 0.9547\n"
     ]
    },
    {
     "name": "stderr",
     "output_type": "stream",
     "text": [
      "/home/namle/.local/lib/python3.10/site-packages/torch_geometric/warnings.py:11: UserWarning: The usage of `scatter(reduce='max')` can be accelerated via the 'torch-scatter' package, but it was not found\n",
      "  warnings.warn(message)\n"
     ]
    },
    {
     "name": "stdout",
     "output_type": "stream",
     "text": [
      "Epoch: 244 (65.8515s), train_loss: 0.1972, val_loss: 0.2628, train_acc: 0.9265, val_acc:0.9032\n",
      "\t\ttrain_roc: 0.9726, val_roc: 0.9600, train_auprc: 0.9649, val_auprc: 0.9531\n"
     ]
    },
    {
     "name": "stderr",
     "output_type": "stream",
     "text": [
      "/home/namle/.local/lib/python3.10/site-packages/torch_geometric/warnings.py:11: UserWarning: The usage of `scatter(reduce='max')` can be accelerated via the 'torch-scatter' package, but it was not found\n",
      "  warnings.warn(message)\n"
     ]
    },
    {
     "name": "stdout",
     "output_type": "stream",
     "text": [
      "Epoch: 245 (66.0288s), train_loss: 0.1958, val_loss: 0.2647, train_acc: 0.9266, val_acc:0.9025\n",
      "\t\ttrain_roc: 0.9730, val_roc: 0.9593, train_auprc: 0.9657, val_auprc: 0.9525\n"
     ]
    },
    {
     "name": "stderr",
     "output_type": "stream",
     "text": [
      "/home/namle/.local/lib/python3.10/site-packages/torch_geometric/warnings.py:11: UserWarning: The usage of `scatter(reduce='max')` can be accelerated via the 'torch-scatter' package, but it was not found\n",
      "  warnings.warn(message)\n"
     ]
    },
    {
     "name": "stdout",
     "output_type": "stream",
     "text": [
      "Epoch: 246 (66.4480s), train_loss: 0.1986, val_loss: 0.2600, train_acc: 0.9258, val_acc:0.9038\n",
      "\t\ttrain_roc: 0.9721, val_roc: 0.9610, train_auprc: 0.9644, val_auprc: 0.9548\n"
     ]
    },
    {
     "name": "stderr",
     "output_type": "stream",
     "text": [
      "/home/namle/.local/lib/python3.10/site-packages/torch_geometric/warnings.py:11: UserWarning: The usage of `scatter(reduce='max')` can be accelerated via the 'torch-scatter' package, but it was not found\n",
      "  warnings.warn(message)\n"
     ]
    },
    {
     "name": "stdout",
     "output_type": "stream",
     "text": [
      "Epoch: 247 (65.6766s), train_loss: 0.1972, val_loss: 0.2643, train_acc: 0.9268, val_acc:0.9022\n",
      "\t\ttrain_roc: 0.9724, val_roc: 0.9596, train_auprc: 0.9646, val_auprc: 0.9522\n"
     ]
    },
    {
     "name": "stderr",
     "output_type": "stream",
     "text": [
      "/home/namle/.local/lib/python3.10/site-packages/torch_geometric/warnings.py:11: UserWarning: The usage of `scatter(reduce='max')` can be accelerated via the 'torch-scatter' package, but it was not found\n",
      "  warnings.warn(message)\n"
     ]
    },
    {
     "name": "stdout",
     "output_type": "stream",
     "text": [
      "Epoch: 248 (65.8989s), train_loss: 0.1960, val_loss: 0.2598, train_acc: 0.9272, val_acc:0.9044\n",
      "\t\ttrain_roc: 0.9729, val_roc: 0.9611, train_auprc: 0.9652, val_auprc: 0.9547\n"
     ]
    },
    {
     "name": "stderr",
     "output_type": "stream",
     "text": [
      "/home/namle/.local/lib/python3.10/site-packages/torch_geometric/warnings.py:11: UserWarning: The usage of `scatter(reduce='max')` can be accelerated via the 'torch-scatter' package, but it was not found\n",
      "  warnings.warn(message)\n"
     ]
    },
    {
     "name": "stdout",
     "output_type": "stream",
     "text": [
      "Epoch: 249 (66.0715s), train_loss: 0.1970, val_loss: 0.2589, train_acc: 0.9265, val_acc:0.9034\n",
      "\t\ttrain_roc: 0.9725, val_roc: 0.9615, train_auprc: 0.9650, val_auprc: 0.9555\n"
     ]
    },
    {
     "name": "stderr",
     "output_type": "stream",
     "text": [
      "/home/namle/.local/lib/python3.10/site-packages/torch_geometric/warnings.py:11: UserWarning: The usage of `scatter(reduce='max')` can be accelerated via the 'torch-scatter' package, but it was not found\n",
      "  warnings.warn(message)\n"
     ]
    },
    {
     "name": "stdout",
     "output_type": "stream",
     "text": [
      "Epoch: 250 (65.8555s), train_loss: 0.1980, val_loss: 0.2609, train_acc: 0.9256, val_acc:0.9033\n",
      "\t\ttrain_roc: 0.9724, val_roc: 0.9607, train_auprc: 0.9647, val_auprc: 0.9545\n"
     ]
    },
    {
     "name": "stderr",
     "output_type": "stream",
     "text": [
      "/home/namle/.local/lib/python3.10/site-packages/torch_geometric/warnings.py:11: UserWarning: The usage of `scatter(reduce='max')` can be accelerated via the 'torch-scatter' package, but it was not found\n",
      "  warnings.warn(message)\n"
     ]
    },
    {
     "name": "stdout",
     "output_type": "stream",
     "text": [
      "Epoch: 251 (66.1556s), train_loss: 0.1968, val_loss: 0.2612, train_acc: 0.9267, val_acc:0.9041\n",
      "\t\ttrain_roc: 0.9727, val_roc: 0.9606, train_auprc: 0.9651, val_auprc: 0.9542\n"
     ]
    },
    {
     "name": "stderr",
     "output_type": "stream",
     "text": [
      "/home/namle/.local/lib/python3.10/site-packages/torch_geometric/warnings.py:11: UserWarning: The usage of `scatter(reduce='max')` can be accelerated via the 'torch-scatter' package, but it was not found\n",
      "  warnings.warn(message)\n"
     ]
    },
    {
     "name": "stdout",
     "output_type": "stream",
     "text": [
      "Epoch: 252 (66.0380s), train_loss: 0.1973, val_loss: 0.2647, train_acc: 0.9265, val_acc:0.9021\n",
      "\t\ttrain_roc: 0.9725, val_roc: 0.9595, train_auprc: 0.9648, val_auprc: 0.9521\n"
     ]
    },
    {
     "name": "stderr",
     "output_type": "stream",
     "text": [
      "/home/namle/.local/lib/python3.10/site-packages/torch_geometric/warnings.py:11: UserWarning: The usage of `scatter(reduce='max')` can be accelerated via the 'torch-scatter' package, but it was not found\n",
      "  warnings.warn(message)\n"
     ]
    },
    {
     "name": "stdout",
     "output_type": "stream",
     "text": [
      "Epoch: 253 (66.1080s), train_loss: 0.1969, val_loss: 0.2624, train_acc: 0.9265, val_acc:0.9027\n",
      "\t\ttrain_roc: 0.9726, val_roc: 0.9604, train_auprc: 0.9651, val_auprc: 0.9537\n"
     ]
    },
    {
     "name": "stderr",
     "output_type": "stream",
     "text": [
      "/home/namle/.local/lib/python3.10/site-packages/torch_geometric/warnings.py:11: UserWarning: The usage of `scatter(reduce='max')` can be accelerated via the 'torch-scatter' package, but it was not found\n",
      "  warnings.warn(message)\n"
     ]
    },
    {
     "name": "stdout",
     "output_type": "stream",
     "text": [
      "Epoch: 254 (66.1531s), train_loss: 0.1981, val_loss: 0.2607, train_acc: 0.9260, val_acc:0.9039\n",
      "\t\ttrain_roc: 0.9724, val_roc: 0.9609, train_auprc: 0.9646, val_auprc: 0.9547\n"
     ]
    },
    {
     "name": "stderr",
     "output_type": "stream",
     "text": [
      "/home/namle/.local/lib/python3.10/site-packages/torch_geometric/warnings.py:11: UserWarning: The usage of `scatter(reduce='max')` can be accelerated via the 'torch-scatter' package, but it was not found\n",
      "  warnings.warn(message)\n"
     ]
    },
    {
     "name": "stdout",
     "output_type": "stream",
     "text": [
      "Epoch: 255 (66.0399s), train_loss: 0.1980, val_loss: 0.2643, train_acc: 0.9260, val_acc:0.9024\n",
      "\t\ttrain_roc: 0.9724, val_roc: 0.9595, train_auprc: 0.9649, val_auprc: 0.9523\n"
     ]
    },
    {
     "name": "stderr",
     "output_type": "stream",
     "text": [
      "/home/namle/.local/lib/python3.10/site-packages/torch_geometric/warnings.py:11: UserWarning: The usage of `scatter(reduce='max')` can be accelerated via the 'torch-scatter' package, but it was not found\n",
      "  warnings.warn(message)\n"
     ]
    },
    {
     "name": "stdout",
     "output_type": "stream",
     "text": [
      "Epoch: 256 (66.2745s), train_loss: 0.1956, val_loss: 0.2630, train_acc: 0.9270, val_acc:0.9037\n",
      "\t\ttrain_roc: 0.9731, val_roc: 0.9601, train_auprc: 0.9657, val_auprc: 0.9528\n"
     ]
    },
    {
     "name": "stderr",
     "output_type": "stream",
     "text": [
      "/home/namle/.local/lib/python3.10/site-packages/torch_geometric/warnings.py:11: UserWarning: The usage of `scatter(reduce='max')` can be accelerated via the 'torch-scatter' package, but it was not found\n",
      "  warnings.warn(message)\n"
     ]
    },
    {
     "name": "stdout",
     "output_type": "stream",
     "text": [
      "Epoch: 257 (65.9272s), train_loss: 0.1987, val_loss: 0.2637, train_acc: 0.9258, val_acc:0.9033\n",
      "\t\ttrain_roc: 0.9721, val_roc: 0.9598, train_auprc: 0.9644, val_auprc: 0.9523\n"
     ]
    },
    {
     "name": "stderr",
     "output_type": "stream",
     "text": [
      "/home/namle/.local/lib/python3.10/site-packages/torch_geometric/warnings.py:11: UserWarning: The usage of `scatter(reduce='max')` can be accelerated via the 'torch-scatter' package, but it was not found\n",
      "  warnings.warn(message)\n"
     ]
    },
    {
     "name": "stdout",
     "output_type": "stream",
     "text": [
      "Epoch: 258 (66.0171s), train_loss: 0.1975, val_loss: 0.2614, train_acc: 0.9266, val_acc:0.9039\n",
      "\t\ttrain_roc: 0.9725, val_roc: 0.9605, train_auprc: 0.9648, val_auprc: 0.9539\n"
     ]
    },
    {
     "name": "stderr",
     "output_type": "stream",
     "text": [
      "/home/namle/.local/lib/python3.10/site-packages/torch_geometric/warnings.py:11: UserWarning: The usage of `scatter(reduce='max')` can be accelerated via the 'torch-scatter' package, but it was not found\n",
      "  warnings.warn(message)\n"
     ]
    },
    {
     "name": "stdout",
     "output_type": "stream",
     "text": [
      "Epoch: 259 (66.0062s), train_loss: 0.1967, val_loss: 0.2625, train_acc: 0.9266, val_acc:0.9034\n",
      "\t\ttrain_roc: 0.9727, val_roc: 0.9601, train_auprc: 0.9652, val_auprc: 0.9533\n"
     ]
    },
    {
     "name": "stderr",
     "output_type": "stream",
     "text": [
      "/home/namle/.local/lib/python3.10/site-packages/torch_geometric/warnings.py:11: UserWarning: The usage of `scatter(reduce='max')` can be accelerated via the 'torch-scatter' package, but it was not found\n",
      "  warnings.warn(message)\n"
     ]
    },
    {
     "name": "stdout",
     "output_type": "stream",
     "text": [
      "Epoch: 260 (66.2296s), train_loss: 0.1986, val_loss: 0.2623, train_acc: 0.9259, val_acc:0.9036\n",
      "\t\ttrain_roc: 0.9722, val_roc: 0.9604, train_auprc: 0.9645, val_auprc: 0.9531\n"
     ]
    },
    {
     "name": "stderr",
     "output_type": "stream",
     "text": [
      "/home/namle/.local/lib/python3.10/site-packages/torch_geometric/warnings.py:11: UserWarning: The usage of `scatter(reduce='max')` can be accelerated via the 'torch-scatter' package, but it was not found\n",
      "  warnings.warn(message)\n"
     ]
    },
    {
     "name": "stdout",
     "output_type": "stream",
     "text": [
      "Epoch: 261 (65.7664s), train_loss: 0.1982, val_loss: 0.2635, train_acc: 0.9259, val_acc:0.9033\n",
      "\t\ttrain_roc: 0.9722, val_roc: 0.9598, train_auprc: 0.9644, val_auprc: 0.9523\n"
     ]
    },
    {
     "name": "stderr",
     "output_type": "stream",
     "text": [
      "/home/namle/.local/lib/python3.10/site-packages/torch_geometric/warnings.py:11: UserWarning: The usage of `scatter(reduce='max')` can be accelerated via the 'torch-scatter' package, but it was not found\n",
      "  warnings.warn(message)\n"
     ]
    },
    {
     "name": "stdout",
     "output_type": "stream",
     "text": [
      "Epoch: 262 (65.8787s), train_loss: 0.1979, val_loss: 0.2659, train_acc: 0.9264, val_acc:0.9022\n",
      "\t\ttrain_roc: 0.9724, val_roc: 0.9591, train_auprc: 0.9644, val_auprc: 0.9513\n"
     ]
    },
    {
     "name": "stderr",
     "output_type": "stream",
     "text": [
      "/home/namle/.local/lib/python3.10/site-packages/torch_geometric/warnings.py:11: UserWarning: The usage of `scatter(reduce='max')` can be accelerated via the 'torch-scatter' package, but it was not found\n",
      "  warnings.warn(message)\n"
     ]
    },
    {
     "name": "stdout",
     "output_type": "stream",
     "text": [
      "Epoch: 263 (66.1853s), train_loss: 0.1984, val_loss: 0.2633, train_acc: 0.9254, val_acc:0.9027\n",
      "\t\ttrain_roc: 0.9723, val_roc: 0.9599, train_auprc: 0.9650, val_auprc: 0.9529\n"
     ]
    },
    {
     "name": "stderr",
     "output_type": "stream",
     "text": [
      "/home/namle/.local/lib/python3.10/site-packages/torch_geometric/warnings.py:11: UserWarning: The usage of `scatter(reduce='max')` can be accelerated via the 'torch-scatter' package, but it was not found\n",
      "  warnings.warn(message)\n"
     ]
    },
    {
     "name": "stdout",
     "output_type": "stream",
     "text": [
      "Epoch: 264 (66.0882s), train_loss: 0.1969, val_loss: 0.2627, train_acc: 0.9271, val_acc:0.9025\n",
      "\t\ttrain_roc: 0.9726, val_roc: 0.9600, train_auprc: 0.9648, val_auprc: 0.9536\n"
     ]
    },
    {
     "name": "stderr",
     "output_type": "stream",
     "text": [
      "/home/namle/.local/lib/python3.10/site-packages/torch_geometric/warnings.py:11: UserWarning: The usage of `scatter(reduce='max')` can be accelerated via the 'torch-scatter' package, but it was not found\n",
      "  warnings.warn(message)\n"
     ]
    },
    {
     "name": "stdout",
     "output_type": "stream",
     "text": [
      "Epoch: 265 (65.8743s), train_loss: 0.1979, val_loss: 0.2625, train_acc: 0.9259, val_acc:0.9029\n",
      "\t\ttrain_roc: 0.9725, val_roc: 0.9602, train_auprc: 0.9648, val_auprc: 0.9534\n"
     ]
    },
    {
     "name": "stderr",
     "output_type": "stream",
     "text": [
      "/home/namle/.local/lib/python3.10/site-packages/torch_geometric/warnings.py:11: UserWarning: The usage of `scatter(reduce='max')` can be accelerated via the 'torch-scatter' package, but it was not found\n",
      "  warnings.warn(message)\n"
     ]
    },
    {
     "name": "stdout",
     "output_type": "stream",
     "text": [
      "Epoch: 266 (65.8711s), train_loss: 0.1993, val_loss: 0.2616, train_acc: 0.9259, val_acc:0.9033\n",
      "\t\ttrain_roc: 0.9719, val_roc: 0.9606, train_auprc: 0.9639, val_auprc: 0.9540\n"
     ]
    },
    {
     "name": "stderr",
     "output_type": "stream",
     "text": [
      "/home/namle/.local/lib/python3.10/site-packages/torch_geometric/warnings.py:11: UserWarning: The usage of `scatter(reduce='max')` can be accelerated via the 'torch-scatter' package, but it was not found\n",
      "  warnings.warn(message)\n"
     ]
    },
    {
     "name": "stdout",
     "output_type": "stream",
     "text": [
      "Epoch: 267 (65.9476s), train_loss: 0.1972, val_loss: 0.2597, train_acc: 0.9265, val_acc:0.9052\n",
      "\t\ttrain_roc: 0.9726, val_roc: 0.9611, train_auprc: 0.9651, val_auprc: 0.9544\n"
     ]
    },
    {
     "name": "stderr",
     "output_type": "stream",
     "text": [
      "/home/namle/.local/lib/python3.10/site-packages/torch_geometric/warnings.py:11: UserWarning: The usage of `scatter(reduce='max')` can be accelerated via the 'torch-scatter' package, but it was not found\n",
      "  warnings.warn(message)\n"
     ]
    },
    {
     "name": "stdout",
     "output_type": "stream",
     "text": [
      "Epoch: 268 (66.1147s), train_loss: 0.1978, val_loss: 0.2632, train_acc: 0.9261, val_acc:0.9027\n",
      "\t\ttrain_roc: 0.9723, val_roc: 0.9601, train_auprc: 0.9645, val_auprc: 0.9528\n"
     ]
    },
    {
     "name": "stderr",
     "output_type": "stream",
     "text": [
      "/home/namle/.local/lib/python3.10/site-packages/torch_geometric/warnings.py:11: UserWarning: The usage of `scatter(reduce='max')` can be accelerated via the 'torch-scatter' package, but it was not found\n",
      "  warnings.warn(message)\n"
     ]
    },
    {
     "name": "stdout",
     "output_type": "stream",
     "text": [
      "Epoch: 269 (65.7798s), train_loss: 0.1976, val_loss: 0.2631, train_acc: 0.9266, val_acc:0.9030\n",
      "\t\ttrain_roc: 0.9724, val_roc: 0.9601, train_auprc: 0.9647, val_auprc: 0.9531\n"
     ]
    },
    {
     "name": "stderr",
     "output_type": "stream",
     "text": [
      "/home/namle/.local/lib/python3.10/site-packages/torch_geometric/warnings.py:11: UserWarning: The usage of `scatter(reduce='max')` can be accelerated via the 'torch-scatter' package, but it was not found\n",
      "  warnings.warn(message)\n"
     ]
    },
    {
     "name": "stdout",
     "output_type": "stream",
     "text": [
      "Epoch: 270 (65.8584s), train_loss: 0.1981, val_loss: 0.2617, train_acc: 0.9258, val_acc:0.9031\n",
      "\t\ttrain_roc: 0.9723, val_roc: 0.9605, train_auprc: 0.9648, val_auprc: 0.9539\n"
     ]
    },
    {
     "name": "stderr",
     "output_type": "stream",
     "text": [
      "/home/namle/.local/lib/python3.10/site-packages/torch_geometric/warnings.py:11: UserWarning: The usage of `scatter(reduce='max')` can be accelerated via the 'torch-scatter' package, but it was not found\n",
      "  warnings.warn(message)\n"
     ]
    },
    {
     "name": "stdout",
     "output_type": "stream",
     "text": [
      "Epoch: 271 (65.9513s), train_loss: 0.1983, val_loss: 0.2639, train_acc: 0.9263, val_acc:0.9030\n",
      "\t\ttrain_roc: 0.9722, val_roc: 0.9597, train_auprc: 0.9644, val_auprc: 0.9526\n"
     ]
    },
    {
     "name": "stderr",
     "output_type": "stream",
     "text": [
      "/home/namle/.local/lib/python3.10/site-packages/torch_geometric/warnings.py:11: UserWarning: The usage of `scatter(reduce='max')` can be accelerated via the 'torch-scatter' package, but it was not found\n",
      "  warnings.warn(message)\n"
     ]
    },
    {
     "name": "stdout",
     "output_type": "stream",
     "text": [
      "Epoch: 272 (65.8077s), train_loss: 0.1978, val_loss: 0.2612, train_acc: 0.9261, val_acc:0.9034\n",
      "\t\ttrain_roc: 0.9724, val_roc: 0.9606, train_auprc: 0.9648, val_auprc: 0.9540\n"
     ]
    },
    {
     "name": "stderr",
     "output_type": "stream",
     "text": [
      "/home/namle/.local/lib/python3.10/site-packages/torch_geometric/warnings.py:11: UserWarning: The usage of `scatter(reduce='max')` can be accelerated via the 'torch-scatter' package, but it was not found\n",
      "  warnings.warn(message)\n"
     ]
    },
    {
     "name": "stdout",
     "output_type": "stream",
     "text": [
      "Saving model acc\n",
      "Epoch: 273 (65.8690s), train_loss: 0.1979, val_loss: 0.2594, train_acc: 0.9264, val_acc:0.9055\n",
      "\t\ttrain_roc: 0.9724, val_roc: 0.9612, train_auprc: 0.9645, val_auprc: 0.9544\n"
     ]
    },
    {
     "name": "stderr",
     "output_type": "stream",
     "text": [
      "/home/namle/.local/lib/python3.10/site-packages/torch_geometric/warnings.py:11: UserWarning: The usage of `scatter(reduce='max')` can be accelerated via the 'torch-scatter' package, but it was not found\n",
      "  warnings.warn(message)\n"
     ]
    },
    {
     "name": "stdout",
     "output_type": "stream",
     "text": [
      "Epoch: 274 (66.1262s), train_loss: 0.1969, val_loss: 0.2621, train_acc: 0.9266, val_acc:0.9040\n",
      "\t\ttrain_roc: 0.9727, val_roc: 0.9604, train_auprc: 0.9653, val_auprc: 0.9534\n"
     ]
    },
    {
     "name": "stderr",
     "output_type": "stream",
     "text": [
      "/home/namle/.local/lib/python3.10/site-packages/torch_geometric/warnings.py:11: UserWarning: The usage of `scatter(reduce='max')` can be accelerated via the 'torch-scatter' package, but it was not found\n",
      "  warnings.warn(message)\n"
     ]
    },
    {
     "name": "stdout",
     "output_type": "stream",
     "text": [
      "Epoch: 275 (65.6897s), train_loss: 0.1961, val_loss: 0.2629, train_acc: 0.9271, val_acc:0.9032\n",
      "\t\ttrain_roc: 0.9729, val_roc: 0.9601, train_auprc: 0.9652, val_auprc: 0.9531\n"
     ]
    },
    {
     "name": "stderr",
     "output_type": "stream",
     "text": [
      "/home/namle/.local/lib/python3.10/site-packages/torch_geometric/warnings.py:11: UserWarning: The usage of `scatter(reduce='max')` can be accelerated via the 'torch-scatter' package, but it was not found\n",
      "  warnings.warn(message)\n"
     ]
    },
    {
     "name": "stdout",
     "output_type": "stream",
     "text": [
      "Epoch: 276 (65.7401s), train_loss: 0.1970, val_loss: 0.2641, train_acc: 0.9264, val_acc:0.9029\n",
      "\t\ttrain_roc: 0.9726, val_roc: 0.9596, train_auprc: 0.9652, val_auprc: 0.9523\n"
     ]
    },
    {
     "name": "stderr",
     "output_type": "stream",
     "text": [
      "/home/namle/.local/lib/python3.10/site-packages/torch_geometric/warnings.py:11: UserWarning: The usage of `scatter(reduce='max')` can be accelerated via the 'torch-scatter' package, but it was not found\n",
      "  warnings.warn(message)\n"
     ]
    },
    {
     "name": "stdout",
     "output_type": "stream",
     "text": [
      "Epoch: 277 (65.9362s), train_loss: 0.1969, val_loss: 0.2636, train_acc: 0.9262, val_acc:0.9025\n",
      "\t\ttrain_roc: 0.9727, val_roc: 0.9598, train_auprc: 0.9652, val_auprc: 0.9534\n"
     ]
    },
    {
     "name": "stderr",
     "output_type": "stream",
     "text": [
      "/home/namle/.local/lib/python3.10/site-packages/torch_geometric/warnings.py:11: UserWarning: The usage of `scatter(reduce='max')` can be accelerated via the 'torch-scatter' package, but it was not found\n",
      "  warnings.warn(message)\n"
     ]
    },
    {
     "name": "stdout",
     "output_type": "stream",
     "text": [
      "Epoch: 278 (65.8653s), train_loss: 0.1976, val_loss: 0.2630, train_acc: 0.9262, val_acc:0.9040\n",
      "\t\ttrain_roc: 0.9724, val_roc: 0.9599, train_auprc: 0.9646, val_auprc: 0.9520\n"
     ]
    },
    {
     "name": "stderr",
     "output_type": "stream",
     "text": [
      "/home/namle/.local/lib/python3.10/site-packages/torch_geometric/warnings.py:11: UserWarning: The usage of `scatter(reduce='max')` can be accelerated via the 'torch-scatter' package, but it was not found\n",
      "  warnings.warn(message)\n"
     ]
    },
    {
     "name": "stdout",
     "output_type": "stream",
     "text": [
      "Epoch: 279 (65.7579s), train_loss: 0.1982, val_loss: 0.2631, train_acc: 0.9259, val_acc:0.9022\n",
      "\t\ttrain_roc: 0.9722, val_roc: 0.9601, train_auprc: 0.9645, val_auprc: 0.9533\n"
     ]
    },
    {
     "name": "stderr",
     "output_type": "stream",
     "text": [
      "/home/namle/.local/lib/python3.10/site-packages/torch_geometric/warnings.py:11: UserWarning: The usage of `scatter(reduce='max')` can be accelerated via the 'torch-scatter' package, but it was not found\n",
      "  warnings.warn(message)\n"
     ]
    },
    {
     "name": "stdout",
     "output_type": "stream",
     "text": [
      "Epoch: 280 (65.7260s), train_loss: 0.1946, val_loss: 0.2639, train_acc: 0.9276, val_acc:0.9024\n",
      "\t\ttrain_roc: 0.9734, val_roc: 0.9598, train_auprc: 0.9662, val_auprc: 0.9528\n"
     ]
    },
    {
     "name": "stderr",
     "output_type": "stream",
     "text": [
      "/home/namle/.local/lib/python3.10/site-packages/torch_geometric/warnings.py:11: UserWarning: The usage of `scatter(reduce='max')` can be accelerated via the 'torch-scatter' package, but it was not found\n",
      "  warnings.warn(message)\n"
     ]
    },
    {
     "name": "stdout",
     "output_type": "stream",
     "text": [
      "Epoch: 281 (65.9213s), train_loss: 0.1974, val_loss: 0.2610, train_acc: 0.9267, val_acc:0.9045\n",
      "\t\ttrain_roc: 0.9725, val_roc: 0.9606, train_auprc: 0.9647, val_auprc: 0.9534\n"
     ]
    },
    {
     "name": "stderr",
     "output_type": "stream",
     "text": [
      "/home/namle/.local/lib/python3.10/site-packages/torch_geometric/warnings.py:11: UserWarning: The usage of `scatter(reduce='max')` can be accelerated via the 'torch-scatter' package, but it was not found\n",
      "  warnings.warn(message)\n"
     ]
    },
    {
     "name": "stdout",
     "output_type": "stream",
     "text": [
      "Epoch: 282 (65.9080s), train_loss: 0.1976, val_loss: 0.2654, train_acc: 0.9266, val_acc:0.9019\n",
      "\t\ttrain_roc: 0.9724, val_roc: 0.9592, train_auprc: 0.9647, val_auprc: 0.9519\n"
     ]
    },
    {
     "name": "stderr",
     "output_type": "stream",
     "text": [
      "/home/namle/.local/lib/python3.10/site-packages/torch_geometric/warnings.py:11: UserWarning: The usage of `scatter(reduce='max')` can be accelerated via the 'torch-scatter' package, but it was not found\n",
      "  warnings.warn(message)\n"
     ]
    },
    {
     "name": "stdout",
     "output_type": "stream",
     "text": [
      "Epoch: 283 (66.0387s), train_loss: 0.1981, val_loss: 0.2632, train_acc: 0.9263, val_acc:0.9030\n",
      "\t\ttrain_roc: 0.9722, val_roc: 0.9600, train_auprc: 0.9643, val_auprc: 0.9525\n"
     ]
    },
    {
     "name": "stderr",
     "output_type": "stream",
     "text": [
      "/home/namle/.local/lib/python3.10/site-packages/torch_geometric/warnings.py:11: UserWarning: The usage of `scatter(reduce='max')` can be accelerated via the 'torch-scatter' package, but it was not found\n",
      "  warnings.warn(message)\n"
     ]
    },
    {
     "name": "stdout",
     "output_type": "stream",
     "text": [
      "Epoch: 284 (66.0607s), train_loss: 0.1968, val_loss: 0.2607, train_acc: 0.9269, val_acc:0.9046\n",
      "\t\ttrain_roc: 0.9727, val_roc: 0.9609, train_auprc: 0.9650, val_auprc: 0.9537\n"
     ]
    },
    {
     "name": "stderr",
     "output_type": "stream",
     "text": [
      "/home/namle/.local/lib/python3.10/site-packages/torch_geometric/warnings.py:11: UserWarning: The usage of `scatter(reduce='max')` can be accelerated via the 'torch-scatter' package, but it was not found\n",
      "  warnings.warn(message)\n"
     ]
    },
    {
     "name": "stdout",
     "output_type": "stream",
     "text": [
      "Epoch: 285 (66.0426s), train_loss: 0.1969, val_loss: 0.2606, train_acc: 0.9268, val_acc:0.9038\n",
      "\t\ttrain_roc: 0.9725, val_roc: 0.9609, train_auprc: 0.9650, val_auprc: 0.9543\n"
     ]
    },
    {
     "name": "stderr",
     "output_type": "stream",
     "text": [
      "/home/namle/.local/lib/python3.10/site-packages/torch_geometric/warnings.py:11: UserWarning: The usage of `scatter(reduce='max')` can be accelerated via the 'torch-scatter' package, but it was not found\n",
      "  warnings.warn(message)\n"
     ]
    },
    {
     "name": "stdout",
     "output_type": "stream",
     "text": [
      "Epoch: 286 (65.9803s), train_loss: 0.1977, val_loss: 0.2596, train_acc: 0.9264, val_acc:0.9043\n",
      "\t\ttrain_roc: 0.9725, val_roc: 0.9612, train_auprc: 0.9650, val_auprc: 0.9548\n"
     ]
    },
    {
     "name": "stderr",
     "output_type": "stream",
     "text": [
      "/home/namle/.local/lib/python3.10/site-packages/torch_geometric/warnings.py:11: UserWarning: The usage of `scatter(reduce='max')` can be accelerated via the 'torch-scatter' package, but it was not found\n",
      "  warnings.warn(message)\n"
     ]
    },
    {
     "name": "stdout",
     "output_type": "stream",
     "text": [
      "Epoch: 287 (66.0772s), train_loss: 0.1977, val_loss: 0.2629, train_acc: 0.9264, val_acc:0.9026\n",
      "\t\ttrain_roc: 0.9724, val_roc: 0.9601, train_auprc: 0.9647, val_auprc: 0.9534\n"
     ]
    },
    {
     "name": "stderr",
     "output_type": "stream",
     "text": [
      "/home/namle/.local/lib/python3.10/site-packages/torch_geometric/warnings.py:11: UserWarning: The usage of `scatter(reduce='max')` can be accelerated via the 'torch-scatter' package, but it was not found\n",
      "  warnings.warn(message)\n"
     ]
    },
    {
     "name": "stdout",
     "output_type": "stream",
     "text": [
      "Epoch: 288 (66.2533s), train_loss: 0.1969, val_loss: 0.2626, train_acc: 0.9265, val_acc:0.9030\n",
      "\t\ttrain_roc: 0.9726, val_roc: 0.9601, train_auprc: 0.9651, val_auprc: 0.9532\n"
     ]
    },
    {
     "name": "stderr",
     "output_type": "stream",
     "text": [
      "/home/namle/.local/lib/python3.10/site-packages/torch_geometric/warnings.py:11: UserWarning: The usage of `scatter(reduce='max')` can be accelerated via the 'torch-scatter' package, but it was not found\n",
      "  warnings.warn(message)\n"
     ]
    },
    {
     "name": "stdout",
     "output_type": "stream",
     "text": [
      "Epoch: 289 (65.8967s), train_loss: 0.1971, val_loss: 0.2634, train_acc: 0.9265, val_acc:0.9024\n",
      "\t\ttrain_roc: 0.9726, val_roc: 0.9598, train_auprc: 0.9648, val_auprc: 0.9531\n"
     ]
    },
    {
     "name": "stderr",
     "output_type": "stream",
     "text": [
      "/home/namle/.local/lib/python3.10/site-packages/torch_geometric/warnings.py:11: UserWarning: The usage of `scatter(reduce='max')` can be accelerated via the 'torch-scatter' package, but it was not found\n",
      "  warnings.warn(message)\n"
     ]
    },
    {
     "name": "stdout",
     "output_type": "stream",
     "text": [
      "Epoch: 290 (65.7693s), train_loss: 0.1976, val_loss: 0.2613, train_acc: 0.9260, val_acc:0.9032\n",
      "\t\ttrain_roc: 0.9725, val_roc: 0.9606, train_auprc: 0.9647, val_auprc: 0.9542\n"
     ]
    },
    {
     "name": "stderr",
     "output_type": "stream",
     "text": [
      "/home/namle/.local/lib/python3.10/site-packages/torch_geometric/warnings.py:11: UserWarning: The usage of `scatter(reduce='max')` can be accelerated via the 'torch-scatter' package, but it was not found\n",
      "  warnings.warn(message)\n"
     ]
    },
    {
     "name": "stdout",
     "output_type": "stream",
     "text": [
      "Epoch: 291 (65.8926s), train_loss: 0.1975, val_loss: 0.2637, train_acc: 0.9260, val_acc:0.9025\n",
      "\t\ttrain_roc: 0.9725, val_roc: 0.9597, train_auprc: 0.9649, val_auprc: 0.9525\n"
     ]
    },
    {
     "name": "stderr",
     "output_type": "stream",
     "text": [
      "/home/namle/.local/lib/python3.10/site-packages/torch_geometric/warnings.py:11: UserWarning: The usage of `scatter(reduce='max')` can be accelerated via the 'torch-scatter' package, but it was not found\n",
      "  warnings.warn(message)\n"
     ]
    },
    {
     "name": "stdout",
     "output_type": "stream",
     "text": [
      "Epoch: 292 (65.8153s), train_loss: 0.1970, val_loss: 0.2582, train_acc: 0.9265, val_acc:0.9046\n",
      "\t\ttrain_roc: 0.9726, val_roc: 0.9617, train_auprc: 0.9651, val_auprc: 0.9560\n"
     ]
    },
    {
     "name": "stderr",
     "output_type": "stream",
     "text": [
      "/home/namle/.local/lib/python3.10/site-packages/torch_geometric/warnings.py:11: UserWarning: The usage of `scatter(reduce='max')` can be accelerated via the 'torch-scatter' package, but it was not found\n",
      "  warnings.warn(message)\n"
     ]
    },
    {
     "name": "stdout",
     "output_type": "stream",
     "text": [
      "Epoch: 293 (65.8457s), train_loss: 0.1970, val_loss: 0.2645, train_acc: 0.9266, val_acc:0.9027\n",
      "\t\ttrain_roc: 0.9727, val_roc: 0.9595, train_auprc: 0.9651, val_auprc: 0.9523\n"
     ]
    },
    {
     "name": "stderr",
     "output_type": "stream",
     "text": [
      "/home/namle/.local/lib/python3.10/site-packages/torch_geometric/warnings.py:11: UserWarning: The usage of `scatter(reduce='max')` can be accelerated via the 'torch-scatter' package, but it was not found\n",
      "  warnings.warn(message)\n"
     ]
    },
    {
     "name": "stdout",
     "output_type": "stream",
     "text": [
      "Epoch: 294 (65.8539s), train_loss: 0.1968, val_loss: 0.2620, train_acc: 0.9264, val_acc:0.9028\n",
      "\t\ttrain_roc: 0.9727, val_roc: 0.9604, train_auprc: 0.9653, val_auprc: 0.9537\n"
     ]
    },
    {
     "name": "stderr",
     "output_type": "stream",
     "text": [
      "/home/namle/.local/lib/python3.10/site-packages/torch_geometric/warnings.py:11: UserWarning: The usage of `scatter(reduce='max')` can be accelerated via the 'torch-scatter' package, but it was not found\n",
      "  warnings.warn(message)\n"
     ]
    },
    {
     "name": "stdout",
     "output_type": "stream",
     "text": [
      "Epoch: 295 (66.1649s), train_loss: 0.1981, val_loss: 0.2616, train_acc: 0.9257, val_acc:0.9034\n",
      "\t\ttrain_roc: 0.9723, val_roc: 0.9606, train_auprc: 0.9648, val_auprc: 0.9537\n"
     ]
    },
    {
     "name": "stderr",
     "output_type": "stream",
     "text": [
      "/home/namle/.local/lib/python3.10/site-packages/torch_geometric/warnings.py:11: UserWarning: The usage of `scatter(reduce='max')` can be accelerated via the 'torch-scatter' package, but it was not found\n",
      "  warnings.warn(message)\n"
     ]
    },
    {
     "name": "stdout",
     "output_type": "stream",
     "text": [
      "Epoch: 296 (65.9673s), train_loss: 0.1971, val_loss: 0.2628, train_acc: 0.9262, val_acc:0.9030\n",
      "\t\ttrain_roc: 0.9726, val_roc: 0.9601, train_auprc: 0.9649, val_auprc: 0.9532\n"
     ]
    },
    {
     "name": "stderr",
     "output_type": "stream",
     "text": [
      "/home/namle/.local/lib/python3.10/site-packages/torch_geometric/warnings.py:11: UserWarning: The usage of `scatter(reduce='max')` can be accelerated via the 'torch-scatter' package, but it was not found\n",
      "  warnings.warn(message)\n"
     ]
    },
    {
     "name": "stdout",
     "output_type": "stream",
     "text": [
      "Epoch: 297 (65.8507s), train_loss: 0.1976, val_loss: 0.2608, train_acc: 0.9262, val_acc:0.9041\n",
      "\t\ttrain_roc: 0.9725, val_roc: 0.9608, train_auprc: 0.9648, val_auprc: 0.9542\n"
     ]
    },
    {
     "name": "stderr",
     "output_type": "stream",
     "text": [
      "/home/namle/.local/lib/python3.10/site-packages/torch_geometric/warnings.py:11: UserWarning: The usage of `scatter(reduce='max')` can be accelerated via the 'torch-scatter' package, but it was not found\n",
      "  warnings.warn(message)\n"
     ]
    },
    {
     "name": "stdout",
     "output_type": "stream",
     "text": [
      "Epoch: 298 (65.9483s), train_loss: 0.1978, val_loss: 0.2618, train_acc: 0.9261, val_acc:0.9036\n",
      "\t\ttrain_roc: 0.9724, val_roc: 0.9604, train_auprc: 0.9648, val_auprc: 0.9533\n"
     ]
    },
    {
     "name": "stderr",
     "output_type": "stream",
     "text": [
      "/home/namle/.local/lib/python3.10/site-packages/torch_geometric/warnings.py:11: UserWarning: The usage of `scatter(reduce='max')` can be accelerated via the 'torch-scatter' package, but it was not found\n",
      "  warnings.warn(message)\n"
     ]
    },
    {
     "name": "stdout",
     "output_type": "stream",
     "text": [
      "Epoch: 299 (66.1771s), train_loss: 0.1957, val_loss: 0.2606, train_acc: 0.9267, val_acc:0.9047\n",
      "\t\ttrain_roc: 0.9730, val_roc: 0.9608, train_auprc: 0.9657, val_auprc: 0.9540\n"
     ]
    },
    {
     "name": "stderr",
     "output_type": "stream",
     "text": [
      "/home/namle/.local/lib/python3.10/site-packages/torch_geometric/warnings.py:11: UserWarning: The usage of `scatter(reduce='max')` can be accelerated via the 'torch-scatter' package, but it was not found\n",
      "  warnings.warn(message)\n"
     ]
    },
    {
     "name": "stdout",
     "output_type": "stream",
     "text": [
      "Epoch: 300 (65.9908s), train_loss: 0.1968, val_loss: 0.2619, train_acc: 0.9267, val_acc:0.9031\n",
      "\t\ttrain_roc: 0.9727, val_roc: 0.9604, train_auprc: 0.9652, val_auprc: 0.9543\n"
     ]
    }
   ],
   "source": [
    "if mode == \"train\":\n",
    "  # Train\n",
    "  train(\n",
    "      model,\n",
    "      train_data_loader,\n",
    "      val_data_loader,\n",
    "      loss,\n",
    "      optimizer,\n",
    "      n_epochs,\n",
    "      device,\n",
    "      scheduler,\n",
    "  )\n"
   ]
  },
  {
   "cell_type": "code",
   "execution_count": 21,
   "metadata": {
    "id": "f04DujiWugRa"
   },
   "outputs": [
    {
     "name": "stderr",
     "output_type": "stream",
     "text": [
      "/tmp/ipykernel_214085/3147495905.py:2: FutureWarning: You are using `torch.load` with `weights_only=False` (the current default value), which uses the default pickle module implicitly. It is possible to construct malicious pickle data which will execute arbitrary code during unpickling (See https://github.com/pytorch/pytorch/blob/main/SECURITY.md#untrusted-models for more details). In a future release, the default value for `weights_only` will be flipped to `True`. This limits the functions that could be executed during unpickling. Arbitrary objects will no longer be allowed to be loaded via this mode unless they are explicitly allowlisted by the user via `torch.serialization.add_safe_globals`. We recommend you start setting `weights_only=True` for any use case where you don't have full control of the loaded file. Please open an issue on GitHub for any issues related to this experimental feature.\n",
      "  model = torch.load(model_acc_file)\n"
     ]
    },
    {
     "name": "stdout",
     "output_type": "stream",
     "text": [
      "SSI_DDI(\n",
      "  (initial_norm): LayerNorm(55, affine=True, mode=graph)\n",
      "  (net_norms): ModuleList(\n",
      "    (0-4): 5 x LayerNorm(64, affine=True, mode=graph)\n",
      "  )\n",
      "  (block0): SSI_DDI_Block(\n",
      "    (conv): GATConv(55, 32, heads=2)\n",
      "    (readout): SAGPooling(GraphConv, 64, min_score=-1, multiplier=1.0)\n",
      "  )\n",
      "  (block1): SSI_DDI_Block(\n",
      "    (conv): GATConv(64, 32, heads=2)\n",
      "    (readout): SAGPooling(GraphConv, 64, min_score=-1, multiplier=1.0)\n",
      "  )\n",
      "  (block2): SSI_DDI_Block(\n",
      "    (conv): GATConv(64, 32, heads=2)\n",
      "    (readout): SAGPooling(GraphConv, 64, min_score=-1, multiplier=1.0)\n",
      "  )\n",
      "  (block3): SSI_DDI_Block(\n",
      "    (conv): GATConv(64, 32, heads=2)\n",
      "    (readout): SAGPooling(GraphConv, 64, min_score=-1, multiplier=1.0)\n",
      "  )\n",
      "  (block4): SSI_DDI_Block(\n",
      "    (conv): GATConv(64, 32, heads=2)\n",
      "    (readout): SAGPooling(GraphConv, 64, min_score=-1, multiplier=1.0)\n",
      "  )\n",
      "  (co_attention): MultiheadCoAttentionLayer(\n",
      "    (W_q): ParameterList(\n",
      "        (0): Parameter containing: [torch.float32 of size 64x32 (cuda:0)]\n",
      "        (1): Parameter containing: [torch.float32 of size 64x32 (cuda:0)]\n",
      "    )\n",
      "    (W_k): ParameterList(\n",
      "        (0): Parameter containing: [torch.float32 of size 64x32 (cuda:0)]\n",
      "        (1): Parameter containing: [torch.float32 of size 64x32 (cuda:0)]\n",
      "    )\n",
      "    (bias): ParameterList(\n",
      "        (0): Parameter containing: [torch.float32 of size 32 (cuda:0)]\n",
      "        (1): Parameter containing: [torch.float32 of size 32 (cuda:0)]\n",
      "    )\n",
      "    (dropout): Dropout(p=0.1, inplace=False)\n",
      "  )\n",
      "  (KGE): ComplEx(86, torch.Size([86, 1024]), torch.Size([86, 1024]))\n",
      ")\n",
      "Starting predicting at 2024-10-29 07:29:16.058300\n",
      "Device cuda\n",
      "Test Accuracy: 0.9059\n",
      "Test ROC AUC: 0.9609\n",
      "Test PRC AUC: 0.9539\n"
     ]
    }
   ],
   "source": [
    "# Predict\n",
    "model = torch.load(model_acc_file)\n",
    "print(model)\n",
    "model.to(device=device)\n",
    "predict(model, test_data_loader, device)"
   ]
  },
  {
   "cell_type": "code",
   "execution_count": null,
   "metadata": {},
   "outputs": [],
   "source": []
  }
 ],
 "metadata": {
  "accelerator": "GPU",
  "colab": {
   "authorship_tag": "ABX9TyPrjMB1qWDzpoQ4nNpP4AfV",
   "gpuType": "T4",
   "mount_file_id": "1SgLTMIysgeGUK6s_GjIn2Ssygt0A5LZV",
   "provenance": []
  },
  "kernelspec": {
   "display_name": "Python 3 (ipykernel)",
   "language": "python",
   "name": "python3"
  },
  "language_info": {
   "codemirror_mode": {
    "name": "ipython",
    "version": 3
   },
   "file_extension": ".py",
   "mimetype": "text/x-python",
   "name": "python",
   "nbconvert_exporter": "python",
   "pygments_lexer": "ipython3",
   "version": "3.10.12"
  }
 },
 "nbformat": 4,
 "nbformat_minor": 4
}
